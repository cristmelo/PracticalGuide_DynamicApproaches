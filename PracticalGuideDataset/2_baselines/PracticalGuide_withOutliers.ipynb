{
 "cells": [
  {
   "cell_type": "code",
   "execution_count": 1,
   "metadata": {},
   "outputs": [
    {
     "name": "stderr",
     "output_type": "stream",
     "text": [
      "C:\\Users\\cristiano.melo\\AppData\\Local\\Continuum\\anaconda3\\lib\\site-packages\\h5py\\__init__.py:36: FutureWarning: Conversion of the second argument of issubdtype from `float` to `np.floating` is deprecated. In future, it will be treated as `np.float64 == np.dtype(float).type`.\n",
      "  from ._conv import register_converters as _register_converters\n",
      "Using TensorFlow backend.\n"
     ]
    }
   ],
   "source": [
    "%run auxiliary.ipynb"
   ]
  },
  {
   "cell_type": "markdown",
   "metadata": {},
   "source": [
    "## Preprocessing"
   ]
  },
  {
   "cell_type": "code",
   "execution_count": 2,
   "metadata": {
    "scrolled": true
   },
   "outputs": [
    {
     "name": "stdout",
     "output_type": "stream",
     "text": [
      "Setting general dataframe...\n",
      "Total of instances: 11576\n",
      "... DONE!\n",
      "Filtering required columns into X features...\n",
      "... DONE!\n",
      "Setting y column containing label of change-proneness...\n",
      "... DONE!\n",
      "Declaring a dictionary to save results...\n",
      "... DONE!\n",
      "Splitting dataset into train and test sets...\n",
      "General information:\n",
      "X Train set: 8103 X Test set: 3473\n",
      "y Train set: 8103 y Test set: 3473\n",
      "... DONE!\n",
      "Scaling features...\n",
      "... DONE!\n",
      "Setting stratified k-fold...\n",
      "k = 5\n",
      "... DONE!\n",
      "\n"
     ]
    }
   ],
   "source": [
    "print(\"Setting general dataframe...\")\n",
    "all_releases_df = pd.read_csv('raw_data.csv')\n",
    "print(\"Total of instances:\", all_releases_df.shape[0])\n",
    "print(\"... DONE!\")\n",
    "\n",
    "print(\"Filtering required columns into X features...\")\n",
    "X = all_releases_df.drop(columns=['instanceID', 'classID', 'releaseID', \n",
    "                                  'class_frequency', 'number_of_changes', 'will_change', 'change_probability'])\n",
    "print(\"... DONE!\")\n",
    "\n",
    "print(\"Setting y column containing label of change-proneness...\")\n",
    "y = pd.DataFrame(all_releases_df.loc[:,'will_change'])\n",
    "print(\"... DONE!\")\n",
    "\n",
    "print(\"Declaring a dictionary to save results...\")\n",
    "results_dict = dict()\n",
    "print(\"... DONE!\")\n",
    "\n",
    "print(\"Splitting dataset into train and test sets...\")\n",
    "X_train, X_test, y_train, y_test = train_test_split(X, y, stratify=y, test_size=0.30, random_state=42)\n",
    "print(\"General information:\")\n",
    "print(\"X Train set:\", X_train.shape[0], \"X Test set:\", X_test.shape[0])\n",
    "print(\"y Train set:\", y_train.shape[0], \"y Test set:\", y_test.shape[0])\n",
    "print(\"... DONE!\")\n",
    "\n",
    "print(\"Scaling features...\")\n",
    "scaler = MinMaxScaler()\n",
    "X_train = pd.DataFrame(scaler.fit_transform(X_train))\n",
    "X_test = pd.DataFrame(scaler.fit_transform(X_test))\n",
    "print(\"... DONE!\")\n",
    "\n",
    "print(\"Setting stratified k-fold...\")\n",
    "k=5\n",
    "kf = StratifiedKFold(n_splits=k, shuffle=False, random_state=42)\n",
    "print(\"k =\", k)\n",
    "print(\"... DONE!\\n\")"
   ]
  },
  {
   "cell_type": "markdown",
   "metadata": {},
   "source": [
    "## Statistical Analysis"
   ]
  },
  {
   "cell_type": "code",
   "execution_count": 3,
   "metadata": {},
   "outputs": [
    {
     "data": {
      "text/html": [
       "<div>\n",
       "<style scoped>\n",
       "    .dataframe tbody tr th:only-of-type {\n",
       "        vertical-align: middle;\n",
       "    }\n",
       "\n",
       "    .dataframe tbody tr th {\n",
       "        vertical-align: top;\n",
       "    }\n",
       "\n",
       "    .dataframe thead th {\n",
       "        text-align: right;\n",
       "    }\n",
       "</style>\n",
       "<table border=\"1\" class=\"dataframe\">\n",
       "  <thead>\n",
       "    <tr style=\"text-align: right;\">\n",
       "      <th></th>\n",
       "      <th>instanceID</th>\n",
       "      <th>classID</th>\n",
       "      <th>releaseID</th>\n",
       "      <th>CBO</th>\n",
       "      <th>CC</th>\n",
       "      <th>DIT</th>\n",
       "      <th>LCOM</th>\n",
       "      <th>LOC</th>\n",
       "      <th>NOC</th>\n",
       "      <th>RFC</th>\n",
       "      <th>WMC</th>\n",
       "      <th>class_frequency</th>\n",
       "      <th>number_of_changes</th>\n",
       "      <th>will_change</th>\n",
       "      <th>change_probability</th>\n",
       "    </tr>\n",
       "  </thead>\n",
       "  <tbody>\n",
       "    <tr>\n",
       "      <th>count</th>\n",
       "      <td>11576.000000</td>\n",
       "      <td>1.157600e+04</td>\n",
       "      <td>11576.000000</td>\n",
       "      <td>11576.000000</td>\n",
       "      <td>11576.000000</td>\n",
       "      <td>11576.000000</td>\n",
       "      <td>11576.000000</td>\n",
       "      <td>11576.000000</td>\n",
       "      <td>11576.000000</td>\n",
       "      <td>11576.000000</td>\n",
       "      <td>11576.000000</td>\n",
       "      <td>11576.000000</td>\n",
       "      <td>11576.000000</td>\n",
       "      <td>11576.000000</td>\n",
       "      <td>11576.000000</td>\n",
       "    </tr>\n",
       "    <tr>\n",
       "      <th>mean</th>\n",
       "      <td>5788.500000</td>\n",
       "      <td>9.148070e+18</td>\n",
       "      <td>4.980736</td>\n",
       "      <td>5.731513</td>\n",
       "      <td>12.279976</td>\n",
       "      <td>0.737474</td>\n",
       "      <td>0.143208</td>\n",
       "      <td>25.408431</td>\n",
       "      <td>0.445836</td>\n",
       "      <td>7.048981</td>\n",
       "      <td>1.235228</td>\n",
       "      <td>3.253455</td>\n",
       "      <td>0.074724</td>\n",
       "      <td>0.027039</td>\n",
       "      <td>0.016102</td>\n",
       "    </tr>\n",
       "    <tr>\n",
       "      <th>std</th>\n",
       "      <td>3341.847693</td>\n",
       "      <td>5.334891e+18</td>\n",
       "      <td>2.099896</td>\n",
       "      <td>9.568403</td>\n",
       "      <td>22.150706</td>\n",
       "      <td>1.602837</td>\n",
       "      <td>0.267863</td>\n",
       "      <td>66.493345</td>\n",
       "      <td>5.198372</td>\n",
       "      <td>18.958755</td>\n",
       "      <td>3.239050</td>\n",
       "      <td>1.767779</td>\n",
       "      <td>0.330764</td>\n",
       "      <td>0.162203</td>\n",
       "      <td>0.071078</td>\n",
       "    </tr>\n",
       "    <tr>\n",
       "      <th>min</th>\n",
       "      <td>1.000000</td>\n",
       "      <td>1.733956e+15</td>\n",
       "      <td>1.000000</td>\n",
       "      <td>0.000000</td>\n",
       "      <td>0.000000</td>\n",
       "      <td>0.000000</td>\n",
       "      <td>0.000000</td>\n",
       "      <td>0.000000</td>\n",
       "      <td>0.000000</td>\n",
       "      <td>0.000000</td>\n",
       "      <td>0.000000</td>\n",
       "      <td>1.000000</td>\n",
       "      <td>0.000000</td>\n",
       "      <td>0.000000</td>\n",
       "      <td>0.000000</td>\n",
       "    </tr>\n",
       "    <tr>\n",
       "      <th>25%</th>\n",
       "      <td>2894.750000</td>\n",
       "      <td>4.535835e+18</td>\n",
       "      <td>3.000000</td>\n",
       "      <td>0.000000</td>\n",
       "      <td>3.000000</td>\n",
       "      <td>0.000000</td>\n",
       "      <td>0.000000</td>\n",
       "      <td>5.000000</td>\n",
       "      <td>0.000000</td>\n",
       "      <td>0.000000</td>\n",
       "      <td>0.000000</td>\n",
       "      <td>2.000000</td>\n",
       "      <td>0.000000</td>\n",
       "      <td>0.000000</td>\n",
       "      <td>0.000000</td>\n",
       "    </tr>\n",
       "    <tr>\n",
       "      <th>50%</th>\n",
       "      <td>5788.500000</td>\n",
       "      <td>9.219503e+18</td>\n",
       "      <td>5.000000</td>\n",
       "      <td>3.000000</td>\n",
       "      <td>7.000000</td>\n",
       "      <td>0.000000</td>\n",
       "      <td>0.000000</td>\n",
       "      <td>9.000000</td>\n",
       "      <td>0.000000</td>\n",
       "      <td>1.000000</td>\n",
       "      <td>0.000000</td>\n",
       "      <td>3.000000</td>\n",
       "      <td>0.000000</td>\n",
       "      <td>0.000000</td>\n",
       "      <td>0.000000</td>\n",
       "    </tr>\n",
       "    <tr>\n",
       "      <th>75%</th>\n",
       "      <td>8682.250000</td>\n",
       "      <td>1.373644e+19</td>\n",
       "      <td>7.000000</td>\n",
       "      <td>7.000000</td>\n",
       "      <td>13.000000</td>\n",
       "      <td>0.000000</td>\n",
       "      <td>0.000000</td>\n",
       "      <td>21.000000</td>\n",
       "      <td>0.000000</td>\n",
       "      <td>6.000000</td>\n",
       "      <td>1.000000</td>\n",
       "      <td>5.000000</td>\n",
       "      <td>0.000000</td>\n",
       "      <td>0.000000</td>\n",
       "      <td>0.000000</td>\n",
       "    </tr>\n",
       "    <tr>\n",
       "      <th>max</th>\n",
       "      <td>11576.000000</td>\n",
       "      <td>1.843342e+19</td>\n",
       "      <td>8.000000</td>\n",
       "      <td>162.000000</td>\n",
       "      <td>488.000000</td>\n",
       "      <td>7.000000</td>\n",
       "      <td>1.000000</td>\n",
       "      <td>1369.000000</td>\n",
       "      <td>189.000000</td>\n",
       "      <td>413.000000</td>\n",
       "      <td>56.000000</td>\n",
       "      <td>8.000000</td>\n",
       "      <td>5.000000</td>\n",
       "      <td>1.000000</td>\n",
       "      <td>0.800000</td>\n",
       "    </tr>\n",
       "  </tbody>\n",
       "</table>\n",
       "</div>"
      ],
      "text/plain": [
       "         instanceID       classID     releaseID           CBO            CC  \\\n",
       "count  11576.000000  1.157600e+04  11576.000000  11576.000000  11576.000000   \n",
       "mean    5788.500000  9.148070e+18      4.980736      5.731513     12.279976   \n",
       "std     3341.847693  5.334891e+18      2.099896      9.568403     22.150706   \n",
       "min        1.000000  1.733956e+15      1.000000      0.000000      0.000000   \n",
       "25%     2894.750000  4.535835e+18      3.000000      0.000000      3.000000   \n",
       "50%     5788.500000  9.219503e+18      5.000000      3.000000      7.000000   \n",
       "75%     8682.250000  1.373644e+19      7.000000      7.000000     13.000000   \n",
       "max    11576.000000  1.843342e+19      8.000000    162.000000    488.000000   \n",
       "\n",
       "                DIT          LCOM           LOC           NOC           RFC  \\\n",
       "count  11576.000000  11576.000000  11576.000000  11576.000000  11576.000000   \n",
       "mean       0.737474      0.143208     25.408431      0.445836      7.048981   \n",
       "std        1.602837      0.267863     66.493345      5.198372     18.958755   \n",
       "min        0.000000      0.000000      0.000000      0.000000      0.000000   \n",
       "25%        0.000000      0.000000      5.000000      0.000000      0.000000   \n",
       "50%        0.000000      0.000000      9.000000      0.000000      1.000000   \n",
       "75%        0.000000      0.000000     21.000000      0.000000      6.000000   \n",
       "max        7.000000      1.000000   1369.000000    189.000000    413.000000   \n",
       "\n",
       "                WMC  class_frequency  number_of_changes   will_change  \\\n",
       "count  11576.000000     11576.000000       11576.000000  11576.000000   \n",
       "mean       1.235228         3.253455           0.074724      0.027039   \n",
       "std        3.239050         1.767779           0.330764      0.162203   \n",
       "min        0.000000         1.000000           0.000000      0.000000   \n",
       "25%        0.000000         2.000000           0.000000      0.000000   \n",
       "50%        0.000000         3.000000           0.000000      0.000000   \n",
       "75%        1.000000         5.000000           0.000000      0.000000   \n",
       "max       56.000000         8.000000           5.000000      1.000000   \n",
       "\n",
       "       change_probability  \n",
       "count        11576.000000  \n",
       "mean             0.016102  \n",
       "std              0.071078  \n",
       "min              0.000000  \n",
       "25%              0.000000  \n",
       "50%              0.000000  \n",
       "75%              0.000000  \n",
       "max              0.800000  "
      ]
     },
     "execution_count": 3,
     "metadata": {},
     "output_type": "execute_result"
    }
   ],
   "source": [
    "all_releases_df.describe()"
   ]
  },
  {
   "cell_type": "code",
   "execution_count": 4,
   "metadata": {},
   "outputs": [
    {
     "data": {
      "text/plain": [
       "will_change\n",
       "0    7884\n",
       "1     219\n",
       "Name: will_change, dtype: int64"
      ]
     },
     "execution_count": 4,
     "metadata": {},
     "output_type": "execute_result"
    },
    {
     "data": {
      "image/png": "[encoded data removed]",
      "text/plain": [
       "<Figure size 360x360 with 1 Axes>"
      ]
     },
     "metadata": {},
     "output_type": "display_data"
    }
   ],
   "source": [
    "ax = y_train.groupby(['will_change'])['will_change'].count().plot.bar(title=\"Class Distribution\", figsize=(5,5))\n",
    "y_train.groupby(['will_change'])['will_change'].count()"
   ]
  },
  {
   "cell_type": "code",
   "execution_count": 5,
   "metadata": {
    "scrolled": true
   },
   "outputs": [
    {
     "data": {
      "text/html": [
       "<style  type=\"text/css\" >\n",
       "    #T_34b5c040_0481_11ea_9fb0_08d40c109473row0_col0 {\n",
       "            background-color:  #b40426;\n",
       "        }    #T_34b5c040_0481_11ea_9fb0_08d40c109473row0_col1 {\n",
       "            background-color:  #88abfd;\n",
       "        }    #T_34b5c040_0481_11ea_9fb0_08d40c109473row0_col2 {\n",
       "            background-color:  #b6cefa;\n",
       "        }    #T_34b5c040_0481_11ea_9fb0_08d40c109473row0_col3 {\n",
       "            background-color:  #506bda;\n",
       "        }    #T_34b5c040_0481_11ea_9fb0_08d40c109473row0_col4 {\n",
       "            background-color:  #c9d7f0;\n",
       "        }    #T_34b5c040_0481_11ea_9fb0_08d40c109473row0_col5 {\n",
       "            background-color:  #3b4cc0;\n",
       "        }    #T_34b5c040_0481_11ea_9fb0_08d40c109473row0_col6 {\n",
       "            background-color:  #d85646;\n",
       "        }    #T_34b5c040_0481_11ea_9fb0_08d40c109473row0_col7 {\n",
       "            background-color:  #a1c0ff;\n",
       "        }    #T_34b5c040_0481_11ea_9fb0_08d40c109473row1_col0 {\n",
       "            background-color:  #7a9df8;\n",
       "        }    #T_34b5c040_0481_11ea_9fb0_08d40c109473row1_col1 {\n",
       "            background-color:  #b40426;\n",
       "        }    #T_34b5c040_0481_11ea_9fb0_08d40c109473row1_col2 {\n",
       "            background-color:  #3b4cc0;\n",
       "        }    #T_34b5c040_0481_11ea_9fb0_08d40c109473row1_col3 {\n",
       "            background-color:  #adc9fd;\n",
       "        }    #T_34b5c040_0481_11ea_9fb0_08d40c109473row1_col4 {\n",
       "            background-color:  #ea7b60;\n",
       "        }    #T_34b5c040_0481_11ea_9fb0_08d40c109473row1_col5 {\n",
       "            background-color:  #445acc;\n",
       "        }    #T_34b5c040_0481_11ea_9fb0_08d40c109473row1_col6 {\n",
       "            background-color:  #81a4fb;\n",
       "        }    #T_34b5c040_0481_11ea_9fb0_08d40c109473row1_col7 {\n",
       "            background-color:  #8fb1fe;\n",
       "        }    #T_34b5c040_0481_11ea_9fb0_08d40c109473row2_col0 {\n",
       "            background-color:  #bfd3f6;\n",
       "        }    #T_34b5c040_0481_11ea_9fb0_08d40c109473row2_col1 {\n",
       "            background-color:  #5673e0;\n",
       "        }    #T_34b5c040_0481_11ea_9fb0_08d40c109473row2_col2 {\n",
       "            background-color:  #b40426;\n",
       "        }    #T_34b5c040_0481_11ea_9fb0_08d40c109473row2_col3 {\n",
       "            background-color:  #5673e0;\n",
       "        }    #T_34b5c040_0481_11ea_9fb0_08d40c109473row2_col4 {\n",
       "            background-color:  #4961d2;\n",
       "        }    #T_34b5c040_0481_11ea_9fb0_08d40c109473row2_col5 {\n",
       "            background-color:  #6384eb;\n",
       "        }    #T_34b5c040_0481_11ea_9fb0_08d40c109473row2_col6 {\n",
       "            background-color:  #b2ccfb;\n",
       "        }    #T_34b5c040_0481_11ea_9fb0_08d40c109473row2_col7 {\n",
       "            background-color:  #3b4cc0;\n",
       "        }    #T_34b5c040_0481_11ea_9fb0_08d40c109473row3_col0 {\n",
       "            background-color:  #465ecf;\n",
       "        }    #T_34b5c040_0481_11ea_9fb0_08d40c109473row3_col1 {\n",
       "            background-color:  #b2ccfb;\n",
       "        }    #T_34b5c040_0481_11ea_9fb0_08d40c109473row3_col2 {\n",
       "            background-color:  #4055c8;\n",
       "        }    #T_34b5c040_0481_11ea_9fb0_08d40c109473row3_col3 {\n",
       "            background-color:  #b40426;\n",
       "        }    #T_34b5c040_0481_11ea_9fb0_08d40c109473row3_col4 {\n",
       "            background-color:  #a2c1ff;\n",
       "        }    #T_34b5c040_0481_11ea_9fb0_08d40c109473row3_col5 {\n",
       "            background-color:  #3b4cc0;\n",
       "        }    #T_34b5c040_0481_11ea_9fb0_08d40c109473row3_col6 {\n",
       "            background-color:  #6687ed;\n",
       "        }    #T_34b5c040_0481_11ea_9fb0_08d40c109473row3_col7 {\n",
       "            background-color:  #8db0fe;\n",
       "        }    #T_34b5c040_0481_11ea_9fb0_08d40c109473row4_col0 {\n",
       "            background-color:  #c7d7f0;\n",
       "        }    #T_34b5c040_0481_11ea_9fb0_08d40c109473row4_col1 {\n",
       "            background-color:  #e9785d;\n",
       "        }    #T_34b5c040_0481_11ea_9fb0_08d40c109473row4_col2 {\n",
       "            background-color:  #3b4cc0;\n",
       "        }    #T_34b5c040_0481_11ea_9fb0_08d40c109473row4_col3 {\n",
       "            background-color:  #a7c5fe;\n",
       "        }    #T_34b5c040_0481_11ea_9fb0_08d40c109473row4_col4 {\n",
       "            background-color:  #b40426;\n",
       "        }    #T_34b5c040_0481_11ea_9fb0_08d40c109473row4_col5 {\n",
       "            background-color:  #3f53c6;\n",
       "        }    #T_34b5c040_0481_11ea_9fb0_08d40c109473row4_col6 {\n",
       "            background-color:  #d9dce1;\n",
       "        }    #T_34b5c040_0481_11ea_9fb0_08d40c109473row4_col7 {\n",
       "            background-color:  #cdd9ec;\n",
       "        }    #T_34b5c040_0481_11ea_9fb0_08d40c109473row5_col0 {\n",
       "            background-color:  #485fd1;\n",
       "        }    #T_34b5c040_0481_11ea_9fb0_08d40c109473row5_col1 {\n",
       "            background-color:  #6180e9;\n",
       "        }    #T_34b5c040_0481_11ea_9fb0_08d40c109473row5_col2 {\n",
       "            background-color:  #6384eb;\n",
       "        }    #T_34b5c040_0481_11ea_9fb0_08d40c109473row5_col3 {\n",
       "            background-color:  #516ddb;\n",
       "        }    #T_34b5c040_0481_11ea_9fb0_08d40c109473row5_col4 {\n",
       "            background-color:  #4f69d9;\n",
       "        }    #T_34b5c040_0481_11ea_9fb0_08d40c109473row5_col5 {\n",
       "            background-color:  #b40426;\n",
       "        }    #T_34b5c040_0481_11ea_9fb0_08d40c109473row5_col6 {\n",
       "            background-color:  #3b4cc0;\n",
       "        }    #T_34b5c040_0481_11ea_9fb0_08d40c109473row5_col7 {\n",
       "            background-color:  #3f53c6;\n",
       "        }    #T_34b5c040_0481_11ea_9fb0_08d40c109473row6_col0 {\n",
       "            background-color:  #d75445;\n",
       "        }    #T_34b5c040_0481_11ea_9fb0_08d40c109473row6_col1 {\n",
       "            background-color:  #9bbcff;\n",
       "        }    #T_34b5c040_0481_11ea_9fb0_08d40c109473row6_col2 {\n",
       "            background-color:  #b2ccfb;\n",
       "        }    #T_34b5c040_0481_11ea_9fb0_08d40c109473row6_col3 {\n",
       "            background-color:  #7b9ff9;\n",
       "        }    #T_34b5c040_0481_11ea_9fb0_08d40c109473row6_col4 {\n",
       "            background-color:  #e0dbd8;\n",
       "        }    #T_34b5c040_0481_11ea_9fb0_08d40c109473row6_col5 {\n",
       "            background-color:  #3b4cc0;\n",
       "        }    #T_34b5c040_0481_11ea_9fb0_08d40c109473row6_col6 {\n",
       "            background-color:  #b40426;\n",
       "        }    #T_34b5c040_0481_11ea_9fb0_08d40c109473row6_col7 {\n",
       "            background-color:  #c0d4f5;\n",
       "        }    #T_34b5c040_0481_11ea_9fb0_08d40c109473row7_col0 {\n",
       "            background-color:  #abc8fd;\n",
       "        }    #T_34b5c040_0481_11ea_9fb0_08d40c109473row7_col1 {\n",
       "            background-color:  #a7c5fe;\n",
       "        }    #T_34b5c040_0481_11ea_9fb0_08d40c109473row7_col2 {\n",
       "            background-color:  #3b4cc0;\n",
       "        }    #T_34b5c040_0481_11ea_9fb0_08d40c109473row7_col3 {\n",
       "            background-color:  #a1c0ff;\n",
       "        }    #T_34b5c040_0481_11ea_9fb0_08d40c109473row7_col4 {\n",
       "            background-color:  #d5dbe5;\n",
       "        }    #T_34b5c040_0481_11ea_9fb0_08d40c109473row7_col5 {\n",
       "            background-color:  #3f53c6;\n",
       "        }    #T_34b5c040_0481_11ea_9fb0_08d40c109473row7_col6 {\n",
       "            background-color:  #c0d4f5;\n",
       "        }    #T_34b5c040_0481_11ea_9fb0_08d40c109473row7_col7 {\n",
       "            background-color:  #b40426;\n",
       "        }</style>  \n",
       "<table id=\"T_34b5c040_0481_11ea_9fb0_08d40c109473\" > \n",
       "<thead>    <tr> \n",
       "        <th class=\"blank level0\" ></th> \n",
       "        <th class=\"col_heading level0 col0\" >0</th> \n",
       "        <th class=\"col_heading level0 col1\" >1</th> \n",
       "        <th class=\"col_heading level0 col2\" >2</th> \n",
       "        <th class=\"col_heading level0 col3\" >3</th> \n",
       "        <th class=\"col_heading level0 col4\" >4</th> \n",
       "        <th class=\"col_heading level0 col5\" >5</th> \n",
       "        <th class=\"col_heading level0 col6\" >6</th> \n",
       "        <th class=\"col_heading level0 col7\" >7</th> \n",
       "    </tr></thead> \n",
       "<tbody>    <tr> \n",
       "        <th id=\"T_34b5c040_0481_11ea_9fb0_08d40c109473level0_row0\" class=\"row_heading level0 row0\" >0</th> \n",
       "        <td id=\"T_34b5c040_0481_11ea_9fb0_08d40c109473row0_col0\" class=\"data row0 col0\" >1.0</td> \n",
       "        <td id=\"T_34b5c040_0481_11ea_9fb0_08d40c109473row0_col1\" class=\"data row0 col1\" >0.22</td> \n",
       "        <td id=\"T_34b5c040_0481_11ea_9fb0_08d40c109473row0_col2\" class=\"data row0 col2\" >0.35</td> \n",
       "        <td id=\"T_34b5c040_0481_11ea_9fb0_08d40c109473row0_col3\" class=\"data row0 col3\" >0.049</td> \n",
       "        <td id=\"T_34b5c040_0481_11ea_9fb0_08d40c109473row0_col4\" class=\"data row0 col4\" >0.41</td> \n",
       "        <td id=\"T_34b5c040_0481_11ea_9fb0_08d40c109473row0_col5\" class=\"data row0 col5\" >-0.025</td> \n",
       "        <td id=\"T_34b5c040_0481_11ea_9fb0_08d40c109473row0_col6\" class=\"data row0 col6\" >0.89</td> \n",
       "        <td id=\"T_34b5c040_0481_11ea_9fb0_08d40c109473row0_col7\" class=\"data row0 col7\" >0.29</td> \n",
       "    </tr>    <tr> \n",
       "        <th id=\"T_34b5c040_0481_11ea_9fb0_08d40c109473level0_row1\" class=\"row_heading level0 row1\" >1</th> \n",
       "        <td id=\"T_34b5c040_0481_11ea_9fb0_08d40c109473row1_col0\" class=\"data row1 col0\" >0.22</td> \n",
       "        <td id=\"T_34b5c040_0481_11ea_9fb0_08d40c109473row1_col1\" class=\"data row1 col1\" >1.0</td> \n",
       "        <td id=\"T_34b5c040_0481_11ea_9fb0_08d40c109473row1_col2\" class=\"data row1 col2\" >0.028</td> \n",
       "        <td id=\"T_34b5c040_0481_11ea_9fb0_08d40c109473row1_col3\" class=\"data row1 col3\" >0.36</td> \n",
       "        <td id=\"T_34b5c040_0481_11ea_9fb0_08d40c109473row1_col4\" class=\"data row1 col4\" >0.82</td> \n",
       "        <td id=\"T_34b5c040_0481_11ea_9fb0_08d40c109473row1_col5\" class=\"data row1 col5\" >0.061</td> \n",
       "        <td id=\"T_34b5c040_0481_11ea_9fb0_08d40c109473row1_col6\" class=\"data row1 col6\" >0.24</td> \n",
       "        <td id=\"T_34b5c040_0481_11ea_9fb0_08d40c109473row1_col7\" class=\"data row1 col7\" >0.28</td> \n",
       "    </tr>    <tr> \n",
       "        <th id=\"T_34b5c040_0481_11ea_9fb0_08d40c109473level0_row2\" class=\"row_heading level0 row2\" >2</th> \n",
       "        <td id=\"T_34b5c040_0481_11ea_9fb0_08d40c109473row2_col0\" class=\"data row2 col0\" >0.35</td> \n",
       "        <td id=\"T_34b5c040_0481_11ea_9fb0_08d40c109473row2_col1\" class=\"data row2 col1\" >0.028</td> \n",
       "        <td id=\"T_34b5c040_0481_11ea_9fb0_08d40c109473row2_col2\" class=\"data row2 col2\" >1.0</td> \n",
       "        <td id=\"T_34b5c040_0481_11ea_9fb0_08d40c109473row2_col3\" class=\"data row2 col3\" >0.028</td> \n",
       "        <td id=\"T_34b5c040_0481_11ea_9fb0_08d40c109473row2_col4\" class=\"data row2 col4\" >-0.017</td> \n",
       "        <td id=\"T_34b5c040_0481_11ea_9fb0_08d40c109473row2_col5\" class=\"data row2 col5\" >0.069</td> \n",
       "        <td id=\"T_34b5c040_0481_11ea_9fb0_08d40c109473row2_col6\" class=\"data row2 col6\" >0.31</td> \n",
       "        <td id=\"T_34b5c040_0481_11ea_9fb0_08d40c109473row2_col7\" class=\"data row2 col7\" >-0.071</td> \n",
       "    </tr>    <tr> \n",
       "        <th id=\"T_34b5c040_0481_11ea_9fb0_08d40c109473level0_row3\" class=\"row_heading level0 row3\" >3</th> \n",
       "        <td id=\"T_34b5c040_0481_11ea_9fb0_08d40c109473row3_col0\" class=\"data row3 col0\" >0.049</td> \n",
       "        <td id=\"T_34b5c040_0481_11ea_9fb0_08d40c109473row3_col1\" class=\"data row3 col1\" >0.36</td> \n",
       "        <td id=\"T_34b5c040_0481_11ea_9fb0_08d40c109473row3_col2\" class=\"data row3 col2\" >0.028</td> \n",
       "        <td id=\"T_34b5c040_0481_11ea_9fb0_08d40c109473row3_col3\" class=\"data row3 col3\" >1.0</td> \n",
       "        <td id=\"T_34b5c040_0481_11ea_9fb0_08d40c109473row3_col4\" class=\"data row3 col4\" >0.32</td> \n",
       "        <td id=\"T_34b5c040_0481_11ea_9fb0_08d40c109473row3_col5\" class=\"data row3 col5\" >0.0075</td> \n",
       "        <td id=\"T_34b5c040_0481_11ea_9fb0_08d40c109473row3_col6\" class=\"data row3 col6\" >0.14</td> \n",
       "        <td id=\"T_34b5c040_0481_11ea_9fb0_08d40c109473row3_col7\" class=\"data row3 col7\" >0.26</td> \n",
       "    </tr>    <tr> \n",
       "        <th id=\"T_34b5c040_0481_11ea_9fb0_08d40c109473level0_row4\" class=\"row_heading level0 row4\" >4</th> \n",
       "        <td id=\"T_34b5c040_0481_11ea_9fb0_08d40c109473row4_col0\" class=\"data row4 col0\" >0.41</td> \n",
       "        <td id=\"T_34b5c040_0481_11ea_9fb0_08d40c109473row4_col1\" class=\"data row4 col1\" >0.82</td> \n",
       "        <td id=\"T_34b5c040_0481_11ea_9fb0_08d40c109473row4_col2\" class=\"data row4 col2\" >-0.017</td> \n",
       "        <td id=\"T_34b5c040_0481_11ea_9fb0_08d40c109473row4_col3\" class=\"data row4 col3\" >0.32</td> \n",
       "        <td id=\"T_34b5c040_0481_11ea_9fb0_08d40c109473row4_col4\" class=\"data row4 col4\" >1.0</td> \n",
       "        <td id=\"T_34b5c040_0481_11ea_9fb0_08d40c109473row4_col5\" class=\"data row4 col5\" >-0.00018</td> \n",
       "        <td id=\"T_34b5c040_0481_11ea_9fb0_08d40c109473row4_col6\" class=\"data row4 col6\" >0.48</td> \n",
       "        <td id=\"T_34b5c040_0481_11ea_9fb0_08d40c109473row4_col7\" class=\"data row4 col7\" >0.43</td> \n",
       "    </tr>    <tr> \n",
       "        <th id=\"T_34b5c040_0481_11ea_9fb0_08d40c109473level0_row5\" class=\"row_heading level0 row5\" >5</th> \n",
       "        <td id=\"T_34b5c040_0481_11ea_9fb0_08d40c109473row5_col0\" class=\"data row5 col0\" >-0.025</td> \n",
       "        <td id=\"T_34b5c040_0481_11ea_9fb0_08d40c109473row5_col1\" class=\"data row5 col1\" >0.061</td> \n",
       "        <td id=\"T_34b5c040_0481_11ea_9fb0_08d40c109473row5_col2\" class=\"data row5 col2\" >0.069</td> \n",
       "        <td id=\"T_34b5c040_0481_11ea_9fb0_08d40c109473row5_col3\" class=\"data row5 col3\" >0.0075</td> \n",
       "        <td id=\"T_34b5c040_0481_11ea_9fb0_08d40c109473row5_col4\" class=\"data row5 col4\" >-0.00018</td> \n",
       "        <td id=\"T_34b5c040_0481_11ea_9fb0_08d40c109473row5_col5\" class=\"data row5 col5\" >1.0</td> \n",
       "        <td id=\"T_34b5c040_0481_11ea_9fb0_08d40c109473row5_col6\" class=\"data row5 col6\" >-0.073</td> \n",
       "        <td id=\"T_34b5c040_0481_11ea_9fb0_08d40c109473row5_col7\" class=\"data row5 col7\" >-0.052</td> \n",
       "    </tr>    <tr> \n",
       "        <th id=\"T_34b5c040_0481_11ea_9fb0_08d40c109473level0_row6\" class=\"row_heading level0 row6\" >6</th> \n",
       "        <td id=\"T_34b5c040_0481_11ea_9fb0_08d40c109473row6_col0\" class=\"data row6 col0\" >0.89</td> \n",
       "        <td id=\"T_34b5c040_0481_11ea_9fb0_08d40c109473row6_col1\" class=\"data row6 col1\" >0.24</td> \n",
       "        <td id=\"T_34b5c040_0481_11ea_9fb0_08d40c109473row6_col2\" class=\"data row6 col2\" >0.31</td> \n",
       "        <td id=\"T_34b5c040_0481_11ea_9fb0_08d40c109473row6_col3\" class=\"data row6 col3\" >0.14</td> \n",
       "        <td id=\"T_34b5c040_0481_11ea_9fb0_08d40c109473row6_col4\" class=\"data row6 col4\" >0.48</td> \n",
       "        <td id=\"T_34b5c040_0481_11ea_9fb0_08d40c109473row6_col5\" class=\"data row6 col5\" >-0.073</td> \n",
       "        <td id=\"T_34b5c040_0481_11ea_9fb0_08d40c109473row6_col6\" class=\"data row6 col6\" >1.0</td> \n",
       "        <td id=\"T_34b5c040_0481_11ea_9fb0_08d40c109473row6_col7\" class=\"data row6 col7\" >0.36</td> \n",
       "    </tr>    <tr> \n",
       "        <th id=\"T_34b5c040_0481_11ea_9fb0_08d40c109473level0_row7\" class=\"row_heading level0 row7\" >7</th> \n",
       "        <td id=\"T_34b5c040_0481_11ea_9fb0_08d40c109473row7_col0\" class=\"data row7 col0\" >0.29</td> \n",
       "        <td id=\"T_34b5c040_0481_11ea_9fb0_08d40c109473row7_col1\" class=\"data row7 col1\" >0.28</td> \n",
       "        <td id=\"T_34b5c040_0481_11ea_9fb0_08d40c109473row7_col2\" class=\"data row7 col2\" >-0.071</td> \n",
       "        <td id=\"T_34b5c040_0481_11ea_9fb0_08d40c109473row7_col3\" class=\"data row7 col3\" >0.26</td> \n",
       "        <td id=\"T_34b5c040_0481_11ea_9fb0_08d40c109473row7_col4\" class=\"data row7 col4\" >0.43</td> \n",
       "        <td id=\"T_34b5c040_0481_11ea_9fb0_08d40c109473row7_col5\" class=\"data row7 col5\" >-0.052</td> \n",
       "        <td id=\"T_34b5c040_0481_11ea_9fb0_08d40c109473row7_col6\" class=\"data row7 col6\" >0.36</td> \n",
       "        <td id=\"T_34b5c040_0481_11ea_9fb0_08d40c109473row7_col7\" class=\"data row7 col7\" >1.0</td> \n",
       "    </tr></tbody> \n",
       "</table> "
      ],
      "text/plain": [
       "<pandas.io.formats.style.Styler at 0x16ac54e8e48>"
      ]
     },
     "execution_count": 5,
     "metadata": {},
     "output_type": "execute_result"
    }
   ],
   "source": [
    "X_train.corr(method='spearman').style.format(\"{:.2}\").background_gradient(cmap=plt.get_cmap('coolwarm'), axis=1)"
   ]
  },
  {
   "cell_type": "markdown",
   "metadata": {},
   "source": [
    "## Imbalanced baseline"
   ]
  },
  {
   "cell_type": "code",
   "execution_count": 6,
   "metadata": {
    "scrolled": true
   },
   "outputs": [
    {
     "name": "stdout",
     "output_type": "stream",
     "text": [
      "\n",
      "LOGISTIC REGRESSION\n",
      "TRAIN AND VALIDATION SETS:\n",
      "1 of KFold 5\n",
      "ROC AUC score: 0.6833170000576468\n",
      "2 of KFold 5\n",
      "ROC AUC score: 0.7051435406698565\n",
      "3 of KFold 5\n",
      "ROC AUC score: 0.6497593243788552\n",
      "4 of KFold 5\n",
      "ROC AUC score: 0.7233815645356545\n",
      "5 of KFold 5\n",
      "ROC AUC score: 0.6846372919371976\n",
      "\n",
      "CROSS VALIDANTION SUMMARY:\n",
      "Mean: 0.6892477443158421\n",
      "Std deviation: 0.024631521805355272\n",
      "\n",
      "TEST SET:\n",
      "F1-Score(micro): 0.8255110855168442\n",
      "F1-Score(macro): 0.5384168989965803\n",
      "F1-Score(weighted): 0.8827412519425704\n",
      "F1-Score(None): [0.90244688 0.17438692]\n",
      "Accuracy: 0.8255110855168443\n",
      "Sensitivity: 0.6808510638297872\n",
      "Specificity: 0.8295353654927493\n",
      "Confusion Matrix: [0.8295353654927493, 0.68]\n",
      "ROC AUC score: 0.7551932146612683\n",
      "Wall time: 296 ms\n"
     ]
    }
   ],
   "source": [
    "%%time\n",
    "LogisticRegr_(X_train, y_train, X_test, y_test)"
   ]
  },
  {
   "cell_type": "code",
   "execution_count": 7,
   "metadata": {},
   "outputs": [
    {
     "name": "stdout",
     "output_type": "stream",
     "text": [
      "Wall time: 0 ns\n",
      "\n",
      "DECISION TREE\n",
      "TRAIN AND VALIDATION SETS:\n",
      "1 of KFold 5\n",
      "ROC AUC score: 0.5901740935031994\n",
      "2 of KFold 5\n",
      "ROC AUC score: 0.5232100651409466\n",
      "3 of KFold 5\n",
      "ROC AUC score: 0.5172364097538479\n",
      "4 of KFold 5\n",
      "ROC AUC score: 0.5585692050498645\n",
      "5 of KFold 5\n",
      "ROC AUC score: 0.5481938377995514\n",
      "\n",
      "CROSS VALIDANTION SUMMARY:\n",
      "Mean: 0.547476722249482\n",
      "Std deviation: 0.026267737201455102\n",
      "\n",
      "TEST SET:\n",
      "F1-Score(micro): 0.9211056723293982\n",
      "F1-Score(macro): 0.540246245062344\n",
      "F1-Score(weighted): 0.936046061124436\n",
      "F1-Score(None): [0.95869762 0.12179487]\n",
      "Accuracy: 0.9211056723293982\n",
      "Sensitivity: 0.20212765957446807\n",
      "Specificity: 0.941106836342113\n",
      "Confusion Matrix: [0.941106836342113, 0.2]\n",
      "ROC AUC score: 0.5716172479582906\n",
      "Wall time: 127 ms\n"
     ]
    }
   ],
   "source": [
    "%%time\n",
    "DecisionTree_(X_train, y_train, X_test, y_test)"
   ]
  },
  {
   "cell_type": "code",
   "execution_count": 8,
   "metadata": {},
   "outputs": [
    {
     "name": "stdout",
     "output_type": "stream",
     "text": [
      "Wall time: 0 ns\n",
      "RANDOM FOREST\n",
      "TRAIN AND VALIDATION SETS:\n",
      "1 of KFold 5\n",
      "ROC AUC score: 0.5545483368882227\n",
      "2 of KFold 5\n",
      "ROC AUC score: 0.4904378278664899\n",
      "3 of KFold 5\n",
      "ROC AUC score: 0.5286504871159278\n",
      "4 of KFold 5\n",
      "ROC AUC score: 0.5586196460483082\n",
      "5 of KFold 5\n",
      "ROC AUC score: 0.530965942627789\n",
      "\n",
      "CROSS VALIDANTION SUMMARY:\n",
      "Mean: 0.5326444481093474\n",
      "Std deviation: 0.02430908944818337\n",
      "\n",
      "TEST SET:\n",
      "F1-Score(micro): 0.9648718687014108\n",
      "F1-Score(macro): 0.5144905947491933\n",
      "F1-Score(weighted): 0.9567932808278286\n",
      "F1-Score(None): [0.98210619 0.046875  ]\n",
      "Accuracy: 0.9648718687014108\n",
      "Sensitivity: 0.031914893617021274\n",
      "Specificity: 0.9908256880733946\n",
      "Confusion Matrix: [0.9908256880733946, 0.03]\n",
      "ROC AUC score: 0.5113702908452079\n",
      "Wall time: 2.12 s\n"
     ]
    }
   ],
   "source": [
    "%%time\n",
    "RandomForest_(X_train, y_train, X_test, y_test)"
   ]
  },
  {
   "cell_type": "code",
   "execution_count": 9,
   "metadata": {},
   "outputs": [
    {
     "name": "stdout",
     "output_type": "stream",
     "text": [
      "Wall time: 0 ns\n",
      "NEURAL NETWORK\n",
      "TRAIN AND VALIDATION SETS:\n",
      "1 of KFold 5\n",
      "ROC AUC score: 0.5100954055456275\n",
      "2 of KFold 5\n",
      "ROC AUC score: 0.4990488268864933\n",
      "3 of KFold 5\n",
      "ROC AUC score: 0.5\n",
      "4 of KFold 5\n",
      "ROC AUC score: 0.511046578659134\n",
      "5 of KFold 5\n",
      "ROC AUC score: 0.5113106480934955\n",
      "\n",
      "CROSS VALIDANTION SUMMARY:\n",
      "Mean: 0.50630029183695\n",
      "Std deviation: 0.005555379692445415\n",
      "\n",
      "TEST SET:\n",
      "F1-Score(micro): 0.9723581917650447\n",
      "F1-Score(macro): 0.492992700729927\n",
      "F1-Score(weighted): 0.9592987824741857\n",
      "F1-Score(None): [0.9859854 0.       ]\n",
      "Accuracy: 0.9723581917650447\n",
      "Sensitivity: 0.0\n",
      "Specificity: 0.999408108907961\n",
      "Confusion Matrix: [0.999408108907961, 0.0]\n",
      "ROC AUC score: 0.4997040544539805\n",
      "Wall time: 11.2 s\n"
     ]
    }
   ],
   "source": [
    "%%time\n",
    "NN_(X_train, y_train, X_test, y_test)"
   ]
  },
  {
   "cell_type": "markdown",
   "metadata": {},
   "source": [
    "## Undersampling"
   ]
  },
  {
   "cell_type": "code",
   "execution_count": 10,
   "metadata": {
    "scrolled": true
   },
   "outputs": [
    {
     "name": "stdout",
     "output_type": "stream",
     "text": [
      "Resampling dataset using Random UnderSampling (RUS)...\n",
      "... DONE!\n",
      "X and Y RUS: 438 438\n"
     ]
    }
   ],
   "source": [
    "print(\"Resampling dataset using Random UnderSampling (RUS)...\")\n",
    "X_RUS, y_RUS = RandomUnderSampler(random_state=42).fit_sample(X_train, y_train.values.ravel())\n",
    "print(\"... DONE!\")\n",
    "print(\"X and Y RUS:\", len(X_RUS), len(y_RUS))"
   ]
  },
  {
   "cell_type": "code",
   "execution_count": 11,
   "metadata": {},
   "outputs": [
    {
     "name": "stdout",
     "output_type": "stream",
     "text": [
      "\n",
      "LOGISTIC REGRESSION\n",
      "TRAIN AND VALIDATION SETS:\n",
      "1 of KFold 5\n",
      "ROC AUC score: 0.7096385542168675\n",
      "2 of KFold 5\n",
      "ROC AUC score: 0.6627906976744186\n",
      "3 of KFold 5\n",
      "ROC AUC score: 0.8218390804597702\n",
      "4 of KFold 5\n",
      "ROC AUC score: 0.6744186046511628\n",
      "5 of KFold 5\n",
      "ROC AUC score: 0.35119047619047616\n",
      "\n",
      "CROSS VALIDANTION SUMMARY:\n",
      "Mean: 0.643975482638539\n",
      "Std deviation: 0.15681259795981153\n",
      "\n",
      "TEST SET:\n",
      "F1-Score(micro): 0.7555427584221135\n",
      "F1-Score(macro): 0.4791262905132799\n",
      "F1-Score(weighted): 0.838030676711113\n",
      "F1-Score(None): [0.85857071 0.09968187]\n",
      "Accuracy: 0.7555427584221135\n",
      "Sensitivity: 0.5\n",
      "Specificity: 0.762651672092335\n",
      "Confusion Matrix: [0.762651672092335, 0.5]\n",
      "ROC AUC score: 0.6313258360461674\n",
      "Wall time: 83.9 ms\n"
     ]
    }
   ],
   "source": [
    "%%time\n",
    "LogisticRegr_(X_RUS, y_RUS, X_test, y_test)"
   ]
  },
  {
   "cell_type": "code",
   "execution_count": 12,
   "metadata": {},
   "outputs": [
    {
     "name": "stdout",
     "output_type": "stream",
     "text": [
      "Wall time: 0 ns\n",
      "\n",
      "DECISION TREE\n",
      "TRAIN AND VALIDATION SETS:\n",
      "1 of KFold 5\n",
      "ROC AUC score: 0.5\n",
      "2 of KFold 5\n",
      "ROC AUC score: 0.4883720930232558\n",
      "3 of KFold 5\n",
      "ROC AUC score: 0.4540229885057471\n",
      "4 of KFold 5\n",
      "ROC AUC score: 0.48255813953488375\n",
      "5 of KFold 5\n",
      "ROC AUC score: 0.48214285714285715\n",
      "\n",
      "CROSS VALIDANTION SUMMARY:\n",
      "Mean: 0.48141921564134876\n",
      "Std deviation: 0.01513910246476969\n",
      "\n",
      "TEST SET:\n",
      "F1-Score(micro): 0.9418370285056148\n",
      "F1-Score(macro): 0.4994334657624952\n",
      "F1-Score(weighted): 0.9445470043876555\n",
      "F1-Score(None): [0.97002078 0.02884615]\n",
      "Accuracy: 0.9418370285056148\n",
      "Sensitivity: 0.031914893617021274\n",
      "Specificity: 0.9671500443918319\n",
      "Confusion Matrix: [0.9671500443918319, 0.03]\n",
      "ROC AUC score: 0.4995324690044266\n",
      "Wall time: 69 ms\n"
     ]
    }
   ],
   "source": [
    "%%time\n",
    "DecisionTree_(X_RUS, y_RUS, X_test, y_test)"
   ]
  },
  {
   "cell_type": "code",
   "execution_count": 13,
   "metadata": {},
   "outputs": [
    {
     "name": "stdout",
     "output_type": "stream",
     "text": [
      "Wall time: 0 ns\n",
      "RANDOM FOREST\n",
      "TRAIN AND VALIDATION SETS:\n",
      "1 of KFold 5\n",
      "ROC AUC score: 0.5\n",
      "2 of KFold 5\n",
      "ROC AUC score: 0.5\n",
      "3 of KFold 5\n",
      "ROC AUC score: 0.5\n",
      "4 of KFold 5\n",
      "ROC AUC score: 0.5\n",
      "5 of KFold 5\n",
      "ROC AUC score: 0.5\n",
      "\n",
      "CROSS VALIDANTION SUMMARY:\n",
      "Mean: 0.5\n",
      "Std deviation: 0.0\n",
      "\n",
      "TEST SET:\n",
      "F1-Score(micro): 0.9712064497552548\n",
      "F1-Score(macro): 0.5024982523693288\n",
      "F1-Score(weighted): 0.9592488985908557\n",
      "F1-Score(None): [0.98538866 0.01960784]\n",
      "Accuracy: 0.9712064497552548\n",
      "Sensitivity: 0.010638297872340425\n",
      "Specificity: 0.9979283811778633\n",
      "Confusion Matrix: [0.9979283811778633, 0.01]\n",
      "ROC AUC score: 0.5042833395251018\n",
      "Wall time: 504 ms\n"
     ]
    }
   ],
   "source": [
    "%%time\n",
    "RandomForest_(X_RUS, y_RUS, X_test, y_test)"
   ]
  },
  {
   "cell_type": "code",
   "execution_count": 14,
   "metadata": {},
   "outputs": [
    {
     "name": "stdout",
     "output_type": "stream",
     "text": [
      "Wall time: 0 ns\n",
      "NEURAL NETWORK\n",
      "TRAIN AND VALIDATION SETS:\n",
      "1 of KFold 5\n"
     ]
    },
    {
     "name": "stderr",
     "output_type": "stream",
     "text": [
      "C:\\Users\\cristiano.melo\\AppData\\Local\\Continuum\\anaconda3\\lib\\site-packages\\sklearn\\neural_network\\multilayer_perceptron.py:566: ConvergenceWarning: Stochastic Optimizer: Maximum iterations (200) reached and the optimization hasn't converged yet.\n",
      "  % self.max_iter, ConvergenceWarning)\n"
     ]
    },
    {
     "name": "stdout",
     "output_type": "stream",
     "text": [
      "ROC AUC score: 0.5\n",
      "2 of KFold 5\n"
     ]
    },
    {
     "name": "stderr",
     "output_type": "stream",
     "text": [
      "C:\\Users\\cristiano.melo\\AppData\\Local\\Continuum\\anaconda3\\lib\\site-packages\\sklearn\\neural_network\\multilayer_perceptron.py:566: ConvergenceWarning: Stochastic Optimizer: Maximum iterations (200) reached and the optimization hasn't converged yet.\n",
      "  % self.max_iter, ConvergenceWarning)\n"
     ]
    },
    {
     "name": "stdout",
     "output_type": "stream",
     "text": [
      "ROC AUC score: 0.5\n",
      "3 of KFold 5\n"
     ]
    },
    {
     "name": "stderr",
     "output_type": "stream",
     "text": [
      "C:\\Users\\cristiano.melo\\AppData\\Local\\Continuum\\anaconda3\\lib\\site-packages\\sklearn\\neural_network\\multilayer_perceptron.py:566: ConvergenceWarning: Stochastic Optimizer: Maximum iterations (200) reached and the optimization hasn't converged yet.\n",
      "  % self.max_iter, ConvergenceWarning)\n"
     ]
    },
    {
     "name": "stdout",
     "output_type": "stream",
     "text": [
      "ROC AUC score: 0.5\n",
      "4 of KFold 5\n"
     ]
    },
    {
     "name": "stderr",
     "output_type": "stream",
     "text": [
      "C:\\Users\\cristiano.melo\\AppData\\Local\\Continuum\\anaconda3\\lib\\site-packages\\sklearn\\neural_network\\multilayer_perceptron.py:566: ConvergenceWarning: Stochastic Optimizer: Maximum iterations (200) reached and the optimization hasn't converged yet.\n",
      "  % self.max_iter, ConvergenceWarning)\n"
     ]
    },
    {
     "name": "stdout",
     "output_type": "stream",
     "text": [
      "ROC AUC score: 0.5\n",
      "5 of KFold 5\n",
      "ROC AUC score: 0.5\n",
      "\n",
      "CROSS VALIDANTION SUMMARY:\n",
      "Mean: 0.5\n",
      "Std deviation: 0.0\n",
      "\n",
      "TEST SET:\n",
      "F1-Score(micro): 0.9729340627699395\n",
      "F1-Score(macro): 0.49314068884997087\n",
      "F1-Score(weighted): 0.9595867478399376\n",
      "F1-Score(None): [0.98628138 0.        ]\n",
      "Accuracy: 0.9729340627699395\n",
      "Sensitivity: 0.0\n",
      "Specificity: 1.0\n",
      "Confusion Matrix: [1.0, 0.0]\n",
      "ROC AUC score: 0.5\n",
      "Wall time: 1.91 s\n"
     ]
    },
    {
     "name": "stderr",
     "output_type": "stream",
     "text": [
      "C:\\Users\\cristiano.melo\\AppData\\Local\\Continuum\\anaconda3\\lib\\site-packages\\sklearn\\neural_network\\multilayer_perceptron.py:566: ConvergenceWarning: Stochastic Optimizer: Maximum iterations (200) reached and the optimization hasn't converged yet.\n",
      "  % self.max_iter, ConvergenceWarning)\n",
      "C:\\Users\\cristiano.melo\\AppData\\Local\\Continuum\\anaconda3\\lib\\site-packages\\sklearn\\metrics\\classification.py:1437: UndefinedMetricWarning: F-score is ill-defined and being set to 0.0 in labels with no predicted samples.\n",
      "  'precision', 'predicted', average, warn_for)\n",
      "C:\\Users\\cristiano.melo\\AppData\\Local\\Continuum\\anaconda3\\lib\\site-packages\\ipykernel_launcher.py:33: RuntimeWarning: invalid value encountered in longlong_scalars\n",
      "C:\\Users\\cristiano.melo\\AppData\\Local\\Continuum\\anaconda3\\lib\\site-packages\\ipykernel_launcher.py:41: RuntimeWarning: invalid value encountered in double_scalars\n"
     ]
    }
   ],
   "source": [
    "%%time\n",
    "NN_(X_RUS, y_RUS, X_test, y_test)"
   ]
  },
  {
   "cell_type": "code",
   "execution_count": 15,
   "metadata": {},
   "outputs": [
    {
     "name": "stdout",
     "output_type": "stream",
     "text": [
      "Resampling dataset using Edited Nearest Neighbour (ENN)...\n",
      "... DONE!\n",
      "X and Y ENN: 7686 7686\n"
     ]
    }
   ],
   "source": [
    "print(\"Resampling dataset using Edited Nearest Neighbour (ENN)...\")\n",
    "X_ENN, y_ENN = EditedNearestNeighbours(random_state=42).fit_sample(X_train, y_train.values.ravel())\n",
    "print(\"... DONE!\")\n",
    "print(\"X and Y ENN:\", len(X_ENN), len(y_ENN))"
   ]
  },
  {
   "cell_type": "code",
   "execution_count": 16,
   "metadata": {},
   "outputs": [
    {
     "name": "stdout",
     "output_type": "stream",
     "text": [
      "\n",
      "LOGISTIC REGRESSION\n",
      "TRAIN AND VALIDATION SETS:\n",
      "1 of KFold 5\n",
      "ROC AUC score: 0.7004762967924388\n",
      "2 of KFold 5\n",
      "ROC AUC score: 0.7333206009676598\n",
      "3 of KFold 5\n",
      "ROC AUC score: 0.6496715828497743\n",
      "4 of KFold 5\n",
      "ROC AUC score: 0.7276576576576577\n",
      "5 of KFold 5\n",
      "ROC AUC score: 0.6739568135395391\n",
      "\n",
      "CROSS VALIDANTION SUMMARY:\n",
      "Mean: 0.697016590361414\n",
      "Std deviation: 0.0317557201243874\n",
      "\n",
      "TEST SET:\n",
      "F1-Score(micro): 0.826662827526634\n",
      "F1-Score(macro): 0.5381306133557662\n",
      "F1-Score(weighted): 0.8834232631012311\n",
      "F1-Score(None): [0.9031843  0.17307692]\n",
      "Accuracy: 0.826662827526634\n",
      "Sensitivity: 0.6702127659574468\n",
      "Specificity: 0.831015093222847\n",
      "Confusion Matrix: [0.831015093222847, 0.67]\n",
      "ROC AUC score: 0.750613929590147\n",
      "Wall time: 210 ms\n"
     ]
    }
   ],
   "source": [
    "%%time\n",
    "LogisticRegr_(X_ENN, y_ENN, X_test, y_test)"
   ]
  },
  {
   "cell_type": "code",
   "execution_count": 17,
   "metadata": {},
   "outputs": [
    {
     "name": "stdout",
     "output_type": "stream",
     "text": [
      "Wall time: 0 ns\n",
      "\n",
      "DECISION TREE\n",
      "TRAIN AND VALIDATION SETS:\n",
      "1 of KFold 5\n",
      "ROC AUC score: 0.5647763637716753\n",
      "2 of KFold 5\n",
      "ROC AUC score: 0.4996180290297938\n",
      "3 of KFold 5\n",
      "ROC AUC score: 0.5220422308188265\n",
      "4 of KFold 5\n",
      "ROC AUC score: 0.5145405405405405\n",
      "5 of KFold 5\n",
      "ROC AUC score: 0.5532681645754304\n",
      "\n",
      "CROSS VALIDANTION SUMMARY:\n",
      "Mean: 0.5308490657472533\n",
      "Std deviation: 0.02438271327735027\n",
      "\n",
      "TEST SET:\n",
      "F1-Score(micro): 0.9303196084077167\n",
      "F1-Score(macro): 0.5337272263275857\n",
      "F1-Score(weighted): 0.9404727696098929\n",
      "F1-Score(None): [0.96375075 0.1037037 ]\n",
      "Accuracy: 0.9303196084077167\n",
      "Sensitivity: 0.14893617021276595\n",
      "Specificity: 0.9520568215448357\n",
      "Confusion Matrix: [0.9520568215448357, 0.15]\n",
      "ROC AUC score: 0.5504964958788009\n",
      "Wall time: 110 ms\n"
     ]
    }
   ],
   "source": [
    "%%time\n",
    "DecisionTree_(X_ENN, y_ENN, X_test, y_test)"
   ]
  },
  {
   "cell_type": "code",
   "execution_count": 18,
   "metadata": {},
   "outputs": [
    {
     "name": "stdout",
     "output_type": "stream",
     "text": [
      "Wall time: 0 ns\n",
      "RANDOM FOREST\n",
      "TRAIN AND VALIDATION SETS:\n",
      "1 of KFold 5\n",
      "ROC AUC score: 0.5552801964724269\n",
      "2 of KFold 5\n",
      "ROC AUC score: 0.4895117137764196\n",
      "3 of KFold 5\n",
      "ROC AUC score: 0.5268375241779496\n",
      "4 of KFold 5\n",
      "ROC AUC score: 0.5377207207207207\n",
      "5 of KFold 5\n",
      "ROC AUC score: 0.547432156405019\n",
      "\n",
      "CROSS VALIDANTION SUMMARY:\n",
      "Mean: 0.5313564623105071\n",
      "Std deviation: 0.02298991328260899\n",
      "\n",
      "TEST SET:\n",
      "F1-Score(micro): 0.9645839331989634\n",
      "F1-Score(macro): 0.5215101398464321\n",
      "F1-Score(weighted): 0.9570270193087497\n",
      "F1-Score(None): [0.98195158 0.0610687 ]\n",
      "Accuracy: 0.9645839331989634\n",
      "Sensitivity: 0.0425531914893617\n",
      "Specificity: 0.9902337969813554\n",
      "Confusion Matrix: [0.9902337969813554, 0.04]\n",
      "ROC AUC score: 0.5163934942353586\n",
      "Wall time: 1.91 s\n"
     ]
    }
   ],
   "source": [
    "%%time\n",
    "RandomForest_(X_ENN, y_ENN, X_test, y_test)"
   ]
  },
  {
   "cell_type": "code",
   "execution_count": 19,
   "metadata": {},
   "outputs": [
    {
     "name": "stdout",
     "output_type": "stream",
     "text": [
      "Wall time: 0 ns\n",
      "NEURAL NETWORK\n",
      "TRAIN AND VALIDATION SETS:\n",
      "1 of KFold 5\n",
      "ROC AUC score: 0.5101064225645605\n",
      "2 of KFold 5\n",
      "ROC AUC score: 0.49933155080213903\n",
      "3 of KFold 5\n",
      "ROC AUC score: 0.5\n",
      "4 of KFold 5\n",
      "ROC AUC score: 0.5128468468468469\n",
      "5 of KFold 5\n",
      "ROC AUC score: 0.5105339947475928\n",
      "\n",
      "CROSS VALIDANTION SUMMARY:\n",
      "Mean: 0.5065637629922278\n",
      "Std deviation: 0.005712761110733265\n",
      "\n",
      "TEST SET:\n",
      "F1-Score(micro): 0.9723581917650447\n",
      "F1-Score(macro): 0.492992700729927\n",
      "F1-Score(weighted): 0.9592987824741857\n",
      "F1-Score(None): [0.9859854 0.       ]\n",
      "Accuracy: 0.9723581917650447\n",
      "Sensitivity: 0.0\n",
      "Specificity: 0.999408108907961\n",
      "Confusion Matrix: [0.999408108907961, 0.0]\n",
      "ROC AUC score: 0.4997040544539805\n",
      "Wall time: 12.9 s\n"
     ]
    }
   ],
   "source": [
    "%%time\n",
    "NN_(X_ENN, y_ENN, X_test, y_test)"
   ]
  },
  {
   "cell_type": "code",
   "execution_count": 20,
   "metadata": {},
   "outputs": [
    {
     "name": "stdout",
     "output_type": "stream",
     "text": [
      "Resampling dataset using Tomek's Link (TL)...\n",
      "... DONE!\n",
      "X and Y TL: 8081 8081\n"
     ]
    }
   ],
   "source": [
    "print(\"Resampling dataset using Tomek's Link (TL)...\")\n",
    "X_TL, y_TL = TomekLinks(random_state=42).fit_sample(X_train, y_train.values.ravel())\n",
    "print(\"... DONE!\")\n",
    "print(\"X and Y TL:\", len(X_TL), len(y_TL))"
   ]
  },
  {
   "cell_type": "code",
   "execution_count": 21,
   "metadata": {},
   "outputs": [
    {
     "name": "stdout",
     "output_type": "stream",
     "text": [
      "\n",
      "LOGISTIC REGRESSION\n",
      "TRAIN AND VALIDATION SETS:\n",
      "1 of KFold 5\n",
      "ROC AUC score: 0.6835290363752393\n",
      "2 of KFold 5\n",
      "ROC AUC score: 0.7336507936507937\n",
      "3 of KFold 5\n",
      "ROC AUC score: 0.6666937742839071\n",
      "4 of KFold 5\n",
      "ROC AUC score: 0.7241121081489392\n",
      "5 of KFold 5\n",
      "ROC AUC score: 0.6905291678018951\n",
      "\n",
      "CROSS VALIDANTION SUMMARY:\n",
      "Mean: 0.6997029760521548\n",
      "Std deviation: 0.025233400616209652\n",
      "\n",
      "TEST SET:\n",
      "F1-Score(micro): 0.8255110855168442\n",
      "F1-Score(macro): 0.5384168989965803\n",
      "F1-Score(weighted): 0.8827412519425704\n",
      "F1-Score(None): [0.90244688 0.17438692]\n",
      "Accuracy: 0.8255110855168443\n",
      "Sensitivity: 0.6808510638297872\n",
      "Specificity: 0.8295353654927493\n",
      "Confusion Matrix: [0.8295353654927493, 0.68]\n",
      "ROC AUC score: 0.7551932146612683\n",
      "Wall time: 243 ms\n"
     ]
    }
   ],
   "source": [
    "%%time\n",
    "LogisticRegr_(X_TL, y_TL, X_test, y_test)"
   ]
  },
  {
   "cell_type": "code",
   "execution_count": 22,
   "metadata": {},
   "outputs": [
    {
     "name": "stdout",
     "output_type": "stream",
     "text": [
      "Wall time: 0 ns\n",
      "\n",
      "DECISION TREE\n",
      "TRAIN AND VALIDATION SETS:\n",
      "1 of KFold 5\n",
      "ROC AUC score: 0.5398978940650926\n",
      "2 of KFold 5\n",
      "ROC AUC score: 0.5017460317460317\n",
      "3 of KFold 5\n",
      "ROC AUC score: 0.5131291226167887\n",
      "4 of KFold 5\n",
      "ROC AUC score: 0.5494054673560553\n",
      "5 of KFold 5\n",
      "ROC AUC score: 0.5260042987315715\n",
      "\n",
      "CROSS VALIDANTION SUMMARY:\n",
      "Mean: 0.526036562903108\n",
      "Std deviation: 0.017290894462275483\n",
      "\n",
      "TEST SET:\n",
      "F1-Score(micro): 0.9219694788367405\n",
      "F1-Score(macro): 0.5410728226042784\n",
      "F1-Score(weighted): 0.9365360070934182\n",
      "F1-Score(None): [0.9591683  0.12297735]\n",
      "Accuracy: 0.9219694788367405\n",
      "Sensitivity: 0.20212765957446807\n",
      "Specificity: 0.9419946729801717\n",
      "Confusion Matrix: [0.9419946729801717, 0.2]\n",
      "ROC AUC score: 0.57206116627732\n",
      "Wall time: 134 ms\n"
     ]
    }
   ],
   "source": [
    "%%time\n",
    "DecisionTree_(X_TL, y_TL, X_test, y_test)"
   ]
  },
  {
   "cell_type": "code",
   "execution_count": 23,
   "metadata": {},
   "outputs": [
    {
     "name": "stdout",
     "output_type": "stream",
     "text": [
      "Wall time: 0 ns\n",
      "RANDOM FOREST\n",
      "TRAIN AND VALIDATION SETS:\n",
      "1 of KFold 5\n",
      "ROC AUC score: 0.5581940012763242\n",
      "2 of KFold 5\n",
      "ROC AUC score: 0.501904761904762\n",
      "3 of KFold 5\n",
      "ROC AUC score: 0.5254630884611908\n",
      "4 of KFold 5\n",
      "ROC AUC score: 0.5325137074612869\n",
      "5 of KFold 5\n",
      "ROC AUC score: 0.5195032240486785\n",
      "\n",
      "CROSS VALIDANTION SUMMARY:\n",
      "Mean: 0.5275157566304485\n",
      "Std deviation: 0.018387340116970883\n",
      "\n",
      "TEST SET:\n",
      "F1-Score(micro): 0.9640080621940685\n",
      "F1-Score(macro): 0.527860704633572\n",
      "F1-Score(weighted): 0.957083014275942\n",
      "F1-Score(None): [0.98164734 0.07407407]\n",
      "Accuracy: 0.9640080621940685\n",
      "Sensitivity: 0.05319148936170213\n",
      "Specificity: 0.9893459603432968\n",
      "Confusion Matrix: [0.9893459603432968, 0.05]\n",
      "ROC AUC score: 0.5212687248524994\n",
      "Wall time: 2.15 s\n"
     ]
    }
   ],
   "source": [
    "%%time\n",
    "RandomForest_(X_TL, y_TL, X_test, y_test)"
   ]
  },
  {
   "cell_type": "code",
   "execution_count": 24,
   "metadata": {},
   "outputs": [
    {
     "name": "stdout",
     "output_type": "stream",
     "text": [
      "Wall time: 0 ns\n",
      "NEURAL NETWORK\n",
      "TRAIN AND VALIDATION SETS:\n",
      "1 of KFold 5\n",
      "ROC AUC score: 0.5287236758136566\n",
      "2 of KFold 5\n",
      "ROC AUC score: 0.4990476190476191\n",
      "3 of KFold 5\n",
      "ROC AUC score: 0.5\n",
      "4 of KFold 5\n",
      "ROC AUC score: 0.5102040816326531\n",
      "5 of KFold 5\n",
      "ROC AUC score: 0.5115868979505342\n",
      "\n",
      "CROSS VALIDANTION SUMMARY:\n",
      "Mean: 0.5099124548888926\n",
      "Std deviation: 0.01070562710154608\n",
      "\n",
      "TEST SET:\n",
      "F1-Score(micro): 0.9723581917650447\n",
      "F1-Score(macro): 0.492992700729927\n",
      "F1-Score(weighted): 0.9592987824741857\n",
      "F1-Score(None): [0.9859854 0.       ]\n",
      "Accuracy: 0.9723581917650447\n",
      "Sensitivity: 0.0\n",
      "Specificity: 0.999408108907961\n",
      "Confusion Matrix: [0.999408108907961, 0.0]\n",
      "ROC AUC score: 0.4997040544539805\n",
      "Wall time: 11.5 s\n"
     ]
    }
   ],
   "source": [
    "%%time\n",
    "NN_(X_TL, y_TL, X_test, y_test)"
   ]
  },
  {
   "cell_type": "markdown",
   "metadata": {},
   "source": [
    "## Oversampling"
   ]
  },
  {
   "cell_type": "code",
   "execution_count": 25,
   "metadata": {},
   "outputs": [
    {
     "name": "stdout",
     "output_type": "stream",
     "text": [
      "Resampling dataset using Random OverSampling (ROS)...\n",
      "X and Y ROS: 15768 15768\n"
     ]
    },
    {
     "name": "stderr",
     "output_type": "stream",
     "text": [
      "C:\\Users\\cristiano.melo\\AppData\\Local\\Continuum\\anaconda3\\lib\\site-packages\\sklearn\\utils\\validation.py:724: DataConversionWarning: A column-vector y was passed when a 1d array was expected. Please change the shape of y to (n_samples, ), for example using ravel().\n",
      "  y = column_or_1d(y, warn=True)\n"
     ]
    }
   ],
   "source": [
    "print(\"Resampling dataset using Random OverSampling (ROS)...\")\n",
    "ros = RandomOverSampler(random_state=42)\n",
    "X_ROS, y_ROS = ros.fit_resample(X_train, y_train)\n",
    "print(\"X and Y ROS:\", len(X_ROS), len(y_ROS))"
   ]
  },
  {
   "cell_type": "code",
   "execution_count": 26,
   "metadata": {},
   "outputs": [
    {
     "name": "stdout",
     "output_type": "stream",
     "text": [
      "Wall time: 0 ns\n",
      "\n",
      "LOGISTIC REGRESSION\n",
      "TRAIN AND VALIDATION SETS:\n",
      "1 of KFold 5\n",
      "ROC AUC score: 0.7105263157894738\n",
      "2 of KFold 5\n",
      "ROC AUC score: 0.7102092580849715\n",
      "3 of KFold 5\n",
      "ROC AUC score: 0.703868103994927\n",
      "4 of KFold 5\n",
      "ROC AUC score: 0.7019657577679138\n",
      "5 of KFold 5\n",
      "ROC AUC score: 0.7030456852791878\n",
      "\n",
      "CROSS VALIDANTION SUMMARY:\n",
      "Mean: 0.7059230241832948\n",
      "Std deviation: 0.0036803214072510556\n",
      "\n",
      "TEST SET:\n",
      "F1-Score(micro): 0.8350129570976101\n",
      "F1-Score(macro): 0.5477109164856969\n",
      "F1-Score(weighted): 0.8886745015327111\n",
      "F1-Score(None): [0.90818779 0.18723404]\n",
      "Accuracy: 0.8350129570976101\n",
      "Sensitivity: 0.7021276595744681\n",
      "Specificity: 0.8387096774193549\n",
      "Confusion Matrix: [0.8387096774193549, 0.7]\n",
      "ROC AUC score: 0.7704186684969115\n",
      "Wall time: 337 ms\n"
     ]
    }
   ],
   "source": [
    "%%time\n",
    "LogisticRegr_NoIloc(X_ROS, y_ROS, X_test, y_test)"
   ]
  },
  {
   "cell_type": "code",
   "execution_count": 27,
   "metadata": {},
   "outputs": [
    {
     "name": "stdout",
     "output_type": "stream",
     "text": [
      "Wall time: 0 ns\n",
      "\n",
      "DECISION TREE\n",
      "TRAIN AND VALIDATION SETS:\n",
      "1 of KFold 5\n",
      "ROC AUC score: 0.959416613823716\n",
      "2 of KFold 5\n",
      "ROC AUC score: 0.9454660748256182\n",
      "3 of KFold 5\n",
      "ROC AUC score: 0.9521242866201649\n",
      "4 of KFold 5\n",
      "ROC AUC score: 0.9502219403931516\n",
      "5 of KFold 5\n",
      "ROC AUC score: 0.9559010152284264\n",
      "\n",
      "CROSS VALIDANTION SUMMARY:\n",
      "Mean: 0.9526259861782155\n",
      "Std deviation: 0.004777738131372316\n",
      "\n",
      "TEST SET:\n",
      "F1-Score(micro): 0.9110279297437374\n",
      "F1-Score(macro): 0.512672963300515\n",
      "F1-Score(weighted): 0.9294233023979627\n",
      "F1-Score(None): [0.95327385 0.07207207]\n",
      "Accuracy: 0.9110279297437374\n",
      "Sensitivity: 0.1276595744680851\n",
      "Specificity: 0.9328203610535661\n",
      "Confusion Matrix: [0.9328203610535661, 0.13]\n",
      "ROC AUC score: 0.5302399677608256\n",
      "Wall time: 198 ms\n"
     ]
    }
   ],
   "source": [
    "%%time\n",
    "DecisionTree_NoIloc(X_ROS, y_ROS, X_test, y_test)"
   ]
  },
  {
   "cell_type": "code",
   "execution_count": 28,
   "metadata": {},
   "outputs": [
    {
     "name": "stdout",
     "output_type": "stream",
     "text": [
      "Wall time: 0 ns\n",
      "RANDOM FOREST\n",
      "TRAIN AND VALIDATION SETS:\n",
      "1 of KFold 5\n",
      "ROC AUC score: 0.962270133164236\n",
      "2 of KFold 5\n",
      "ROC AUC score: 0.9502219403931516\n",
      "3 of KFold 5\n",
      "ROC AUC score: 0.9533925174381738\n",
      "4 of KFold 5\n",
      "ROC AUC score: 0.9530754597336715\n",
      "5 of KFold 5\n",
      "ROC AUC score: 0.9590736040609137\n",
      "\n",
      "CROSS VALIDANTION SUMMARY:\n",
      "Mean: 0.9556067309580293\n",
      "Std deviation: 0.004398322021488502\n",
      "\n",
      "TEST SET:\n",
      "F1-Score(micro): 0.9450043190325367\n",
      "F1-Score(macro): 0.5497304191586688\n",
      "F1-Score(weighted): 0.9487699892526014\n",
      "F1-Score(None): [0.97160696 0.12785388]\n",
      "Accuracy: 0.9450043190325367\n",
      "Sensitivity: 0.14893617021276595\n",
      "Specificity: 0.9671500443918319\n",
      "Confusion Matrix: [0.9671500443918319, 0.15]\n",
      "ROC AUC score: 0.558043107302299\n",
      "Wall time: 3.96 s\n"
     ]
    }
   ],
   "source": [
    "%%time\n",
    "RandomForest_NoIloc(X_ROS, y_ROS, X_test, y_test)"
   ]
  },
  {
   "cell_type": "code",
   "execution_count": 29,
   "metadata": {},
   "outputs": [
    {
     "name": "stdout",
     "output_type": "stream",
     "text": [
      "Wall time: 0 ns\n",
      "NEURAL NETWORK\n",
      "TRAIN AND VALIDATION SETS:\n",
      "1 of KFold 5\n"
     ]
    },
    {
     "name": "stderr",
     "output_type": "stream",
     "text": [
      "C:\\Users\\cristiano.melo\\AppData\\Local\\Continuum\\anaconda3\\lib\\site-packages\\sklearn\\neural_network\\multilayer_perceptron.py:566: ConvergenceWarning: Stochastic Optimizer: Maximum iterations (200) reached and the optimization hasn't converged yet.\n",
      "  % self.max_iter, ConvergenceWarning)\n"
     ]
    },
    {
     "name": "stdout",
     "output_type": "stream",
     "text": [
      "ROC AUC score: 0.7574508560558021\n",
      "2 of KFold 5\n"
     ]
    },
    {
     "name": "stderr",
     "output_type": "stream",
     "text": [
      "C:\\Users\\cristiano.melo\\AppData\\Local\\Continuum\\anaconda3\\lib\\site-packages\\sklearn\\neural_network\\multilayer_perceptron.py:566: ConvergenceWarning: Stochastic Optimizer: Maximum iterations (200) reached and the optimization hasn't converged yet.\n",
      "  % self.max_iter, ConvergenceWarning)\n"
     ]
    },
    {
     "name": "stdout",
     "output_type": "stream",
     "text": [
      "ROC AUC score: 0.7517438173747621\n",
      "3 of KFold 5\n"
     ]
    },
    {
     "name": "stderr",
     "output_type": "stream",
     "text": [
      "C:\\Users\\cristiano.melo\\AppData\\Local\\Continuum\\anaconda3\\lib\\site-packages\\sklearn\\neural_network\\multilayer_perceptron.py:566: ConvergenceWarning: Stochastic Optimizer: Maximum iterations (200) reached and the optimization hasn't converged yet.\n",
      "  % self.max_iter, ConvergenceWarning)\n"
     ]
    },
    {
     "name": "stdout",
     "output_type": "stream",
     "text": [
      "ROC AUC score: 0.7400126823081802\n",
      "4 of KFold 5\n"
     ]
    },
    {
     "name": "stderr",
     "output_type": "stream",
     "text": [
      "C:\\Users\\cristiano.melo\\AppData\\Local\\Continuum\\anaconda3\\lib\\site-packages\\sklearn\\neural_network\\multilayer_perceptron.py:566: ConvergenceWarning: Stochastic Optimizer: Maximum iterations (200) reached and the optimization hasn't converged yet.\n",
      "  % self.max_iter, ConvergenceWarning)\n"
     ]
    },
    {
     "name": "stdout",
     "output_type": "stream",
     "text": [
      "ROC AUC score: 0.7520608750792644\n",
      "5 of KFold 5\n",
      "ROC AUC score: 0.748730964467005\n",
      "\n",
      "CROSS VALIDANTION SUMMARY:\n",
      "Mean: 0.7499998390570027\n",
      "Std deviation: 0.005729927169257319\n",
      "\n",
      "TEST SET:\n",
      "F1-Score(micro): 0.7903829542182551\n",
      "F1-Score(macro): 0.5149962401976581\n",
      "F1-Score(weighted): 0.8606765441937074\n",
      "F1-Score(None): [0.88045977 0.14953271]\n",
      "Accuracy: 0.7903829542182551\n",
      "Sensitivity: 0.6808510638297872\n",
      "Specificity: 0.7934300088783663\n",
      "Confusion Matrix: [0.7934300088783663, 0.68]\n",
      "ROC AUC score: 0.7371405363540768\n",
      "Wall time: 51.8 s\n"
     ]
    },
    {
     "name": "stderr",
     "output_type": "stream",
     "text": [
      "C:\\Users\\cristiano.melo\\AppData\\Local\\Continuum\\anaconda3\\lib\\site-packages\\sklearn\\neural_network\\multilayer_perceptron.py:566: ConvergenceWarning: Stochastic Optimizer: Maximum iterations (200) reached and the optimization hasn't converged yet.\n",
      "  % self.max_iter, ConvergenceWarning)\n"
     ]
    }
   ],
   "source": [
    "%%time\n",
    "NN_NoIloc(X_ROS, y_ROS, X_test, y_test)"
   ]
  },
  {
   "cell_type": "code",
   "execution_count": 30,
   "metadata": {},
   "outputs": [
    {
     "name": "stdout",
     "output_type": "stream",
     "text": [
      "Resampling dataset using SMOTE (SMO)...\n",
      "X and Y SMO: 15768 15768\n"
     ]
    },
    {
     "name": "stderr",
     "output_type": "stream",
     "text": [
      "C:\\Users\\cristiano.melo\\AppData\\Local\\Continuum\\anaconda3\\lib\\site-packages\\sklearn\\utils\\validation.py:724: DataConversionWarning: A column-vector y was passed when a 1d array was expected. Please change the shape of y to (n_samples, ), for example using ravel().\n",
      "  y = column_or_1d(y, warn=True)\n"
     ]
    }
   ],
   "source": [
    "print(\"Resampling dataset using SMOTE (SMO)...\")\n",
    "sm = SMOTE(random_state=42)\n",
    "X_SMO, y_SMO = sm.fit_resample(X_train, y_train)\n",
    "print(\"X and Y SMO:\", len(X_SMO), len(y_SMO))"
   ]
  },
  {
   "cell_type": "code",
   "execution_count": 31,
   "metadata": {},
   "outputs": [
    {
     "name": "stdout",
     "output_type": "stream",
     "text": [
      "Wall time: 0 ns\n",
      "\n",
      "LOGISTIC REGRESSION\n",
      "TRAIN AND VALIDATION SETS:\n",
      "1 of KFold 5\n",
      "ROC AUC score: 0.7155992390615091\n",
      "2 of KFold 5\n",
      "ROC AUC score: 0.7117945466074825\n",
      "3 of KFold 5\n",
      "ROC AUC score: 0.6949904882688649\n",
      "4 of KFold 5\n",
      "ROC AUC score: 0.7064045656309448\n",
      "5 of KFold 5\n",
      "ROC AUC score: 0.7100253807106599\n",
      "\n",
      "CROSS VALIDANTION SUMMARY:\n",
      "Mean: 0.7077628440558923\n",
      "Std deviation: 0.00703932918526777\n",
      "\n",
      "TEST SET:\n",
      "F1-Score(micro): 0.8191765044630003\n",
      "F1-Score(macro): 0.536082325114435\n",
      "F1-Score(weighted): 0.8788631504590855\n",
      "F1-Score(None): [0.89848044 0.17368421]\n",
      "Accuracy: 0.8191765044630003\n",
      "Sensitivity: 0.7021276595744681\n",
      "Specificity: 0.8224326723882806\n",
      "Confusion Matrix: [0.8224326723882806, 0.7]\n",
      "ROC AUC score: 0.7622801659813744\n",
      "Wall time: 334 ms\n"
     ]
    }
   ],
   "source": [
    "%%time\n",
    "LogisticRegr_NoIloc(X_SMO, y_SMO, X_test, y_test)"
   ]
  },
  {
   "cell_type": "code",
   "execution_count": 32,
   "metadata": {},
   "outputs": [
    {
     "name": "stdout",
     "output_type": "stream",
     "text": [
      "Wall time: 0 ns\n",
      "\n",
      "DECISION TREE\n",
      "TRAIN AND VALIDATION SETS:\n",
      "1 of KFold 5\n",
      "ROC AUC score: 0.9267596702599873\n",
      "2 of KFold 5\n",
      "ROC AUC score: 0.9616360177552314\n",
      "3 of KFold 5\n",
      "ROC AUC score: 0.9663918833227648\n",
      "4 of KFold 5\n",
      "ROC AUC score: 0.9581483830057069\n",
      "5 of KFold 5\n",
      "ROC AUC score: 0.9685913705583757\n",
      "\n",
      "CROSS VALIDANTION SUMMARY:\n",
      "Mean: 0.9563054649804134\n",
      "Std deviation: 0.015214758862644921\n",
      "\n",
      "TEST SET:\n",
      "F1-Score(micro): 0.5692484883386122\n",
      "F1-Score(macro): 0.38663799372519686\n",
      "F1-Score(weighted): 0.7031949725141515\n",
      "F1-Score(None): [0.72131148 0.05196451]\n",
      "Accuracy: 0.5692484883386122\n",
      "Sensitivity: 0.43617021276595747\n",
      "Specificity: 0.5729505770938147\n",
      "Confusion Matrix: [0.5729505770938147, 0.44]\n",
      "ROC AUC score: 0.5045603949298861\n",
      "Wall time: 299 ms\n"
     ]
    }
   ],
   "source": [
    "%%time\n",
    "DecisionTree_NoIloc(X_SMO, y_SMO, X_test, y_test)"
   ]
  },
  {
   "cell_type": "code",
   "execution_count": 33,
   "metadata": {},
   "outputs": [
    {
     "name": "stdout",
     "output_type": "stream",
     "text": [
      "Wall time: 0 ns\n",
      "RANDOM FOREST\n",
      "TRAIN AND VALIDATION SETS:\n",
      "1 of KFold 5\n",
      "ROC AUC score: 0.9416613823715916\n",
      "2 of KFold 5\n",
      "ROC AUC score: 0.9781230183893469\n",
      "3 of KFold 5\n",
      "ROC AUC score: 0.9812935954343691\n",
      "4 of KFold 5\n",
      "ROC AUC score: 0.9720989220038048\n",
      "5 of KFold 5\n",
      "ROC AUC score: 0.9809644670050762\n",
      "\n",
      "CROSS VALIDANTION SUMMARY:\n",
      "Mean: 0.9708282770408377\n",
      "Std deviation: 0.014951928107636002\n",
      "\n",
      "TEST SET:\n",
      "F1-Score(micro): 0.7719550820616182\n",
      "F1-Score(macro): 0.48770086940974006\n",
      "F1-Score(weighted): 0.848649879290459\n",
      "F1-Score(None): [0.86930693 0.10609481]\n",
      "Accuracy: 0.7719550820616182\n",
      "Sensitivity: 0.5\n",
      "Specificity: 0.7795205682154484\n",
      "Confusion Matrix: [0.7795205682154484, 0.5]\n",
      "ROC AUC score: 0.6397602841077242\n",
      "Wall time: 5.63 s\n"
     ]
    }
   ],
   "source": [
    "%%time\n",
    "RandomForest_NoIloc(X_SMO, y_SMO, X_test, y_test)"
   ]
  },
  {
   "cell_type": "code",
   "execution_count": 34,
   "metadata": {},
   "outputs": [
    {
     "name": "stdout",
     "output_type": "stream",
     "text": [
      "Wall time: 0 ns\n",
      "NEURAL NETWORK\n",
      "TRAIN AND VALIDATION SETS:\n",
      "1 of KFold 5\n"
     ]
    },
    {
     "name": "stderr",
     "output_type": "stream",
     "text": [
      "C:\\Users\\cristiano.melo\\AppData\\Local\\Continuum\\anaconda3\\lib\\site-packages\\sklearn\\neural_network\\multilayer_perceptron.py:566: ConvergenceWarning: Stochastic Optimizer: Maximum iterations (200) reached and the optimization hasn't converged yet.\n",
      "  % self.max_iter, ConvergenceWarning)\n"
     ]
    },
    {
     "name": "stdout",
     "output_type": "stream",
     "text": [
      "ROC AUC score: 0.7517438173747623\n",
      "2 of KFold 5\n"
     ]
    },
    {
     "name": "stderr",
     "output_type": "stream",
     "text": [
      "C:\\Users\\cristiano.melo\\AppData\\Local\\Continuum\\anaconda3\\lib\\site-packages\\sklearn\\neural_network\\multilayer_perceptron.py:566: ConvergenceWarning: Stochastic Optimizer: Maximum iterations (200) reached and the optimization hasn't converged yet.\n",
      "  % self.max_iter, ConvergenceWarning)\n"
     ]
    },
    {
     "name": "stdout",
     "output_type": "stream",
     "text": [
      "ROC AUC score: 0.7511097019657579\n",
      "3 of KFold 5\n"
     ]
    },
    {
     "name": "stderr",
     "output_type": "stream",
     "text": [
      "C:\\Users\\cristiano.melo\\AppData\\Local\\Continuum\\anaconda3\\lib\\site-packages\\sklearn\\neural_network\\multilayer_perceptron.py:566: ConvergenceWarning: Stochastic Optimizer: Maximum iterations (200) reached and the optimization hasn't converged yet.\n",
      "  % self.max_iter, ConvergenceWarning)\n"
     ]
    },
    {
     "name": "stdout",
     "output_type": "stream",
     "text": [
      "ROC AUC score: 0.7390615091946734\n",
      "4 of KFold 5\n"
     ]
    },
    {
     "name": "stderr",
     "output_type": "stream",
     "text": [
      "C:\\Users\\cristiano.melo\\AppData\\Local\\Continuum\\anaconda3\\lib\\site-packages\\sklearn\\neural_network\\multilayer_perceptron.py:566: ConvergenceWarning: Stochastic Optimizer: Maximum iterations (200) reached and the optimization hasn't converged yet.\n",
      "  % self.max_iter, ConvergenceWarning)\n"
     ]
    },
    {
     "name": "stdout",
     "output_type": "stream",
     "text": [
      "ROC AUC score: 0.7352568167406469\n",
      "5 of KFold 5\n",
      "ROC AUC score: 0.7423857868020305\n",
      "\n",
      "CROSS VALIDANTION SUMMARY:\n",
      "Mean: 0.7439115264155742\n",
      "Std deviation: 0.006540841855438672\n",
      "\n",
      "TEST SET:\n",
      "F1-Score(micro): 0.7854880506766484\n",
      "F1-Score(macro): 0.5090810290422546\n",
      "F1-Score(weighted): 0.8575066108031846\n",
      "F1-Score(None): [0.87744695 0.14071511]\n",
      "Accuracy: 0.7854880506766484\n",
      "Sensitivity: 0.648936170212766\n",
      "Specificity: 0.789286771234093\n",
      "Confusion Matrix: [0.789286771234093, 0.65]\n",
      "ROC AUC score: 0.7191114707234295\n",
      "Wall time: 52.1 s\n"
     ]
    },
    {
     "name": "stderr",
     "output_type": "stream",
     "text": [
      "C:\\Users\\cristiano.melo\\AppData\\Local\\Continuum\\anaconda3\\lib\\site-packages\\sklearn\\neural_network\\multilayer_perceptron.py:566: ConvergenceWarning: Stochastic Optimizer: Maximum iterations (200) reached and the optimization hasn't converged yet.\n",
      "  % self.max_iter, ConvergenceWarning)\n"
     ]
    }
   ],
   "source": [
    "%%time\n",
    "NN_NoIloc(X_SMO, y_SMO, X_test, y_test)"
   ]
  },
  {
   "cell_type": "code",
   "execution_count": 35,
   "metadata": {},
   "outputs": [
    {
     "name": "stdout",
     "output_type": "stream",
     "text": [
      "Resampling dataset using ADASYN (ADA)...\n",
      "X and Y ADA: 15729 15729\n"
     ]
    },
    {
     "name": "stderr",
     "output_type": "stream",
     "text": [
      "C:\\Users\\cristiano.melo\\AppData\\Local\\Continuum\\anaconda3\\lib\\site-packages\\sklearn\\utils\\validation.py:724: DataConversionWarning: A column-vector y was passed when a 1d array was expected. Please change the shape of y to (n_samples, ), for example using ravel().\n",
      "  y = column_or_1d(y, warn=True)\n"
     ]
    }
   ],
   "source": [
    "print(\"Resampling dataset using ADASYN (ADA)...\")\n",
    "ada = ADASYN(random_state=42)\n",
    "X_ADA, y_ADA = ada.fit_resample(X_train, y_train)\n",
    "print(\"X and Y ADA:\", len(X_ADA), len(y_ADA))"
   ]
  },
  {
   "cell_type": "code",
   "execution_count": 36,
   "metadata": {},
   "outputs": [
    {
     "name": "stdout",
     "output_type": "stream",
     "text": [
      "Wall time: 0 ns\n",
      "\n",
      "LOGISTIC REGRESSION\n",
      "TRAIN AND VALIDATION SETS:\n",
      "1 of KFold 5\n",
      "ROC AUC score: 0.6668556080010897\n",
      "2 of KFold 5\n",
      "ROC AUC score: 0.7171528016059406\n",
      "3 of KFold 5\n",
      "ROC AUC score: 0.6914533448274329\n",
      "4 of KFold 5\n",
      "ROC AUC score: 0.7077138179365343\n",
      "5 of KFold 5\n",
      "ROC AUC score: 0.684616968032275\n",
      "\n",
      "CROSS VALIDANTION SUMMARY:\n",
      "Mean: 0.6935585080806546\n",
      "Std deviation: 0.01763230675488627\n",
      "\n",
      "TEST SET:\n",
      "F1-Score(micro): 0.8122660524042614\n",
      "F1-Score(macro): 0.5312787724632209\n",
      "F1-Score(weighted): 0.8745451222610334\n",
      "F1-Score(None): [0.8941902  0.16836735]\n",
      "Accuracy: 0.8122660524042614\n",
      "Sensitivity: 0.7021276595744681\n",
      "Specificity: 0.8153299792838118\n",
      "Confusion Matrix: [0.8153299792838118, 0.7]\n",
      "ROC AUC score: 0.75872881942914\n",
      "Wall time: 374 ms\n"
     ]
    }
   ],
   "source": [
    "%%time\n",
    "LogisticRegr_NoIloc(X_ADA, y_ADA, X_test, y_test)"
   ]
  },
  {
   "cell_type": "code",
   "execution_count": 37,
   "metadata": {},
   "outputs": [
    {
     "name": "stdout",
     "output_type": "stream",
     "text": [
      "Wall time: 0 ns\n",
      "\n",
      "DECISION TREE\n",
      "TRAIN AND VALIDATION SETS:\n",
      "1 of KFold 5\n",
      "ROC AUC score: 0.8716324490878882\n",
      "2 of KFold 5\n",
      "ROC AUC score: 0.9335037644792716\n",
      "3 of KFold 5\n",
      "ROC AUC score: 0.9146777307478883\n",
      "4 of KFold 5\n",
      "ROC AUC score: 0.9242735256210513\n",
      "5 of KFold 5\n",
      "ROC AUC score: 0.9341080192692813\n",
      "\n",
      "CROSS VALIDANTION SUMMARY:\n",
      "Mean: 0.9156390978410762\n",
      "Std deviation: 0.02311843453643435\n",
      "\n",
      "TEST SET:\n",
      "F1-Score(micro): 0.48027641808234955\n",
      "F1-Score(macro): 0.3424576307720805\n",
      "F1-Score(weighted): 0.6271964460640512\n",
      "F1-Score(None): [0.643492   0.04142326]\n",
      "Accuracy: 0.48027641808234955\n",
      "Sensitivity: 0.4148936170212766\n",
      "Specificity: 0.4820952944658183\n",
      "Confusion Matrix: [0.4820952944658183, 0.41]\n",
      "ROC AUC score: 0.4484944557435474\n",
      "Wall time: 328 ms\n"
     ]
    }
   ],
   "source": [
    "%%time\n",
    "DecisionTree_NoIloc(X_ADA, y_ADA, X_test, y_test)"
   ]
  },
  {
   "cell_type": "code",
   "execution_count": 38,
   "metadata": {},
   "outputs": [
    {
     "name": "stdout",
     "output_type": "stream",
     "text": [
      "Wall time: 0 ns\n",
      "RANDOM FOREST\n",
      "TRAIN AND VALIDATION SETS:\n",
      "1 of KFold 5\n",
      "ROC AUC score: 0.8757671321292012\n",
      "2 of KFold 5\n",
      "ROC AUC score: 0.9459078136032102\n",
      "3 of KFold 5\n",
      "ROC AUC score: 0.942685505027052\n",
      "4 of KFold 5\n",
      "ROC AUC score: 0.9561053916784173\n",
      "5 of KFold 5\n",
      "ROC AUC score: 0.9433269274943139\n",
      "\n",
      "CROSS VALIDANTION SUMMARY:\n",
      "Mean: 0.9327585539864389\n",
      "Std deviation: 0.028900639783780394\n",
      "\n",
      "TEST SET:\n",
      "F1-Score(micro): 0.7679239850273539\n",
      "F1-Score(macro): 0.4806454365992311\n",
      "F1-Score(weighted): 0.8459996880844743\n",
      "F1-Score(None): [0.86690885 0.09438202]\n",
      "Accuracy: 0.7679239850273539\n",
      "Sensitivity: 0.44680851063829785\n",
      "Specificity: 0.7768570583012726\n",
      "Confusion Matrix: [0.7768570583012726, 0.45]\n",
      "ROC AUC score: 0.6118327844697852\n",
      "Wall time: 5.96 s\n"
     ]
    }
   ],
   "source": [
    "%%time\n",
    "RandomForest_NoIloc(X_ADA, y_ADA, X_test, y_test)"
   ]
  },
  {
   "cell_type": "code",
   "execution_count": 39,
   "metadata": {},
   "outputs": [
    {
     "name": "stdout",
     "output_type": "stream",
     "text": [
      "Wall time: 0 ns\n",
      "NEURAL NETWORK\n",
      "TRAIN AND VALIDATION SETS:\n",
      "1 of KFold 5\n"
     ]
    },
    {
     "name": "stderr",
     "output_type": "stream",
     "text": [
      "C:\\Users\\cristiano.melo\\AppData\\Local\\Continuum\\anaconda3\\lib\\site-packages\\sklearn\\neural_network\\multilayer_perceptron.py:566: ConvergenceWarning: Stochastic Optimizer: Maximum iterations (200) reached and the optimization hasn't converged yet.\n",
      "  % self.max_iter, ConvergenceWarning)\n"
     ]
    },
    {
     "name": "stdout",
     "output_type": "stream",
     "text": [
      "ROC AUC score: 0.7042552821732739\n",
      "2 of KFold 5\n"
     ]
    },
    {
     "name": "stderr",
     "output_type": "stream",
     "text": [
      "C:\\Users\\cristiano.melo\\AppData\\Local\\Continuum\\anaconda3\\lib\\site-packages\\sklearn\\neural_network\\multilayer_perceptron.py:566: ConvergenceWarning: Stochastic Optimizer: Maximum iterations (200) reached and the optimization hasn't converged yet.\n",
      "  % self.max_iter, ConvergenceWarning)\n"
     ]
    },
    {
     "name": "stdout",
     "output_type": "stream",
     "text": [
      "ROC AUC score: 0.7335814021912346\n",
      "3 of KFold 5\n"
     ]
    },
    {
     "name": "stderr",
     "output_type": "stream",
     "text": [
      "C:\\Users\\cristiano.melo\\AppData\\Local\\Continuum\\anaconda3\\lib\\site-packages\\sklearn\\neural_network\\multilayer_perceptron.py:566: ConvergenceWarning: Stochastic Optimizer: Maximum iterations (200) reached and the optimization hasn't converged yet.\n",
      "  % self.max_iter, ConvergenceWarning)\n"
     ]
    },
    {
     "name": "stdout",
     "output_type": "stream",
     "text": [
      "ROC AUC score: 0.7004910049779474\n",
      "4 of KFold 5\n"
     ]
    },
    {
     "name": "stderr",
     "output_type": "stream",
     "text": [
      "C:\\Users\\cristiano.melo\\AppData\\Local\\Continuum\\anaconda3\\lib\\site-packages\\sklearn\\neural_network\\multilayer_perceptron.py:566: ConvergenceWarning: Stochastic Optimizer: Maximum iterations (200) reached and the optimization hasn't converged yet.\n",
      "  % self.max_iter, ConvergenceWarning)\n"
     ]
    },
    {
     "name": "stdout",
     "output_type": "stream",
     "text": [
      "ROC AUC score: 0.7508124477380187\n",
      "5 of KFold 5\n",
      "ROC AUC score: 0.6628266007318185\n",
      "\n",
      "CROSS VALIDANTION SUMMARY:\n",
      "Mean: 0.7103933475624585\n",
      "Std deviation: 0.030231497402220087\n",
      "\n",
      "TEST SET:\n",
      "F1-Score(micro): 0.7546789519147711\n",
      "F1-Score(macro): 0.4859827176003647\n",
      "F1-Score(weighted): 0.8375028807715416\n",
      "F1-Score(None): [0.85762032 0.11434511]\n",
      "Accuracy: 0.7546789519147711\n",
      "Sensitivity: 0.5851063829787234\n",
      "Specificity: 0.7593962710861202\n",
      "Confusion Matrix: [0.7593962710861202, 0.59]\n",
      "ROC AUC score: 0.6722513270324219\n",
      "Wall time: 53 s\n"
     ]
    },
    {
     "name": "stderr",
     "output_type": "stream",
     "text": [
      "C:\\Users\\cristiano.melo\\AppData\\Local\\Continuum\\anaconda3\\lib\\site-packages\\sklearn\\neural_network\\multilayer_perceptron.py:566: ConvergenceWarning: Stochastic Optimizer: Maximum iterations (200) reached and the optimization hasn't converged yet.\n",
      "  % self.max_iter, ConvergenceWarning)\n"
     ]
    }
   ],
   "source": [
    "%%time\n",
    "NN_NoIloc(X_ADA, y_ADA, X_test, y_test)"
   ]
  }
 ],
 "metadata": {
  "kernelspec": {
   "display_name": "Python 3",
   "language": "python",
   "name": "python3"
  },
  "language_info": {
   "codemirror_mode": {
    "name": "ipython",
    "version": 3
   },
   "file_extension": ".py",
   "mimetype": "text/x-python",
   "name": "python",
   "nbconvert_exporter": "python",
   "pygments_lexer": "ipython3",
   "version": "3.6.8"
  }
 },
 "nbformat": 4,
 "nbformat_minor": 2
}
