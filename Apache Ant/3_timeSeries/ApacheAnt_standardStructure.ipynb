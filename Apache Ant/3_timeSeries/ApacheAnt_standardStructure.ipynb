{
 "cells": [
  {
   "cell_type": "code",
   "execution_count": 1,
   "metadata": {},
   "outputs": [
    {
     "name": "stderr",
     "output_type": "stream",
     "text": [
      "C:\\Users\\cristiano.melo\\AppData\\Local\\Continuum\\anaconda3\\lib\\site-packages\\h5py\\__init__.py:36: FutureWarning: Conversion of the second argument of issubdtype from `float` to `np.floating` is deprecated. In future, it will be treated as `np.float64 == np.dtype(float).type`.\n",
      "  from ._conv import register_converters as _register_converters\n",
      "Using TensorFlow backend.\n"
     ]
    }
   ],
   "source": [
    "%run auxStandardStructure.ipynb"
   ]
  },
  {
   "cell_type": "code",
   "execution_count": 2,
   "metadata": {},
   "outputs": [
    {
     "name": "stdout",
     "output_type": "stream",
     "text": [
      "No GPU found\n"
     ]
    }
   ],
   "source": [
    "import tensorflow as tf\n",
    "import os\n",
    "\n",
    "os.environ['CUDA_VISIBLE_DEVICES'] = '-1'\n",
    "\n",
    "if tf.test.gpu_device_name():\n",
    "    print('GPU found')\n",
    "else:\n",
    "    print(\"No GPU found\")"
   ]
  },
  {
   "cell_type": "markdown",
   "metadata": {},
   "source": [
    "## Preprocessing"
   ]
  },
  {
   "cell_type": "code",
   "execution_count": 3,
   "metadata": {},
   "outputs": [],
   "source": [
    "all_releases_df = pd.read_csv('all_releases.csv')"
   ]
  },
  {
   "cell_type": "code",
   "execution_count": 4,
   "metadata": {
    "scrolled": true
   },
   "outputs": [
    {
     "name": "stdout",
     "output_type": "stream",
     "text": [
      "Generating a new dataframe without containing the last release...\n",
      "... DONE!\n",
      "checking class larger than window size...\n",
      "DONE\n",
      "Setting the features...\n",
      "DONE\n",
      "X: (6080, 16) y: (6080,)\n"
     ]
    }
   ],
   "source": [
    "X, y = generateStandardTimeSeriesStructure(all_releases_df, 2)"
   ]
  },
  {
   "cell_type": "code",
   "execution_count": 5,
   "metadata": {
    "scrolled": true
   },
   "outputs": [
    {
     "name": "stdout",
     "output_type": "stream",
     "text": [
      "Declaring a dictionary to save results...\n",
      "... DONE!\n",
      "Splitting dataset into train and test sets...\n",
      "General information:\n",
      "X Train set: 4256 X Test set: 1824\n",
      "y Train set: 4256 y Test set: 1824\n",
      "... DONE!\n",
      "Scaling features...\n",
      "... DONE!\n",
      "Setting stratified k-fold...\n",
      "k = 10\n",
      "... DONE!\n",
      "\n"
     ]
    }
   ],
   "source": [
    "print(\"Declaring a dictionary to save results...\")\n",
    "results_dict = dict()\n",
    "print(\"... DONE!\")\n",
    "\n",
    "print(\"Splitting dataset into train and test sets...\")\n",
    "X_train, X_test, y_train, y_test = train_test_split(X, y, test_size=0.30, random_state=42)\n",
    "print(\"General information:\")\n",
    "print(\"X Train set:\", X_train.shape[0], \"X Test set:\", X_test.shape[0])\n",
    "print(\"y Train set:\", y_train.shape[0], \"y Test set:\", y_test.shape[0])\n",
    "print(\"... DONE!\")\n",
    "\n",
    "print(\"Scaling features...\")\n",
    "scaler = MinMaxScaler()\n",
    "X_train = pd.DataFrame(scaler.fit_transform(X_train))\n",
    "X_test = pd.DataFrame(scaler.fit_transform(X_test))\n",
    "print(\"... DONE!\")\n",
    "\n",
    "print(\"Setting stratified k-fold...\")\n",
    "k=10\n",
    "kf = StratifiedKFold(n_splits=k, shuffle=False, random_state=42)\n",
    "print(\"k =\", k)\n",
    "print(\"... DONE!\\n\")"
   ]
  },
  {
   "cell_type": "code",
   "execution_count": 6,
   "metadata": {},
   "outputs": [],
   "source": [
    "y_test = pd.DataFrame(y_test)\n",
    "y_train = pd.DataFrame(y_train)"
   ]
  },
  {
   "cell_type": "markdown",
   "metadata": {},
   "source": [
    "## Statistical Analysis"
   ]
  },
  {
   "cell_type": "code",
   "execution_count": 7,
   "metadata": {
    "scrolled": true
   },
   "outputs": [
    {
     "data": {
      "text/html": [
       "<div>\n",
       "<style scoped>\n",
       "    .dataframe tbody tr th:only-of-type {\n",
       "        vertical-align: middle;\n",
       "    }\n",
       "\n",
       "    .dataframe tbody tr th {\n",
       "        vertical-align: top;\n",
       "    }\n",
       "\n",
       "    .dataframe thead th {\n",
       "        text-align: right;\n",
       "    }\n",
       "</style>\n",
       "<table border=\"1\" class=\"dataframe\">\n",
       "  <thead>\n",
       "    <tr style=\"text-align: right;\">\n",
       "      <th></th>\n",
       "      <th>CountClassCoupled</th>\n",
       "      <th>CountDeclMethod</th>\n",
       "      <th>CountDeclMethodAll</th>\n",
       "      <th>CountClassDerived</th>\n",
       "      <th>CountLineCode</th>\n",
       "      <th>SumCyclomatic</th>\n",
       "      <th>PercentLackOfCohesion</th>\n",
       "      <th>MaxInheritanceTree</th>\n",
       "      <th>class_frequency</th>\n",
       "      <th>will_change</th>\n",
       "      <th>number_of_changes</th>\n",
       "      <th>release</th>\n",
       "    </tr>\n",
       "  </thead>\n",
       "  <tbody>\n",
       "    <tr>\n",
       "      <th>count</th>\n",
       "      <td>10767.000000</td>\n",
       "      <td>10767.000000</td>\n",
       "      <td>10767.000000</td>\n",
       "      <td>10767.000000</td>\n",
       "      <td>10767.000000</td>\n",
       "      <td>10767.000000</td>\n",
       "      <td>10767.000000</td>\n",
       "      <td>10767.000000</td>\n",
       "      <td>10767.000000</td>\n",
       "      <td>10767.000000</td>\n",
       "      <td>10767.000000</td>\n",
       "      <td>10767.000000</td>\n",
       "    </tr>\n",
       "    <tr>\n",
       "      <th>mean</th>\n",
       "      <td>3.212966</td>\n",
       "      <td>7.791957</td>\n",
       "      <td>23.463453</td>\n",
       "      <td>0.526702</td>\n",
       "      <td>79.394446</td>\n",
       "      <td>36.223553</td>\n",
       "      <td>32.550014</td>\n",
       "      <td>2.168478</td>\n",
       "      <td>3.288195</td>\n",
       "      <td>0.346893</td>\n",
       "      <td>5.302684</td>\n",
       "      <td>7.056283</td>\n",
       "    </tr>\n",
       "    <tr>\n",
       "      <th>std</th>\n",
       "      <td>4.262742</td>\n",
       "      <td>10.075647</td>\n",
       "      <td>27.670783</td>\n",
       "      <td>4.996340</td>\n",
       "      <td>127.175324</td>\n",
       "      <td>29.731811</td>\n",
       "      <td>35.272832</td>\n",
       "      <td>1.145320</td>\n",
       "      <td>2.113989</td>\n",
       "      <td>0.476004</td>\n",
       "      <td>3.552433</td>\n",
       "      <td>2.272490</td>\n",
       "    </tr>\n",
       "    <tr>\n",
       "      <th>min</th>\n",
       "      <td>0.000000</td>\n",
       "      <td>0.000000</td>\n",
       "      <td>0.000000</td>\n",
       "      <td>0.000000</td>\n",
       "      <td>0.000000</td>\n",
       "      <td>0.000000</td>\n",
       "      <td>0.000000</td>\n",
       "      <td>1.000000</td>\n",
       "      <td>1.000000</td>\n",
       "      <td>0.000000</td>\n",
       "      <td>0.000000</td>\n",
       "      <td>1.000000</td>\n",
       "    </tr>\n",
       "    <tr>\n",
       "      <th>25%</th>\n",
       "      <td>0.000000</td>\n",
       "      <td>2.000000</td>\n",
       "      <td>4.000000</td>\n",
       "      <td>0.000000</td>\n",
       "      <td>13.000000</td>\n",
       "      <td>8.000000</td>\n",
       "      <td>0.000000</td>\n",
       "      <td>1.000000</td>\n",
       "      <td>1.000000</td>\n",
       "      <td>0.000000</td>\n",
       "      <td>0.000000</td>\n",
       "      <td>6.000000</td>\n",
       "    </tr>\n",
       "    <tr>\n",
       "      <th>50%</th>\n",
       "      <td>2.000000</td>\n",
       "      <td>4.000000</td>\n",
       "      <td>12.000000</td>\n",
       "      <td>0.000000</td>\n",
       "      <td>37.000000</td>\n",
       "      <td>33.000000</td>\n",
       "      <td>19.000000</td>\n",
       "      <td>2.000000</td>\n",
       "      <td>3.000000</td>\n",
       "      <td>0.000000</td>\n",
       "      <td>6.000000</td>\n",
       "      <td>7.000000</td>\n",
       "    </tr>\n",
       "    <tr>\n",
       "      <th>75%</th>\n",
       "      <td>4.000000</td>\n",
       "      <td>10.000000</td>\n",
       "      <td>38.000000</td>\n",
       "      <td>0.000000</td>\n",
       "      <td>89.000000</td>\n",
       "      <td>62.000000</td>\n",
       "      <td>68.000000</td>\n",
       "      <td>3.000000</td>\n",
       "      <td>5.000000</td>\n",
       "      <td>1.000000</td>\n",
       "      <td>8.000000</td>\n",
       "      <td>9.000000</td>\n",
       "    </tr>\n",
       "    <tr>\n",
       "      <th>max</th>\n",
       "      <td>40.000000</td>\n",
       "      <td>125.000000</td>\n",
       "      <td>210.000000</td>\n",
       "      <td>166.000000</td>\n",
       "      <td>1586.000000</td>\n",
       "      <td>99.000000</td>\n",
       "      <td>100.000000</td>\n",
       "      <td>7.000000</td>\n",
       "      <td>10.000000</td>\n",
       "      <td>1.000000</td>\n",
       "      <td>10.000000</td>\n",
       "      <td>10.000000</td>\n",
       "    </tr>\n",
       "  </tbody>\n",
       "</table>\n",
       "</div>"
      ],
      "text/plain": [
       "       CountClassCoupled  CountDeclMethod  CountDeclMethodAll  \\\n",
       "count       10767.000000     10767.000000        10767.000000   \n",
       "mean            3.212966         7.791957           23.463453   \n",
       "std             4.262742        10.075647           27.670783   \n",
       "min             0.000000         0.000000            0.000000   \n",
       "25%             0.000000         2.000000            4.000000   \n",
       "50%             2.000000         4.000000           12.000000   \n",
       "75%             4.000000        10.000000           38.000000   \n",
       "max            40.000000       125.000000          210.000000   \n",
       "\n",
       "       CountClassDerived  CountLineCode  SumCyclomatic  PercentLackOfCohesion  \\\n",
       "count       10767.000000   10767.000000   10767.000000           10767.000000   \n",
       "mean            0.526702      79.394446      36.223553              32.550014   \n",
       "std             4.996340     127.175324      29.731811              35.272832   \n",
       "min             0.000000       0.000000       0.000000               0.000000   \n",
       "25%             0.000000      13.000000       8.000000               0.000000   \n",
       "50%             0.000000      37.000000      33.000000              19.000000   \n",
       "75%             0.000000      89.000000      62.000000              68.000000   \n",
       "max           166.000000    1586.000000      99.000000             100.000000   \n",
       "\n",
       "       MaxInheritanceTree  class_frequency   will_change  number_of_changes  \\\n",
       "count        10767.000000     10767.000000  10767.000000       10767.000000   \n",
       "mean             2.168478         3.288195      0.346893           5.302684   \n",
       "std              1.145320         2.113989      0.476004           3.552433   \n",
       "min              1.000000         1.000000      0.000000           0.000000   \n",
       "25%              1.000000         1.000000      0.000000           0.000000   \n",
       "50%              2.000000         3.000000      0.000000           6.000000   \n",
       "75%              3.000000         5.000000      1.000000           8.000000   \n",
       "max              7.000000        10.000000      1.000000          10.000000   \n",
       "\n",
       "            release  \n",
       "count  10767.000000  \n",
       "mean       7.056283  \n",
       "std        2.272490  \n",
       "min        1.000000  \n",
       "25%        6.000000  \n",
       "50%        7.000000  \n",
       "75%        9.000000  \n",
       "max       10.000000  "
      ]
     },
     "execution_count": 7,
     "metadata": {},
     "output_type": "execute_result"
    }
   ],
   "source": [
    "all_releases_df.describe()"
   ]
  },
  {
   "cell_type": "code",
   "execution_count": 8,
   "metadata": {},
   "outputs": [
    {
     "data": {
      "text/plain": [
       "0\n",
       "False    2427\n",
       "True     1829\n",
       "Name: 0, dtype: int64"
      ]
     },
     "execution_count": 8,
     "metadata": {},
     "output_type": "execute_result"
    },
    {
     "data": {
      "image/png": "[encoded data removed]",
      "text/plain": [
       "<Figure size 360x360 with 1 Axes>"
      ]
     },
     "metadata": {},
     "output_type": "display_data"
    }
   ],
   "source": [
    "ax = y_train.groupby([0])[0].count().plot.bar(title=\"Class Distribution\", figsize=(5,5))\n",
    "y_train.groupby([0])[0].count()"
   ]
  },
  {
   "cell_type": "code",
   "execution_count": 9,
   "metadata": {
    "scrolled": true
   },
   "outputs": [
    {
     "data": {
      "text/html": [
       "<style  type=\"text/css\" >\n",
       "    #T_2c1b981e_0f84_11ea_8c01_08d40c109473row0_col0 {\n",
       "            background-color:  #b40426;\n",
       "        }    #T_2c1b981e_0f84_11ea_8c01_08d40c109473row0_col1 {\n",
       "            background-color:  #3c4ec2;\n",
       "        }    #T_2c1b981e_0f84_11ea_8c01_08d40c109473row0_col2 {\n",
       "            background-color:  #e3d9d3;\n",
       "        }    #T_2c1b981e_0f84_11ea_8c01_08d40c109473row0_col3 {\n",
       "            background-color:  #aec9fc;\n",
       "        }    #T_2c1b981e_0f84_11ea_8c01_08d40c109473row0_col4 {\n",
       "            background-color:  #f7b497;\n",
       "        }    #T_2c1b981e_0f84_11ea_8c01_08d40c109473row0_col5 {\n",
       "            background-color:  #4055c8;\n",
       "        }    #T_2c1b981e_0f84_11ea_8c01_08d40c109473row0_col6 {\n",
       "            background-color:  #d4dbe6;\n",
       "        }    #T_2c1b981e_0f84_11ea_8c01_08d40c109473row0_col7 {\n",
       "            background-color:  #5b7ae5;\n",
       "        }    #T_2c1b981e_0f84_11ea_8c01_08d40c109473row0_col8 {\n",
       "            background-color:  #c83836;\n",
       "        }    #T_2c1b981e_0f84_11ea_8c01_08d40c109473row0_col9 {\n",
       "            background-color:  #3b4cc0;\n",
       "        }    #T_2c1b981e_0f84_11ea_8c01_08d40c109473row0_col10 {\n",
       "            background-color:  #dddcdc;\n",
       "        }    #T_2c1b981e_0f84_11ea_8c01_08d40c109473row0_col11 {\n",
       "            background-color:  #b1cbfc;\n",
       "        }    #T_2c1b981e_0f84_11ea_8c01_08d40c109473row0_col12 {\n",
       "            background-color:  #f7ba9f;\n",
       "        }    #T_2c1b981e_0f84_11ea_8c01_08d40c109473row0_col13 {\n",
       "            background-color:  #4e68d8;\n",
       "        }    #T_2c1b981e_0f84_11ea_8c01_08d40c109473row0_col14 {\n",
       "            background-color:  #cfdaea;\n",
       "        }    #T_2c1b981e_0f84_11ea_8c01_08d40c109473row0_col15 {\n",
       "            background-color:  #5470de;\n",
       "        }    #T_2c1b981e_0f84_11ea_8c01_08d40c109473row1_col0 {\n",
       "            background-color:  #7ea1fa;\n",
       "        }    #T_2c1b981e_0f84_11ea_8c01_08d40c109473row1_col1 {\n",
       "            background-color:  #b40426;\n",
       "        }    #T_2c1b981e_0f84_11ea_8c01_08d40c109473row1_col2 {\n",
       "            background-color:  #93b5fe;\n",
       "        }    #T_2c1b981e_0f84_11ea_8c01_08d40c109473row1_col3 {\n",
       "            background-color:  #6b8df0;\n",
       "        }    #T_2c1b981e_0f84_11ea_8c01_08d40c109473row1_col4 {\n",
       "            background-color:  #7da0f9;\n",
       "        }    #T_2c1b981e_0f84_11ea_8c01_08d40c109473row1_col5 {\n",
       "            background-color:  #4257c9;\n",
       "        }    #T_2c1b981e_0f84_11ea_8c01_08d40c109473row1_col6 {\n",
       "            background-color:  #9abbff;\n",
       "        }    #T_2c1b981e_0f84_11ea_8c01_08d40c109473row1_col7 {\n",
       "            background-color:  #6384eb;\n",
       "        }    #T_2c1b981e_0f84_11ea_8c01_08d40c109473row1_col8 {\n",
       "            background-color:  #80a3fa;\n",
       "        }    #T_2c1b981e_0f84_11ea_8c01_08d40c109473row1_col9 {\n",
       "            background-color:  #c83836;\n",
       "        }    #T_2c1b981e_0f84_11ea_8c01_08d40c109473row1_col10 {\n",
       "            background-color:  #93b5fe;\n",
       "        }    #T_2c1b981e_0f84_11ea_8c01_08d40c109473row1_col11 {\n",
       "            background-color:  #6788ee;\n",
       "        }    #T_2c1b981e_0f84_11ea_8c01_08d40c109473row1_col12 {\n",
       "            background-color:  #7da0f9;\n",
       "        }    #T_2c1b981e_0f84_11ea_8c01_08d40c109473row1_col13 {\n",
       "            background-color:  #3b4cc0;\n",
       "        }    #T_2c1b981e_0f84_11ea_8c01_08d40c109473row1_col14 {\n",
       "            background-color:  #98b9ff;\n",
       "        }    #T_2c1b981e_0f84_11ea_8c01_08d40c109473row1_col15 {\n",
       "            background-color:  #6180e9;\n",
       "        }    #T_2c1b981e_0f84_11ea_8c01_08d40c109473row2_col0 {\n",
       "            background-color:  #e6d7cf;\n",
       "        }    #T_2c1b981e_0f84_11ea_8c01_08d40c109473row2_col1 {\n",
       "            background-color:  #5b7ae5;\n",
       "        }    #T_2c1b981e_0f84_11ea_8c01_08d40c109473row2_col2 {\n",
       "            background-color:  #b40426;\n",
       "        }    #T_2c1b981e_0f84_11ea_8c01_08d40c109473row2_col3 {\n",
       "            background-color:  #e4d9d2;\n",
       "        }    #T_2c1b981e_0f84_11ea_8c01_08d40c109473row2_col4 {\n",
       "            background-color:  #e0654f;\n",
       "        }    #T_2c1b981e_0f84_11ea_8c01_08d40c109473row2_col5 {\n",
       "            background-color:  #3b4cc0;\n",
       "        }    #T_2c1b981e_0f84_11ea_8c01_08d40c109473row2_col6 {\n",
       "            background-color:  #f7b093;\n",
       "        }    #T_2c1b981e_0f84_11ea_8c01_08d40c109473row2_col7 {\n",
       "            background-color:  #6f92f3;\n",
       "        }    #T_2c1b981e_0f84_11ea_8c01_08d40c109473row2_col8 {\n",
       "            background-color:  #d9dce1;\n",
       "        }    #T_2c1b981e_0f84_11ea_8c01_08d40c109473row2_col9 {\n",
       "            background-color:  #5977e3;\n",
       "        }    #T_2c1b981e_0f84_11ea_8c01_08d40c109473row2_col10 {\n",
       "            background-color:  #c32e31;\n",
       "        }    #T_2c1b981e_0f84_11ea_8c01_08d40c109473row2_col11 {\n",
       "            background-color:  #e0dbd8;\n",
       "        }    #T_2c1b981e_0f84_11ea_8c01_08d40c109473row2_col12 {\n",
       "            background-color:  #e9785d;\n",
       "        }    #T_2c1b981e_0f84_11ea_8c01_08d40c109473row2_col13 {\n",
       "            background-color:  #465ecf;\n",
       "        }    #T_2c1b981e_0f84_11ea_8c01_08d40c109473row2_col14 {\n",
       "            background-color:  #f7bca1;\n",
       "        }    #T_2c1b981e_0f84_11ea_8c01_08d40c109473row2_col15 {\n",
       "            background-color:  #6a8bef;\n",
       "        }    #T_2c1b981e_0f84_11ea_8c01_08d40c109473row3_col0 {\n",
       "            background-color:  #bbd1f8;\n",
       "        }    #T_2c1b981e_0f84_11ea_8c01_08d40c109473row3_col1 {\n",
       "            background-color:  #3b4cc0;\n",
       "        }    #T_2c1b981e_0f84_11ea_8c01_08d40c109473row3_col2 {\n",
       "            background-color:  #e8d6cc;\n",
       "        }    #T_2c1b981e_0f84_11ea_8c01_08d40c109473row3_col3 {\n",
       "            background-color:  #b40426;\n",
       "        }    #T_2c1b981e_0f84_11ea_8c01_08d40c109473row3_col4 {\n",
       "            background-color:  #d6dce4;\n",
       "        }    #T_2c1b981e_0f84_11ea_8c01_08d40c109473row3_col5 {\n",
       "            background-color:  #f7a688;\n",
       "        }    #T_2c1b981e_0f84_11ea_8c01_08d40c109473row3_col6 {\n",
       "            background-color:  #b6cefa;\n",
       "        }    #T_2c1b981e_0f84_11ea_8c01_08d40c109473row3_col7 {\n",
       "            background-color:  #688aef;\n",
       "        }    #T_2c1b981e_0f84_11ea_8c01_08d40c109473row3_col8 {\n",
       "            background-color:  #bad0f8;\n",
       "        }    #T_2c1b981e_0f84_11ea_8c01_08d40c109473row3_col9 {\n",
       "            background-color:  #3b4cc0;\n",
       "        }    #T_2c1b981e_0f84_11ea_8c01_08d40c109473row3_col10 {\n",
       "            background-color:  #e3d9d3;\n",
       "        }    #T_2c1b981e_0f84_11ea_8c01_08d40c109473row3_col11 {\n",
       "            background-color:  #cd423b;\n",
       "        }    #T_2c1b981e_0f84_11ea_8c01_08d40c109473row3_col12 {\n",
       "            background-color:  #d7dce3;\n",
       "        }    #T_2c1b981e_0f84_11ea_8c01_08d40c109473row3_col13 {\n",
       "            background-color:  #f7b497;\n",
       "        }    #T_2c1b981e_0f84_11ea_8c01_08d40c109473row3_col14 {\n",
       "            background-color:  #b6cefa;\n",
       "        }    #T_2c1b981e_0f84_11ea_8c01_08d40c109473row3_col15 {\n",
       "            background-color:  #6485ec;\n",
       "        }    #T_2c1b981e_0f84_11ea_8c01_08d40c109473row4_col0 {\n",
       "            background-color:  #f7af91;\n",
       "        }    #T_2c1b981e_0f84_11ea_8c01_08d40c109473row4_col1 {\n",
       "            background-color:  #485fd1;\n",
       "        }    #T_2c1b981e_0f84_11ea_8c01_08d40c109473row4_col2 {\n",
       "            background-color:  #e0654f;\n",
       "        }    #T_2c1b981e_0f84_11ea_8c01_08d40c109473row4_col3 {\n",
       "            background-color:  #d4dbe6;\n",
       "        }    #T_2c1b981e_0f84_11ea_8c01_08d40c109473row4_col4 {\n",
       "            background-color:  #b40426;\n",
       "        }    #T_2c1b981e_0f84_11ea_8c01_08d40c109473row4_col5 {\n",
       "            background-color:  #3b4cc0;\n",
       "        }    #T_2c1b981e_0f84_11ea_8c01_08d40c109473row4_col6 {\n",
       "            background-color:  #f7b497;\n",
       "        }    #T_2c1b981e_0f84_11ea_8c01_08d40c109473row4_col7 {\n",
       "            background-color:  #81a4fb;\n",
       "        }    #T_2c1b981e_0f84_11ea_8c01_08d40c109473row4_col8 {\n",
       "            background-color:  #f5c0a7;\n",
       "        }    #T_2c1b981e_0f84_11ea_8c01_08d40c109473row4_col9 {\n",
       "            background-color:  #465ecf;\n",
       "        }    #T_2c1b981e_0f84_11ea_8c01_08d40c109473row4_col10 {\n",
       "            background-color:  #e7745b;\n",
       "        }    #T_2c1b981e_0f84_11ea_8c01_08d40c109473row4_col11 {\n",
       "            background-color:  #d2dbe8;\n",
       "        }    #T_2c1b981e_0f84_11ea_8c01_08d40c109473row4_col12 {\n",
       "            background-color:  #c0282f;\n",
       "        }    #T_2c1b981e_0f84_11ea_8c01_08d40c109473row4_col13 {\n",
       "            background-color:  #465ecf;\n",
       "        }    #T_2c1b981e_0f84_11ea_8c01_08d40c109473row4_col14 {\n",
       "            background-color:  #f6bda2;\n",
       "        }    #T_2c1b981e_0f84_11ea_8c01_08d40c109473row4_col15 {\n",
       "            background-color:  #7b9ff9;\n",
       "        }    #T_2c1b981e_0f84_11ea_8c01_08d40c109473row5_col0 {\n",
       "            background-color:  #7b9ff9;\n",
       "        }    #T_2c1b981e_0f84_11ea_8c01_08d40c109473row5_col1 {\n",
       "            background-color:  #3b4cc0;\n",
       "        }    #T_2c1b981e_0f84_11ea_8c01_08d40c109473row5_col2 {\n",
       "            background-color:  #6c8ff1;\n",
       "        }    #T_2c1b981e_0f84_11ea_8c01_08d40c109473row5_col3 {\n",
       "            background-color:  #f4987a;\n",
       "        }    #T_2c1b981e_0f84_11ea_8c01_08d40c109473row5_col4 {\n",
       "            background-color:  #688aef;\n",
       "        }    #T_2c1b981e_0f84_11ea_8c01_08d40c109473row5_col5 {\n",
       "            background-color:  #b40426;\n",
       "        }    #T_2c1b981e_0f84_11ea_8c01_08d40c109473row5_col6 {\n",
       "            background-color:  #5b7ae5;\n",
       "        }    #T_2c1b981e_0f84_11ea_8c01_08d40c109473row5_col7 {\n",
       "            background-color:  #5e7de7;\n",
       "        }    #T_2c1b981e_0f84_11ea_8c01_08d40c109473row5_col8 {\n",
       "            background-color:  #86a9fc;\n",
       "        }    #T_2c1b981e_0f84_11ea_8c01_08d40c109473row5_col9 {\n",
       "            background-color:  #3c4ec2;\n",
       "        }    #T_2c1b981e_0f84_11ea_8c01_08d40c109473row5_col10 {\n",
       "            background-color:  #6c8ff1;\n",
       "        }    #T_2c1b981e_0f84_11ea_8c01_08d40c109473row5_col11 {\n",
       "            background-color:  #f7b497;\n",
       "        }    #T_2c1b981e_0f84_11ea_8c01_08d40c109473row5_col12 {\n",
       "            background-color:  #6e90f2;\n",
       "        }    #T_2c1b981e_0f84_11ea_8c01_08d40c109473row5_col13 {\n",
       "            background-color:  #d44e41;\n",
       "        }    #T_2c1b981e_0f84_11ea_8c01_08d40c109473row5_col14 {\n",
       "            background-color:  #6282ea;\n",
       "        }    #T_2c1b981e_0f84_11ea_8c01_08d40c109473row5_col15 {\n",
       "            background-color:  #5d7ce6;\n",
       "        }    #T_2c1b981e_0f84_11ea_8c01_08d40c109473row6_col0 {\n",
       "            background-color:  #e5d8d1;\n",
       "        }    #T_2c1b981e_0f84_11ea_8c01_08d40c109473row6_col1 {\n",
       "            background-color:  #81a4fb;\n",
       "        }    #T_2c1b981e_0f84_11ea_8c01_08d40c109473row6_col2 {\n",
       "            background-color:  #f6a586;\n",
       "        }    #T_2c1b981e_0f84_11ea_8c01_08d40c109473row6_col3 {\n",
       "            background-color:  #c5d6f2;\n",
       "        }    #T_2c1b981e_0f84_11ea_8c01_08d40c109473row6_col4 {\n",
       "            background-color:  #f7aa8c;\n",
       "        }    #T_2c1b981e_0f84_11ea_8c01_08d40c109473row6_col5 {\n",
       "            background-color:  #485fd1;\n",
       "        }    #T_2c1b981e_0f84_11ea_8c01_08d40c109473row6_col6 {\n",
       "            background-color:  #b40426;\n",
       "        }    #T_2c1b981e_0f84_11ea_8c01_08d40c109473row6_col7 {\n",
       "            background-color:  #9fbfff;\n",
       "        }    #T_2c1b981e_0f84_11ea_8c01_08d40c109473row6_col8 {\n",
       "            background-color:  #e2dad5;\n",
       "        }    #T_2c1b981e_0f84_11ea_8c01_08d40c109473row6_col9 {\n",
       "            background-color:  #80a3fa;\n",
       "        }    #T_2c1b981e_0f84_11ea_8c01_08d40c109473row6_col10 {\n",
       "            background-color:  #f7ad90;\n",
       "        }    #T_2c1b981e_0f84_11ea_8c01_08d40c109473row6_col11 {\n",
       "            background-color:  #b6cefa;\n",
       "        }    #T_2c1b981e_0f84_11ea_8c01_08d40c109473row6_col12 {\n",
       "            background-color:  #f7b093;\n",
       "        }    #T_2c1b981e_0f84_11ea_8c01_08d40c109473row6_col13 {\n",
       "            background-color:  #3b4cc0;\n",
       "        }    #T_2c1b981e_0f84_11ea_8c01_08d40c109473row6_col14 {\n",
       "            background-color:  #c53334;\n",
       "        }    #T_2c1b981e_0f84_11ea_8c01_08d40c109473row6_col15 {\n",
       "            background-color:  #93b5fe;\n",
       "        }    #T_2c1b981e_0f84_11ea_8c01_08d40c109473row7_col0 {\n",
       "            background-color:  #84a7fc;\n",
       "        }    #T_2c1b981e_0f84_11ea_8c01_08d40c109473row7_col1 {\n",
       "            background-color:  #4961d2;\n",
       "        }    #T_2c1b981e_0f84_11ea_8c01_08d40c109473row7_col2 {\n",
       "            background-color:  #8db0fe;\n",
       "        }    #T_2c1b981e_0f84_11ea_8c01_08d40c109473row7_col3 {\n",
       "            background-color:  #7ea1fa;\n",
       "        }    #T_2c1b981e_0f84_11ea_8c01_08d40c109473row7_col4 {\n",
       "            background-color:  #9abbff;\n",
       "        }    #T_2c1b981e_0f84_11ea_8c01_08d40c109473row7_col5 {\n",
       "            background-color:  #4b64d5;\n",
       "        }    #T_2c1b981e_0f84_11ea_8c01_08d40c109473row7_col6 {\n",
       "            background-color:  #9fbfff;\n",
       "        }    #T_2c1b981e_0f84_11ea_8c01_08d40c109473row7_col7 {\n",
       "            background-color:  #b40426;\n",
       "        }    #T_2c1b981e_0f84_11ea_8c01_08d40c109473row7_col8 {\n",
       "            background-color:  #85a8fc;\n",
       "        }    #T_2c1b981e_0f84_11ea_8c01_08d40c109473row7_col9 {\n",
       "            background-color:  #455cce;\n",
       "        }    #T_2c1b981e_0f84_11ea_8c01_08d40c109473row7_col10 {\n",
       "            background-color:  #88abfd;\n",
       "        }    #T_2c1b981e_0f84_11ea_8c01_08d40c109473row7_col11 {\n",
       "            background-color:  #6e90f2;\n",
       "        }    #T_2c1b981e_0f84_11ea_8c01_08d40c109473row7_col12 {\n",
       "            background-color:  #9abbff;\n",
       "        }    #T_2c1b981e_0f84_11ea_8c01_08d40c109473row7_col13 {\n",
       "            background-color:  #3b4cc0;\n",
       "        }    #T_2c1b981e_0f84_11ea_8c01_08d40c109473row7_col14 {\n",
       "            background-color:  #9bbcff;\n",
       "        }    #T_2c1b981e_0f84_11ea_8c01_08d40c109473row7_col15 {\n",
       "            background-color:  #e97a5f;\n",
       "        }    #T_2c1b981e_0f84_11ea_8c01_08d40c109473row8_col0 {\n",
       "            background-color:  #c83836;\n",
       "        }    #T_2c1b981e_0f84_11ea_8c01_08d40c109473row8_col1 {\n",
       "            background-color:  #3b4cc0;\n",
       "        }    #T_2c1b981e_0f84_11ea_8c01_08d40c109473row8_col2 {\n",
       "            background-color:  #d3dbe7;\n",
       "        }    #T_2c1b981e_0f84_11ea_8c01_08d40c109473row8_col3 {\n",
       "            background-color:  #aac7fd;\n",
       "        }    #T_2c1b981e_0f84_11ea_8c01_08d40c109473row8_col4 {\n",
       "            background-color:  #f4c6af;\n",
       "        }    #T_2c1b981e_0f84_11ea_8c01_08d40c109473row8_col5 {\n",
       "            background-color:  #4961d2;\n",
       "        }    #T_2c1b981e_0f84_11ea_8c01_08d40c109473row8_col6 {\n",
       "            background-color:  #cedaeb;\n",
       "        }    #T_2c1b981e_0f84_11ea_8c01_08d40c109473row8_col7 {\n",
       "            background-color:  #5a78e4;\n",
       "        }    #T_2c1b981e_0f84_11ea_8c01_08d40c109473row8_col8 {\n",
       "            background-color:  #b40426;\n",
       "        }    #T_2c1b981e_0f84_11ea_8c01_08d40c109473row8_col9 {\n",
       "            background-color:  #3b4cc0;\n",
       "        }    #T_2c1b981e_0f84_11ea_8c01_08d40c109473row8_col10 {\n",
       "            background-color:  #d7dce3;\n",
       "        }    #T_2c1b981e_0f84_11ea_8c01_08d40c109473row8_col11 {\n",
       "            background-color:  #a2c1ff;\n",
       "        }    #T_2c1b981e_0f84_11ea_8c01_08d40c109473row8_col12 {\n",
       "            background-color:  #f6bda2;\n",
       "        }    #T_2c1b981e_0f84_11ea_8c01_08d40c109473row8_col13 {\n",
       "            background-color:  #4358cb;\n",
       "        }    #T_2c1b981e_0f84_11ea_8c01_08d40c109473row8_col14 {\n",
       "            background-color:  #d5dbe5;\n",
       "        }    #T_2c1b981e_0f84_11ea_8c01_08d40c109473row8_col15 {\n",
       "            background-color:  #5673e0;\n",
       "        }    #T_2c1b981e_0f84_11ea_8c01_08d40c109473row9_col0 {\n",
       "            background-color:  #7b9ff9;\n",
       "        }    #T_2c1b981e_0f84_11ea_8c01_08d40c109473row9_col1 {\n",
       "            background-color:  #c83836;\n",
       "        }    #T_2c1b981e_0f84_11ea_8c01_08d40c109473row9_col2 {\n",
       "            background-color:  #90b2fe;\n",
       "        }    #T_2c1b981e_0f84_11ea_8c01_08d40c109473row9_col3 {\n",
       "            background-color:  #6a8bef;\n",
       "        }    #T_2c1b981e_0f84_11ea_8c01_08d40c109473row9_col4 {\n",
       "            background-color:  #7a9df8;\n",
       "        }    #T_2c1b981e_0f84_11ea_8c01_08d40c109473row9_col5 {\n",
       "            background-color:  #4257c9;\n",
       "        }    #T_2c1b981e_0f84_11ea_8c01_08d40c109473row9_col6 {\n",
       "            background-color:  #97b8ff;\n",
       "        }    #T_2c1b981e_0f84_11ea_8c01_08d40c109473row9_col7 {\n",
       "            background-color:  #5e7de7;\n",
       "        }    #T_2c1b981e_0f84_11ea_8c01_08d40c109473row9_col8 {\n",
       "            background-color:  #7ea1fa;\n",
       "        }    #T_2c1b981e_0f84_11ea_8c01_08d40c109473row9_col9 {\n",
       "            background-color:  #b40426;\n",
       "        }    #T_2c1b981e_0f84_11ea_8c01_08d40c109473row9_col10 {\n",
       "            background-color:  #90b2fe;\n",
       "        }    #T_2c1b981e_0f84_11ea_8c01_08d40c109473row9_col11 {\n",
       "            background-color:  #6485ec;\n",
       "        }    #T_2c1b981e_0f84_11ea_8c01_08d40c109473row9_col12 {\n",
       "            background-color:  #7b9ff9;\n",
       "        }    #T_2c1b981e_0f84_11ea_8c01_08d40c109473row9_col13 {\n",
       "            background-color:  #3b4cc0;\n",
       "        }    #T_2c1b981e_0f84_11ea_8c01_08d40c109473row9_col14 {\n",
       "            background-color:  #97b8ff;\n",
       "        }    #T_2c1b981e_0f84_11ea_8c01_08d40c109473row9_col15 {\n",
       "            background-color:  #5f7fe8;\n",
       "        }    #T_2c1b981e_0f84_11ea_8c01_08d40c109473row10_col0 {\n",
       "            background-color:  #e1dad6;\n",
       "        }    #T_2c1b981e_0f84_11ea_8c01_08d40c109473row10_col1 {\n",
       "            background-color:  #5b7ae5;\n",
       "        }    #T_2c1b981e_0f84_11ea_8c01_08d40c109473row10_col2 {\n",
       "            background-color:  #c32e31;\n",
       "        }    #T_2c1b981e_0f84_11ea_8c01_08d40c109473row10_col3 {\n",
       "            background-color:  #e0dbd8;\n",
       "        }    #T_2c1b981e_0f84_11ea_8c01_08d40c109473row10_col4 {\n",
       "            background-color:  #e8765c;\n",
       "        }    #T_2c1b981e_0f84_11ea_8c01_08d40c109473row10_col5 {\n",
       "            background-color:  #3b4cc0;\n",
       "        }    #T_2c1b981e_0f84_11ea_8c01_08d40c109473row10_col6 {\n",
       "            background-color:  #f7b99e;\n",
       "        }    #T_2c1b981e_0f84_11ea_8c01_08d40c109473row10_col7 {\n",
       "            background-color:  #688aef;\n",
       "        }    #T_2c1b981e_0f84_11ea_8c01_08d40c109473row10_col8 {\n",
       "            background-color:  #dcdddd;\n",
       "        }    #T_2c1b981e_0f84_11ea_8c01_08d40c109473row10_col9 {\n",
       "            background-color:  #5a78e4;\n",
       "        }    #T_2c1b981e_0f84_11ea_8c01_08d40c109473row10_col10 {\n",
       "            background-color:  #b40426;\n",
       "        }    #T_2c1b981e_0f84_11ea_8c01_08d40c109473row10_col11 {\n",
       "            background-color:  #e7d7ce;\n",
       "        }    #T_2c1b981e_0f84_11ea_8c01_08d40c109473row10_col12 {\n",
       "            background-color:  #e36c55;\n",
       "        }    #T_2c1b981e_0f84_11ea_8c01_08d40c109473row10_col13 {\n",
       "            background-color:  #4961d2;\n",
       "        }    #T_2c1b981e_0f84_11ea_8c01_08d40c109473row10_col14 {\n",
       "            background-color:  #f7b497;\n",
       "        }    #T_2c1b981e_0f84_11ea_8c01_08d40c109473row10_col15 {\n",
       "            background-color:  #688aef;\n",
       "        }    #T_2c1b981e_0f84_11ea_8c01_08d40c109473row11_col0 {\n",
       "            background-color:  #c1d4f4;\n",
       "        }    #T_2c1b981e_0f84_11ea_8c01_08d40c109473row11_col1 {\n",
       "            background-color:  #3b4cc0;\n",
       "        }    #T_2c1b981e_0f84_11ea_8c01_08d40c109473row11_col2 {\n",
       "            background-color:  #e6d7cf;\n",
       "        }    #T_2c1b981e_0f84_11ea_8c01_08d40c109473row11_col3 {\n",
       "            background-color:  #cd423b;\n",
       "        }    #T_2c1b981e_0f84_11ea_8c01_08d40c109473row11_col4 {\n",
       "            background-color:  #d7dce3;\n",
       "        }    #T_2c1b981e_0f84_11ea_8c01_08d40c109473row11_col5 {\n",
       "            background-color:  #f5c0a7;\n",
       "        }    #T_2c1b981e_0f84_11ea_8c01_08d40c109473row11_col6 {\n",
       "            background-color:  #aac7fd;\n",
       "        }    #T_2c1b981e_0f84_11ea_8c01_08d40c109473row11_col7 {\n",
       "            background-color:  #5d7ce6;\n",
       "        }    #T_2c1b981e_0f84_11ea_8c01_08d40c109473row11_col8 {\n",
       "            background-color:  #b7cff9;\n",
       "        }    #T_2c1b981e_0f84_11ea_8c01_08d40c109473row11_col9 {\n",
       "            background-color:  #3b4cc0;\n",
       "        }    #T_2c1b981e_0f84_11ea_8c01_08d40c109473row11_col10 {\n",
       "            background-color:  #ebd3c6;\n",
       "        }    #T_2c1b981e_0f84_11ea_8c01_08d40c109473row11_col11 {\n",
       "            background-color:  #b40426;\n",
       "        }    #T_2c1b981e_0f84_11ea_8c01_08d40c109473row11_col12 {\n",
       "            background-color:  #dadce0;\n",
       "        }    #T_2c1b981e_0f84_11ea_8c01_08d40c109473row11_col13 {\n",
       "            background-color:  #f59f80;\n",
       "        }    #T_2c1b981e_0f84_11ea_8c01_08d40c109473row11_col14 {\n",
       "            background-color:  #abc8fd;\n",
       "        }    #T_2c1b981e_0f84_11ea_8c01_08d40c109473row11_col15 {\n",
       "            background-color:  #5f7fe8;\n",
       "        }    #T_2c1b981e_0f84_11ea_8c01_08d40c109473row12_col0 {\n",
       "            background-color:  #f7b89c;\n",
       "        }    #T_2c1b981e_0f84_11ea_8c01_08d40c109473row12_col1 {\n",
       "            background-color:  #4257c9;\n",
       "        }    #T_2c1b981e_0f84_11ea_8c01_08d40c109473row12_col2 {\n",
       "            background-color:  #e9785d;\n",
       "        }    #T_2c1b981e_0f84_11ea_8c01_08d40c109473row12_col3 {\n",
       "            background-color:  #d2dbe8;\n",
       "        }    #T_2c1b981e_0f84_11ea_8c01_08d40c109473row12_col4 {\n",
       "            background-color:  #c12b30;\n",
       "        }    #T_2c1b981e_0f84_11ea_8c01_08d40c109473row12_col5 {\n",
       "            background-color:  #3b4cc0;\n",
       "        }    #T_2c1b981e_0f84_11ea_8c01_08d40c109473row12_col6 {\n",
       "            background-color:  #f6bda2;\n",
       "        }    #T_2c1b981e_0f84_11ea_8c01_08d40c109473row12_col7 {\n",
       "            background-color:  #7a9df8;\n",
       "        }    #T_2c1b981e_0f84_11ea_8c01_08d40c109473row12_col8 {\n",
       "            background-color:  #f7b99e;\n",
       "        }    #T_2c1b981e_0f84_11ea_8c01_08d40c109473row12_col9 {\n",
       "            background-color:  #4055c8;\n",
       "        }    #T_2c1b981e_0f84_11ea_8c01_08d40c109473row12_col10 {\n",
       "            background-color:  #e36c55;\n",
       "        }    #T_2c1b981e_0f84_11ea_8c01_08d40c109473row12_col11 {\n",
       "            background-color:  #d2dbe8;\n",
       "        }    #T_2c1b981e_0f84_11ea_8c01_08d40c109473row12_col12 {\n",
       "            background-color:  #b40426;\n",
       "        }    #T_2c1b981e_0f84_11ea_8c01_08d40c109473row12_col13 {\n",
       "            background-color:  #4055c8;\n",
       "        }    #T_2c1b981e_0f84_11ea_8c01_08d40c109473row12_col14 {\n",
       "            background-color:  #f7b79b;\n",
       "        }    #T_2c1b981e_0f84_11ea_8c01_08d40c109473row12_col15 {\n",
       "            background-color:  #799cf8;\n",
       "        }    #T_2c1b981e_0f84_11ea_8c01_08d40c109473row13_col0 {\n",
       "            background-color:  #8fb1fe;\n",
       "        }    #T_2c1b981e_0f84_11ea_8c01_08d40c109473row13_col1 {\n",
       "            background-color:  #3b4cc0;\n",
       "        }    #T_2c1b981e_0f84_11ea_8c01_08d40c109473row13_col2 {\n",
       "            background-color:  #80a3fa;\n",
       "        }    #T_2c1b981e_0f84_11ea_8c01_08d40c109473row13_col3 {\n",
       "            background-color:  #f6a283;\n",
       "        }    #T_2c1b981e_0f84_11ea_8c01_08d40c109473row13_col4 {\n",
       "            background-color:  #7b9ff9;\n",
       "        }    #T_2c1b981e_0f84_11ea_8c01_08d40c109473row13_col5 {\n",
       "            background-color:  #d24b40;\n",
       "        }    #T_2c1b981e_0f84_11ea_8c01_08d40c109473row13_col6 {\n",
       "            background-color:  #5572df;\n",
       "        }    #T_2c1b981e_0f84_11ea_8c01_08d40c109473row13_col7 {\n",
       "            background-color:  #5572df;\n",
       "        }    #T_2c1b981e_0f84_11ea_8c01_08d40c109473row13_col8 {\n",
       "            background-color:  #88abfd;\n",
       "        }    #T_2c1b981e_0f84_11ea_8c01_08d40c109473row13_col9 {\n",
       "            background-color:  #3c4ec2;\n",
       "        }    #T_2c1b981e_0f84_11ea_8c01_08d40c109473row13_col10 {\n",
       "            background-color:  #82a6fb;\n",
       "        }    #T_2c1b981e_0f84_11ea_8c01_08d40c109473row13_col11 {\n",
       "            background-color:  #f29072;\n",
       "        }    #T_2c1b981e_0f84_11ea_8c01_08d40c109473row13_col12 {\n",
       "            background-color:  #7da0f9;\n",
       "        }    #T_2c1b981e_0f84_11ea_8c01_08d40c109473row13_col13 {\n",
       "            background-color:  #b40426;\n",
       "        }    #T_2c1b981e_0f84_11ea_8c01_08d40c109473row13_col14 {\n",
       "            background-color:  #5673e0;\n",
       "        }    #T_2c1b981e_0f84_11ea_8c01_08d40c109473row13_col15 {\n",
       "            background-color:  #5977e3;\n",
       "        }    #T_2c1b981e_0f84_11ea_8c01_08d40c109473row14_col0 {\n",
       "            background-color:  #e1dad6;\n",
       "        }    #T_2c1b981e_0f84_11ea_8c01_08d40c109473row14_col1 {\n",
       "            background-color:  #7ea1fa;\n",
       "        }    #T_2c1b981e_0f84_11ea_8c01_08d40c109473row14_col2 {\n",
       "            background-color:  #f7b093;\n",
       "        }    #T_2c1b981e_0f84_11ea_8c01_08d40c109473row14_col3 {\n",
       "            background-color:  #c4d5f3;\n",
       "        }    #T_2c1b981e_0f84_11ea_8c01_08d40c109473row14_col4 {\n",
       "            background-color:  #f7b497;\n",
       "        }    #T_2c1b981e_0f84_11ea_8c01_08d40c109473row14_col5 {\n",
       "            background-color:  #4c66d6;\n",
       "        }    #T_2c1b981e_0f84_11ea_8c01_08d40c109473row14_col6 {\n",
       "            background-color:  #c53334;\n",
       "        }    #T_2c1b981e_0f84_11ea_8c01_08d40c109473row14_col7 {\n",
       "            background-color:  #9abbff;\n",
       "        }    #T_2c1b981e_0f84_11ea_8c01_08d40c109473row14_col8 {\n",
       "            background-color:  #e7d7ce;\n",
       "        }    #T_2c1b981e_0f84_11ea_8c01_08d40c109473row14_col9 {\n",
       "            background-color:  #7ea1fa;\n",
       "        }    #T_2c1b981e_0f84_11ea_8c01_08d40c109473row14_col10 {\n",
       "            background-color:  #f7a98b;\n",
       "        }    #T_2c1b981e_0f84_11ea_8c01_08d40c109473row14_col11 {\n",
       "            background-color:  #b7cff9;\n",
       "        }    #T_2c1b981e_0f84_11ea_8c01_08d40c109473row14_col12 {\n",
       "            background-color:  #f7ac8e;\n",
       "        }    #T_2c1b981e_0f84_11ea_8c01_08d40c109473row14_col13 {\n",
       "            background-color:  #3b4cc0;\n",
       "        }    #T_2c1b981e_0f84_11ea_8c01_08d40c109473row14_col14 {\n",
       "            background-color:  #b40426;\n",
       "        }    #T_2c1b981e_0f84_11ea_8c01_08d40c109473row14_col15 {\n",
       "            background-color:  #93b5fe;\n",
       "        }    #T_2c1b981e_0f84_11ea_8c01_08d40c109473row15_col0 {\n",
       "            background-color:  #799cf8;\n",
       "        }    #T_2c1b981e_0f84_11ea_8c01_08d40c109473row15_col1 {\n",
       "            background-color:  #4358cb;\n",
       "        }    #T_2c1b981e_0f84_11ea_8c01_08d40c109473row15_col2 {\n",
       "            background-color:  #85a8fc;\n",
       "        }    #T_2c1b981e_0f84_11ea_8c01_08d40c109473row15_col3 {\n",
       "            background-color:  #779af7;\n",
       "        }    #T_2c1b981e_0f84_11ea_8c01_08d40c109473row15_col4 {\n",
       "            background-color:  #92b4fe;\n",
       "        }    #T_2c1b981e_0f84_11ea_8c01_08d40c109473row15_col5 {\n",
       "            background-color:  #465ecf;\n",
       "        }    #T_2c1b981e_0f84_11ea_8c01_08d40c109473row15_col6 {\n",
       "            background-color:  #90b2fe;\n",
       "        }    #T_2c1b981e_0f84_11ea_8c01_08d40c109473row15_col7 {\n",
       "            background-color:  #e97a5f;\n",
       "        }    #T_2c1b981e_0f84_11ea_8c01_08d40c109473row15_col8 {\n",
       "            background-color:  #7da0f9;\n",
       "        }    #T_2c1b981e_0f84_11ea_8c01_08d40c109473row15_col9 {\n",
       "            background-color:  #4358cb;\n",
       "        }    #T_2c1b981e_0f84_11ea_8c01_08d40c109473row15_col10 {\n",
       "            background-color:  #84a7fc;\n",
       "        }    #T_2c1b981e_0f84_11ea_8c01_08d40c109473row15_col11 {\n",
       "            background-color:  #6c8ff1;\n",
       "        }    #T_2c1b981e_0f84_11ea_8c01_08d40c109473row15_col12 {\n",
       "            background-color:  #94b6ff;\n",
       "        }    #T_2c1b981e_0f84_11ea_8c01_08d40c109473row15_col13 {\n",
       "            background-color:  #3b4cc0;\n",
       "        }    #T_2c1b981e_0f84_11ea_8c01_08d40c109473row15_col14 {\n",
       "            background-color:  #92b4fe;\n",
       "        }    #T_2c1b981e_0f84_11ea_8c01_08d40c109473row15_col15 {\n",
       "            background-color:  #b40426;\n",
       "        }</style>  \n",
       "<table id=\"T_2c1b981e_0f84_11ea_8c01_08d40c109473\" > \n",
       "<thead>    <tr> \n",
       "        <th class=\"blank level0\" ></th> \n",
       "        <th class=\"col_heading level0 col0\" >0</th> \n",
       "        <th class=\"col_heading level0 col1\" >1</th> \n",
       "        <th class=\"col_heading level0 col2\" >2</th> \n",
       "        <th class=\"col_heading level0 col3\" >3</th> \n",
       "        <th class=\"col_heading level0 col4\" >4</th> \n",
       "        <th class=\"col_heading level0 col5\" >5</th> \n",
       "        <th class=\"col_heading level0 col6\" >6</th> \n",
       "        <th class=\"col_heading level0 col7\" >7</th> \n",
       "        <th class=\"col_heading level0 col8\" >8</th> \n",
       "        <th class=\"col_heading level0 col9\" >9</th> \n",
       "        <th class=\"col_heading level0 col10\" >10</th> \n",
       "        <th class=\"col_heading level0 col11\" >11</th> \n",
       "        <th class=\"col_heading level0 col12\" >12</th> \n",
       "        <th class=\"col_heading level0 col13\" >13</th> \n",
       "        <th class=\"col_heading level0 col14\" >14</th> \n",
       "        <th class=\"col_heading level0 col15\" >15</th> \n",
       "    </tr></thead> \n",
       "<tbody>    <tr> \n",
       "        <th id=\"T_2c1b981e_0f84_11ea_8c01_08d40c109473level0_row0\" class=\"row_heading level0 row0\" >0</th> \n",
       "        <td id=\"T_2c1b981e_0f84_11ea_8c01_08d40c109473row0_col0\" class=\"data row0 col0\" >1.0</td> \n",
       "        <td id=\"T_2c1b981e_0f84_11ea_8c01_08d40c109473row0_col1\" class=\"data row0 col1\" >0.16</td> \n",
       "        <td id=\"T_2c1b981e_0f84_11ea_8c01_08d40c109473row0_col2\" class=\"data row0 col2\" >0.6</td> \n",
       "        <td id=\"T_2c1b981e_0f84_11ea_8c01_08d40c109473row0_col3\" class=\"data row0 col3\" >0.45</td> \n",
       "        <td id=\"T_2c1b981e_0f84_11ea_8c01_08d40c109473row0_col4\" class=\"data row0 col4\" >0.73</td> \n",
       "        <td id=\"T_2c1b981e_0f84_11ea_8c01_08d40c109473row0_col5\" class=\"data row0 col5\" >0.17</td> \n",
       "        <td id=\"T_2c1b981e_0f84_11ea_8c01_08d40c109473row0_col6\" class=\"data row0 col6\" >0.55</td> \n",
       "        <td id=\"T_2c1b981e_0f84_11ea_8c01_08d40c109473row0_col7\" class=\"data row0 col7\" >0.25</td> \n",
       "        <td id=\"T_2c1b981e_0f84_11ea_8c01_08d40c109473row0_col8\" class=\"data row0 col8\" >0.95</td> \n",
       "        <td id=\"T_2c1b981e_0f84_11ea_8c01_08d40c109473row0_col9\" class=\"data row0 col9\" >0.16</td> \n",
       "        <td id=\"T_2c1b981e_0f84_11ea_8c01_08d40c109473row0_col10\" class=\"data row0 col10\" >0.58</td> \n",
       "        <td id=\"T_2c1b981e_0f84_11ea_8c01_08d40c109473row0_col11\" class=\"data row0 col11\" >0.45</td> \n",
       "        <td id=\"T_2c1b981e_0f84_11ea_8c01_08d40c109473row0_col12\" class=\"data row0 col12\" >0.71</td> \n",
       "        <td id=\"T_2c1b981e_0f84_11ea_8c01_08d40c109473row0_col13\" class=\"data row0 col13\" >0.21</td> \n",
       "        <td id=\"T_2c1b981e_0f84_11ea_8c01_08d40c109473row0_col14\" class=\"data row0 col14\" >0.54</td> \n",
       "        <td id=\"T_2c1b981e_0f84_11ea_8c01_08d40c109473row0_col15\" class=\"data row0 col15\" >0.23</td> \n",
       "    </tr>    <tr> \n",
       "        <th id=\"T_2c1b981e_0f84_11ea_8c01_08d40c109473level0_row1\" class=\"row_heading level0 row1\" >1</th> \n",
       "        <td id=\"T_2c1b981e_0f84_11ea_8c01_08d40c109473row1_col0\" class=\"data row1 col0\" >0.16</td> \n",
       "        <td id=\"T_2c1b981e_0f84_11ea_8c01_08d40c109473row1_col1\" class=\"data row1 col1\" >1.0</td> \n",
       "        <td id=\"T_2c1b981e_0f84_11ea_8c01_08d40c109473row1_col2\" class=\"data row1 col2\" >0.22</td> \n",
       "        <td id=\"T_2c1b981e_0f84_11ea_8c01_08d40c109473row1_col3\" class=\"data row1 col3\" >0.1</td> \n",
       "        <td id=\"T_2c1b981e_0f84_11ea_8c01_08d40c109473row1_col4\" class=\"data row1 col4\" >0.16</td> \n",
       "        <td id=\"T_2c1b981e_0f84_11ea_8c01_08d40c109473row1_col5\" class=\"data row1 col5\" >-0.034</td> \n",
       "        <td id=\"T_2c1b981e_0f84_11ea_8c01_08d40c109473row1_col6\" class=\"data row1 col6\" >0.24</td> \n",
       "        <td id=\"T_2c1b981e_0f84_11ea_8c01_08d40c109473row1_col7\" class=\"data row1 col7\" >0.075</td> \n",
       "        <td id=\"T_2c1b981e_0f84_11ea_8c01_08d40c109473row1_col8\" class=\"data row1 col8\" >0.16</td> \n",
       "        <td id=\"T_2c1b981e_0f84_11ea_8c01_08d40c109473row1_col9\" class=\"data row1 col9\" >0.94</td> \n",
       "        <td id=\"T_2c1b981e_0f84_11ea_8c01_08d40c109473row1_col10\" class=\"data row1 col10\" >0.22</td> \n",
       "        <td id=\"T_2c1b981e_0f84_11ea_8c01_08d40c109473row1_col11\" class=\"data row1 col11\" >0.087</td> \n",
       "        <td id=\"T_2c1b981e_0f84_11ea_8c01_08d40c109473row1_col12\" class=\"data row1 col12\" >0.16</td> \n",
       "        <td id=\"T_2c1b981e_0f84_11ea_8c01_08d40c109473row1_col13\" class=\"data row1 col13\" >-0.062</td> \n",
       "        <td id=\"T_2c1b981e_0f84_11ea_8c01_08d40c109473row1_col14\" class=\"data row1 col14\" >0.24</td> \n",
       "        <td id=\"T_2c1b981e_0f84_11ea_8c01_08d40c109473row1_col15\" class=\"data row1 col15\" >0.069</td> \n",
       "    </tr>    <tr> \n",
       "        <th id=\"T_2c1b981e_0f84_11ea_8c01_08d40c109473level0_row2\" class=\"row_heading level0 row2\" >2</th> \n",
       "        <td id=\"T_2c1b981e_0f84_11ea_8c01_08d40c109473row2_col0\" class=\"data row2 col0\" >0.6</td> \n",
       "        <td id=\"T_2c1b981e_0f84_11ea_8c01_08d40c109473row2_col1\" class=\"data row2 col1\" >0.22</td> \n",
       "        <td id=\"T_2c1b981e_0f84_11ea_8c01_08d40c109473row2_col2\" class=\"data row2 col2\" >1.0</td> \n",
       "        <td id=\"T_2c1b981e_0f84_11ea_8c01_08d40c109473row2_col3\" class=\"data row2 col3\" >0.59</td> \n",
       "        <td id=\"T_2c1b981e_0f84_11ea_8c01_08d40c109473row2_col4\" class=\"data row2 col4\" >0.88</td> \n",
       "        <td id=\"T_2c1b981e_0f84_11ea_8c01_08d40c109473row2_col5\" class=\"data row2 col5\" >0.13</td> \n",
       "        <td id=\"T_2c1b981e_0f84_11ea_8c01_08d40c109473row2_col6\" class=\"data row2 col6\" >0.73</td> \n",
       "        <td id=\"T_2c1b981e_0f84_11ea_8c01_08d40c109473row2_col7\" class=\"data row2 col7\" >0.27</td> \n",
       "        <td id=\"T_2c1b981e_0f84_11ea_8c01_08d40c109473row2_col8\" class=\"data row2 col8\" >0.55</td> \n",
       "        <td id=\"T_2c1b981e_0f84_11ea_8c01_08d40c109473row2_col9\" class=\"data row2 col9\" >0.22</td> \n",
       "        <td id=\"T_2c1b981e_0f84_11ea_8c01_08d40c109473row2_col10\" class=\"data row2 col10\" >0.96</td> \n",
       "        <td id=\"T_2c1b981e_0f84_11ea_8c01_08d40c109473row2_col11\" class=\"data row2 col11\" >0.58</td> \n",
       "        <td id=\"T_2c1b981e_0f84_11ea_8c01_08d40c109473row2_col12\" class=\"data row2 col12\" >0.85</td> \n",
       "        <td id=\"T_2c1b981e_0f84_11ea_8c01_08d40c109473row2_col13\" class=\"data row2 col13\" >0.16</td> \n",
       "        <td id=\"T_2c1b981e_0f84_11ea_8c01_08d40c109473row2_col14\" class=\"data row2 col14\" >0.7</td> \n",
       "        <td id=\"T_2c1b981e_0f84_11ea_8c01_08d40c109473row2_col15\" class=\"data row2 col15\" >0.26</td> \n",
       "    </tr>    <tr> \n",
       "        <th id=\"T_2c1b981e_0f84_11ea_8c01_08d40c109473level0_row3\" class=\"row_heading level0 row3\" >3</th> \n",
       "        <td id=\"T_2c1b981e_0f84_11ea_8c01_08d40c109473row3_col0\" class=\"data row3 col0\" >0.45</td> \n",
       "        <td id=\"T_2c1b981e_0f84_11ea_8c01_08d40c109473row3_col1\" class=\"data row3 col1\" >0.1</td> \n",
       "        <td id=\"T_2c1b981e_0f84_11ea_8c01_08d40c109473row3_col2\" class=\"data row3 col2\" >0.59</td> \n",
       "        <td id=\"T_2c1b981e_0f84_11ea_8c01_08d40c109473row3_col3\" class=\"data row3 col3\" >1.0</td> \n",
       "        <td id=\"T_2c1b981e_0f84_11ea_8c01_08d40c109473row3_col4\" class=\"data row3 col4\" >0.53</td> \n",
       "        <td id=\"T_2c1b981e_0f84_11ea_8c01_08d40c109473row3_col5\" class=\"data row3 col5\" >0.74</td> \n",
       "        <td id=\"T_2c1b981e_0f84_11ea_8c01_08d40c109473row3_col6\" class=\"data row3 col6\" >0.43</td> \n",
       "        <td id=\"T_2c1b981e_0f84_11ea_8c01_08d40c109473row3_col7\" class=\"data row3 col7\" >0.23</td> \n",
       "        <td id=\"T_2c1b981e_0f84_11ea_8c01_08d40c109473row3_col8\" class=\"data row3 col8\" >0.44</td> \n",
       "        <td id=\"T_2c1b981e_0f84_11ea_8c01_08d40c109473row3_col9\" class=\"data row3 col9\" >0.1</td> \n",
       "        <td id=\"T_2c1b981e_0f84_11ea_8c01_08d40c109473row3_col10\" class=\"data row3 col10\" >0.58</td> \n",
       "        <td id=\"T_2c1b981e_0f84_11ea_8c01_08d40c109473row3_col11\" class=\"data row3 col11\" >0.93</td> \n",
       "        <td id=\"T_2c1b981e_0f84_11ea_8c01_08d40c109473row3_col12\" class=\"data row3 col12\" >0.53</td> \n",
       "        <td id=\"T_2c1b981e_0f84_11ea_8c01_08d40c109473row3_col13\" class=\"data row3 col13\" >0.71</td> \n",
       "        <td id=\"T_2c1b981e_0f84_11ea_8c01_08d40c109473row3_col14\" class=\"data row3 col14\" >0.43</td> \n",
       "        <td id=\"T_2c1b981e_0f84_11ea_8c01_08d40c109473row3_col15\" class=\"data row3 col15\" >0.23</td> \n",
       "    </tr>    <tr> \n",
       "        <th id=\"T_2c1b981e_0f84_11ea_8c01_08d40c109473level0_row4\" class=\"row_heading level0 row4\" >4</th> \n",
       "        <td id=\"T_2c1b981e_0f84_11ea_8c01_08d40c109473row4_col0\" class=\"data row4 col0\" >0.73</td> \n",
       "        <td id=\"T_2c1b981e_0f84_11ea_8c01_08d40c109473row4_col1\" class=\"data row4 col1\" >0.16</td> \n",
       "        <td id=\"T_2c1b981e_0f84_11ea_8c01_08d40c109473row4_col2\" class=\"data row4 col2\" >0.88</td> \n",
       "        <td id=\"T_2c1b981e_0f84_11ea_8c01_08d40c109473row4_col3\" class=\"data row4 col3\" >0.53</td> \n",
       "        <td id=\"T_2c1b981e_0f84_11ea_8c01_08d40c109473row4_col4\" class=\"data row4 col4\" >1.0</td> \n",
       "        <td id=\"T_2c1b981e_0f84_11ea_8c01_08d40c109473row4_col5\" class=\"data row4 col5\" >0.12</td> \n",
       "        <td id=\"T_2c1b981e_0f84_11ea_8c01_08d40c109473row4_col6\" class=\"data row4 col6\" >0.71</td> \n",
       "        <td id=\"T_2c1b981e_0f84_11ea_8c01_08d40c109473row4_col7\" class=\"data row4 col7\" >0.31</td> \n",
       "        <td id=\"T_2c1b981e_0f84_11ea_8c01_08d40c109473row4_col8\" class=\"data row4 col8\" >0.68</td> \n",
       "        <td id=\"T_2c1b981e_0f84_11ea_8c01_08d40c109473row4_col9\" class=\"data row4 col9\" >0.15</td> \n",
       "        <td id=\"T_2c1b981e_0f84_11ea_8c01_08d40c109473row4_col10\" class=\"data row4 col10\" >0.85</td> \n",
       "        <td id=\"T_2c1b981e_0f84_11ea_8c01_08d40c109473row4_col11\" class=\"data row4 col11\" >0.52</td> \n",
       "        <td id=\"T_2c1b981e_0f84_11ea_8c01_08d40c109473row4_col12\" class=\"data row4 col12\" >0.97</td> \n",
       "        <td id=\"T_2c1b981e_0f84_11ea_8c01_08d40c109473row4_col13\" class=\"data row4 col13\" >0.15</td> \n",
       "        <td id=\"T_2c1b981e_0f84_11ea_8c01_08d40c109473row4_col14\" class=\"data row4 col14\" >0.69</td> \n",
       "        <td id=\"T_2c1b981e_0f84_11ea_8c01_08d40c109473row4_col15\" class=\"data row4 col15\" >0.29</td> \n",
       "    </tr>    <tr> \n",
       "        <th id=\"T_2c1b981e_0f84_11ea_8c01_08d40c109473level0_row5\" class=\"row_heading level0 row5\" >5</th> \n",
       "        <td id=\"T_2c1b981e_0f84_11ea_8c01_08d40c109473row5_col0\" class=\"data row5 col0\" >0.17</td> \n",
       "        <td id=\"T_2c1b981e_0f84_11ea_8c01_08d40c109473row5_col1\" class=\"data row5 col1\" >-0.034</td> \n",
       "        <td id=\"T_2c1b981e_0f84_11ea_8c01_08d40c109473row5_col2\" class=\"data row5 col2\" >0.13</td> \n",
       "        <td id=\"T_2c1b981e_0f84_11ea_8c01_08d40c109473row5_col3\" class=\"data row5 col3\" >0.74</td> \n",
       "        <td id=\"T_2c1b981e_0f84_11ea_8c01_08d40c109473row5_col4\" class=\"data row5 col4\" >0.12</td> \n",
       "        <td id=\"T_2c1b981e_0f84_11ea_8c01_08d40c109473row5_col5\" class=\"data row5 col5\" >1.0</td> \n",
       "        <td id=\"T_2c1b981e_0f84_11ea_8c01_08d40c109473row5_col6\" class=\"data row5 col6\" >0.076</td> \n",
       "        <td id=\"T_2c1b981e_0f84_11ea_8c01_08d40c109473row5_col7\" class=\"data row5 col7\" >0.085</td> \n",
       "        <td id=\"T_2c1b981e_0f84_11ea_8c01_08d40c109473row5_col8\" class=\"data row5 col8\" >0.2</td> \n",
       "        <td id=\"T_2c1b981e_0f84_11ea_8c01_08d40c109473row5_col9\" class=\"data row5 col9\" >-0.029</td> \n",
       "        <td id=\"T_2c1b981e_0f84_11ea_8c01_08d40c109473row5_col10\" class=\"data row5 col10\" >0.13</td> \n",
       "        <td id=\"T_2c1b981e_0f84_11ea_8c01_08d40c109473row5_col11\" class=\"data row5 col11\" >0.67</td> \n",
       "        <td id=\"T_2c1b981e_0f84_11ea_8c01_08d40c109473row5_col12\" class=\"data row5 col12\" >0.13</td> \n",
       "        <td id=\"T_2c1b981e_0f84_11ea_8c01_08d40c109473row5_col13\" class=\"data row5 col13\" >0.9</td> \n",
       "        <td id=\"T_2c1b981e_0f84_11ea_8c01_08d40c109473row5_col14\" class=\"data row5 col14\" >0.096</td> \n",
       "        <td id=\"T_2c1b981e_0f84_11ea_8c01_08d40c109473row5_col15\" class=\"data row5 col15\" >0.082</td> \n",
       "    </tr>    <tr> \n",
       "        <th id=\"T_2c1b981e_0f84_11ea_8c01_08d40c109473level0_row6\" class=\"row_heading level0 row6\" >6</th> \n",
       "        <td id=\"T_2c1b981e_0f84_11ea_8c01_08d40c109473row6_col0\" class=\"data row6 col0\" >0.55</td> \n",
       "        <td id=\"T_2c1b981e_0f84_11ea_8c01_08d40c109473row6_col1\" class=\"data row6 col1\" >0.24</td> \n",
       "        <td id=\"T_2c1b981e_0f84_11ea_8c01_08d40c109473row6_col2\" class=\"data row6 col2\" >0.73</td> \n",
       "        <td id=\"T_2c1b981e_0f84_11ea_8c01_08d40c109473row6_col3\" class=\"data row6 col3\" >0.43</td> \n",
       "        <td id=\"T_2c1b981e_0f84_11ea_8c01_08d40c109473row6_col4\" class=\"data row6 col4\" >0.71</td> \n",
       "        <td id=\"T_2c1b981e_0f84_11ea_8c01_08d40c109473row6_col5\" class=\"data row6 col5\" >0.076</td> \n",
       "        <td id=\"T_2c1b981e_0f84_11ea_8c01_08d40c109473row6_col6\" class=\"data row6 col6\" >1.0</td> \n",
       "        <td id=\"T_2c1b981e_0f84_11ea_8c01_08d40c109473row6_col7\" class=\"data row6 col7\" >0.32</td> \n",
       "        <td id=\"T_2c1b981e_0f84_11ea_8c01_08d40c109473row6_col8\" class=\"data row6 col8\" >0.54</td> \n",
       "        <td id=\"T_2c1b981e_0f84_11ea_8c01_08d40c109473row6_col9\" class=\"data row6 col9\" >0.24</td> \n",
       "        <td id=\"T_2c1b981e_0f84_11ea_8c01_08d40c109473row6_col10\" class=\"data row6 col10\" >0.71</td> \n",
       "        <td id=\"T_2c1b981e_0f84_11ea_8c01_08d40c109473row6_col11\" class=\"data row6 col11\" >0.39</td> \n",
       "        <td id=\"T_2c1b981e_0f84_11ea_8c01_08d40c109473row6_col12\" class=\"data row6 col12\" >0.7</td> \n",
       "        <td id=\"T_2c1b981e_0f84_11ea_8c01_08d40c109473row6_col13\" class=\"data row6 col13\" >0.032</td> \n",
       "        <td id=\"T_2c1b981e_0f84_11ea_8c01_08d40c109473row6_col14\" class=\"data row6 col14\" >0.95</td> \n",
       "        <td id=\"T_2c1b981e_0f84_11ea_8c01_08d40c109473row6_col15\" class=\"data row6 col15\" >0.29</td> \n",
       "    </tr>    <tr> \n",
       "        <th id=\"T_2c1b981e_0f84_11ea_8c01_08d40c109473level0_row7\" class=\"row_heading level0 row7\" >7</th> \n",
       "        <td id=\"T_2c1b981e_0f84_11ea_8c01_08d40c109473row7_col0\" class=\"data row7 col0\" >0.25</td> \n",
       "        <td id=\"T_2c1b981e_0f84_11ea_8c01_08d40c109473row7_col1\" class=\"data row7 col1\" >0.075</td> \n",
       "        <td id=\"T_2c1b981e_0f84_11ea_8c01_08d40c109473row7_col2\" class=\"data row7 col2\" >0.27</td> \n",
       "        <td id=\"T_2c1b981e_0f84_11ea_8c01_08d40c109473row7_col3\" class=\"data row7 col3\" >0.23</td> \n",
       "        <td id=\"T_2c1b981e_0f84_11ea_8c01_08d40c109473row7_col4\" class=\"data row7 col4\" >0.31</td> \n",
       "        <td id=\"T_2c1b981e_0f84_11ea_8c01_08d40c109473row7_col5\" class=\"data row7 col5\" >0.085</td> \n",
       "        <td id=\"T_2c1b981e_0f84_11ea_8c01_08d40c109473row7_col6\" class=\"data row7 col6\" >0.32</td> \n",
       "        <td id=\"T_2c1b981e_0f84_11ea_8c01_08d40c109473row7_col7\" class=\"data row7 col7\" >1.0</td> \n",
       "        <td id=\"T_2c1b981e_0f84_11ea_8c01_08d40c109473row7_col8\" class=\"data row7 col8\" >0.25</td> \n",
       "        <td id=\"T_2c1b981e_0f84_11ea_8c01_08d40c109473row7_col9\" class=\"data row7 col9\" >0.065</td> \n",
       "        <td id=\"T_2c1b981e_0f84_11ea_8c01_08d40c109473row7_col10\" class=\"data row7 col10\" >0.26</td> \n",
       "        <td id=\"T_2c1b981e_0f84_11ea_8c01_08d40c109473row7_col11\" class=\"data row7 col11\" >0.18</td> \n",
       "        <td id=\"T_2c1b981e_0f84_11ea_8c01_08d40c109473row7_col12\" class=\"data row7 col12\" >0.31</td> \n",
       "        <td id=\"T_2c1b981e_0f84_11ea_8c01_08d40c109473row7_col13\" class=\"data row7 col13\" >0.029</td> \n",
       "        <td id=\"T_2c1b981e_0f84_11ea_8c01_08d40c109473row7_col14\" class=\"data row7 col14\" >0.31</td> \n",
       "        <td id=\"T_2c1b981e_0f84_11ea_8c01_08d40c109473row7_col15\" class=\"data row7 col15\" >0.83</td> \n",
       "    </tr>    <tr> \n",
       "        <th id=\"T_2c1b981e_0f84_11ea_8c01_08d40c109473level0_row8\" class=\"row_heading level0 row8\" >8</th> \n",
       "        <td id=\"T_2c1b981e_0f84_11ea_8c01_08d40c109473row8_col0\" class=\"data row8 col0\" >0.95</td> \n",
       "        <td id=\"T_2c1b981e_0f84_11ea_8c01_08d40c109473row8_col1\" class=\"data row8 col1\" >0.16</td> \n",
       "        <td id=\"T_2c1b981e_0f84_11ea_8c01_08d40c109473row8_col2\" class=\"data row8 col2\" >0.55</td> \n",
       "        <td id=\"T_2c1b981e_0f84_11ea_8c01_08d40c109473row8_col3\" class=\"data row8 col3\" >0.44</td> \n",
       "        <td id=\"T_2c1b981e_0f84_11ea_8c01_08d40c109473row8_col4\" class=\"data row8 col4\" >0.68</td> \n",
       "        <td id=\"T_2c1b981e_0f84_11ea_8c01_08d40c109473row8_col5\" class=\"data row8 col5\" >0.2</td> \n",
       "        <td id=\"T_2c1b981e_0f84_11ea_8c01_08d40c109473row8_col6\" class=\"data row8 col6\" >0.54</td> \n",
       "        <td id=\"T_2c1b981e_0f84_11ea_8c01_08d40c109473row8_col7\" class=\"data row8 col7\" >0.25</td> \n",
       "        <td id=\"T_2c1b981e_0f84_11ea_8c01_08d40c109473row8_col8\" class=\"data row8 col8\" >1.0</td> \n",
       "        <td id=\"T_2c1b981e_0f84_11ea_8c01_08d40c109473row8_col9\" class=\"data row8 col9\" >0.17</td> \n",
       "        <td id=\"T_2c1b981e_0f84_11ea_8c01_08d40c109473row8_col10\" class=\"data row8 col10\" >0.56</td> \n",
       "        <td id=\"T_2c1b981e_0f84_11ea_8c01_08d40c109473row8_col11\" class=\"data row8 col11\" >0.42</td> \n",
       "        <td id=\"T_2c1b981e_0f84_11ea_8c01_08d40c109473row8_col12\" class=\"data row8 col12\" >0.71</td> \n",
       "        <td id=\"T_2c1b981e_0f84_11ea_8c01_08d40c109473row8_col13\" class=\"data row8 col13\" >0.19</td> \n",
       "        <td id=\"T_2c1b981e_0f84_11ea_8c01_08d40c109473row8_col14\" class=\"data row8 col14\" >0.56</td> \n",
       "        <td id=\"T_2c1b981e_0f84_11ea_8c01_08d40c109473row8_col15\" class=\"data row8 col15\" >0.24</td> \n",
       "    </tr>    <tr> \n",
       "        <th id=\"T_2c1b981e_0f84_11ea_8c01_08d40c109473level0_row9\" class=\"row_heading level0 row9\" >9</th> \n",
       "        <td id=\"T_2c1b981e_0f84_11ea_8c01_08d40c109473row9_col0\" class=\"data row9 col0\" >0.16</td> \n",
       "        <td id=\"T_2c1b981e_0f84_11ea_8c01_08d40c109473row9_col1\" class=\"data row9 col1\" >0.94</td> \n",
       "        <td id=\"T_2c1b981e_0f84_11ea_8c01_08d40c109473row9_col2\" class=\"data row9 col2\" >0.22</td> \n",
       "        <td id=\"T_2c1b981e_0f84_11ea_8c01_08d40c109473row9_col3\" class=\"data row9 col3\" >0.1</td> \n",
       "        <td id=\"T_2c1b981e_0f84_11ea_8c01_08d40c109473row9_col4\" class=\"data row9 col4\" >0.15</td> \n",
       "        <td id=\"T_2c1b981e_0f84_11ea_8c01_08d40c109473row9_col5\" class=\"data row9 col5\" >-0.029</td> \n",
       "        <td id=\"T_2c1b981e_0f84_11ea_8c01_08d40c109473row9_col6\" class=\"data row9 col6\" >0.24</td> \n",
       "        <td id=\"T_2c1b981e_0f84_11ea_8c01_08d40c109473row9_col7\" class=\"data row9 col7\" >0.065</td> \n",
       "        <td id=\"T_2c1b981e_0f84_11ea_8c01_08d40c109473row9_col8\" class=\"data row9 col8\" >0.17</td> \n",
       "        <td id=\"T_2c1b981e_0f84_11ea_8c01_08d40c109473row9_col9\" class=\"data row9 col9\" >1.0</td> \n",
       "        <td id=\"T_2c1b981e_0f84_11ea_8c01_08d40c109473row9_col10\" class=\"data row9 col10\" >0.22</td> \n",
       "        <td id=\"T_2c1b981e_0f84_11ea_8c01_08d40c109473row9_col11\" class=\"data row9 col11\" >0.084</td> \n",
       "        <td id=\"T_2c1b981e_0f84_11ea_8c01_08d40c109473row9_col12\" class=\"data row9 col12\" >0.15</td> \n",
       "        <td id=\"T_2c1b981e_0f84_11ea_8c01_08d40c109473row9_col13\" class=\"data row9 col13\" >-0.056</td> \n",
       "        <td id=\"T_2c1b981e_0f84_11ea_8c01_08d40c109473row9_col14\" class=\"data row9 col14\" >0.24</td> \n",
       "        <td id=\"T_2c1b981e_0f84_11ea_8c01_08d40c109473row9_col15\" class=\"data row9 col15\" >0.07</td> \n",
       "    </tr>    <tr> \n",
       "        <th id=\"T_2c1b981e_0f84_11ea_8c01_08d40c109473level0_row10\" class=\"row_heading level0 row10\" >10</th> \n",
       "        <td id=\"T_2c1b981e_0f84_11ea_8c01_08d40c109473row10_col0\" class=\"data row10 col0\" >0.58</td> \n",
       "        <td id=\"T_2c1b981e_0f84_11ea_8c01_08d40c109473row10_col1\" class=\"data row10 col1\" >0.22</td> \n",
       "        <td id=\"T_2c1b981e_0f84_11ea_8c01_08d40c109473row10_col2\" class=\"data row10 col2\" >0.96</td> \n",
       "        <td id=\"T_2c1b981e_0f84_11ea_8c01_08d40c109473row10_col3\" class=\"data row10 col3\" >0.58</td> \n",
       "        <td id=\"T_2c1b981e_0f84_11ea_8c01_08d40c109473row10_col4\" class=\"data row10 col4\" >0.85</td> \n",
       "        <td id=\"T_2c1b981e_0f84_11ea_8c01_08d40c109473row10_col5\" class=\"data row10 col5\" >0.13</td> \n",
       "        <td id=\"T_2c1b981e_0f84_11ea_8c01_08d40c109473row10_col6\" class=\"data row10 col6\" >0.71</td> \n",
       "        <td id=\"T_2c1b981e_0f84_11ea_8c01_08d40c109473row10_col7\" class=\"data row10 col7\" >0.26</td> \n",
       "        <td id=\"T_2c1b981e_0f84_11ea_8c01_08d40c109473row10_col8\" class=\"data row10 col8\" >0.56</td> \n",
       "        <td id=\"T_2c1b981e_0f84_11ea_8c01_08d40c109473row10_col9\" class=\"data row10 col9\" >0.22</td> \n",
       "        <td id=\"T_2c1b981e_0f84_11ea_8c01_08d40c109473row10_col10\" class=\"data row10 col10\" >1.0</td> \n",
       "        <td id=\"T_2c1b981e_0f84_11ea_8c01_08d40c109473row10_col11\" class=\"data row10 col11\" >0.6</td> \n",
       "        <td id=\"T_2c1b981e_0f84_11ea_8c01_08d40c109473row10_col12\" class=\"data row10 col12\" >0.87</td> \n",
       "        <td id=\"T_2c1b981e_0f84_11ea_8c01_08d40c109473row10_col13\" class=\"data row10 col13\" >0.17</td> \n",
       "        <td id=\"T_2c1b981e_0f84_11ea_8c01_08d40c109473row10_col14\" class=\"data row10 col14\" >0.72</td> \n",
       "        <td id=\"T_2c1b981e_0f84_11ea_8c01_08d40c109473row10_col15\" class=\"data row10 col15\" >0.26</td> \n",
       "    </tr>    <tr> \n",
       "        <th id=\"T_2c1b981e_0f84_11ea_8c01_08d40c109473level0_row11\" class=\"row_heading level0 row11\" >11</th> \n",
       "        <td id=\"T_2c1b981e_0f84_11ea_8c01_08d40c109473row11_col0\" class=\"data row11 col0\" >0.45</td> \n",
       "        <td id=\"T_2c1b981e_0f84_11ea_8c01_08d40c109473row11_col1\" class=\"data row11 col1\" >0.087</td> \n",
       "        <td id=\"T_2c1b981e_0f84_11ea_8c01_08d40c109473row11_col2\" class=\"data row11 col2\" >0.58</td> \n",
       "        <td id=\"T_2c1b981e_0f84_11ea_8c01_08d40c109473row11_col3\" class=\"data row11 col3\" >0.93</td> \n",
       "        <td id=\"T_2c1b981e_0f84_11ea_8c01_08d40c109473row11_col4\" class=\"data row11 col4\" >0.52</td> \n",
       "        <td id=\"T_2c1b981e_0f84_11ea_8c01_08d40c109473row11_col5\" class=\"data row11 col5\" >0.67</td> \n",
       "        <td id=\"T_2c1b981e_0f84_11ea_8c01_08d40c109473row11_col6\" class=\"data row11 col6\" >0.39</td> \n",
       "        <td id=\"T_2c1b981e_0f84_11ea_8c01_08d40c109473row11_col7\" class=\"data row11 col7\" >0.18</td> \n",
       "        <td id=\"T_2c1b981e_0f84_11ea_8c01_08d40c109473row11_col8\" class=\"data row11 col8\" >0.42</td> \n",
       "        <td id=\"T_2c1b981e_0f84_11ea_8c01_08d40c109473row11_col9\" class=\"data row11 col9\" >0.084</td> \n",
       "        <td id=\"T_2c1b981e_0f84_11ea_8c01_08d40c109473row11_col10\" class=\"data row11 col10\" >0.6</td> \n",
       "        <td id=\"T_2c1b981e_0f84_11ea_8c01_08d40c109473row11_col11\" class=\"data row11 col11\" >1.0</td> \n",
       "        <td id=\"T_2c1b981e_0f84_11ea_8c01_08d40c109473row11_col12\" class=\"data row11 col12\" >0.53</td> \n",
       "        <td id=\"T_2c1b981e_0f84_11ea_8c01_08d40c109473row11_col13\" class=\"data row11 col13\" >0.76</td> \n",
       "        <td id=\"T_2c1b981e_0f84_11ea_8c01_08d40c109473row11_col14\" class=\"data row11 col14\" >0.39</td> \n",
       "        <td id=\"T_2c1b981e_0f84_11ea_8c01_08d40c109473row11_col15\" class=\"data row11 col15\" >0.19</td> \n",
       "    </tr>    <tr> \n",
       "        <th id=\"T_2c1b981e_0f84_11ea_8c01_08d40c109473level0_row12\" class=\"row_heading level0 row12\" >12</th> \n",
       "        <td id=\"T_2c1b981e_0f84_11ea_8c01_08d40c109473row12_col0\" class=\"data row12 col0\" >0.71</td> \n",
       "        <td id=\"T_2c1b981e_0f84_11ea_8c01_08d40c109473row12_col1\" class=\"data row12 col1\" >0.16</td> \n",
       "        <td id=\"T_2c1b981e_0f84_11ea_8c01_08d40c109473row12_col2\" class=\"data row12 col2\" >0.85</td> \n",
       "        <td id=\"T_2c1b981e_0f84_11ea_8c01_08d40c109473row12_col3\" class=\"data row12 col3\" >0.53</td> \n",
       "        <td id=\"T_2c1b981e_0f84_11ea_8c01_08d40c109473row12_col4\" class=\"data row12 col4\" >0.97</td> \n",
       "        <td id=\"T_2c1b981e_0f84_11ea_8c01_08d40c109473row12_col5\" class=\"data row12 col5\" >0.13</td> \n",
       "        <td id=\"T_2c1b981e_0f84_11ea_8c01_08d40c109473row12_col6\" class=\"data row12 col6\" >0.7</td> \n",
       "        <td id=\"T_2c1b981e_0f84_11ea_8c01_08d40c109473row12_col7\" class=\"data row12 col7\" >0.31</td> \n",
       "        <td id=\"T_2c1b981e_0f84_11ea_8c01_08d40c109473row12_col8\" class=\"data row12 col8\" >0.71</td> \n",
       "        <td id=\"T_2c1b981e_0f84_11ea_8c01_08d40c109473row12_col9\" class=\"data row12 col9\" >0.15</td> \n",
       "        <td id=\"T_2c1b981e_0f84_11ea_8c01_08d40c109473row12_col10\" class=\"data row12 col10\" >0.87</td> \n",
       "        <td id=\"T_2c1b981e_0f84_11ea_8c01_08d40c109473row12_col11\" class=\"data row12 col11\" >0.53</td> \n",
       "        <td id=\"T_2c1b981e_0f84_11ea_8c01_08d40c109473row12_col12\" class=\"data row12 col12\" >1.0</td> \n",
       "        <td id=\"T_2c1b981e_0f84_11ea_8c01_08d40c109473row12_col13\" class=\"data row12 col13\" >0.15</td> \n",
       "        <td id=\"T_2c1b981e_0f84_11ea_8c01_08d40c109473row12_col14\" class=\"data row12 col14\" >0.71</td> \n",
       "        <td id=\"T_2c1b981e_0f84_11ea_8c01_08d40c109473row12_col15\" class=\"data row12 col15\" >0.3</td> \n",
       "    </tr>    <tr> \n",
       "        <th id=\"T_2c1b981e_0f84_11ea_8c01_08d40c109473level0_row13\" class=\"row_heading level0 row13\" >13</th> \n",
       "        <td id=\"T_2c1b981e_0f84_11ea_8c01_08d40c109473row13_col0\" class=\"data row13 col0\" >0.21</td> \n",
       "        <td id=\"T_2c1b981e_0f84_11ea_8c01_08d40c109473row13_col1\" class=\"data row13 col1\" >-0.062</td> \n",
       "        <td id=\"T_2c1b981e_0f84_11ea_8c01_08d40c109473row13_col2\" class=\"data row13 col2\" >0.16</td> \n",
       "        <td id=\"T_2c1b981e_0f84_11ea_8c01_08d40c109473row13_col3\" class=\"data row13 col3\" >0.71</td> \n",
       "        <td id=\"T_2c1b981e_0f84_11ea_8c01_08d40c109473row13_col4\" class=\"data row13 col4\" >0.15</td> \n",
       "        <td id=\"T_2c1b981e_0f84_11ea_8c01_08d40c109473row13_col5\" class=\"data row13 col5\" >0.9</td> \n",
       "        <td id=\"T_2c1b981e_0f84_11ea_8c01_08d40c109473row13_col6\" class=\"data row13 col6\" >0.032</td> \n",
       "        <td id=\"T_2c1b981e_0f84_11ea_8c01_08d40c109473row13_col7\" class=\"data row13 col7\" >0.029</td> \n",
       "        <td id=\"T_2c1b981e_0f84_11ea_8c01_08d40c109473row13_col8\" class=\"data row13 col8\" >0.19</td> \n",
       "        <td id=\"T_2c1b981e_0f84_11ea_8c01_08d40c109473row13_col9\" class=\"data row13 col9\" >-0.056</td> \n",
       "        <td id=\"T_2c1b981e_0f84_11ea_8c01_08d40c109473row13_col10\" class=\"data row13 col10\" >0.17</td> \n",
       "        <td id=\"T_2c1b981e_0f84_11ea_8c01_08d40c109473row13_col11\" class=\"data row13 col11\" >0.76</td> \n",
       "        <td id=\"T_2c1b981e_0f84_11ea_8c01_08d40c109473row13_col12\" class=\"data row13 col12\" >0.15</td> \n",
       "        <td id=\"T_2c1b981e_0f84_11ea_8c01_08d40c109473row13_col13\" class=\"data row13 col13\" >1.0</td> \n",
       "        <td id=\"T_2c1b981e_0f84_11ea_8c01_08d40c109473row13_col14\" class=\"data row13 col14\" >0.036</td> \n",
       "        <td id=\"T_2c1b981e_0f84_11ea_8c01_08d40c109473row13_col15\" class=\"data row13 col15\" >0.042</td> \n",
       "    </tr>    <tr> \n",
       "        <th id=\"T_2c1b981e_0f84_11ea_8c01_08d40c109473level0_row14\" class=\"row_heading level0 row14\" >14</th> \n",
       "        <td id=\"T_2c1b981e_0f84_11ea_8c01_08d40c109473row14_col0\" class=\"data row14 col0\" >0.54</td> \n",
       "        <td id=\"T_2c1b981e_0f84_11ea_8c01_08d40c109473row14_col1\" class=\"data row14 col1\" >0.24</td> \n",
       "        <td id=\"T_2c1b981e_0f84_11ea_8c01_08d40c109473row14_col2\" class=\"data row14 col2\" >0.7</td> \n",
       "        <td id=\"T_2c1b981e_0f84_11ea_8c01_08d40c109473row14_col3\" class=\"data row14 col3\" >0.43</td> \n",
       "        <td id=\"T_2c1b981e_0f84_11ea_8c01_08d40c109473row14_col4\" class=\"data row14 col4\" >0.69</td> \n",
       "        <td id=\"T_2c1b981e_0f84_11ea_8c01_08d40c109473row14_col5\" class=\"data row14 col5\" >0.096</td> \n",
       "        <td id=\"T_2c1b981e_0f84_11ea_8c01_08d40c109473row14_col6\" class=\"data row14 col6\" >0.95</td> \n",
       "        <td id=\"T_2c1b981e_0f84_11ea_8c01_08d40c109473row14_col7\" class=\"data row14 col7\" >0.31</td> \n",
       "        <td id=\"T_2c1b981e_0f84_11ea_8c01_08d40c109473row14_col8\" class=\"data row14 col8\" >0.56</td> \n",
       "        <td id=\"T_2c1b981e_0f84_11ea_8c01_08d40c109473row14_col9\" class=\"data row14 col9\" >0.24</td> \n",
       "        <td id=\"T_2c1b981e_0f84_11ea_8c01_08d40c109473row14_col10\" class=\"data row14 col10\" >0.72</td> \n",
       "        <td id=\"T_2c1b981e_0f84_11ea_8c01_08d40c109473row14_col11\" class=\"data row14 col11\" >0.39</td> \n",
       "        <td id=\"T_2c1b981e_0f84_11ea_8c01_08d40c109473row14_col12\" class=\"data row14 col12\" >0.71</td> \n",
       "        <td id=\"T_2c1b981e_0f84_11ea_8c01_08d40c109473row14_col13\" class=\"data row14 col13\" >0.036</td> \n",
       "        <td id=\"T_2c1b981e_0f84_11ea_8c01_08d40c109473row14_col14\" class=\"data row14 col14\" >1.0</td> \n",
       "        <td id=\"T_2c1b981e_0f84_11ea_8c01_08d40c109473row14_col15\" class=\"data row14 col15\" >0.3</td> \n",
       "    </tr>    <tr> \n",
       "        <th id=\"T_2c1b981e_0f84_11ea_8c01_08d40c109473level0_row15\" class=\"row_heading level0 row15\" >15</th> \n",
       "        <td id=\"T_2c1b981e_0f84_11ea_8c01_08d40c109473row15_col0\" class=\"data row15 col0\" >0.23</td> \n",
       "        <td id=\"T_2c1b981e_0f84_11ea_8c01_08d40c109473row15_col1\" class=\"data row15 col1\" >0.069</td> \n",
       "        <td id=\"T_2c1b981e_0f84_11ea_8c01_08d40c109473row15_col2\" class=\"data row15 col2\" >0.26</td> \n",
       "        <td id=\"T_2c1b981e_0f84_11ea_8c01_08d40c109473row15_col3\" class=\"data row15 col3\" >0.23</td> \n",
       "        <td id=\"T_2c1b981e_0f84_11ea_8c01_08d40c109473row15_col4\" class=\"data row15 col4\" >0.29</td> \n",
       "        <td id=\"T_2c1b981e_0f84_11ea_8c01_08d40c109473row15_col5\" class=\"data row15 col5\" >0.082</td> \n",
       "        <td id=\"T_2c1b981e_0f84_11ea_8c01_08d40c109473row15_col6\" class=\"data row15 col6\" >0.29</td> \n",
       "        <td id=\"T_2c1b981e_0f84_11ea_8c01_08d40c109473row15_col7\" class=\"data row15 col7\" >0.83</td> \n",
       "        <td id=\"T_2c1b981e_0f84_11ea_8c01_08d40c109473row15_col8\" class=\"data row15 col8\" >0.24</td> \n",
       "        <td id=\"T_2c1b981e_0f84_11ea_8c01_08d40c109473row15_col9\" class=\"data row15 col9\" >0.07</td> \n",
       "        <td id=\"T_2c1b981e_0f84_11ea_8c01_08d40c109473row15_col10\" class=\"data row15 col10\" >0.26</td> \n",
       "        <td id=\"T_2c1b981e_0f84_11ea_8c01_08d40c109473row15_col11\" class=\"data row15 col11\" >0.19</td> \n",
       "        <td id=\"T_2c1b981e_0f84_11ea_8c01_08d40c109473row15_col12\" class=\"data row15 col12\" >0.3</td> \n",
       "        <td id=\"T_2c1b981e_0f84_11ea_8c01_08d40c109473row15_col13\" class=\"data row15 col13\" >0.042</td> \n",
       "        <td id=\"T_2c1b981e_0f84_11ea_8c01_08d40c109473row15_col14\" class=\"data row15 col14\" >0.3</td> \n",
       "        <td id=\"T_2c1b981e_0f84_11ea_8c01_08d40c109473row15_col15\" class=\"data row15 col15\" >1.0</td> \n",
       "    </tr></tbody> \n",
       "</table> "
      ],
      "text/plain": [
       "<pandas.io.formats.style.Styler at 0x273725d2cc0>"
      ]
     },
     "execution_count": 9,
     "metadata": {},
     "output_type": "execute_result"
    }
   ],
   "source": [
    "X_train.corr(method='spearman').style.format(\"{:.2}\").background_gradient(cmap=plt.get_cmap('coolwarm'), axis=1)"
   ]
  },
  {
   "cell_type": "markdown",
   "metadata": {},
   "source": [
    "## Imbalanced baseline"
   ]
  },
  {
   "cell_type": "code",
   "execution_count": 10,
   "metadata": {},
   "outputs": [
    {
     "name": "stdout",
     "output_type": "stream",
     "text": [
      "\n",
      "LOGISTIC REGRESSION\n",
      "TRAIN AND VALIDATION SETS:\n",
      "1 of KFold 10\n",
      "ROC AUC score: 0.7153410240841934\n",
      "2 of KFold 10\n",
      "ROC AUC score: 0.7407744721041625\n",
      "3 of KFold 10\n",
      "ROC AUC score: 0.7106186332051542\n",
      "4 of KFold 10\n",
      "ROC AUC score: 0.7168252040747487\n",
      "5 of KFold 10\n",
      "ROC AUC score: 0.7223571476759091\n",
      "6 of KFold 10\n",
      "ROC AUC score: 0.7044457936989813\n",
      "7 of KFold 10\n",
      "ROC AUC score: 0.6901436956081765\n",
      "8 of KFold 10\n",
      "ROC AUC score: 0.7123018561170573\n",
      "9 of KFold 10\n",
      "ROC AUC score: 0.7246308088334914\n",
      "10 of KFold 10\n",
      "ROC AUC score: 0.6727817636908546\n",
      "\n",
      "CROSS VALIDANTION SUMMARY:\n",
      "Mean: 0.7110220399092728\n",
      "Std deviation: 0.017873143222693854\n",
      "\n",
      "TEST SET:\n",
      "F1-Score(micro): 0.7319078947368421\n",
      "F1-Score(macro): 0.7263911874462214\n",
      "F1-Score(weighted): 0.7306085930197461\n",
      "F1-Score(None): [0.76524244 0.68753994]\n",
      "Accuracy: 0.7319078947368421\n",
      "Sensitivity: 0.6617466174661747\n",
      "Specificity: 0.7883283877349159\n",
      "Confusion Matrix: [0.7883283877349159, 0.66]\n",
      "ROC AUC score: 0.7250375026005452\n",
      "Wall time: 540 ms\n"
     ]
    }
   ],
   "source": [
    "%%time\n",
    "LogisticRegr_(X_train, y_train, X_test, y_test)"
   ]
  },
  {
   "cell_type": "code",
   "execution_count": 11,
   "metadata": {},
   "outputs": [
    {
     "name": "stdout",
     "output_type": "stream",
     "text": [
      "Wall time: 0 ns\n",
      "\n",
      "DECISION TREE\n",
      "TRAIN AND VALIDATION SETS:\n",
      "1 of KFold 10\n",
      "ROC AUC score: 0.7715037441813398\n",
      "2 of KFold 10\n",
      "ROC AUC score: 0.7572016460905349\n",
      "3 of KFold 10\n",
      "ROC AUC score: 0.7243810294812116\n",
      "4 of KFold 10\n",
      "ROC AUC score: 0.785198677730554\n",
      "5 of KFold 10\n",
      "ROC AUC score: 0.7900897254267017\n",
      "6 of KFold 10\n",
      "ROC AUC score: 0.7947783849423193\n",
      "7 of KFold 10\n",
      "ROC AUC score: 0.7633744855967077\n",
      "8 of KFold 10\n",
      "ROC AUC score: 0.7705482545273902\n",
      "9 of KFold 10\n",
      "ROC AUC score: 0.7856771891794246\n",
      "10 of KFold 10\n",
      "ROC AUC score: 0.8074879665788757\n",
      "\n",
      "CROSS VALIDANTION SUMMARY:\n",
      "Mean: 0.7750241103735059\n",
      "Std deviation: 0.02222300134060627\n",
      "\n",
      "TEST SET:\n",
      "F1-Score(micro): 0.7554824561403509\n",
      "F1-Score(macro): 0.7532368732368733\n",
      "F1-Score(weighted): 0.7557921917132443\n",
      "F1-Score(None): [0.77677678 0.72969697]\n",
      "Accuracy: 0.7554824561403509\n",
      "Sensitivity: 0.7404674046740467\n",
      "Specificity: 0.7675568743818002\n",
      "Confusion Matrix: [0.7675568743818002, 0.74]\n",
      "ROC AUC score: 0.7540121395279235\n",
      "Wall time: 521 ms\n"
     ]
    }
   ],
   "source": [
    "%%time\n",
    "DecisionTree_(X_train, y_train, X_test, y_test)"
   ]
  },
  {
   "cell_type": "code",
   "execution_count": 12,
   "metadata": {},
   "outputs": [
    {
     "name": "stdout",
     "output_type": "stream",
     "text": [
      "Wall time: 0 ns\n",
      "RANDOM FOREST\n",
      "TRAIN AND VALIDATION SETS:\n",
      "1 of KFold 10\n",
      "ROC AUC score: 0.7687715037441812\n",
      "2 of KFold 10\n",
      "ROC AUC score: 0.8132969034608379\n",
      "3 of KFold 10\n",
      "ROC AUC score: 0.7735950887134857\n",
      "4 of KFold 10\n",
      "ROC AUC score: 0.7872900222626998\n",
      "5 of KFold 10\n",
      "ROC AUC score: 0.7942049517641504\n",
      "6 of KFold 10\n",
      "ROC AUC score: 0.747554476151926\n",
      "7 of KFold 10\n",
      "ROC AUC score: 0.7674222492073128\n",
      "8 of KFold 10\n",
      "ROC AUC score: 0.7465564738292011\n",
      "9 of KFold 10\n",
      "ROC AUC score: 0.8172673079528517\n",
      "10 of KFold 10\n",
      "ROC AUC score: 0.7476841340477705\n",
      "\n",
      "CROSS VALIDANTION SUMMARY:\n",
      "Mean: 0.7763643111134418\n",
      "Std deviation: 0.024821517377187935\n",
      "\n",
      "TEST SET:\n",
      "F1-Score(micro): 0.7976973684210527\n",
      "F1-Score(macro): 0.7942232604980972\n",
      "F1-Score(weighted): 0.7971256797755032\n",
      "F1-Score(None): [0.8209607  0.76748582]\n",
      "Accuracy: 0.7976973684210527\n",
      "Sensitivity: 0.7490774907749077\n",
      "Specificity: 0.8367952522255193\n",
      "Confusion Matrix: [0.8367952522255193, 0.75]\n",
      "ROC AUC score: 0.7929363715002136\n",
      "Wall time: 7.05 s\n"
     ]
    }
   ],
   "source": [
    "%%time\n",
    "RandomForest_(X_train, y_train, X_test, y_test)"
   ]
  },
  {
   "cell_type": "code",
   "execution_count": 13,
   "metadata": {},
   "outputs": [
    {
     "name": "stdout",
     "output_type": "stream",
     "text": [
      "Wall time: 0 ns\n",
      "NEURAL NETWORK\n",
      "TRAIN AND VALIDATION SETS:\n",
      "1 of KFold 10\n"
     ]
    },
    {
     "name": "stderr",
     "output_type": "stream",
     "text": [
      "C:\\Users\\cristiano.melo\\AppData\\Local\\Continuum\\anaconda3\\lib\\site-packages\\sklearn\\neural_network\\multilayer_perceptron.py:566: ConvergenceWarning: Stochastic Optimizer: Maximum iterations (200) reached and the optimization hasn't converged yet.\n",
      "  % self.max_iter, ConvergenceWarning)\n"
     ]
    },
    {
     "name": "stdout",
     "output_type": "stream",
     "text": [
      "ROC AUC score: 0.7838494231936856\n",
      "2 of KFold 10\n"
     ]
    },
    {
     "name": "stderr",
     "output_type": "stream",
     "text": [
      "C:\\Users\\cristiano.melo\\AppData\\Local\\Continuum\\anaconda3\\lib\\site-packages\\sklearn\\neural_network\\multilayer_perceptron.py:566: ConvergenceWarning: Stochastic Optimizer: Maximum iterations (200) reached and the optimization hasn't converged yet.\n",
      "  % self.max_iter, ConvergenceWarning)\n"
     ]
    },
    {
     "name": "stdout",
     "output_type": "stream",
     "text": [
      "ROC AUC score: 0.7962288335694528\n",
      "3 of KFold 10\n"
     ]
    },
    {
     "name": "stderr",
     "output_type": "stream",
     "text": [
      "C:\\Users\\cristiano.melo\\AppData\\Local\\Continuum\\anaconda3\\lib\\site-packages\\sklearn\\neural_network\\multilayer_perceptron.py:566: ConvergenceWarning: Stochastic Optimizer: Maximum iterations (200) reached and the optimization hasn't converged yet.\n",
      "  % self.max_iter, ConvergenceWarning)\n"
     ]
    },
    {
     "name": "stdout",
     "output_type": "stream",
     "text": [
      "ROC AUC score: 0.7783849423193686\n",
      "4 of KFold 10\n"
     ]
    },
    {
     "name": "stderr",
     "output_type": "stream",
     "text": [
      "C:\\Users\\cristiano.melo\\AppData\\Local\\Continuum\\anaconda3\\lib\\site-packages\\sklearn\\neural_network\\multilayer_perceptron.py:566: ConvergenceWarning: Stochastic Optimizer: Maximum iterations (200) reached and the optimization hasn't converged yet.\n",
      "  % self.max_iter, ConvergenceWarning)\n"
     ]
    },
    {
     "name": "stdout",
     "output_type": "stream",
     "text": [
      "ROC AUC score: 0.7873574849895433\n",
      "5 of KFold 10\n"
     ]
    },
    {
     "name": "stderr",
     "output_type": "stream",
     "text": [
      "C:\\Users\\cristiano.melo\\AppData\\Local\\Continuum\\anaconda3\\lib\\site-packages\\sklearn\\neural_network\\multilayer_perceptron.py:566: ConvergenceWarning: Stochastic Optimizer: Maximum iterations (200) reached and the optimization hasn't converged yet.\n",
      "  % self.max_iter, ConvergenceWarning)\n"
     ]
    },
    {
     "name": "stdout",
     "output_type": "stream",
     "text": [
      "ROC AUC score: 0.7914727113269917\n",
      "6 of KFold 10\n"
     ]
    },
    {
     "name": "stderr",
     "output_type": "stream",
     "text": [
      "C:\\Users\\cristiano.melo\\AppData\\Local\\Continuum\\anaconda3\\lib\\site-packages\\sklearn\\neural_network\\multilayer_perceptron.py:566: ConvergenceWarning: Stochastic Optimizer: Maximum iterations (200) reached and the optimization hasn't converged yet.\n",
      "  % self.max_iter, ConvergenceWarning)\n"
     ]
    },
    {
     "name": "stdout",
     "output_type": "stream",
     "text": [
      "ROC AUC score: 0.7914052486001484\n",
      "7 of KFold 10\n"
     ]
    },
    {
     "name": "stderr",
     "output_type": "stream",
     "text": [
      "C:\\Users\\cristiano.melo\\AppData\\Local\\Continuum\\anaconda3\\lib\\site-packages\\sklearn\\neural_network\\multilayer_perceptron.py:566: ConvergenceWarning: Stochastic Optimizer: Maximum iterations (200) reached and the optimization hasn't converged yet.\n",
      "  % self.max_iter, ConvergenceWarning)\n"
     ]
    },
    {
     "name": "stdout",
     "output_type": "stream",
     "text": [
      "ROC AUC score: 0.7648249342238413\n",
      "8 of KFold 10\n"
     ]
    },
    {
     "name": "stderr",
     "output_type": "stream",
     "text": [
      "C:\\Users\\cristiano.melo\\AppData\\Local\\Continuum\\anaconda3\\lib\\site-packages\\sklearn\\neural_network\\multilayer_perceptron.py:566: ConvergenceWarning: Stochastic Optimizer: Maximum iterations (200) reached and the optimization hasn't converged yet.\n",
      "  % self.max_iter, ConvergenceWarning)\n"
     ]
    },
    {
     "name": "stdout",
     "output_type": "stream",
     "text": [
      "ROC AUC score: 0.7850788059431875\n",
      "9 of KFold 10\n"
     ]
    },
    {
     "name": "stderr",
     "output_type": "stream",
     "text": [
      "C:\\Users\\cristiano.melo\\AppData\\Local\\Continuum\\anaconda3\\lib\\site-packages\\sklearn\\neural_network\\multilayer_perceptron.py:566: ConvergenceWarning: Stochastic Optimizer: Maximum iterations (200) reached and the optimization hasn't converged yet.\n",
      "  % self.max_iter, ConvergenceWarning)\n"
     ]
    },
    {
     "name": "stdout",
     "output_type": "stream",
     "text": [
      "ROC AUC score: 0.8172673079528517\n",
      "10 of KFold 10\n",
      "ROC AUC score: 0.8075333757151939\n",
      "\n",
      "CROSS VALIDANTION SUMMARY:\n",
      "Mean: 0.7903403067834265\n",
      "Std deviation: 0.013894003610004323\n",
      "\n",
      "TEST SET:\n",
      "F1-Score(micro): 0.799890350877193\n",
      "F1-Score(macro): 0.7952358880969788\n",
      "F1-Score(weighted): 0.798587101298733\n",
      "F1-Score(None): [0.82610767 0.76436411]\n",
      "Accuracy: 0.799890350877193\n",
      "Sensitivity: 0.7281672816728167\n",
      "Specificity: 0.857566765578635\n",
      "Confusion Matrix: [0.857566765578635, 0.73]\n",
      "ROC AUC score: 0.7928670236257258\n",
      "Wall time: 41.7 s\n"
     ]
    },
    {
     "name": "stderr",
     "output_type": "stream",
     "text": [
      "C:\\Users\\cristiano.melo\\AppData\\Local\\Continuum\\anaconda3\\lib\\site-packages\\sklearn\\neural_network\\multilayer_perceptron.py:566: ConvergenceWarning: Stochastic Optimizer: Maximum iterations (200) reached and the optimization hasn't converged yet.\n",
      "  % self.max_iter, ConvergenceWarning)\n"
     ]
    }
   ],
   "source": [
    "%%time\n",
    "NN_(X_train, y_train, X_test, y_test)"
   ]
  },
  {
   "cell_type": "markdown",
   "metadata": {},
   "source": [
    "## Undersampling"
   ]
  },
  {
   "cell_type": "code",
   "execution_count": 14,
   "metadata": {},
   "outputs": [
    {
     "name": "stdout",
     "output_type": "stream",
     "text": [
      "Resampling dataset using Random UnderSampling (RUS)...\n",
      "... DONE!\n",
      "X and Y RUS: 3658 3658\n"
     ]
    }
   ],
   "source": [
    "print(\"Resampling dataset using Random UnderSampling (RUS)...\")\n",
    "X_RUS, y_RUS = RandomUnderSampler(random_state=42).fit_sample(X_train, y_train.values.ravel())\n",
    "print(\"... DONE!\")\n",
    "print(\"X and Y RUS:\", len(X_RUS), len(y_RUS))"
   ]
  },
  {
   "cell_type": "code",
   "execution_count": 15,
   "metadata": {},
   "outputs": [
    {
     "name": "stdout",
     "output_type": "stream",
     "text": [
      "\n",
      "LOGISTIC REGRESSION\n",
      "TRAIN AND VALIDATION SETS:\n",
      "1 of KFold 10\n",
      "ROC AUC score: 0.7149901984807645\n",
      "2 of KFold 10\n",
      "ROC AUC score: 0.6920061981587823\n",
      "3 of KFold 10\n",
      "ROC AUC score: 0.707070707070707\n",
      "4 of KFold 10\n",
      "ROC AUC score: 0.7523602033405955\n",
      "5 of KFold 10\n",
      "ROC AUC score: 0.6670216650438169\n",
      "6 of KFold 10\n",
      "ROC AUC score: 0.6924858466289243\n",
      "7 of KFold 10\n",
      "ROC AUC score: 0.7313432835820896\n",
      "8 of KFold 10\n",
      "ROC AUC score: 0.7037856060371757\n",
      "9 of KFold 10\n",
      "ROC AUC score: 0.6843334972946385\n",
      "10 of KFold 10\n",
      "ROC AUC score: 0.729946524064171\n",
      "\n",
      "CROSS VALIDANTION SUMMARY:\n",
      "Mean: 0.7075343729701665\n",
      "Std deviation: 0.02407389431909009\n",
      "\n",
      "TEST SET:\n",
      "F1-Score(micro): 0.7308114035087719\n",
      "F1-Score(macro): 0.7255307822604397\n",
      "F1-Score(weighted): 0.7296634423678301\n",
      "F1-Score(None): [0.76360135 0.68746022]\n",
      "Accuracy: 0.7308114035087719\n",
      "Sensitivity: 0.6642066420664207\n",
      "Specificity: 0.7843719090009891\n",
      "Confusion Matrix: [0.7843719090009891, 0.66]\n",
      "ROC AUC score: 0.7242892755337048\n",
      "Wall time: 496 ms\n"
     ]
    }
   ],
   "source": [
    "%%time\n",
    "LogisticRegr_(X_RUS, y_RUS, X_test, y_test)"
   ]
  },
  {
   "cell_type": "code",
   "execution_count": 16,
   "metadata": {},
   "outputs": [
    {
     "name": "stdout",
     "output_type": "stream",
     "text": [
      "Wall time: 0 ns\n",
      "\n",
      "DECISION TREE\n",
      "TRAIN AND VALIDATION SETS:\n",
      "1 of KFold 10\n",
      "ROC AUC score: 0.7798946336682187\n",
      "2 of KFold 10\n",
      "ROC AUC score: 0.7795096162610518\n",
      "3 of KFold 10\n",
      "ROC AUC score: 0.7959956709956709\n",
      "4 of KFold 10\n",
      "ROC AUC score: 0.7998366013071896\n",
      "5 of KFold 10\n",
      "ROC AUC score: 0.780550146056475\n",
      "6 of KFold 10\n",
      "ROC AUC score: 0.7672735460627894\n",
      "7 of KFold 10\n",
      "ROC AUC score: 0.7763455450022615\n",
      "8 of KFold 10\n",
      "ROC AUC score: 0.7584820462066618\n",
      "9 of KFold 10\n",
      "ROC AUC score: 0.7659554845056568\n",
      "10 of KFold 10\n",
      "ROC AUC score: 0.7772521596051007\n",
      "\n",
      "CROSS VALIDANTION SUMMARY:\n",
      "Mean: 0.7781095449671076\n",
      "Std deviation: 0.012071898473613743\n",
      "\n",
      "TEST SET:\n",
      "F1-Score(micro): 0.7456140350877193\n",
      "F1-Score(macro): 0.7426423723453426\n",
      "F1-Score(weighted): 0.7456443581769271\n",
      "F1-Score(None): [0.77029703 0.71498771]\n",
      "Accuracy: 0.7456140350877193\n",
      "Sensitivity: 0.7158671586715867\n",
      "Specificity: 0.7695351137487636\n",
      "Confusion Matrix: [0.7695351137487636, 0.72]\n",
      "ROC AUC score: 0.7427011362101751\n",
      "Wall time: 300 ms\n"
     ]
    }
   ],
   "source": [
    "%%time\n",
    "DecisionTree_(X_RUS, y_RUS, X_test, y_test)"
   ]
  },
  {
   "cell_type": "code",
   "execution_count": 17,
   "metadata": {},
   "outputs": [
    {
     "name": "stdout",
     "output_type": "stream",
     "text": [
      "Wall time: 0 ns\n",
      "RANDOM FOREST\n",
      "TRAIN AND VALIDATION SETS:\n",
      "1 of KFold 10\n",
      "ROC AUC score: 0.7922690517030139\n",
      "2 of KFold 10\n",
      "ROC AUC score: 0.7703035274815423\n",
      "3 of KFold 10\n",
      "ROC AUC score: 0.768488455988456\n",
      "4 of KFold 10\n",
      "ROC AUC score: 0.7874001452432824\n",
      "5 of KFold 10\n",
      "ROC AUC score: 0.7672529211295034\n",
      "6 of KFold 10\n",
      "ROC AUC score: 0.7855120946989191\n",
      "7 of KFold 10\n",
      "ROC AUC score: 0.7628222523744912\n",
      "8 of KFold 10\n",
      "ROC AUC score: 0.7672965700677327\n",
      "9 of KFold 10\n",
      "ROC AUC score: 0.7776377274963109\n",
      "10 of KFold 10\n",
      "ROC AUC score: 0.788358700123406\n",
      "\n",
      "CROSS VALIDANTION SUMMARY:\n",
      "Mean: 0.7767341446306658\n",
      "Std deviation: 0.010246669915512341\n",
      "\n",
      "TEST SET:\n",
      "F1-Score(micro): 0.7856359649122807\n",
      "F1-Score(macro): 0.7822636116536155\n",
      "F1-Score(weighted): 0.7852051356413497\n",
      "F1-Score(None): [0.80936129 0.75516594]\n",
      "Accuracy: 0.7856359649122807\n",
      "Sensitivity: 0.7416974169741697\n",
      "Specificity: 0.820969337289812\n",
      "Confusion Matrix: [0.820969337289812, 0.74]\n",
      "ROC AUC score: 0.7813333771319908\n",
      "Wall time: 5.19 s\n"
     ]
    }
   ],
   "source": [
    "%%time\n",
    "RandomForest_(X_RUS, y_RUS, X_test, y_test)"
   ]
  },
  {
   "cell_type": "code",
   "execution_count": 18,
   "metadata": {},
   "outputs": [
    {
     "name": "stdout",
     "output_type": "stream",
     "text": [
      "Wall time: 0 ns\n",
      "NEURAL NETWORK\n",
      "TRAIN AND VALIDATION SETS:\n",
      "1 of KFold 10\n"
     ]
    },
    {
     "name": "stderr",
     "output_type": "stream",
     "text": [
      "C:\\Users\\cristiano.melo\\AppData\\Local\\Continuum\\anaconda3\\lib\\site-packages\\sklearn\\neural_network\\multilayer_perceptron.py:566: ConvergenceWarning: Stochastic Optimizer: Maximum iterations (200) reached and the optimization hasn't converged yet.\n",
      "  % self.max_iter, ConvergenceWarning)\n"
     ]
    },
    {
     "name": "stdout",
     "output_type": "stream",
     "text": [
      "ROC AUC score: 0.764242832639059\n",
      "2 of KFold 10\n"
     ]
    },
    {
     "name": "stderr",
     "output_type": "stream",
     "text": [
      "C:\\Users\\cristiano.melo\\AppData\\Local\\Continuum\\anaconda3\\lib\\site-packages\\sklearn\\neural_network\\multilayer_perceptron.py:566: ConvergenceWarning: Stochastic Optimizer: Maximum iterations (200) reached and the optimization hasn't converged yet.\n",
      "  % self.max_iter, ConvergenceWarning)\n"
     ]
    },
    {
     "name": "stdout",
     "output_type": "stream",
     "text": [
      "ROC AUC score: 0.7867559930726461\n",
      "3 of KFold 10\n"
     ]
    },
    {
     "name": "stderr",
     "output_type": "stream",
     "text": [
      "C:\\Users\\cristiano.melo\\AppData\\Local\\Continuum\\anaconda3\\lib\\site-packages\\sklearn\\neural_network\\multilayer_perceptron.py:566: ConvergenceWarning: Stochastic Optimizer: Maximum iterations (200) reached and the optimization hasn't converged yet.\n",
      "  % self.max_iter, ConvergenceWarning)\n"
     ]
    },
    {
     "name": "stdout",
     "output_type": "stream",
     "text": [
      "ROC AUC score: 0.8059163059163059\n",
      "4 of KFold 10\n"
     ]
    },
    {
     "name": "stderr",
     "output_type": "stream",
     "text": [
      "C:\\Users\\cristiano.melo\\AppData\\Local\\Continuum\\anaconda3\\lib\\site-packages\\sklearn\\neural_network\\multilayer_perceptron.py:566: ConvergenceWarning: Stochastic Optimizer: Maximum iterations (200) reached and the optimization hasn't converged yet.\n",
      "  % self.max_iter, ConvergenceWarning)\n"
     ]
    },
    {
     "name": "stdout",
     "output_type": "stream",
     "text": [
      "ROC AUC score: 0.8053740014524329\n",
      "5 of KFold 10\n"
     ]
    },
    {
     "name": "stderr",
     "output_type": "stream",
     "text": [
      "C:\\Users\\cristiano.melo\\AppData\\Local\\Continuum\\anaconda3\\lib\\site-packages\\sklearn\\neural_network\\multilayer_perceptron.py:566: ConvergenceWarning: Stochastic Optimizer: Maximum iterations (200) reached and the optimization hasn't converged yet.\n",
      "  % self.max_iter, ConvergenceWarning)\n"
     ]
    },
    {
     "name": "stdout",
     "output_type": "stream",
     "text": [
      "ROC AUC score: 0.7437013145082766\n",
      "6 of KFold 10\n"
     ]
    },
    {
     "name": "stderr",
     "output_type": "stream",
     "text": [
      "C:\\Users\\cristiano.melo\\AppData\\Local\\Continuum\\anaconda3\\lib\\site-packages\\sklearn\\neural_network\\multilayer_perceptron.py:566: ConvergenceWarning: Stochastic Optimizer: Maximum iterations (200) reached and the optimization hasn't converged yet.\n",
      "  % self.max_iter, ConvergenceWarning)\n"
     ]
    },
    {
     "name": "stdout",
     "output_type": "stream",
     "text": [
      "ROC AUC score: 0.7786284096757592\n",
      "7 of KFold 10\n"
     ]
    },
    {
     "name": "stderr",
     "output_type": "stream",
     "text": [
      "C:\\Users\\cristiano.melo\\AppData\\Local\\Continuum\\anaconda3\\lib\\site-packages\\sklearn\\neural_network\\multilayer_perceptron.py:566: ConvergenceWarning: Stochastic Optimizer: Maximum iterations (200) reached and the optimization hasn't converged yet.\n",
      "  % self.max_iter, ConvergenceWarning)\n"
     ]
    },
    {
     "name": "stdout",
     "output_type": "stream",
     "text": [
      "ROC AUC score: 0.8221166892808685\n",
      "8 of KFold 10\n"
     ]
    },
    {
     "name": "stderr",
     "output_type": "stream",
     "text": [
      "C:\\Users\\cristiano.melo\\AppData\\Local\\Continuum\\anaconda3\\lib\\site-packages\\sklearn\\neural_network\\multilayer_perceptron.py:566: ConvergenceWarning: Stochastic Optimizer: Maximum iterations (200) reached and the optimization hasn't converged yet.\n",
      "  % self.max_iter, ConvergenceWarning)\n"
     ]
    },
    {
     "name": "stdout",
     "output_type": "stream",
     "text": [
      "ROC AUC score: 0.7970494541180837\n",
      "9 of KFold 10\n"
     ]
    },
    {
     "name": "stderr",
     "output_type": "stream",
     "text": [
      "C:\\Users\\cristiano.melo\\AppData\\Local\\Continuum\\anaconda3\\lib\\site-packages\\sklearn\\neural_network\\multilayer_perceptron.py:566: ConvergenceWarning: Stochastic Optimizer: Maximum iterations (200) reached and the optimization hasn't converged yet.\n",
      "  % self.max_iter, ConvergenceWarning)\n"
     ]
    },
    {
     "name": "stdout",
     "output_type": "stream",
     "text": [
      "ROC AUC score: 0.7573782587309394\n",
      "10 of KFold 10\n",
      "ROC AUC score: 0.8017276840806252\n",
      "\n",
      "CROSS VALIDANTION SUMMARY:\n",
      "Mean: 0.7862890943474997\n",
      "Std deviation: 0.02362564330188425\n",
      "\n",
      "TEST SET:\n",
      "F1-Score(micro): 0.8026315789473685\n",
      "F1-Score(macro): 0.7972932925022227\n",
      "F1-Score(weighted): 0.800864173299989\n",
      "F1-Score(None): [0.83018868 0.76439791]\n",
      "Accuracy: 0.8026315789473685\n",
      "Sensitivity: 0.7183271832718328\n",
      "Specificity: 0.8704253214638972\n",
      "Confusion Matrix: [0.8704253214638972, 0.72]\n",
      "ROC AUC score: 0.794376252367865\n",
      "Wall time: 34.8 s\n"
     ]
    },
    {
     "name": "stderr",
     "output_type": "stream",
     "text": [
      "C:\\Users\\cristiano.melo\\AppData\\Local\\Continuum\\anaconda3\\lib\\site-packages\\sklearn\\neural_network\\multilayer_perceptron.py:566: ConvergenceWarning: Stochastic Optimizer: Maximum iterations (200) reached and the optimization hasn't converged yet.\n",
      "  % self.max_iter, ConvergenceWarning)\n"
     ]
    }
   ],
   "source": [
    "%%time\n",
    "NN_(X_RUS, y_RUS, X_test, y_test)"
   ]
  },
  {
   "cell_type": "code",
   "execution_count": 19,
   "metadata": {},
   "outputs": [
    {
     "name": "stdout",
     "output_type": "stream",
     "text": [
      "Resampling dataset using Edited Nearest Neighbour (ENN)...\n",
      "... DONE!\n",
      "X and Y ENN: 3344 3344\n"
     ]
    }
   ],
   "source": [
    "print(\"Resampling dataset using Edited Nearest Neighbour (ENN)...\")\n",
    "X_ENN, y_ENN = EditedNearestNeighbours(random_state=42).fit_sample(X_train, y_train.values.ravel())\n",
    "print(\"... DONE!\")\n",
    "print(\"X and Y ENN:\", len(X_ENN), len(y_ENN))"
   ]
  },
  {
   "cell_type": "code",
   "execution_count": 20,
   "metadata": {},
   "outputs": [
    {
     "name": "stdout",
     "output_type": "stream",
     "text": [
      "\n",
      "LOGISTIC REGRESSION\n",
      "TRAIN AND VALIDATION SETS:\n",
      "1 of KFold 10\n",
      "ROC AUC score: 0.6976787580235856\n",
      "2 of KFold 10\n",
      "ROC AUC score: 0.6959807433945364\n",
      "3 of KFold 10\n",
      "ROC AUC score: 0.7379494341784845\n",
      "4 of KFold 10\n",
      "ROC AUC score: 0.6972222222222223\n",
      "5 of KFold 10\n",
      "ROC AUC score: 0.7429078014184397\n",
      "6 of KFold 10\n",
      "ROC AUC score: 0.7020174181457391\n",
      "7 of KFold 10\n",
      "ROC AUC score: 0.6653254615876358\n",
      "8 of KFold 10\n",
      "ROC AUC score: 0.7025084293601096\n",
      "9 of KFold 10\n",
      "ROC AUC score: 0.7590923895342526\n",
      "10 of KFold 10\n",
      "ROC AUC score: 0.6794340924775707\n",
      "\n",
      "CROSS VALIDANTION SUMMARY:\n",
      "Mean: 0.7080116750342577\n",
      "Std deviation: 0.027921642335061805\n",
      "\n",
      "TEST SET:\n",
      "F1-Score(micro): 0.7253289473684211\n",
      "F1-Score(macro): 0.719676860757785\n",
      "F1-Score(weighted): 0.723997760946611\n",
      "F1-Score(None): [0.75948152 0.6798722 ]\n",
      "Accuracy: 0.725328947368421\n",
      "Sensitivity: 0.6543665436654367\n",
      "Specificity: 0.7823936696340257\n",
      "Confusion Matrix: [0.7823936696340257, 0.65]\n",
      "ROC AUC score: 0.7183801066497312\n",
      "Wall time: 412 ms\n"
     ]
    }
   ],
   "source": [
    "%%time\n",
    "LogisticRegr_(X_ENN, y_ENN, X_test, y_test)"
   ]
  },
  {
   "cell_type": "code",
   "execution_count": 21,
   "metadata": {},
   "outputs": [
    {
     "name": "stdout",
     "output_type": "stream",
     "text": [
      "Wall time: 0 ns\n",
      "\n",
      "DECISION TREE\n",
      "TRAIN AND VALIDATION SETS:\n",
      "1 of KFold 10\n",
      "ROC AUC score: 0.7925809822361547\n",
      "2 of KFold 10\n",
      "ROC AUC score: 0.7484512613822959\n",
      "3 of KFold 10\n",
      "ROC AUC score: 0.7671178914195674\n",
      "4 of KFold 10\n",
      "ROC AUC score: 0.7669354838709677\n",
      "5 of KFold 10\n",
      "ROC AUC score: 0.7814987697206544\n",
      "6 of KFold 10\n",
      "ROC AUC score: 0.7494763532135376\n",
      "7 of KFold 10\n",
      "ROC AUC score: 0.7521340202308878\n",
      "8 of KFold 10\n",
      "ROC AUC score: 0.7601059690985216\n",
      "9 of KFold 10\n",
      "ROC AUC score: 0.7569391669380813\n",
      "10 of KFold 10\n",
      "ROC AUC score: 0.7361973775017253\n",
      "\n",
      "CROSS VALIDANTION SUMMARY:\n",
      "Mean: 0.7611437275612394\n",
      "Std deviation: 0.01578398111937756\n",
      "\n",
      "TEST SET:\n",
      "F1-Score(micro): 0.7554824561403509\n",
      "F1-Score(macro): 0.7532368732368733\n",
      "F1-Score(weighted): 0.7557921917132443\n",
      "F1-Score(None): [0.77677678 0.72969697]\n",
      "Accuracy: 0.7554824561403509\n",
      "Sensitivity: 0.7404674046740467\n",
      "Specificity: 0.7675568743818002\n",
      "Confusion Matrix: [0.7675568743818002, 0.74]\n",
      "ROC AUC score: 0.7540121395279235\n",
      "Wall time: 290 ms\n"
     ]
    }
   ],
   "source": [
    "%%time\n",
    "DecisionTree_(X_ENN, y_ENN, X_test, y_test)"
   ]
  },
  {
   "cell_type": "code",
   "execution_count": 22,
   "metadata": {},
   "outputs": [
    {
     "name": "stdout",
     "output_type": "stream",
     "text": [
      "Wall time: 0 ns\n",
      "RANDOM FOREST\n",
      "TRAIN AND VALIDATION SETS:\n",
      "1 of KFold 10\n",
      "ROC AUC score: 0.7850052246603971\n",
      "2 of KFold 10\n",
      "ROC AUC score: 0.7603933422898941\n",
      "3 of KFold 10\n",
      "ROC AUC score: 0.7879064603924939\n",
      "4 of KFold 10\n",
      "ROC AUC score: 0.7553763440860214\n",
      "5 of KFold 10\n",
      "ROC AUC score: 0.797456216529165\n",
      "6 of KFold 10\n",
      "ROC AUC score: 0.7562929482232755\n",
      "7 of KFold 10\n",
      "ROC AUC score: 0.7619862369796563\n",
      "8 of KFold 10\n",
      "ROC AUC score: 0.7309088888065508\n",
      "9 of KFold 10\n",
      "ROC AUC score: 0.7628198168856077\n",
      "10 of KFold 10\n",
      "ROC AUC score: 0.7489648033126294\n",
      "\n",
      "CROSS VALIDANTION SUMMARY:\n",
      "Mean: 0.7647110282165691\n",
      "Std deviation: 0.01897446190570591\n",
      "\n",
      "TEST SET:\n",
      "F1-Score(micro): 0.7867324561403509\n",
      "F1-Score(macro): 0.7832561251093975\n",
      "F1-Score(weighted): 0.7862358374216432\n",
      "F1-Score(None): [0.8107056  0.75580665]\n",
      "Accuracy: 0.7867324561403509\n",
      "Sensitivity: 0.7404674046740467\n",
      "Specificity: 0.8239366963402571\n",
      "Confusion Matrix: [0.8239366963402571, 0.74]\n",
      "ROC AUC score: 0.782202050507152\n",
      "Wall time: 5.05 s\n"
     ]
    }
   ],
   "source": [
    "%%time\n",
    "RandomForest_(X_ENN, y_ENN, X_test, y_test)"
   ]
  },
  {
   "cell_type": "code",
   "execution_count": 23,
   "metadata": {},
   "outputs": [
    {
     "name": "stdout",
     "output_type": "stream",
     "text": [
      "Wall time: 0 ns\n",
      "NEURAL NETWORK\n",
      "TRAIN AND VALIDATION SETS:\n",
      "1 of KFold 10\n"
     ]
    },
    {
     "name": "stderr",
     "output_type": "stream",
     "text": [
      "C:\\Users\\cristiano.melo\\AppData\\Local\\Continuum\\anaconda3\\lib\\site-packages\\sklearn\\neural_network\\multilayer_perceptron.py:566: ConvergenceWarning: Stochastic Optimizer: Maximum iterations (200) reached and the optimization hasn't converged yet.\n",
      "  % self.max_iter, ConvergenceWarning)\n"
     ]
    },
    {
     "name": "stdout",
     "output_type": "stream",
     "text": [
      "ROC AUC score: 0.7437117480220929\n",
      "2 of KFold 10\n"
     ]
    },
    {
     "name": "stderr",
     "output_type": "stream",
     "text": [
      "C:\\Users\\cristiano.melo\\AppData\\Local\\Continuum\\anaconda3\\lib\\site-packages\\sklearn\\neural_network\\multilayer_perceptron.py:566: ConvergenceWarning: Stochastic Optimizer: Maximum iterations (200) reached and the optimization hasn't converged yet.\n",
      "  % self.max_iter, ConvergenceWarning)\n"
     ]
    },
    {
     "name": "stdout",
     "output_type": "stream",
     "text": [
      "ROC AUC score: 0.7855836692043588\n",
      "3 of KFold 10\n"
     ]
    },
    {
     "name": "stderr",
     "output_type": "stream",
     "text": [
      "C:\\Users\\cristiano.melo\\AppData\\Local\\Continuum\\anaconda3\\lib\\site-packages\\sklearn\\neural_network\\multilayer_perceptron.py:566: ConvergenceWarning: Stochastic Optimizer: Maximum iterations (200) reached and the optimization hasn't converged yet.\n",
      "  % self.max_iter, ConvergenceWarning)\n"
     ]
    },
    {
     "name": "stdout",
     "output_type": "stream",
     "text": [
      "ROC AUC score: 0.7814962039822375\n",
      "4 of KFold 10\n"
     ]
    },
    {
     "name": "stderr",
     "output_type": "stream",
     "text": [
      "C:\\Users\\cristiano.melo\\AppData\\Local\\Continuum\\anaconda3\\lib\\site-packages\\sklearn\\neural_network\\multilayer_perceptron.py:566: ConvergenceWarning: Stochastic Optimizer: Maximum iterations (200) reached and the optimization hasn't converged yet.\n",
      "  % self.max_iter, ConvergenceWarning)\n"
     ]
    },
    {
     "name": "stdout",
     "output_type": "stream",
     "text": [
      "ROC AUC score: 0.7886200716845879\n",
      "5 of KFold 10\n"
     ]
    },
    {
     "name": "stderr",
     "output_type": "stream",
     "text": [
      "C:\\Users\\cristiano.melo\\AppData\\Local\\Continuum\\anaconda3\\lib\\site-packages\\sklearn\\neural_network\\multilayer_perceptron.py:566: ConvergenceWarning: Stochastic Optimizer: Maximum iterations (200) reached and the optimization hasn't converged yet.\n",
      "  % self.max_iter, ConvergenceWarning)\n"
     ]
    },
    {
     "name": "stdout",
     "output_type": "stream",
     "text": [
      "ROC AUC score: 0.7860761325806919\n",
      "6 of KFold 10\n"
     ]
    },
    {
     "name": "stderr",
     "output_type": "stream",
     "text": [
      "C:\\Users\\cristiano.melo\\AppData\\Local\\Continuum\\anaconda3\\lib\\site-packages\\sklearn\\neural_network\\multilayer_perceptron.py:566: ConvergenceWarning: Stochastic Optimizer: Maximum iterations (200) reached and the optimization hasn't converged yet.\n",
      "  % self.max_iter, ConvergenceWarning)\n"
     ]
    },
    {
     "name": "stdout",
     "output_type": "stream",
     "text": [
      "ROC AUC score: 0.7682908903832728\n",
      "7 of KFold 10\n"
     ]
    },
    {
     "name": "stderr",
     "output_type": "stream",
     "text": [
      "C:\\Users\\cristiano.melo\\AppData\\Local\\Continuum\\anaconda3\\lib\\site-packages\\sklearn\\neural_network\\multilayer_perceptron.py:566: ConvergenceWarning: Stochastic Optimizer: Maximum iterations (200) reached and the optimization hasn't converged yet.\n",
      "  % self.max_iter, ConvergenceWarning)\n"
     ]
    },
    {
     "name": "stdout",
     "output_type": "stream",
     "text": [
      "ROC AUC score: 0.7666679201293575\n",
      "8 of KFold 10\n"
     ]
    },
    {
     "name": "stderr",
     "output_type": "stream",
     "text": [
      "C:\\Users\\cristiano.melo\\AppData\\Local\\Continuum\\anaconda3\\lib\\site-packages\\sklearn\\neural_network\\multilayer_perceptron.py:566: ConvergenceWarning: Stochastic Optimizer: Maximum iterations (200) reached and the optimization hasn't converged yet.\n",
      "  % self.max_iter, ConvergenceWarning)\n"
     ]
    },
    {
     "name": "stdout",
     "output_type": "stream",
     "text": [
      "ROC AUC score: 0.7537515284004594\n",
      "9 of KFold 10\n"
     ]
    },
    {
     "name": "stderr",
     "output_type": "stream",
     "text": [
      "C:\\Users\\cristiano.melo\\AppData\\Local\\Continuum\\anaconda3\\lib\\site-packages\\sklearn\\neural_network\\multilayer_perceptron.py:566: ConvergenceWarning: Stochastic Optimizer: Maximum iterations (200) reached and the optimization hasn't converged yet.\n",
      "  % self.max_iter, ConvergenceWarning)\n"
     ]
    },
    {
     "name": "stdout",
     "output_type": "stream",
     "text": [
      "ROC AUC score: 0.8398110954293779\n",
      "10 of KFold 10\n",
      "ROC AUC score: 0.7389579020013803\n",
      "\n",
      "CROSS VALIDANTION SUMMARY:\n",
      "Mean: 0.7752967161817818\n",
      "Std deviation: 0.027396934616096647\n",
      "\n",
      "TEST SET:\n",
      "F1-Score(micro): 0.7894736842105263\n",
      "F1-Score(macro): 0.7831282325664348\n",
      "F1-Score(weighted): 0.7871551538021082\n",
      "F1-Score(None): [0.82022472 0.74603175]\n",
      "Accuracy: 0.7894736842105263\n",
      "Sensitivity: 0.6937269372693727\n",
      "Specificity: 0.8664688427299704\n",
      "Confusion Matrix: [0.8664688427299704, 0.69]\n",
      "ROC AUC score: 0.7800978899996714\n",
      "Wall time: 32 s\n"
     ]
    },
    {
     "name": "stderr",
     "output_type": "stream",
     "text": [
      "C:\\Users\\cristiano.melo\\AppData\\Local\\Continuum\\anaconda3\\lib\\site-packages\\sklearn\\neural_network\\multilayer_perceptron.py:566: ConvergenceWarning: Stochastic Optimizer: Maximum iterations (200) reached and the optimization hasn't converged yet.\n",
      "  % self.max_iter, ConvergenceWarning)\n"
     ]
    }
   ],
   "source": [
    "%%time\n",
    "NN_(X_ENN, y_ENN, X_test, y_test)"
   ]
  },
  {
   "cell_type": "code",
   "execution_count": 24,
   "metadata": {},
   "outputs": [
    {
     "name": "stdout",
     "output_type": "stream",
     "text": [
      "Resampling dataset using Tomek's Link (TL)...\n",
      "... DONE!\n",
      "X and Y TL: 4000 4000\n"
     ]
    }
   ],
   "source": [
    "print(\"Resampling dataset using Tomek's Link (TL)...\")\n",
    "X_TL, y_TL = TomekLinks(random_state=42).fit_sample(X_train, y_train.values.ravel())\n",
    "print(\"... DONE!\")\n",
    "print(\"X and Y TL:\", len(X_TL), len(y_TL))"
   ]
  },
  {
   "cell_type": "code",
   "execution_count": 25,
   "metadata": {},
   "outputs": [
    {
     "name": "stdout",
     "output_type": "stream",
     "text": [
      "\n",
      "LOGISTIC REGRESSION\n",
      "TRAIN AND VALIDATION SETS:\n",
      "1 of KFold 10\n",
      "ROC AUC score: 0.7104519774011299\n",
      "2 of KFold 10\n",
      "ROC AUC score: 0.7436760505915953\n",
      "3 of KFold 10\n",
      "ROC AUC score: 0.7085385878489326\n",
      "4 of KFold 10\n",
      "ROC AUC score: 0.7087642687504788\n",
      "5 of KFold 10\n",
      "ROC AUC score: 0.7226940316112291\n",
      "6 of KFold 10\n",
      "ROC AUC score: 0.6888471177944862\n",
      "7 of KFold 10\n",
      "ROC AUC score: 0.6917067153247154\n",
      "8 of KFold 10\n",
      "ROC AUC score: 0.7475713104588673\n",
      "9 of KFold 10\n",
      "ROC AUC score: 0.6949669284828441\n",
      "10 of KFold 10\n",
      "ROC AUC score: 0.6886161840379376\n",
      "\n",
      "CROSS VALIDANTION SUMMARY:\n",
      "Mean: 0.7105833172302216\n",
      "Std deviation: 0.02042702170312283\n",
      "\n",
      "TEST SET:\n",
      "F1-Score(micro): 0.7297149122807018\n",
      "F1-Score(macro): 0.7240650473862753\n",
      "F1-Score(weighted): 0.7283511517889436\n",
      "F1-Score(None): [0.76354916 0.68458093]\n",
      "Accuracy: 0.7297149122807017\n",
      "Sensitivity: 0.6580565805658056\n",
      "Specificity: 0.7873392680514342\n",
      "Confusion Matrix: [0.7873392680514342, 0.66]\n",
      "ROC AUC score: 0.7226979243086199\n",
      "Wall time: 530 ms\n"
     ]
    }
   ],
   "source": [
    "%%time\n",
    "LogisticRegr_(X_TL, y_TL, X_test, y_test)"
   ]
  },
  {
   "cell_type": "code",
   "execution_count": 26,
   "metadata": {},
   "outputs": [
    {
     "name": "stdout",
     "output_type": "stream",
     "text": [
      "Wall time: 0 ns\n",
      "\n",
      "DECISION TREE\n",
      "TRAIN AND VALIDATION SETS:\n",
      "1 of KFold 10\n",
      "ROC AUC score: 0.757678479712378\n",
      "2 of KFold 10\n",
      "ROC AUC score: 0.8179824561403508\n",
      "3 of KFold 10\n",
      "ROC AUC score: 0.7355295566502462\n",
      "4 of KFold 10\n",
      "ROC AUC score: 0.7781225261114941\n",
      "5 of KFold 10\n",
      "ROC AUC score: 0.7541479908783518\n",
      "6 of KFold 10\n",
      "ROC AUC score: 0.725187969924812\n",
      "7 of KFold 10\n",
      "ROC AUC score: 0.7481945979286063\n",
      "8 of KFold 10\n",
      "ROC AUC score: 0.7886523356758991\n",
      "9 of KFold 10\n",
      "ROC AUC score: 0.7480880529144273\n",
      "10 of KFold 10\n",
      "ROC AUC score: 0.7867520936333368\n",
      "\n",
      "CROSS VALIDANTION SUMMARY:\n",
      "Mean: 0.7640336059569902\n",
      "Std deviation: 0.02682517429645105\n",
      "\n",
      "TEST SET:\n",
      "F1-Score(micro): 0.7489035087719298\n",
      "F1-Score(macro): 0.7462650119366537\n",
      "F1-Score(weighted): 0.7490737343742058\n",
      "F1-Score(None): [0.7721393  0.72039072]\n",
      "Accuracy: 0.7489035087719298\n",
      "Sensitivity: 0.7257072570725708\n",
      "Specificity: 0.7675568743818002\n",
      "Confusion Matrix: [0.7675568743818002, 0.73]\n",
      "ROC AUC score: 0.7466320657271854\n",
      "Wall time: 390 ms\n"
     ]
    }
   ],
   "source": [
    "%%time\n",
    "DecisionTree_(X_TL, y_TL, X_test, y_test)"
   ]
  },
  {
   "cell_type": "code",
   "execution_count": 27,
   "metadata": {},
   "outputs": [
    {
     "name": "stdout",
     "output_type": "stream",
     "text": [
      "Wall time: 0 ns\n",
      "RANDOM FOREST\n",
      "TRAIN AND VALIDATION SETS:\n",
      "1 of KFold 10\n",
      "ROC AUC score: 0.7555598356445814\n",
      "2 of KFold 10\n",
      "ROC AUC score: 0.8034475724194206\n",
      "3 of KFold 10\n",
      "ROC AUC score: 0.7684729064039408\n",
      "4 of KFold 10\n",
      "ROC AUC score: 0.7664266196787456\n",
      "5 of KFold 10\n",
      "ROC AUC score: 0.8031899557023406\n",
      "6 of KFold 10\n",
      "ROC AUC score: 0.7473684210526317\n",
      "7 of KFold 10\n",
      "ROC AUC score: 0.7349207165069004\n",
      "8 of KFold 10\n",
      "ROC AUC score: 0.7677242662257131\n",
      "9 of KFold 10\n",
      "ROC AUC score: 0.774183546920215\n",
      "10 of KFold 10\n",
      "ROC AUC score: 0.7463298355362727\n",
      "\n",
      "CROSS VALIDANTION SUMMARY:\n",
      "Mean: 0.7667623676090761\n",
      "Std deviation: 0.0215981764149112\n",
      "\n",
      "TEST SET:\n",
      "F1-Score(micro): 0.7927631578947368\n",
      "F1-Score(macro): 0.7891120507399577\n",
      "F1-Score(weighted): 0.7921242141426506\n",
      "F1-Score(None): [0.81686047 0.76136364]\n",
      "Accuracy: 0.7927631578947368\n",
      "Sensitivity: 0.7416974169741697\n",
      "Specificity: 0.8338278931750742\n",
      "Confusion Matrix: [0.8338278931750742, 0.74]\n",
      "ROC AUC score: 0.787762655074622\n",
      "Wall time: 6.13 s\n"
     ]
    }
   ],
   "source": [
    "%%time\n",
    "RandomForest_(X_TL, y_TL, X_test, y_test)"
   ]
  },
  {
   "cell_type": "code",
   "execution_count": 28,
   "metadata": {},
   "outputs": [
    {
     "name": "stdout",
     "output_type": "stream",
     "text": [
      "Wall time: 0 ns\n",
      "NEURAL NETWORK\n",
      "TRAIN AND VALIDATION SETS:\n",
      "1 of KFold 10\n"
     ]
    },
    {
     "name": "stderr",
     "output_type": "stream",
     "text": [
      "C:\\Users\\cristiano.melo\\AppData\\Local\\Continuum\\anaconda3\\lib\\site-packages\\sklearn\\neural_network\\multilayer_perceptron.py:566: ConvergenceWarning: Stochastic Optimizer: Maximum iterations (200) reached and the optimization hasn't converged yet.\n",
      "  % self.max_iter, ConvergenceWarning)\n"
     ]
    },
    {
     "name": "stdout",
     "output_type": "stream",
     "text": [
      "ROC AUC score: 0.7797765793528506\n",
      "2 of KFold 10\n"
     ]
    },
    {
     "name": "stderr",
     "output_type": "stream",
     "text": [
      "C:\\Users\\cristiano.melo\\AppData\\Local\\Continuum\\anaconda3\\lib\\site-packages\\sklearn\\neural_network\\multilayer_perceptron.py:566: ConvergenceWarning: Stochastic Optimizer: Maximum iterations (200) reached and the optimization hasn't converged yet.\n",
      "  % self.max_iter, ConvergenceWarning)\n"
     ]
    },
    {
     "name": "stdout",
     "output_type": "stream",
     "text": [
      "ROC AUC score: 0.8186964504283966\n",
      "3 of KFold 10\n"
     ]
    },
    {
     "name": "stderr",
     "output_type": "stream",
     "text": [
      "C:\\Users\\cristiano.melo\\AppData\\Local\\Continuum\\anaconda3\\lib\\site-packages\\sklearn\\neural_network\\multilayer_perceptron.py:566: ConvergenceWarning: Stochastic Optimizer: Maximum iterations (200) reached and the optimization hasn't converged yet.\n",
      "  % self.max_iter, ConvergenceWarning)\n"
     ]
    },
    {
     "name": "stdout",
     "output_type": "stream",
     "text": [
      "ROC AUC score: 0.7841748768472907\n",
      "4 of KFold 10\n"
     ]
    },
    {
     "name": "stderr",
     "output_type": "stream",
     "text": [
      "C:\\Users\\cristiano.melo\\AppData\\Local\\Continuum\\anaconda3\\lib\\site-packages\\sklearn\\neural_network\\multilayer_perceptron.py:566: ConvergenceWarning: Stochastic Optimizer: Maximum iterations (200) reached and the optimization hasn't converged yet.\n",
      "  % self.max_iter, ConvergenceWarning)\n"
     ]
    },
    {
     "name": "stdout",
     "output_type": "stream",
     "text": [
      "ROC AUC score: 0.7962920401440282\n",
      "5 of KFold 10\n"
     ]
    },
    {
     "name": "stderr",
     "output_type": "stream",
     "text": [
      "C:\\Users\\cristiano.melo\\AppData\\Local\\Continuum\\anaconda3\\lib\\site-packages\\sklearn\\neural_network\\multilayer_perceptron.py:566: ConvergenceWarning: Stochastic Optimizer: Maximum iterations (200) reached and the optimization hasn't converged yet.\n",
      "  % self.max_iter, ConvergenceWarning)\n"
     ]
    },
    {
     "name": "stdout",
     "output_type": "stream",
     "text": [
      "ROC AUC score: 0.7773714974705774\n",
      "6 of KFold 10\n"
     ]
    },
    {
     "name": "stderr",
     "output_type": "stream",
     "text": [
      "C:\\Users\\cristiano.melo\\AppData\\Local\\Continuum\\anaconda3\\lib\\site-packages\\sklearn\\neural_network\\multilayer_perceptron.py:566: ConvergenceWarning: Stochastic Optimizer: Maximum iterations (200) reached and the optimization hasn't converged yet.\n",
      "  % self.max_iter, ConvergenceWarning)\n"
     ]
    },
    {
     "name": "stdout",
     "output_type": "stream",
     "text": [
      "ROC AUC score: 0.7824561403508773\n",
      "7 of KFold 10\n"
     ]
    },
    {
     "name": "stderr",
     "output_type": "stream",
     "text": [
      "C:\\Users\\cristiano.melo\\AppData\\Local\\Continuum\\anaconda3\\lib\\site-packages\\sklearn\\neural_network\\multilayer_perceptron.py:566: ConvergenceWarning: Stochastic Optimizer: Maximum iterations (200) reached and the optimization hasn't converged yet.\n",
      "  % self.max_iter, ConvergenceWarning)\n"
     ]
    },
    {
     "name": "stdout",
     "output_type": "stream",
     "text": [
      "ROC AUC score: 0.773997070237208\n",
      "8 of KFold 10\n"
     ]
    },
    {
     "name": "stderr",
     "output_type": "stream",
     "text": [
      "C:\\Users\\cristiano.melo\\AppData\\Local\\Continuum\\anaconda3\\lib\\site-packages\\sklearn\\neural_network\\multilayer_perceptron.py:566: ConvergenceWarning: Stochastic Optimizer: Maximum iterations (200) reached and the optimization hasn't converged yet.\n",
      "  % self.max_iter, ConvergenceWarning)\n"
     ]
    },
    {
     "name": "stdout",
     "output_type": "stream",
     "text": [
      "ROC AUC score: 0.8053431169904919\n",
      "9 of KFold 10\n"
     ]
    },
    {
     "name": "stderr",
     "output_type": "stream",
     "text": [
      "C:\\Users\\cristiano.melo\\AppData\\Local\\Continuum\\anaconda3\\lib\\site-packages\\sklearn\\neural_network\\multilayer_perceptron.py:566: ConvergenceWarning: Stochastic Optimizer: Maximum iterations (200) reached and the optimization hasn't converged yet.\n",
      "  % self.max_iter, ConvergenceWarning)\n"
     ]
    },
    {
     "name": "stdout",
     "output_type": "stream",
     "text": [
      "ROC AUC score: 0.7826581231914016\n",
      "10 of KFold 10\n",
      "ROC AUC score: 0.757176369690243\n",
      "\n",
      "CROSS VALIDANTION SUMMARY:\n",
      "Mean: 0.7857942264703366\n",
      "Std deviation: 0.016321240370481632\n",
      "\n",
      "TEST SET:\n",
      "F1-Score(micro): 0.7735745614035088\n",
      "F1-Score(macro): 0.7679082591363293\n",
      "F1-Score(weighted): 0.7718448480798434\n",
      "F1-Score(None): [0.80417259 0.73164392]\n",
      "Accuracy: 0.7735745614035088\n",
      "Sensitivity: 0.6924969249692496\n",
      "Specificity: 0.8387734915924827\n",
      "Confusion Matrix: [0.8387734915924827, 0.69]\n",
      "ROC AUC score: 0.7656352082808662\n",
      "Wall time: 38.9 s\n"
     ]
    },
    {
     "name": "stderr",
     "output_type": "stream",
     "text": [
      "C:\\Users\\cristiano.melo\\AppData\\Local\\Continuum\\anaconda3\\lib\\site-packages\\sklearn\\neural_network\\multilayer_perceptron.py:566: ConvergenceWarning: Stochastic Optimizer: Maximum iterations (200) reached and the optimization hasn't converged yet.\n",
      "  % self.max_iter, ConvergenceWarning)\n"
     ]
    }
   ],
   "source": [
    "%%time\n",
    "NN_(X_TL, y_TL, X_test, y_test)"
   ]
  },
  {
   "cell_type": "markdown",
   "metadata": {},
   "source": [
    "## Oversampling"
   ]
  },
  {
   "cell_type": "code",
   "execution_count": 29,
   "metadata": {},
   "outputs": [
    {
     "name": "stdout",
     "output_type": "stream",
     "text": [
      "Resampling dataset using Random OverSampling (ROS)...\n",
      "X and Y ROS: 4854 4854\n"
     ]
    },
    {
     "name": "stderr",
     "output_type": "stream",
     "text": [
      "C:\\Users\\cristiano.melo\\AppData\\Local\\Continuum\\anaconda3\\lib\\site-packages\\sklearn\\utils\\validation.py:724: DataConversionWarning: A column-vector y was passed when a 1d array was expected. Please change the shape of y to (n_samples, ), for example using ravel().\n",
      "  y = column_or_1d(y, warn=True)\n"
     ]
    }
   ],
   "source": [
    "print(\"Resampling dataset using Random OverSampling (ROS)...\")\n",
    "ros = RandomOverSampler(random_state=42)\n",
    "X_ROS, y_ROS = ros.fit_resample(X_train, y_train)\n",
    "print(\"X and Y ROS:\", len(X_ROS), len(y_ROS))"
   ]
  },
  {
   "cell_type": "code",
   "execution_count": 30,
   "metadata": {},
   "outputs": [
    {
     "name": "stdout",
     "output_type": "stream",
     "text": [
      "Wall time: 0 ns\n",
      "\n",
      "LOGISTIC REGRESSION\n",
      "TRAIN AND VALIDATION SETS:\n",
      "1 of KFold 10\n",
      "ROC AUC score: 0.7160493827160495\n",
      "2 of KFold 10\n",
      "ROC AUC score: 0.7489711934156379\n",
      "3 of KFold 10\n",
      "ROC AUC score: 0.6975308641975309\n",
      "4 of KFold 10\n",
      "ROC AUC score: 0.7160493827160493\n",
      "5 of KFold 10\n",
      "ROC AUC score: 0.7222222222222222\n",
      "6 of KFold 10\n",
      "ROC AUC score: 0.7037037037037037\n",
      "7 of KFold 10\n",
      "ROC AUC score: 0.7037037037037037\n",
      "8 of KFold 10\n",
      "ROC AUC score: 0.6983471074380165\n",
      "9 of KFold 10\n",
      "ROC AUC score: 0.7169421487603306\n",
      "10 of KFold 10\n",
      "ROC AUC score: 0.7148760330578513\n",
      "\n",
      "CROSS VALIDANTION SUMMARY:\n",
      "Mean: 0.7138395741931095\n",
      "Std deviation: 0.014270348522547934\n",
      "\n",
      "TEST SET:\n",
      "F1-Score(micro): 0.7346491228070176\n",
      "F1-Score(macro): 0.7291457015085097\n",
      "F1-Score(weighted): 0.7333367684973734\n",
      "F1-Score(None): [0.76775432 0.69053708]\n",
      "Accuracy: 0.7346491228070176\n",
      "Sensitivity: 0.6642066420664207\n",
      "Specificity: 0.7912957467853611\n",
      "Confusion Matrix: [0.7912957467853611, 0.66]\n",
      "ROC AUC score: 0.7277511944258908\n",
      "Wall time: 550 ms\n"
     ]
    }
   ],
   "source": [
    "%%time\n",
    "LogisticRegr_NoIloc(X_ROS, y_ROS, X_test, y_test)"
   ]
  },
  {
   "cell_type": "code",
   "execution_count": 31,
   "metadata": {},
   "outputs": [
    {
     "name": "stdout",
     "output_type": "stream",
     "text": [
      "Wall time: 0 ns\n",
      "\n",
      "DECISION TREE\n",
      "TRAIN AND VALIDATION SETS:\n",
      "1 of KFold 10\n",
      "ROC AUC score: 0.7901234567901234\n",
      "2 of KFold 10\n",
      "ROC AUC score: 0.831275720164609\n",
      "3 of KFold 10\n",
      "ROC AUC score: 0.8065843621399176\n",
      "4 of KFold 10\n",
      "ROC AUC score: 0.8497942386831276\n",
      "5 of KFold 10\n",
      "ROC AUC score: 0.874485596707819\n",
      "6 of KFold 10\n",
      "ROC AUC score: 0.816872427983539\n",
      "7 of KFold 10\n",
      "ROC AUC score: 0.8148148148148149\n",
      "8 of KFold 10\n",
      "ROC AUC score: 0.847107438016529\n",
      "9 of KFold 10\n",
      "ROC AUC score: 0.9194214876033059\n",
      "10 of KFold 10\n",
      "ROC AUC score: 0.9028925619834711\n",
      "\n",
      "CROSS VALIDANTION SUMMARY:\n",
      "Mean: 0.8453372104887258\n",
      "Std deviation: 0.040204046649299045\n",
      "\n",
      "TEST SET:\n",
      "F1-Score(micro): 0.7483552631578947\n",
      "F1-Score(macro): 0.7465721143236992\n",
      "F1-Score(weighted): 0.748879718697364\n",
      "F1-Score(None): [0.76783005 0.72531418]\n",
      "Accuracy: 0.7483552631578947\n",
      "Sensitivity: 0.7453874538745388\n",
      "Specificity: 0.7507418397626113\n",
      "Confusion Matrix: [0.7507418397626113, 0.75]\n",
      "ROC AUC score: 0.7480646468185751\n",
      "Wall time: 350 ms\n"
     ]
    }
   ],
   "source": [
    "%%time\n",
    "DecisionTree_NoIloc(X_ROS, y_ROS, X_test, y_test)"
   ]
  },
  {
   "cell_type": "code",
   "execution_count": 32,
   "metadata": {},
   "outputs": [
    {
     "name": "stdout",
     "output_type": "stream",
     "text": [
      "Wall time: 0 ns\n",
      "RANDOM FOREST\n",
      "TRAIN AND VALIDATION SETS:\n",
      "1 of KFold 10\n",
      "ROC AUC score: 0.8189300411522633\n",
      "2 of KFold 10\n",
      "ROC AUC score: 0.8333333333333335\n",
      "3 of KFold 10\n",
      "ROC AUC score: 0.8168724279835391\n",
      "4 of KFold 10\n",
      "ROC AUC score: 0.8168724279835391\n",
      "5 of KFold 10\n",
      "ROC AUC score: 0.8539094650205762\n",
      "6 of KFold 10\n",
      "ROC AUC score: 0.8148148148148148\n",
      "7 of KFold 10\n",
      "ROC AUC score: 0.8209876543209876\n",
      "8 of KFold 10\n",
      "ROC AUC score: 0.8429752066115703\n",
      "9 of KFold 10\n",
      "ROC AUC score: 0.9421487603305786\n",
      "10 of KFold 10\n",
      "ROC AUC score: 0.8946280991735538\n",
      "\n",
      "CROSS VALIDANTION SUMMARY:\n",
      "Mean: 0.8455472230724755\n",
      "Std deviation: 0.039833561623140085\n",
      "\n",
      "TEST SET:\n",
      "F1-Score(micro): 0.7905701754385964\n",
      "F1-Score(macro): 0.7891056312108943\n",
      "F1-Score(weighted): 0.7910133927706642\n",
      "F1-Score(None): [0.80668016 0.7715311 ]\n",
      "Accuracy: 0.7905701754385965\n",
      "Sensitivity: 0.7933579335793358\n",
      "Specificity: 0.7883283877349159\n",
      "Confusion Matrix: [0.7883283877349159, 0.79]\n",
      "ROC AUC score: 0.7908431606571258\n",
      "Wall time: 7.26 s\n"
     ]
    }
   ],
   "source": [
    "%%time\n",
    "RandomForest_NoIloc(X_ROS, y_ROS, X_test, y_test)"
   ]
  },
  {
   "cell_type": "code",
   "execution_count": 33,
   "metadata": {},
   "outputs": [
    {
     "name": "stdout",
     "output_type": "stream",
     "text": [
      "Wall time: 0 ns\n",
      "NEURAL NETWORK\n",
      "TRAIN AND VALIDATION SETS:\n",
      "1 of KFold 10\n"
     ]
    },
    {
     "name": "stderr",
     "output_type": "stream",
     "text": [
      "C:\\Users\\cristiano.melo\\AppData\\Local\\Continuum\\anaconda3\\lib\\site-packages\\sklearn\\neural_network\\multilayer_perceptron.py:566: ConvergenceWarning: Stochastic Optimizer: Maximum iterations (200) reached and the optimization hasn't converged yet.\n",
      "  % self.max_iter, ConvergenceWarning)\n"
     ]
    },
    {
     "name": "stdout",
     "output_type": "stream",
     "text": [
      "ROC AUC score: 0.8004115226337448\n",
      "2 of KFold 10\n"
     ]
    },
    {
     "name": "stderr",
     "output_type": "stream",
     "text": [
      "C:\\Users\\cristiano.melo\\AppData\\Local\\Continuum\\anaconda3\\lib\\site-packages\\sklearn\\neural_network\\multilayer_perceptron.py:566: ConvergenceWarning: Stochastic Optimizer: Maximum iterations (200) reached and the optimization hasn't converged yet.\n",
      "  % self.max_iter, ConvergenceWarning)\n"
     ]
    },
    {
     "name": "stdout",
     "output_type": "stream",
     "text": [
      "ROC AUC score: 0.8045267489711934\n",
      "3 of KFold 10\n"
     ]
    },
    {
     "name": "stderr",
     "output_type": "stream",
     "text": [
      "C:\\Users\\cristiano.melo\\AppData\\Local\\Continuum\\anaconda3\\lib\\site-packages\\sklearn\\neural_network\\multilayer_perceptron.py:566: ConvergenceWarning: Stochastic Optimizer: Maximum iterations (200) reached and the optimization hasn't converged yet.\n",
      "  % self.max_iter, ConvergenceWarning)\n"
     ]
    },
    {
     "name": "stdout",
     "output_type": "stream",
     "text": [
      "ROC AUC score: 0.7921810699588476\n",
      "4 of KFold 10\n"
     ]
    },
    {
     "name": "stderr",
     "output_type": "stream",
     "text": [
      "C:\\Users\\cristiano.melo\\AppData\\Local\\Continuum\\anaconda3\\lib\\site-packages\\sklearn\\neural_network\\multilayer_perceptron.py:566: ConvergenceWarning: Stochastic Optimizer: Maximum iterations (200) reached and the optimization hasn't converged yet.\n",
      "  % self.max_iter, ConvergenceWarning)\n"
     ]
    },
    {
     "name": "stdout",
     "output_type": "stream",
     "text": [
      "ROC AUC score: 0.8045267489711934\n",
      "5 of KFold 10\n"
     ]
    },
    {
     "name": "stderr",
     "output_type": "stream",
     "text": [
      "C:\\Users\\cristiano.melo\\AppData\\Local\\Continuum\\anaconda3\\lib\\site-packages\\sklearn\\neural_network\\multilayer_perceptron.py:566: ConvergenceWarning: Stochastic Optimizer: Maximum iterations (200) reached and the optimization hasn't converged yet.\n",
      "  % self.max_iter, ConvergenceWarning)\n"
     ]
    },
    {
     "name": "stdout",
     "output_type": "stream",
     "text": [
      "ROC AUC score: 0.8189300411522634\n",
      "6 of KFold 10\n"
     ]
    },
    {
     "name": "stderr",
     "output_type": "stream",
     "text": [
      "C:\\Users\\cristiano.melo\\AppData\\Local\\Continuum\\anaconda3\\lib\\site-packages\\sklearn\\neural_network\\multilayer_perceptron.py:566: ConvergenceWarning: Stochastic Optimizer: Maximum iterations (200) reached and the optimization hasn't converged yet.\n",
      "  % self.max_iter, ConvergenceWarning)\n"
     ]
    },
    {
     "name": "stdout",
     "output_type": "stream",
     "text": [
      "ROC AUC score: 0.7880658436213991\n",
      "7 of KFold 10\n"
     ]
    },
    {
     "name": "stderr",
     "output_type": "stream",
     "text": [
      "C:\\Users\\cristiano.melo\\AppData\\Local\\Continuum\\anaconda3\\lib\\site-packages\\sklearn\\neural_network\\multilayer_perceptron.py:566: ConvergenceWarning: Stochastic Optimizer: Maximum iterations (200) reached and the optimization hasn't converged yet.\n",
      "  % self.max_iter, ConvergenceWarning)\n"
     ]
    },
    {
     "name": "stdout",
     "output_type": "stream",
     "text": [
      "ROC AUC score: 0.8065843621399176\n",
      "8 of KFold 10\n"
     ]
    },
    {
     "name": "stderr",
     "output_type": "stream",
     "text": [
      "C:\\Users\\cristiano.melo\\AppData\\Local\\Continuum\\anaconda3\\lib\\site-packages\\sklearn\\neural_network\\multilayer_perceptron.py:566: ConvergenceWarning: Stochastic Optimizer: Maximum iterations (200) reached and the optimization hasn't converged yet.\n",
      "  % self.max_iter, ConvergenceWarning)\n"
     ]
    },
    {
     "name": "stdout",
     "output_type": "stream",
     "text": [
      "ROC AUC score: 0.8243801652892563\n",
      "9 of KFold 10\n"
     ]
    },
    {
     "name": "stderr",
     "output_type": "stream",
     "text": [
      "C:\\Users\\cristiano.melo\\AppData\\Local\\Continuum\\anaconda3\\lib\\site-packages\\sklearn\\neural_network\\multilayer_perceptron.py:566: ConvergenceWarning: Stochastic Optimizer: Maximum iterations (200) reached and the optimization hasn't converged yet.\n",
      "  % self.max_iter, ConvergenceWarning)\n"
     ]
    },
    {
     "name": "stdout",
     "output_type": "stream",
     "text": [
      "ROC AUC score: 0.8491735537190083\n",
      "10 of KFold 10\n",
      "ROC AUC score: 0.8078512396694215\n",
      "\n",
      "CROSS VALIDANTION SUMMARY:\n",
      "Mean: 0.8096631296126244\n",
      "Std deviation: 0.016693484872183886\n",
      "\n",
      "TEST SET:\n",
      "F1-Score(micro): 0.8092105263157895\n",
      "F1-Score(macro): 0.8074583674583675\n",
      "F1-Score(weighted): 0.8094522033995718\n",
      "F1-Score(None): [0.82582583 0.78909091]\n",
      "Accuracy: 0.8092105263157895\n",
      "Sensitivity: 0.8007380073800738\n",
      "Specificity: 0.8160237388724035\n",
      "Confusion Matrix: [0.8160237388724035, 0.8]\n",
      "ROC AUC score: 0.8083808731262386\n",
      "Wall time: 45.8 s\n"
     ]
    },
    {
     "name": "stderr",
     "output_type": "stream",
     "text": [
      "C:\\Users\\cristiano.melo\\AppData\\Local\\Continuum\\anaconda3\\lib\\site-packages\\sklearn\\neural_network\\multilayer_perceptron.py:566: ConvergenceWarning: Stochastic Optimizer: Maximum iterations (200) reached and the optimization hasn't converged yet.\n",
      "  % self.max_iter, ConvergenceWarning)\n"
     ]
    }
   ],
   "source": [
    "%%time\n",
    "NN_NoIloc(X_ROS, y_ROS, X_test, y_test)"
   ]
  },
  {
   "cell_type": "code",
   "execution_count": 34,
   "metadata": {},
   "outputs": [
    {
     "name": "stdout",
     "output_type": "stream",
     "text": [
      "Resampling dataset using SMOTE (SMO)...\n",
      "X and Y SMO: 4854 4854\n"
     ]
    },
    {
     "name": "stderr",
     "output_type": "stream",
     "text": [
      "C:\\Users\\cristiano.melo\\AppData\\Local\\Continuum\\anaconda3\\lib\\site-packages\\sklearn\\utils\\validation.py:724: DataConversionWarning: A column-vector y was passed when a 1d array was expected. Please change the shape of y to (n_samples, ), for example using ravel().\n",
      "  y = column_or_1d(y, warn=True)\n"
     ]
    }
   ],
   "source": [
    "print(\"Resampling dataset using SMOTE (SMO)...\")\n",
    "sm = SMOTE(random_state=42)\n",
    "X_SMO, y_SMO = sm.fit_resample(X_train, y_train)\n",
    "print(\"X and Y SMO:\", len(X_SMO), len(y_SMO))"
   ]
  },
  {
   "cell_type": "code",
   "execution_count": 35,
   "metadata": {},
   "outputs": [
    {
     "name": "stdout",
     "output_type": "stream",
     "text": [
      "Wall time: 0 ns\n",
      "\n",
      "LOGISTIC REGRESSION\n",
      "TRAIN AND VALIDATION SETS:\n",
      "1 of KFold 10\n",
      "ROC AUC score: 0.7181069958847737\n",
      "2 of KFold 10\n",
      "ROC AUC score: 0.7489711934156378\n",
      "3 of KFold 10\n",
      "ROC AUC score: 0.6975308641975309\n",
      "4 of KFold 10\n",
      "ROC AUC score: 0.7181069958847737\n",
      "5 of KFold 10\n",
      "ROC AUC score: 0.7283950617283951\n",
      "6 of KFold 10\n",
      "ROC AUC score: 0.7160493827160493\n",
      "7 of KFold 10\n",
      "ROC AUC score: 0.7016460905349794\n",
      "8 of KFold 10\n",
      "ROC AUC score: 0.6942148760330579\n",
      "9 of KFold 10\n",
      "ROC AUC score: 0.7293388429752067\n",
      "10 of KFold 10\n",
      "ROC AUC score: 0.7148760330578513\n",
      "\n",
      "CROSS VALIDANTION SUMMARY:\n",
      "Mean: 0.7167236336428255\n",
      "Std deviation: 0.01563747214245556\n",
      "\n",
      "TEST SET:\n",
      "F1-Score(micro): 0.7308114035087719\n",
      "F1-Score(macro): 0.7254452933229225\n",
      "F1-Score(weighted): 0.7296119200554645\n",
      "F1-Score(None): [0.76382876 0.68706182]\n",
      "Accuracy: 0.7308114035087719\n",
      "Sensitivity: 0.6629766297662977\n",
      "Specificity: 0.7853610286844708\n",
      "Confusion Matrix: [0.7853610286844708, 0.66]\n",
      "ROC AUC score: 0.7241688292253843\n",
      "Wall time: 560 ms\n"
     ]
    }
   ],
   "source": [
    "%%time\n",
    "LogisticRegr_NoIloc(X_SMO, y_SMO, X_test, y_test)"
   ]
  },
  {
   "cell_type": "code",
   "execution_count": 36,
   "metadata": {},
   "outputs": [
    {
     "name": "stdout",
     "output_type": "stream",
     "text": [
      "Wall time: 0 ns\n",
      "\n",
      "DECISION TREE\n",
      "TRAIN AND VALIDATION SETS:\n",
      "1 of KFold 10\n",
      "ROC AUC score: 0.7777777777777778\n",
      "2 of KFold 10\n",
      "ROC AUC score: 0.7880658436213992\n",
      "3 of KFold 10\n",
      "ROC AUC score: 0.7901234567901235\n",
      "4 of KFold 10\n",
      "ROC AUC score: 0.7880658436213992\n",
      "5 of KFold 10\n",
      "ROC AUC score: 0.8045267489711935\n",
      "6 of KFold 10\n",
      "ROC AUC score: 0.7880658436213992\n",
      "7 of KFold 10\n",
      "ROC AUC score: 0.7798353909465019\n",
      "8 of KFold 10\n",
      "ROC AUC score: 0.8119834710743802\n",
      "9 of KFold 10\n",
      "ROC AUC score: 0.8842975206611571\n",
      "10 of KFold 10\n",
      "ROC AUC score: 0.8553719008264464\n",
      "\n",
      "CROSS VALIDANTION SUMMARY:\n",
      "Mean: 0.8068113797911778\n",
      "Std deviation: 0.03361178732134246\n",
      "\n",
      "TEST SET:\n",
      "F1-Score(micro): 0.7554824561403509\n",
      "F1-Score(macro): 0.7542723476647077\n",
      "F1-Score(weighted): 0.7561442342129683\n",
      "F1-Score(None): [0.77151639 0.7370283 ]\n",
      "Accuracy: 0.7554824561403509\n",
      "Sensitivity: 0.7687576875768758\n",
      "Specificity: 0.744807121661721\n",
      "Confusion Matrix: [0.744807121661721, 0.77]\n",
      "ROC AUC score: 0.7567824046192985\n",
      "Wall time: 425 ms\n"
     ]
    }
   ],
   "source": [
    "%%time\n",
    "DecisionTree_NoIloc(X_SMO, y_SMO, X_test, y_test)"
   ]
  },
  {
   "cell_type": "code",
   "execution_count": 37,
   "metadata": {},
   "outputs": [
    {
     "name": "stdout",
     "output_type": "stream",
     "text": [
      "Wall time: 0 ns\n",
      "RANDOM FOREST\n",
      "TRAIN AND VALIDATION SETS:\n",
      "1 of KFold 10\n",
      "ROC AUC score: 0.7921810699588476\n",
      "2 of KFold 10\n",
      "ROC AUC score: 0.8106995884773662\n",
      "3 of KFold 10\n",
      "ROC AUC score: 0.7901234567901234\n",
      "4 of KFold 10\n",
      "ROC AUC score: 0.7962962962962963\n",
      "5 of KFold 10\n",
      "ROC AUC score: 0.8148148148148149\n",
      "6 of KFold 10\n",
      "ROC AUC score: 0.7716049382716048\n",
      "7 of KFold 10\n",
      "ROC AUC score: 0.7757201646090535\n",
      "8 of KFold 10\n",
      "ROC AUC score: 0.8305785123966942\n",
      "9 of KFold 10\n",
      "ROC AUC score: 0.921487603305785\n",
      "10 of KFold 10\n",
      "ROC AUC score: 0.8801652892561984\n",
      "\n",
      "CROSS VALIDANTION SUMMARY:\n",
      "Mean: 0.8183671734176784\n",
      "Std deviation: 0.04544158365198192\n",
      "\n",
      "TEST SET:\n",
      "F1-Score(micro): 0.7889254385964913\n",
      "F1-Score(macro): 0.7883513047661042\n",
      "F1-Score(weighted): 0.789547920538911\n",
      "F1-Score(None): [0.79937467 0.77732794]\n",
      "Accuracy: 0.7889254385964912\n",
      "Sensitivity: 0.8265682656826568\n",
      "Specificity: 0.7586547972304649\n",
      "Confusion Matrix: [0.7586547972304649, 0.83]\n",
      "ROC AUC score: 0.7926115314565609\n",
      "Wall time: 9.04 s\n"
     ]
    }
   ],
   "source": [
    "%%time\n",
    "RandomForest_NoIloc(X_SMO, y_SMO, X_test, y_test)"
   ]
  },
  {
   "cell_type": "code",
   "execution_count": 38,
   "metadata": {},
   "outputs": [
    {
     "name": "stdout",
     "output_type": "stream",
     "text": [
      "Wall time: 0 ns\n",
      "NEURAL NETWORK\n",
      "TRAIN AND VALIDATION SETS:\n",
      "1 of KFold 10\n"
     ]
    },
    {
     "name": "stderr",
     "output_type": "stream",
     "text": [
      "C:\\Users\\cristiano.melo\\AppData\\Local\\Continuum\\anaconda3\\lib\\site-packages\\sklearn\\neural_network\\multilayer_perceptron.py:566: ConvergenceWarning: Stochastic Optimizer: Maximum iterations (200) reached and the optimization hasn't converged yet.\n",
      "  % self.max_iter, ConvergenceWarning)\n"
     ]
    },
    {
     "name": "stdout",
     "output_type": "stream",
     "text": [
      "ROC AUC score: 0.7983539094650206\n",
      "2 of KFold 10\n"
     ]
    },
    {
     "name": "stderr",
     "output_type": "stream",
     "text": [
      "C:\\Users\\cristiano.melo\\AppData\\Local\\Continuum\\anaconda3\\lib\\site-packages\\sklearn\\neural_network\\multilayer_perceptron.py:566: ConvergenceWarning: Stochastic Optimizer: Maximum iterations (200) reached and the optimization hasn't converged yet.\n",
      "  % self.max_iter, ConvergenceWarning)\n"
     ]
    },
    {
     "name": "stdout",
     "output_type": "stream",
     "text": [
      "ROC AUC score: 0.8004115226337447\n",
      "3 of KFold 10\n"
     ]
    },
    {
     "name": "stderr",
     "output_type": "stream",
     "text": [
      "C:\\Users\\cristiano.melo\\AppData\\Local\\Continuum\\anaconda3\\lib\\site-packages\\sklearn\\neural_network\\multilayer_perceptron.py:566: ConvergenceWarning: Stochastic Optimizer: Maximum iterations (200) reached and the optimization hasn't converged yet.\n",
      "  % self.max_iter, ConvergenceWarning)\n"
     ]
    },
    {
     "name": "stdout",
     "output_type": "stream",
     "text": [
      "ROC AUC score: 0.8004115226337447\n",
      "4 of KFold 10\n"
     ]
    },
    {
     "name": "stderr",
     "output_type": "stream",
     "text": [
      "C:\\Users\\cristiano.melo\\AppData\\Local\\Continuum\\anaconda3\\lib\\site-packages\\sklearn\\neural_network\\multilayer_perceptron.py:566: ConvergenceWarning: Stochastic Optimizer: Maximum iterations (200) reached and the optimization hasn't converged yet.\n",
      "  % self.max_iter, ConvergenceWarning)\n"
     ]
    },
    {
     "name": "stdout",
     "output_type": "stream",
     "text": [
      "ROC AUC score: 0.7983539094650205\n",
      "5 of KFold 10\n"
     ]
    },
    {
     "name": "stderr",
     "output_type": "stream",
     "text": [
      "C:\\Users\\cristiano.melo\\AppData\\Local\\Continuum\\anaconda3\\lib\\site-packages\\sklearn\\neural_network\\multilayer_perceptron.py:566: ConvergenceWarning: Stochastic Optimizer: Maximum iterations (200) reached and the optimization hasn't converged yet.\n",
      "  % self.max_iter, ConvergenceWarning)\n"
     ]
    },
    {
     "name": "stdout",
     "output_type": "stream",
     "text": [
      "ROC AUC score: 0.8065843621399177\n",
      "6 of KFold 10\n"
     ]
    },
    {
     "name": "stderr",
     "output_type": "stream",
     "text": [
      "C:\\Users\\cristiano.melo\\AppData\\Local\\Continuum\\anaconda3\\lib\\site-packages\\sklearn\\neural_network\\multilayer_perceptron.py:566: ConvergenceWarning: Stochastic Optimizer: Maximum iterations (200) reached and the optimization hasn't converged yet.\n",
      "  % self.max_iter, ConvergenceWarning)\n"
     ]
    },
    {
     "name": "stdout",
     "output_type": "stream",
     "text": [
      "ROC AUC score: 0.7962962962962963\n",
      "7 of KFold 10\n"
     ]
    },
    {
     "name": "stderr",
     "output_type": "stream",
     "text": [
      "C:\\Users\\cristiano.melo\\AppData\\Local\\Continuum\\anaconda3\\lib\\site-packages\\sklearn\\neural_network\\multilayer_perceptron.py:566: ConvergenceWarning: Stochastic Optimizer: Maximum iterations (200) reached and the optimization hasn't converged yet.\n",
      "  % self.max_iter, ConvergenceWarning)\n"
     ]
    },
    {
     "name": "stdout",
     "output_type": "stream",
     "text": [
      "ROC AUC score: 0.794238683127572\n",
      "8 of KFold 10\n"
     ]
    },
    {
     "name": "stderr",
     "output_type": "stream",
     "text": [
      "C:\\Users\\cristiano.melo\\AppData\\Local\\Continuum\\anaconda3\\lib\\site-packages\\sklearn\\neural_network\\multilayer_perceptron.py:566: ConvergenceWarning: Stochastic Optimizer: Maximum iterations (200) reached and the optimization hasn't converged yet.\n",
      "  % self.max_iter, ConvergenceWarning)\n"
     ]
    },
    {
     "name": "stdout",
     "output_type": "stream",
     "text": [
      "ROC AUC score: 0.8491735537190083\n",
      "9 of KFold 10\n"
     ]
    },
    {
     "name": "stderr",
     "output_type": "stream",
     "text": [
      "C:\\Users\\cristiano.melo\\AppData\\Local\\Continuum\\anaconda3\\lib\\site-packages\\sklearn\\neural_network\\multilayer_perceptron.py:566: ConvergenceWarning: Stochastic Optimizer: Maximum iterations (200) reached and the optimization hasn't converged yet.\n",
      "  % self.max_iter, ConvergenceWarning)\n"
     ]
    },
    {
     "name": "stdout",
     "output_type": "stream",
     "text": [
      "ROC AUC score: 0.8388429752066116\n",
      "10 of KFold 10\n",
      "ROC AUC score: 0.8223140495867768\n",
      "\n",
      "CROSS VALIDANTION SUMMARY:\n",
      "Mean: 0.8104980784273712\n",
      "Std deviation: 0.01848961156547151\n",
      "\n",
      "TEST SET:\n",
      "F1-Score(micro): 0.8064692982456141\n",
      "F1-Score(macro): 0.804671286522582\n",
      "F1-Score(weighted): 0.8067056083577839\n",
      "F1-Score(None): [0.82341171 0.78593087]\n",
      "Accuracy: 0.8064692982456141\n",
      "Sensitivity: 0.7970479704797048\n",
      "Specificity: 0.8140454995054401\n",
      "Confusion Matrix: [0.8140454995054401, 0.8]\n",
      "ROC AUC score: 0.8055467349925723\n",
      "Wall time: 46.3 s\n"
     ]
    },
    {
     "name": "stderr",
     "output_type": "stream",
     "text": [
      "C:\\Users\\cristiano.melo\\AppData\\Local\\Continuum\\anaconda3\\lib\\site-packages\\sklearn\\neural_network\\multilayer_perceptron.py:566: ConvergenceWarning: Stochastic Optimizer: Maximum iterations (200) reached and the optimization hasn't converged yet.\n",
      "  % self.max_iter, ConvergenceWarning)\n"
     ]
    }
   ],
   "source": [
    "%%time\n",
    "NN_NoIloc(X_SMO, y_SMO, X_test, y_test)"
   ]
  },
  {
   "cell_type": "code",
   "execution_count": 39,
   "metadata": {},
   "outputs": [
    {
     "name": "stderr",
     "output_type": "stream",
     "text": [
      "C:\\Users\\cristiano.melo\\AppData\\Local\\Continuum\\anaconda3\\lib\\site-packages\\sklearn\\utils\\validation.py:724: DataConversionWarning: A column-vector y was passed when a 1d array was expected. Please change the shape of y to (n_samples, ), for example using ravel().\n",
      "  y = column_or_1d(y, warn=True)\n"
     ]
    },
    {
     "name": "stdout",
     "output_type": "stream",
     "text": [
      "Resampling dataset using ADASYN (ADA)...\n",
      "X and Y ADA: 4668 4668\n"
     ]
    }
   ],
   "source": [
    "print(\"Resampling dataset using ADASYN (ADA)...\")\n",
    "ada = ADASYN(random_state=42)\n",
    "X_ADA, y_ADA = ada.fit_resample(X_train, y_train)\n",
    "print(\"X and Y ADA:\", len(X_ADA), len(y_ADA))"
   ]
  },
  {
   "cell_type": "code",
   "execution_count": 40,
   "metadata": {},
   "outputs": [
    {
     "name": "stdout",
     "output_type": "stream",
     "text": [
      "Wall time: 0 ns\n",
      "\n",
      "LOGISTIC REGRESSION\n",
      "TRAIN AND VALIDATION SETS:\n",
      "1 of KFold 10\n",
      "ROC AUC score: 0.7195884773662551\n",
      "2 of KFold 10\n",
      "ROC AUC score: 0.7470421810699589\n",
      "3 of KFold 10\n",
      "ROC AUC score: 0.7067258230452675\n",
      "4 of KFold 10\n",
      "ROC AUC score: 0.7206055261610818\n",
      "5 of KFold 10\n",
      "ROC AUC score: 0.7374154908877132\n",
      "6 of KFold 10\n",
      "ROC AUC score: 0.7027851263962375\n",
      "7 of KFold 10\n",
      "ROC AUC score: 0.6902281746031745\n",
      "8 of KFold 10\n",
      "ROC AUC score: 0.6810064935064936\n",
      "9 of KFold 10\n",
      "ROC AUC score: 0.5793978748524203\n",
      "10 of KFold 10\n",
      "ROC AUC score: 0.5379833234946871\n",
      "\n",
      "CROSS VALIDANTION SUMMARY:\n",
      "Mean: 0.6822778491383289\n",
      "Std deviation: 0.06525637680838267\n",
      "\n",
      "TEST SET:\n",
      "F1-Score(micro): 0.7319078947368421\n",
      "F1-Score(macro): 0.7267332010815033\n",
      "F1-Score(weighted): 0.7308152303394997\n",
      "F1-Score(None): [0.76433735 0.68912905]\n",
      "Accuracy: 0.7319078947368421\n",
      "Sensitivity: 0.6666666666666666\n",
      "Specificity: 0.7843719090009891\n",
      "Confusion Matrix: [0.7843719090009891, 0.67]\n",
      "ROC AUC score: 0.7255192878338278\n",
      "Wall time: 516 ms\n"
     ]
    }
   ],
   "source": [
    "%%time\n",
    "LogisticRegr_NoIloc(X_ADA, y_ADA, X_test, y_test)"
   ]
  },
  {
   "cell_type": "code",
   "execution_count": 41,
   "metadata": {},
   "outputs": [
    {
     "name": "stdout",
     "output_type": "stream",
     "text": [
      "Wall time: 0 ns\n",
      "\n",
      "DECISION TREE\n",
      "TRAIN AND VALIDATION SETS:\n",
      "1 of KFold 10\n",
      "ROC AUC score: 0.7889711934156378\n",
      "2 of KFold 10\n",
      "ROC AUC score: 0.7631540270429159\n",
      "3 of KFold 10\n",
      "ROC AUC score: 0.7866971634332744\n",
      "4 of KFold 10\n",
      "ROC AUC score: 0.7791280864197531\n",
      "5 of KFold 10\n",
      "ROC AUC score: 0.8046920928865373\n",
      "6 of KFold 10\n",
      "ROC AUC score: 0.7822328777189889\n",
      "7 of KFold 10\n",
      "ROC AUC score: 0.7909869194591417\n",
      "8 of KFold 10\n",
      "ROC AUC score: 0.7759924734356553\n",
      "9 of KFold 10\n",
      "ROC AUC score: 0.8152486717827626\n",
      "10 of KFold 10\n",
      "ROC AUC score: 0.7783906434474617\n",
      "\n",
      "CROSS VALIDANTION SUMMARY:\n",
      "Mean: 0.7865494149042128\n",
      "Std deviation: 0.014062182423055125\n",
      "\n",
      "TEST SET:\n",
      "F1-Score(micro): 0.7445175438596491\n",
      "F1-Score(macro): 0.7439745536037015\n",
      "F1-Score(weighted): 0.7452544592070071\n",
      "F1-Score(None): [0.7557652  0.73218391]\n",
      "Accuracy: 0.7445175438596491\n",
      "Sensitivity: 0.7835178351783518\n",
      "Specificity: 0.7131552917903067\n",
      "Confusion Matrix: [0.7131552917903067, 0.78]\n",
      "ROC AUC score: 0.7483365634843292\n",
      "Wall time: 385 ms\n"
     ]
    }
   ],
   "source": [
    "%%time\n",
    "DecisionTree_NoIloc(X_ADA, y_ADA, X_test, y_test)"
   ]
  },
  {
   "cell_type": "code",
   "execution_count": 42,
   "metadata": {},
   "outputs": [
    {
     "name": "stdout",
     "output_type": "stream",
     "text": [
      "Wall time: 0 ns\n",
      "RANDOM FOREST\n",
      "TRAIN AND VALIDATION SETS:\n",
      "1 of KFold 10\n",
      "ROC AUC score: 0.7874074074074076\n",
      "2 of KFold 10\n",
      "ROC AUC score: 0.8031580687830687\n",
      "3 of KFold 10\n",
      "ROC AUC score: 0.7976833480305703\n",
      "4 of KFold 10\n",
      "ROC AUC score: 0.7842904908877132\n",
      "5 of KFold 10\n",
      "ROC AUC score: 0.817037771898883\n",
      "6 of KFold 10\n",
      "ROC AUC score: 0.7698871987066432\n",
      "7 of KFold 10\n",
      "ROC AUC score: 0.7741769547325104\n",
      "8 of KFold 10\n",
      "ROC AUC score: 0.786987160566706\n",
      "9 of KFold 10\n",
      "ROC AUC score: 0.8789846517119244\n",
      "10 of KFold 10\n",
      "ROC AUC score: 0.8496531877213696\n",
      "\n",
      "CROSS VALIDANTION SUMMARY:\n",
      "Mean: 0.8049266240446796\n",
      "Std deviation: 0.03303820588610189\n",
      "\n",
      "TEST SET:\n",
      "F1-Score(micro): 0.7856359649122807\n",
      "F1-Score(macro): 0.7846884448583853\n",
      "F1-Score(weighted): 0.7862389322193049\n",
      "F1-Score(None): [0.79897172 0.77040517]\n",
      "Accuracy: 0.7856359649122807\n",
      "Sensitivity: 0.8068880688806888\n",
      "Specificity: 0.7685459940652819\n",
      "Confusion Matrix: [0.7685459940652819, 0.81]\n",
      "ROC AUC score: 0.7877170314729853\n",
      "Wall time: 8.02 s\n"
     ]
    }
   ],
   "source": [
    "%%time\n",
    "RandomForest_NoIloc(X_ADA, y_ADA, X_test, y_test)"
   ]
  },
  {
   "cell_type": "code",
   "execution_count": 43,
   "metadata": {},
   "outputs": [
    {
     "name": "stdout",
     "output_type": "stream",
     "text": [
      "Wall time: 0 ns\n",
      "NEURAL NETWORK\n",
      "TRAIN AND VALIDATION SETS:\n",
      "1 of KFold 10\n"
     ]
    },
    {
     "name": "stderr",
     "output_type": "stream",
     "text": [
      "C:\\Users\\cristiano.melo\\AppData\\Local\\Continuum\\anaconda3\\lib\\site-packages\\sklearn\\neural_network\\multilayer_perceptron.py:566: ConvergenceWarning: Stochastic Optimizer: Maximum iterations (200) reached and the optimization hasn't converged yet.\n",
      "  % self.max_iter, ConvergenceWarning)\n"
     ]
    },
    {
     "name": "stdout",
     "output_type": "stream",
     "text": [
      "ROC AUC score: 0.7725925925925925\n",
      "2 of KFold 10\n"
     ]
    },
    {
     "name": "stderr",
     "output_type": "stream",
     "text": [
      "C:\\Users\\cristiano.melo\\AppData\\Local\\Continuum\\anaconda3\\lib\\site-packages\\sklearn\\neural_network\\multilayer_perceptron.py:566: ConvergenceWarning: Stochastic Optimizer: Maximum iterations (200) reached and the optimization hasn't converged yet.\n",
      "  % self.max_iter, ConvergenceWarning)\n"
     ]
    },
    {
     "name": "stdout",
     "output_type": "stream",
     "text": [
      "ROC AUC score: 0.7755364491475603\n",
      "3 of KFold 10\n"
     ]
    },
    {
     "name": "stderr",
     "output_type": "stream",
     "text": [
      "C:\\Users\\cristiano.melo\\AppData\\Local\\Continuum\\anaconda3\\lib\\site-packages\\sklearn\\neural_network\\multilayer_perceptron.py:566: ConvergenceWarning: Stochastic Optimizer: Maximum iterations (200) reached and the optimization hasn't converged yet.\n",
      "  % self.max_iter, ConvergenceWarning)\n"
     ]
    },
    {
     "name": "stdout",
     "output_type": "stream",
     "text": [
      "ROC AUC score: 0.7940917107583774\n",
      "4 of KFold 10\n"
     ]
    },
    {
     "name": "stderr",
     "output_type": "stream",
     "text": [
      "C:\\Users\\cristiano.melo\\AppData\\Local\\Continuum\\anaconda3\\lib\\site-packages\\sklearn\\neural_network\\multilayer_perceptron.py:566: ConvergenceWarning: Stochastic Optimizer: Maximum iterations (200) reached and the optimization hasn't converged yet.\n",
      "  % self.max_iter, ConvergenceWarning)\n"
     ]
    },
    {
     "name": "stdout",
     "output_type": "stream",
     "text": [
      "ROC AUC score: 0.7729552469135803\n",
      "5 of KFold 10\n"
     ]
    },
    {
     "name": "stderr",
     "output_type": "stream",
     "text": [
      "C:\\Users\\cristiano.melo\\AppData\\Local\\Continuum\\anaconda3\\lib\\site-packages\\sklearn\\neural_network\\multilayer_perceptron.py:566: ConvergenceWarning: Stochastic Optimizer: Maximum iterations (200) reached and the optimization hasn't converged yet.\n",
      "  % self.max_iter, ConvergenceWarning)\n"
     ]
    },
    {
     "name": "stdout",
     "output_type": "stream",
     "text": [
      "ROC AUC score: 0.8026344797178131\n",
      "6 of KFold 10\n"
     ]
    },
    {
     "name": "stderr",
     "output_type": "stream",
     "text": [
      "C:\\Users\\cristiano.melo\\AppData\\Local\\Continuum\\anaconda3\\lib\\site-packages\\sklearn\\neural_network\\multilayer_perceptron.py:566: ConvergenceWarning: Stochastic Optimizer: Maximum iterations (200) reached and the optimization hasn't converged yet.\n",
      "  % self.max_iter, ConvergenceWarning)\n"
     ]
    },
    {
     "name": "stdout",
     "output_type": "stream",
     "text": [
      "ROC AUC score: 0.7717702821869489\n",
      "7 of KFold 10\n"
     ]
    },
    {
     "name": "stderr",
     "output_type": "stream",
     "text": [
      "C:\\Users\\cristiano.melo\\AppData\\Local\\Continuum\\anaconda3\\lib\\site-packages\\sklearn\\neural_network\\multilayer_perceptron.py:566: ConvergenceWarning: Stochastic Optimizer: Maximum iterations (200) reached and the optimization hasn't converged yet.\n",
      "  % self.max_iter, ConvergenceWarning)\n"
     ]
    },
    {
     "name": "stdout",
     "output_type": "stream",
     "text": [
      "ROC AUC score: 0.7530404908877132\n",
      "8 of KFold 10\n"
     ]
    },
    {
     "name": "stderr",
     "output_type": "stream",
     "text": [
      "C:\\Users\\cristiano.melo\\AppData\\Local\\Continuum\\anaconda3\\lib\\site-packages\\sklearn\\neural_network\\multilayer_perceptron.py:566: ConvergenceWarning: Stochastic Optimizer: Maximum iterations (200) reached and the optimization hasn't converged yet.\n",
      "  % self.max_iter, ConvergenceWarning)\n"
     ]
    },
    {
     "name": "stdout",
     "output_type": "stream",
     "text": [
      "ROC AUC score: 0.8074822904368358\n",
      "9 of KFold 10\n"
     ]
    },
    {
     "name": "stderr",
     "output_type": "stream",
     "text": [
      "C:\\Users\\cristiano.melo\\AppData\\Local\\Continuum\\anaconda3\\lib\\site-packages\\sklearn\\neural_network\\multilayer_perceptron.py:566: ConvergenceWarning: Stochastic Optimizer: Maximum iterations (200) reached and the optimization hasn't converged yet.\n",
      "  % self.max_iter, ConvergenceWarning)\n"
     ]
    },
    {
     "name": "stdout",
     "output_type": "stream",
     "text": [
      "ROC AUC score: 0.6332091204250295\n",
      "10 of KFold 10\n",
      "ROC AUC score: 0.6137839433293978\n",
      "\n",
      "CROSS VALIDANTION SUMMARY:\n",
      "Mean: 0.7497096606395848\n",
      "Std deviation: 0.06510409388916631\n",
      "\n",
      "TEST SET:\n",
      "F1-Score(micro): 0.7922149122807017\n",
      "F1-Score(macro): 0.7893422338506713\n",
      "F1-Score(weighted): 0.7920126109828122\n",
      "F1-Score(None): [0.81394207 0.7647424 ]\n",
      "Accuracy: 0.7922149122807017\n",
      "Sensitivity: 0.7576875768757687\n",
      "Specificity: 0.8199802176063303\n",
      "Confusion Matrix: [0.8199802176063303, 0.76]\n",
      "ROC AUC score: 0.7888338972410495\n",
      "Wall time: 44.9 s\n"
     ]
    },
    {
     "name": "stderr",
     "output_type": "stream",
     "text": [
      "C:\\Users\\cristiano.melo\\AppData\\Local\\Continuum\\anaconda3\\lib\\site-packages\\sklearn\\neural_network\\multilayer_perceptron.py:566: ConvergenceWarning: Stochastic Optimizer: Maximum iterations (200) reached and the optimization hasn't converged yet.\n",
      "  % self.max_iter, ConvergenceWarning)\n"
     ]
    }
   ],
   "source": [
    "%%time\n",
    "NN_NoIloc(X_ADA, y_ADA, X_test, y_test)"
   ]
  }
 ],
 "metadata": {
  "kernelspec": {
   "display_name": "Python 3",
   "language": "python",
   "name": "python3"
  },
  "language_info": {
   "codemirror_mode": {
    "name": "ipython",
    "version": 3
   },
   "file_extension": ".py",
   "mimetype": "text/x-python",
   "name": "python",
   "nbconvert_exporter": "python",
   "pygments_lexer": "ipython3",
   "version": "3.6.8"
  }
 },
 "nbformat": 4,
 "nbformat_minor": 2
}
