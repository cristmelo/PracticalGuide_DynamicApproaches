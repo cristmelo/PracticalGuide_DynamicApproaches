{
 "cells": [
  {
   "cell_type": "code",
   "execution_count": 1,
   "metadata": {},
   "outputs": [
    {
     "name": "stderr",
     "output_type": "stream",
     "text": [
      "Using TensorFlow backend.\n"
     ]
    }
   ],
   "source": [
    "%run auxiliary.ipynb"
   ]
  },
  {
   "cell_type": "markdown",
   "metadata": {},
   "source": [
    "## Preprocessing"
   ]
  },
  {
   "cell_type": "code",
   "execution_count": 2,
   "metadata": {
    "scrolled": true
   },
   "outputs": [
    {
     "name": "stdout",
     "output_type": "stream",
     "text": [
      "Setting general dataframe...\n",
      "Total of instances: 10767\n",
      "... DONE!\n",
      "Filtering required columns into X features...\n",
      "... DONE!\n",
      "Setting y column containing label of change-proneness...\n",
      "... DONE!\n",
      "Declaring a dictionary to save results...\n",
      "... DONE!\n",
      "Splitting dataset into train and test sets...\n",
      "General information:\n",
      "X Train set: 7536 X Test set: 3231\n",
      "y Train set: 7536 y Test set: 3231\n",
      "... DONE!\n",
      "Scaling features...\n",
      "... DONE!\n",
      "Setting stratified k-fold...\n",
      "k = 10\n",
      "... DONE!\n",
      "\n"
     ]
    }
   ],
   "source": [
    "print(\"Setting general dataframe...\")\n",
    "all_releases_df = pd.read_csv('all_releases.csv')\n",
    "print(\"Total of instances:\", all_releases_df.shape[0])\n",
    "print(\"... DONE!\")\n",
    "\n",
    "print(\"Filtering required columns into X features...\")\n",
    "X = all_releases_df.drop(columns=['File', 'Kind', 'Name','Path', 'class_frequency', 'number_of_changes', 'release', 'will_change'])\n",
    "print(\"... DONE!\")\n",
    "\n",
    "print(\"Setting y column containing label of change-proneness...\")\n",
    "y = pd.DataFrame(all_releases_df.loc[:,'will_change'])\n",
    "print(\"... DONE!\")\n",
    "\n",
    "print(\"Declaring a dictionary to save results...\")\n",
    "results_dict = dict()\n",
    "print(\"... DONE!\")\n",
    "\n",
    "print(\"Splitting dataset into train and test sets...\")\n",
    "X_train, X_test, y_train, y_test = train_test_split(X, y, test_size=0.30, random_state=42)\n",
    "print(\"General information:\")\n",
    "print(\"X Train set:\", X_train.shape[0], \"X Test set:\", X_test.shape[0])\n",
    "print(\"y Train set:\", y_train.shape[0], \"y Test set:\", y_test.shape[0])\n",
    "print(\"... DONE!\")\n",
    "\n",
    "print(\"Scaling features...\")\n",
    "scaler = MinMaxScaler()\n",
    "X_train = pd.DataFrame(scaler.fit_transform(X_train))\n",
    "X_test = pd.DataFrame(scaler.fit_transform(X_test))\n",
    "print(\"... DONE!\")\n",
    "\n",
    "print(\"Setting stratified k-fold...\")\n",
    "k=10\n",
    "kf = StratifiedKFold(n_splits=k, shuffle=False, random_state=42)\n",
    "print(\"k =\", k)\n",
    "print(\"... DONE!\\n\")"
   ]
  },
  {
   "cell_type": "markdown",
   "metadata": {},
   "source": [
    "## Statistical Analysis"
   ]
  },
  {
   "cell_type": "code",
   "execution_count": 3,
   "metadata": {},
   "outputs": [
    {
     "data": {
      "text/html": [
       "<div>\n",
       "<style scoped>\n",
       "    .dataframe tbody tr th:only-of-type {\n",
       "        vertical-align: middle;\n",
       "    }\n",
       "\n",
       "    .dataframe tbody tr th {\n",
       "        vertical-align: top;\n",
       "    }\n",
       "\n",
       "    .dataframe thead th {\n",
       "        text-align: right;\n",
       "    }\n",
       "</style>\n",
       "<table border=\"1\" class=\"dataframe\">\n",
       "  <thead>\n",
       "    <tr style=\"text-align: right;\">\n",
       "      <th></th>\n",
       "      <th>CountClassCoupled</th>\n",
       "      <th>CountDeclMethod</th>\n",
       "      <th>CountDeclMethodAll</th>\n",
       "      <th>CountClassDerived</th>\n",
       "      <th>CountLineCode</th>\n",
       "      <th>SumCyclomatic</th>\n",
       "      <th>PercentLackOfCohesion</th>\n",
       "      <th>MaxInheritanceTree</th>\n",
       "      <th>class_frequency</th>\n",
       "      <th>will_change</th>\n",
       "      <th>number_of_changes</th>\n",
       "      <th>release</th>\n",
       "    </tr>\n",
       "  </thead>\n",
       "  <tbody>\n",
       "    <tr>\n",
       "      <th>count</th>\n",
       "      <td>10767.000000</td>\n",
       "      <td>10767.000000</td>\n",
       "      <td>10767.000000</td>\n",
       "      <td>10767.000000</td>\n",
       "      <td>10767.000000</td>\n",
       "      <td>10767.000000</td>\n",
       "      <td>10767.000000</td>\n",
       "      <td>10767.000000</td>\n",
       "      <td>10767.000000</td>\n",
       "      <td>10767.000000</td>\n",
       "      <td>10767.000000</td>\n",
       "      <td>10767.000000</td>\n",
       "    </tr>\n",
       "    <tr>\n",
       "      <th>mean</th>\n",
       "      <td>3.212966</td>\n",
       "      <td>7.791957</td>\n",
       "      <td>23.463453</td>\n",
       "      <td>0.526702</td>\n",
       "      <td>79.394446</td>\n",
       "      <td>36.223553</td>\n",
       "      <td>32.550014</td>\n",
       "      <td>2.168478</td>\n",
       "      <td>3.288195</td>\n",
       "      <td>0.346893</td>\n",
       "      <td>5.302684</td>\n",
       "      <td>7.056283</td>\n",
       "    </tr>\n",
       "    <tr>\n",
       "      <th>std</th>\n",
       "      <td>4.262742</td>\n",
       "      <td>10.075647</td>\n",
       "      <td>27.670783</td>\n",
       "      <td>4.996340</td>\n",
       "      <td>127.175324</td>\n",
       "      <td>29.731811</td>\n",
       "      <td>35.272832</td>\n",
       "      <td>1.145320</td>\n",
       "      <td>2.113989</td>\n",
       "      <td>0.476004</td>\n",
       "      <td>3.552433</td>\n",
       "      <td>2.272490</td>\n",
       "    </tr>\n",
       "    <tr>\n",
       "      <th>min</th>\n",
       "      <td>0.000000</td>\n",
       "      <td>0.000000</td>\n",
       "      <td>0.000000</td>\n",
       "      <td>0.000000</td>\n",
       "      <td>0.000000</td>\n",
       "      <td>0.000000</td>\n",
       "      <td>0.000000</td>\n",
       "      <td>1.000000</td>\n",
       "      <td>1.000000</td>\n",
       "      <td>0.000000</td>\n",
       "      <td>0.000000</td>\n",
       "      <td>1.000000</td>\n",
       "    </tr>\n",
       "    <tr>\n",
       "      <th>25%</th>\n",
       "      <td>0.000000</td>\n",
       "      <td>2.000000</td>\n",
       "      <td>4.000000</td>\n",
       "      <td>0.000000</td>\n",
       "      <td>13.000000</td>\n",
       "      <td>8.000000</td>\n",
       "      <td>0.000000</td>\n",
       "      <td>1.000000</td>\n",
       "      <td>1.000000</td>\n",
       "      <td>0.000000</td>\n",
       "      <td>0.000000</td>\n",
       "      <td>6.000000</td>\n",
       "    </tr>\n",
       "    <tr>\n",
       "      <th>50%</th>\n",
       "      <td>2.000000</td>\n",
       "      <td>4.000000</td>\n",
       "      <td>12.000000</td>\n",
       "      <td>0.000000</td>\n",
       "      <td>37.000000</td>\n",
       "      <td>33.000000</td>\n",
       "      <td>19.000000</td>\n",
       "      <td>2.000000</td>\n",
       "      <td>3.000000</td>\n",
       "      <td>0.000000</td>\n",
       "      <td>6.000000</td>\n",
       "      <td>7.000000</td>\n",
       "    </tr>\n",
       "    <tr>\n",
       "      <th>75%</th>\n",
       "      <td>4.000000</td>\n",
       "      <td>10.000000</td>\n",
       "      <td>38.000000</td>\n",
       "      <td>0.000000</td>\n",
       "      <td>89.000000</td>\n",
       "      <td>62.000000</td>\n",
       "      <td>68.000000</td>\n",
       "      <td>3.000000</td>\n",
       "      <td>5.000000</td>\n",
       "      <td>1.000000</td>\n",
       "      <td>8.000000</td>\n",
       "      <td>9.000000</td>\n",
       "    </tr>\n",
       "    <tr>\n",
       "      <th>max</th>\n",
       "      <td>40.000000</td>\n",
       "      <td>125.000000</td>\n",
       "      <td>210.000000</td>\n",
       "      <td>166.000000</td>\n",
       "      <td>1586.000000</td>\n",
       "      <td>99.000000</td>\n",
       "      <td>100.000000</td>\n",
       "      <td>7.000000</td>\n",
       "      <td>10.000000</td>\n",
       "      <td>1.000000</td>\n",
       "      <td>10.000000</td>\n",
       "      <td>10.000000</td>\n",
       "    </tr>\n",
       "  </tbody>\n",
       "</table>\n",
       "</div>"
      ],
      "text/plain": [
       "       CountClassCoupled  CountDeclMethod  CountDeclMethodAll  \\\n",
       "count       10767.000000     10767.000000        10767.000000   \n",
       "mean            3.212966         7.791957           23.463453   \n",
       "std             4.262742        10.075647           27.670783   \n",
       "min             0.000000         0.000000            0.000000   \n",
       "25%             0.000000         2.000000            4.000000   \n",
       "50%             2.000000         4.000000           12.000000   \n",
       "75%             4.000000        10.000000           38.000000   \n",
       "max            40.000000       125.000000          210.000000   \n",
       "\n",
       "       CountClassDerived  CountLineCode  SumCyclomatic  PercentLackOfCohesion  \\\n",
       "count       10767.000000   10767.000000   10767.000000           10767.000000   \n",
       "mean            0.526702      79.394446      36.223553              32.550014   \n",
       "std             4.996340     127.175324      29.731811              35.272832   \n",
       "min             0.000000       0.000000       0.000000               0.000000   \n",
       "25%             0.000000      13.000000       8.000000               0.000000   \n",
       "50%             0.000000      37.000000      33.000000              19.000000   \n",
       "75%             0.000000      89.000000      62.000000              68.000000   \n",
       "max           166.000000    1586.000000      99.000000             100.000000   \n",
       "\n",
       "       MaxInheritanceTree  class_frequency   will_change  number_of_changes  \\\n",
       "count        10767.000000     10767.000000  10767.000000       10767.000000   \n",
       "mean             2.168478         3.288195      0.346893           5.302684   \n",
       "std              1.145320         2.113989      0.476004           3.552433   \n",
       "min              1.000000         1.000000      0.000000           0.000000   \n",
       "25%              1.000000         1.000000      0.000000           0.000000   \n",
       "50%              2.000000         3.000000      0.000000           6.000000   \n",
       "75%              3.000000         5.000000      1.000000           8.000000   \n",
       "max              7.000000        10.000000      1.000000          10.000000   \n",
       "\n",
       "            release  \n",
       "count  10767.000000  \n",
       "mean       7.056283  \n",
       "std        2.272490  \n",
       "min        1.000000  \n",
       "25%        6.000000  \n",
       "50%        7.000000  \n",
       "75%        9.000000  \n",
       "max       10.000000  "
      ]
     },
     "execution_count": 3,
     "metadata": {},
     "output_type": "execute_result"
    }
   ],
   "source": [
    "all_releases_df.describe()"
   ]
  },
  {
   "cell_type": "code",
   "execution_count": 4,
   "metadata": {},
   "outputs": [
    {
     "data": {
      "text/plain": [
       "will_change\n",
       "0    4954\n",
       "1    2582\n",
       "Name: will_change, dtype: int64"
      ]
     },
     "execution_count": 4,
     "metadata": {},
     "output_type": "execute_result"
    },
    {
     "data": {
      "image/png": "[encoded data removed]",
      "text/plain": [
       "<Figure size 360x360 with 1 Axes>"
      ]
     },
     "metadata": {},
     "output_type": "display_data"
    }
   ],
   "source": [
    "ax = y_train.groupby(['will_change'])['will_change'].count().plot.bar(title=\"Class Distribution\", figsize=(5,5))\n",
    "y_train.groupby(['will_change'])['will_change'].count()"
   ]
  },
  {
   "cell_type": "code",
   "execution_count": 5,
   "metadata": {},
   "outputs": [
    {
     "data": {
      "text/html": [
       "<style  type=\"text/css\" >\n",
       "    #T_4d9f5852_1d96_11ea_95e7_e0d55eb0dab9row0_col0 {\n",
       "            background-color:  #b40426;\n",
       "            color:  #f1f1f1;\n",
       "        }    #T_4d9f5852_1d96_11ea_95e7_e0d55eb0dab9row0_col1 {\n",
       "            background-color:  #dcdddd;\n",
       "            color:  #000000;\n",
       "        }    #T_4d9f5852_1d96_11ea_95e7_e0d55eb0dab9row0_col2 {\n",
       "            background-color:  #a7c5fe;\n",
       "            color:  #000000;\n",
       "        }    #T_4d9f5852_1d96_11ea_95e7_e0d55eb0dab9row0_col3 {\n",
       "            background-color:  #3b4cc0;\n",
       "            color:  #f1f1f1;\n",
       "        }    #T_4d9f5852_1d96_11ea_95e7_e0d55eb0dab9row0_col4 {\n",
       "            background-color:  #f6bfa6;\n",
       "            color:  #000000;\n",
       "        }    #T_4d9f5852_1d96_11ea_95e7_e0d55eb0dab9row0_col5 {\n",
       "            background-color:  #5977e3;\n",
       "            color:  #000000;\n",
       "        }    #T_4d9f5852_1d96_11ea_95e7_e0d55eb0dab9row0_col6 {\n",
       "            background-color:  #cedaeb;\n",
       "            color:  #000000;\n",
       "        }    #T_4d9f5852_1d96_11ea_95e7_e0d55eb0dab9row0_col7 {\n",
       "            background-color:  #3d50c3;\n",
       "            color:  #f1f1f1;\n",
       "        }    #T_4d9f5852_1d96_11ea_95e7_e0d55eb0dab9row1_col0 {\n",
       "            background-color:  #e1dad6;\n",
       "            color:  #000000;\n",
       "        }    #T_4d9f5852_1d96_11ea_95e7_e0d55eb0dab9row1_col1 {\n",
       "            background-color:  #b40426;\n",
       "            color:  #f1f1f1;\n",
       "        }    #T_4d9f5852_1d96_11ea_95e7_e0d55eb0dab9row1_col2 {\n",
       "            background-color:  #e5d8d1;\n",
       "            color:  #000000;\n",
       "        }    #T_4d9f5852_1d96_11ea_95e7_e0d55eb0dab9row1_col3 {\n",
       "            background-color:  #5e7de7;\n",
       "            color:  #000000;\n",
       "        }    #T_4d9f5852_1d96_11ea_95e7_e0d55eb0dab9row1_col4 {\n",
       "            background-color:  #e26952;\n",
       "            color:  #000000;\n",
       "        }    #T_4d9f5852_1d96_11ea_95e7_e0d55eb0dab9row1_col5 {\n",
       "            background-color:  #7da0f9;\n",
       "            color:  #000000;\n",
       "        }    #T_4d9f5852_1d96_11ea_95e7_e0d55eb0dab9row1_col6 {\n",
       "            background-color:  #f7ac8e;\n",
       "            color:  #000000;\n",
       "        }    #T_4d9f5852_1d96_11ea_95e7_e0d55eb0dab9row1_col7 {\n",
       "            background-color:  #3b4cc0;\n",
       "            color:  #f1f1f1;\n",
       "        }    #T_4d9f5852_1d96_11ea_95e7_e0d55eb0dab9row2_col0 {\n",
       "            background-color:  #abc8fd;\n",
       "            color:  #000000;\n",
       "        }    #T_4d9f5852_1d96_11ea_95e7_e0d55eb0dab9row2_col1 {\n",
       "            background-color:  #e2dad5;\n",
       "            color:  #000000;\n",
       "        }    #T_4d9f5852_1d96_11ea_95e7_e0d55eb0dab9row2_col2 {\n",
       "            background-color:  #b40426;\n",
       "            color:  #f1f1f1;\n",
       "        }    #T_4d9f5852_1d96_11ea_95e7_e0d55eb0dab9row2_col3 {\n",
       "            background-color:  #3b4cc0;\n",
       "            color:  #f1f1f1;\n",
       "        }    #T_4d9f5852_1d96_11ea_95e7_e0d55eb0dab9row2_col4 {\n",
       "            background-color:  #d1dae9;\n",
       "            color:  #000000;\n",
       "        }    #T_4d9f5852_1d96_11ea_95e7_e0d55eb0dab9row2_col5 {\n",
       "            background-color:  #6788ee;\n",
       "            color:  #000000;\n",
       "        }    #T_4d9f5852_1d96_11ea_95e7_e0d55eb0dab9row2_col6 {\n",
       "            background-color:  #afcafc;\n",
       "            color:  #000000;\n",
       "        }    #T_4d9f5852_1d96_11ea_95e7_e0d55eb0dab9row2_col7 {\n",
       "            background-color:  #f7b194;\n",
       "            color:  #000000;\n",
       "        }    #T_4d9f5852_1d96_11ea_95e7_e0d55eb0dab9row3_col0 {\n",
       "            background-color:  #6282ea;\n",
       "            color:  #000000;\n",
       "        }    #T_4d9f5852_1d96_11ea_95e7_e0d55eb0dab9row3_col1 {\n",
       "            background-color:  #7a9df8;\n",
       "            color:  #000000;\n",
       "        }    #T_4d9f5852_1d96_11ea_95e7_e0d55eb0dab9row3_col2 {\n",
       "            background-color:  #5d7ce6;\n",
       "            color:  #000000;\n",
       "        }    #T_4d9f5852_1d96_11ea_95e7_e0d55eb0dab9row3_col3 {\n",
       "            background-color:  #b40426;\n",
       "            color:  #f1f1f1;\n",
       "        }    #T_4d9f5852_1d96_11ea_95e7_e0d55eb0dab9row3_col4 {\n",
       "            background-color:  #6485ec;\n",
       "            color:  #000000;\n",
       "        }    #T_4d9f5852_1d96_11ea_95e7_e0d55eb0dab9row3_col5 {\n",
       "            background-color:  #506bda;\n",
       "            color:  #000000;\n",
       "        }    #T_4d9f5852_1d96_11ea_95e7_e0d55eb0dab9row3_col6 {\n",
       "            background-color:  #7da0f9;\n",
       "            color:  #000000;\n",
       "        }    #T_4d9f5852_1d96_11ea_95e7_e0d55eb0dab9row3_col7 {\n",
       "            background-color:  #3b4cc0;\n",
       "            color:  #f1f1f1;\n",
       "        }    #T_4d9f5852_1d96_11ea_95e7_e0d55eb0dab9row4_col0 {\n",
       "            background-color:  #f7ba9f;\n",
       "            color:  #000000;\n",
       "        }    #T_4d9f5852_1d96_11ea_95e7_e0d55eb0dab9row4_col1 {\n",
       "            background-color:  #e16751;\n",
       "            color:  #000000;\n",
       "        }    #T_4d9f5852_1d96_11ea_95e7_e0d55eb0dab9row4_col2 {\n",
       "            background-color:  #d5dbe5;\n",
       "            color:  #000000;\n",
       "        }    #T_4d9f5852_1d96_11ea_95e7_e0d55eb0dab9row4_col3 {\n",
       "            background-color:  #4b64d5;\n",
       "            color:  #f1f1f1;\n",
       "        }    #T_4d9f5852_1d96_11ea_95e7_e0d55eb0dab9row4_col4 {\n",
       "            background-color:  #b40426;\n",
       "            color:  #f1f1f1;\n",
       "        }    #T_4d9f5852_1d96_11ea_95e7_e0d55eb0dab9row4_col5 {\n",
       "            background-color:  #8fb1fe;\n",
       "            color:  #000000;\n",
       "        }    #T_4d9f5852_1d96_11ea_95e7_e0d55eb0dab9row4_col6 {\n",
       "            background-color:  #f7b396;\n",
       "            color:  #000000;\n",
       "        }    #T_4d9f5852_1d96_11ea_95e7_e0d55eb0dab9row4_col7 {\n",
       "            background-color:  #3b4cc0;\n",
       "            color:  #f1f1f1;\n",
       "        }    #T_4d9f5852_1d96_11ea_95e7_e0d55eb0dab9row5_col0 {\n",
       "            background-color:  #6a8bef;\n",
       "            color:  #000000;\n",
       "        }    #T_4d9f5852_1d96_11ea_95e7_e0d55eb0dab9row5_col1 {\n",
       "            background-color:  #82a6fb;\n",
       "            color:  #000000;\n",
       "        }    #T_4d9f5852_1d96_11ea_95e7_e0d55eb0dab9row5_col2 {\n",
       "            background-color:  #7396f5;\n",
       "            color:  #000000;\n",
       "        }    #T_4d9f5852_1d96_11ea_95e7_e0d55eb0dab9row5_col3 {\n",
       "            background-color:  #3b4cc0;\n",
       "            color:  #f1f1f1;\n",
       "        }    #T_4d9f5852_1d96_11ea_95e7_e0d55eb0dab9row5_col4 {\n",
       "            background-color:  #92b4fe;\n",
       "            color:  #000000;\n",
       "        }    #T_4d9f5852_1d96_11ea_95e7_e0d55eb0dab9row5_col5 {\n",
       "            background-color:  #b40426;\n",
       "            color:  #f1f1f1;\n",
       "        }    #T_4d9f5852_1d96_11ea_95e7_e0d55eb0dab9row5_col6 {\n",
       "            background-color:  #8badfd;\n",
       "            color:  #000000;\n",
       "        }    #T_4d9f5852_1d96_11ea_95e7_e0d55eb0dab9row5_col7 {\n",
       "            background-color:  #3f53c6;\n",
       "            color:  #f1f1f1;\n",
       "        }    #T_4d9f5852_1d96_11ea_95e7_e0d55eb0dab9row6_col0 {\n",
       "            background-color:  #dadce0;\n",
       "            color:  #000000;\n",
       "        }    #T_4d9f5852_1d96_11ea_95e7_e0d55eb0dab9row6_col1 {\n",
       "            background-color:  #f7a889;\n",
       "            color:  #000000;\n",
       "        }    #T_4d9f5852_1d96_11ea_95e7_e0d55eb0dab9row6_col2 {\n",
       "            background-color:  #bcd2f7;\n",
       "            color:  #000000;\n",
       "        }    #T_4d9f5852_1d96_11ea_95e7_e0d55eb0dab9row6_col3 {\n",
       "            background-color:  #6c8ff1;\n",
       "            color:  #000000;\n",
       "        }    #T_4d9f5852_1d96_11ea_95e7_e0d55eb0dab9row6_col4 {\n",
       "            background-color:  #f7af91;\n",
       "            color:  #000000;\n",
       "        }    #T_4d9f5852_1d96_11ea_95e7_e0d55eb0dab9row6_col5 {\n",
       "            background-color:  #90b2fe;\n",
       "            color:  #000000;\n",
       "        }    #T_4d9f5852_1d96_11ea_95e7_e0d55eb0dab9row6_col6 {\n",
       "            background-color:  #b40426;\n",
       "            color:  #f1f1f1;\n",
       "        }    #T_4d9f5852_1d96_11ea_95e7_e0d55eb0dab9row6_col7 {\n",
       "            background-color:  #3b4cc0;\n",
       "            color:  #f1f1f1;\n",
       "        }    #T_4d9f5852_1d96_11ea_95e7_e0d55eb0dab9row7_col0 {\n",
       "            background-color:  #6485ec;\n",
       "            color:  #000000;\n",
       "        }    #T_4d9f5852_1d96_11ea_95e7_e0d55eb0dab9row7_col1 {\n",
       "            background-color:  #5673e0;\n",
       "            color:  #000000;\n",
       "        }    #T_4d9f5852_1d96_11ea_95e7_e0d55eb0dab9row7_col2 {\n",
       "            background-color:  #f7a688;\n",
       "            color:  #000000;\n",
       "        }    #T_4d9f5852_1d96_11ea_95e7_e0d55eb0dab9row7_col3 {\n",
       "            background-color:  #3b4cc0;\n",
       "            color:  #f1f1f1;\n",
       "        }    #T_4d9f5852_1d96_11ea_95e7_e0d55eb0dab9row7_col4 {\n",
       "            background-color:  #5470de;\n",
       "            color:  #000000;\n",
       "        }    #T_4d9f5852_1d96_11ea_95e7_e0d55eb0dab9row7_col5 {\n",
       "            background-color:  #5572df;\n",
       "            color:  #000000;\n",
       "        }    #T_4d9f5852_1d96_11ea_95e7_e0d55eb0dab9row7_col6 {\n",
       "            background-color:  #4a63d3;\n",
       "            color:  #f1f1f1;\n",
       "        }    #T_4d9f5852_1d96_11ea_95e7_e0d55eb0dab9row7_col7 {\n",
       "            background-color:  #b40426;\n",
       "            color:  #f1f1f1;\n",
       "        }</style><table id=\"T_4d9f5852_1d96_11ea_95e7_e0d55eb0dab9\" ><thead>    <tr>        <th class=\"blank level0\" ></th>        <th class=\"col_heading level0 col0\" >0</th>        <th class=\"col_heading level0 col1\" >1</th>        <th class=\"col_heading level0 col2\" >2</th>        <th class=\"col_heading level0 col3\" >3</th>        <th class=\"col_heading level0 col4\" >4</th>        <th class=\"col_heading level0 col5\" >5</th>        <th class=\"col_heading level0 col6\" >6</th>        <th class=\"col_heading level0 col7\" >7</th>    </tr></thead><tbody>\n",
       "                <tr>\n",
       "                        <th id=\"T_4d9f5852_1d96_11ea_95e7_e0d55eb0dab9level0_row0\" class=\"row_heading level0 row0\" >0</th>\n",
       "                        <td id=\"T_4d9f5852_1d96_11ea_95e7_e0d55eb0dab9row0_col0\" class=\"data row0 col0\" >1.0</td>\n",
       "                        <td id=\"T_4d9f5852_1d96_11ea_95e7_e0d55eb0dab9row0_col1\" class=\"data row0 col1\" >0.57</td>\n",
       "                        <td id=\"T_4d9f5852_1d96_11ea_95e7_e0d55eb0dab9row0_col2\" class=\"data row0 col2\" >0.42</td>\n",
       "                        <td id=\"T_4d9f5852_1d96_11ea_95e7_e0d55eb0dab9row0_col3\" class=\"data row0 col3\" >0.14</td>\n",
       "                        <td id=\"T_4d9f5852_1d96_11ea_95e7_e0d55eb0dab9row0_col4\" class=\"data row0 col4\" >0.69</td>\n",
       "                        <td id=\"T_4d9f5852_1d96_11ea_95e7_e0d55eb0dab9row0_col5\" class=\"data row0 col5\" >0.23</td>\n",
       "                        <td id=\"T_4d9f5852_1d96_11ea_95e7_e0d55eb0dab9row0_col6\" class=\"data row0 col6\" >0.53</td>\n",
       "                        <td id=\"T_4d9f5852_1d96_11ea_95e7_e0d55eb0dab9row0_col7\" class=\"data row0 col7\" >0.15</td>\n",
       "            </tr>\n",
       "            <tr>\n",
       "                        <th id=\"T_4d9f5852_1d96_11ea_95e7_e0d55eb0dab9level0_row1\" class=\"row_heading level0 row1\" >1</th>\n",
       "                        <td id=\"T_4d9f5852_1d96_11ea_95e7_e0d55eb0dab9row1_col0\" class=\"data row1 col0\" >0.57</td>\n",
       "                        <td id=\"T_4d9f5852_1d96_11ea_95e7_e0d55eb0dab9row1_col1\" class=\"data row1 col1\" >1.0</td>\n",
       "                        <td id=\"T_4d9f5852_1d96_11ea_95e7_e0d55eb0dab9row1_col2\" class=\"data row1 col2\" >0.58</td>\n",
       "                        <td id=\"T_4d9f5852_1d96_11ea_95e7_e0d55eb0dab9row1_col3\" class=\"data row1 col3\" >0.21</td>\n",
       "                        <td id=\"T_4d9f5852_1d96_11ea_95e7_e0d55eb0dab9row1_col4\" class=\"data row1 col4\" >0.87</td>\n",
       "                        <td id=\"T_4d9f5852_1d96_11ea_95e7_e0d55eb0dab9row1_col5\" class=\"data row1 col5\" >0.29</td>\n",
       "                        <td id=\"T_4d9f5852_1d96_11ea_95e7_e0d55eb0dab9row1_col6\" class=\"data row1 col6\" >0.73</td>\n",
       "                        <td id=\"T_4d9f5852_1d96_11ea_95e7_e0d55eb0dab9row1_col7\" class=\"data row1 col7\" >0.11</td>\n",
       "            </tr>\n",
       "            <tr>\n",
       "                        <th id=\"T_4d9f5852_1d96_11ea_95e7_e0d55eb0dab9level0_row2\" class=\"row_heading level0 row2\" >2</th>\n",
       "                        <td id=\"T_4d9f5852_1d96_11ea_95e7_e0d55eb0dab9row2_col0\" class=\"data row2 col0\" >0.42</td>\n",
       "                        <td id=\"T_4d9f5852_1d96_11ea_95e7_e0d55eb0dab9row2_col1\" class=\"data row2 col1\" >0.58</td>\n",
       "                        <td id=\"T_4d9f5852_1d96_11ea_95e7_e0d55eb0dab9row2_col2\" class=\"data row2 col2\" >1.0</td>\n",
       "                        <td id=\"T_4d9f5852_1d96_11ea_95e7_e0d55eb0dab9row2_col3\" class=\"data row2 col3\" >0.13</td>\n",
       "                        <td id=\"T_4d9f5852_1d96_11ea_95e7_e0d55eb0dab9row2_col4\" class=\"data row2 col4\" >0.52</td>\n",
       "                        <td id=\"T_4d9f5852_1d96_11ea_95e7_e0d55eb0dab9row2_col5\" class=\"data row2 col5\" >0.25</td>\n",
       "                        <td id=\"T_4d9f5852_1d96_11ea_95e7_e0d55eb0dab9row2_col6\" class=\"data row2 col6\" >0.43</td>\n",
       "                        <td id=\"T_4d9f5852_1d96_11ea_95e7_e0d55eb0dab9row2_col7\" class=\"data row2 col7\" >0.72</td>\n",
       "            </tr>\n",
       "            <tr>\n",
       "                        <th id=\"T_4d9f5852_1d96_11ea_95e7_e0d55eb0dab9level0_row3\" class=\"row_heading level0 row3\" >3</th>\n",
       "                        <td id=\"T_4d9f5852_1d96_11ea_95e7_e0d55eb0dab9row3_col0\" class=\"data row3 col0\" >0.14</td>\n",
       "                        <td id=\"T_4d9f5852_1d96_11ea_95e7_e0d55eb0dab9row3_col1\" class=\"data row3 col1\" >0.21</td>\n",
       "                        <td id=\"T_4d9f5852_1d96_11ea_95e7_e0d55eb0dab9row3_col2\" class=\"data row3 col2\" >0.13</td>\n",
       "                        <td id=\"T_4d9f5852_1d96_11ea_95e7_e0d55eb0dab9row3_col3\" class=\"data row3 col3\" >1.0</td>\n",
       "                        <td id=\"T_4d9f5852_1d96_11ea_95e7_e0d55eb0dab9row3_col4\" class=\"data row3 col4\" >0.15</td>\n",
       "                        <td id=\"T_4d9f5852_1d96_11ea_95e7_e0d55eb0dab9row3_col5\" class=\"data row3 col5\" >0.091</td>\n",
       "                        <td id=\"T_4d9f5852_1d96_11ea_95e7_e0d55eb0dab9row3_col6\" class=\"data row3 col6\" >0.22</td>\n",
       "                        <td id=\"T_4d9f5852_1d96_11ea_95e7_e0d55eb0dab9row3_col7\" class=\"data row3 col7\" >0.02</td>\n",
       "            </tr>\n",
       "            <tr>\n",
       "                        <th id=\"T_4d9f5852_1d96_11ea_95e7_e0d55eb0dab9level0_row4\" class=\"row_heading level0 row4\" >4</th>\n",
       "                        <td id=\"T_4d9f5852_1d96_11ea_95e7_e0d55eb0dab9row4_col0\" class=\"data row4 col0\" >0.69</td>\n",
       "                        <td id=\"T_4d9f5852_1d96_11ea_95e7_e0d55eb0dab9row4_col1\" class=\"data row4 col1\" >0.87</td>\n",
       "                        <td id=\"T_4d9f5852_1d96_11ea_95e7_e0d55eb0dab9row4_col2\" class=\"data row4 col2\" >0.52</td>\n",
       "                        <td id=\"T_4d9f5852_1d96_11ea_95e7_e0d55eb0dab9row4_col3\" class=\"data row4 col3\" >0.15</td>\n",
       "                        <td id=\"T_4d9f5852_1d96_11ea_95e7_e0d55eb0dab9row4_col4\" class=\"data row4 col4\" >1.0</td>\n",
       "                        <td id=\"T_4d9f5852_1d96_11ea_95e7_e0d55eb0dab9row4_col5\" class=\"data row4 col5\" >0.33</td>\n",
       "                        <td id=\"T_4d9f5852_1d96_11ea_95e7_e0d55eb0dab9row4_col6\" class=\"data row4 col6\" >0.71</td>\n",
       "                        <td id=\"T_4d9f5852_1d96_11ea_95e7_e0d55eb0dab9row4_col7\" class=\"data row4 col7\" >0.1</td>\n",
       "            </tr>\n",
       "            <tr>\n",
       "                        <th id=\"T_4d9f5852_1d96_11ea_95e7_e0d55eb0dab9level0_row5\" class=\"row_heading level0 row5\" >5</th>\n",
       "                        <td id=\"T_4d9f5852_1d96_11ea_95e7_e0d55eb0dab9row5_col0\" class=\"data row5 col0\" >0.23</td>\n",
       "                        <td id=\"T_4d9f5852_1d96_11ea_95e7_e0d55eb0dab9row5_col1\" class=\"data row5 col1\" >0.29</td>\n",
       "                        <td id=\"T_4d9f5852_1d96_11ea_95e7_e0d55eb0dab9row5_col2\" class=\"data row5 col2\" >0.25</td>\n",
       "                        <td id=\"T_4d9f5852_1d96_11ea_95e7_e0d55eb0dab9row5_col3\" class=\"data row5 col3\" >0.091</td>\n",
       "                        <td id=\"T_4d9f5852_1d96_11ea_95e7_e0d55eb0dab9row5_col4\" class=\"data row5 col4\" >0.33</td>\n",
       "                        <td id=\"T_4d9f5852_1d96_11ea_95e7_e0d55eb0dab9row5_col5\" class=\"data row5 col5\" >1.0</td>\n",
       "                        <td id=\"T_4d9f5852_1d96_11ea_95e7_e0d55eb0dab9row5_col6\" class=\"data row5 col6\" >0.31</td>\n",
       "                        <td id=\"T_4d9f5852_1d96_11ea_95e7_e0d55eb0dab9row5_col7\" class=\"data row5 col7\" >0.11</td>\n",
       "            </tr>\n",
       "            <tr>\n",
       "                        <th id=\"T_4d9f5852_1d96_11ea_95e7_e0d55eb0dab9level0_row6\" class=\"row_heading level0 row6\" >6</th>\n",
       "                        <td id=\"T_4d9f5852_1d96_11ea_95e7_e0d55eb0dab9row6_col0\" class=\"data row6 col0\" >0.53</td>\n",
       "                        <td id=\"T_4d9f5852_1d96_11ea_95e7_e0d55eb0dab9row6_col1\" class=\"data row6 col1\" >0.73</td>\n",
       "                        <td id=\"T_4d9f5852_1d96_11ea_95e7_e0d55eb0dab9row6_col2\" class=\"data row6 col2\" >0.43</td>\n",
       "                        <td id=\"T_4d9f5852_1d96_11ea_95e7_e0d55eb0dab9row6_col3\" class=\"data row6 col3\" >0.22</td>\n",
       "                        <td id=\"T_4d9f5852_1d96_11ea_95e7_e0d55eb0dab9row6_col4\" class=\"data row6 col4\" >0.71</td>\n",
       "                        <td id=\"T_4d9f5852_1d96_11ea_95e7_e0d55eb0dab9row6_col5\" class=\"data row6 col5\" >0.31</td>\n",
       "                        <td id=\"T_4d9f5852_1d96_11ea_95e7_e0d55eb0dab9row6_col6\" class=\"data row6 col6\" >1.0</td>\n",
       "                        <td id=\"T_4d9f5852_1d96_11ea_95e7_e0d55eb0dab9row6_col7\" class=\"data row6 col7\" >0.071</td>\n",
       "            </tr>\n",
       "            <tr>\n",
       "                        <th id=\"T_4d9f5852_1d96_11ea_95e7_e0d55eb0dab9level0_row7\" class=\"row_heading level0 row7\" >7</th>\n",
       "                        <td id=\"T_4d9f5852_1d96_11ea_95e7_e0d55eb0dab9row7_col0\" class=\"data row7 col0\" >0.15</td>\n",
       "                        <td id=\"T_4d9f5852_1d96_11ea_95e7_e0d55eb0dab9row7_col1\" class=\"data row7 col1\" >0.11</td>\n",
       "                        <td id=\"T_4d9f5852_1d96_11ea_95e7_e0d55eb0dab9row7_col2\" class=\"data row7 col2\" >0.72</td>\n",
       "                        <td id=\"T_4d9f5852_1d96_11ea_95e7_e0d55eb0dab9row7_col3\" class=\"data row7 col3\" >0.02</td>\n",
       "                        <td id=\"T_4d9f5852_1d96_11ea_95e7_e0d55eb0dab9row7_col4\" class=\"data row7 col4\" >0.1</td>\n",
       "                        <td id=\"T_4d9f5852_1d96_11ea_95e7_e0d55eb0dab9row7_col5\" class=\"data row7 col5\" >0.11</td>\n",
       "                        <td id=\"T_4d9f5852_1d96_11ea_95e7_e0d55eb0dab9row7_col6\" class=\"data row7 col6\" >0.071</td>\n",
       "                        <td id=\"T_4d9f5852_1d96_11ea_95e7_e0d55eb0dab9row7_col7\" class=\"data row7 col7\" >1.0</td>\n",
       "            </tr>\n",
       "    </tbody></table>"
      ],
      "text/plain": [
       "<pandas.io.formats.style.Styler at 0x7f6ec7941978>"
      ]
     },
     "execution_count": 5,
     "metadata": {},
     "output_type": "execute_result"
    }
   ],
   "source": [
    "X_train.corr(method='spearman').style.format(\"{:.2}\").background_gradient(cmap=plt.get_cmap('coolwarm'), axis=1)"
   ]
  },
  {
   "cell_type": "markdown",
   "metadata": {},
   "source": [
    "## Imbalanced baseline"
   ]
  },
  {
   "cell_type": "code",
   "execution_count": 6,
   "metadata": {
    "scrolled": true
   },
   "outputs": [
    {
     "name": "stdout",
     "output_type": "stream",
     "text": [
      "\n",
      "LOGISTIC REGRESSION\n",
      "TRAIN AND VALIDATION SETS:\n",
      "1 of KFold 10\n",
      "ROC AUC score: 0.6571101631585502\n",
      "2 of KFold 10\n",
      "ROC AUC score: 0.6260508780670072\n",
      "3 of KFold 10\n",
      "ROC AUC score: 0.6398865341335334\n",
      "4 of KFold 10\n",
      "ROC AUC score: 0.6567032383095774\n",
      "5 of KFold 10\n",
      "ROC AUC score: 0.6356119332863519\n",
      "6 of KFold 10\n",
      "ROC AUC score: 0.6686398872445385\n",
      "7 of KFold 10\n",
      "ROC AUC score: 0.6599600657740193\n",
      "8 of KFold 10\n",
      "ROC AUC score: 0.638724453840733\n",
      "9 of KFold 10\n",
      "ROC AUC score: 0.6551562132957482\n",
      "10 of KFold 10\n",
      "ROC AUC score: 0.6300681230913789\n",
      "\n",
      "CROSS VALIDANTION SUMMARY:\n",
      "Mean: 0.6467911490201438\n",
      "Std deviation: 0.013685876571744374\n",
      "\n",
      "TEST SET:\n",
      "F1-Score(micro): 0.673785205818632\n",
      "F1-Score(macro): 0.6488492520138089\n",
      "F1-Score(weighted): 0.6756387494231717\n",
      "F1-Score(None): [0.74242424 0.55527426]\n",
      "Accuracy: 0.673785205818632\n",
      "Sensitivity: 0.5706851691240243\n",
      "Specificity: 0.7309913378248316\n",
      "Confusion Matrix: [0.7309913378248316, 0.57]\n",
      "ROC AUC score: 0.6508382534744279\n",
      "CPU times: user 1.22 s, sys: 691 ms, total: 1.91 s\n",
      "Wall time: 251 ms\n"
     ]
    }
   ],
   "source": [
    "%%time\n",
    "LogisticRegr_(X_train, y_train, X_test, y_test)"
   ]
  },
  {
   "cell_type": "code",
   "execution_count": 7,
   "metadata": {},
   "outputs": [
    {
     "name": "stdout",
     "output_type": "stream",
     "text": [
      "CPU times: user 7 µs, sys: 3 µs, total: 10 µs\n",
      "Wall time: 2.62 µs\n",
      "\n",
      "DECISION TREE\n",
      "TRAIN AND VALIDATION SETS:\n",
      "1 of KFold 10\n",
      "ROC AUC score: 0.5704555361813426\n",
      "2 of KFold 10\n",
      "ROC AUC score: 0.5905311994021671\n",
      "3 of KFold 10\n",
      "ROC AUC score: 0.5569282945736433\n",
      "4 of KFold 10\n",
      "ROC AUC score: 0.5791057139284821\n",
      "5 of KFold 10\n",
      "ROC AUC score: 0.5732910500352362\n",
      "6 of KFold 10\n",
      "ROC AUC score: 0.5753934695795161\n",
      "7 of KFold 10\n",
      "ROC AUC score: 0.569990603711534\n",
      "8 of KFold 10\n",
      "ROC AUC score: 0.569144937749589\n",
      "9 of KFold 10\n",
      "ROC AUC score: 0.5476861639652337\n",
      "10 of KFold 10\n",
      "ROC AUC score: 0.5882194033356823\n",
      "\n",
      "CROSS VALIDANTION SUMMARY:\n",
      "Mean: 0.5720746372462427\n",
      "Std deviation: 0.012259631538698452\n",
      "\n",
      "TEST SET:\n",
      "F1-Score(micro): 0.6177653977096874\n",
      "F1-Score(macro): 0.5825850824890002\n",
      "F1-Score(weighted): 0.6172778240445819\n",
      "F1-Score(None): [0.70376589 0.46140427]\n",
      "Accuracy: 0.6177653977096874\n",
      "Sensitivity: 0.4588031222896791\n",
      "Specificity: 0.7059672762271415\n",
      "Confusion Matrix: [0.7059672762271415, 0.46]\n",
      "ROC AUC score: 0.5823851992584103\n",
      "CPU times: user 443 ms, sys: 174 ms, total: 617 ms\n",
      "Wall time: 215 ms\n"
     ]
    }
   ],
   "source": [
    "%%time\n",
    "DecisionTree_(X_train, y_train, X_test, y_test)"
   ]
  },
  {
   "cell_type": "code",
   "execution_count": 8,
   "metadata": {},
   "outputs": [
    {
     "name": "stdout",
     "output_type": "stream",
     "text": [
      "CPU times: user 1 µs, sys: 0 ns, total: 1 µs\n",
      "Wall time: 2.62 µs\n",
      "RANDOM FOREST\n",
      "TRAIN AND VALIDATION SETS:\n",
      "1 of KFold 10\n",
      "ROC AUC score: 0.5946490845684393\n",
      "2 of KFold 10\n",
      "ROC AUC score: 0.591644351724997\n",
      "3 of KFold 10\n",
      "ROC AUC score: 0.5977119279819955\n",
      "4 of KFold 10\n",
      "ROC AUC score: 0.6139191047761939\n",
      "5 of KFold 10\n",
      "ROC AUC score: 0.6320648343904158\n",
      "6 of KFold 10\n",
      "ROC AUC score: 0.6117571059431525\n",
      "7 of KFold 10\n",
      "ROC AUC score: 0.588501291989664\n",
      "8 of KFold 10\n",
      "ROC AUC score: 0.6093023255813954\n",
      "9 of KFold 10\n",
      "ROC AUC score: 0.568217054263566\n",
      "10 of KFold 10\n",
      "ROC AUC score: 0.6198614047451256\n",
      "\n",
      "CROSS VALIDANTION SUMMARY:\n",
      "Mean: 0.6027628485964944\n",
      "Std deviation: 0.0173518307726227\n",
      "\n",
      "TEST SET:\n",
      "F1-Score(micro): 0.6425255338904364\n",
      "F1-Score(macro): 0.5966166125893541\n",
      "F1-Score(weighted): 0.6355760182806395\n",
      "F1-Score(None): [0.73270076 0.46053246]\n",
      "Accuracy: 0.6425255338904364\n",
      "Sensitivity: 0.42758022549869906\n",
      "Specificity: 0.7617901828681425\n",
      "Confusion Matrix: [0.7617901828681425, 0.43]\n",
      "ROC AUC score: 0.5946852041834209\n",
      "CPU times: user 3.97 s, sys: 4.43 ms, total: 3.97 s\n",
      "Wall time: 3.96 s\n"
     ]
    }
   ],
   "source": [
    "%%time\n",
    "RandomForest_(X_train, y_train, X_test, y_test)"
   ]
  },
  {
   "cell_type": "code",
   "execution_count": 9,
   "metadata": {},
   "outputs": [
    {
     "name": "stdout",
     "output_type": "stream",
     "text": [
      "CPU times: user 1e+03 ns, sys: 0 ns, total: 1e+03 ns\n",
      "Wall time: 2.86 µs\n",
      "NEURAL NETWORK\n",
      "TRAIN AND VALIDATION SETS:\n",
      "1 of KFold 10\n",
      "ROC AUC score: 0.6405257504047827\n",
      "2 of KFold 10\n",
      "ROC AUC score: 0.6301220575414125\n",
      "3 of KFold 10\n",
      "ROC AUC score: 0.6427700675168793\n",
      "4 of KFold 10\n",
      "ROC AUC score: 0.647107089272318\n",
      "5 of KFold 10\n",
      "ROC AUC score: 0.6564482029598308\n",
      "6 of KFold 10\n",
      "ROC AUC score: 0.6562837679116749\n",
      "7 of KFold 10\n",
      "ROC AUC score: 0.6492952783650457\n",
      "8 of KFold 10\n",
      "ROC AUC score: 0.6563659854357529\n",
      "9 of KFold 10\n"
     ]
    },
    {
     "name": "stderr",
     "output_type": "stream",
     "text": [
      "/usr/local/lib/python3.6/dist-packages/sklearn/neural_network/multilayer_perceptron.py:566: ConvergenceWarning: Stochastic Optimizer: Maximum iterations (200) reached and the optimization hasn't converged yet.\n",
      "  % self.max_iter, ConvergenceWarning)\n"
     ]
    },
    {
     "name": "stdout",
     "output_type": "stream",
     "text": [
      "ROC AUC score: 0.6532769556025368\n",
      "10 of KFold 10\n",
      "ROC AUC score: 0.6715409913084331\n",
      "\n",
      "CROSS VALIDANTION SUMMARY:\n",
      "Mean: 0.6503736146318666\n",
      "Std deviation: 0.010681662732635358\n",
      "\n",
      "TEST SET:\n",
      "F1-Score(micro): 0.7019498607242339\n",
      "F1-Score(macro): 0.6508561531430996\n",
      "F1-Score(weighted): 0.6890937579267158\n",
      "F1-Score(None): [0.78441907 0.51729323]\n",
      "Accuracy: 0.7019498607242339\n",
      "Sensitivity: 0.44752818733738076\n",
      "Specificity: 0.8431183830606352\n",
      "Confusion Matrix: [0.8431183830606352, 0.45]\n",
      "ROC AUC score: 0.6453232851990081\n",
      "CPU times: user 2min 9s, sys: 1min 16s, total: 3min 25s\n",
      "Wall time: 26 s\n"
     ]
    }
   ],
   "source": [
    "%%time\n",
    "NN_(X_train, y_train, X_test, y_test)"
   ]
  },
  {
   "cell_type": "markdown",
   "metadata": {},
   "source": [
    "## Undersampling"
   ]
  },
  {
   "cell_type": "code",
   "execution_count": 10,
   "metadata": {},
   "outputs": [
    {
     "name": "stdout",
     "output_type": "stream",
     "text": [
      "Resampling dataset using Random UnderSampling (RUS)...\n",
      "... DONE!\n",
      "X and Y RUS: 5164 5164\n"
     ]
    }
   ],
   "source": [
    "print(\"Resampling dataset using Random UnderSampling (RUS)...\")\n",
    "X_RUS, y_RUS = RandomUnderSampler(random_state=42).fit_sample(X_train, y_train.values.ravel())\n",
    "print(\"... DONE!\")\n",
    "print(\"X and Y RUS:\", len(X_RUS), len(y_RUS))"
   ]
  },
  {
   "cell_type": "code",
   "execution_count": 11,
   "metadata": {},
   "outputs": [
    {
     "name": "stdout",
     "output_type": "stream",
     "text": [
      "\n",
      "LOGISTIC REGRESSION\n",
      "TRAIN AND VALIDATION SETS:\n",
      "1 of KFold 10\n",
      "ROC AUC score: 0.6505265567765568\n",
      "2 of KFold 10\n",
      "ROC AUC score: 0.6819825072886297\n",
      "3 of KFold 10\n",
      "ROC AUC score: 0.6539173041347932\n",
      "4 of KFold 10\n",
      "ROC AUC score: 0.5966911764705881\n",
      "5 of KFold 10\n",
      "ROC AUC score: 0.6849354350961957\n",
      "6 of KFold 10\n",
      "ROC AUC score: 0.634375\n",
      "7 of KFold 10\n",
      "ROC AUC score: 0.6528110599078342\n",
      "8 of KFold 10\n",
      "ROC AUC score: 0.6554419773774613\n",
      "9 of KFold 10\n",
      "ROC AUC score: 0.6406751336898395\n",
      "10 of KFold 10\n",
      "ROC AUC score: 0.6177023871302543\n",
      "\n",
      "CROSS VALIDANTION SUMMARY:\n",
      "Mean: 0.6469058537872152\n",
      "Std deviation: 0.025331458542983278\n",
      "\n",
      "TEST SET:\n",
      "F1-Score(micro): 0.6685236768802229\n",
      "F1-Score(macro): 0.6442487811021356\n",
      "F1-Score(weighted): 0.6708533765935226\n",
      "F1-Score(None): [0.73717791 0.55131965]\n",
      "Accuracy: 0.6685236768802229\n",
      "Sensitivity: 0.5706851691240243\n",
      "Specificity: 0.7228103946102021\n",
      "Confusion Matrix: [0.7228103946102021, 0.57]\n",
      "ROC AUC score: 0.6467477818671132\n",
      "CPU times: user 1.38 s, sys: 534 ms, total: 1.92 s\n",
      "Wall time: 250 ms\n"
     ]
    }
   ],
   "source": [
    "%%time\n",
    "LogisticRegr_(X_RUS, y_RUS, X_test, y_test)"
   ]
  },
  {
   "cell_type": "code",
   "execution_count": 12,
   "metadata": {},
   "outputs": [
    {
     "name": "stdout",
     "output_type": "stream",
     "text": [
      "CPU times: user 9 µs, sys: 4 µs, total: 13 µs\n",
      "Wall time: 3.34 µs\n",
      "\n",
      "DECISION TREE\n",
      "TRAIN AND VALIDATION SETS:\n",
      "1 of KFold 10\n",
      "ROC AUC score: 0.5809294871794872\n",
      "2 of KFold 10\n",
      "ROC AUC score: 0.5957434402332362\n",
      "3 of KFold 10\n",
      "ROC AUC score: 0.5680465976701166\n",
      "4 of KFold 10\n",
      "ROC AUC score: 0.559725935828877\n",
      "5 of KFold 10\n",
      "ROC AUC score: 0.573080866890283\n",
      "6 of KFold 10\n",
      "ROC AUC score: 0.5628511235955056\n",
      "7 of KFold 10\n",
      "ROC AUC score: 0.5774696271470465\n",
      "8 of KFold 10\n",
      "ROC AUC score: 0.5907415165479681\n",
      "9 of KFold 10\n",
      "ROC AUC score: 0.5535762032085562\n",
      "10 of KFold 10\n",
      "ROC AUC score: 0.5770952257394913\n",
      "\n",
      "CROSS VALIDANTION SUMMARY:\n",
      "Mean: 0.5739260024040568\n",
      "Std deviation: 0.01266531868507786\n",
      "\n",
      "TEST SET:\n",
      "F1-Score(micro): 0.6100278551532033\n",
      "F1-Score(macro): 0.5644684218048865\n",
      "F1-Score(weighted): 0.6047961498883249\n",
      "F1-Score(None): [0.70533209 0.42360476]\n",
      "Accuracy: 0.6100278551532033\n",
      "Sensitivity: 0.401561144839549\n",
      "Specificity: 0.7256977863330125\n",
      "Confusion Matrix: [0.7256977863330125, 0.4]\n",
      "ROC AUC score: 0.5636294655862808\n",
      "CPU times: user 424 ms, sys: 143 ms, total: 567 ms\n",
      "Wall time: 191 ms\n"
     ]
    }
   ],
   "source": [
    "%%time\n",
    "DecisionTree_(X_RUS, y_RUS, X_test, y_test)"
   ]
  },
  {
   "cell_type": "code",
   "execution_count": 13,
   "metadata": {},
   "outputs": [
    {
     "name": "stdout",
     "output_type": "stream",
     "text": [
      "CPU times: user 2 µs, sys: 0 ns, total: 2 µs\n",
      "Wall time: 2.86 µs\n",
      "RANDOM FOREST\n",
      "TRAIN AND VALIDATION SETS:\n",
      "1 of KFold 10\n",
      "ROC AUC score: 0.6113782051282052\n",
      "2 of KFold 10\n",
      "ROC AUC score: 0.6219241982507289\n",
      "3 of KFold 10\n",
      "ROC AUC score: 0.6211439428028598\n",
      "4 of KFold 10\n",
      "ROC AUC score: 0.5752339572192513\n",
      "5 of KFold 10\n",
      "ROC AUC score: 0.621708754062462\n",
      "6 of KFold 10\n",
      "ROC AUC score: 0.6029494382022472\n",
      "7 of KFold 10\n",
      "ROC AUC score: 0.6056304985337243\n",
      "8 of KFold 10\n",
      "ROC AUC score: 0.6202178466694596\n",
      "9 of KFold 10\n",
      "ROC AUC score: 0.5930815508021391\n",
      "10 of KFold 10\n",
      "ROC AUC score: 0.6136481577581733\n",
      "\n",
      "CROSS VALIDANTION SUMMARY:\n",
      "Mean: 0.608691654942925\n",
      "Std deviation: 0.014386378044918994\n",
      "\n",
      "TEST SET:\n",
      "F1-Score(micro): 0.6425255338904364\n",
      "F1-Score(macro): 0.5925059322858413\n",
      "F1-Score(weighted): 0.6333788399574407\n",
      "F1-Score(None): [0.73527389 0.44973797]\n",
      "Accuracy: 0.6425255338904364\n",
      "Sensitivity: 0.409366869037294\n",
      "Specificity: 0.7718960538979788\n",
      "Confusion Matrix: [0.7718960538979788, 0.41]\n",
      "ROC AUC score: 0.5906314614676365\n",
      "CPU times: user 3.01 s, sys: 4.23 ms, total: 3.01 s\n",
      "Wall time: 3 s\n"
     ]
    }
   ],
   "source": [
    "%%time\n",
    "RandomForest_(X_RUS, y_RUS, X_test, y_test)"
   ]
  },
  {
   "cell_type": "code",
   "execution_count": 14,
   "metadata": {},
   "outputs": [
    {
     "name": "stdout",
     "output_type": "stream",
     "text": [
      "CPU times: user 1 µs, sys: 0 ns, total: 1 µs\n",
      "Wall time: 2.62 µs\n",
      "NEURAL NETWORK\n",
      "TRAIN AND VALIDATION SETS:\n",
      "1 of KFold 10\n"
     ]
    },
    {
     "name": "stderr",
     "output_type": "stream",
     "text": [
      "/usr/local/lib/python3.6/dist-packages/sklearn/neural_network/multilayer_perceptron.py:566: ConvergenceWarning: Stochastic Optimizer: Maximum iterations (200) reached and the optimization hasn't converged yet.\n",
      "  % self.max_iter, ConvergenceWarning)\n"
     ]
    },
    {
     "name": "stdout",
     "output_type": "stream",
     "text": [
      "ROC AUC score: 0.6187042124542125\n",
      "2 of KFold 10\n",
      "ROC AUC score: 0.6628571428571429\n",
      "3 of KFold 10\n",
      "ROC AUC score: 0.648317584120794\n",
      "4 of KFold 10\n",
      "ROC AUC score: 0.6116310160427807\n",
      "5 of KFold 10\n"
     ]
    },
    {
     "name": "stderr",
     "output_type": "stream",
     "text": [
      "/usr/local/lib/python3.6/dist-packages/sklearn/neural_network/multilayer_perceptron.py:566: ConvergenceWarning: Stochastic Optimizer: Maximum iterations (200) reached and the optimization hasn't converged yet.\n",
      "  % self.max_iter, ConvergenceWarning)\n"
     ]
    },
    {
     "name": "stdout",
     "output_type": "stream",
     "text": [
      "ROC AUC score: 0.6790611585185701\n",
      "6 of KFold 10\n"
     ]
    },
    {
     "name": "stderr",
     "output_type": "stream",
     "text": [
      "/usr/local/lib/python3.6/dist-packages/sklearn/neural_network/multilayer_perceptron.py:566: ConvergenceWarning: Stochastic Optimizer: Maximum iterations (200) reached and the optimization hasn't converged yet.\n",
      "  % self.max_iter, ConvergenceWarning)\n"
     ]
    },
    {
     "name": "stdout",
     "output_type": "stream",
     "text": [
      "ROC AUC score: 0.6663272471910112\n",
      "7 of KFold 10\n",
      "ROC AUC score: 0.6339421868454126\n",
      "8 of KFold 10\n",
      "ROC AUC score: 0.6640552995391705\n",
      "9 of KFold 10\n"
     ]
    },
    {
     "name": "stderr",
     "output_type": "stream",
     "text": [
      "/usr/local/lib/python3.6/dist-packages/sklearn/neural_network/multilayer_perceptron.py:566: ConvergenceWarning: Stochastic Optimizer: Maximum iterations (200) reached and the optimization hasn't converged yet.\n",
      "  % self.max_iter, ConvergenceWarning)\n"
     ]
    },
    {
     "name": "stdout",
     "output_type": "stream",
     "text": [
      "ROC AUC score: 0.6365975935828877\n",
      "10 of KFold 10\n",
      "ROC AUC score: 0.6586014530358069\n",
      "\n",
      "CROSS VALIDANTION SUMMARY:\n",
      "Mean: 0.6480094894187789\n",
      "Std deviation: 0.02097680815981881\n",
      "\n",
      "TEST SET:\n",
      "F1-Score(micro): 0.6939028164654906\n",
      "F1-Score(macro): 0.6441620842180213\n",
      "F1-Score(weighted): 0.6822499793578467\n",
      "F1-Score(None): [0.77720207 0.5111221 ]\n",
      "Accuracy: 0.6939028164654906\n",
      "Sensitivity: 0.4483954900260191\n",
      "Specificity: 0.8301251203079885\n",
      "Confusion Matrix: [0.8301251203079885, 0.45]\n",
      "ROC AUC score: 0.6392603051670038\n",
      "CPU times: user 1min 35s, sys: 57.1 s, total: 2min 32s\n",
      "Wall time: 19.2 s\n"
     ]
    },
    {
     "name": "stderr",
     "output_type": "stream",
     "text": [
      "/usr/local/lib/python3.6/dist-packages/sklearn/neural_network/multilayer_perceptron.py:566: ConvergenceWarning: Stochastic Optimizer: Maximum iterations (200) reached and the optimization hasn't converged yet.\n",
      "  % self.max_iter, ConvergenceWarning)\n"
     ]
    }
   ],
   "source": [
    "%%time\n",
    "NN_(X_RUS, y_RUS, X_test, y_test)"
   ]
  },
  {
   "cell_type": "code",
   "execution_count": 15,
   "metadata": {},
   "outputs": [
    {
     "name": "stdout",
     "output_type": "stream",
     "text": [
      "Resampling dataset using Edited Nearest Neighbour (ENN)...\n",
      "... DONE!\n",
      "X and Y ENN: 4898 4898\n"
     ]
    }
   ],
   "source": [
    "print(\"Resampling dataset using Edited Nearest Neighbour (ENN)...\")\n",
    "X_ENN, y_ENN = EditedNearestNeighbours(random_state=42).fit_sample(X_train, y_train.values.ravel())\n",
    "print(\"... DONE!\")\n",
    "print(\"X and Y ENN:\", len(X_ENN), len(y_ENN))"
   ]
  },
  {
   "cell_type": "code",
   "execution_count": 16,
   "metadata": {},
   "outputs": [
    {
     "name": "stdout",
     "output_type": "stream",
     "text": [
      "\n",
      "LOGISTIC REGRESSION\n",
      "TRAIN AND VALIDATION SETS:\n",
      "1 of KFold 10\n",
      "ROC AUC score: 0.6038799388313951\n",
      "2 of KFold 10\n",
      "ROC AUC score: 0.6557029028879245\n",
      "3 of KFold 10\n",
      "ROC AUC score: 0.6987146382050841\n",
      "4 of KFold 10\n",
      "ROC AUC score: 0.6052222061378113\n",
      "5 of KFold 10\n",
      "ROC AUC score: 0.6370481927710844\n",
      "6 of KFold 10\n",
      "ROC AUC score: 0.6538461538461539\n",
      "7 of KFold 10\n",
      "ROC AUC score: 0.6271117057390471\n",
      "8 of KFold 10\n",
      "ROC AUC score: 0.6665033284023669\n",
      "9 of KFold 10\n",
      "ROC AUC score: 0.647239263803681\n",
      "10 of KFold 10\n",
      "ROC AUC score: 0.6366611958670595\n",
      "\n",
      "CROSS VALIDANTION SUMMARY:\n",
      "Mean: 0.6431929526491608\n",
      "Std deviation: 0.026904855395029372\n",
      "\n",
      "TEST SET:\n",
      "F1-Score(micro): 0.6697616836892603\n",
      "F1-Score(macro): 0.6447071001444162\n",
      "F1-Score(weighted): 0.6717181604928786\n",
      "F1-Score(None): [0.739056  0.5503582]\n",
      "Accuracy: 0.6697616836892603\n",
      "Sensitivity: 0.5663486556808326\n",
      "Specificity: 0.7271414821944177\n",
      "Confusion Matrix: [0.7271414821944177, 0.57]\n",
      "ROC AUC score: 0.6467450689376253\n",
      "CPU times: user 1.15 s, sys: 749 ms, total: 1.9 s\n",
      "Wall time: 249 ms\n"
     ]
    }
   ],
   "source": [
    "%%time\n",
    "LogisticRegr_(X_ENN, y_ENN, X_test, y_test)"
   ]
  },
  {
   "cell_type": "code",
   "execution_count": 17,
   "metadata": {},
   "outputs": [
    {
     "name": "stdout",
     "output_type": "stream",
     "text": [
      "CPU times: user 9 µs, sys: 6 µs, total: 15 µs\n",
      "Wall time: 3.58 µs\n",
      "\n",
      "DECISION TREE\n",
      "TRAIN AND VALIDATION SETS:\n",
      "1 of KFold 10\n",
      "ROC AUC score: 0.6079430278459406\n",
      "2 of KFold 10\n",
      "ROC AUC score: 0.6067166691605567\n",
      "3 of KFold 10\n",
      "ROC AUC score: 0.5737361565387044\n",
      "4 of KFold 10\n",
      "ROC AUC score: 0.5881767515923567\n",
      "5 of KFold 10\n",
      "ROC AUC score: 0.5817637639164251\n",
      "6 of KFold 10\n",
      "ROC AUC score: 0.6268997668997669\n",
      "7 of KFold 10\n",
      "ROC AUC score: 0.5538759535125204\n",
      "8 of KFold 10\n",
      "ROC AUC score: 0.5767474112426034\n",
      "9 of KFold 10\n",
      "ROC AUC score: 0.6104294478527608\n",
      "10 of KFold 10\n",
      "ROC AUC score: 0.5714405610056325\n",
      "\n",
      "CROSS VALIDANTION SUMMARY:\n",
      "Mean: 0.5897729509567267\n",
      "Std deviation: 0.021308547447329185\n",
      "\n",
      "TEST SET:\n",
      "F1-Score(micro): 0.6140513772825751\n",
      "F1-Score(macro): 0.5758200196852943\n",
      "F1-Score(weighted): 0.612277757600227\n",
      "F1-Score(None): [0.70316591 0.44847413]\n",
      "Accuracy: 0.6140513772825751\n",
      "Sensitivity: 0.43972246313963576\n",
      "Specificity: 0.7107795957651588\n",
      "Confusion Matrix: [0.7107795957651588, 0.44]\n",
      "ROC AUC score: 0.5752510294523973\n",
      "CPU times: user 376 ms, sys: 195 ms, total: 571 ms\n",
      "Wall time: 183 ms\n"
     ]
    }
   ],
   "source": [
    "%%time\n",
    "DecisionTree_(X_ENN, y_ENN, X_test, y_test)"
   ]
  },
  {
   "cell_type": "code",
   "execution_count": 18,
   "metadata": {},
   "outputs": [
    {
     "name": "stdout",
     "output_type": "stream",
     "text": [
      "CPU times: user 2 µs, sys: 0 ns, total: 2 µs\n",
      "Wall time: 2.86 µs\n",
      "RANDOM FOREST\n",
      "TRAIN AND VALIDATION SETS:\n",
      "1 of KFold 10\n",
      "ROC AUC score: 0.6037643586187276\n",
      "2 of KFold 10\n",
      "ROC AUC score: 0.6295451144695496\n",
      "3 of KFold 10\n",
      "ROC AUC score: 0.621554675694803\n",
      "4 of KFold 10\n",
      "ROC AUC score: 0.6357303126809496\n",
      "5 of KFold 10\n",
      "ROC AUC score: 0.5820497178587768\n",
      "6 of KFold 10\n",
      "ROC AUC score: 0.6166433566433566\n",
      "7 of KFold 10\n",
      "ROC AUC score: 0.5951315947122489\n",
      "8 of KFold 10\n",
      "ROC AUC score: 0.6243528106508875\n",
      "9 of KFold 10\n",
      "ROC AUC score: 0.6042944785276073\n",
      "10 of KFold 10\n",
      "ROC AUC score: 0.5920679622514828\n",
      "\n",
      "CROSS VALIDANTION SUMMARY:\n",
      "Mean: 0.610513438210839\n",
      "Std deviation: 0.01679390996136306\n",
      "\n",
      "TEST SET:\n",
      "F1-Score(micro): 0.6450015475085112\n",
      "F1-Score(macro): 0.5920555585827013\n",
      "F1-Score(weighted): 0.6341303350057031\n",
      "F1-Score(None): [0.73902162 0.4450895 ]\n",
      "Accuracy: 0.6450015475085112\n",
      "Sensitivity: 0.398959236773634\n",
      "Specificity: 0.7815206929740135\n",
      "Confusion Matrix: [0.7815206929740135, 0.4]\n",
      "ROC AUC score: 0.5902399648738238\n",
      "CPU times: user 2.9 s, sys: 1.67 ms, total: 2.9 s\n",
      "Wall time: 2.89 s\n"
     ]
    }
   ],
   "source": [
    "%%time\n",
    "RandomForest_(X_ENN, y_ENN, X_test, y_test)"
   ]
  },
  {
   "cell_type": "code",
   "execution_count": 19,
   "metadata": {},
   "outputs": [
    {
     "name": "stdout",
     "output_type": "stream",
     "text": [
      "CPU times: user 1e+03 ns, sys: 1e+03 ns, total: 2 µs\n",
      "Wall time: 2.62 µs\n",
      "NEURAL NETWORK\n",
      "TRAIN AND VALIDATION SETS:\n",
      "1 of KFold 10\n",
      "ROC AUC score: 0.6325882855009068\n",
      "2 of KFold 10\n"
     ]
    },
    {
     "name": "stderr",
     "output_type": "stream",
     "text": [
      "/usr/local/lib/python3.6/dist-packages/sklearn/neural_network/multilayer_perceptron.py:566: ConvergenceWarning: Stochastic Optimizer: Maximum iterations (200) reached and the optimization hasn't converged yet.\n",
      "  % self.max_iter, ConvergenceWarning)\n"
     ]
    },
    {
     "name": "stdout",
     "output_type": "stream",
     "text": [
      "ROC AUC score: 0.635493042046985\n",
      "3 of KFold 10\n",
      "ROC AUC score: 0.6682829326141428\n",
      "4 of KFold 10\n",
      "ROC AUC score: 0.6355131731325999\n",
      "5 of KFold 10\n",
      "ROC AUC score: 0.6180227238066188\n",
      "6 of KFold 10\n",
      "ROC AUC score: 0.6702097902097901\n",
      "7 of KFold 10\n"
     ]
    },
    {
     "name": "stderr",
     "output_type": "stream",
     "text": [
      "/usr/local/lib/python3.6/dist-packages/sklearn/neural_network/multilayer_perceptron.py:566: ConvergenceWarning: Stochastic Optimizer: Maximum iterations (200) reached and the optimization hasn't converged yet.\n",
      "  % self.max_iter, ConvergenceWarning)\n"
     ]
    },
    {
     "name": "stdout",
     "output_type": "stream",
     "text": [
      "ROC AUC score: 0.6325232637086146\n",
      "8 of KFold 10\n"
     ]
    },
    {
     "name": "stderr",
     "output_type": "stream",
     "text": [
      "/usr/local/lib/python3.6/dist-packages/sklearn/neural_network/multilayer_perceptron.py:566: ConvergenceWarning: Stochastic Optimizer: Maximum iterations (200) reached and the optimization hasn't converged yet.\n",
      "  % self.max_iter, ConvergenceWarning)\n"
     ]
    },
    {
     "name": "stdout",
     "output_type": "stream",
     "text": [
      "ROC AUC score: 0.6710613905325443\n",
      "9 of KFold 10\n",
      "ROC AUC score: 0.6319018404907976\n",
      "10 of KFold 10\n",
      "ROC AUC score: 0.6202674474989742\n",
      "\n",
      "CROSS VALIDANTION SUMMARY:\n",
      "Mean: 0.6415863889541974\n",
      "Std deviation: 0.01934278483489012\n",
      "\n",
      "TEST SET:\n",
      "F1-Score(micro): 0.6948313215722687\n",
      "F1-Score(macro): 0.6322336164549797\n",
      "F1-Score(weighted): 0.6756716338844564\n",
      "F1-Score(None): [0.78396144 0.4805058 ]\n",
      "Accuracy: 0.6948313215722687\n",
      "Sensitivity: 0.3954900260190807\n",
      "Specificity: 0.8609239653512993\n",
      "Confusion Matrix: [0.8609239653512993, 0.4]\n",
      "ROC AUC score: 0.6282069956851901\n",
      "CPU times: user 1min 41s, sys: 1min 1s, total: 2min 43s\n",
      "Wall time: 20.8 s\n"
     ]
    },
    {
     "name": "stderr",
     "output_type": "stream",
     "text": [
      "/usr/local/lib/python3.6/dist-packages/sklearn/neural_network/multilayer_perceptron.py:566: ConvergenceWarning: Stochastic Optimizer: Maximum iterations (200) reached and the optimization hasn't converged yet.\n",
      "  % self.max_iter, ConvergenceWarning)\n"
     ]
    }
   ],
   "source": [
    "%%time\n",
    "NN_(X_ENN, y_ENN, X_test, y_test)"
   ]
  },
  {
   "cell_type": "code",
   "execution_count": 20,
   "metadata": {},
   "outputs": [
    {
     "name": "stdout",
     "output_type": "stream",
     "text": [
      "Resampling dataset using Tomek's Link (TL)...\n",
      "... DONE!\n",
      "X and Y TL: 7019 7019\n"
     ]
    }
   ],
   "source": [
    "print(\"Resampling dataset using Tomek's Link (TL)...\")\n",
    "X_TL, y_TL = TomekLinks(random_state=42).fit_sample(X_train, y_train.values.ravel())\n",
    "print(\"... DONE!\")\n",
    "print(\"X and Y TL:\", len(X_TL), len(y_TL))"
   ]
  },
  {
   "cell_type": "code",
   "execution_count": 21,
   "metadata": {},
   "outputs": [
    {
     "name": "stdout",
     "output_type": "stream",
     "text": [
      "\n",
      "LOGISTIC REGRESSION\n",
      "TRAIN AND VALIDATION SETS:\n",
      "1 of KFold 10\n",
      "ROC AUC score: 0.6539731821454284\n",
      "2 of KFold 10\n",
      "ROC AUC score: 0.6308576274977632\n",
      "3 of KFold 10\n",
      "ROC AUC score: 0.6500704805978883\n",
      "4 of KFold 10\n",
      "ROC AUC score: 0.6172170039701753\n",
      "5 of KFold 10\n",
      "ROC AUC score: 0.6495422676729334\n",
      "6 of KFold 10\n",
      "ROC AUC score: 0.6577542687811895\n",
      "7 of KFold 10\n",
      "ROC AUC score: 0.6509764185703758\n",
      "8 of KFold 10\n",
      "ROC AUC score: 0.6466452246940051\n",
      "9 of KFold 10\n",
      "ROC AUC score: 0.6681082791033983\n",
      "10 of KFold 10\n",
      "ROC AUC score: 0.6287014039352463\n",
      "\n",
      "CROSS VALIDANTION SUMMARY:\n",
      "Mean: 0.6453846156968404\n",
      "Std deviation: 0.014484525381010496\n",
      "\n",
      "TEST SET:\n",
      "F1-Score(micro): 0.6709996904982978\n",
      "F1-Score(macro): 0.6454082862607924\n",
      "F1-Score(weighted): 0.6726802320208068\n",
      "F1-Score(None): [0.74066846 0.55014812]\n",
      "Accuracy: 0.6709996904982978\n",
      "Sensitivity: 0.5637467476149176\n",
      "Specificity: 0.7305101058710298\n",
      "Confusion Matrix: [0.7305101058710298, 0.56]\n",
      "ROC AUC score: 0.6471284267429738\n",
      "CPU times: user 1.5 s, sys: 1.09 s, total: 2.59 s\n",
      "Wall time: 340 ms\n"
     ]
    }
   ],
   "source": [
    "%%time\n",
    "LogisticRegr_(X_TL, y_TL, X_test, y_test)"
   ]
  },
  {
   "cell_type": "code",
   "execution_count": 22,
   "metadata": {},
   "outputs": [
    {
     "name": "stdout",
     "output_type": "stream",
     "text": [
      "CPU times: user 8 µs, sys: 5 µs, total: 13 µs\n",
      "Wall time: 3.34 µs\n",
      "\n",
      "DECISION TREE\n",
      "TRAIN AND VALIDATION SETS:\n",
      "1 of KFold 10\n",
      "ROC AUC score: 0.5704193664506839\n",
      "2 of KFold 10\n",
      "ROC AUC score: 0.5740894348344766\n",
      "3 of KFold 10\n",
      "ROC AUC score: 0.5857336631293386\n",
      "4 of KFold 10\n",
      "ROC AUC score: 0.5740204406806517\n",
      "5 of KFold 10\n",
      "ROC AUC score: 0.5855401241459385\n",
      "6 of KFold 10\n",
      "ROC AUC score: 0.5950859547687765\n",
      "7 of KFold 10\n",
      "ROC AUC score: 0.5570467943994105\n",
      "8 of KFold 10\n",
      "ROC AUC score: 0.5625435540069685\n",
      "9 of KFold 10\n",
      "ROC AUC score: 0.5762382501807664\n",
      "10 of KFold 10\n",
      "ROC AUC score: 0.5862002149060227\n",
      "\n",
      "CROSS VALIDANTION SUMMARY:\n",
      "Mean: 0.5766917797503035\n",
      "Std deviation: 0.01108313907511496\n",
      "\n",
      "TEST SET:\n",
      "F1-Score(micro): 0.6025998142989787\n",
      "F1-Score(macro): 0.5604063000669678\n",
      "F1-Score(weighted): 0.5993963107209238\n",
      "F1-Score(None): [0.69659735 0.42421525]\n",
      "Accuracy: 0.6025998142989787\n",
      "Sensitivity: 0.41023417172593235\n",
      "Specificity: 0.7093358999037536\n",
      "Confusion Matrix: [0.7093358999037536, 0.41]\n",
      "ROC AUC score: 0.559785035814843\n",
      "CPU times: user 435 ms, sys: 190 ms, total: 625 ms\n",
      "Wall time: 241 ms\n"
     ]
    }
   ],
   "source": [
    "%%time\n",
    "DecisionTree_(X_TL, y_TL, X_test, y_test)"
   ]
  },
  {
   "cell_type": "code",
   "execution_count": 23,
   "metadata": {},
   "outputs": [
    {
     "name": "stdout",
     "output_type": "stream",
     "text": [
      "CPU times: user 2 µs, sys: 0 ns, total: 2 µs\n",
      "Wall time: 2.86 µs\n",
      "RANDOM FOREST\n",
      "TRAIN AND VALIDATION SETS:\n",
      "1 of KFold 10\n",
      "ROC AUC score: 0.5911672066234701\n",
      "2 of KFold 10\n",
      "ROC AUC score: 0.5839826274977632\n",
      "3 of KFold 10\n",
      "ROC AUC score: 0.5932471608287455\n",
      "4 of KFold 10\n",
      "ROC AUC score: 0.5970140056515577\n",
      "5 of KFold 10\n",
      "ROC AUC score: 0.6298709418121734\n",
      "6 of KFold 10\n",
      "ROC AUC score: 0.6015868572697174\n",
      "7 of KFold 10\n",
      "ROC AUC score: 0.5920044215180545\n",
      "8 of KFold 10\n",
      "ROC AUC score: 0.5890243902439024\n",
      "9 of KFold 10\n",
      "ROC AUC score: 0.5973608098336949\n",
      "10 of KFold 10\n",
      "ROC AUC score: 0.5729139142842045\n",
      "\n",
      "CROSS VALIDANTION SUMMARY:\n",
      "Mean: 0.5948172335563284\n",
      "Std deviation: 0.013929417465889575\n",
      "\n",
      "TEST SET:\n",
      "F1-Score(micro): 0.6505725781491798\n",
      "F1-Score(macro): 0.604003583704501\n",
      "F1-Score(weighted): 0.6428811287056996\n",
      "F1-Score(None): [0.7398018  0.46820537]\n",
      "Accuracy: 0.6505725781491798\n",
      "Sensitivity: 0.43104943625325237\n",
      "Specificity: 0.7723772858517806\n",
      "Confusion Matrix: [0.7723772858517806, 0.43]\n",
      "ROC AUC score: 0.6017133610525165\n",
      "CPU times: user 3.92 s, sys: 2.21 ms, total: 3.92 s\n",
      "Wall time: 3.91 s\n"
     ]
    }
   ],
   "source": [
    "%%time\n",
    "RandomForest_(X_TL, y_TL, X_test, y_test)"
   ]
  },
  {
   "cell_type": "code",
   "execution_count": 24,
   "metadata": {},
   "outputs": [
    {
     "name": "stdout",
     "output_type": "stream",
     "text": [
      "CPU times: user 1e+03 ns, sys: 0 ns, total: 1e+03 ns\n",
      "Wall time: 2.62 µs\n",
      "NEURAL NETWORK\n",
      "TRAIN AND VALIDATION SETS:\n",
      "1 of KFold 10\n",
      "ROC AUC score: 0.640613750899928\n",
      "2 of KFold 10\n"
     ]
    },
    {
     "name": "stderr",
     "output_type": "stream",
     "text": [
      "/usr/local/lib/python3.6/dist-packages/sklearn/neural_network/multilayer_perceptron.py:566: ConvergenceWarning: Stochastic Optimizer: Maximum iterations (200) reached and the optimization hasn't converged yet.\n",
      "  % self.max_iter, ConvergenceWarning)\n"
     ]
    },
    {
     "name": "stdout",
     "output_type": "stream",
     "text": [
      "ROC AUC score: 0.647479868774232\n",
      "3 of KFold 10\n"
     ]
    },
    {
     "name": "stderr",
     "output_type": "stream",
     "text": [
      "/usr/local/lib/python3.6/dist-packages/sklearn/neural_network/multilayer_perceptron.py:566: ConvergenceWarning: Stochastic Optimizer: Maximum iterations (200) reached and the optimization hasn't converged yet.\n",
      "  % self.max_iter, ConvergenceWarning)\n"
     ]
    },
    {
     "name": "stdout",
     "output_type": "stream",
     "text": [
      "ROC AUC score: 0.6507353918987206\n",
      "4 of KFold 10\n"
     ]
    },
    {
     "name": "stderr",
     "output_type": "stream",
     "text": [
      "/usr/local/lib/python3.6/dist-packages/sklearn/neural_network/multilayer_perceptron.py:566: ConvergenceWarning: Stochastic Optimizer: Maximum iterations (200) reached and the optimization hasn't converged yet.\n",
      "  % self.max_iter, ConvergenceWarning)\n"
     ]
    },
    {
     "name": "stdout",
     "output_type": "stream",
     "text": [
      "ROC AUC score: 0.6280843684252224\n",
      "5 of KFold 10\n"
     ]
    },
    {
     "name": "stderr",
     "output_type": "stream",
     "text": [
      "/usr/local/lib/python3.6/dist-packages/sklearn/neural_network/multilayer_perceptron.py:566: ConvergenceWarning: Stochastic Optimizer: Maximum iterations (200) reached and the optimization hasn't converged yet.\n",
      "  % self.max_iter, ConvergenceWarning)\n"
     ]
    },
    {
     "name": "stdout",
     "output_type": "stream",
     "text": [
      "ROC AUC score: 0.6448533023712767\n",
      "6 of KFold 10\n"
     ]
    },
    {
     "name": "stderr",
     "output_type": "stream",
     "text": [
      "/usr/local/lib/python3.6/dist-packages/sklearn/neural_network/multilayer_perceptron.py:566: ConvergenceWarning: Stochastic Optimizer: Maximum iterations (200) reached and the optimization hasn't converged yet.\n",
      "  % self.max_iter, ConvergenceWarning)\n"
     ]
    },
    {
     "name": "stdout",
     "output_type": "stream",
     "text": [
      "ROC AUC score: 0.6447476375710659\n",
      "7 of KFold 10\n",
      "ROC AUC score: 0.6464719970523214\n",
      "8 of KFold 10\n"
     ]
    },
    {
     "name": "stderr",
     "output_type": "stream",
     "text": [
      "/usr/local/lib/python3.6/dist-packages/sklearn/neural_network/multilayer_perceptron.py:566: ConvergenceWarning: Stochastic Optimizer: Maximum iterations (200) reached and the optimization hasn't converged yet.\n",
      "  % self.max_iter, ConvergenceWarning)\n"
     ]
    },
    {
     "name": "stdout",
     "output_type": "stream",
     "text": [
      "ROC AUC score: 0.647373358348968\n",
      "9 of KFold 10\n"
     ]
    },
    {
     "name": "stderr",
     "output_type": "stream",
     "text": [
      "/usr/local/lib/python3.6/dist-packages/sklearn/neural_network/multilayer_perceptron.py:566: ConvergenceWarning: Stochastic Optimizer: Maximum iterations (200) reached and the optimization hasn't converged yet.\n",
      "  % self.max_iter, ConvergenceWarning)\n"
     ]
    },
    {
     "name": "stdout",
     "output_type": "stream",
     "text": [
      "ROC AUC score: 0.656015003615329\n",
      "10 of KFold 10\n",
      "ROC AUC score: 0.6359985203191884\n",
      "\n",
      "CROSS VALIDANTION SUMMARY:\n",
      "Mean: 0.6442373199276252\n",
      "Std deviation: 0.00740842214265013\n",
      "\n",
      "TEST SET:\n",
      "F1-Score(micro): 0.6997833488084184\n",
      "F1-Score(macro): 0.6484157298026415\n",
      "F1-Score(weighted): 0.6868894525397619\n",
      "F1-Score(None): [0.7828034  0.51402806]\n",
      "Accuracy: 0.6997833488084184\n",
      "Sensitivity: 0.4449262792714657\n",
      "Specificity: 0.8411934552454283\n",
      "Confusion Matrix: [0.8411934552454283, 0.44]\n",
      "ROC AUC score: 0.643059867258447\n",
      "CPU times: user 2min 17s, sys: 1min 21s, total: 3min 39s\n",
      "Wall time: 27.7 s\n"
     ]
    }
   ],
   "source": [
    "%%time\n",
    "NN_(X_TL, y_TL, X_test, y_test)"
   ]
  },
  {
   "cell_type": "markdown",
   "metadata": {},
   "source": [
    "## Oversampling"
   ]
  },
  {
   "cell_type": "code",
   "execution_count": 25,
   "metadata": {},
   "outputs": [
    {
     "name": "stdout",
     "output_type": "stream",
     "text": [
      "Resampling dataset using Random OverSampling (ROS)...\n",
      "X and Y ROS: 9908 9908\n"
     ]
    },
    {
     "name": "stderr",
     "output_type": "stream",
     "text": [
      "/usr/local/lib/python3.6/dist-packages/sklearn/utils/validation.py:724: DataConversionWarning: A column-vector y was passed when a 1d array was expected. Please change the shape of y to (n_samples, ), for example using ravel().\n",
      "  y = column_or_1d(y, warn=True)\n"
     ]
    }
   ],
   "source": [
    "print(\"Resampling dataset using Random OverSampling (ROS)...\")\n",
    "ros = RandomOverSampler(random_state=42)\n",
    "X_ROS, y_ROS = ros.fit_resample(X_train, y_train)\n",
    "print(\"X and Y ROS:\", len(X_ROS), len(y_ROS))"
   ]
  },
  {
   "cell_type": "code",
   "execution_count": 26,
   "metadata": {},
   "outputs": [
    {
     "name": "stdout",
     "output_type": "stream",
     "text": [
      "CPU times: user 8 µs, sys: 5 µs, total: 13 µs\n",
      "Wall time: 3.34 µs\n",
      "\n",
      "LOGISTIC REGRESSION\n",
      "TRAIN AND VALIDATION SETS:\n",
      "1 of KFold 10\n",
      "ROC AUC score: 0.6451612903225806\n",
      "2 of KFold 10\n",
      "ROC AUC score: 0.6421370967741934\n",
      "3 of KFold 10\n",
      "ROC AUC score: 0.6643145161290323\n",
      "4 of KFold 10\n",
      "ROC AUC score: 0.6300403225806451\n",
      "5 of KFold 10\n",
      "ROC AUC score: 0.6616161616161617\n",
      "6 of KFold 10\n",
      "ROC AUC score: 0.6414141414141413\n",
      "7 of KFold 10\n",
      "ROC AUC score: 0.6636363636363636\n",
      "8 of KFold 10\n",
      "ROC AUC score: 0.692929292929293\n",
      "9 of KFold 10\n",
      "ROC AUC score: 0.6565656565656566\n",
      "10 of KFold 10\n",
      "ROC AUC score: 0.6252525252525253\n",
      "\n",
      "CROSS VALIDANTION SUMMARY:\n",
      "Mean: 0.6523067367220594\n",
      "Std deviation: 0.018784020457881728\n",
      "\n",
      "TEST SET:\n",
      "F1-Score(micro): 0.6728567007118539\n",
      "F1-Score(macro): 0.6470288569513569\n",
      "F1-Score(weighted): 0.6743638174530271\n",
      "F1-Score(None): [0.74250914 0.55154858]\n",
      "Accuracy: 0.6728567007118539\n",
      "Sensitivity: 0.5637467476149176\n",
      "Specificity: 0.7333974975938402\n",
      "Confusion Matrix: [0.7333974975938402, 0.56]\n",
      "ROC AUC score: 0.6485721226043789\n",
      "CPU times: user 2.31 s, sys: 1.56 s, total: 3.88 s\n",
      "Wall time: 519 ms\n"
     ]
    }
   ],
   "source": [
    "%%time\n",
    "LogisticRegr_NoIloc(X_ROS, y_ROS, X_test, y_test)"
   ]
  },
  {
   "cell_type": "code",
   "execution_count": 27,
   "metadata": {},
   "outputs": [
    {
     "name": "stdout",
     "output_type": "stream",
     "text": [
      "CPU times: user 8 µs, sys: 5 µs, total: 13 µs\n",
      "Wall time: 3.58 µs\n",
      "\n",
      "DECISION TREE\n",
      "TRAIN AND VALIDATION SETS:\n",
      "1 of KFold 10\n",
      "ROC AUC score: 0.7036290322580645\n",
      "2 of KFold 10\n",
      "ROC AUC score: 0.7399193548387096\n",
      "3 of KFold 10\n",
      "ROC AUC score: 0.7328629032258064\n",
      "4 of KFold 10\n",
      "ROC AUC score: 0.7076612903225807\n",
      "5 of KFold 10\n",
      "ROC AUC score: 0.7212121212121212\n",
      "6 of KFold 10\n",
      "ROC AUC score: 0.7737373737373737\n",
      "7 of KFold 10\n",
      "ROC AUC score: 0.8383838383838383\n",
      "8 of KFold 10\n",
      "ROC AUC score: 0.8363636363636363\n",
      "9 of KFold 10\n",
      "ROC AUC score: 0.8171717171717172\n",
      "10 of KFold 10\n",
      "ROC AUC score: 0.802020202020202\n",
      "\n",
      "CROSS VALIDANTION SUMMARY:\n",
      "Mean: 0.767296146953405\n",
      "Std deviation: 0.0502267776602626\n",
      "\n",
      "TEST SET:\n",
      "F1-Score(micro): 0.6162178891983906\n",
      "F1-Score(macro): 0.5794795103269161\n",
      "F1-Score(weighted): 0.6150638039982396\n",
      "F1-Score(None): [0.70377449 0.45518453]\n",
      "Accuracy: 0.6162178891983906\n",
      "Sensitivity: 0.4492627927146574\n",
      "Specificity: 0.7088546679499519\n",
      "Confusion Matrix: [0.7088546679499519, 0.45]\n",
      "ROC AUC score: 0.5790587303323047\n",
      "CPU times: user 459 ms, sys: 180 ms, total: 639 ms\n",
      "Wall time: 291 ms\n"
     ]
    }
   ],
   "source": [
    "%%time\n",
    "DecisionTree_NoIloc(X_ROS, y_ROS, X_test, y_test)"
   ]
  },
  {
   "cell_type": "code",
   "execution_count": 28,
   "metadata": {},
   "outputs": [
    {
     "name": "stdout",
     "output_type": "stream",
     "text": [
      "CPU times: user 1 µs, sys: 0 ns, total: 1 µs\n",
      "Wall time: 2.86 µs\n",
      "RANDOM FOREST\n",
      "TRAIN AND VALIDATION SETS:\n",
      "1 of KFold 10\n",
      "ROC AUC score: 0.7106854838709677\n",
      "2 of KFold 10\n",
      "ROC AUC score: 0.7368951612903225\n",
      "3 of KFold 10\n",
      "ROC AUC score: 0.7439516129032259\n",
      "4 of KFold 10\n",
      "ROC AUC score: 0.7399193548387097\n",
      "5 of KFold 10\n",
      "ROC AUC score: 0.7454545454545455\n",
      "6 of KFold 10\n",
      "ROC AUC score: 0.7868686868686868\n",
      "7 of KFold 10\n",
      "ROC AUC score: 0.8242424242424242\n",
      "8 of KFold 10\n",
      "ROC AUC score: 0.8363636363636364\n",
      "9 of KFold 10\n",
      "ROC AUC score: 0.8121212121212121\n",
      "10 of KFold 10\n",
      "ROC AUC score: 0.7989898989898991\n",
      "\n",
      "CROSS VALIDANTION SUMMARY:\n",
      "Mean: 0.773549201694363\n",
      "Std deviation: 0.0411333842945444\n",
      "\n",
      "TEST SET:\n",
      "F1-Score(micro): 0.6363354998452492\n",
      "F1-Score(macro): 0.6114295896813966\n",
      "F1-Score(weighted): 0.6395933633996894\n",
      "F1-Score(None): [0.70980489 0.51305429]\n",
      "Accuracy: 0.6363354998452492\n",
      "Sensitivity: 0.5368603642671292\n",
      "Specificity: 0.6915303176130895\n",
      "Confusion Matrix: [0.6915303176130895, 0.54]\n",
      "ROC AUC score: 0.6141953409401094\n",
      "CPU times: user 5.34 s, sys: 5.13 ms, total: 5.35 s\n",
      "Wall time: 5.34 s\n"
     ]
    }
   ],
   "source": [
    "%%time\n",
    "RandomForest_NoIloc(X_ROS, y_ROS, X_test, y_test)"
   ]
  },
  {
   "cell_type": "code",
   "execution_count": 29,
   "metadata": {},
   "outputs": [
    {
     "name": "stdout",
     "output_type": "stream",
     "text": [
      "CPU times: user 1e+03 ns, sys: 0 ns, total: 1e+03 ns\n",
      "Wall time: 2.86 µs\n",
      "NEURAL NETWORK\n",
      "TRAIN AND VALIDATION SETS:\n",
      "1 of KFold 10\n",
      "ROC AUC score: 0.6643145161290323\n",
      "2 of KFold 10\n"
     ]
    },
    {
     "name": "stderr",
     "output_type": "stream",
     "text": [
      "/usr/local/lib/python3.6/dist-packages/sklearn/neural_network/multilayer_perceptron.py:566: ConvergenceWarning: Stochastic Optimizer: Maximum iterations (200) reached and the optimization hasn't converged yet.\n",
      "  % self.max_iter, ConvergenceWarning)\n"
     ]
    },
    {
     "name": "stdout",
     "output_type": "stream",
     "text": [
      "ROC AUC score: 0.6743951612903226\n",
      "3 of KFold 10\n"
     ]
    },
    {
     "name": "stderr",
     "output_type": "stream",
     "text": [
      "/usr/local/lib/python3.6/dist-packages/sklearn/neural_network/multilayer_perceptron.py:566: ConvergenceWarning: Stochastic Optimizer: Maximum iterations (200) reached and the optimization hasn't converged yet.\n",
      "  % self.max_iter, ConvergenceWarning)\n"
     ]
    },
    {
     "name": "stdout",
     "output_type": "stream",
     "text": [
      "ROC AUC score: 0.6985887096774194\n",
      "4 of KFold 10\n",
      "ROC AUC score: 0.6874999999999999\n",
      "5 of KFold 10\n"
     ]
    },
    {
     "name": "stderr",
     "output_type": "stream",
     "text": [
      "/usr/local/lib/python3.6/dist-packages/sklearn/neural_network/multilayer_perceptron.py:566: ConvergenceWarning: Stochastic Optimizer: Maximum iterations (200) reached and the optimization hasn't converged yet.\n",
      "  % self.max_iter, ConvergenceWarning)\n"
     ]
    },
    {
     "name": "stdout",
     "output_type": "stream",
     "text": [
      "ROC AUC score: 0.7\n",
      "6 of KFold 10\n",
      "ROC AUC score: 0.6717171717171717\n",
      "7 of KFold 10\n",
      "ROC AUC score: 0.6757575757575758\n",
      "8 of KFold 10\n"
     ]
    },
    {
     "name": "stderr",
     "output_type": "stream",
     "text": [
      "/usr/local/lib/python3.6/dist-packages/sklearn/neural_network/multilayer_perceptron.py:566: ConvergenceWarning: Stochastic Optimizer: Maximum iterations (200) reached and the optimization hasn't converged yet.\n",
      "  % self.max_iter, ConvergenceWarning)\n"
     ]
    },
    {
     "name": "stdout",
     "output_type": "stream",
     "text": [
      "ROC AUC score: 0.7060606060606062\n",
      "9 of KFold 10\n"
     ]
    },
    {
     "name": "stderr",
     "output_type": "stream",
     "text": [
      "/usr/local/lib/python3.6/dist-packages/sklearn/neural_network/multilayer_perceptron.py:566: ConvergenceWarning: Stochastic Optimizer: Maximum iterations (200) reached and the optimization hasn't converged yet.\n",
      "  % self.max_iter, ConvergenceWarning)\n"
     ]
    },
    {
     "name": "stdout",
     "output_type": "stream",
     "text": [
      "ROC AUC score: 0.6828282828282828\n",
      "10 of KFold 10\n",
      "ROC AUC score: 0.6505050505050505\n",
      "\n",
      "CROSS VALIDANTION SUMMARY:\n",
      "Mean: 0.6811667073965461\n",
      "Std deviation: 0.01646006231074393\n",
      "\n",
      "TEST SET:\n",
      "F1-Score(micro): 0.6725471990095946\n",
      "F1-Score(macro): 0.6614487514083202\n",
      "F1-Score(weighted): 0.6789975788120447\n",
      "F1-Score(None): [0.72274633 0.60015117]\n",
      "Accuracy: 0.6725471990095946\n",
      "Sensitivity: 0.6886383347788378\n",
      "Specificity: 0.663618864292589\n",
      "Confusion Matrix: [0.663618864292589, 0.69]\n",
      "ROC AUC score: 0.6761285995357135\n",
      "CPU times: user 3min 7s, sys: 1min 52s, total: 4min 59s\n",
      "Wall time: 37.7 s\n"
     ]
    },
    {
     "name": "stderr",
     "output_type": "stream",
     "text": [
      "/usr/local/lib/python3.6/dist-packages/sklearn/neural_network/multilayer_perceptron.py:566: ConvergenceWarning: Stochastic Optimizer: Maximum iterations (200) reached and the optimization hasn't converged yet.\n",
      "  % self.max_iter, ConvergenceWarning)\n"
     ]
    }
   ],
   "source": [
    "%%time\n",
    "NN_NoIloc(X_ROS, y_ROS, X_test, y_test)"
   ]
  },
  {
   "cell_type": "code",
   "execution_count": 30,
   "metadata": {},
   "outputs": [
    {
     "name": "stdout",
     "output_type": "stream",
     "text": [
      "Resampling dataset using SMOTE (SMO)...\n",
      "X and Y SMO: 9908 9908\n"
     ]
    },
    {
     "name": "stderr",
     "output_type": "stream",
     "text": [
      "/usr/local/lib/python3.6/dist-packages/sklearn/utils/validation.py:724: DataConversionWarning: A column-vector y was passed when a 1d array was expected. Please change the shape of y to (n_samples, ), for example using ravel().\n",
      "  y = column_or_1d(y, warn=True)\n"
     ]
    }
   ],
   "source": [
    "print(\"Resampling dataset using SMOTE (SMO)...\")\n",
    "sm = SMOTE(random_state=42)\n",
    "X_SMO, y_SMO = sm.fit_resample(X_train, y_train)\n",
    "print(\"X and Y SMO:\", len(X_SMO), len(y_SMO))"
   ]
  },
  {
   "cell_type": "code",
   "execution_count": 31,
   "metadata": {},
   "outputs": [
    {
     "name": "stdout",
     "output_type": "stream",
     "text": [
      "CPU times: user 1e+03 ns, sys: 1e+03 ns, total: 2 µs\n",
      "Wall time: 3.58 µs\n",
      "\n",
      "LOGISTIC REGRESSION\n",
      "TRAIN AND VALIDATION SETS:\n",
      "1 of KFold 10\n",
      "ROC AUC score: 0.6441532258064515\n",
      "2 of KFold 10\n",
      "ROC AUC score: 0.6421370967741936\n",
      "3 of KFold 10\n",
      "ROC AUC score: 0.6612903225806451\n",
      "4 of KFold 10\n",
      "ROC AUC score: 0.6310483870967742\n",
      "5 of KFold 10\n",
      "ROC AUC score: 0.6636363636363637\n",
      "6 of KFold 10\n",
      "ROC AUC score: 0.6616161616161615\n",
      "7 of KFold 10\n",
      "ROC AUC score: 0.6626262626262627\n",
      "8 of KFold 10\n",
      "ROC AUC score: 0.6373737373737374\n",
      "9 of KFold 10\n",
      "ROC AUC score: 0.6383838383838384\n",
      "10 of KFold 10\n",
      "ROC AUC score: 0.6282828282828283\n",
      "\n",
      "CROSS VALIDANTION SUMMARY:\n",
      "Mean: 0.6470548224177256\n",
      "Std deviation: 0.013199264067070988\n",
      "\n",
      "TEST SET:\n",
      "F1-Score(micro): 0.6716186939028165\n",
      "F1-Score(macro): 0.6467049983629107\n",
      "F1-Score(weighted): 0.6735641689624594\n",
      "F1-Score(None): [0.74052336 0.55288664]\n",
      "Accuracy: 0.6716186939028165\n",
      "Sensitivity: 0.5689505637467476\n",
      "Specificity: 0.7285851780558229\n",
      "Confusion Matrix: [0.7285851780558229, 0.57]\n",
      "ROC AUC score: 0.6487678709012853\n",
      "CPU times: user 1.9 s, sys: 1.08 s, total: 2.98 s\n",
      "Wall time: 391 ms\n"
     ]
    }
   ],
   "source": [
    "%%time\n",
    "LogisticRegr_NoIloc(X_SMO, y_SMO, X_test, y_test)"
   ]
  },
  {
   "cell_type": "code",
   "execution_count": 32,
   "metadata": {},
   "outputs": [
    {
     "name": "stdout",
     "output_type": "stream",
     "text": [
      "CPU times: user 13 µs, sys: 0 ns, total: 13 µs\n",
      "Wall time: 3.58 µs\n",
      "\n",
      "DECISION TREE\n",
      "TRAIN AND VALIDATION SETS:\n",
      "1 of KFold 10\n",
      "ROC AUC score: 0.6118951612903225\n",
      "2 of KFold 10\n",
      "ROC AUC score: 0.6189516129032259\n",
      "3 of KFold 10\n",
      "ROC AUC score: 0.6159274193548387\n",
      "4 of KFold 10\n",
      "ROC AUC score: 0.6058467741935483\n",
      "5 of KFold 10\n",
      "ROC AUC score: 0.6515151515151515\n",
      "6 of KFold 10\n",
      "ROC AUC score: 0.7343434343434343\n",
      "7 of KFold 10\n",
      "ROC AUC score: 0.7747474747474747\n",
      "8 of KFold 10\n",
      "ROC AUC score: 0.797979797979798\n",
      "9 of KFold 10\n",
      "ROC AUC score: 0.7797979797979798\n",
      "10 of KFold 10\n",
      "ROC AUC score: 0.7444444444444445\n",
      "\n",
      "CROSS VALIDANTION SUMMARY:\n",
      "Mean: 0.6935449250570218\n",
      "Std deviation: 0.07543749499164923\n",
      "\n",
      "TEST SET:\n",
      "F1-Score(micro): 0.5790776849272671\n",
      "F1-Score(macro): 0.5635726544622426\n",
      "F1-Score(weighted): 0.587122988091385\n",
      "F1-Score(None): [0.64583333 0.48131198]\n",
      "Accuracy: 0.5790776849272671\n",
      "Sensitivity: 0.5472679965307893\n",
      "Specificity: 0.5967276227141483\n",
      "Confusion Matrix: [0.5967276227141483, 0.55]\n",
      "ROC AUC score: 0.5719978096224687\n",
      "CPU times: user 588 ms, sys: 135 ms, total: 723 ms\n",
      "Wall time: 348 ms\n"
     ]
    }
   ],
   "source": [
    "%%time\n",
    "DecisionTree_NoIloc(X_SMO, y_SMO, X_test, y_test)"
   ]
  },
  {
   "cell_type": "code",
   "execution_count": 33,
   "metadata": {},
   "outputs": [
    {
     "name": "stdout",
     "output_type": "stream",
     "text": [
      "CPU times: user 2 µs, sys: 0 ns, total: 2 µs\n",
      "Wall time: 2.62 µs\n",
      "RANDOM FOREST\n",
      "TRAIN AND VALIDATION SETS:\n",
      "1 of KFold 10\n",
      "ROC AUC score: 0.6280241935483872\n",
      "2 of KFold 10\n",
      "ROC AUC score: 0.6461693548387097\n",
      "3 of KFold 10\n",
      "ROC AUC score: 0.6663306451612904\n",
      "4 of KFold 10\n",
      "ROC AUC score: 0.6310483870967741\n",
      "5 of KFold 10\n",
      "ROC AUC score: 0.6676767676767676\n",
      "6 of KFold 10\n",
      "ROC AUC score: 0.8050505050505049\n",
      "7 of KFold 10\n",
      "ROC AUC score: 0.8272727272727273\n",
      "8 of KFold 10\n",
      "ROC AUC score: 0.8575757575757574\n",
      "9 of KFold 10\n",
      "ROC AUC score: 0.8282828282828283\n",
      "10 of KFold 10\n",
      "ROC AUC score: 0.8303030303030303\n",
      "\n",
      "CROSS VALIDANTION SUMMARY:\n",
      "Mean: 0.7387734196806777\n",
      "Std deviation: 0.09245358559477619\n",
      "\n",
      "TEST SET:\n",
      "F1-Score(micro): 0.6103373568554628\n",
      "F1-Score(macro): 0.6000575949138716\n",
      "F1-Score(weighted): 0.6184143126667128\n",
      "F1-Score(None): [0.66417711 0.53593808]\n",
      "Accuracy: 0.6103373568554628\n",
      "Sensitivity: 0.6305290546400694\n",
      "Specificity: 0.5991337824831569\n",
      "Confusion Matrix: [0.5991337824831569, 0.63]\n",
      "ROC AUC score: 0.614831418561613\n",
      "CPU times: user 6.16 s, sys: 3.22 ms, total: 6.16 s\n",
      "Wall time: 6.15 s\n"
     ]
    }
   ],
   "source": [
    "%%time\n",
    "RandomForest_NoIloc(X_SMO, y_SMO, X_test, y_test)"
   ]
  },
  {
   "cell_type": "code",
   "execution_count": 34,
   "metadata": {},
   "outputs": [
    {
     "name": "stdout",
     "output_type": "stream",
     "text": [
      "CPU times: user 2 µs, sys: 0 ns, total: 2 µs\n",
      "Wall time: 2.62 µs\n",
      "NEURAL NETWORK\n",
      "TRAIN AND VALIDATION SETS:\n",
      "1 of KFold 10\n"
     ]
    },
    {
     "name": "stderr",
     "output_type": "stream",
     "text": [
      "/usr/local/lib/python3.6/dist-packages/sklearn/neural_network/multilayer_perceptron.py:566: ConvergenceWarning: Stochastic Optimizer: Maximum iterations (200) reached and the optimization hasn't converged yet.\n",
      "  % self.max_iter, ConvergenceWarning)\n"
     ]
    },
    {
     "name": "stdout",
     "output_type": "stream",
     "text": [
      "ROC AUC score: 0.6693548387096774\n",
      "2 of KFold 10\n"
     ]
    },
    {
     "name": "stderr",
     "output_type": "stream",
     "text": [
      "/usr/local/lib/python3.6/dist-packages/sklearn/neural_network/multilayer_perceptron.py:566: ConvergenceWarning: Stochastic Optimizer: Maximum iterations (200) reached and the optimization hasn't converged yet.\n",
      "  % self.max_iter, ConvergenceWarning)\n"
     ]
    },
    {
     "name": "stdout",
     "output_type": "stream",
     "text": [
      "ROC AUC score: 0.6663306451612903\n",
      "3 of KFold 10\n"
     ]
    },
    {
     "name": "stderr",
     "output_type": "stream",
     "text": [
      "/usr/local/lib/python3.6/dist-packages/sklearn/neural_network/multilayer_perceptron.py:566: ConvergenceWarning: Stochastic Optimizer: Maximum iterations (200) reached and the optimization hasn't converged yet.\n",
      "  % self.max_iter, ConvergenceWarning)\n"
     ]
    },
    {
     "name": "stdout",
     "output_type": "stream",
     "text": [
      "ROC AUC score: 0.6955645161290321\n",
      "4 of KFold 10\n"
     ]
    },
    {
     "name": "stderr",
     "output_type": "stream",
     "text": [
      "/usr/local/lib/python3.6/dist-packages/sklearn/neural_network/multilayer_perceptron.py:566: ConvergenceWarning: Stochastic Optimizer: Maximum iterations (200) reached and the optimization hasn't converged yet.\n",
      "  % self.max_iter, ConvergenceWarning)\n"
     ]
    },
    {
     "name": "stdout",
     "output_type": "stream",
     "text": [
      "ROC AUC score: 0.6774193548387096\n",
      "5 of KFold 10\n"
     ]
    },
    {
     "name": "stderr",
     "output_type": "stream",
     "text": [
      "/usr/local/lib/python3.6/dist-packages/sklearn/neural_network/multilayer_perceptron.py:566: ConvergenceWarning: Stochastic Optimizer: Maximum iterations (200) reached and the optimization hasn't converged yet.\n",
      "  % self.max_iter, ConvergenceWarning)\n"
     ]
    },
    {
     "name": "stdout",
     "output_type": "stream",
     "text": [
      "ROC AUC score: 0.705050505050505\n",
      "6 of KFold 10\n"
     ]
    },
    {
     "name": "stderr",
     "output_type": "stream",
     "text": [
      "/usr/local/lib/python3.6/dist-packages/sklearn/neural_network/multilayer_perceptron.py:566: ConvergenceWarning: Stochastic Optimizer: Maximum iterations (200) reached and the optimization hasn't converged yet.\n",
      "  % self.max_iter, ConvergenceWarning)\n"
     ]
    },
    {
     "name": "stdout",
     "output_type": "stream",
     "text": [
      "ROC AUC score: 0.692929292929293\n",
      "7 of KFold 10\n"
     ]
    },
    {
     "name": "stderr",
     "output_type": "stream",
     "text": [
      "/usr/local/lib/python3.6/dist-packages/sklearn/neural_network/multilayer_perceptron.py:566: ConvergenceWarning: Stochastic Optimizer: Maximum iterations (200) reached and the optimization hasn't converged yet.\n",
      "  % self.max_iter, ConvergenceWarning)\n"
     ]
    },
    {
     "name": "stdout",
     "output_type": "stream",
     "text": [
      "ROC AUC score: 0.6888888888888889\n",
      "8 of KFold 10\n"
     ]
    },
    {
     "name": "stderr",
     "output_type": "stream",
     "text": [
      "/usr/local/lib/python3.6/dist-packages/sklearn/neural_network/multilayer_perceptron.py:566: ConvergenceWarning: Stochastic Optimizer: Maximum iterations (200) reached and the optimization hasn't converged yet.\n",
      "  % self.max_iter, ConvergenceWarning)\n"
     ]
    },
    {
     "name": "stdout",
     "output_type": "stream",
     "text": [
      "ROC AUC score: 0.701010101010101\n",
      "9 of KFold 10\n"
     ]
    },
    {
     "name": "stderr",
     "output_type": "stream",
     "text": [
      "/usr/local/lib/python3.6/dist-packages/sklearn/neural_network/multilayer_perceptron.py:566: ConvergenceWarning: Stochastic Optimizer: Maximum iterations (200) reached and the optimization hasn't converged yet.\n",
      "  % self.max_iter, ConvergenceWarning)\n"
     ]
    },
    {
     "name": "stdout",
     "output_type": "stream",
     "text": [
      "ROC AUC score: 0.6797979797979797\n",
      "10 of KFold 10\n",
      "ROC AUC score: 0.6787878787878789\n",
      "\n",
      "CROSS VALIDANTION SUMMARY:\n",
      "Mean: 0.6855134001303356\n",
      "Std deviation: 0.012496999485782529\n",
      "\n",
      "TEST SET:\n",
      "F1-Score(micro): 0.6719281956050758\n",
      "F1-Score(macro): 0.6602510178005984\n",
      "F1-Score(weighted): 0.6782833875320534\n",
      "F1-Score(None): [0.7232376  0.59726444]\n",
      "Accuracy: 0.6719281956050758\n",
      "Sensitivity: 0.6816999132697311\n",
      "Specificity: 0.6665062560153994\n",
      "Confusion Matrix: [0.6665062560153994, 0.68]\n",
      "ROC AUC score: 0.6741030846425652\n",
      "CPU times: user 3min 30s, sys: 2min 3s, total: 5min 33s\n",
      "Wall time: 42.1 s\n"
     ]
    },
    {
     "name": "stderr",
     "output_type": "stream",
     "text": [
      "/usr/local/lib/python3.6/dist-packages/sklearn/neural_network/multilayer_perceptron.py:566: ConvergenceWarning: Stochastic Optimizer: Maximum iterations (200) reached and the optimization hasn't converged yet.\n",
      "  % self.max_iter, ConvergenceWarning)\n"
     ]
    }
   ],
   "source": [
    "%%time\n",
    "NN_NoIloc(X_SMO, y_SMO, X_test, y_test)"
   ]
  },
  {
   "cell_type": "code",
   "execution_count": 35,
   "metadata": {},
   "outputs": [
    {
     "name": "stdout",
     "output_type": "stream",
     "text": [
      "Resampling dataset using ADASYN (ADA)...\n",
      "X and Y ADA: 9827 9827\n"
     ]
    },
    {
     "name": "stderr",
     "output_type": "stream",
     "text": [
      "/usr/local/lib/python3.6/dist-packages/sklearn/utils/validation.py:724: DataConversionWarning: A column-vector y was passed when a 1d array was expected. Please change the shape of y to (n_samples, ), for example using ravel().\n",
      "  y = column_or_1d(y, warn=True)\n"
     ]
    }
   ],
   "source": [
    "print(\"Resampling dataset using ADASYN (ADA)...\")\n",
    "ada = ADASYN(random_state=42)\n",
    "X_ADA, y_ADA = ada.fit_resample(X_train, y_train)\n",
    "print(\"X and Y ADA:\", len(X_ADA), len(y_ADA))"
   ]
  },
  {
   "cell_type": "code",
   "execution_count": 36,
   "metadata": {},
   "outputs": [
    {
     "name": "stdout",
     "output_type": "stream",
     "text": [
      "CPU times: user 1e+03 ns, sys: 1e+03 ns, total: 2 µs\n",
      "Wall time: 2.62 µs\n",
      "\n",
      "LOGISTIC REGRESSION\n",
      "TRAIN AND VALIDATION SETS:\n",
      "1 of KFold 10\n",
      "ROC AUC score: 0.6394103648863035\n",
      "2 of KFold 10\n",
      "ROC AUC score: 0.6456901110523532\n",
      "3 of KFold 10\n",
      "ROC AUC score: 0.6620174510840825\n",
      "4 of KFold 10\n",
      "ROC AUC score: 0.6310752964165065\n",
      "5 of KFold 10\n",
      "ROC AUC score: 0.6522037624707029\n",
      "6 of KFold 10\n",
      "ROC AUC score: 0.5935328645800925\n",
      "7 of KFold 10\n",
      "ROC AUC score: 0.6006865368261672\n",
      "8 of KFold 10\n",
      "ROC AUC score: 0.6139671872731419\n",
      "9 of KFold 10\n",
      "ROC AUC score: 0.5894260883993943\n",
      "10 of KFold 10\n",
      "ROC AUC score: 0.5835645987596707\n",
      "\n",
      "CROSS VALIDANTION SUMMARY:\n",
      "Mean: 0.6211574261748416\n",
      "Std deviation: 0.027056930538387577\n",
      "\n",
      "TEST SET:\n",
      "F1-Score(micro): 0.6675951717734447\n",
      "F1-Score(macro): 0.6464023689380538\n",
      "F1-Score(weighted): 0.6711853558188839\n",
      "F1-Score(None): [0.73296867 0.55983607]\n",
      "Accuracy: 0.6675951717734447\n",
      "Sensitivity: 0.5923677363399826\n",
      "Specificity: 0.7093358999037536\n",
      "Confusion Matrix: [0.7093358999037536, 0.59]\n",
      "ROC AUC score: 0.6508518181218681\n",
      "CPU times: user 1.78 s, sys: 1.09 s, total: 2.87 s\n",
      "Wall time: 372 ms\n"
     ]
    }
   ],
   "source": [
    "%%time\n",
    "LogisticRegr_NoIloc(X_ADA, y_ADA, X_test, y_test)"
   ]
  },
  {
   "cell_type": "code",
   "execution_count": 37,
   "metadata": {},
   "outputs": [
    {
     "name": "stdout",
     "output_type": "stream",
     "text": [
      "CPU times: user 8 µs, sys: 5 µs, total: 13 µs\n",
      "Wall time: 3.58 µs\n",
      "\n",
      "DECISION TREE\n",
      "TRAIN AND VALIDATION SETS:\n",
      "1 of KFold 10\n",
      "ROC AUC score: 0.5936838974087785\n",
      "2 of KFold 10\n",
      "ROC AUC score: 0.5965758857747223\n",
      "3 of KFold 10\n",
      "ROC AUC score: 0.5805294817556849\n",
      "4 of KFold 10\n",
      "ROC AUC score: 0.6114563323839173\n",
      "5 of KFold 10\n",
      "ROC AUC score: 0.614249268869392\n",
      "6 of KFold 10\n",
      "ROC AUC score: 0.7049136125111485\n",
      "7 of KFold 10\n",
      "ROC AUC score: 0.74904486341858\n",
      "8 of KFold 10\n",
      "ROC AUC score: 0.7797627195984486\n",
      "9 of KFold 10\n",
      "ROC AUC score: 0.7584676332109597\n",
      "10 of KFold 10\n",
      "ROC AUC score: 0.7298197581565138\n",
      "\n",
      "CROSS VALIDANTION SUMMARY:\n",
      "Mean: 0.6718503453088145\n",
      "Std deviation: 0.0752604278078785\n",
      "\n",
      "TEST SET:\n",
      "F1-Score(micro): 0.5756731662024142\n",
      "F1-Score(macro): 0.5657673981447507\n",
      "F1-Score(weighted): 0.5845437003032314\n",
      "F1-Score(None): [0.63135251 0.50018228]\n",
      "Accuracy: 0.5756731662024142\n",
      "Sensitivity: 0.5949696444058976\n",
      "Specificity: 0.5649663137632339\n",
      "Confusion Matrix: [0.5649663137632339, 0.59]\n",
      "ROC AUC score: 0.5799679790845658\n",
      "CPU times: user 573 ms, sys: 143 ms, total: 716 ms\n",
      "Wall time: 349 ms\n"
     ]
    }
   ],
   "source": [
    "%%time\n",
    "DecisionTree_NoIloc(X_ADA, y_ADA, X_test, y_test)"
   ]
  },
  {
   "cell_type": "code",
   "execution_count": 38,
   "metadata": {},
   "outputs": [
    {
     "name": "stdout",
     "output_type": "stream",
     "text": [
      "CPU times: user 2 µs, sys: 0 ns, total: 2 µs\n",
      "Wall time: 2.38 µs\n",
      "RANDOM FOREST\n",
      "TRAIN AND VALIDATION SETS:\n",
      "1 of KFold 10\n",
      "ROC AUC score: 0.6354111581173981\n",
      "2 of KFold 10\n",
      "ROC AUC score: 0.6546635378106822\n",
      "3 of KFold 10\n",
      "ROC AUC score: 0.6569275515600213\n",
      "4 of KFold 10\n",
      "ROC AUC score: 0.6449087567066305\n",
      "5 of KFold 10\n",
      "ROC AUC score: 0.6774562877232282\n",
      "6 of KFold 10\n",
      "ROC AUC score: 0.7916350361935577\n",
      "7 of KFold 10\n",
      "ROC AUC score: 0.8246053968846576\n",
      "8 of KFold 10\n",
      "ROC AUC score: 0.8420260095824779\n",
      "9 of KFold 10\n",
      "ROC AUC score: 0.8124509986932985\n",
      "10 of KFold 10\n",
      "ROC AUC score: 0.825847800385788\n",
      "\n",
      "CROSS VALIDANTION SUMMARY:\n",
      "Mean: 0.7365932533657741\n",
      "Std deviation: 0.08415029376304324\n",
      "\n",
      "TEST SET:\n",
      "F1-Score(micro): 0.6168368926029093\n",
      "F1-Score(macro): 0.6080786026200873\n",
      "F1-Score(weighted): 0.624851725257997\n",
      "F1-Score(None): [0.66666667 0.54949054]\n",
      "Accuracy: 0.6168368926029093\n",
      "Sensitivity: 0.6548135299219427\n",
      "Specificity: 0.5957651588065448\n",
      "Confusion Matrix: [0.5957651588065448, 0.65]\n",
      "ROC AUC score: 0.6252893443642437\n",
      "CPU times: user 6.19 s, sys: 3.44 ms, total: 6.2 s\n",
      "Wall time: 6.18 s\n"
     ]
    }
   ],
   "source": [
    "%%time\n",
    "RandomForest_NoIloc(X_ADA, y_ADA, X_test, y_test)"
   ]
  },
  {
   "cell_type": "code",
   "execution_count": 39,
   "metadata": {},
   "outputs": [
    {
     "name": "stdout",
     "output_type": "stream",
     "text": [
      "CPU times: user 2 µs, sys: 0 ns, total: 2 µs\n",
      "Wall time: 2.38 µs\n",
      "NEURAL NETWORK\n",
      "TRAIN AND VALIDATION SETS:\n",
      "1 of KFold 10\n"
     ]
    },
    {
     "name": "stderr",
     "output_type": "stream",
     "text": [
      "/usr/local/lib/python3.6/dist-packages/sklearn/neural_network/multilayer_perceptron.py:566: ConvergenceWarning: Stochastic Optimizer: Maximum iterations (200) reached and the optimization hasn't converged yet.\n",
      "  % self.max_iter, ConvergenceWarning)\n"
     ]
    },
    {
     "name": "stdout",
     "output_type": "stream",
     "text": [
      "ROC AUC score: 0.6728913273400317\n",
      "2 of KFold 10\n"
     ]
    },
    {
     "name": "stderr",
     "output_type": "stream",
     "text": [
      "/usr/local/lib/python3.6/dist-packages/sklearn/neural_network/multilayer_perceptron.py:566: ConvergenceWarning: Stochastic Optimizer: Maximum iterations (200) reached and the optimization hasn't converged yet.\n",
      "  % self.max_iter, ConvergenceWarning)\n"
     ]
    },
    {
     "name": "stdout",
     "output_type": "stream",
     "text": [
      "ROC AUC score: 0.6718502115282919\n",
      "3 of KFold 10\n"
     ]
    },
    {
     "name": "stderr",
     "output_type": "stream",
     "text": [
      "/usr/local/lib/python3.6/dist-packages/sklearn/neural_network/multilayer_perceptron.py:566: ConvergenceWarning: Stochastic Optimizer: Maximum iterations (200) reached and the optimization hasn't converged yet.\n",
      "  % self.max_iter, ConvergenceWarning)\n"
     ]
    },
    {
     "name": "stdout",
     "output_type": "stream",
     "text": [
      "ROC AUC score: 0.6964403754627182\n",
      "4 of KFold 10\n",
      "ROC AUC score: 0.6667280751142611\n",
      "5 of KFold 10\n"
     ]
    },
    {
     "name": "stderr",
     "output_type": "stream",
     "text": [
      "/usr/local/lib/python3.6/dist-packages/sklearn/neural_network/multilayer_perceptron.py:566: ConvergenceWarning: Stochastic Optimizer: Maximum iterations (200) reached and the optimization hasn't converged yet.\n",
      "  % self.max_iter, ConvergenceWarning)\n"
     ]
    },
    {
     "name": "stdout",
     "output_type": "stream",
     "text": [
      "ROC AUC score: 0.6952585402277395\n",
      "6 of KFold 10\n"
     ]
    },
    {
     "name": "stderr",
     "output_type": "stream",
     "text": [
      "/usr/local/lib/python3.6/dist-packages/sklearn/neural_network/multilayer_perceptron.py:566: ConvergenceWarning: Stochastic Optimizer: Maximum iterations (200) reached and the optimization hasn't converged yet.\n",
      "  % self.max_iter, ConvergenceWarning)\n"
     ]
    },
    {
     "name": "stdout",
     "output_type": "stream",
     "text": [
      "ROC AUC score: 0.643146039449941\n",
      "7 of KFold 10\n"
     ]
    },
    {
     "name": "stderr",
     "output_type": "stream",
     "text": [
      "/usr/local/lib/python3.6/dist-packages/sklearn/neural_network/multilayer_perceptron.py:566: ConvergenceWarning: Stochastic Optimizer: Maximum iterations (200) reached and the optimization hasn't converged yet.\n",
      "  % self.max_iter, ConvergenceWarning)\n"
     ]
    },
    {
     "name": "stdout",
     "output_type": "stream",
     "text": [
      "ROC AUC score: 0.6272001327442805\n",
      "8 of KFold 10\n"
     ]
    },
    {
     "name": "stderr",
     "output_type": "stream",
     "text": [
      "/usr/local/lib/python3.6/dist-packages/sklearn/neural_network/multilayer_perceptron.py:566: ConvergenceWarning: Stochastic Optimizer: Maximum iterations (200) reached and the optimization hasn't converged yet.\n",
      "  % self.max_iter, ConvergenceWarning)\n"
     ]
    },
    {
     "name": "stdout",
     "output_type": "stream",
     "text": [
      "ROC AUC score: 0.6657664945139278\n",
      "9 of KFold 10\n"
     ]
    },
    {
     "name": "stderr",
     "output_type": "stream",
     "text": [
      "/usr/local/lib/python3.6/dist-packages/sklearn/neural_network/multilayer_perceptron.py:566: ConvergenceWarning: Stochastic Optimizer: Maximum iterations (200) reached and the optimization hasn't converged yet.\n",
      "  % self.max_iter, ConvergenceWarning)\n"
     ]
    },
    {
     "name": "stdout",
     "output_type": "stream",
     "text": [
      "ROC AUC score: 0.6301474705992159\n",
      "10 of KFold 10\n",
      "ROC AUC score: 0.6302802148798041\n",
      "\n",
      "CROSS VALIDANTION SUMMARY:\n",
      "Mean: 0.6599708881860211\n",
      "Std deviation: 0.0246789725330783\n",
      "\n",
      "TEST SET:\n",
      "F1-Score(micro): 0.6682141751779634\n",
      "F1-Score(macro): 0.6575178081975058\n",
      "F1-Score(weighted): 0.6748455480520125\n",
      "F1-Score(None): [0.71804314 0.59699248]\n",
      "Accuracy: 0.6682141751779634\n",
      "Sensitivity: 0.6886383347788378\n",
      "Specificity: 0.6568816169393648\n",
      "Confusion Matrix: [0.6568816169393648, 0.69]\n",
      "ROC AUC score: 0.6727599758591014\n",
      "CPU times: user 3min 26s, sys: 2min, total: 5min 26s\n",
      "Wall time: 41.1 s\n"
     ]
    },
    {
     "name": "stderr",
     "output_type": "stream",
     "text": [
      "/usr/local/lib/python3.6/dist-packages/sklearn/neural_network/multilayer_perceptron.py:566: ConvergenceWarning: Stochastic Optimizer: Maximum iterations (200) reached and the optimization hasn't converged yet.\n",
      "  % self.max_iter, ConvergenceWarning)\n"
     ]
    }
   ],
   "source": [
    "%%time\n",
    "NN_NoIloc(X_ADA, y_ADA, X_test, y_test)"
   ]
  }
 ],
 "metadata": {
  "kernelspec": {
   "display_name": "Python 3",
   "language": "python",
   "name": "python3"
  },
  "language_info": {
   "codemirror_mode": {
    "name": "ipython",
    "version": 3
   },
   "file_extension": ".py",
   "mimetype": "text/x-python",
   "name": "python",
   "nbconvert_exporter": "python",
   "pygments_lexer": "ipython3",
   "version": "3.6.8"
  }
 },
 "nbformat": 4,
 "nbformat_minor": 2
}
