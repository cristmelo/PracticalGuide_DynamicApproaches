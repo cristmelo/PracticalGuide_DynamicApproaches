{
 "cells": [
  {
   "cell_type": "code",
   "execution_count": 1,
   "metadata": {},
   "outputs": [
    {
     "name": "stderr",
     "output_type": "stream",
     "text": [
      "Using TensorFlow backend.\n"
     ]
    }
   ],
   "source": [
    "%run auxiliary.ipynb"
   ]
  },
  {
   "cell_type": "markdown",
   "metadata": {},
   "source": [
    "## Preprocessing"
   ]
  },
  {
   "cell_type": "code",
   "execution_count": 2,
   "metadata": {
    "scrolled": true
   },
   "outputs": [
    {
     "name": "stdout",
     "output_type": "stream",
     "text": [
      "Setting general dataframe...\n",
      "Total of instances: 130773\n",
      "... DONE!\n",
      "Filtering required columns into X features...\n",
      "... DONE!\n",
      "Setting y column containing label of change-proneness...\n",
      "... DONE!\n",
      "Declaring a dictionary to save results...\n",
      "... DONE!\n",
      "Splitting dataset into train and test sets...\n",
      "General information:\n",
      "X Train set: 91541 X Test set: 39232\n",
      "y Train set: 91541 y Test set: 39232\n",
      "... DONE!\n",
      "Scaling features...\n",
      "... DONE!\n",
      "Setting stratified k-fold...\n",
      "k = 10\n",
      "... DONE!\n",
      "\n"
     ]
    }
   ],
   "source": [
    "print(\"Setting general dataframe...\")\n",
    "all_releases_df = pd.read_csv('all_releases.csv')\n",
    "print(\"Total of instances:\", all_releases_df.shape[0])\n",
    "print(\"... DONE!\")\n",
    "\n",
    "print(\"Filtering required columns into X features...\")\n",
    "X = all_releases_df.drop(columns=['File', 'Kind', 'Name','Path', 'class_frequency', 'number_of_changes', 'release', 'will_change'])\n",
    "print(\"... DONE!\")\n",
    "\n",
    "print(\"Setting y column containing label of change-proneness...\")\n",
    "y = pd.DataFrame(all_releases_df.loc[:,'will_change'])\n",
    "print(\"... DONE!\")\n",
    "\n",
    "print(\"Declaring a dictionary to save results...\")\n",
    "results_dict = dict()\n",
    "print(\"... DONE!\")\n",
    "\n",
    "print(\"Splitting dataset into train and test sets...\")\n",
    "X_train, X_test, y_train, y_test = train_test_split(X, y, test_size=0.30, random_state=42)\n",
    "print(\"General information:\")\n",
    "print(\"X Train set:\", X_train.shape[0], \"X Test set:\", X_test.shape[0])\n",
    "print(\"y Train set:\", y_train.shape[0], \"y Test set:\", y_test.shape[0])\n",
    "print(\"... DONE!\")\n",
    "\n",
    "print(\"Scaling features...\")\n",
    "scaler = MinMaxScaler()\n",
    "X_train = pd.DataFrame(scaler.fit_transform(X_train))\n",
    "X_test = pd.DataFrame(scaler.fit_transform(X_test))\n",
    "print(\"... DONE!\")\n",
    "\n",
    "print(\"Setting stratified k-fold...\")\n",
    "k=10\n",
    "kf = StratifiedKFold(n_splits=k, shuffle=False, random_state=42)\n",
    "print(\"k =\", k)\n",
    "print(\"... DONE!\\n\")"
   ]
  },
  {
   "cell_type": "markdown",
   "metadata": {},
   "source": [
    "## Statistical Analysis"
   ]
  },
  {
   "cell_type": "code",
   "execution_count": 3,
   "metadata": {},
   "outputs": [
    {
     "data": {
      "text/html": [
       "<div>\n",
       "<style scoped>\n",
       "    .dataframe tbody tr th:only-of-type {\n",
       "        vertical-align: middle;\n",
       "    }\n",
       "\n",
       "    .dataframe tbody tr th {\n",
       "        vertical-align: top;\n",
       "    }\n",
       "\n",
       "    .dataframe thead th {\n",
       "        text-align: right;\n",
       "    }\n",
       "</style>\n",
       "<table border=\"1\" class=\"dataframe\">\n",
       "  <thead>\n",
       "    <tr style=\"text-align: right;\">\n",
       "      <th></th>\n",
       "      <th>CountClassCoupled</th>\n",
       "      <th>CountDeclMethod</th>\n",
       "      <th>CountDeclMethodAll</th>\n",
       "      <th>CountClassDerived</th>\n",
       "      <th>CountLineCode</th>\n",
       "      <th>SumCyclomatic</th>\n",
       "      <th>PercentLackOfCohesion</th>\n",
       "      <th>MaxInheritanceTree</th>\n",
       "      <th>class_frequency</th>\n",
       "      <th>will_change</th>\n",
       "      <th>number_of_changes</th>\n",
       "      <th>release</th>\n",
       "    </tr>\n",
       "  </thead>\n",
       "  <tbody>\n",
       "    <tr>\n",
       "      <th>count</th>\n",
       "      <td>130773.000000</td>\n",
       "      <td>130773.000000</td>\n",
       "      <td>130773.000000</td>\n",
       "      <td>130773.000000</td>\n",
       "      <td>130773.000000</td>\n",
       "      <td>130773.000000</td>\n",
       "      <td>130773.000000</td>\n",
       "      <td>130773.000000</td>\n",
       "      <td>130773.000000</td>\n",
       "      <td>130773.000000</td>\n",
       "      <td>130773.000000</td>\n",
       "      <td>130773.000000</td>\n",
       "    </tr>\n",
       "    <tr>\n",
       "      <th>mean</th>\n",
       "      <td>5.747073</td>\n",
       "      <td>6.513707</td>\n",
       "      <td>10.989669</td>\n",
       "      <td>0.273352</td>\n",
       "      <td>103.106062</td>\n",
       "      <td>13.787349</td>\n",
       "      <td>20.578522</td>\n",
       "      <td>1.651251</td>\n",
       "      <td>11.395915</td>\n",
       "      <td>0.174707</td>\n",
       "      <td>27.325105</td>\n",
       "      <td>32.741315</td>\n",
       "    </tr>\n",
       "    <tr>\n",
       "      <th>std</th>\n",
       "      <td>8.658830</td>\n",
       "      <td>12.084357</td>\n",
       "      <td>17.917928</td>\n",
       "      <td>2.303381</td>\n",
       "      <td>754.576185</td>\n",
       "      <td>31.166179</td>\n",
       "      <td>30.626505</td>\n",
       "      <td>0.740645</td>\n",
       "      <td>10.388216</td>\n",
       "      <td>0.379718</td>\n",
       "      <td>15.532635</td>\n",
       "      <td>11.367734</td>\n",
       "    </tr>\n",
       "    <tr>\n",
       "      <th>min</th>\n",
       "      <td>0.000000</td>\n",
       "      <td>0.000000</td>\n",
       "      <td>0.000000</td>\n",
       "      <td>0.000000</td>\n",
       "      <td>0.000000</td>\n",
       "      <td>0.000000</td>\n",
       "      <td>0.000000</td>\n",
       "      <td>1.000000</td>\n",
       "      <td>1.000000</td>\n",
       "      <td>0.000000</td>\n",
       "      <td>0.000000</td>\n",
       "      <td>1.000000</td>\n",
       "    </tr>\n",
       "    <tr>\n",
       "      <th>25%</th>\n",
       "      <td>1.000000</td>\n",
       "      <td>1.000000</td>\n",
       "      <td>2.000000</td>\n",
       "      <td>0.000000</td>\n",
       "      <td>12.000000</td>\n",
       "      <td>2.000000</td>\n",
       "      <td>0.000000</td>\n",
       "      <td>1.000000</td>\n",
       "      <td>3.000000</td>\n",
       "      <td>0.000000</td>\n",
       "      <td>17.000000</td>\n",
       "      <td>25.000000</td>\n",
       "    </tr>\n",
       "    <tr>\n",
       "      <th>50%</th>\n",
       "      <td>3.000000</td>\n",
       "      <td>3.000000</td>\n",
       "      <td>4.000000</td>\n",
       "      <td>0.000000</td>\n",
       "      <td>32.000000</td>\n",
       "      <td>5.000000</td>\n",
       "      <td>0.000000</td>\n",
       "      <td>2.000000</td>\n",
       "      <td>8.000000</td>\n",
       "      <td>0.000000</td>\n",
       "      <td>31.000000</td>\n",
       "      <td>35.000000</td>\n",
       "    </tr>\n",
       "    <tr>\n",
       "      <th>75%</th>\n",
       "      <td>7.000000</td>\n",
       "      <td>6.000000</td>\n",
       "      <td>13.000000</td>\n",
       "      <td>0.000000</td>\n",
       "      <td>82.000000</td>\n",
       "      <td>13.000000</td>\n",
       "      <td>45.000000</td>\n",
       "      <td>2.000000</td>\n",
       "      <td>18.000000</td>\n",
       "      <td>0.000000</td>\n",
       "      <td>40.000000</td>\n",
       "      <td>42.000000</td>\n",
       "    </tr>\n",
       "    <tr>\n",
       "      <th>max</th>\n",
       "      <td>145.000000</td>\n",
       "      <td>294.000000</td>\n",
       "      <td>294.000000</td>\n",
       "      <td>116.000000</td>\n",
       "      <td>45517.000000</td>\n",
       "      <td>843.000000</td>\n",
       "      <td>100.000000</td>\n",
       "      <td>6.000000</td>\n",
       "      <td>49.000000</td>\n",
       "      <td>1.000000</td>\n",
       "      <td>49.000000</td>\n",
       "      <td>49.000000</td>\n",
       "    </tr>\n",
       "  </tbody>\n",
       "</table>\n",
       "</div>"
      ],
      "text/plain": [
       "       CountClassCoupled  CountDeclMethod  CountDeclMethodAll  \\\n",
       "count      130773.000000    130773.000000       130773.000000   \n",
       "mean            5.747073         6.513707           10.989669   \n",
       "std             8.658830        12.084357           17.917928   \n",
       "min             0.000000         0.000000            0.000000   \n",
       "25%             1.000000         1.000000            2.000000   \n",
       "50%             3.000000         3.000000            4.000000   \n",
       "75%             7.000000         6.000000           13.000000   \n",
       "max           145.000000       294.000000          294.000000   \n",
       "\n",
       "       CountClassDerived  CountLineCode  SumCyclomatic  PercentLackOfCohesion  \\\n",
       "count      130773.000000  130773.000000  130773.000000          130773.000000   \n",
       "mean            0.273352     103.106062      13.787349              20.578522   \n",
       "std             2.303381     754.576185      31.166179              30.626505   \n",
       "min             0.000000       0.000000       0.000000               0.000000   \n",
       "25%             0.000000      12.000000       2.000000               0.000000   \n",
       "50%             0.000000      32.000000       5.000000               0.000000   \n",
       "75%             0.000000      82.000000      13.000000              45.000000   \n",
       "max           116.000000   45517.000000     843.000000             100.000000   \n",
       "\n",
       "       MaxInheritanceTree  class_frequency    will_change  number_of_changes  \\\n",
       "count       130773.000000    130773.000000  130773.000000      130773.000000   \n",
       "mean             1.651251        11.395915       0.174707          27.325105   \n",
       "std              0.740645        10.388216       0.379718          15.532635   \n",
       "min              1.000000         1.000000       0.000000           0.000000   \n",
       "25%              1.000000         3.000000       0.000000          17.000000   \n",
       "50%              2.000000         8.000000       0.000000          31.000000   \n",
       "75%              2.000000        18.000000       0.000000          40.000000   \n",
       "max              6.000000        49.000000       1.000000          49.000000   \n",
       "\n",
       "             release  \n",
       "count  130773.000000  \n",
       "mean       32.741315  \n",
       "std        11.367734  \n",
       "min         1.000000  \n",
       "25%        25.000000  \n",
       "50%        35.000000  \n",
       "75%        42.000000  \n",
       "max        49.000000  "
      ]
     },
     "execution_count": 3,
     "metadata": {},
     "output_type": "execute_result"
    }
   ],
   "source": [
    "all_releases_df.describe()"
   ]
  },
  {
   "cell_type": "code",
   "execution_count": 4,
   "metadata": {},
   "outputs": [
    {
     "data": {
      "text/plain": [
       "will_change\n",
       "0    75616\n",
       "1    15925\n",
       "Name: will_change, dtype: int64"
      ]
     },
     "execution_count": 4,
     "metadata": {},
     "output_type": "execute_result"
    },
    {
     "data": {
      "image/png": "[encoded data removed]",
      "text/plain": [
       "<Figure size 360x360 with 1 Axes>"
      ]
     },
     "metadata": {},
     "output_type": "display_data"
    }
   ],
   "source": [
    "ax = y_train.groupby(['will_change'])['will_change'].count().plot.bar(title=\"Class Distribution\", figsize=(5,5))\n",
    "y_train.groupby(['will_change'])['will_change'].count()"
   ]
  },
  {
   "cell_type": "code",
   "execution_count": 5,
   "metadata": {},
   "outputs": [
    {
     "data": {
      "text/html": [
       "<style  type=\"text/css\" >\n",
       "    #T_6f7460ae_1da4_11ea_95e7_e0d55eb0dab9row0_col0 {\n",
       "            background-color:  #b40426;\n",
       "            color:  #f1f1f1;\n",
       "        }    #T_6f7460ae_1da4_11ea_95e7_e0d55eb0dab9row0_col1 {\n",
       "            background-color:  #d9dce1;\n",
       "            color:  #000000;\n",
       "        }    #T_6f7460ae_1da4_11ea_95e7_e0d55eb0dab9row0_col2 {\n",
       "            background-color:  #c9d7f0;\n",
       "            color:  #000000;\n",
       "        }    #T_6f7460ae_1da4_11ea_95e7_e0d55eb0dab9row0_col3 {\n",
       "            background-color:  #536edd;\n",
       "            color:  #000000;\n",
       "        }    #T_6f7460ae_1da4_11ea_95e7_e0d55eb0dab9row0_col4 {\n",
       "            background-color:  #f0cdbb;\n",
       "            color:  #000000;\n",
       "        }    #T_6f7460ae_1da4_11ea_95e7_e0d55eb0dab9row0_col5 {\n",
       "            background-color:  #e9d5cb;\n",
       "            color:  #000000;\n",
       "        }    #T_6f7460ae_1da4_11ea_95e7_e0d55eb0dab9row0_col6 {\n",
       "            background-color:  #aec9fc;\n",
       "            color:  #000000;\n",
       "        }    #T_6f7460ae_1da4_11ea_95e7_e0d55eb0dab9row0_col7 {\n",
       "            background-color:  #3b4cc0;\n",
       "            color:  #f1f1f1;\n",
       "        }    #T_6f7460ae_1da4_11ea_95e7_e0d55eb0dab9row1_col0 {\n",
       "            background-color:  #ebd3c6;\n",
       "            color:  #000000;\n",
       "        }    #T_6f7460ae_1da4_11ea_95e7_e0d55eb0dab9row1_col1 {\n",
       "            background-color:  #b40426;\n",
       "            color:  #f1f1f1;\n",
       "        }    #T_6f7460ae_1da4_11ea_95e7_e0d55eb0dab9row1_col2 {\n",
       "            background-color:  #e8765c;\n",
       "            color:  #000000;\n",
       "        }    #T_6f7460ae_1da4_11ea_95e7_e0d55eb0dab9row1_col3 {\n",
       "            background-color:  #a7c5fe;\n",
       "            color:  #000000;\n",
       "        }    #T_6f7460ae_1da4_11ea_95e7_e0d55eb0dab9row1_col4 {\n",
       "            background-color:  #e16751;\n",
       "            color:  #000000;\n",
       "        }    #T_6f7460ae_1da4_11ea_95e7_e0d55eb0dab9row1_col5 {\n",
       "            background-color:  #de614d;\n",
       "            color:  #000000;\n",
       "        }    #T_6f7460ae_1da4_11ea_95e7_e0d55eb0dab9row1_col6 {\n",
       "            background-color:  #f6a283;\n",
       "            color:  #000000;\n",
       "        }    #T_6f7460ae_1da4_11ea_95e7_e0d55eb0dab9row1_col7 {\n",
       "            background-color:  #3b4cc0;\n",
       "            color:  #f1f1f1;\n",
       "        }    #T_6f7460ae_1da4_11ea_95e7_e0d55eb0dab9row2_col0 {\n",
       "            background-color:  #a1c0ff;\n",
       "            color:  #000000;\n",
       "        }    #T_6f7460ae_1da4_11ea_95e7_e0d55eb0dab9row2_col1 {\n",
       "            background-color:  #f39577;\n",
       "            color:  #000000;\n",
       "        }    #T_6f7460ae_1da4_11ea_95e7_e0d55eb0dab9row2_col2 {\n",
       "            background-color:  #b40426;\n",
       "            color:  #f1f1f1;\n",
       "        }    #T_6f7460ae_1da4_11ea_95e7_e0d55eb0dab9row2_col3 {\n",
       "            background-color:  #3b4cc0;\n",
       "            color:  #f1f1f1;\n",
       "        }    #T_6f7460ae_1da4_11ea_95e7_e0d55eb0dab9row2_col4 {\n",
       "            background-color:  #f3c8b2;\n",
       "            color:  #000000;\n",
       "        }    #T_6f7460ae_1da4_11ea_95e7_e0d55eb0dab9row2_col5 {\n",
       "            background-color:  #f2cab5;\n",
       "            color:  #000000;\n",
       "        }    #T_6f7460ae_1da4_11ea_95e7_e0d55eb0dab9row2_col6 {\n",
       "            background-color:  #cfdaea;\n",
       "            color:  #000000;\n",
       "        }    #T_6f7460ae_1da4_11ea_95e7_e0d55eb0dab9row2_col7 {\n",
       "            background-color:  #3b4cc0;\n",
       "            color:  #f1f1f1;\n",
       "        }    #T_6f7460ae_1da4_11ea_95e7_e0d55eb0dab9row3_col0 {\n",
       "            background-color:  #5977e3;\n",
       "            color:  #000000;\n",
       "        }    #T_6f7460ae_1da4_11ea_95e7_e0d55eb0dab9row3_col1 {\n",
       "            background-color:  #85a8fc;\n",
       "            color:  #000000;\n",
       "        }    #T_6f7460ae_1da4_11ea_95e7_e0d55eb0dab9row3_col2 {\n",
       "            background-color:  #7a9df8;\n",
       "            color:  #000000;\n",
       "        }    #T_6f7460ae_1da4_11ea_95e7_e0d55eb0dab9row3_col3 {\n",
       "            background-color:  #b40426;\n",
       "            color:  #f1f1f1;\n",
       "        }    #T_6f7460ae_1da4_11ea_95e7_e0d55eb0dab9row3_col4 {\n",
       "            background-color:  #6f92f3;\n",
       "            color:  #000000;\n",
       "        }    #T_6f7460ae_1da4_11ea_95e7_e0d55eb0dab9row3_col5 {\n",
       "            background-color:  #6a8bef;\n",
       "            color:  #000000;\n",
       "        }    #T_6f7460ae_1da4_11ea_95e7_e0d55eb0dab9row3_col6 {\n",
       "            background-color:  #7da0f9;\n",
       "            color:  #000000;\n",
       "        }    #T_6f7460ae_1da4_11ea_95e7_e0d55eb0dab9row3_col7 {\n",
       "            background-color:  #3b4cc0;\n",
       "            color:  #f1f1f1;\n",
       "        }    #T_6f7460ae_1da4_11ea_95e7_e0d55eb0dab9row4_col0 {\n",
       "            background-color:  #f5c0a7;\n",
       "            color:  #000000;\n",
       "        }    #T_6f7460ae_1da4_11ea_95e7_e0d55eb0dab9row4_col1 {\n",
       "            background-color:  #e26952;\n",
       "            color:  #000000;\n",
       "        }    #T_6f7460ae_1da4_11ea_95e7_e0d55eb0dab9row4_col2 {\n",
       "            background-color:  #f6a586;\n",
       "            color:  #000000;\n",
       "        }    #T_6f7460ae_1da4_11ea_95e7_e0d55eb0dab9row4_col3 {\n",
       "            background-color:  #8fb1fe;\n",
       "            color:  #000000;\n",
       "        }    #T_6f7460ae_1da4_11ea_95e7_e0d55eb0dab9row4_col4 {\n",
       "            background-color:  #b40426;\n",
       "            color:  #f1f1f1;\n",
       "        }    #T_6f7460ae_1da4_11ea_95e7_e0d55eb0dab9row4_col5 {\n",
       "            background-color:  #d44e41;\n",
       "            color:  #000000;\n",
       "        }    #T_6f7460ae_1da4_11ea_95e7_e0d55eb0dab9row4_col6 {\n",
       "            background-color:  #f7ba9f;\n",
       "            color:  #000000;\n",
       "        }    #T_6f7460ae_1da4_11ea_95e7_e0d55eb0dab9row4_col7 {\n",
       "            background-color:  #3b4cc0;\n",
       "            color:  #f1f1f1;\n",
       "        }    #T_6f7460ae_1da4_11ea_95e7_e0d55eb0dab9row5_col0 {\n",
       "            background-color:  #f1ccb8;\n",
       "            color:  #000000;\n",
       "        }    #T_6f7460ae_1da4_11ea_95e7_e0d55eb0dab9row5_col1 {\n",
       "            background-color:  #e0654f;\n",
       "            color:  #000000;\n",
       "        }    #T_6f7460ae_1da4_11ea_95e7_e0d55eb0dab9row5_col2 {\n",
       "            background-color:  #f7a98b;\n",
       "            color:  #000000;\n",
       "        }    #T_6f7460ae_1da4_11ea_95e7_e0d55eb0dab9row5_col3 {\n",
       "            background-color:  #82a6fb;\n",
       "            color:  #000000;\n",
       "        }    #T_6f7460ae_1da4_11ea_95e7_e0d55eb0dab9row5_col4 {\n",
       "            background-color:  #d55042;\n",
       "            color:  #000000;\n",
       "        }    #T_6f7460ae_1da4_11ea_95e7_e0d55eb0dab9row5_col5 {\n",
       "            background-color:  #b40426;\n",
       "            color:  #f1f1f1;\n",
       "        }    #T_6f7460ae_1da4_11ea_95e7_e0d55eb0dab9row5_col6 {\n",
       "            background-color:  #f5c0a7;\n",
       "            color:  #000000;\n",
       "        }    #T_6f7460ae_1da4_11ea_95e7_e0d55eb0dab9row5_col7 {\n",
       "            background-color:  #3b4cc0;\n",
       "            color:  #f1f1f1;\n",
       "        }    #T_6f7460ae_1da4_11ea_95e7_e0d55eb0dab9row6_col0 {\n",
       "            background-color:  #ccd9ed;\n",
       "            color:  #000000;\n",
       "        }    #T_6f7460ae_1da4_11ea_95e7_e0d55eb0dab9row6_col1 {\n",
       "            background-color:  #f6a283;\n",
       "            color:  #000000;\n",
       "        }    #T_6f7460ae_1da4_11ea_95e7_e0d55eb0dab9row6_col2 {\n",
       "            background-color:  #f3c7b1;\n",
       "            color:  #000000;\n",
       "        }    #T_6f7460ae_1da4_11ea_95e7_e0d55eb0dab9row6_col3 {\n",
       "            background-color:  #a1c0ff;\n",
       "            color:  #000000;\n",
       "        }    #T_6f7460ae_1da4_11ea_95e7_e0d55eb0dab9row6_col4 {\n",
       "            background-color:  #f7b89c;\n",
       "            color:  #000000;\n",
       "        }    #T_6f7460ae_1da4_11ea_95e7_e0d55eb0dab9row6_col5 {\n",
       "            background-color:  #f7ba9f;\n",
       "            color:  #000000;\n",
       "        }    #T_6f7460ae_1da4_11ea_95e7_e0d55eb0dab9row6_col6 {\n",
       "            background-color:  #b40426;\n",
       "            color:  #f1f1f1;\n",
       "        }    #T_6f7460ae_1da4_11ea_95e7_e0d55eb0dab9row6_col7 {\n",
       "            background-color:  #3b4cc0;\n",
       "            color:  #f1f1f1;\n",
       "        }    #T_6f7460ae_1da4_11ea_95e7_e0d55eb0dab9row7_col0 {\n",
       "            background-color:  #688aef;\n",
       "            color:  #000000;\n",
       "        }    #T_6f7460ae_1da4_11ea_95e7_e0d55eb0dab9row7_col1 {\n",
       "            background-color:  #3b4cc0;\n",
       "            color:  #f1f1f1;\n",
       "        }    #T_6f7460ae_1da4_11ea_95e7_e0d55eb0dab9row7_col2 {\n",
       "            background-color:  #9ebeff;\n",
       "            color:  #000000;\n",
       "        }    #T_6f7460ae_1da4_11ea_95e7_e0d55eb0dab9row7_col3 {\n",
       "            background-color:  #6282ea;\n",
       "            color:  #000000;\n",
       "        }    #T_6f7460ae_1da4_11ea_95e7_e0d55eb0dab9row7_col4 {\n",
       "            background-color:  #4257c9;\n",
       "            color:  #f1f1f1;\n",
       "        }    #T_6f7460ae_1da4_11ea_95e7_e0d55eb0dab9row7_col5 {\n",
       "            background-color:  #4961d2;\n",
       "            color:  #f1f1f1;\n",
       "        }    #T_6f7460ae_1da4_11ea_95e7_e0d55eb0dab9row7_col6 {\n",
       "            background-color:  #3b4cc0;\n",
       "            color:  #f1f1f1;\n",
       "        }    #T_6f7460ae_1da4_11ea_95e7_e0d55eb0dab9row7_col7 {\n",
       "            background-color:  #b40426;\n",
       "            color:  #f1f1f1;\n",
       "        }</style><table id=\"T_6f7460ae_1da4_11ea_95e7_e0d55eb0dab9\" ><thead>    <tr>        <th class=\"blank level0\" ></th>        <th class=\"col_heading level0 col0\" >0</th>        <th class=\"col_heading level0 col1\" >1</th>        <th class=\"col_heading level0 col2\" >2</th>        <th class=\"col_heading level0 col3\" >3</th>        <th class=\"col_heading level0 col4\" >4</th>        <th class=\"col_heading level0 col5\" >5</th>        <th class=\"col_heading level0 col6\" >6</th>        <th class=\"col_heading level0 col7\" >7</th>    </tr></thead><tbody>\n",
       "                <tr>\n",
       "                        <th id=\"T_6f7460ae_1da4_11ea_95e7_e0d55eb0dab9level0_row0\" class=\"row_heading level0 row0\" >0</th>\n",
       "                        <td id=\"T_6f7460ae_1da4_11ea_95e7_e0d55eb0dab9row0_col0\" class=\"data row0 col0\" >1.0</td>\n",
       "                        <td id=\"T_6f7460ae_1da4_11ea_95e7_e0d55eb0dab9row0_col1\" class=\"data row0 col1\" >0.48</td>\n",
       "                        <td id=\"T_6f7460ae_1da4_11ea_95e7_e0d55eb0dab9row0_col2\" class=\"data row0 col2\" >0.42</td>\n",
       "                        <td id=\"T_6f7460ae_1da4_11ea_95e7_e0d55eb0dab9row0_col3\" class=\"data row0 col3\" >0.064</td>\n",
       "                        <td id=\"T_6f7460ae_1da4_11ea_95e7_e0d55eb0dab9row0_col4\" class=\"data row0 col4\" >0.58</td>\n",
       "                        <td id=\"T_6f7460ae_1da4_11ea_95e7_e0d55eb0dab9row0_col5\" class=\"data row0 col5\" >0.54</td>\n",
       "                        <td id=\"T_6f7460ae_1da4_11ea_95e7_e0d55eb0dab9row0_col6\" class=\"data row0 col6\" >0.33</td>\n",
       "                        <td id=\"T_6f7460ae_1da4_11ea_95e7_e0d55eb0dab9row0_col7\" class=\"data row0 col7\" >-0.017</td>\n",
       "            </tr>\n",
       "            <tr>\n",
       "                        <th id=\"T_6f7460ae_1da4_11ea_95e7_e0d55eb0dab9level0_row1\" class=\"row_heading level0 row1\" >1</th>\n",
       "                        <td id=\"T_6f7460ae_1da4_11ea_95e7_e0d55eb0dab9row1_col0\" class=\"data row1 col0\" >0.48</td>\n",
       "                        <td id=\"T_6f7460ae_1da4_11ea_95e7_e0d55eb0dab9row1_col1\" class=\"data row1 col1\" >1.0</td>\n",
       "                        <td id=\"T_6f7460ae_1da4_11ea_95e7_e0d55eb0dab9row1_col2\" class=\"data row1 col2\" >0.8</td>\n",
       "                        <td id=\"T_6f7460ae_1da4_11ea_95e7_e0d55eb0dab9row1_col3\" class=\"data row1 col3\" >0.2</td>\n",
       "                        <td id=\"T_6f7460ae_1da4_11ea_95e7_e0d55eb0dab9row1_col4\" class=\"data row1 col4\" >0.83</td>\n",
       "                        <td id=\"T_6f7460ae_1da4_11ea_95e7_e0d55eb0dab9row1_col5\" class=\"data row1 col5\" >0.85</td>\n",
       "                        <td id=\"T_6f7460ae_1da4_11ea_95e7_e0d55eb0dab9row1_col6\" class=\"data row1 col6\" >0.67</td>\n",
       "                        <td id=\"T_6f7460ae_1da4_11ea_95e7_e0d55eb0dab9row1_col7\" class=\"data row1 col7\" >-0.19</td>\n",
       "            </tr>\n",
       "            <tr>\n",
       "                        <th id=\"T_6f7460ae_1da4_11ea_95e7_e0d55eb0dab9level0_row2\" class=\"row_heading level0 row2\" >2</th>\n",
       "                        <td id=\"T_6f7460ae_1da4_11ea_95e7_e0d55eb0dab9row2_col0\" class=\"data row2 col0\" >0.42</td>\n",
       "                        <td id=\"T_6f7460ae_1da4_11ea_95e7_e0d55eb0dab9row2_col1\" class=\"data row2 col1\" >0.8</td>\n",
       "                        <td id=\"T_6f7460ae_1da4_11ea_95e7_e0d55eb0dab9row2_col2\" class=\"data row2 col2\" >1.0</td>\n",
       "                        <td id=\"T_6f7460ae_1da4_11ea_95e7_e0d55eb0dab9row2_col3\" class=\"data row2 col3\" >0.16</td>\n",
       "                        <td id=\"T_6f7460ae_1da4_11ea_95e7_e0d55eb0dab9row2_col4\" class=\"data row2 col4\" >0.67</td>\n",
       "                        <td id=\"T_6f7460ae_1da4_11ea_95e7_e0d55eb0dab9row2_col5\" class=\"data row2 col5\" >0.67</td>\n",
       "                        <td id=\"T_6f7460ae_1da4_11ea_95e7_e0d55eb0dab9row2_col6\" class=\"data row2 col6\" >0.54</td>\n",
       "                        <td id=\"T_6f7460ae_1da4_11ea_95e7_e0d55eb0dab9row2_col7\" class=\"data row2 col7\" >0.16</td>\n",
       "            </tr>\n",
       "            <tr>\n",
       "                        <th id=\"T_6f7460ae_1da4_11ea_95e7_e0d55eb0dab9level0_row3\" class=\"row_heading level0 row3\" >3</th>\n",
       "                        <td id=\"T_6f7460ae_1da4_11ea_95e7_e0d55eb0dab9row3_col0\" class=\"data row3 col0\" >0.064</td>\n",
       "                        <td id=\"T_6f7460ae_1da4_11ea_95e7_e0d55eb0dab9row3_col1\" class=\"data row3 col1\" >0.2</td>\n",
       "                        <td id=\"T_6f7460ae_1da4_11ea_95e7_e0d55eb0dab9row3_col2\" class=\"data row3 col2\" >0.16</td>\n",
       "                        <td id=\"T_6f7460ae_1da4_11ea_95e7_e0d55eb0dab9row3_col3\" class=\"data row3 col3\" >1.0</td>\n",
       "                        <td id=\"T_6f7460ae_1da4_11ea_95e7_e0d55eb0dab9row3_col4\" class=\"data row3 col4\" >0.13</td>\n",
       "                        <td id=\"T_6f7460ae_1da4_11ea_95e7_e0d55eb0dab9row3_col5\" class=\"data row3 col5\" >0.12</td>\n",
       "                        <td id=\"T_6f7460ae_1da4_11ea_95e7_e0d55eb0dab9row3_col6\" class=\"data row3 col6\" >0.17</td>\n",
       "                        <td id=\"T_6f7460ae_1da4_11ea_95e7_e0d55eb0dab9row3_col7\" class=\"data row3 col7\" >-0.04</td>\n",
       "            </tr>\n",
       "            <tr>\n",
       "                        <th id=\"T_6f7460ae_1da4_11ea_95e7_e0d55eb0dab9level0_row4\" class=\"row_heading level0 row4\" >4</th>\n",
       "                        <td id=\"T_6f7460ae_1da4_11ea_95e7_e0d55eb0dab9row4_col0\" class=\"data row4 col0\" >0.58</td>\n",
       "                        <td id=\"T_6f7460ae_1da4_11ea_95e7_e0d55eb0dab9row4_col1\" class=\"data row4 col1\" >0.83</td>\n",
       "                        <td id=\"T_6f7460ae_1da4_11ea_95e7_e0d55eb0dab9row4_col2\" class=\"data row4 col2\" >0.67</td>\n",
       "                        <td id=\"T_6f7460ae_1da4_11ea_95e7_e0d55eb0dab9row4_col3\" class=\"data row4 col3\" >0.13</td>\n",
       "                        <td id=\"T_6f7460ae_1da4_11ea_95e7_e0d55eb0dab9row4_col4\" class=\"data row4 col4\" >1.0</td>\n",
       "                        <td id=\"T_6f7460ae_1da4_11ea_95e7_e0d55eb0dab9row4_col5\" class=\"data row4 col5\" >0.89</td>\n",
       "                        <td id=\"T_6f7460ae_1da4_11ea_95e7_e0d55eb0dab9row4_col6\" class=\"data row4 col6\" >0.6</td>\n",
       "                        <td id=\"T_6f7460ae_1da4_11ea_95e7_e0d55eb0dab9row4_col7\" class=\"data row4 col7\" >-0.17</td>\n",
       "            </tr>\n",
       "            <tr>\n",
       "                        <th id=\"T_6f7460ae_1da4_11ea_95e7_e0d55eb0dab9level0_row5\" class=\"row_heading level0 row5\" >5</th>\n",
       "                        <td id=\"T_6f7460ae_1da4_11ea_95e7_e0d55eb0dab9row5_col0\" class=\"data row5 col0\" >0.54</td>\n",
       "                        <td id=\"T_6f7460ae_1da4_11ea_95e7_e0d55eb0dab9row5_col1\" class=\"data row5 col1\" >0.85</td>\n",
       "                        <td id=\"T_6f7460ae_1da4_11ea_95e7_e0d55eb0dab9row5_col2\" class=\"data row5 col2\" >0.67</td>\n",
       "                        <td id=\"T_6f7460ae_1da4_11ea_95e7_e0d55eb0dab9row5_col3\" class=\"data row5 col3\" >0.12</td>\n",
       "                        <td id=\"T_6f7460ae_1da4_11ea_95e7_e0d55eb0dab9row5_col4\" class=\"data row5 col4\" >0.89</td>\n",
       "                        <td id=\"T_6f7460ae_1da4_11ea_95e7_e0d55eb0dab9row5_col5\" class=\"data row5 col5\" >1.0</td>\n",
       "                        <td id=\"T_6f7460ae_1da4_11ea_95e7_e0d55eb0dab9row5_col6\" class=\"data row5 col6\" >0.59</td>\n",
       "                        <td id=\"T_6f7460ae_1da4_11ea_95e7_e0d55eb0dab9row5_col7\" class=\"data row5 col7\" >-0.13</td>\n",
       "            </tr>\n",
       "            <tr>\n",
       "                        <th id=\"T_6f7460ae_1da4_11ea_95e7_e0d55eb0dab9level0_row6\" class=\"row_heading level0 row6\" >6</th>\n",
       "                        <td id=\"T_6f7460ae_1da4_11ea_95e7_e0d55eb0dab9row6_col0\" class=\"data row6 col0\" >0.33</td>\n",
       "                        <td id=\"T_6f7460ae_1da4_11ea_95e7_e0d55eb0dab9row6_col1\" class=\"data row6 col1\" >0.67</td>\n",
       "                        <td id=\"T_6f7460ae_1da4_11ea_95e7_e0d55eb0dab9row6_col2\" class=\"data row6 col2\" >0.54</td>\n",
       "                        <td id=\"T_6f7460ae_1da4_11ea_95e7_e0d55eb0dab9row6_col3\" class=\"data row6 col3\" >0.17</td>\n",
       "                        <td id=\"T_6f7460ae_1da4_11ea_95e7_e0d55eb0dab9row6_col4\" class=\"data row6 col4\" >0.6</td>\n",
       "                        <td id=\"T_6f7460ae_1da4_11ea_95e7_e0d55eb0dab9row6_col5\" class=\"data row6 col5\" >0.59</td>\n",
       "                        <td id=\"T_6f7460ae_1da4_11ea_95e7_e0d55eb0dab9row6_col6\" class=\"data row6 col6\" >1.0</td>\n",
       "                        <td id=\"T_6f7460ae_1da4_11ea_95e7_e0d55eb0dab9row6_col7\" class=\"data row6 col7\" >-0.19</td>\n",
       "            </tr>\n",
       "            <tr>\n",
       "                        <th id=\"T_6f7460ae_1da4_11ea_95e7_e0d55eb0dab9level0_row7\" class=\"row_heading level0 row7\" >7</th>\n",
       "                        <td id=\"T_6f7460ae_1da4_11ea_95e7_e0d55eb0dab9row7_col0\" class=\"data row7 col0\" >-0.017</td>\n",
       "                        <td id=\"T_6f7460ae_1da4_11ea_95e7_e0d55eb0dab9row7_col1\" class=\"data row7 col1\" >-0.19</td>\n",
       "                        <td id=\"T_6f7460ae_1da4_11ea_95e7_e0d55eb0dab9row7_col2\" class=\"data row7 col2\" >0.16</td>\n",
       "                        <td id=\"T_6f7460ae_1da4_11ea_95e7_e0d55eb0dab9row7_col3\" class=\"data row7 col3\" >-0.04</td>\n",
       "                        <td id=\"T_6f7460ae_1da4_11ea_95e7_e0d55eb0dab9row7_col4\" class=\"data row7 col4\" >-0.17</td>\n",
       "                        <td id=\"T_6f7460ae_1da4_11ea_95e7_e0d55eb0dab9row7_col5\" class=\"data row7 col5\" >-0.13</td>\n",
       "                        <td id=\"T_6f7460ae_1da4_11ea_95e7_e0d55eb0dab9row7_col6\" class=\"data row7 col6\" >-0.19</td>\n",
       "                        <td id=\"T_6f7460ae_1da4_11ea_95e7_e0d55eb0dab9row7_col7\" class=\"data row7 col7\" >1.0</td>\n",
       "            </tr>\n",
       "    </tbody></table>"
      ],
      "text/plain": [
       "<pandas.io.formats.style.Styler at 0x7f312cffe128>"
      ]
     },
     "execution_count": 5,
     "metadata": {},
     "output_type": "execute_result"
    }
   ],
   "source": [
    "X_train.corr(method='spearman').style.format(\"{:.2}\").background_gradient(cmap=plt.get_cmap('coolwarm'), axis=1)"
   ]
  },
  {
   "cell_type": "markdown",
   "metadata": {},
   "source": [
    "## Imbalanced baseline"
   ]
  },
  {
   "cell_type": "code",
   "execution_count": 6,
   "metadata": {
    "scrolled": true
   },
   "outputs": [
    {
     "name": "stdout",
     "output_type": "stream",
     "text": [
      "\n",
      "LOGISTIC REGRESSION\n",
      "TRAIN AND VALIDATION SETS:\n",
      "1 of KFold 10\n",
      "ROC AUC score: 0.6955645010661394\n",
      "2 of KFold 10\n",
      "ROC AUC score: 0.6933681773256543\n",
      "3 of KFold 10\n",
      "ROC AUC score: 0.6925436479652699\n",
      "4 of KFold 10\n",
      "ROC AUC score: 0.6904126556727205\n",
      "5 of KFold 10\n",
      "ROC AUC score: 0.6856695261419596\n",
      "6 of KFold 10\n",
      "ROC AUC score: 0.6934838667019307\n",
      "7 of KFold 10\n",
      "ROC AUC score: 0.6967243471689887\n",
      "8 of KFold 10\n",
      "ROC AUC score: 0.6944433182976116\n",
      "9 of KFold 10\n",
      "ROC AUC score: 0.6896994478409771\n",
      "10 of KFold 10\n",
      "ROC AUC score: 0.6963938692271036\n",
      "\n",
      "CROSS VALIDANTION SUMMARY:\n",
      "Mean: 0.6928303357408355\n",
      "Std deviation: 0.003250582484688271\n",
      "\n",
      "TEST SET:\n",
      "F1-Score(micro): 0.736821982055465\n",
      "F1-Score(macro): 0.6434187904984892\n",
      "F1-Score(weighted): 0.7615183087637664\n",
      "F1-Score(None): [0.82591762 0.46091996]\n",
      "Accuracy: 0.7368219820554649\n",
      "Sensitivity: 0.6376769719734181\n",
      "Specificity: 0.7580625193438564\n",
      "Confusion Matrix: [0.7580625193438564, 0.64]\n",
      "ROC AUC score: 0.6978697456586372\n",
      "CPU times: user 16.2 s, sys: 9.75 s, total: 26 s\n",
      "Wall time: 3.34 s\n"
     ]
    }
   ],
   "source": [
    "%%time\n",
    "LogisticRegr_(X_train, y_train, X_test, y_test)"
   ]
  },
  {
   "cell_type": "code",
   "execution_count": 7,
   "metadata": {},
   "outputs": [
    {
     "name": "stdout",
     "output_type": "stream",
     "text": [
      "CPU times: user 1 µs, sys: 1 µs, total: 2 µs\n",
      "Wall time: 2.38 µs\n",
      "\n",
      "DECISION TREE\n",
      "TRAIN AND VALIDATION SETS:\n",
      "1 of KFold 10\n",
      "ROC AUC score: 0.7215719377274252\n",
      "2 of KFold 10\n",
      "ROC AUC score: 0.7208916439334812\n",
      "3 of KFold 10\n",
      "ROC AUC score: 0.7274869241638862\n",
      "4 of KFold 10\n",
      "ROC AUC score: 0.7132941444261649\n",
      "5 of KFold 10\n",
      "ROC AUC score: 0.7202328090712923\n",
      "6 of KFold 10\n",
      "ROC AUC score: 0.7231883099709071\n",
      "7 of KFold 10\n",
      "ROC AUC score: 0.7104814676477215\n",
      "8 of KFold 10\n",
      "ROC AUC score: 0.7305488226744089\n",
      "9 of KFold 10\n",
      "ROC AUC score: 0.7278050582232681\n",
      "10 of KFold 10\n",
      "ROC AUC score: 0.7243002308194856\n",
      "\n",
      "CROSS VALIDANTION SUMMARY:\n",
      "Mean: 0.7219801348658041\n",
      "Std deviation: 0.0059715137622668325\n",
      "\n",
      "TEST SET:\n",
      "F1-Score(micro): 0.7875968597063621\n",
      "F1-Score(macro): 0.6880914481497906\n",
      "F1-Score(weighted): 0.8020967457082652\n",
      "F1-Score(None): [0.86426349 0.5119194 ]\n",
      "Accuracy: 0.7875968597063622\n",
      "Sensitivity: 0.6313204276220745\n",
      "Specificity: 0.8210770659238625\n",
      "Confusion Matrix: [0.8210770659238625, 0.63]\n",
      "ROC AUC score: 0.7261987467729686\n",
      "CPU times: user 1.64 s, sys: 39 µs, total: 1.64 s\n",
      "Wall time: 1.63 s\n"
     ]
    }
   ],
   "source": [
    "%%time\n",
    "DecisionTree_(X_train, y_train, X_test, y_test)"
   ]
  },
  {
   "cell_type": "code",
   "execution_count": 8,
   "metadata": {},
   "outputs": [
    {
     "name": "stdout",
     "output_type": "stream",
     "text": [
      "CPU times: user 1 µs, sys: 0 ns, total: 1 µs\n",
      "Wall time: 2.38 µs\n",
      "RANDOM FOREST\n",
      "TRAIN AND VALIDATION SETS:\n",
      "1 of KFold 10\n",
      "ROC AUC score: 0.7141989891307399\n",
      "2 of KFold 10\n",
      "ROC AUC score: 0.7121469009566949\n",
      "3 of KFold 10\n",
      "ROC AUC score: 0.7235825192636458\n",
      "4 of KFold 10\n",
      "ROC AUC score: 0.6944544890507979\n",
      "5 of KFold 10\n",
      "ROC AUC score: 0.7140476559292315\n",
      "6 of KFold 10\n",
      "ROC AUC score: 0.7144108701401747\n",
      "7 of KFold 10\n",
      "ROC AUC score: 0.7002349899211705\n",
      "8 of KFold 10\n",
      "ROC AUC score: 0.7175584143439057\n",
      "9 of KFold 10\n",
      "ROC AUC score: 0.7144178769791292\n",
      "10 of KFold 10\n",
      "ROC AUC score: 0.7184344965802427\n",
      "\n",
      "CROSS VALIDANTION SUMMARY:\n",
      "Mean: 0.7123487202295733\n",
      "Std deviation: 0.008198818690534071\n",
      "\n",
      "TEST SET:\n",
      "F1-Score(micro): 0.8060002039151712\n",
      "F1-Score(macro): 0.6951842010921134\n",
      "F1-Score(weighted): 0.814118746840234\n",
      "F1-Score(None): [0.8789734  0.51139501]\n",
      "Accuracy: 0.8060002039151712\n",
      "Sensitivity: 0.5754117307136666\n",
      "Specificity: 0.8554008047044259\n",
      "Confusion Matrix: [0.8554008047044259, 0.58]\n",
      "ROC AUC score: 0.7154062677090463\n",
      "CPU times: user 34.8 s, sys: 10.6 ms, total: 34.9 s\n",
      "Wall time: 34.8 s\n"
     ]
    }
   ],
   "source": [
    "%%time\n",
    "RandomForest_(X_train, y_train, X_test, y_test)"
   ]
  },
  {
   "cell_type": "code",
   "execution_count": 9,
   "metadata": {},
   "outputs": [
    {
     "name": "stdout",
     "output_type": "stream",
     "text": [
      "CPU times: user 1 µs, sys: 0 ns, total: 1 µs\n",
      "Wall time: 2.62 µs\n",
      "NEURAL NETWORK\n",
      "TRAIN AND VALIDATION SETS:\n",
      "1 of KFold 10\n",
      "ROC AUC score: 0.5799469312731429\n",
      "2 of KFold 10\n",
      "ROC AUC score: 0.5842598860094904\n",
      "3 of KFold 10\n",
      "ROC AUC score: 0.5942520694794553\n",
      "4 of KFold 10\n",
      "ROC AUC score: 0.5658250033661884\n",
      "5 of KFold 10\n",
      "ROC AUC score: 0.5928794864732359\n",
      "6 of KFold 10\n",
      "ROC AUC score: 0.6062880190425813\n",
      "7 of KFold 10\n",
      "ROC AUC score: 0.5945824048160389\n",
      "8 of KFold 10\n",
      "ROC AUC score: 0.591557385193392\n",
      "9 of KFold 10\n",
      "ROC AUC score: 0.5820368290998705\n",
      "10 of KFold 10\n",
      "ROC AUC score: 0.5909958717672479\n",
      "\n",
      "CROSS VALIDANTION SUMMARY:\n",
      "Mean: 0.5882623886520643\n",
      "Std deviation: 0.010333196335937354\n",
      "\n",
      "TEST SET:\n",
      "F1-Score(micro): 0.8351855628058727\n",
      "F1-Score(macro): 0.6016851833655174\n",
      "F1-Score(weighted): 0.7990387899049588\n",
      "F1-Score(None): [0.90665512 0.29671525]\n",
      "Accuracy: 0.8351855628058727\n",
      "Sensitivity: 0.1970528748916498\n",
      "Specificity: 0.9718972454348499\n",
      "Confusion Matrix: [0.9718972454348499, 0.2]\n",
      "ROC AUC score: 0.5844750601632499\n",
      "CPU times: user 1h 1min 50s, sys: 37min 13s, total: 1h 39min 3s\n",
      "Wall time: 12min 33s\n"
     ]
    }
   ],
   "source": [
    "%%time\n",
    "NN_(X_train, y_train, X_test, y_test)"
   ]
  },
  {
   "cell_type": "markdown",
   "metadata": {},
   "source": [
    "## Undersampling"
   ]
  },
  {
   "cell_type": "code",
   "execution_count": 10,
   "metadata": {},
   "outputs": [
    {
     "name": "stdout",
     "output_type": "stream",
     "text": [
      "Resampling dataset using Random UnderSampling (RUS)...\n",
      "... DONE!\n",
      "X and Y RUS: 31850 31850\n"
     ]
    }
   ],
   "source": [
    "print(\"Resampling dataset using Random UnderSampling (RUS)...\")\n",
    "X_RUS, y_RUS = RandomUnderSampler(random_state=42).fit_sample(X_train, y_train.values.ravel())\n",
    "print(\"... DONE!\")\n",
    "print(\"X and Y RUS:\", len(X_RUS), len(y_RUS))"
   ]
  },
  {
   "cell_type": "code",
   "execution_count": 11,
   "metadata": {},
   "outputs": [
    {
     "name": "stdout",
     "output_type": "stream",
     "text": [
      "\n",
      "LOGISTIC REGRESSION\n",
      "TRAIN AND VALIDATION SETS:\n",
      "1 of KFold 10\n",
      "ROC AUC score: 0.6824120193531957\n",
      "2 of KFold 10\n",
      "ROC AUC score: 0.6943647318028506\n",
      "3 of KFold 10\n",
      "ROC AUC score: 0.696277965556092\n",
      "4 of KFold 10\n",
      "ROC AUC score: 0.688183567426202\n",
      "5 of KFold 10\n",
      "ROC AUC score: 0.6927635453221157\n",
      "6 of KFold 10\n",
      "ROC AUC score: 0.7114757473248834\n",
      "7 of KFold 10\n",
      "ROC AUC score: 0.6856464187104109\n",
      "8 of KFold 10\n",
      "ROC AUC score: 0.6804890014603869\n",
      "9 of KFold 10\n",
      "ROC AUC score: 0.7093648260173708\n",
      "10 of KFold 10\n",
      "ROC AUC score: 0.6999275158055813\n",
      "\n",
      "CROSS VALIDANTION SUMMARY:\n",
      "Mean: 0.6940905338779089\n",
      "Std deviation: 0.010019110063727374\n",
      "\n",
      "TEST SET:\n",
      "F1-Score(micro): 0.7383258564437194\n",
      "F1-Score(macro): 0.6439032908280284\n",
      "F1-Score(weighted): 0.7625648142341843\n",
      "F1-Score(None): [0.82727059 0.460536  ]\n",
      "Accuracy: 0.7383258564437194\n",
      "Sensitivity: 0.6330540306269864\n",
      "Specificity: 0.7608789848344166\n",
      "Confusion Matrix: [0.7608789848344166, 0.63]\n",
      "ROC AUC score: 0.6969665077307015\n",
      "CPU times: user 6.33 s, sys: 3.67 s, total: 10 s\n",
      "Wall time: 1.29 s\n"
     ]
    }
   ],
   "source": [
    "%%time\n",
    "LogisticRegr_(X_RUS, y_RUS, X_test, y_test)"
   ]
  },
  {
   "cell_type": "code",
   "execution_count": 12,
   "metadata": {},
   "outputs": [
    {
     "name": "stdout",
     "output_type": "stream",
     "text": [
      "CPU times: user 2 µs, sys: 0 ns, total: 2 µs\n",
      "Wall time: 2.86 µs\n",
      "\n",
      "DECISION TREE\n",
      "TRAIN AND VALIDATION SETS:\n",
      "1 of KFold 10\n",
      "ROC AUC score: 0.6721599185128597\n",
      "2 of KFold 10\n",
      "ROC AUC score: 0.6873626373626373\n",
      "3 of KFold 10\n",
      "ROC AUC score: 0.6831422018348623\n",
      "4 of KFold 10\n",
      "ROC AUC score: 0.6934040582469704\n",
      "5 of KFold 10\n",
      "ROC AUC score: 0.683461500049935\n",
      "6 of KFold 10\n",
      "ROC AUC score: 0.6662820006376566\n",
      "7 of KFold 10\n",
      "ROC AUC score: 0.661936278490607\n",
      "8 of KFold 10\n",
      "ROC AUC score: 0.6750810058415481\n",
      "9 of KFold 10\n",
      "ROC AUC score: 0.6876855081253198\n",
      "10 of KFold 10\n",
      "ROC AUC score: 0.6601591967677418\n",
      "\n",
      "CROSS VALIDANTION SUMMARY:\n",
      "Mean: 0.6770674305870138\n",
      "Std deviation: 0.011057135335810783\n",
      "\n",
      "TEST SET:\n",
      "F1-Score(micro): 0.7833911092985318\n",
      "F1-Score(macro): 0.6594465316602376\n",
      "F1-Score(weighted): 0.7923984049524894\n",
      "F1-Score(None): [0.86489666 0.4539964 ]\n",
      "Accuracy: 0.7833911092985318\n",
      "Sensitivity: 0.5104016180294713\n",
      "Specificity: 0.8418755803156918\n",
      "Confusion Matrix: [0.8418755803156918, 0.51]\n",
      "ROC AUC score: 0.6761385991725816\n",
      "CPU times: user 731 ms, sys: 1.94 ms, total: 733 ms\n",
      "Wall time: 724 ms\n"
     ]
    }
   ],
   "source": [
    "%%time\n",
    "DecisionTree_(X_RUS, y_RUS, X_test, y_test)"
   ]
  },
  {
   "cell_type": "code",
   "execution_count": 13,
   "metadata": {},
   "outputs": [
    {
     "name": "stdout",
     "output_type": "stream",
     "text": [
      "CPU times: user 2 µs, sys: 0 ns, total: 2 µs\n",
      "Wall time: 2.86 µs\n",
      "RANDOM FOREST\n",
      "TRAIN AND VALIDATION SETS:\n",
      "1 of KFold 10\n",
      "ROC AUC score: 0.6613537051184111\n",
      "2 of KFold 10\n",
      "ROC AUC score: 0.6597248667174409\n",
      "3 of KFold 10\n",
      "ROC AUC score: 0.6706764043135361\n",
      "4 of KFold 10\n",
      "ROC AUC score: 0.6835459190988811\n",
      "5 of KFold 10\n",
      "ROC AUC score: 0.6601666109919174\n",
      "6 of KFold 10\n",
      "ROC AUC score: 0.6483778189068534\n",
      "7 of KFold 10\n",
      "ROC AUC score: 0.6464701423853608\n",
      "8 of KFold 10\n",
      "ROC AUC score: 0.6651150054764513\n",
      "9 of KFold 10\n",
      "ROC AUC score: 0.6723631846786983\n",
      "10 of KFold 10\n",
      "ROC AUC score: 0.6660961892105935\n",
      "\n",
      "CROSS VALIDANTION SUMMARY:\n",
      "Mean: 0.6633889846898143\n",
      "Std deviation: 0.010439286363741444\n",
      "\n",
      "TEST SET:\n",
      "F1-Score(micro): 0.8088295269168027\n",
      "F1-Score(macro): 0.6691359130836776\n",
      "F1-Score(weighted): 0.8082596173044283\n",
      "F1-Score(None): [0.88412335 0.45414847]\n",
      "Accuracy: 0.8088295269168027\n",
      "Sensitivity: 0.45073678127708755\n",
      "Specificity: 0.8855462705044878\n",
      "Confusion Matrix: [0.8855462705044878, 0.45]\n",
      "ROC AUC score: 0.6681415258907877\n",
      "CPU times: user 13 s, sys: 10.9 ms, total: 13 s\n",
      "Wall time: 13 s\n"
     ]
    }
   ],
   "source": [
    "%%time\n",
    "RandomForest_(X_RUS, y_RUS, X_test, y_test)"
   ]
  },
  {
   "cell_type": "code",
   "execution_count": 14,
   "metadata": {},
   "outputs": [
    {
     "name": "stdout",
     "output_type": "stream",
     "text": [
      "CPU times: user 1e+03 ns, sys: 1 µs, total: 2 µs\n",
      "Wall time: 2.62 µs\n",
      "NEURAL NETWORK\n",
      "TRAIN AND VALIDATION SETS:\n",
      "1 of KFold 10\n",
      "ROC AUC score: 0.5682750190985485\n",
      "2 of KFold 10\n",
      "ROC AUC score: 0.5817674899358067\n",
      "3 of KFold 10\n",
      "ROC AUC score: 0.5923004184773861\n",
      "4 of KFold 10\n",
      "ROC AUC score: 0.6074717109904165\n",
      "5 of KFold 10\n",
      "ROC AUC score: 0.5699294365600581\n",
      "6 of KFold 10\n",
      "ROC AUC score: 0.585560285622046\n",
      "7 of KFold 10\n",
      "ROC AUC score: 0.5735328352552651\n",
      "8 of KFold 10\n",
      "ROC AUC score: 0.5872010770354144\n",
      "9 of KFold 10\n",
      "ROC AUC score: 0.5838717493429902\n",
      "10 of KFold 10\n",
      "ROC AUC score: 0.5909831004443012\n",
      "\n",
      "CROSS VALIDANTION SUMMARY:\n",
      "Mean: 0.5840893122762233\n",
      "Std deviation: 0.011140023973018928\n",
      "\n",
      "TEST SET:\n",
      "F1-Score(micro): 0.8355679037520393\n",
      "F1-Score(macro): 0.6078859337366858\n",
      "F1-Score(weighted): 0.8012423429940798\n",
      "F1-Score(None): [0.90667901 0.30909286]\n",
      "Accuracy: 0.8355679037520392\n",
      "Sensitivity: 0.20846576134065298\n",
      "Specificity: 0.96991643454039\n",
      "Confusion Matrix: [0.96991643454039, 0.21]\n",
      "ROC AUC score: 0.5891910979405216\n",
      "CPU times: user 12min 7s, sys: 7min 14s, total: 19min 21s\n",
      "Wall time: 2min 27s\n"
     ]
    }
   ],
   "source": [
    "%%time\n",
    "NN_(X_RUS, y_RUS, X_test, y_test)"
   ]
  },
  {
   "cell_type": "code",
   "execution_count": 15,
   "metadata": {},
   "outputs": [
    {
     "name": "stdout",
     "output_type": "stream",
     "text": [
      "Resampling dataset using Edited Nearest Neighbour (ENN)...\n",
      "... DONE!\n",
      "X and Y ENN: 76183 76183\n"
     ]
    }
   ],
   "source": [
    "print(\"Resampling dataset using Edited Nearest Neighbour (ENN)...\")\n",
    "X_ENN, y_ENN = EditedNearestNeighbours(random_state=42).fit_sample(X_train, y_train.values.ravel())\n",
    "print(\"... DONE!\")\n",
    "print(\"X and Y ENN:\", len(X_ENN), len(y_ENN))"
   ]
  },
  {
   "cell_type": "code",
   "execution_count": 16,
   "metadata": {},
   "outputs": [
    {
     "name": "stdout",
     "output_type": "stream",
     "text": [
      "\n",
      "LOGISTIC REGRESSION\n",
      "TRAIN AND VALIDATION SETS:\n",
      "1 of KFold 10\n",
      "ROC AUC score: 0.699528151998609\n",
      "2 of KFold 10\n",
      "ROC AUC score: 0.6860821950635607\n",
      "3 of KFold 10\n",
      "ROC AUC score: 0.6978615393465256\n",
      "4 of KFold 10\n",
      "ROC AUC score: 0.6904419516233095\n",
      "5 of KFold 10\n",
      "ROC AUC score: 0.6940042338233868\n",
      "6 of KFold 10\n",
      "ROC AUC score: 0.6934865982750169\n",
      "7 of KFold 10\n",
      "ROC AUC score: 0.6841274560686387\n",
      "8 of KFold 10\n",
      "ROC AUC score: 0.6890959992849001\n",
      "9 of KFold 10\n",
      "ROC AUC score: 0.6958467034966422\n",
      "10 of KFold 10\n",
      "ROC AUC score: 0.6979235374822558\n",
      "\n",
      "CROSS VALIDANTION SUMMARY:\n",
      "Mean: 0.6928398366462846\n",
      "Std deviation: 0.004979436815141162\n",
      "\n",
      "TEST SET:\n",
      "F1-Score(micro): 0.7379944942903752\n",
      "F1-Score(macro): 0.6443275604913155\n",
      "F1-Score(weighted): 0.7624428992530763\n",
      "F1-Score(None): [0.82685084 0.46180428]\n",
      "Accuracy: 0.7379944942903752\n",
      "Sensitivity: 0.6370991043051142\n",
      "Specificity: 0.7596100278551532\n",
      "Confusion Matrix: [0.7596100278551532, 0.64]\n",
      "ROC AUC score: 0.6983545660801337\n",
      "CPU times: user 15.3 s, sys: 9.1 s, total: 24.4 s\n",
      "Wall time: 3.12 s\n"
     ]
    }
   ],
   "source": [
    "%%time\n",
    "LogisticRegr_(X_ENN, y_ENN, X_test, y_test)"
   ]
  },
  {
   "cell_type": "code",
   "execution_count": 17,
   "metadata": {},
   "outputs": [
    {
     "name": "stdout",
     "output_type": "stream",
     "text": [
      "CPU times: user 1 µs, sys: 1e+03 ns, total: 2 µs\n",
      "Wall time: 3.1 µs\n",
      "\n",
      "DECISION TREE\n",
      "TRAIN AND VALIDATION SETS:\n",
      "1 of KFold 10\n",
      "ROC AUC score: 0.7170044546768111\n",
      "2 of KFold 10\n",
      "ROC AUC score: 0.7095330148159057\n",
      "3 of KFold 10\n",
      "ROC AUC score: 0.7176914829438449\n",
      "4 of KFold 10\n",
      "ROC AUC score: 0.7188423192569419\n",
      "5 of KFold 10\n",
      "ROC AUC score: 0.71804520941929\n",
      "6 of KFold 10\n",
      "ROC AUC score: 0.7028380193747678\n",
      "7 of KFold 10\n",
      "ROC AUC score: 0.7068606740657293\n",
      "8 of KFold 10\n",
      "ROC AUC score: 0.7109184420817098\n",
      "9 of KFold 10\n",
      "ROC AUC score: 0.7180946552427581\n",
      "10 of KFold 10\n",
      "ROC AUC score: 0.7101019119790565\n",
      "\n",
      "CROSS VALIDANTION SUMMARY:\n",
      "Mean: 0.7129930183856815\n",
      "Std deviation: 0.005378628853477356\n",
      "\n",
      "TEST SET:\n",
      "F1-Score(micro): 0.7890752446982056\n",
      "F1-Score(macro): 0.684136844812983\n",
      "F1-Score(weighted): 0.8019529725397787\n",
      "F1-Score(None): [0.86619775 0.50207594]\n",
      "Accuracy: 0.7890752446982056\n",
      "Sensitivity: 0.6027159780410286\n",
      "Specificity: 0.8290003095017022\n",
      "Confusion Matrix: [0.8290003095017022, 0.6]\n",
      "ROC AUC score: 0.7158581437713654\n",
      "CPU times: user 1.45 s, sys: 4.9 ms, total: 1.45 s\n",
      "Wall time: 1.44 s\n"
     ]
    }
   ],
   "source": [
    "%%time\n",
    "DecisionTree_(X_ENN, y_ENN, X_test, y_test)"
   ]
  },
  {
   "cell_type": "code",
   "execution_count": 18,
   "metadata": {},
   "outputs": [
    {
     "name": "stdout",
     "output_type": "stream",
     "text": [
      "CPU times: user 2 µs, sys: 0 ns, total: 2 µs\n",
      "Wall time: 2.62 µs\n",
      "RANDOM FOREST\n",
      "TRAIN AND VALIDATION SETS:\n",
      "1 of KFold 10\n",
      "ROC AUC score: 0.6997246254294297\n",
      "2 of KFold 10\n",
      "ROC AUC score: 0.695831589936937\n",
      "3 of KFold 10\n",
      "ROC AUC score: 0.7067545207222327\n",
      "4 of KFold 10\n",
      "ROC AUC score: 0.7155249735230745\n",
      "5 of KFold 10\n",
      "ROC AUC score: 0.7024679023601104\n",
      "6 of KFold 10\n",
      "ROC AUC score: 0.6864864387136101\n",
      "7 of KFold 10\n",
      "ROC AUC score: 0.7032407516398489\n",
      "8 of KFold 10\n",
      "ROC AUC score: 0.713654372201835\n",
      "9 of KFold 10\n",
      "ROC AUC score: 0.7035469986510378\n",
      "10 of KFold 10\n",
      "ROC AUC score: 0.699448234373774\n",
      "\n",
      "CROSS VALIDANTION SUMMARY:\n",
      "Mean: 0.702668040755189\n",
      "Std deviation: 0.007946397226592265\n",
      "\n",
      "TEST SET:\n",
      "F1-Score(micro): 0.8065609706362153\n",
      "F1-Score(macro): 0.6886202014629845\n",
      "F1-Score(weighted): 0.812632636657434\n",
      "F1-Score(None): [0.88025624 0.49698416]\n",
      "Accuracy: 0.8065609706362153\n",
      "Sensitivity: 0.541606472117885\n",
      "Specificity: 0.8633240482822655\n",
      "Confusion Matrix: [0.8633240482822655, 0.54]\n",
      "ROC AUC score: 0.7024652602000752\n",
      "CPU times: user 29.5 s, sys: 5.31 ms, total: 29.5 s\n",
      "Wall time: 29.5 s\n"
     ]
    }
   ],
   "source": [
    "%%time\n",
    "RandomForest_(X_ENN, y_ENN, X_test, y_test)"
   ]
  },
  {
   "cell_type": "code",
   "execution_count": 19,
   "metadata": {},
   "outputs": [
    {
     "name": "stdout",
     "output_type": "stream",
     "text": [
      "CPU times: user 0 ns, sys: 1e+03 ns, total: 1e+03 ns\n",
      "Wall time: 2.38 µs\n",
      "NEURAL NETWORK\n",
      "TRAIN AND VALIDATION SETS:\n",
      "1 of KFold 10\n",
      "ROC AUC score: 0.5903084099261949\n",
      "2 of KFold 10\n",
      "ROC AUC score: 0.5817852410923285\n",
      "3 of KFold 10\n",
      "ROC AUC score: 0.5836540869223898\n",
      "4 of KFold 10\n",
      "ROC AUC score: 0.5820673305172435\n",
      "5 of KFold 10\n",
      "ROC AUC score: 0.5808776186591799\n",
      "6 of KFold 10\n",
      "ROC AUC score: 0.5736194355348031\n",
      "7 of KFold 10\n",
      "ROC AUC score: 0.5880717332953156\n",
      "8 of KFold 10\n",
      "ROC AUC score: 0.5813935606402836\n",
      "9 of KFold 10\n",
      "ROC AUC score: 0.5920558257155565\n",
      "10 of KFold 10\n",
      "ROC AUC score: 0.5955187024888303\n",
      "\n",
      "CROSS VALIDANTION SUMMARY:\n",
      "Mean: 0.5849351944792125\n",
      "Std deviation: 0.006150324624494596\n",
      "\n",
      "TEST SET:\n",
      "F1-Score(micro): 0.8354914355628059\n",
      "F1-Score(macro): 0.6209948763312059\n",
      "F1-Score(weighted): 0.805505232290136\n",
      "F1-Score(None): [0.90611817 0.33587158]\n",
      "Accuracy: 0.8354914355628059\n",
      "Sensitivity: 0.23577000866801504\n",
      "Specificity: 0.9639740018570102\n",
      "Confusion Matrix: [0.9639740018570102, 0.24]\n",
      "ROC AUC score: 0.5998720052625126\n",
      "CPU times: user 51min 31s, sys: 30min 58s, total: 1h 22min 29s\n",
      "Wall time: 10min 26s\n"
     ]
    }
   ],
   "source": [
    "%%time\n",
    "NN_(X_ENN, y_ENN, X_test, y_test)"
   ]
  },
  {
   "cell_type": "code",
   "execution_count": 20,
   "metadata": {},
   "outputs": [
    {
     "name": "stdout",
     "output_type": "stream",
     "text": [
      "Resampling dataset using Tomek's Link (TL)...\n",
      "... DONE!\n",
      "X and Y IHT: 91111 91111\n"
     ]
    }
   ],
   "source": [
    "print(\"Resampling dataset using Tomek's Link (TL)...\")\n",
    "X_TL, y_TL = TomekLinks(random_state=42).fit_sample(X_train, y_train.values.ravel())\n",
    "print(\"... DONE!\")\n",
    "print(\"X and Y IHT:\", len(X_TL), len(y_TL))"
   ]
  },
  {
   "cell_type": "code",
   "execution_count": 21,
   "metadata": {},
   "outputs": [
    {
     "name": "stdout",
     "output_type": "stream",
     "text": [
      "\n",
      "LOGISTIC REGRESSION\n",
      "TRAIN AND VALIDATION SETS:\n",
      "1 of KFold 10\n",
      "ROC AUC score: 0.695800008878733\n",
      "2 of KFold 10\n",
      "ROC AUC score: 0.6918965000806434\n",
      "3 of KFold 10\n",
      "ROC AUC score: 0.6935083849203223\n",
      "4 of KFold 10\n",
      "ROC AUC score: 0.689882932283309\n",
      "5 of KFold 10\n",
      "ROC AUC score: 0.6846170150161832\n",
      "6 of KFold 10\n",
      "ROC AUC score: 0.6953394898422707\n",
      "7 of KFold 10\n",
      "ROC AUC score: 0.696755752681177\n",
      "8 of KFold 10\n",
      "ROC AUC score: 0.6929059861589228\n",
      "9 of KFold 10\n",
      "ROC AUC score: 0.6944954359776085\n",
      "10 of KFold 10\n",
      "ROC AUC score: 0.6930154163128295\n",
      "\n",
      "CROSS VALIDANTION SUMMARY:\n",
      "Mean: 0.6928216922152\n",
      "Std deviation: 0.003328860536290808\n",
      "\n",
      "TEST SET:\n",
      "F1-Score(micro): 0.7373827487765089\n",
      "F1-Score(macro): 0.6439267007784544\n",
      "F1-Score(weighted): 0.761975466715795\n",
      "F1-Score(None): [0.8263471 0.4615063]\n",
      "Accuracy: 0.737382748776509\n",
      "Sensitivity: 0.637821438890494\n",
      "Specificity: 0.758712472918601\n",
      "Confusion Matrix: [0.758712472918601, 0.64]\n",
      "ROC AUC score: 0.6982669559045475\n",
      "CPU times: user 22.1 s, sys: 12.7 s, total: 34.8 s\n",
      "Wall time: 4.45 s\n"
     ]
    }
   ],
   "source": [
    "%%time\n",
    "LogisticRegr_(X_TL, y_TL, X_test, y_test)"
   ]
  },
  {
   "cell_type": "code",
   "execution_count": 22,
   "metadata": {},
   "outputs": [
    {
     "name": "stdout",
     "output_type": "stream",
     "text": [
      "CPU times: user 1 µs, sys: 1 µs, total: 2 µs\n",
      "Wall time: 2.62 µs\n",
      "\n",
      "DECISION TREE\n",
      "TRAIN AND VALIDATION SETS:\n",
      "1 of KFold 10\n",
      "ROC AUC score: 0.7211441181899534\n",
      "2 of KFold 10\n",
      "ROC AUC score: 0.7191251353655446\n",
      "3 of KFold 10\n",
      "ROC AUC score: 0.729291254287595\n",
      "4 of KFold 10\n",
      "ROC AUC score: 0.7114235360027987\n",
      "5 of KFold 10\n",
      "ROC AUC score: 0.7171778452699771\n",
      "6 of KFold 10\n",
      "ROC AUC score: 0.7229179674673644\n",
      "7 of KFold 10\n",
      "ROC AUC score: 0.7123047035769382\n",
      "8 of KFold 10\n",
      "ROC AUC score: 0.7248939642006268\n",
      "9 of KFold 10\n",
      "ROC AUC score: 0.7337720846571519\n",
      "10 of KFold 10\n",
      "ROC AUC score: 0.7201094859376395\n",
      "\n",
      "CROSS VALIDANTION SUMMARY:\n",
      "Mean: 0.7212160094955589\n",
      "Std deviation: 0.006606819292452626\n",
      "\n",
      "TEST SET:\n",
      "F1-Score(micro): 0.7888458401305057\n",
      "F1-Score(macro): 0.6894656196783258\n",
      "F1-Score(weighted): 0.8031479228611655\n",
      "F1-Score(None): [0.86513854 0.5137927 ]\n",
      "Accuracy: 0.7888458401305057\n",
      "Sensitivity: 0.6323316960416064\n",
      "Specificity: 0.8223769730733519\n",
      "Confusion Matrix: [0.8223769730733519, 0.63]\n",
      "ROC AUC score: 0.7273543345574791\n",
      "CPU times: user 1.71 s, sys: 7.78 ms, total: 1.72 s\n",
      "Wall time: 1.71 s\n"
     ]
    }
   ],
   "source": [
    "%%time\n",
    "DecisionTree_(X_TL, y_TL, X_test, y_test)"
   ]
  },
  {
   "cell_type": "code",
   "execution_count": 23,
   "metadata": {},
   "outputs": [
    {
     "name": "stdout",
     "output_type": "stream",
     "text": [
      "CPU times: user 1 µs, sys: 0 ns, total: 1 µs\n",
      "Wall time: 2.62 µs\n",
      "RANDOM FOREST\n",
      "TRAIN AND VALIDATION SETS:\n",
      "1 of KFold 10\n",
      "ROC AUC score: 0.7093871404572146\n",
      "2 of KFold 10\n",
      "ROC AUC score: 0.710496301928527\n",
      "3 of KFold 10\n",
      "ROC AUC score: 0.719826343338778\n",
      "4 of KFold 10\n",
      "ROC AUC score: 0.6987680502907491\n",
      "5 of KFold 10\n",
      "ROC AUC score: 0.7206221085161524\n",
      "6 of KFold 10\n",
      "ROC AUC score: 0.7156190081646333\n",
      "7 of KFold 10\n",
      "ROC AUC score: 0.7020776134007068\n",
      "8 of KFold 10\n",
      "ROC AUC score: 0.7171578977844878\n",
      "9 of KFold 10\n",
      "ROC AUC score: 0.7138118412426244\n",
      "10 of KFold 10\n",
      "ROC AUC score: 0.7137649758744462\n",
      "\n",
      "CROSS VALIDANTION SUMMARY:\n",
      "Mean: 0.7121531280998321\n",
      "Std deviation: 0.006812366352174364\n",
      "\n",
      "TEST SET:\n",
      "F1-Score(micro): 0.805923735725938\n",
      "F1-Score(macro): 0.6944288923722748\n",
      "F1-Score(weighted): 0.8138748828804526\n",
      "F1-Score(None): [0.87900842 0.50984936]\n",
      "Accuracy: 0.805923735725938\n",
      "Sensitivity: 0.5720889916209189\n",
      "Specificity: 0.8560198081089446\n",
      "Confusion Matrix: [0.8560198081089446, 0.57]\n",
      "ROC AUC score: 0.7140543998649317\n",
      "CPU times: user 35 s, sys: 22.7 ms, total: 35.1 s\n",
      "Wall time: 35.2 s\n"
     ]
    }
   ],
   "source": [
    "%%time\n",
    "RandomForest_(X_TL, y_TL, X_test, y_test)"
   ]
  },
  {
   "cell_type": "code",
   "execution_count": 24,
   "metadata": {},
   "outputs": [
    {
     "name": "stdout",
     "output_type": "stream",
     "text": [
      "CPU times: user 1 µs, sys: 0 ns, total: 1 µs\n",
      "Wall time: 2.62 µs\n",
      "NEURAL NETWORK\n",
      "TRAIN AND VALIDATION SETS:\n",
      "1 of KFold 10\n",
      "ROC AUC score: 0.580126475213148\n",
      "2 of KFold 10\n",
      "ROC AUC score: 0.5927138775604248\n",
      "3 of KFold 10\n",
      "ROC AUC score: 0.5770812039799783\n",
      "4 of KFold 10\n",
      "ROC AUC score: 0.5847030820448418\n",
      "5 of KFold 10\n",
      "ROC AUC score: 0.5746909239615593\n",
      "6 of KFold 10\n"
     ]
    },
    {
     "name": "stderr",
     "output_type": "stream",
     "text": [
      "/usr/local/lib/python3.6/dist-packages/sklearn/neural_network/multilayer_perceptron.py:566: ConvergenceWarning: Stochastic Optimizer: Maximum iterations (200) reached and the optimization hasn't converged yet.\n",
      "  % self.max_iter, ConvergenceWarning)\n"
     ]
    },
    {
     "name": "stdout",
     "output_type": "stream",
     "text": [
      "ROC AUC score: 0.5858494859462485\n",
      "7 of KFold 10\n",
      "ROC AUC score: 0.5608800254642107\n",
      "8 of KFold 10\n",
      "ROC AUC score: 0.590308161695906\n",
      "9 of KFold 10\n",
      "ROC AUC score: 0.5821410560290483\n",
      "10 of KFold 10\n",
      "ROC AUC score: 0.5887505154066186\n",
      "\n",
      "CROSS VALIDANTION SUMMARY:\n",
      "Mean: 0.5817244807301984\n",
      "Std deviation: 0.008820140194215962\n",
      "\n",
      "TEST SET:\n",
      "F1-Score(micro): 0.8353639885807504\n",
      "F1-Score(macro): 0.6075450760751788\n",
      "F1-Score(weighted): 0.80104367266584\n",
      "F1-Score(None): [0.90655788 0.30853228]\n",
      "Accuracy: 0.8353639885807504\n",
      "Sensitivity: 0.20817682750650102\n",
      "Specificity: 0.9697307335190344\n",
      "Confusion Matrix: [0.9697307335190344, 0.21]\n",
      "ROC AUC score: 0.5889537805127677\n",
      "CPU times: user 1h 54s, sys: 36min 47s, total: 1h 37min 41s\n",
      "Wall time: 12min 28s\n"
     ]
    }
   ],
   "source": [
    "%%time\n",
    "NN_(X_TL, y_TL, X_test, y_test)"
   ]
  },
  {
   "cell_type": "markdown",
   "metadata": {},
   "source": [
    "## Oversampling"
   ]
  },
  {
   "cell_type": "code",
   "execution_count": 25,
   "metadata": {},
   "outputs": [
    {
     "name": "stdout",
     "output_type": "stream",
     "text": [
      "Resampling dataset using Random OverSampling (ROS)...\n",
      "X and Y ROS: 151232 151232\n"
     ]
    },
    {
     "name": "stderr",
     "output_type": "stream",
     "text": [
      "/usr/local/lib/python3.6/dist-packages/sklearn/utils/validation.py:724: DataConversionWarning: A column-vector y was passed when a 1d array was expected. Please change the shape of y to (n_samples, ), for example using ravel().\n",
      "  y = column_or_1d(y, warn=True)\n"
     ]
    }
   ],
   "source": [
    "print(\"Resampling dataset using Random OverSampling (ROS)...\")\n",
    "ros = RandomOverSampler(random_state=42)\n",
    "X_ROS, y_ROS = ros.fit_resample(X_train, y_train)\n",
    "print(\"X and Y ROS:\", len(X_ROS), len(y_ROS))"
   ]
  },
  {
   "cell_type": "code",
   "execution_count": 26,
   "metadata": {},
   "outputs": [
    {
     "name": "stdout",
     "output_type": "stream",
     "text": [
      "CPU times: user 1 µs, sys: 0 ns, total: 1 µs\n",
      "Wall time: 3.34 µs\n",
      "\n",
      "LOGISTIC REGRESSION\n",
      "TRAIN AND VALIDATION SETS:\n",
      "1 of KFold 10\n",
      "ROC AUC score: 0.6925416556466544\n",
      "2 of KFold 10\n",
      "ROC AUC score: 0.6922771753504364\n",
      "3 of KFold 10\n",
      "ROC AUC score: 0.6906902935731288\n",
      "4 of KFold 10\n",
      "ROC AUC score: 0.6926738957947632\n",
      "5 of KFold 10\n",
      "ROC AUC score: 0.6885744512033853\n",
      "6 of KFold 10\n",
      "ROC AUC score: 0.697302300978577\n",
      "7 of KFold 10\n",
      "ROC AUC score: 0.6887977780716836\n",
      "8 of KFold 10\n",
      "ROC AUC score: 0.6866155270466869\n",
      "9 of KFold 10\n",
      "ROC AUC score: 0.6973283957148524\n",
      "10 of KFold 10\n",
      "ROC AUC score: 0.6921703478375876\n",
      "\n",
      "CROSS VALIDANTION SUMMARY:\n",
      "Mean: 0.6918971821217756\n",
      "Std deviation: 0.0033158760846688615\n",
      "\n",
      "TEST SET:\n",
      "F1-Score(micro): 0.7378160685154975\n",
      "F1-Score(macro): 0.6443504491506018\n",
      "F1-Score(weighted): 0.7623349929272513\n",
      "F1-Score(None): [0.82667161 0.46202929]\n",
      "Accuracy: 0.7378160685154975\n",
      "Sensitivity: 0.6381103727246461\n",
      "Specificity: 0.7591767254719901\n",
      "Confusion Matrix: [0.7591767254719901, 0.64]\n",
      "ROC AUC score: 0.6986435490983182\n",
      "CPU times: user 35.7 s, sys: 20.2 s, total: 55.9 s\n",
      "Wall time: 7.18 s\n"
     ]
    }
   ],
   "source": [
    "%%time\n",
    "LogisticRegr_NoIloc(X_ROS, y_ROS, X_test, y_test)"
   ]
  },
  {
   "cell_type": "code",
   "execution_count": 27,
   "metadata": {},
   "outputs": [
    {
     "name": "stdout",
     "output_type": "stream",
     "text": [
      "CPU times: user 2 µs, sys: 0 ns, total: 2 µs\n",
      "Wall time: 3.34 µs\n",
      "\n",
      "DECISION TREE\n",
      "TRAIN AND VALIDATION SETS:\n",
      "1 of KFold 10\n",
      "ROC AUC score: 0.8479238296746893\n",
      "2 of KFold 10\n",
      "ROC AUC score: 0.8477915895265803\n",
      "3 of KFold 10\n",
      "ROC AUC score: 0.8588997619677334\n",
      "4 of KFold 10\n",
      "ROC AUC score: 0.8570483998942079\n",
      "5 of KFold 10\n",
      "ROC AUC score: 0.8620735255223486\n",
      "6 of KFold 10\n",
      "ROC AUC score: 0.8621396455964032\n",
      "7 of KFold 10\n",
      "ROC AUC score: 0.8592117444782437\n",
      "8 of KFold 10\n",
      "ROC AUC score: 0.8617907684168762\n",
      "9 of KFold 10\n",
      "ROC AUC score: 0.8596085173918794\n",
      "10 of KFold 10\n",
      "ROC AUC score: 0.8549795000661289\n",
      "\n",
      "CROSS VALIDANTION SUMMARY:\n",
      "Mean: 0.857146728253509\n",
      "Std deviation: 0.0051132623070922565\n",
      "\n",
      "TEST SET:\n",
      "F1-Score(micro): 0.7930515905383361\n",
      "F1-Score(macro): 0.6921703611617942\n",
      "F1-Score(weighted): 0.8062080588069096\n",
      "F1-Score(None): [0.86839247 0.51594825]\n",
      "Accuracy: 0.7930515905383361\n",
      "Sensitivity: 0.625108350187807\n",
      "Specificity: 0.8290312596719281\n",
      "Confusion Matrix: [0.8290312596719281, 0.63]\n",
      "ROC AUC score: 0.7270698049298676\n",
      "CPU times: user 2.98 s, sys: 4.1 ms, total: 2.98 s\n",
      "Wall time: 2.97 s\n"
     ]
    }
   ],
   "source": [
    "%%time\n",
    "DecisionTree_NoIloc(X_ROS, y_ROS, X_test, y_test)"
   ]
  },
  {
   "cell_type": "code",
   "execution_count": 28,
   "metadata": {},
   "outputs": [
    {
     "name": "stdout",
     "output_type": "stream",
     "text": [
      "CPU times: user 1 µs, sys: 0 ns, total: 1 µs\n",
      "Wall time: 2.86 µs\n",
      "RANDOM FOREST\n",
      "TRAIN AND VALIDATION SETS:\n",
      "1 of KFold 10\n",
      "ROC AUC score: 0.8557259984131184\n",
      "2 of KFold 10\n",
      "ROC AUC score: 0.8528828352287755\n",
      "3 of KFold 10\n",
      "ROC AUC score: 0.8633298069293838\n",
      "4 of KFold 10\n",
      "ROC AUC score: 0.8598254430044963\n",
      "5 of KFold 10\n",
      "ROC AUC score: 0.8651150489288547\n",
      "6 of KFold 10\n",
      "ROC AUC score: 0.864586088336419\n",
      "7 of KFold 10\n",
      "ROC AUC score: 0.8615923819600583\n",
      "8 of KFold 10\n",
      "ROC AUC score: 0.8627165718820261\n",
      "9 of KFold 10\n",
      "ROC AUC score: 0.8634439888903584\n",
      "10 of KFold 10\n",
      "ROC AUC score: 0.8578230392805184\n",
      "\n",
      "CROSS VALIDANTION SUMMARY:\n",
      "Mean: 0.860704120285401\n",
      "Std deviation: 0.003857368880933941\n",
      "\n",
      "TEST SET:\n",
      "F1-Score(micro): 0.7942241027732463\n",
      "F1-Score(macro): 0.6990676100382114\n",
      "F1-Score(weighted): 0.8085745697207763\n",
      "F1-Score(None): [0.86828839 0.52984683]\n",
      "Accuracy: 0.7942241027732463\n",
      "Sensitivity: 0.6571800057786766\n",
      "Specificity: 0.8235840297121634\n",
      "Confusion Matrix: [0.8235840297121634, 0.66]\n",
      "ROC AUC score: 0.74038201774542\n",
      "CPU times: user 1min 2s, sys: 60.4 ms, total: 1min 2s\n",
      "Wall time: 1min 2s\n"
     ]
    }
   ],
   "source": [
    "%%time\n",
    "RandomForest_NoIloc(X_ROS, y_ROS, X_test, y_test)"
   ]
  },
  {
   "cell_type": "code",
   "execution_count": 29,
   "metadata": {},
   "outputs": [
    {
     "name": "stdout",
     "output_type": "stream",
     "text": [
      "CPU times: user 0 ns, sys: 2 µs, total: 2 µs\n",
      "Wall time: 2.86 µs\n",
      "NEURAL NETWORK\n",
      "TRAIN AND VALIDATION SETS:\n",
      "1 of KFold 10\n"
     ]
    },
    {
     "name": "stderr",
     "output_type": "stream",
     "text": [
      "/usr/local/lib/python3.6/dist-packages/sklearn/neural_network/multilayer_perceptron.py:566: ConvergenceWarning: Stochastic Optimizer: Maximum iterations (200) reached and the optimization hasn't converged yet.\n",
      "  % self.max_iter, ConvergenceWarning)\n"
     ]
    },
    {
     "name": "stdout",
     "output_type": "stream",
     "text": [
      "ROC AUC score: 0.7361809045226132\n",
      "2 of KFold 10\n"
     ]
    },
    {
     "name": "stderr",
     "output_type": "stream",
     "text": [
      "/usr/local/lib/python3.6/dist-packages/sklearn/neural_network/multilayer_perceptron.py:566: ConvergenceWarning: Stochastic Optimizer: Maximum iterations (200) reached and the optimization hasn't converged yet.\n",
      "  % self.max_iter, ConvergenceWarning)\n"
     ]
    },
    {
     "name": "stdout",
     "output_type": "stream",
     "text": [
      "ROC AUC score: 0.7393546680772282\n",
      "3 of KFold 10\n"
     ]
    },
    {
     "name": "stderr",
     "output_type": "stream",
     "text": [
      "/usr/local/lib/python3.6/dist-packages/sklearn/neural_network/multilayer_perceptron.py:566: ConvergenceWarning: Stochastic Optimizer: Maximum iterations (200) reached and the optimization hasn't converged yet.\n",
      "  % self.max_iter, ConvergenceWarning)\n"
     ]
    },
    {
     "name": "stdout",
     "output_type": "stream",
     "text": [
      "ROC AUC score: 0.7423961914837344\n",
      "4 of KFold 10\n"
     ]
    },
    {
     "name": "stderr",
     "output_type": "stream",
     "text": [
      "/usr/local/lib/python3.6/dist-packages/sklearn/neural_network/multilayer_perceptron.py:566: ConvergenceWarning: Stochastic Optimizer: Maximum iterations (200) reached and the optimization hasn't converged yet.\n",
      "  % self.max_iter, ConvergenceWarning)\n"
     ]
    },
    {
     "name": "stdout",
     "output_type": "stream",
     "text": [
      "ROC AUC score: 0.7369743454112669\n",
      "5 of KFold 10\n"
     ]
    },
    {
     "name": "stderr",
     "output_type": "stream",
     "text": [
      "/usr/local/lib/python3.6/dist-packages/sklearn/neural_network/multilayer_perceptron.py:566: ConvergenceWarning: Stochastic Optimizer: Maximum iterations (200) reached and the optimization hasn't converged yet.\n",
      "  % self.max_iter, ConvergenceWarning)\n"
     ]
    },
    {
     "name": "stdout",
     "output_type": "stream",
     "text": [
      "ROC AUC score: 0.7354535837080137\n",
      "6 of KFold 10\n"
     ]
    },
    {
     "name": "stderr",
     "output_type": "stream",
     "text": [
      "/usr/local/lib/python3.6/dist-packages/sklearn/neural_network/multilayer_perceptron.py:566: ConvergenceWarning: Stochastic Optimizer: Maximum iterations (200) reached and the optimization hasn't converged yet.\n",
      "  % self.max_iter, ConvergenceWarning)\n"
     ]
    },
    {
     "name": "stdout",
     "output_type": "stream",
     "text": [
      "ROC AUC score: 0.736445384818831\n",
      "7 of KFold 10\n"
     ]
    },
    {
     "name": "stderr",
     "output_type": "stream",
     "text": [
      "/usr/local/lib/python3.6/dist-packages/sklearn/neural_network/multilayer_perceptron.py:566: ConvergenceWarning: Stochastic Optimizer: Maximum iterations (200) reached and the optimization hasn't converged yet.\n",
      "  % self.max_iter, ConvergenceWarning)\n"
     ]
    },
    {
     "name": "stdout",
     "output_type": "stream",
     "text": [
      "ROC AUC score: 0.7372040735352466\n",
      "8 of KFold 10\n"
     ]
    },
    {
     "name": "stderr",
     "output_type": "stream",
     "text": [
      "/usr/local/lib/python3.6/dist-packages/sklearn/neural_network/multilayer_perceptron.py:566: ConvergenceWarning: Stochastic Optimizer: Maximum iterations (200) reached and the optimization hasn't converged yet.\n",
      "  % self.max_iter, ConvergenceWarning)\n"
     ]
    },
    {
     "name": "stdout",
     "output_type": "stream",
     "text": [
      "ROC AUC score: 0.7379314905435789\n",
      "9 of KFold 10\n"
     ]
    },
    {
     "name": "stderr",
     "output_type": "stream",
     "text": [
      "/usr/local/lib/python3.6/dist-packages/sklearn/neural_network/multilayer_perceptron.py:566: ConvergenceWarning: Stochastic Optimizer: Maximum iterations (200) reached and the optimization hasn't converged yet.\n",
      "  % self.max_iter, ConvergenceWarning)\n"
     ]
    },
    {
     "name": "stdout",
     "output_type": "stream",
     "text": [
      "ROC AUC score: 0.745602433540537\n",
      "10 of KFold 10\n",
      "ROC AUC score: 0.7351540801481287\n",
      "\n",
      "CROSS VALIDANTION SUMMARY:\n",
      "Mean: 0.7382697155789179\n",
      "Std deviation: 0.0031659240078582666\n",
      "\n",
      "TEST SET:\n",
      "F1-Score(micro): 0.7338652120717781\n",
      "F1-Score(macro): 0.6594730542373881\n",
      "F1-Score(weighted): 0.7624707148743239\n",
      "F1-Score(None): [0.81863503 0.50031108]\n",
      "Accuracy: 0.7338652120717781\n",
      "Sensitivity: 0.7551285755561976\n",
      "Specificity: 0.7293098112039617\n",
      "Confusion Matrix: [0.7293098112039617, 0.76]\n",
      "ROC AUC score: 0.7422191933800795\n",
      "CPU times: user 3h 3min 36s, sys: 1h 50min 19s, total: 4h 53min 55s\n",
      "Wall time: 37min 12s\n"
     ]
    },
    {
     "name": "stderr",
     "output_type": "stream",
     "text": [
      "/usr/local/lib/python3.6/dist-packages/sklearn/neural_network/multilayer_perceptron.py:566: ConvergenceWarning: Stochastic Optimizer: Maximum iterations (200) reached and the optimization hasn't converged yet.\n",
      "  % self.max_iter, ConvergenceWarning)\n"
     ]
    }
   ],
   "source": [
    "%%time\n",
    "NN_NoIloc(X_ROS, y_ROS, X_test, y_test)"
   ]
  },
  {
   "cell_type": "code",
   "execution_count": 30,
   "metadata": {},
   "outputs": [
    {
     "name": "stderr",
     "output_type": "stream",
     "text": [
      "/usr/local/lib/python3.6/dist-packages/sklearn/utils/validation.py:724: DataConversionWarning: A column-vector y was passed when a 1d array was expected. Please change the shape of y to (n_samples, ), for example using ravel().\n",
      "  y = column_or_1d(y, warn=True)\n"
     ]
    },
    {
     "name": "stdout",
     "output_type": "stream",
     "text": [
      "Resampling dataset using SMOTE (SMO)...\n",
      "X and Y SMO: 151232 151232\n"
     ]
    }
   ],
   "source": [
    "print(\"Resampling dataset using SMOTE (SMO)...\")\n",
    "sm = SMOTE(random_state=42)\n",
    "X_SMO, y_SMO = sm.fit_resample(X_train, y_train)\n",
    "print(\"X and Y SMO:\", len(X_SMO), len(y_SMO))"
   ]
  },
  {
   "cell_type": "code",
   "execution_count": 31,
   "metadata": {},
   "outputs": [
    {
     "name": "stdout",
     "output_type": "stream",
     "text": [
      "CPU times: user 2 µs, sys: 0 ns, total: 2 µs\n",
      "Wall time: 2.86 µs\n",
      "\n",
      "LOGISTIC REGRESSION\n",
      "TRAIN AND VALIDATION SETS:\n",
      "1 of KFold 10\n",
      "ROC AUC score: 0.692078815128273\n",
      "2 of KFold 10\n",
      "ROC AUC score: 0.6922110552763819\n",
      "3 of KFold 10\n",
      "ROC AUC score: 0.6923432954244908\n",
      "4 of KFold 10\n",
      "ROC AUC score: 0.6941946574980163\n",
      "5 of KFold 10\n",
      "ROC AUC score: 0.6941285374239621\n",
      "6 of KFold 10\n",
      "ROC AUC score: 0.6959137794234329\n",
      "7 of KFold 10\n",
      "ROC AUC score: 0.6927655072080413\n",
      "8 of KFold 10\n",
      "ROC AUC score: 0.6987171009125777\n",
      "9 of KFold 10\n",
      "ROC AUC score: 0.6921703478375877\n",
      "10 of KFold 10\n",
      "ROC AUC score: 0.6930300224837985\n",
      "\n",
      "CROSS VALIDANTION SUMMARY:\n",
      "Mean: 0.6937553118616562\n",
      "Std deviation: 0.0020203386775045616\n",
      "\n",
      "TEST SET:\n",
      "F1-Score(micro): 0.7361847471451874\n",
      "F1-Score(macro): 0.6433233678501832\n",
      "F1-Score(weighted): 0.7610956077113868\n",
      "F1-Score(None): [0.82531646 0.46133028]\n",
      "Accuracy: 0.7361847471451876\n",
      "Sensitivity: 0.6402773764807859\n",
      "Specificity: 0.7567316620241411\n",
      "Confusion Matrix: [0.7567316620241411, 0.64]\n",
      "ROC AUC score: 0.6985045192524635\n",
      "CPU times: user 37.4 s, sys: 21.2 s, total: 58.6 s\n",
      "Wall time: 7.5 s\n"
     ]
    }
   ],
   "source": [
    "%%time\n",
    "LogisticRegr_NoIloc(X_SMO, y_SMO, X_test, y_test)"
   ]
  },
  {
   "cell_type": "code",
   "execution_count": 32,
   "metadata": {},
   "outputs": [
    {
     "name": "stdout",
     "output_type": "stream",
     "text": [
      "CPU times: user 2 µs, sys: 0 ns, total: 2 µs\n",
      "Wall time: 3.34 µs\n",
      "\n",
      "DECISION TREE\n",
      "TRAIN AND VALIDATION SETS:\n",
      "1 of KFold 10\n",
      "ROC AUC score: 0.7376355461518116\n",
      "2 of KFold 10\n",
      "ROC AUC score: 0.7336022216344882\n",
      "3 of KFold 10\n",
      "ROC AUC score: 0.8850833112933086\n",
      "4 of KFold 10\n",
      "ROC AUC score: 0.8961914837344618\n",
      "5 of KFold 10\n",
      "ROC AUC score: 0.8961914837344618\n",
      "6 of KFold 10\n",
      "ROC AUC score: 0.8967865644009522\n",
      "7 of KFold 10\n",
      "ROC AUC score: 0.901401930961513\n",
      "8 of KFold 10\n",
      "ROC AUC score: 0.8935987303266764\n",
      "9 of KFold 10\n",
      "ROC AUC score: 0.893730987964555\n",
      "10 of KFold 10\n",
      "ROC AUC score: 0.8989551646607591\n",
      "\n",
      "CROSS VALIDANTION SUMMARY:\n",
      "Mean: 0.8633177424862989\n",
      "Std deviation: 0.06398416489619367\n",
      "\n",
      "TEST SET:\n",
      "F1-Score(micro): 0.6972879282218597\n",
      "F1-Score(macro): 0.591366719445395\n",
      "F1-Score(weighted): 0.7259981226904578\n",
      "F1-Score(None): [0.79941222 0.38332122]\n",
      "Accuracy: 0.6972879282218597\n",
      "Sensitivity: 0.5332273909274776\n",
      "Specificity: 0.7324357783967812\n",
      "Confusion Matrix: [0.7324357783967812, 0.53]\n",
      "ROC AUC score: 0.6328315846621294\n",
      "CPU times: user 4.81 s, sys: 49 µs, total: 4.81 s\n",
      "Wall time: 4.85 s\n"
     ]
    }
   ],
   "source": [
    "%%time\n",
    "DecisionTree_NoIloc(X_SMO, y_SMO, X_test, y_test)"
   ]
  },
  {
   "cell_type": "code",
   "execution_count": 33,
   "metadata": {},
   "outputs": [
    {
     "name": "stdout",
     "output_type": "stream",
     "text": [
      "CPU times: user 1 µs, sys: 0 ns, total: 1 µs\n",
      "Wall time: 2.62 µs\n",
      "RANDOM FOREST\n",
      "TRAIN AND VALIDATION SETS:\n",
      "1 of KFold 10\n",
      "ROC AUC score: 0.7611081724411531\n",
      "2 of KFold 10\n",
      "ROC AUC score: 0.7560169267389579\n",
      "3 of KFold 10\n",
      "ROC AUC score: 0.893348320550119\n",
      "4 of KFold 10\n",
      "ROC AUC score: 0.9037952922507274\n",
      "5 of KFold 10\n",
      "ROC AUC score: 0.9051176937318169\n",
      "6 of KFold 10\n",
      "ROC AUC score: 0.9105395398042845\n",
      "7 of KFold 10\n",
      "ROC AUC score: 0.9093373892342284\n",
      "8 of KFold 10\n",
      "ROC AUC score: 0.9056341753736279\n",
      "9 of KFold 10\n",
      "ROC AUC score: 0.9072873958471102\n",
      "10 of KFold 10\n",
      "ROC AUC score: 0.9092051315963497\n",
      "\n",
      "CROSS VALIDANTION SUMMARY:\n",
      "Mean: 0.8761390037568375\n",
      "Std deviation: 0.0589756618090471\n",
      "\n",
      "TEST SET:\n",
      "F1-Score(micro): 0.6624184339314845\n",
      "F1-Score(macro): 0.5983004017328358\n",
      "F1-Score(weighted): 0.7021557418795304\n",
      "F1-Score(None): [0.75878775 0.43781306]\n",
      "Accuracy: 0.6624184339314845\n",
      "Sensitivity: 0.7450158913608783\n",
      "Specificity: 0.6447229959764779\n",
      "Confusion Matrix: [0.6447229959764779, 0.75]\n",
      "ROC AUC score: 0.6948694436686781\n",
      "CPU times: user 1min 27s, sys: 75.7 ms, total: 1min 27s\n",
      "Wall time: 1min 28s\n"
     ]
    }
   ],
   "source": [
    "%%time\n",
    "RandomForest_NoIloc(X_SMO, y_SMO, X_test, y_test)"
   ]
  },
  {
   "cell_type": "code",
   "execution_count": 34,
   "metadata": {},
   "outputs": [
    {
     "name": "stdout",
     "output_type": "stream",
     "text": [
      "CPU times: user 2 µs, sys: 0 ns, total: 2 µs\n",
      "Wall time: 2.38 µs\n",
      "NEURAL NETWORK\n",
      "TRAIN AND VALIDATION SETS:\n",
      "1 of KFold 10\n"
     ]
    },
    {
     "name": "stderr",
     "output_type": "stream",
     "text": [
      "/usr/local/lib/python3.6/dist-packages/sklearn/neural_network/multilayer_perceptron.py:566: ConvergenceWarning: Stochastic Optimizer: Maximum iterations (200) reached and the optimization hasn't converged yet.\n",
      "  % self.max_iter, ConvergenceWarning)\n"
     ]
    },
    {
     "name": "stdout",
     "output_type": "stream",
     "text": [
      "ROC AUC score: 0.7354535837080137\n",
      "2 of KFold 10\n"
     ]
    },
    {
     "name": "stderr",
     "output_type": "stream",
     "text": [
      "/usr/local/lib/python3.6/dist-packages/sklearn/neural_network/multilayer_perceptron.py:566: ConvergenceWarning: Stochastic Optimizer: Maximum iterations (200) reached and the optimization hasn't converged yet.\n",
      "  % self.max_iter, ConvergenceWarning)\n"
     ]
    },
    {
     "name": "stdout",
     "output_type": "stream",
     "text": [
      "ROC AUC score: 0.7391563078550647\n",
      "3 of KFold 10\n"
     ]
    },
    {
     "name": "stderr",
     "output_type": "stream",
     "text": [
      "/usr/local/lib/python3.6/dist-packages/sklearn/neural_network/multilayer_perceptron.py:566: ConvergenceWarning: Stochastic Optimizer: Maximum iterations (200) reached and the optimization hasn't converged yet.\n",
      "  % self.max_iter, ConvergenceWarning)\n"
     ]
    },
    {
     "name": "stdout",
     "output_type": "stream",
     "text": [
      "ROC AUC score: 0.7474874371859296\n",
      "4 of KFold 10\n"
     ]
    },
    {
     "name": "stderr",
     "output_type": "stream",
     "text": [
      "/usr/local/lib/python3.6/dist-packages/sklearn/neural_network/multilayer_perceptron.py:566: ConvergenceWarning: Stochastic Optimizer: Maximum iterations (200) reached and the optimization hasn't converged yet.\n",
      "  % self.max_iter, ConvergenceWarning)\n"
     ]
    },
    {
     "name": "stdout",
     "output_type": "stream",
     "text": [
      "ROC AUC score: 0.7490081988891827\n",
      "5 of KFold 10\n"
     ]
    },
    {
     "name": "stderr",
     "output_type": "stream",
     "text": [
      "/usr/local/lib/python3.6/dist-packages/sklearn/neural_network/multilayer_perceptron.py:566: ConvergenceWarning: Stochastic Optimizer: Maximum iterations (200) reached and the optimization hasn't converged yet.\n",
      "  % self.max_iter, ConvergenceWarning)\n"
     ]
    },
    {
     "name": "stdout",
     "output_type": "stream",
     "text": [
      "ROC AUC score: 0.7449748743718593\n",
      "6 of KFold 10\n"
     ]
    },
    {
     "name": "stderr",
     "output_type": "stream",
     "text": [
      "/usr/local/lib/python3.6/dist-packages/sklearn/neural_network/multilayer_perceptron.py:566: ConvergenceWarning: Stochastic Optimizer: Maximum iterations (200) reached and the optimization hasn't converged yet.\n",
      "  % self.max_iter, ConvergenceWarning)\n"
     ]
    },
    {
     "name": "stdout",
     "output_type": "stream",
     "text": [
      "ROC AUC score: 0.7401481089658821\n",
      "7 of KFold 10\n"
     ]
    },
    {
     "name": "stderr",
     "output_type": "stream",
     "text": [
      "/usr/local/lib/python3.6/dist-packages/sklearn/neural_network/multilayer_perceptron.py:566: ConvergenceWarning: Stochastic Optimizer: Maximum iterations (200) reached and the optimization hasn't converged yet.\n",
      "  % self.max_iter, ConvergenceWarning)\n"
     ]
    },
    {
     "name": "stdout",
     "output_type": "stream",
     "text": [
      "ROC AUC score: 0.7430895384208438\n",
      "8 of KFold 10\n"
     ]
    },
    {
     "name": "stderr",
     "output_type": "stream",
     "text": [
      "/usr/local/lib/python3.6/dist-packages/sklearn/neural_network/multilayer_perceptron.py:566: ConvergenceWarning: Stochastic Optimizer: Maximum iterations (200) reached and the optimization hasn't converged yet.\n",
      "  % self.max_iter, ConvergenceWarning)\n"
     ]
    },
    {
     "name": "stdout",
     "output_type": "stream",
     "text": [
      "ROC AUC score: 0.7451395318079618\n",
      "9 of KFold 10\n"
     ]
    },
    {
     "name": "stderr",
     "output_type": "stream",
     "text": [
      "/usr/local/lib/python3.6/dist-packages/sklearn/neural_network/multilayer_perceptron.py:566: ConvergenceWarning: Stochastic Optimizer: Maximum iterations (200) reached and the optimization hasn't converged yet.\n",
      "  % self.max_iter, ConvergenceWarning)\n"
     ]
    },
    {
     "name": "stdout",
     "output_type": "stream",
     "text": [
      "ROC AUC score: 0.7412379314905435\n",
      "10 of KFold 10\n",
      "ROC AUC score: 0.7461975929109907\n",
      "\n",
      "CROSS VALIDANTION SUMMARY:\n",
      "Mean: 0.7431893105606272\n",
      "Std deviation: 0.0039692321708438205\n",
      "\n",
      "TEST SET:\n",
      "F1-Score(micro): 0.721477365415987\n",
      "F1-Score(macro): 0.6517879881369678\n",
      "F1-Score(weighted): 0.7525955723407021\n",
      "F1-Score(None): [0.80756564 0.49601033]\n",
      "Accuracy: 0.721477365415987\n",
      "Sensitivity: 0.776798613117596\n",
      "Specificity: 0.7096255029402662\n",
      "Confusion Matrix: [0.7096255029402662, 0.78]\n",
      "ROC AUC score: 0.7432120580289312\n",
      "CPU times: user 3h 4min 58s, sys: 1h 51min 2s, total: 4h 56min\n",
      "Wall time: 37min 28s\n"
     ]
    },
    {
     "name": "stderr",
     "output_type": "stream",
     "text": [
      "/usr/local/lib/python3.6/dist-packages/sklearn/neural_network/multilayer_perceptron.py:566: ConvergenceWarning: Stochastic Optimizer: Maximum iterations (200) reached and the optimization hasn't converged yet.\n",
      "  % self.max_iter, ConvergenceWarning)\n"
     ]
    }
   ],
   "source": [
    "%%time\n",
    "NN_NoIloc(X_SMO, y_SMO, X_test, y_test)"
   ]
  },
  {
   "cell_type": "code",
   "execution_count": 35,
   "metadata": {},
   "outputs": [
    {
     "name": "stderr",
     "output_type": "stream",
     "text": [
      "/usr/local/lib/python3.6/dist-packages/sklearn/utils/validation.py:724: DataConversionWarning: A column-vector y was passed when a 1d array was expected. Please change the shape of y to (n_samples, ), for example using ravel().\n",
      "  y = column_or_1d(y, warn=True)\n"
     ]
    },
    {
     "name": "stdout",
     "output_type": "stream",
     "text": [
      "Resampling dataset using ADASYN (ADA)...\n",
      "X and Y ADA: 150372 150372\n"
     ]
    }
   ],
   "source": [
    "print(\"Resampling dataset using ADASYN (ADA)...\")\n",
    "ada = ADASYN(random_state=42)\n",
    "X_ADA, y_ADA = ada.fit_resample(X_train, y_train)\n",
    "print(\"X and Y ADA:\", len(X_ADA), len(y_ADA))"
   ]
  },
  {
   "cell_type": "code",
   "execution_count": 36,
   "metadata": {},
   "outputs": [
    {
     "name": "stdout",
     "output_type": "stream",
     "text": [
      "CPU times: user 0 ns, sys: 2 µs, total: 2 µs\n",
      "Wall time: 2.62 µs\n",
      "\n",
      "LOGISTIC REGRESSION\n",
      "TRAIN AND VALIDATION SETS:\n",
      "1 of KFold 10\n",
      "ROC AUC score: 0.6918850008823085\n",
      "2 of KFold 10\n",
      "ROC AUC score: 0.6953262871763566\n",
      "3 of KFold 10\n",
      "ROC AUC score: 0.6670197846544542\n",
      "4 of KFold 10\n",
      "ROC AUC score: 0.6560338582892214\n",
      "5 of KFold 10\n",
      "ROC AUC score: 0.6579916528093992\n",
      "6 of KFold 10\n",
      "ROC AUC score: 0.6479268438161068\n",
      "7 of KFold 10\n",
      "ROC AUC score: 0.6552545428729277\n",
      "8 of KFold 10\n",
      "ROC AUC score: 0.6544024763583942\n",
      "9 of KFold 10\n",
      "ROC AUC score: 0.6630753041372754\n",
      "10 of KFold 10\n",
      "ROC AUC score: 0.6582417519227121\n",
      "\n",
      "CROSS VALIDANTION SUMMARY:\n",
      "Mean: 0.6647157502919157\n",
      "Std deviation: 0.015242767531583686\n",
      "\n",
      "TEST SET:\n",
      "F1-Score(micro): 0.719030383360522\n",
      "F1-Score(macro): 0.6334691041865121\n",
      "F1-Score(weighted): 0.7480684054616248\n",
      "F1-Score(None): [0.81055906 0.45637915]\n",
      "Accuracy: 0.719030383360522\n",
      "Sensitivity: 0.6684484253106039\n",
      "Specificity: 0.7298669142680285\n",
      "Confusion Matrix: [0.7298669142680285, 0.67]\n",
      "ROC AUC score: 0.6991576697893161\n",
      "CPU times: user 35.2 s, sys: 20.3 s, total: 55.5 s\n",
      "Wall time: 7.04 s\n"
     ]
    }
   ],
   "source": [
    "%%time\n",
    "LogisticRegr_NoIloc(X_ADA, y_ADA, X_test, y_test)"
   ]
  },
  {
   "cell_type": "code",
   "execution_count": 37,
   "metadata": {},
   "outputs": [
    {
     "name": "stdout",
     "output_type": "stream",
     "text": [
      "CPU times: user 2 µs, sys: 0 ns, total: 2 µs\n",
      "Wall time: 3.1 µs\n",
      "\n",
      "DECISION TREE\n",
      "TRAIN AND VALIDATION SETS:\n",
      "1 of KFold 10\n",
      "ROC AUC score: 0.7475958684470194\n",
      "2 of KFold 10\n",
      "ROC AUC score: 0.7429575753227573\n",
      "3 of KFold 10\n",
      "ROC AUC score: 0.8502790698727509\n",
      "4 of KFold 10\n",
      "ROC AUC score: 0.8680785124405503\n",
      "5 of KFold 10\n",
      "ROC AUC score: 0.8653090223724293\n",
      "6 of KFold 10\n",
      "ROC AUC score: 0.870356966324682\n",
      "7 of KFold 10\n",
      "ROC AUC score: 0.8677500498730725\n",
      "8 of KFold 10\n",
      "ROC AUC score: 0.8677264646648728\n",
      "9 of KFold 10\n",
      "ROC AUC score: 0.8730206361725081\n",
      "10 of KFold 10\n",
      "ROC AUC score: 0.8666684035618442\n",
      "\n",
      "CROSS VALIDANTION SUMMARY:\n",
      "Mean: 0.8419742569052489\n",
      "Std deviation: 0.04869632557059482\n",
      "\n",
      "TEST SET:\n",
      "F1-Score(micro): 0.7296339722675368\n",
      "F1-Score(macro): 0.6365921562318729\n",
      "F1-Score(weighted): 0.7555859412055989\n",
      "F1-Score(None): [0.82047289 0.45271142]\n",
      "Accuracy: 0.7296339722675367\n",
      "Sensitivity: 0.6337763652123664\n",
      "Specificity: 0.7501702259362426\n",
      "Confusion Matrix: [0.7501702259362426, 0.63]\n",
      "ROC AUC score: 0.6919732955743043\n",
      "CPU times: user 4.68 s, sys: 43 µs, total: 4.68 s\n",
      "Wall time: 4.67 s\n"
     ]
    }
   ],
   "source": [
    "%%time\n",
    "DecisionTree_NoIloc(X_ADA, y_ADA, X_test, y_test)"
   ]
  },
  {
   "cell_type": "code",
   "execution_count": 38,
   "metadata": {},
   "outputs": [
    {
     "name": "stdout",
     "output_type": "stream",
     "text": [
      "CPU times: user 2 µs, sys: 0 ns, total: 2 µs\n",
      "Wall time: 2.62 µs\n",
      "RANDOM FOREST\n",
      "TRAIN AND VALIDATION SETS:\n",
      "1 of KFold 10\n",
      "ROC AUC score: 0.7549420952301706\n",
      "2 of KFold 10\n",
      "ROC AUC score: 0.7538241388576744\n",
      "3 of KFold 10\n",
      "ROC AUC score: 0.8692070112325588\n",
      "4 of KFold 10\n",
      "ROC AUC score: 0.8788432071936376\n",
      "5 of KFold 10\n",
      "ROC AUC score: 0.8793736890076809\n",
      "6 of KFold 10\n",
      "ROC AUC score: 0.884411745019485\n",
      "7 of KFold 10\n",
      "ROC AUC score: 0.880187655452487\n",
      "8 of KFold 10\n",
      "ROC AUC score: 0.8804506491019086\n",
      "9 of KFold 10\n",
      "ROC AUC score: 0.8881460000468874\n",
      "10 of KFold 10\n",
      "ROC AUC score: 0.8823972957515219\n",
      "\n",
      "CROSS VALIDANTION SUMMARY:\n",
      "Mean: 0.8551783486894013\n",
      "Std deviation: 0.050605048089247685\n",
      "\n",
      "TEST SET:\n",
      "F1-Score(micro): 0.5957381729200653\n",
      "F1-Score(macro): 0.5496047689402785\n",
      "F1-Score(weighted): 0.6428856593702583\n",
      "F1-Score(None): [0.69375145 0.40545809]\n",
      "Accuracy: 0.5957381729200653\n",
      "Sensitivity: 0.7812770875469518\n",
      "Specificity: 0.5559888579387187\n",
      "Confusion Matrix: [0.5559888579387187, 0.78]\n",
      "ROC AUC score: 0.6686329727428352\n",
      "CPU times: user 1min 26s, sys: 20.2 ms, total: 1min 26s\n",
      "Wall time: 1min 26s\n"
     ]
    }
   ],
   "source": [
    "%%time\n",
    "RandomForest_NoIloc(X_ADA, y_ADA, X_test, y_test)"
   ]
  },
  {
   "cell_type": "code",
   "execution_count": 39,
   "metadata": {},
   "outputs": [
    {
     "name": "stdout",
     "output_type": "stream",
     "text": [
      "CPU times: user 0 ns, sys: 1 µs, total: 1 µs\n",
      "Wall time: 2.38 µs\n",
      "NEURAL NETWORK\n",
      "TRAIN AND VALIDATION SETS:\n",
      "1 of KFold 10\n"
     ]
    },
    {
     "name": "stderr",
     "output_type": "stream",
     "text": [
      "/usr/local/lib/python3.6/dist-packages/sklearn/neural_network/multilayer_perceptron.py:566: ConvergenceWarning: Stochastic Optimizer: Maximum iterations (200) reached and the optimization hasn't converged yet.\n",
      "  % self.max_iter, ConvergenceWarning)\n"
     ]
    },
    {
     "name": "stdout",
     "output_type": "stream",
     "text": [
      "ROC AUC score: 0.7332212794421828\n",
      "2 of KFold 10\n"
     ]
    },
    {
     "name": "stderr",
     "output_type": "stream",
     "text": [
      "/usr/local/lib/python3.6/dist-packages/sklearn/neural_network/multilayer_perceptron.py:566: ConvergenceWarning: Stochastic Optimizer: Maximum iterations (200) reached and the optimization hasn't converged yet.\n",
      "  % self.max_iter, ConvergenceWarning)\n"
     ]
    },
    {
     "name": "stdout",
     "output_type": "stream",
     "text": [
      "ROC AUC score: 0.7382791113348839\n",
      "3 of KFold 10\n"
     ]
    },
    {
     "name": "stderr",
     "output_type": "stream",
     "text": [
      "/usr/local/lib/python3.6/dist-packages/sklearn/neural_network/multilayer_perceptron.py:566: ConvergenceWarning: Stochastic Optimizer: Maximum iterations (200) reached and the optimization hasn't converged yet.\n",
      "  % self.max_iter, ConvergenceWarning)\n"
     ]
    },
    {
     "name": "stdout",
     "output_type": "stream",
     "text": [
      "ROC AUC score: 0.7212161169113287\n",
      "4 of KFold 10\n"
     ]
    },
    {
     "name": "stderr",
     "output_type": "stream",
     "text": [
      "/usr/local/lib/python3.6/dist-packages/sklearn/neural_network/multilayer_perceptron.py:566: ConvergenceWarning: Stochastic Optimizer: Maximum iterations (200) reached and the optimization hasn't converged yet.\n",
      "  % self.max_iter, ConvergenceWarning)\n"
     ]
    },
    {
     "name": "stdout",
     "output_type": "stream",
     "text": [
      "ROC AUC score: 0.7155822196222305\n",
      "5 of KFold 10\n"
     ]
    },
    {
     "name": "stderr",
     "output_type": "stream",
     "text": [
      "/usr/local/lib/python3.6/dist-packages/sklearn/neural_network/multilayer_perceptron.py:566: ConvergenceWarning: Stochastic Optimizer: Maximum iterations (200) reached and the optimization hasn't converged yet.\n",
      "  % self.max_iter, ConvergenceWarning)\n"
     ]
    },
    {
     "name": "stdout",
     "output_type": "stream",
     "text": [
      "ROC AUC score: 0.6959428772088314\n",
      "6 of KFold 10\n"
     ]
    },
    {
     "name": "stderr",
     "output_type": "stream",
     "text": [
      "/usr/local/lib/python3.6/dist-packages/sklearn/neural_network/multilayer_perceptron.py:566: ConvergenceWarning: Stochastic Optimizer: Maximum iterations (200) reached and the optimization hasn't converged yet.\n",
      "  % self.max_iter, ConvergenceWarning)\n"
     ]
    },
    {
     "name": "stdout",
     "output_type": "stream",
     "text": [
      "ROC AUC score: 0.6992519233547705\n",
      "7 of KFold 10\n"
     ]
    },
    {
     "name": "stderr",
     "output_type": "stream",
     "text": [
      "/usr/local/lib/python3.6/dist-packages/sklearn/neural_network/multilayer_perceptron.py:566: ConvergenceWarning: Stochastic Optimizer: Maximum iterations (200) reached and the optimization hasn't converged yet.\n",
      "  % self.max_iter, ConvergenceWarning)\n"
     ]
    },
    {
     "name": "stdout",
     "output_type": "stream",
     "text": [
      "ROC AUC score: 0.7057071957444003\n",
      "8 of KFold 10\n"
     ]
    },
    {
     "name": "stderr",
     "output_type": "stream",
     "text": [
      "/usr/local/lib/python3.6/dist-packages/sklearn/neural_network/multilayer_perceptron.py:566: ConvergenceWarning: Stochastic Optimizer: Maximum iterations (200) reached and the optimization hasn't converged yet.\n",
      "  % self.max_iter, ConvergenceWarning)\n"
     ]
    },
    {
     "name": "stdout",
     "output_type": "stream",
     "text": [
      "ROC AUC score: 0.7026682513992106\n",
      "9 of KFold 10\n"
     ]
    },
    {
     "name": "stderr",
     "output_type": "stream",
     "text": [
      "/usr/local/lib/python3.6/dist-packages/sklearn/neural_network/multilayer_perceptron.py:566: ConvergenceWarning: Stochastic Optimizer: Maximum iterations (200) reached and the optimization hasn't converged yet.\n",
      "  % self.max_iter, ConvergenceWarning)\n"
     ]
    },
    {
     "name": "stdout",
     "output_type": "stream",
     "text": [
      "ROC AUC score: 0.714149682913419\n",
      "10 of KFold 10\n",
      "ROC AUC score: 0.7019834399282713\n",
      "\n",
      "CROSS VALIDANTION SUMMARY:\n",
      "Mean: 0.7128002097859529\n",
      "Std deviation: 0.013726901781443597\n",
      "\n",
      "TEST SET:\n",
      "F1-Score(micro): 0.688341150081566\n",
      "F1-Score(macro): 0.6298536062463829\n",
      "F1-Score(weighted): 0.7250688523436981\n",
      "F1-Score(None): [0.77698944 0.48271777]\n",
      "Accuracy: 0.688341150081566\n",
      "Sensitivity: 0.8241837619185206\n",
      "Specificity: 0.659238625812442\n",
      "Confusion Matrix: [0.659238625812442, 0.82]\n",
      "ROC AUC score: 0.7417111938654812\n",
      "CPU times: user 3h 1min 51s, sys: 1h 48min 33s, total: 4h 50min 25s\n",
      "Wall time: 36min 26s\n"
     ]
    },
    {
     "name": "stderr",
     "output_type": "stream",
     "text": [
      "/usr/local/lib/python3.6/dist-packages/sklearn/neural_network/multilayer_perceptron.py:566: ConvergenceWarning: Stochastic Optimizer: Maximum iterations (200) reached and the optimization hasn't converged yet.\n",
      "  % self.max_iter, ConvergenceWarning)\n"
     ]
    }
   ],
   "source": [
    "%%time\n",
    "NN_NoIloc(X_ADA, y_ADA, X_test, y_test)"
   ]
  }
 ],
 "metadata": {
  "kernelspec": {
   "display_name": "Python 3",
   "language": "python",
   "name": "python3"
  },
  "language_info": {
   "codemirror_mode": {
    "name": "ipython",
    "version": 3
   },
   "file_extension": ".py",
   "mimetype": "text/x-python",
   "name": "python",
   "nbconvert_exporter": "python",
   "pygments_lexer": "ipython3",
   "version": "3.6.8"
  }
 },
 "nbformat": 4,
 "nbformat_minor": 2
}
