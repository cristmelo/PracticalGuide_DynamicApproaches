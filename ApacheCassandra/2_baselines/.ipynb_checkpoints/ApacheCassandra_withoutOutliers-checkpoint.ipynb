{
 "cells": [
  {
   "cell_type": "code",
   "execution_count": 1,
   "metadata": {},
   "outputs": [
    {
     "name": "stderr",
     "output_type": "stream",
     "text": [
      "Using TensorFlow backend.\n"
     ]
    }
   ],
   "source": [
    "%run auxiliary.ipynb"
   ]
  },
  {
   "cell_type": "markdown",
   "metadata": {},
   "source": [
    "## Preprocessing"
   ]
  },
  {
   "cell_type": "code",
   "execution_count": 2,
   "metadata": {
    "scrolled": false
   },
   "outputs": [
    {
     "name": "stdout",
     "output_type": "stream",
     "text": [
      "Setting general dataframe...\n",
      "Total of instances: 130773\n",
      "... DONE!\n",
      "Filtering required columns into X features...\n",
      "... DONE!\n",
      "Setting y column containing label of change-proneness...\n",
      "... DONE!\n",
      "Declaring a dictionary to save results...\n",
      "... DONE!\n",
      "Splitting dataset into train and test sets...\n",
      "General information:\n",
      "X Train set: 91541 X Test set: 39232\n",
      "y Train set: 91541 y Test set: 39232\n",
      "... DONE!\n"
     ]
    }
   ],
   "source": [
    "print(\"Setting general dataframe...\")\n",
    "all_releases_df = pd.read_csv('all_releases.csv')\n",
    "print(\"Total of instances:\", all_releases_df.shape[0])\n",
    "print(\"... DONE!\")\n",
    "\n",
    "print(\"Filtering required columns into X features...\")\n",
    "X = all_releases_df.drop(columns=['File', 'Kind', 'Name','Path', 'class_frequency', 'number_of_changes', 'release', 'will_change'])\n",
    "print(\"... DONE!\")\n",
    "\n",
    "print(\"Setting y column containing label of change-proneness...\")\n",
    "y = pd.DataFrame(all_releases_df.loc[:,'will_change'])\n",
    "print(\"... DONE!\")\n",
    "\n",
    "print(\"Declaring a dictionary to save results...\")\n",
    "results_dict = dict()\n",
    "print(\"... DONE!\")\n",
    "\n",
    "print(\"Splitting dataset into train and test sets...\")\n",
    "X_train, X_test, y_train, y_test = train_test_split(X, y, test_size=0.30, random_state=42)\n",
    "print(\"General information:\")\n",
    "print(\"X Train set:\", X_train.shape[0], \"X Test set:\", X_test.shape[0])\n",
    "print(\"y Train set:\", y_train.shape[0], \"y Test set:\", y_test.shape[0])\n",
    "print(\"... DONE!\")"
   ]
  },
  {
   "cell_type": "markdown",
   "metadata": {},
   "source": [
    "## Outliers removal"
   ]
  },
  {
   "cell_type": "code",
   "execution_count": 3,
   "metadata": {},
   "outputs": [],
   "source": [
    "wo_outliers_df = pd.DataFrame()\n",
    "only_1_df = X_train.loc[y_train[y_train.will_change == 1].index]\n",
    "only_0_df = X_train.loc[y_train[y_train.will_change == 0].index]"
   ]
  },
  {
   "cell_type": "code",
   "execution_count": 4,
   "metadata": {},
   "outputs": [
    {
     "name": "stdout",
     "output_type": "stream",
     "text": [
      "Checking outliers in label zero\n"
     ]
    },
    {
     "data": {
      "image/png": "[encoded data removed]",
      "text/plain": [
       "<Figure size 720x720 with 1 Axes>"
      ]
     },
     "metadata": {},
     "output_type": "display_data"
    }
   ],
   "source": [
    "print(\"Checking outliers in label zero\")\n",
    "boxplot_caps = only_0_df.boxplot(figsize=(10, 10), return_type='dict')['caps']"
   ]
  },
  {
   "cell_type": "code",
   "execution_count": 5,
   "metadata": {},
   "outputs": [],
   "source": [
    "boxplot_max_list = list()\n",
    "for i in range(1,16,2):\n",
    "    boxplot_max_list.append(boxplot_caps[i].get_ydata()[0])"
   ]
  },
  {
   "cell_type": "code",
   "execution_count": 6,
   "metadata": {},
   "outputs": [],
   "source": [
    "outliers_index_list = outliers_counter(only_0_df)"
   ]
  },
  {
   "cell_type": "code",
   "execution_count": 7,
   "metadata": {},
   "outputs": [
    {
     "name": "stdout",
     "output_type": "stream",
     "text": [
      "Amount of outliers in label zero\n"
     ]
    },
    {
     "data": {
      "text/plain": [
       "7569"
      ]
     },
     "execution_count": 7,
     "metadata": {},
     "output_type": "execute_result"
    }
   ],
   "source": [
    "print(\"Amount of outliers in label zero\")\n",
    "outliers_index_list.__len__()"
   ]
  },
  {
   "cell_type": "code",
   "execution_count": 8,
   "metadata": {},
   "outputs": [],
   "source": [
    "only_0_df = only_0_df.drop(outliers_index_list)"
   ]
  },
  {
   "cell_type": "code",
   "execution_count": 9,
   "metadata": {},
   "outputs": [
    {
     "name": "stdout",
     "output_type": "stream",
     "text": [
      "Checking outliers in label one\n"
     ]
    },
    {
     "data": {
      "image/png": "[encoded data removed]",
      "text/plain": [
       "<Figure size 720x720 with 1 Axes>"
      ]
     },
     "metadata": {},
     "output_type": "display_data"
    }
   ],
   "source": [
    "print(\"Checking outliers in label one\")\n",
    "boxplot_caps = only_1_df.boxplot(figsize=(10, 10), return_type='dict')['caps']"
   ]
  },
  {
   "cell_type": "code",
   "execution_count": 10,
   "metadata": {},
   "outputs": [],
   "source": [
    "boxplot_max_list = list()\n",
    "for i in range(1,16,2):\n",
    "    boxplot_max_list.append(boxplot_caps[i].get_ydata()[0])"
   ]
  },
  {
   "cell_type": "code",
   "execution_count": 11,
   "metadata": {},
   "outputs": [],
   "source": [
    "outliers_index_list = outliers_counter(only_1_df)"
   ]
  },
  {
   "cell_type": "code",
   "execution_count": 12,
   "metadata": {},
   "outputs": [
    {
     "name": "stdout",
     "output_type": "stream",
     "text": [
      "Amount of outliers in label one\n"
     ]
    },
    {
     "data": {
      "text/plain": [
       "1213"
      ]
     },
     "execution_count": 12,
     "metadata": {},
     "output_type": "execute_result"
    }
   ],
   "source": [
    "print(\"Amount of outliers in label one\")\n",
    "outliers_index_list.__len__()"
   ]
  },
  {
   "cell_type": "code",
   "execution_count": 13,
   "metadata": {},
   "outputs": [],
   "source": [
    "only_1_df = only_1_df.drop(outliers_index_list)"
   ]
  },
  {
   "cell_type": "code",
   "execution_count": 14,
   "metadata": {},
   "outputs": [],
   "source": [
    "X_train = wo_outliers_df.append([only_0_df, only_1_df])"
   ]
  },
  {
   "cell_type": "code",
   "execution_count": 15,
   "metadata": {},
   "outputs": [],
   "source": [
    "y_train = y_train.loc[X_train.index]"
   ]
  },
  {
   "cell_type": "code",
   "execution_count": 16,
   "metadata": {},
   "outputs": [
    {
     "name": "stdout",
     "output_type": "stream",
     "text": [
      "(82759, 8)\n",
      "(82759, 1)\n"
     ]
    }
   ],
   "source": [
    "print(X_train.shape)\n",
    "print(y_train.shape)"
   ]
  },
  {
   "cell_type": "code",
   "execution_count": 17,
   "metadata": {},
   "outputs": [
    {
     "name": "stdout",
     "output_type": "stream",
     "text": [
      "Scaling features...\n",
      "... DONE!\n",
      "Setting stratified k-fold...\n",
      "k = 10\n",
      "... DONE!\n",
      "\n"
     ]
    }
   ],
   "source": [
    "print(\"Scaling features...\")\n",
    "scaler = MinMaxScaler()\n",
    "X_train = pd.DataFrame(scaler.fit_transform(X_train))\n",
    "X_test = pd.DataFrame(scaler.fit_transform(X_test))\n",
    "print(\"... DONE!\")\n",
    "\n",
    "print(\"Setting stratified k-fold...\")\n",
    "k=10\n",
    "kf = StratifiedKFold(n_splits=k, shuffle=False, random_state=42)\n",
    "print(\"k =\", k)\n",
    "print(\"... DONE!\\n\")"
   ]
  },
  {
   "cell_type": "markdown",
   "metadata": {},
   "source": [
    "## Statistical Analysis"
   ]
  },
  {
   "cell_type": "code",
   "execution_count": 18,
   "metadata": {},
   "outputs": [
    {
     "data": {
      "text/html": [
       "<div>\n",
       "<style scoped>\n",
       "    .dataframe tbody tr th:only-of-type {\n",
       "        vertical-align: middle;\n",
       "    }\n",
       "\n",
       "    .dataframe tbody tr th {\n",
       "        vertical-align: top;\n",
       "    }\n",
       "\n",
       "    .dataframe thead th {\n",
       "        text-align: right;\n",
       "    }\n",
       "</style>\n",
       "<table border=\"1\" class=\"dataframe\">\n",
       "  <thead>\n",
       "    <tr style=\"text-align: right;\">\n",
       "      <th></th>\n",
       "      <th>CountClassCoupled</th>\n",
       "      <th>CountDeclMethod</th>\n",
       "      <th>CountDeclMethodAll</th>\n",
       "      <th>CountClassDerived</th>\n",
       "      <th>CountLineCode</th>\n",
       "      <th>SumCyclomatic</th>\n",
       "      <th>PercentLackOfCohesion</th>\n",
       "      <th>MaxInheritanceTree</th>\n",
       "      <th>class_frequency</th>\n",
       "      <th>will_change</th>\n",
       "      <th>number_of_changes</th>\n",
       "      <th>release</th>\n",
       "    </tr>\n",
       "  </thead>\n",
       "  <tbody>\n",
       "    <tr>\n",
       "      <th>count</th>\n",
       "      <td>130773.000000</td>\n",
       "      <td>130773.000000</td>\n",
       "      <td>130773.000000</td>\n",
       "      <td>130773.000000</td>\n",
       "      <td>130773.000000</td>\n",
       "      <td>130773.000000</td>\n",
       "      <td>130773.000000</td>\n",
       "      <td>130773.000000</td>\n",
       "      <td>130773.000000</td>\n",
       "      <td>130773.000000</td>\n",
       "      <td>130773.000000</td>\n",
       "      <td>130773.000000</td>\n",
       "    </tr>\n",
       "    <tr>\n",
       "      <th>mean</th>\n",
       "      <td>5.747073</td>\n",
       "      <td>6.513707</td>\n",
       "      <td>10.989669</td>\n",
       "      <td>0.273352</td>\n",
       "      <td>103.106062</td>\n",
       "      <td>13.787349</td>\n",
       "      <td>20.578522</td>\n",
       "      <td>1.651251</td>\n",
       "      <td>11.395915</td>\n",
       "      <td>0.174707</td>\n",
       "      <td>27.325105</td>\n",
       "      <td>32.741315</td>\n",
       "    </tr>\n",
       "    <tr>\n",
       "      <th>std</th>\n",
       "      <td>8.658830</td>\n",
       "      <td>12.084357</td>\n",
       "      <td>17.917928</td>\n",
       "      <td>2.303381</td>\n",
       "      <td>754.576185</td>\n",
       "      <td>31.166179</td>\n",
       "      <td>30.626505</td>\n",
       "      <td>0.740645</td>\n",
       "      <td>10.388216</td>\n",
       "      <td>0.379718</td>\n",
       "      <td>15.532635</td>\n",
       "      <td>11.367734</td>\n",
       "    </tr>\n",
       "    <tr>\n",
       "      <th>min</th>\n",
       "      <td>0.000000</td>\n",
       "      <td>0.000000</td>\n",
       "      <td>0.000000</td>\n",
       "      <td>0.000000</td>\n",
       "      <td>0.000000</td>\n",
       "      <td>0.000000</td>\n",
       "      <td>0.000000</td>\n",
       "      <td>1.000000</td>\n",
       "      <td>1.000000</td>\n",
       "      <td>0.000000</td>\n",
       "      <td>0.000000</td>\n",
       "      <td>1.000000</td>\n",
       "    </tr>\n",
       "    <tr>\n",
       "      <th>25%</th>\n",
       "      <td>1.000000</td>\n",
       "      <td>1.000000</td>\n",
       "      <td>2.000000</td>\n",
       "      <td>0.000000</td>\n",
       "      <td>12.000000</td>\n",
       "      <td>2.000000</td>\n",
       "      <td>0.000000</td>\n",
       "      <td>1.000000</td>\n",
       "      <td>3.000000</td>\n",
       "      <td>0.000000</td>\n",
       "      <td>17.000000</td>\n",
       "      <td>25.000000</td>\n",
       "    </tr>\n",
       "    <tr>\n",
       "      <th>50%</th>\n",
       "      <td>3.000000</td>\n",
       "      <td>3.000000</td>\n",
       "      <td>4.000000</td>\n",
       "      <td>0.000000</td>\n",
       "      <td>32.000000</td>\n",
       "      <td>5.000000</td>\n",
       "      <td>0.000000</td>\n",
       "      <td>2.000000</td>\n",
       "      <td>8.000000</td>\n",
       "      <td>0.000000</td>\n",
       "      <td>31.000000</td>\n",
       "      <td>35.000000</td>\n",
       "    </tr>\n",
       "    <tr>\n",
       "      <th>75%</th>\n",
       "      <td>7.000000</td>\n",
       "      <td>6.000000</td>\n",
       "      <td>13.000000</td>\n",
       "      <td>0.000000</td>\n",
       "      <td>82.000000</td>\n",
       "      <td>13.000000</td>\n",
       "      <td>45.000000</td>\n",
       "      <td>2.000000</td>\n",
       "      <td>18.000000</td>\n",
       "      <td>0.000000</td>\n",
       "      <td>40.000000</td>\n",
       "      <td>42.000000</td>\n",
       "    </tr>\n",
       "    <tr>\n",
       "      <th>max</th>\n",
       "      <td>145.000000</td>\n",
       "      <td>294.000000</td>\n",
       "      <td>294.000000</td>\n",
       "      <td>116.000000</td>\n",
       "      <td>45517.000000</td>\n",
       "      <td>843.000000</td>\n",
       "      <td>100.000000</td>\n",
       "      <td>6.000000</td>\n",
       "      <td>49.000000</td>\n",
       "      <td>1.000000</td>\n",
       "      <td>49.000000</td>\n",
       "      <td>49.000000</td>\n",
       "    </tr>\n",
       "  </tbody>\n",
       "</table>\n",
       "</div>"
      ],
      "text/plain": [
       "       CountClassCoupled  CountDeclMethod  CountDeclMethodAll  \\\n",
       "count      130773.000000    130773.000000       130773.000000   \n",
       "mean            5.747073         6.513707           10.989669   \n",
       "std             8.658830        12.084357           17.917928   \n",
       "min             0.000000         0.000000            0.000000   \n",
       "25%             1.000000         1.000000            2.000000   \n",
       "50%             3.000000         3.000000            4.000000   \n",
       "75%             7.000000         6.000000           13.000000   \n",
       "max           145.000000       294.000000          294.000000   \n",
       "\n",
       "       CountClassDerived  CountLineCode  SumCyclomatic  PercentLackOfCohesion  \\\n",
       "count      130773.000000  130773.000000  130773.000000          130773.000000   \n",
       "mean            0.273352     103.106062      13.787349              20.578522   \n",
       "std             2.303381     754.576185      31.166179              30.626505   \n",
       "min             0.000000       0.000000       0.000000               0.000000   \n",
       "25%             0.000000      12.000000       2.000000               0.000000   \n",
       "50%             0.000000      32.000000       5.000000               0.000000   \n",
       "75%             0.000000      82.000000      13.000000              45.000000   \n",
       "max           116.000000   45517.000000     843.000000             100.000000   \n",
       "\n",
       "       MaxInheritanceTree  class_frequency    will_change  number_of_changes  \\\n",
       "count       130773.000000    130773.000000  130773.000000      130773.000000   \n",
       "mean             1.651251        11.395915       0.174707          27.325105   \n",
       "std              0.740645        10.388216       0.379718          15.532635   \n",
       "min              1.000000         1.000000       0.000000           0.000000   \n",
       "25%              1.000000         3.000000       0.000000          17.000000   \n",
       "50%              2.000000         8.000000       0.000000          31.000000   \n",
       "75%              2.000000        18.000000       0.000000          40.000000   \n",
       "max              6.000000        49.000000       1.000000          49.000000   \n",
       "\n",
       "             release  \n",
       "count  130773.000000  \n",
       "mean       32.741315  \n",
       "std        11.367734  \n",
       "min         1.000000  \n",
       "25%        25.000000  \n",
       "50%        35.000000  \n",
       "75%        42.000000  \n",
       "max        49.000000  "
      ]
     },
     "execution_count": 18,
     "metadata": {},
     "output_type": "execute_result"
    }
   ],
   "source": [
    "all_releases_df.describe()"
   ]
  },
  {
   "cell_type": "code",
   "execution_count": 19,
   "metadata": {},
   "outputs": [
    {
     "data": {
      "text/plain": [
       "will_change\n",
       "0    68047\n",
       "1    14712\n",
       "Name: will_change, dtype: int64"
      ]
     },
     "execution_count": 19,
     "metadata": {},
     "output_type": "execute_result"
    },
    {
     "data": {
      "image/png": "[encoded data removed]",
      "text/plain": [
       "<Figure size 360x360 with 1 Axes>"
      ]
     },
     "metadata": {},
     "output_type": "display_data"
    }
   ],
   "source": [
    "ax = y_train.groupby(['will_change'])['will_change'].count().plot.bar(title=\"Class Distribution\", figsize=(5,5))\n",
    "y_train.groupby(['will_change'])['will_change'].count()"
   ]
  },
  {
   "cell_type": "code",
   "execution_count": 20,
   "metadata": {},
   "outputs": [
    {
     "data": {
      "text/html": [
       "<style  type=\"text/css\" >\n",
       "    #T_c1546972_21ab_11ea_a127_e0d55eb0dab9row0_col0 {\n",
       "            background-color:  #b40426;\n",
       "            color:  #f1f1f1;\n",
       "        }    #T_c1546972_21ab_11ea_a127_e0d55eb0dab9row0_col1 {\n",
       "            background-color:  #c6d6f1;\n",
       "            color:  #000000;\n",
       "        }    #T_c1546972_21ab_11ea_a127_e0d55eb0dab9row0_col2 {\n",
       "            background-color:  #b1cbfc;\n",
       "            color:  #000000;\n",
       "        }    #T_c1546972_21ab_11ea_a127_e0d55eb0dab9row0_col3 {\n",
       "            background-color:  #445acc;\n",
       "            color:  #f1f1f1;\n",
       "        }    #T_c1546972_21ab_11ea_a127_e0d55eb0dab9row0_col4 {\n",
       "            background-color:  #e7d7ce;\n",
       "            color:  #000000;\n",
       "        }    #T_c1546972_21ab_11ea_a127_e0d55eb0dab9row0_col5 {\n",
       "            background-color:  #dbdcde;\n",
       "            color:  #000000;\n",
       "        }    #T_c1546972_21ab_11ea_a127_e0d55eb0dab9row0_col6 {\n",
       "            background-color:  #8db0fe;\n",
       "            color:  #000000;\n",
       "        }    #T_c1546972_21ab_11ea_a127_e0d55eb0dab9row0_col7 {\n",
       "            background-color:  #3b4cc0;\n",
       "            color:  #f1f1f1;\n",
       "        }    #T_c1546972_21ab_11ea_a127_e0d55eb0dab9row1_col0 {\n",
       "            background-color:  #dadce0;\n",
       "            color:  #000000;\n",
       "        }    #T_c1546972_21ab_11ea_a127_e0d55eb0dab9row1_col1 {\n",
       "            background-color:  #b40426;\n",
       "            color:  #f1f1f1;\n",
       "        }    #T_c1546972_21ab_11ea_a127_e0d55eb0dab9row1_col2 {\n",
       "            background-color:  #f08b6e;\n",
       "            color:  #000000;\n",
       "        }    #T_c1546972_21ab_11ea_a127_e0d55eb0dab9row1_col3 {\n",
       "            background-color:  #a2c1ff;\n",
       "            color:  #000000;\n",
       "        }    #T_c1546972_21ab_11ea_a127_e0d55eb0dab9row1_col4 {\n",
       "            background-color:  #ec7f63;\n",
       "            color:  #000000;\n",
       "        }    #T_c1546972_21ab_11ea_a127_e0d55eb0dab9row1_col5 {\n",
       "            background-color:  #e8765c;\n",
       "            color:  #000000;\n",
       "        }    #T_c1546972_21ab_11ea_a127_e0d55eb0dab9row1_col6 {\n",
       "            background-color:  #f6bda2;\n",
       "            color:  #000000;\n",
       "        }    #T_c1546972_21ab_11ea_a127_e0d55eb0dab9row1_col7 {\n",
       "            background-color:  #3b4cc0;\n",
       "            color:  #f1f1f1;\n",
       "        }    #T_c1546972_21ab_11ea_a127_e0d55eb0dab9row2_col0 {\n",
       "            background-color:  #81a4fb;\n",
       "            color:  #000000;\n",
       "        }    #T_c1546972_21ab_11ea_a127_e0d55eb0dab9row2_col1 {\n",
       "            background-color:  #f7ac8e;\n",
       "            color:  #000000;\n",
       "        }    #T_c1546972_21ab_11ea_a127_e0d55eb0dab9row2_col2 {\n",
       "            background-color:  #b40426;\n",
       "            color:  #f1f1f1;\n",
       "        }    #T_c1546972_21ab_11ea_a127_e0d55eb0dab9row2_col3 {\n",
       "            background-color:  #3b4cc0;\n",
       "            color:  #f1f1f1;\n",
       "        }    #T_c1546972_21ab_11ea_a127_e0d55eb0dab9row2_col4 {\n",
       "            background-color:  #dfdbd9;\n",
       "            color:  #000000;\n",
       "        }    #T_c1546972_21ab_11ea_a127_e0d55eb0dab9row2_col5 {\n",
       "            background-color:  #dedcdb;\n",
       "            color:  #000000;\n",
       "        }    #T_c1546972_21ab_11ea_a127_e0d55eb0dab9row2_col6 {\n",
       "            background-color:  #abc8fd;\n",
       "            color:  #000000;\n",
       "        }    #T_c1546972_21ab_11ea_a127_e0d55eb0dab9row2_col7 {\n",
       "            background-color:  #5470de;\n",
       "            color:  #000000;\n",
       "        }    #T_c1546972_21ab_11ea_a127_e0d55eb0dab9row3_col0 {\n",
       "            background-color:  #5977e3;\n",
       "            color:  #000000;\n",
       "        }    #T_c1546972_21ab_11ea_a127_e0d55eb0dab9row3_col1 {\n",
       "            background-color:  #92b4fe;\n",
       "            color:  #000000;\n",
       "        }    #T_c1546972_21ab_11ea_a127_e0d55eb0dab9row3_col2 {\n",
       "            background-color:  #84a7fc;\n",
       "            color:  #000000;\n",
       "        }    #T_c1546972_21ab_11ea_a127_e0d55eb0dab9row3_col3 {\n",
       "            background-color:  #b40426;\n",
       "            color:  #f1f1f1;\n",
       "        }    #T_c1546972_21ab_11ea_a127_e0d55eb0dab9row3_col4 {\n",
       "            background-color:  #779af7;\n",
       "            color:  #000000;\n",
       "        }    #T_c1546972_21ab_11ea_a127_e0d55eb0dab9row3_col5 {\n",
       "            background-color:  #7093f3;\n",
       "            color:  #000000;\n",
       "        }    #T_c1546972_21ab_11ea_a127_e0d55eb0dab9row3_col6 {\n",
       "            background-color:  #85a8fc;\n",
       "            color:  #000000;\n",
       "        }    #T_c1546972_21ab_11ea_a127_e0d55eb0dab9row3_col7 {\n",
       "            background-color:  #3b4cc0;\n",
       "            color:  #f1f1f1;\n",
       "        }    #T_c1546972_21ab_11ea_a127_e0d55eb0dab9row4_col0 {\n",
       "            background-color:  #f0cdbb;\n",
       "            color:  #000000;\n",
       "        }    #T_c1546972_21ab_11ea_a127_e0d55eb0dab9row4_col1 {\n",
       "            background-color:  #ec8165;\n",
       "            color:  #000000;\n",
       "        }    #T_c1546972_21ab_11ea_a127_e0d55eb0dab9row4_col2 {\n",
       "            background-color:  #f5c1a9;\n",
       "            color:  #000000;\n",
       "        }    #T_c1546972_21ab_11ea_a127_e0d55eb0dab9row4_col3 {\n",
       "            background-color:  #84a7fc;\n",
       "            color:  #000000;\n",
       "        }    #T_c1546972_21ab_11ea_a127_e0d55eb0dab9row4_col4 {\n",
       "            background-color:  #b40426;\n",
       "            color:  #f1f1f1;\n",
       "        }    #T_c1546972_21ab_11ea_a127_e0d55eb0dab9row4_col5 {\n",
       "            background-color:  #dd5f4b;\n",
       "            color:  #000000;\n",
       "        }    #T_c1546972_21ab_11ea_a127_e0d55eb0dab9row4_col6 {\n",
       "            background-color:  #ead4c8;\n",
       "            color:  #000000;\n",
       "        }    #T_c1546972_21ab_11ea_a127_e0d55eb0dab9row4_col7 {\n",
       "            background-color:  #3b4cc0;\n",
       "            color:  #f1f1f1;\n",
       "        }    #T_c1546972_21ab_11ea_a127_e0d55eb0dab9row5_col0 {\n",
       "            background-color:  #e5d8d1;\n",
       "            color:  #000000;\n",
       "        }    #T_c1546972_21ab_11ea_a127_e0d55eb0dab9row5_col1 {\n",
       "            background-color:  #ea7b60;\n",
       "            color:  #000000;\n",
       "        }    #T_c1546972_21ab_11ea_a127_e0d55eb0dab9row5_col2 {\n",
       "            background-color:  #f4c6af;\n",
       "            color:  #000000;\n",
       "        }    #T_c1546972_21ab_11ea_a127_e0d55eb0dab9row5_col3 {\n",
       "            background-color:  #7396f5;\n",
       "            color:  #000000;\n",
       "        }    #T_c1546972_21ab_11ea_a127_e0d55eb0dab9row5_col4 {\n",
       "            background-color:  #de614d;\n",
       "            color:  #000000;\n",
       "        }    #T_c1546972_21ab_11ea_a127_e0d55eb0dab9row5_col5 {\n",
       "            background-color:  #b40426;\n",
       "            color:  #f1f1f1;\n",
       "        }    #T_c1546972_21ab_11ea_a127_e0d55eb0dab9row5_col6 {\n",
       "            background-color:  #e2dad5;\n",
       "            color:  #000000;\n",
       "        }    #T_c1546972_21ab_11ea_a127_e0d55eb0dab9row5_col7 {\n",
       "            background-color:  #3b4cc0;\n",
       "            color:  #f1f1f1;\n",
       "        }    #T_c1546972_21ab_11ea_a127_e0d55eb0dab9row6_col0 {\n",
       "            background-color:  #afcafc;\n",
       "            color:  #000000;\n",
       "        }    #T_c1546972_21ab_11ea_a127_e0d55eb0dab9row6_col1 {\n",
       "            background-color:  #f6bda2;\n",
       "            color:  #000000;\n",
       "        }    #T_c1546972_21ab_11ea_a127_e0d55eb0dab9row6_col2 {\n",
       "            background-color:  #e2dad5;\n",
       "            color:  #000000;\n",
       "        }    #T_c1546972_21ab_11ea_a127_e0d55eb0dab9row6_col3 {\n",
       "            background-color:  #97b8ff;\n",
       "            color:  #000000;\n",
       "        }    #T_c1546972_21ab_11ea_a127_e0d55eb0dab9row6_col4 {\n",
       "            background-color:  #edd2c3;\n",
       "            color:  #000000;\n",
       "        }    #T_c1546972_21ab_11ea_a127_e0d55eb0dab9row6_col5 {\n",
       "            background-color:  #ead5c9;\n",
       "            color:  #000000;\n",
       "        }    #T_c1546972_21ab_11ea_a127_e0d55eb0dab9row6_col6 {\n",
       "            background-color:  #b40426;\n",
       "            color:  #f1f1f1;\n",
       "        }    #T_c1546972_21ab_11ea_a127_e0d55eb0dab9row6_col7 {\n",
       "            background-color:  #3b4cc0;\n",
       "            color:  #f1f1f1;\n",
       "        }    #T_c1546972_21ab_11ea_a127_e0d55eb0dab9row7_col0 {\n",
       "            background-color:  #6384eb;\n",
       "            color:  #000000;\n",
       "        }    #T_c1546972_21ab_11ea_a127_e0d55eb0dab9row7_col1 {\n",
       "            background-color:  #3c4ec2;\n",
       "            color:  #f1f1f1;\n",
       "        }    #T_c1546972_21ab_11ea_a127_e0d55eb0dab9row7_col2 {\n",
       "            background-color:  #adc9fd;\n",
       "            color:  #000000;\n",
       "        }    #T_c1546972_21ab_11ea_a127_e0d55eb0dab9row7_col3 {\n",
       "            background-color:  #4f69d9;\n",
       "            color:  #000000;\n",
       "        }    #T_c1546972_21ab_11ea_a127_e0d55eb0dab9row7_col4 {\n",
       "            background-color:  #4358cb;\n",
       "            color:  #f1f1f1;\n",
       "        }    #T_c1546972_21ab_11ea_a127_e0d55eb0dab9row7_col5 {\n",
       "            background-color:  #4c66d6;\n",
       "            color:  #000000;\n",
       "        }    #T_c1546972_21ab_11ea_a127_e0d55eb0dab9row7_col6 {\n",
       "            background-color:  #3b4cc0;\n",
       "            color:  #f1f1f1;\n",
       "        }    #T_c1546972_21ab_11ea_a127_e0d55eb0dab9row7_col7 {\n",
       "            background-color:  #b40426;\n",
       "            color:  #f1f1f1;\n",
       "        }</style><table id=\"T_c1546972_21ab_11ea_a127_e0d55eb0dab9\" ><thead>    <tr>        <th class=\"blank level0\" ></th>        <th class=\"col_heading level0 col0\" >0</th>        <th class=\"col_heading level0 col1\" >1</th>        <th class=\"col_heading level0 col2\" >2</th>        <th class=\"col_heading level0 col3\" >3</th>        <th class=\"col_heading level0 col4\" >4</th>        <th class=\"col_heading level0 col5\" >5</th>        <th class=\"col_heading level0 col6\" >6</th>        <th class=\"col_heading level0 col7\" >7</th>    </tr></thead><tbody>\n",
       "                <tr>\n",
       "                        <th id=\"T_c1546972_21ab_11ea_a127_e0d55eb0dab9level0_row0\" class=\"row_heading level0 row0\" >0</th>\n",
       "                        <td id=\"T_c1546972_21ab_11ea_a127_e0d55eb0dab9row0_col0\" class=\"data row0 col0\" >1.0</td>\n",
       "                        <td id=\"T_c1546972_21ab_11ea_a127_e0d55eb0dab9row0_col1\" class=\"data row0 col1\" >0.43</td>\n",
       "                        <td id=\"T_c1546972_21ab_11ea_a127_e0d55eb0dab9row0_col2\" class=\"data row0 col2\" >0.36</td>\n",
       "                        <td id=\"T_c1546972_21ab_11ea_a127_e0d55eb0dab9row0_col3\" class=\"data row0 col3\" >0.048</td>\n",
       "                        <td id=\"T_c1546972_21ab_11ea_a127_e0d55eb0dab9row0_col4\" class=\"data row0 col4\" >0.55</td>\n",
       "                        <td id=\"T_c1546972_21ab_11ea_a127_e0d55eb0dab9row0_col5\" class=\"data row0 col5\" >0.5</td>\n",
       "                        <td id=\"T_c1546972_21ab_11ea_a127_e0d55eb0dab9row0_col6\" class=\"data row0 col6\" >0.26</td>\n",
       "                        <td id=\"T_c1546972_21ab_11ea_a127_e0d55eb0dab9row0_col7\" class=\"data row0 col7\" >0.014</td>\n",
       "            </tr>\n",
       "            <tr>\n",
       "                        <th id=\"T_c1546972_21ab_11ea_a127_e0d55eb0dab9level0_row1\" class=\"row_heading level0 row1\" >1</th>\n",
       "                        <td id=\"T_c1546972_21ab_11ea_a127_e0d55eb0dab9row1_col0\" class=\"data row1 col0\" >0.43</td>\n",
       "                        <td id=\"T_c1546972_21ab_11ea_a127_e0d55eb0dab9row1_col1\" class=\"data row1 col1\" >1.0</td>\n",
       "                        <td id=\"T_c1546972_21ab_11ea_a127_e0d55eb0dab9row1_col2\" class=\"data row1 col2\" >0.76</td>\n",
       "                        <td id=\"T_c1546972_21ab_11ea_a127_e0d55eb0dab9row1_col3\" class=\"data row1 col3\" >0.22</td>\n",
       "                        <td id=\"T_c1546972_21ab_11ea_a127_e0d55eb0dab9row1_col4\" class=\"data row1 col4\" >0.79</td>\n",
       "                        <td id=\"T_c1546972_21ab_11ea_a127_e0d55eb0dab9row1_col5\" class=\"data row1 col5\" >0.81</td>\n",
       "                        <td id=\"T_c1546972_21ab_11ea_a127_e0d55eb0dab9row1_col6\" class=\"data row1 col6\" >0.6</td>\n",
       "                        <td id=\"T_c1546972_21ab_11ea_a127_e0d55eb0dab9row1_col7\" class=\"data row1 col7\" >-0.13</td>\n",
       "            </tr>\n",
       "            <tr>\n",
       "                        <th id=\"T_c1546972_21ab_11ea_a127_e0d55eb0dab9level0_row2\" class=\"row_heading level0 row2\" >2</th>\n",
       "                        <td id=\"T_c1546972_21ab_11ea_a127_e0d55eb0dab9row2_col0\" class=\"data row2 col0\" >0.36</td>\n",
       "                        <td id=\"T_c1546972_21ab_11ea_a127_e0d55eb0dab9row2_col1\" class=\"data row2 col1\" >0.76</td>\n",
       "                        <td id=\"T_c1546972_21ab_11ea_a127_e0d55eb0dab9row2_col2\" class=\"data row2 col2\" >1.0</td>\n",
       "                        <td id=\"T_c1546972_21ab_11ea_a127_e0d55eb0dab9row2_col3\" class=\"data row2 col3\" >0.18</td>\n",
       "                        <td id=\"T_c1546972_21ab_11ea_a127_e0d55eb0dab9row2_col4\" class=\"data row2 col4\" >0.6</td>\n",
       "                        <td id=\"T_c1546972_21ab_11ea_a127_e0d55eb0dab9row2_col5\" class=\"data row2 col5\" >0.6</td>\n",
       "                        <td id=\"T_c1546972_21ab_11ea_a127_e0d55eb0dab9row2_col6\" class=\"data row2 col6\" >0.46</td>\n",
       "                        <td id=\"T_c1546972_21ab_11ea_a127_e0d55eb0dab9row2_col7\" class=\"data row2 col7\" >0.25</td>\n",
       "            </tr>\n",
       "            <tr>\n",
       "                        <th id=\"T_c1546972_21ab_11ea_a127_e0d55eb0dab9level0_row3\" class=\"row_heading level0 row3\" >3</th>\n",
       "                        <td id=\"T_c1546972_21ab_11ea_a127_e0d55eb0dab9row3_col0\" class=\"data row3 col0\" >0.048</td>\n",
       "                        <td id=\"T_c1546972_21ab_11ea_a127_e0d55eb0dab9row3_col1\" class=\"data row3 col1\" >0.22</td>\n",
       "                        <td id=\"T_c1546972_21ab_11ea_a127_e0d55eb0dab9row3_col2\" class=\"data row3 col2\" >0.18</td>\n",
       "                        <td id=\"T_c1546972_21ab_11ea_a127_e0d55eb0dab9row3_col3\" class=\"data row3 col3\" >1.0</td>\n",
       "                        <td id=\"T_c1546972_21ab_11ea_a127_e0d55eb0dab9row3_col4\" class=\"data row3 col4\" >0.15</td>\n",
       "                        <td id=\"T_c1546972_21ab_11ea_a127_e0d55eb0dab9row3_col5\" class=\"data row3 col5\" >0.13</td>\n",
       "                        <td id=\"T_c1546972_21ab_11ea_a127_e0d55eb0dab9row3_col6\" class=\"data row3 col6\" >0.19</td>\n",
       "                        <td id=\"T_c1546972_21ab_11ea_a127_e0d55eb0dab9row3_col7\" class=\"data row3 col7\" >-0.055</td>\n",
       "            </tr>\n",
       "            <tr>\n",
       "                        <th id=\"T_c1546972_21ab_11ea_a127_e0d55eb0dab9level0_row4\" class=\"row_heading level0 row4\" >4</th>\n",
       "                        <td id=\"T_c1546972_21ab_11ea_a127_e0d55eb0dab9row4_col0\" class=\"data row4 col0\" >0.55</td>\n",
       "                        <td id=\"T_c1546972_21ab_11ea_a127_e0d55eb0dab9row4_col1\" class=\"data row4 col1\" >0.79</td>\n",
       "                        <td id=\"T_c1546972_21ab_11ea_a127_e0d55eb0dab9row4_col2\" class=\"data row4 col2\" >0.6</td>\n",
       "                        <td id=\"T_c1546972_21ab_11ea_a127_e0d55eb0dab9row4_col3\" class=\"data row4 col3\" >0.15</td>\n",
       "                        <td id=\"T_c1546972_21ab_11ea_a127_e0d55eb0dab9row4_col4\" class=\"data row4 col4\" >1.0</td>\n",
       "                        <td id=\"T_c1546972_21ab_11ea_a127_e0d55eb0dab9row4_col5\" class=\"data row4 col5\" >0.86</td>\n",
       "                        <td id=\"T_c1546972_21ab_11ea_a127_e0d55eb0dab9row4_col6\" class=\"data row4 col6\" >0.51</td>\n",
       "                        <td id=\"T_c1546972_21ab_11ea_a127_e0d55eb0dab9row4_col7\" class=\"data row4 col7\" >-0.1</td>\n",
       "            </tr>\n",
       "            <tr>\n",
       "                        <th id=\"T_c1546972_21ab_11ea_a127_e0d55eb0dab9level0_row5\" class=\"row_heading level0 row5\" >5</th>\n",
       "                        <td id=\"T_c1546972_21ab_11ea_a127_e0d55eb0dab9row5_col0\" class=\"data row5 col0\" >0.5</td>\n",
       "                        <td id=\"T_c1546972_21ab_11ea_a127_e0d55eb0dab9row5_col1\" class=\"data row5 col1\" >0.81</td>\n",
       "                        <td id=\"T_c1546972_21ab_11ea_a127_e0d55eb0dab9row5_col2\" class=\"data row5 col2\" >0.6</td>\n",
       "                        <td id=\"T_c1546972_21ab_11ea_a127_e0d55eb0dab9row5_col3\" class=\"data row5 col3\" >0.13</td>\n",
       "                        <td id=\"T_c1546972_21ab_11ea_a127_e0d55eb0dab9row5_col4\" class=\"data row5 col4\" >0.86</td>\n",
       "                        <td id=\"T_c1546972_21ab_11ea_a127_e0d55eb0dab9row5_col5\" class=\"data row5 col5\" >1.0</td>\n",
       "                        <td id=\"T_c1546972_21ab_11ea_a127_e0d55eb0dab9row5_col6\" class=\"data row5 col6\" >0.49</td>\n",
       "                        <td id=\"T_c1546972_21ab_11ea_a127_e0d55eb0dab9row5_col7\" class=\"data row5 col7\" >-0.063</td>\n",
       "            </tr>\n",
       "            <tr>\n",
       "                        <th id=\"T_c1546972_21ab_11ea_a127_e0d55eb0dab9level0_row6\" class=\"row_heading level0 row6\" >6</th>\n",
       "                        <td id=\"T_c1546972_21ab_11ea_a127_e0d55eb0dab9row6_col0\" class=\"data row6 col0\" >0.26</td>\n",
       "                        <td id=\"T_c1546972_21ab_11ea_a127_e0d55eb0dab9row6_col1\" class=\"data row6 col1\" >0.6</td>\n",
       "                        <td id=\"T_c1546972_21ab_11ea_a127_e0d55eb0dab9row6_col2\" class=\"data row6 col2\" >0.46</td>\n",
       "                        <td id=\"T_c1546972_21ab_11ea_a127_e0d55eb0dab9row6_col3\" class=\"data row6 col3\" >0.19</td>\n",
       "                        <td id=\"T_c1546972_21ab_11ea_a127_e0d55eb0dab9row6_col4\" class=\"data row6 col4\" >0.51</td>\n",
       "                        <td id=\"T_c1546972_21ab_11ea_a127_e0d55eb0dab9row6_col5\" class=\"data row6 col5\" >0.49</td>\n",
       "                        <td id=\"T_c1546972_21ab_11ea_a127_e0d55eb0dab9row6_col6\" class=\"data row6 col6\" >1.0</td>\n",
       "                        <td id=\"T_c1546972_21ab_11ea_a127_e0d55eb0dab9row6_col7\" class=\"data row6 col7\" >-0.13</td>\n",
       "            </tr>\n",
       "            <tr>\n",
       "                        <th id=\"T_c1546972_21ab_11ea_a127_e0d55eb0dab9level0_row7\" class=\"row_heading level0 row7\" >7</th>\n",
       "                        <td id=\"T_c1546972_21ab_11ea_a127_e0d55eb0dab9row7_col0\" class=\"data row7 col0\" >0.014</td>\n",
       "                        <td id=\"T_c1546972_21ab_11ea_a127_e0d55eb0dab9row7_col1\" class=\"data row7 col1\" >-0.13</td>\n",
       "                        <td id=\"T_c1546972_21ab_11ea_a127_e0d55eb0dab9row7_col2\" class=\"data row7 col2\" >0.25</td>\n",
       "                        <td id=\"T_c1546972_21ab_11ea_a127_e0d55eb0dab9row7_col3\" class=\"data row7 col3\" >-0.055</td>\n",
       "                        <td id=\"T_c1546972_21ab_11ea_a127_e0d55eb0dab9row7_col4\" class=\"data row7 col4\" >-0.1</td>\n",
       "                        <td id=\"T_c1546972_21ab_11ea_a127_e0d55eb0dab9row7_col5\" class=\"data row7 col5\" >-0.063</td>\n",
       "                        <td id=\"T_c1546972_21ab_11ea_a127_e0d55eb0dab9row7_col6\" class=\"data row7 col6\" >-0.13</td>\n",
       "                        <td id=\"T_c1546972_21ab_11ea_a127_e0d55eb0dab9row7_col7\" class=\"data row7 col7\" >1.0</td>\n",
       "            </tr>\n",
       "    </tbody></table>"
      ],
      "text/plain": [
       "<pandas.io.formats.style.Styler at 0x7fb5fd0df390>"
      ]
     },
     "execution_count": 20,
     "metadata": {},
     "output_type": "execute_result"
    }
   ],
   "source": [
    "X_train.corr(method='spearman').style.format(\"{:.2}\").background_gradient(cmap=plt.get_cmap('coolwarm'), axis=1)"
   ]
  },
  {
   "cell_type": "markdown",
   "metadata": {},
   "source": [
    "## Imbalanced baseline"
   ]
  },
  {
   "cell_type": "code",
   "execution_count": 21,
   "metadata": {
    "scrolled": true
   },
   "outputs": [
    {
     "name": "stdout",
     "output_type": "stream",
     "text": [
      "\n",
      "LOGISTIC REGRESSION\n",
      "TRAIN AND VALIDATION SETS:\n",
      "1 of KFold 10\n",
      "ROC AUC score: 0.7408495192154106\n",
      "2 of KFold 10\n",
      "ROC AUC score: 0.7412156981758938\n",
      "3 of KFold 10\n",
      "ROC AUC score: 0.7424119306843899\n",
      "4 of KFold 10\n",
      "ROC AUC score: 0.7369102176739522\n",
      "5 of KFold 10\n",
      "ROC AUC score: 0.7307184554085326\n",
      "6 of KFold 10\n",
      "ROC AUC score: 0.7404555673713344\n",
      "7 of KFold 10\n",
      "ROC AUC score: 0.7446903169831036\n",
      "8 of KFold 10\n",
      "ROC AUC score: 0.7406797936671796\n",
      "9 of KFold 10\n",
      "ROC AUC score: 0.7383004598806396\n",
      "10 of KFold 10\n",
      "ROC AUC score: 0.7417179421390465\n",
      "\n",
      "CROSS VALIDANTION SUMMARY:\n",
      "Mean: 0.7397949901199483\n",
      "Std deviation: 0.0036304138216912848\n",
      "\n",
      "TEST SET:\n",
      "F1-Score(micro): 0.782626427406199\n",
      "F1-Score(macro): 0.6507447746769011\n",
      "F1-Score(weighted): 0.789628605749218\n",
      "F1-Score(None): [0.86536154 0.43612801]\n",
      "Accuracy: 0.782626427406199\n",
      "Sensitivity: 0.4764518925166137\n",
      "Specificity: 0.8482203652120087\n",
      "Confusion Matrix: [0.8482203652120087, 0.48]\n",
      "ROC AUC score: 0.6623361288643111\n",
      "CPU times: user 13.1 s, sys: 7.2 s, total: 20.3 s\n",
      "Wall time: 2.8 s\n"
     ]
    }
   ],
   "source": [
    "%%time\n",
    "LogisticRegr_(X_train, y_train, X_test, y_test)"
   ]
  },
  {
   "cell_type": "code",
   "execution_count": 22,
   "metadata": {},
   "outputs": [
    {
     "name": "stdout",
     "output_type": "stream",
     "text": [
      "CPU times: user 2 µs, sys: 0 ns, total: 2 µs\n",
      "Wall time: 2.62 µs\n",
      "\n",
      "DECISION TREE\n",
      "TRAIN AND VALIDATION SETS:\n",
      "1 of KFold 10\n",
      "ROC AUC score: 0.7742772258250008\n",
      "2 of KFold 10\n",
      "ROC AUC score: 0.7804166633389771\n",
      "3 of KFold 10\n",
      "ROC AUC score: 0.7865023568566121\n",
      "4 of KFold 10\n",
      "ROC AUC score: 0.7687455389052418\n",
      "5 of KFold 10\n",
      "ROC AUC score: 0.772382895169955\n",
      "6 of KFold 10\n",
      "ROC AUC score: 0.7733476654457399\n",
      "7 of KFold 10\n",
      "ROC AUC score: 0.7710418070449458\n",
      "8 of KFold 10\n",
      "ROC AUC score: 0.7693401550093899\n",
      "9 of KFold 10\n",
      "ROC AUC score: 0.7828353357943961\n",
      "10 of KFold 10\n",
      "ROC AUC score: 0.77665290461763\n",
      "\n",
      "CROSS VALIDANTION SUMMARY:\n",
      "Mean: 0.7755542548007889\n",
      "Std deviation: 0.0056534796531015645\n",
      "\n",
      "TEST SET:\n",
      "F1-Score(micro): 0.6250509787928222\n",
      "F1-Score(macro): 0.5415654695679629\n",
      "F1-Score(weighted): 0.6681650459746484\n",
      "F1-Score(None): [0.73719941 0.34593153]\n",
      "Accuracy: 0.6250509787928222\n",
      "Sensitivity: 0.5619763074255996\n",
      "Specificity: 0.6385639121015165\n",
      "Confusion Matrix: [0.6385639121015165, 0.56]\n",
      "ROC AUC score: 0.6002701097635581\n",
      "CPU times: user 1.26 s, sys: 1.97 ms, total: 1.26 s\n",
      "Wall time: 1.25 s\n"
     ]
    }
   ],
   "source": [
    "%%time\n",
    "DecisionTree_(X_train, y_train, X_test, y_test)"
   ]
  },
  {
   "cell_type": "code",
   "execution_count": 23,
   "metadata": {},
   "outputs": [
    {
     "name": "stdout",
     "output_type": "stream",
     "text": [
      "CPU times: user 1 µs, sys: 0 ns, total: 1 µs\n",
      "Wall time: 2.62 µs\n",
      "RANDOM FOREST\n",
      "TRAIN AND VALIDATION SETS:\n",
      "1 of KFold 10\n",
      "ROC AUC score: 0.764837385793694\n",
      "2 of KFold 10\n",
      "ROC AUC score: 0.7679667284285852\n",
      "3 of KFold 10\n",
      "ROC AUC score: 0.7714417009526825\n",
      "4 of KFold 10\n",
      "ROC AUC score: 0.7502219496101709\n",
      "5 of KFold 10\n",
      "ROC AUC score: 0.7678592888921301\n",
      "6 of KFold 10\n",
      "ROC AUC score: 0.7619984905328638\n",
      "7 of KFold 10\n",
      "ROC AUC score: 0.7597839893588062\n",
      "8 of KFold 10\n",
      "ROC AUC score: 0.7576255779481098\n",
      "9 of KFold 10\n",
      "ROC AUC score: 0.7694671946881328\n",
      "10 of KFold 10\n",
      "ROC AUC score: 0.768291415734576\n",
      "\n",
      "CROSS VALIDANTION SUMMARY:\n",
      "Mean: 0.7639493721939752\n",
      "Std deviation: 0.006222850818934809\n",
      "\n",
      "TEST SET:\n",
      "F1-Score(micro): 0.7745462887438825\n",
      "F1-Score(macro): 0.6241932335622999\n",
      "F1-Score(weighted): 0.7780180719644769\n",
      "F1-Score(None): [0.86189829 0.38648817]\n",
      "Accuracy: 0.7745462887438825\n",
      "Sensitivity: 0.402484830973707\n",
      "Specificity: 0.8542556484060663\n",
      "Confusion Matrix: [0.8542556484060663, 0.4]\n",
      "ROC AUC score: 0.6283702396898866\n",
      "CPU times: user 26.7 s, sys: 133 ms, total: 26.9 s\n",
      "Wall time: 27.3 s\n"
     ]
    }
   ],
   "source": [
    "%%time\n",
    "RandomForest_(X_train, y_train, X_test, y_test)"
   ]
  },
  {
   "cell_type": "code",
   "execution_count": 24,
   "metadata": {},
   "outputs": [
    {
     "name": "stdout",
     "output_type": "stream",
     "text": [
      "CPU times: user 0 ns, sys: 2 µs, total: 2 µs\n",
      "Wall time: 2.86 µs\n",
      "NEURAL NETWORK\n",
      "TRAIN AND VALIDATION SETS:\n",
      "1 of KFold 10\n",
      "ROC AUC score: 0.6706235225058301\n",
      "2 of KFold 10\n"
     ]
    },
    {
     "name": "stderr",
     "output_type": "stream",
     "text": [
      "/usr/local/lib/python3.6/dist-packages/sklearn/neural_network/multilayer_perceptron.py:566: ConvergenceWarning: Stochastic Optimizer: Maximum iterations (200) reached and the optimization hasn't converged yet.\n",
      "  % self.max_iter, ConvergenceWarning)\n"
     ]
    },
    {
     "name": "stdout",
     "output_type": "stream",
     "text": [
      "ROC AUC score: 0.6853367189247037\n",
      "3 of KFold 10\n",
      "ROC AUC score: 0.6684931452110382\n",
      "4 of KFold 10\n",
      "ROC AUC score: 0.6719944396465389\n",
      "5 of KFold 10\n",
      "ROC AUC score: 0.6774425071340054\n",
      "6 of KFold 10\n",
      "ROC AUC score: 0.6674191358675264\n",
      "7 of KFold 10\n"
     ]
    },
    {
     "name": "stderr",
     "output_type": "stream",
     "text": [
      "/usr/local/lib/python3.6/dist-packages/sklearn/neural_network/multilayer_perceptron.py:566: ConvergenceWarning: Stochastic Optimizer: Maximum iterations (200) reached and the optimization hasn't converged yet.\n",
      "  % self.max_iter, ConvergenceWarning)\n"
     ]
    },
    {
     "name": "stdout",
     "output_type": "stream",
     "text": [
      "ROC AUC score: 0.6826969712257204\n",
      "8 of KFold 10\n"
     ]
    },
    {
     "name": "stderr",
     "output_type": "stream",
     "text": [
      "/usr/local/lib/python3.6/dist-packages/sklearn/neural_network/multilayer_perceptron.py:566: ConvergenceWarning: Stochastic Optimizer: Maximum iterations (200) reached and the optimization hasn't converged yet.\n",
      "  % self.max_iter, ConvergenceWarning)\n"
     ]
    },
    {
     "name": "stdout",
     "output_type": "stream",
     "text": [
      "ROC AUC score: 0.6473999978418742\n",
      "9 of KFold 10\n",
      "ROC AUC score: 0.6615105941999968\n",
      "10 of KFold 10\n",
      "ROC AUC score: 0.6687314236317182\n",
      "\n",
      "CROSS VALIDANTION SUMMARY:\n",
      "Mean: 0.6701648456188952\n",
      "Std deviation: 0.010243459535586693\n",
      "\n",
      "TEST SET:\n",
      "F1-Score(micro): 0.8104863376835236\n",
      "F1-Score(macro): 0.6147317301834\n",
      "F1-Score(weighted): 0.7924473738527417\n",
      "F1-Score(None): [0.88935518 0.34010828]\n",
      "Accuracy: 0.8104863376835236\n",
      "Sensitivity: 0.27679861311759607\n",
      "Specificity: 0.9248220365212009\n",
      "Confusion Matrix: [0.9248220365212009, 0.28]\n",
      "ROC AUC score: 0.6008103248193984\n",
      "CPU times: user 1h 13min 43s, sys: 44min 7s, total: 1h 57min 51s\n",
      "Wall time: 14min 47s\n"
     ]
    }
   ],
   "source": [
    "%%time\n",
    "NN_(X_train, y_train, X_test, y_test)"
   ]
  },
  {
   "cell_type": "markdown",
   "metadata": {},
   "source": [
    "## Undersampling "
   ]
  },
  {
   "cell_type": "code",
   "execution_count": 25,
   "metadata": {},
   "outputs": [
    {
     "name": "stdout",
     "output_type": "stream",
     "text": [
      "Resampling dataset using Random UnderSampling (RUS)...\n",
      "... DONE!\n",
      "X and Y RUS: 29424 29424\n"
     ]
    }
   ],
   "source": [
    "print(\"Resampling dataset using Random UnderSampling (RUS)...\")\n",
    "X_RUS, y_RUS = RandomUnderSampler(random_state=42).fit_sample(X_train, y_train.values.ravel())\n",
    "print(\"... DONE!\")\n",
    "print(\"X and Y RUS:\", len(X_RUS), len(y_RUS))"
   ]
  },
  {
   "cell_type": "code",
   "execution_count": 26,
   "metadata": {},
   "outputs": [
    {
     "name": "stdout",
     "output_type": "stream",
     "text": [
      "\n",
      "LOGISTIC REGRESSION\n",
      "TRAIN AND VALIDATION SETS:\n",
      "1 of KFold 10\n"
     ]
    },
    {
     "ename": "ValueError",
     "evalue": "This solver needs samples of at least 2 classes in the data, but the data contains only one class: 0",
     "output_type": "error",
     "traceback": [
      "\u001b[0;31m---------------------------------------------------------------------------\u001b[0m",
      "\u001b[0;31mValueError\u001b[0m                                Traceback (most recent call last)",
      "\u001b[0;32m<ipython-input-26-5a0b413602ac>\u001b[0m in \u001b[0;36m<module>\u001b[0;34m()\u001b[0m\n\u001b[0;32m----> 1\u001b[0;31m \u001b[0mget_ipython\u001b[0m\u001b[0;34m(\u001b[0m\u001b[0;34m)\u001b[0m\u001b[0;34m.\u001b[0m\u001b[0mrun_cell_magic\u001b[0m\u001b[0;34m(\u001b[0m\u001b[0;34m'time'\u001b[0m\u001b[0;34m,\u001b[0m \u001b[0;34m''\u001b[0m\u001b[0;34m,\u001b[0m \u001b[0;34m'LogisticRegr_(X_RUS, y_RUS, X_test, y_test)'\u001b[0m\u001b[0;34m)\u001b[0m\u001b[0;34m\u001b[0m\u001b[0;34m\u001b[0m\u001b[0m\n\u001b[0m",
      "\u001b[0;32m/usr/lib/python3/dist-packages/IPython/core/interactiveshell.py\u001b[0m in \u001b[0;36mrun_cell_magic\u001b[0;34m(self, magic_name, line, cell)\u001b[0m\n\u001b[1;32m   2115\u001b[0m             \u001b[0mmagic_arg_s\u001b[0m \u001b[0;34m=\u001b[0m \u001b[0mself\u001b[0m\u001b[0;34m.\u001b[0m\u001b[0mvar_expand\u001b[0m\u001b[0;34m(\u001b[0m\u001b[0mline\u001b[0m\u001b[0;34m,\u001b[0m \u001b[0mstack_depth\u001b[0m\u001b[0;34m)\u001b[0m\u001b[0;34m\u001b[0m\u001b[0;34m\u001b[0m\u001b[0m\n\u001b[1;32m   2116\u001b[0m             \u001b[0;32mwith\u001b[0m \u001b[0mself\u001b[0m\u001b[0;34m.\u001b[0m\u001b[0mbuiltin_trap\u001b[0m\u001b[0;34m:\u001b[0m\u001b[0;34m\u001b[0m\u001b[0;34m\u001b[0m\u001b[0m\n\u001b[0;32m-> 2117\u001b[0;31m                 \u001b[0mresult\u001b[0m \u001b[0;34m=\u001b[0m \u001b[0mfn\u001b[0m\u001b[0;34m(\u001b[0m\u001b[0mmagic_arg_s\u001b[0m\u001b[0;34m,\u001b[0m \u001b[0mcell\u001b[0m\u001b[0;34m)\u001b[0m\u001b[0;34m\u001b[0m\u001b[0;34m\u001b[0m\u001b[0m\n\u001b[0m\u001b[1;32m   2118\u001b[0m             \u001b[0;32mreturn\u001b[0m \u001b[0mresult\u001b[0m\u001b[0;34m\u001b[0m\u001b[0;34m\u001b[0m\u001b[0m\n\u001b[1;32m   2119\u001b[0m \u001b[0;34m\u001b[0m\u001b[0m\n",
      "\u001b[0;32m</usr/local/lib/python3.6/dist-packages/decorator.py:decorator-gen-60>\u001b[0m in \u001b[0;36mtime\u001b[0;34m(self, line, cell, local_ns)\u001b[0m\n",
      "\u001b[0;32m/usr/lib/python3/dist-packages/IPython/core/magic.py\u001b[0m in \u001b[0;36m<lambda>\u001b[0;34m(f, *a, **k)\u001b[0m\n\u001b[1;32m    186\u001b[0m     \u001b[0;31m# but it's overkill for just that one bit of state.\u001b[0m\u001b[0;34m\u001b[0m\u001b[0;34m\u001b[0m\u001b[0;34m\u001b[0m\u001b[0m\n\u001b[1;32m    187\u001b[0m     \u001b[0;32mdef\u001b[0m \u001b[0mmagic_deco\u001b[0m\u001b[0;34m(\u001b[0m\u001b[0marg\u001b[0m\u001b[0;34m)\u001b[0m\u001b[0;34m:\u001b[0m\u001b[0;34m\u001b[0m\u001b[0;34m\u001b[0m\u001b[0m\n\u001b[0;32m--> 188\u001b[0;31m         \u001b[0mcall\u001b[0m \u001b[0;34m=\u001b[0m \u001b[0;32mlambda\u001b[0m \u001b[0mf\u001b[0m\u001b[0;34m,\u001b[0m \u001b[0;34m*\u001b[0m\u001b[0ma\u001b[0m\u001b[0;34m,\u001b[0m \u001b[0;34m**\u001b[0m\u001b[0mk\u001b[0m\u001b[0;34m:\u001b[0m \u001b[0mf\u001b[0m\u001b[0;34m(\u001b[0m\u001b[0;34m*\u001b[0m\u001b[0ma\u001b[0m\u001b[0;34m,\u001b[0m \u001b[0;34m**\u001b[0m\u001b[0mk\u001b[0m\u001b[0;34m)\u001b[0m\u001b[0;34m\u001b[0m\u001b[0;34m\u001b[0m\u001b[0m\n\u001b[0m\u001b[1;32m    189\u001b[0m \u001b[0;34m\u001b[0m\u001b[0m\n\u001b[1;32m    190\u001b[0m         \u001b[0;32mif\u001b[0m \u001b[0mcallable\u001b[0m\u001b[0;34m(\u001b[0m\u001b[0marg\u001b[0m\u001b[0;34m)\u001b[0m\u001b[0;34m:\u001b[0m\u001b[0;34m\u001b[0m\u001b[0;34m\u001b[0m\u001b[0m\n",
      "\u001b[0;32m/usr/lib/python3/dist-packages/IPython/core/magics/execution.py\u001b[0m in \u001b[0;36mtime\u001b[0;34m(self, line, cell, local_ns)\u001b[0m\n\u001b[1;32m   1187\u001b[0m         \u001b[0;32mif\u001b[0m \u001b[0mmode\u001b[0m\u001b[0;34m==\u001b[0m\u001b[0;34m'eval'\u001b[0m\u001b[0;34m:\u001b[0m\u001b[0;34m\u001b[0m\u001b[0;34m\u001b[0m\u001b[0m\n\u001b[1;32m   1188\u001b[0m             \u001b[0mst\u001b[0m \u001b[0;34m=\u001b[0m \u001b[0mclock2\u001b[0m\u001b[0;34m(\u001b[0m\u001b[0;34m)\u001b[0m\u001b[0;34m\u001b[0m\u001b[0;34m\u001b[0m\u001b[0m\n\u001b[0;32m-> 1189\u001b[0;31m             \u001b[0mout\u001b[0m \u001b[0;34m=\u001b[0m \u001b[0meval\u001b[0m\u001b[0;34m(\u001b[0m\u001b[0mcode\u001b[0m\u001b[0;34m,\u001b[0m \u001b[0mglob\u001b[0m\u001b[0;34m,\u001b[0m \u001b[0mlocal_ns\u001b[0m\u001b[0;34m)\u001b[0m\u001b[0;34m\u001b[0m\u001b[0;34m\u001b[0m\u001b[0m\n\u001b[0m\u001b[1;32m   1190\u001b[0m             \u001b[0mend\u001b[0m \u001b[0;34m=\u001b[0m \u001b[0mclock2\u001b[0m\u001b[0;34m(\u001b[0m\u001b[0;34m)\u001b[0m\u001b[0;34m\u001b[0m\u001b[0;34m\u001b[0m\u001b[0m\n\u001b[1;32m   1191\u001b[0m         \u001b[0;32melse\u001b[0m\u001b[0;34m:\u001b[0m\u001b[0;34m\u001b[0m\u001b[0;34m\u001b[0m\u001b[0m\n",
      "\u001b[0;32m<timed eval>\u001b[0m in \u001b[0;36m<module>\u001b[0;34m()\u001b[0m\n",
      "\u001b[0;32m<ipython-input-1-67a89159c438>\u001b[0m in \u001b[0;36mLogisticRegr_\u001b[0;34m(Xtrain, Ytrain, Xtest, Ytest)\u001b[0m\n\u001b[1;32m     11\u001b[0m         \u001b[0;31m#model\u001b[0m\u001b[0;34m\u001b[0m\u001b[0;34m\u001b[0m\u001b[0;34m\u001b[0m\u001b[0m\n\u001b[1;32m     12\u001b[0m         \u001b[0mlr\u001b[0m \u001b[0;34m=\u001b[0m \u001b[0mLogisticRegression\u001b[0m\u001b[0;34m(\u001b[0m\u001b[0msolver\u001b[0m\u001b[0;34m=\u001b[0m\u001b[0;34m'lbfgs'\u001b[0m\u001b[0;34m,\u001b[0m \u001b[0mrandom_state\u001b[0m\u001b[0;34m=\u001b[0m\u001b[0;36m42\u001b[0m\u001b[0;34m,\u001b[0m \u001b[0mclass_weight\u001b[0m\u001b[0;34m=\u001b[0m\u001b[0;34m'balanced'\u001b[0m\u001b[0;34m)\u001b[0m\u001b[0;34m\u001b[0m\u001b[0;34m\u001b[0m\u001b[0m\n\u001b[0;32m---> 13\u001b[0;31m         \u001b[0mlr\u001b[0m\u001b[0;34m.\u001b[0m\u001b[0mfit\u001b[0m\u001b[0;34m(\u001b[0m\u001b[0mxtr_LR\u001b[0m\u001b[0;34m,\u001b[0m \u001b[0mytr_LR\u001b[0m\u001b[0;34m.\u001b[0m\u001b[0mvalues\u001b[0m\u001b[0;34m.\u001b[0m\u001b[0mravel\u001b[0m\u001b[0;34m(\u001b[0m\u001b[0;34m)\u001b[0m\u001b[0;34m)\u001b[0m\u001b[0;34m\u001b[0m\u001b[0;34m\u001b[0m\u001b[0m\n\u001b[0m\u001b[1;32m     14\u001b[0m         \u001b[0mscore\u001b[0m \u001b[0;34m=\u001b[0m \u001b[0mroc_auc_score\u001b[0m\u001b[0;34m(\u001b[0m\u001b[0myvl_LR\u001b[0m\u001b[0;34m,\u001b[0m \u001b[0mlr\u001b[0m\u001b[0;34m.\u001b[0m\u001b[0mpredict\u001b[0m\u001b[0;34m(\u001b[0m\u001b[0mxvl_LR\u001b[0m\u001b[0;34m)\u001b[0m\u001b[0;34m)\u001b[0m\u001b[0;34m\u001b[0m\u001b[0;34m\u001b[0m\u001b[0m\n\u001b[1;32m     15\u001b[0m         \u001b[0mprint\u001b[0m\u001b[0;34m(\u001b[0m\u001b[0;34m'ROC AUC score:'\u001b[0m\u001b[0;34m,\u001b[0m\u001b[0mscore\u001b[0m\u001b[0;34m)\u001b[0m\u001b[0;34m\u001b[0m\u001b[0;34m\u001b[0m\u001b[0m\n",
      "\u001b[0;32m/usr/local/lib/python3.6/dist-packages/sklearn/linear_model/logistic.py\u001b[0m in \u001b[0;36mfit\u001b[0;34m(self, X, y, sample_weight)\u001b[0m\n\u001b[1;32m   1561\u001b[0m             raise ValueError(\"This solver needs samples of at least 2 classes\"\n\u001b[1;32m   1562\u001b[0m                              \u001b[0;34m\" in the data, but the data contains only one\"\u001b[0m\u001b[0;34m\u001b[0m\u001b[0;34m\u001b[0m\u001b[0m\n\u001b[0;32m-> 1563\u001b[0;31m                              \" class: %r\" % classes_[0])\n\u001b[0m\u001b[1;32m   1564\u001b[0m \u001b[0;34m\u001b[0m\u001b[0m\n\u001b[1;32m   1565\u001b[0m         \u001b[0;32mif\u001b[0m \u001b[0mlen\u001b[0m\u001b[0;34m(\u001b[0m\u001b[0mself\u001b[0m\u001b[0;34m.\u001b[0m\u001b[0mclasses_\u001b[0m\u001b[0;34m)\u001b[0m \u001b[0;34m==\u001b[0m \u001b[0;36m2\u001b[0m\u001b[0;34m:\u001b[0m\u001b[0;34m\u001b[0m\u001b[0;34m\u001b[0m\u001b[0m\n",
      "\u001b[0;31mValueError\u001b[0m: This solver needs samples of at least 2 classes in the data, but the data contains only one class: 0"
     ]
    }
   ],
   "source": [
    "%%time\n",
    "LogisticRegr_(X_RUS, y_RUS, X_test, y_test)"
   ]
  },
  {
   "cell_type": "code",
   "execution_count": 27,
   "metadata": {},
   "outputs": [
    {
     "name": "stdout",
     "output_type": "stream",
     "text": [
      "CPU times: user 0 ns, sys: 1e+03 ns, total: 1e+03 ns\n",
      "Wall time: 2.62 µs\n",
      "\n",
      "DECISION TREE\n",
      "TRAIN AND VALIDATION SETS:\n",
      "1 of KFold 10\n"
     ]
    },
    {
     "ename": "ValueError",
     "evalue": "Only one class present in y_true. ROC AUC score is not defined in that case.",
     "output_type": "error",
     "traceback": [
      "\u001b[0;31m---------------------------------------------------------------------------\u001b[0m",
      "\u001b[0;31mValueError\u001b[0m                                Traceback (most recent call last)",
      "\u001b[0;32m<ipython-input-27-754dad334deb>\u001b[0m in \u001b[0;36m<module>\u001b[0;34m()\u001b[0m\n\u001b[0;32m----> 1\u001b[0;31m \u001b[0mget_ipython\u001b[0m\u001b[0;34m(\u001b[0m\u001b[0;34m)\u001b[0m\u001b[0;34m.\u001b[0m\u001b[0mrun_cell_magic\u001b[0m\u001b[0;34m(\u001b[0m\u001b[0;34m'time'\u001b[0m\u001b[0;34m,\u001b[0m \u001b[0;34m''\u001b[0m\u001b[0;34m,\u001b[0m \u001b[0;34m'DecisionTree_(X_RUS, y_RUS, X_test, y_test)'\u001b[0m\u001b[0;34m)\u001b[0m\u001b[0;34m\u001b[0m\u001b[0;34m\u001b[0m\u001b[0m\n\u001b[0m",
      "\u001b[0;32m/usr/lib/python3/dist-packages/IPython/core/interactiveshell.py\u001b[0m in \u001b[0;36mrun_cell_magic\u001b[0;34m(self, magic_name, line, cell)\u001b[0m\n\u001b[1;32m   2115\u001b[0m             \u001b[0mmagic_arg_s\u001b[0m \u001b[0;34m=\u001b[0m \u001b[0mself\u001b[0m\u001b[0;34m.\u001b[0m\u001b[0mvar_expand\u001b[0m\u001b[0;34m(\u001b[0m\u001b[0mline\u001b[0m\u001b[0;34m,\u001b[0m \u001b[0mstack_depth\u001b[0m\u001b[0;34m)\u001b[0m\u001b[0;34m\u001b[0m\u001b[0;34m\u001b[0m\u001b[0m\n\u001b[1;32m   2116\u001b[0m             \u001b[0;32mwith\u001b[0m \u001b[0mself\u001b[0m\u001b[0;34m.\u001b[0m\u001b[0mbuiltin_trap\u001b[0m\u001b[0;34m:\u001b[0m\u001b[0;34m\u001b[0m\u001b[0;34m\u001b[0m\u001b[0m\n\u001b[0;32m-> 2117\u001b[0;31m                 \u001b[0mresult\u001b[0m \u001b[0;34m=\u001b[0m \u001b[0mfn\u001b[0m\u001b[0;34m(\u001b[0m\u001b[0mmagic_arg_s\u001b[0m\u001b[0;34m,\u001b[0m \u001b[0mcell\u001b[0m\u001b[0;34m)\u001b[0m\u001b[0;34m\u001b[0m\u001b[0;34m\u001b[0m\u001b[0m\n\u001b[0m\u001b[1;32m   2118\u001b[0m             \u001b[0;32mreturn\u001b[0m \u001b[0mresult\u001b[0m\u001b[0;34m\u001b[0m\u001b[0;34m\u001b[0m\u001b[0m\n\u001b[1;32m   2119\u001b[0m \u001b[0;34m\u001b[0m\u001b[0m\n",
      "\u001b[0;32m</usr/local/lib/python3.6/dist-packages/decorator.py:decorator-gen-60>\u001b[0m in \u001b[0;36mtime\u001b[0;34m(self, line, cell, local_ns)\u001b[0m\n",
      "\u001b[0;32m/usr/lib/python3/dist-packages/IPython/core/magic.py\u001b[0m in \u001b[0;36m<lambda>\u001b[0;34m(f, *a, **k)\u001b[0m\n\u001b[1;32m    186\u001b[0m     \u001b[0;31m# but it's overkill for just that one bit of state.\u001b[0m\u001b[0;34m\u001b[0m\u001b[0;34m\u001b[0m\u001b[0;34m\u001b[0m\u001b[0m\n\u001b[1;32m    187\u001b[0m     \u001b[0;32mdef\u001b[0m \u001b[0mmagic_deco\u001b[0m\u001b[0;34m(\u001b[0m\u001b[0marg\u001b[0m\u001b[0;34m)\u001b[0m\u001b[0;34m:\u001b[0m\u001b[0;34m\u001b[0m\u001b[0;34m\u001b[0m\u001b[0m\n\u001b[0;32m--> 188\u001b[0;31m         \u001b[0mcall\u001b[0m \u001b[0;34m=\u001b[0m \u001b[0;32mlambda\u001b[0m \u001b[0mf\u001b[0m\u001b[0;34m,\u001b[0m \u001b[0;34m*\u001b[0m\u001b[0ma\u001b[0m\u001b[0;34m,\u001b[0m \u001b[0;34m**\u001b[0m\u001b[0mk\u001b[0m\u001b[0;34m:\u001b[0m \u001b[0mf\u001b[0m\u001b[0;34m(\u001b[0m\u001b[0;34m*\u001b[0m\u001b[0ma\u001b[0m\u001b[0;34m,\u001b[0m \u001b[0;34m**\u001b[0m\u001b[0mk\u001b[0m\u001b[0;34m)\u001b[0m\u001b[0;34m\u001b[0m\u001b[0;34m\u001b[0m\u001b[0m\n\u001b[0m\u001b[1;32m    189\u001b[0m \u001b[0;34m\u001b[0m\u001b[0m\n\u001b[1;32m    190\u001b[0m         \u001b[0;32mif\u001b[0m \u001b[0mcallable\u001b[0m\u001b[0;34m(\u001b[0m\u001b[0marg\u001b[0m\u001b[0;34m)\u001b[0m\u001b[0;34m:\u001b[0m\u001b[0;34m\u001b[0m\u001b[0;34m\u001b[0m\u001b[0m\n",
      "\u001b[0;32m/usr/lib/python3/dist-packages/IPython/core/magics/execution.py\u001b[0m in \u001b[0;36mtime\u001b[0;34m(self, line, cell, local_ns)\u001b[0m\n\u001b[1;32m   1187\u001b[0m         \u001b[0;32mif\u001b[0m \u001b[0mmode\u001b[0m\u001b[0;34m==\u001b[0m\u001b[0;34m'eval'\u001b[0m\u001b[0;34m:\u001b[0m\u001b[0;34m\u001b[0m\u001b[0;34m\u001b[0m\u001b[0m\n\u001b[1;32m   1188\u001b[0m             \u001b[0mst\u001b[0m \u001b[0;34m=\u001b[0m \u001b[0mclock2\u001b[0m\u001b[0;34m(\u001b[0m\u001b[0;34m)\u001b[0m\u001b[0;34m\u001b[0m\u001b[0;34m\u001b[0m\u001b[0m\n\u001b[0;32m-> 1189\u001b[0;31m             \u001b[0mout\u001b[0m \u001b[0;34m=\u001b[0m \u001b[0meval\u001b[0m\u001b[0;34m(\u001b[0m\u001b[0mcode\u001b[0m\u001b[0;34m,\u001b[0m \u001b[0mglob\u001b[0m\u001b[0;34m,\u001b[0m \u001b[0mlocal_ns\u001b[0m\u001b[0;34m)\u001b[0m\u001b[0;34m\u001b[0m\u001b[0;34m\u001b[0m\u001b[0m\n\u001b[0m\u001b[1;32m   1190\u001b[0m             \u001b[0mend\u001b[0m \u001b[0;34m=\u001b[0m \u001b[0mclock2\u001b[0m\u001b[0;34m(\u001b[0m\u001b[0;34m)\u001b[0m\u001b[0;34m\u001b[0m\u001b[0;34m\u001b[0m\u001b[0m\n\u001b[1;32m   1191\u001b[0m         \u001b[0;32melse\u001b[0m\u001b[0;34m:\u001b[0m\u001b[0;34m\u001b[0m\u001b[0;34m\u001b[0m\u001b[0m\n",
      "\u001b[0;32m<timed eval>\u001b[0m in \u001b[0;36m<module>\u001b[0;34m()\u001b[0m\n",
      "\u001b[0;32m<ipython-input-1-015e400053b2>\u001b[0m in \u001b[0;36mDecisionTree_\u001b[0;34m(Xtrain, Ytrain, Xtest, Ytest)\u001b[0m\n\u001b[1;32m     13\u001b[0m         \u001b[0mdt\u001b[0m \u001b[0;34m=\u001b[0m \u001b[0mDecisionTreeClassifier\u001b[0m\u001b[0;34m(\u001b[0m\u001b[0mrandom_state\u001b[0m\u001b[0;34m=\u001b[0m\u001b[0;36m42\u001b[0m\u001b[0;34m,\u001b[0m \u001b[0mclass_weight\u001b[0m\u001b[0;34m=\u001b[0m\u001b[0;34m'balanced'\u001b[0m\u001b[0;34m)\u001b[0m\u001b[0;34m\u001b[0m\u001b[0;34m\u001b[0m\u001b[0m\n\u001b[1;32m     14\u001b[0m         \u001b[0mdt\u001b[0m\u001b[0;34m.\u001b[0m\u001b[0mfit\u001b[0m\u001b[0;34m(\u001b[0m\u001b[0mxtr_DT\u001b[0m\u001b[0;34m,\u001b[0m \u001b[0mytr_DT\u001b[0m\u001b[0;34m.\u001b[0m\u001b[0mvalues\u001b[0m\u001b[0;34m.\u001b[0m\u001b[0mravel\u001b[0m\u001b[0;34m(\u001b[0m\u001b[0;34m)\u001b[0m\u001b[0;34m)\u001b[0m\u001b[0;34m\u001b[0m\u001b[0;34m\u001b[0m\u001b[0m\n\u001b[0;32m---> 15\u001b[0;31m         \u001b[0mscore\u001b[0m \u001b[0;34m=\u001b[0m \u001b[0mroc_auc_score\u001b[0m\u001b[0;34m(\u001b[0m\u001b[0myvl_DT\u001b[0m\u001b[0;34m,\u001b[0m \u001b[0mdt\u001b[0m\u001b[0;34m.\u001b[0m\u001b[0mpredict\u001b[0m\u001b[0;34m(\u001b[0m\u001b[0mxvl_DT\u001b[0m\u001b[0;34m)\u001b[0m\u001b[0;34m)\u001b[0m\u001b[0;34m\u001b[0m\u001b[0;34m\u001b[0m\u001b[0m\n\u001b[0m\u001b[1;32m     16\u001b[0m         \u001b[0mprint\u001b[0m\u001b[0;34m(\u001b[0m\u001b[0;34m'ROC AUC score:'\u001b[0m\u001b[0;34m,\u001b[0m\u001b[0mscore\u001b[0m\u001b[0;34m)\u001b[0m\u001b[0;34m\u001b[0m\u001b[0;34m\u001b[0m\u001b[0m\n\u001b[1;32m     17\u001b[0m         \u001b[0mcv_score\u001b[0m\u001b[0;34m.\u001b[0m\u001b[0mappend\u001b[0m\u001b[0;34m(\u001b[0m\u001b[0mscore\u001b[0m\u001b[0;34m)\u001b[0m\u001b[0;34m\u001b[0m\u001b[0;34m\u001b[0m\u001b[0m\n",
      "\u001b[0;32m/usr/local/lib/python3.6/dist-packages/sklearn/metrics/ranking.py\u001b[0m in \u001b[0;36mroc_auc_score\u001b[0;34m(y_true, y_score, average, sample_weight, max_fpr)\u001b[0m\n\u001b[1;32m    353\u001b[0m     return _average_binary_score(\n\u001b[1;32m    354\u001b[0m         \u001b[0m_binary_roc_auc_score\u001b[0m\u001b[0;34m,\u001b[0m \u001b[0my_true\u001b[0m\u001b[0;34m,\u001b[0m \u001b[0my_score\u001b[0m\u001b[0;34m,\u001b[0m \u001b[0maverage\u001b[0m\u001b[0;34m,\u001b[0m\u001b[0;34m\u001b[0m\u001b[0;34m\u001b[0m\u001b[0m\n\u001b[0;32m--> 355\u001b[0;31m         sample_weight=sample_weight)\n\u001b[0m\u001b[1;32m    356\u001b[0m \u001b[0;34m\u001b[0m\u001b[0m\n\u001b[1;32m    357\u001b[0m \u001b[0;34m\u001b[0m\u001b[0m\n",
      "\u001b[0;32m/usr/local/lib/python3.6/dist-packages/sklearn/metrics/base.py\u001b[0m in \u001b[0;36m_average_binary_score\u001b[0;34m(binary_metric, y_true, y_score, average, sample_weight)\u001b[0m\n\u001b[1;32m     74\u001b[0m \u001b[0;34m\u001b[0m\u001b[0m\n\u001b[1;32m     75\u001b[0m     \u001b[0;32mif\u001b[0m \u001b[0my_type\u001b[0m \u001b[0;34m==\u001b[0m \u001b[0;34m\"binary\"\u001b[0m\u001b[0;34m:\u001b[0m\u001b[0;34m\u001b[0m\u001b[0;34m\u001b[0m\u001b[0m\n\u001b[0;32m---> 76\u001b[0;31m         \u001b[0;32mreturn\u001b[0m \u001b[0mbinary_metric\u001b[0m\u001b[0;34m(\u001b[0m\u001b[0my_true\u001b[0m\u001b[0;34m,\u001b[0m \u001b[0my_score\u001b[0m\u001b[0;34m,\u001b[0m \u001b[0msample_weight\u001b[0m\u001b[0;34m=\u001b[0m\u001b[0msample_weight\u001b[0m\u001b[0;34m)\u001b[0m\u001b[0;34m\u001b[0m\u001b[0;34m\u001b[0m\u001b[0m\n\u001b[0m\u001b[1;32m     77\u001b[0m \u001b[0;34m\u001b[0m\u001b[0m\n\u001b[1;32m     78\u001b[0m     \u001b[0mcheck_consistent_length\u001b[0m\u001b[0;34m(\u001b[0m\u001b[0my_true\u001b[0m\u001b[0;34m,\u001b[0m \u001b[0my_score\u001b[0m\u001b[0;34m,\u001b[0m \u001b[0msample_weight\u001b[0m\u001b[0;34m)\u001b[0m\u001b[0;34m\u001b[0m\u001b[0;34m\u001b[0m\u001b[0m\n",
      "\u001b[0;32m/usr/local/lib/python3.6/dist-packages/sklearn/metrics/ranking.py\u001b[0m in \u001b[0;36m_binary_roc_auc_score\u001b[0;34m(y_true, y_score, sample_weight)\u001b[0m\n\u001b[1;32m    321\u001b[0m     \u001b[0;32mdef\u001b[0m \u001b[0m_binary_roc_auc_score\u001b[0m\u001b[0;34m(\u001b[0m\u001b[0my_true\u001b[0m\u001b[0;34m,\u001b[0m \u001b[0my_score\u001b[0m\u001b[0;34m,\u001b[0m \u001b[0msample_weight\u001b[0m\u001b[0;34m=\u001b[0m\u001b[0;32mNone\u001b[0m\u001b[0;34m)\u001b[0m\u001b[0;34m:\u001b[0m\u001b[0;34m\u001b[0m\u001b[0;34m\u001b[0m\u001b[0m\n\u001b[1;32m    322\u001b[0m         \u001b[0;32mif\u001b[0m \u001b[0mlen\u001b[0m\u001b[0;34m(\u001b[0m\u001b[0mnp\u001b[0m\u001b[0;34m.\u001b[0m\u001b[0munique\u001b[0m\u001b[0;34m(\u001b[0m\u001b[0my_true\u001b[0m\u001b[0;34m)\u001b[0m\u001b[0;34m)\u001b[0m \u001b[0;34m!=\u001b[0m \u001b[0;36m2\u001b[0m\u001b[0;34m:\u001b[0m\u001b[0;34m\u001b[0m\u001b[0;34m\u001b[0m\u001b[0m\n\u001b[0;32m--> 323\u001b[0;31m             raise ValueError(\"Only one class present in y_true. ROC AUC score \"\n\u001b[0m\u001b[1;32m    324\u001b[0m                              \"is not defined in that case.\")\n\u001b[1;32m    325\u001b[0m \u001b[0;34m\u001b[0m\u001b[0m\n",
      "\u001b[0;31mValueError\u001b[0m: Only one class present in y_true. ROC AUC score is not defined in that case."
     ]
    }
   ],
   "source": [
    "%%time\n",
    "DecisionTree_(X_RUS, y_RUS, X_test, y_test)"
   ]
  },
  {
   "cell_type": "code",
   "execution_count": 28,
   "metadata": {},
   "outputs": [
    {
     "name": "stdout",
     "output_type": "stream",
     "text": [
      "CPU times: user 1 µs, sys: 0 ns, total: 1 µs\n",
      "Wall time: 2.86 µs\n",
      "RANDOM FOREST\n",
      "TRAIN AND VALIDATION SETS:\n",
      "1 of KFold 10\n"
     ]
    },
    {
     "ename": "ValueError",
     "evalue": "Only one class present in y_true. ROC AUC score is not defined in that case.",
     "output_type": "error",
     "traceback": [
      "\u001b[0;31m---------------------------------------------------------------------------\u001b[0m",
      "\u001b[0;31mValueError\u001b[0m                                Traceback (most recent call last)",
      "\u001b[0;32m<ipython-input-28-5c8ea5c6f008>\u001b[0m in \u001b[0;36m<module>\u001b[0;34m()\u001b[0m\n\u001b[0;32m----> 1\u001b[0;31m \u001b[0mget_ipython\u001b[0m\u001b[0;34m(\u001b[0m\u001b[0;34m)\u001b[0m\u001b[0;34m.\u001b[0m\u001b[0mrun_cell_magic\u001b[0m\u001b[0;34m(\u001b[0m\u001b[0;34m'time'\u001b[0m\u001b[0;34m,\u001b[0m \u001b[0;34m''\u001b[0m\u001b[0;34m,\u001b[0m \u001b[0;34m'RandomForest_(X_RUS, y_RUS, X_test, y_test)'\u001b[0m\u001b[0;34m)\u001b[0m\u001b[0;34m\u001b[0m\u001b[0;34m\u001b[0m\u001b[0m\n\u001b[0m",
      "\u001b[0;32m/usr/lib/python3/dist-packages/IPython/core/interactiveshell.py\u001b[0m in \u001b[0;36mrun_cell_magic\u001b[0;34m(self, magic_name, line, cell)\u001b[0m\n\u001b[1;32m   2115\u001b[0m             \u001b[0mmagic_arg_s\u001b[0m \u001b[0;34m=\u001b[0m \u001b[0mself\u001b[0m\u001b[0;34m.\u001b[0m\u001b[0mvar_expand\u001b[0m\u001b[0;34m(\u001b[0m\u001b[0mline\u001b[0m\u001b[0;34m,\u001b[0m \u001b[0mstack_depth\u001b[0m\u001b[0;34m)\u001b[0m\u001b[0;34m\u001b[0m\u001b[0;34m\u001b[0m\u001b[0m\n\u001b[1;32m   2116\u001b[0m             \u001b[0;32mwith\u001b[0m \u001b[0mself\u001b[0m\u001b[0;34m.\u001b[0m\u001b[0mbuiltin_trap\u001b[0m\u001b[0;34m:\u001b[0m\u001b[0;34m\u001b[0m\u001b[0;34m\u001b[0m\u001b[0m\n\u001b[0;32m-> 2117\u001b[0;31m                 \u001b[0mresult\u001b[0m \u001b[0;34m=\u001b[0m \u001b[0mfn\u001b[0m\u001b[0;34m(\u001b[0m\u001b[0mmagic_arg_s\u001b[0m\u001b[0;34m,\u001b[0m \u001b[0mcell\u001b[0m\u001b[0;34m)\u001b[0m\u001b[0;34m\u001b[0m\u001b[0;34m\u001b[0m\u001b[0m\n\u001b[0m\u001b[1;32m   2118\u001b[0m             \u001b[0;32mreturn\u001b[0m \u001b[0mresult\u001b[0m\u001b[0;34m\u001b[0m\u001b[0;34m\u001b[0m\u001b[0m\n\u001b[1;32m   2119\u001b[0m \u001b[0;34m\u001b[0m\u001b[0m\n",
      "\u001b[0;32m</usr/local/lib/python3.6/dist-packages/decorator.py:decorator-gen-60>\u001b[0m in \u001b[0;36mtime\u001b[0;34m(self, line, cell, local_ns)\u001b[0m\n",
      "\u001b[0;32m/usr/lib/python3/dist-packages/IPython/core/magic.py\u001b[0m in \u001b[0;36m<lambda>\u001b[0;34m(f, *a, **k)\u001b[0m\n\u001b[1;32m    186\u001b[0m     \u001b[0;31m# but it's overkill for just that one bit of state.\u001b[0m\u001b[0;34m\u001b[0m\u001b[0;34m\u001b[0m\u001b[0;34m\u001b[0m\u001b[0m\n\u001b[1;32m    187\u001b[0m     \u001b[0;32mdef\u001b[0m \u001b[0mmagic_deco\u001b[0m\u001b[0;34m(\u001b[0m\u001b[0marg\u001b[0m\u001b[0;34m)\u001b[0m\u001b[0;34m:\u001b[0m\u001b[0;34m\u001b[0m\u001b[0;34m\u001b[0m\u001b[0m\n\u001b[0;32m--> 188\u001b[0;31m         \u001b[0mcall\u001b[0m \u001b[0;34m=\u001b[0m \u001b[0;32mlambda\u001b[0m \u001b[0mf\u001b[0m\u001b[0;34m,\u001b[0m \u001b[0;34m*\u001b[0m\u001b[0ma\u001b[0m\u001b[0;34m,\u001b[0m \u001b[0;34m**\u001b[0m\u001b[0mk\u001b[0m\u001b[0;34m:\u001b[0m \u001b[0mf\u001b[0m\u001b[0;34m(\u001b[0m\u001b[0;34m*\u001b[0m\u001b[0ma\u001b[0m\u001b[0;34m,\u001b[0m \u001b[0;34m**\u001b[0m\u001b[0mk\u001b[0m\u001b[0;34m)\u001b[0m\u001b[0;34m\u001b[0m\u001b[0;34m\u001b[0m\u001b[0m\n\u001b[0m\u001b[1;32m    189\u001b[0m \u001b[0;34m\u001b[0m\u001b[0m\n\u001b[1;32m    190\u001b[0m         \u001b[0;32mif\u001b[0m \u001b[0mcallable\u001b[0m\u001b[0;34m(\u001b[0m\u001b[0marg\u001b[0m\u001b[0;34m)\u001b[0m\u001b[0;34m:\u001b[0m\u001b[0;34m\u001b[0m\u001b[0;34m\u001b[0m\u001b[0m\n",
      "\u001b[0;32m/usr/lib/python3/dist-packages/IPython/core/magics/execution.py\u001b[0m in \u001b[0;36mtime\u001b[0;34m(self, line, cell, local_ns)\u001b[0m\n\u001b[1;32m   1187\u001b[0m         \u001b[0;32mif\u001b[0m \u001b[0mmode\u001b[0m\u001b[0;34m==\u001b[0m\u001b[0;34m'eval'\u001b[0m\u001b[0;34m:\u001b[0m\u001b[0;34m\u001b[0m\u001b[0;34m\u001b[0m\u001b[0m\n\u001b[1;32m   1188\u001b[0m             \u001b[0mst\u001b[0m \u001b[0;34m=\u001b[0m \u001b[0mclock2\u001b[0m\u001b[0;34m(\u001b[0m\u001b[0;34m)\u001b[0m\u001b[0;34m\u001b[0m\u001b[0;34m\u001b[0m\u001b[0m\n\u001b[0;32m-> 1189\u001b[0;31m             \u001b[0mout\u001b[0m \u001b[0;34m=\u001b[0m \u001b[0meval\u001b[0m\u001b[0;34m(\u001b[0m\u001b[0mcode\u001b[0m\u001b[0;34m,\u001b[0m \u001b[0mglob\u001b[0m\u001b[0;34m,\u001b[0m \u001b[0mlocal_ns\u001b[0m\u001b[0;34m)\u001b[0m\u001b[0;34m\u001b[0m\u001b[0;34m\u001b[0m\u001b[0m\n\u001b[0m\u001b[1;32m   1190\u001b[0m             \u001b[0mend\u001b[0m \u001b[0;34m=\u001b[0m \u001b[0mclock2\u001b[0m\u001b[0;34m(\u001b[0m\u001b[0;34m)\u001b[0m\u001b[0;34m\u001b[0m\u001b[0;34m\u001b[0m\u001b[0m\n\u001b[1;32m   1191\u001b[0m         \u001b[0;32melse\u001b[0m\u001b[0;34m:\u001b[0m\u001b[0;34m\u001b[0m\u001b[0;34m\u001b[0m\u001b[0m\n",
      "\u001b[0;32m<timed eval>\u001b[0m in \u001b[0;36m<module>\u001b[0;34m()\u001b[0m\n",
      "\u001b[0;32m<ipython-input-1-2d63457d1bac>\u001b[0m in \u001b[0;36mRandomForest_\u001b[0;34m(Xtrain, Ytrain, Xtest, Ytest)\u001b[0m\n\u001b[1;32m     13\u001b[0m         \u001b[0mrf\u001b[0m \u001b[0;34m=\u001b[0m \u001b[0mRandomForestClassifier\u001b[0m\u001b[0;34m(\u001b[0m\u001b[0mrandom_state\u001b[0m\u001b[0;34m=\u001b[0m\u001b[0;36m42\u001b[0m\u001b[0;34m,\u001b[0m \u001b[0mclass_weight\u001b[0m\u001b[0;34m=\u001b[0m\u001b[0;34m'balanced'\u001b[0m\u001b[0;34m,\u001b[0m \u001b[0mn_estimators\u001b[0m\u001b[0;34m=\u001b[0m\u001b[0;36m100\u001b[0m\u001b[0;34m)\u001b[0m\u001b[0;34m\u001b[0m\u001b[0;34m\u001b[0m\u001b[0m\n\u001b[1;32m     14\u001b[0m         \u001b[0mrf\u001b[0m\u001b[0;34m.\u001b[0m\u001b[0mfit\u001b[0m\u001b[0;34m(\u001b[0m\u001b[0mxtr_RF\u001b[0m\u001b[0;34m,\u001b[0m \u001b[0mytr_RF\u001b[0m\u001b[0;34m.\u001b[0m\u001b[0mvalues\u001b[0m\u001b[0;34m.\u001b[0m\u001b[0mravel\u001b[0m\u001b[0;34m(\u001b[0m\u001b[0;34m)\u001b[0m\u001b[0;34m)\u001b[0m\u001b[0;34m\u001b[0m\u001b[0;34m\u001b[0m\u001b[0m\n\u001b[0;32m---> 15\u001b[0;31m         \u001b[0mscore\u001b[0m \u001b[0;34m=\u001b[0m \u001b[0mroc_auc_score\u001b[0m\u001b[0;34m(\u001b[0m\u001b[0myvl_RF\u001b[0m\u001b[0;34m,\u001b[0m \u001b[0mrf\u001b[0m\u001b[0;34m.\u001b[0m\u001b[0mpredict\u001b[0m\u001b[0;34m(\u001b[0m\u001b[0mxvl_RF\u001b[0m\u001b[0;34m)\u001b[0m\u001b[0;34m)\u001b[0m\u001b[0;34m\u001b[0m\u001b[0;34m\u001b[0m\u001b[0m\n\u001b[0m\u001b[1;32m     16\u001b[0m         \u001b[0mprint\u001b[0m\u001b[0;34m(\u001b[0m\u001b[0;34m'ROC AUC score:'\u001b[0m\u001b[0;34m,\u001b[0m\u001b[0mscore\u001b[0m\u001b[0;34m)\u001b[0m\u001b[0;34m\u001b[0m\u001b[0;34m\u001b[0m\u001b[0m\n\u001b[1;32m     17\u001b[0m         \u001b[0mcv_score\u001b[0m\u001b[0;34m.\u001b[0m\u001b[0mappend\u001b[0m\u001b[0;34m(\u001b[0m\u001b[0mscore\u001b[0m\u001b[0;34m)\u001b[0m\u001b[0;34m\u001b[0m\u001b[0;34m\u001b[0m\u001b[0m\n",
      "\u001b[0;32m/usr/local/lib/python3.6/dist-packages/sklearn/metrics/ranking.py\u001b[0m in \u001b[0;36mroc_auc_score\u001b[0;34m(y_true, y_score, average, sample_weight, max_fpr)\u001b[0m\n\u001b[1;32m    353\u001b[0m     return _average_binary_score(\n\u001b[1;32m    354\u001b[0m         \u001b[0m_binary_roc_auc_score\u001b[0m\u001b[0;34m,\u001b[0m \u001b[0my_true\u001b[0m\u001b[0;34m,\u001b[0m \u001b[0my_score\u001b[0m\u001b[0;34m,\u001b[0m \u001b[0maverage\u001b[0m\u001b[0;34m,\u001b[0m\u001b[0;34m\u001b[0m\u001b[0;34m\u001b[0m\u001b[0m\n\u001b[0;32m--> 355\u001b[0;31m         sample_weight=sample_weight)\n\u001b[0m\u001b[1;32m    356\u001b[0m \u001b[0;34m\u001b[0m\u001b[0m\n\u001b[1;32m    357\u001b[0m \u001b[0;34m\u001b[0m\u001b[0m\n",
      "\u001b[0;32m/usr/local/lib/python3.6/dist-packages/sklearn/metrics/base.py\u001b[0m in \u001b[0;36m_average_binary_score\u001b[0;34m(binary_metric, y_true, y_score, average, sample_weight)\u001b[0m\n\u001b[1;32m     74\u001b[0m \u001b[0;34m\u001b[0m\u001b[0m\n\u001b[1;32m     75\u001b[0m     \u001b[0;32mif\u001b[0m \u001b[0my_type\u001b[0m \u001b[0;34m==\u001b[0m \u001b[0;34m\"binary\"\u001b[0m\u001b[0;34m:\u001b[0m\u001b[0;34m\u001b[0m\u001b[0;34m\u001b[0m\u001b[0m\n\u001b[0;32m---> 76\u001b[0;31m         \u001b[0;32mreturn\u001b[0m \u001b[0mbinary_metric\u001b[0m\u001b[0;34m(\u001b[0m\u001b[0my_true\u001b[0m\u001b[0;34m,\u001b[0m \u001b[0my_score\u001b[0m\u001b[0;34m,\u001b[0m \u001b[0msample_weight\u001b[0m\u001b[0;34m=\u001b[0m\u001b[0msample_weight\u001b[0m\u001b[0;34m)\u001b[0m\u001b[0;34m\u001b[0m\u001b[0;34m\u001b[0m\u001b[0m\n\u001b[0m\u001b[1;32m     77\u001b[0m \u001b[0;34m\u001b[0m\u001b[0m\n\u001b[1;32m     78\u001b[0m     \u001b[0mcheck_consistent_length\u001b[0m\u001b[0;34m(\u001b[0m\u001b[0my_true\u001b[0m\u001b[0;34m,\u001b[0m \u001b[0my_score\u001b[0m\u001b[0;34m,\u001b[0m \u001b[0msample_weight\u001b[0m\u001b[0;34m)\u001b[0m\u001b[0;34m\u001b[0m\u001b[0;34m\u001b[0m\u001b[0m\n",
      "\u001b[0;32m/usr/local/lib/python3.6/dist-packages/sklearn/metrics/ranking.py\u001b[0m in \u001b[0;36m_binary_roc_auc_score\u001b[0;34m(y_true, y_score, sample_weight)\u001b[0m\n\u001b[1;32m    321\u001b[0m     \u001b[0;32mdef\u001b[0m \u001b[0m_binary_roc_auc_score\u001b[0m\u001b[0;34m(\u001b[0m\u001b[0my_true\u001b[0m\u001b[0;34m,\u001b[0m \u001b[0my_score\u001b[0m\u001b[0;34m,\u001b[0m \u001b[0msample_weight\u001b[0m\u001b[0;34m=\u001b[0m\u001b[0;32mNone\u001b[0m\u001b[0;34m)\u001b[0m\u001b[0;34m:\u001b[0m\u001b[0;34m\u001b[0m\u001b[0;34m\u001b[0m\u001b[0m\n\u001b[1;32m    322\u001b[0m         \u001b[0;32mif\u001b[0m \u001b[0mlen\u001b[0m\u001b[0;34m(\u001b[0m\u001b[0mnp\u001b[0m\u001b[0;34m.\u001b[0m\u001b[0munique\u001b[0m\u001b[0;34m(\u001b[0m\u001b[0my_true\u001b[0m\u001b[0;34m)\u001b[0m\u001b[0;34m)\u001b[0m \u001b[0;34m!=\u001b[0m \u001b[0;36m2\u001b[0m\u001b[0;34m:\u001b[0m\u001b[0;34m\u001b[0m\u001b[0;34m\u001b[0m\u001b[0m\n\u001b[0;32m--> 323\u001b[0;31m             raise ValueError(\"Only one class present in y_true. ROC AUC score \"\n\u001b[0m\u001b[1;32m    324\u001b[0m                              \"is not defined in that case.\")\n\u001b[1;32m    325\u001b[0m \u001b[0;34m\u001b[0m\u001b[0m\n",
      "\u001b[0;31mValueError\u001b[0m: Only one class present in y_true. ROC AUC score is not defined in that case."
     ]
    }
   ],
   "source": [
    "%%time\n",
    "RandomForest_(X_RUS, y_RUS, X_test, y_test)"
   ]
  },
  {
   "cell_type": "code",
   "execution_count": 29,
   "metadata": {},
   "outputs": [
    {
     "name": "stdout",
     "output_type": "stream",
     "text": [
      "CPU times: user 1e+03 ns, sys: 1 µs, total: 2 µs\n",
      "Wall time: 2.62 µs\n",
      "NEURAL NETWORK\n",
      "TRAIN AND VALIDATION SETS:\n",
      "1 of KFold 10\n"
     ]
    },
    {
     "ename": "ValueError",
     "evalue": "Only one class present in y_true. ROC AUC score is not defined in that case.",
     "output_type": "error",
     "traceback": [
      "\u001b[0;31m---------------------------------------------------------------------------\u001b[0m",
      "\u001b[0;31mValueError\u001b[0m                                Traceback (most recent call last)",
      "\u001b[0;32m<ipython-input-29-20af7b7d0a47>\u001b[0m in \u001b[0;36m<module>\u001b[0;34m()\u001b[0m\n\u001b[0;32m----> 1\u001b[0;31m \u001b[0mget_ipython\u001b[0m\u001b[0;34m(\u001b[0m\u001b[0;34m)\u001b[0m\u001b[0;34m.\u001b[0m\u001b[0mrun_cell_magic\u001b[0m\u001b[0;34m(\u001b[0m\u001b[0;34m'time'\u001b[0m\u001b[0;34m,\u001b[0m \u001b[0;34m''\u001b[0m\u001b[0;34m,\u001b[0m \u001b[0;34m'NN_(X_RUS, y_RUS, X_test, y_test)'\u001b[0m\u001b[0;34m)\u001b[0m\u001b[0;34m\u001b[0m\u001b[0;34m\u001b[0m\u001b[0m\n\u001b[0m",
      "\u001b[0;32m/usr/lib/python3/dist-packages/IPython/core/interactiveshell.py\u001b[0m in \u001b[0;36mrun_cell_magic\u001b[0;34m(self, magic_name, line, cell)\u001b[0m\n\u001b[1;32m   2115\u001b[0m             \u001b[0mmagic_arg_s\u001b[0m \u001b[0;34m=\u001b[0m \u001b[0mself\u001b[0m\u001b[0;34m.\u001b[0m\u001b[0mvar_expand\u001b[0m\u001b[0;34m(\u001b[0m\u001b[0mline\u001b[0m\u001b[0;34m,\u001b[0m \u001b[0mstack_depth\u001b[0m\u001b[0;34m)\u001b[0m\u001b[0;34m\u001b[0m\u001b[0;34m\u001b[0m\u001b[0m\n\u001b[1;32m   2116\u001b[0m             \u001b[0;32mwith\u001b[0m \u001b[0mself\u001b[0m\u001b[0;34m.\u001b[0m\u001b[0mbuiltin_trap\u001b[0m\u001b[0;34m:\u001b[0m\u001b[0;34m\u001b[0m\u001b[0;34m\u001b[0m\u001b[0m\n\u001b[0;32m-> 2117\u001b[0;31m                 \u001b[0mresult\u001b[0m \u001b[0;34m=\u001b[0m \u001b[0mfn\u001b[0m\u001b[0;34m(\u001b[0m\u001b[0mmagic_arg_s\u001b[0m\u001b[0;34m,\u001b[0m \u001b[0mcell\u001b[0m\u001b[0;34m)\u001b[0m\u001b[0;34m\u001b[0m\u001b[0;34m\u001b[0m\u001b[0m\n\u001b[0m\u001b[1;32m   2118\u001b[0m             \u001b[0;32mreturn\u001b[0m \u001b[0mresult\u001b[0m\u001b[0;34m\u001b[0m\u001b[0;34m\u001b[0m\u001b[0m\n\u001b[1;32m   2119\u001b[0m \u001b[0;34m\u001b[0m\u001b[0m\n",
      "\u001b[0;32m</usr/local/lib/python3.6/dist-packages/decorator.py:decorator-gen-60>\u001b[0m in \u001b[0;36mtime\u001b[0;34m(self, line, cell, local_ns)\u001b[0m\n",
      "\u001b[0;32m/usr/lib/python3/dist-packages/IPython/core/magic.py\u001b[0m in \u001b[0;36m<lambda>\u001b[0;34m(f, *a, **k)\u001b[0m\n\u001b[1;32m    186\u001b[0m     \u001b[0;31m# but it's overkill for just that one bit of state.\u001b[0m\u001b[0;34m\u001b[0m\u001b[0;34m\u001b[0m\u001b[0;34m\u001b[0m\u001b[0m\n\u001b[1;32m    187\u001b[0m     \u001b[0;32mdef\u001b[0m \u001b[0mmagic_deco\u001b[0m\u001b[0;34m(\u001b[0m\u001b[0marg\u001b[0m\u001b[0;34m)\u001b[0m\u001b[0;34m:\u001b[0m\u001b[0;34m\u001b[0m\u001b[0;34m\u001b[0m\u001b[0m\n\u001b[0;32m--> 188\u001b[0;31m         \u001b[0mcall\u001b[0m \u001b[0;34m=\u001b[0m \u001b[0;32mlambda\u001b[0m \u001b[0mf\u001b[0m\u001b[0;34m,\u001b[0m \u001b[0;34m*\u001b[0m\u001b[0ma\u001b[0m\u001b[0;34m,\u001b[0m \u001b[0;34m**\u001b[0m\u001b[0mk\u001b[0m\u001b[0;34m:\u001b[0m \u001b[0mf\u001b[0m\u001b[0;34m(\u001b[0m\u001b[0;34m*\u001b[0m\u001b[0ma\u001b[0m\u001b[0;34m,\u001b[0m \u001b[0;34m**\u001b[0m\u001b[0mk\u001b[0m\u001b[0;34m)\u001b[0m\u001b[0;34m\u001b[0m\u001b[0;34m\u001b[0m\u001b[0m\n\u001b[0m\u001b[1;32m    189\u001b[0m \u001b[0;34m\u001b[0m\u001b[0m\n\u001b[1;32m    190\u001b[0m         \u001b[0;32mif\u001b[0m \u001b[0mcallable\u001b[0m\u001b[0;34m(\u001b[0m\u001b[0marg\u001b[0m\u001b[0;34m)\u001b[0m\u001b[0;34m:\u001b[0m\u001b[0;34m\u001b[0m\u001b[0;34m\u001b[0m\u001b[0m\n",
      "\u001b[0;32m/usr/lib/python3/dist-packages/IPython/core/magics/execution.py\u001b[0m in \u001b[0;36mtime\u001b[0;34m(self, line, cell, local_ns)\u001b[0m\n\u001b[1;32m   1187\u001b[0m         \u001b[0;32mif\u001b[0m \u001b[0mmode\u001b[0m\u001b[0;34m==\u001b[0m\u001b[0;34m'eval'\u001b[0m\u001b[0;34m:\u001b[0m\u001b[0;34m\u001b[0m\u001b[0;34m\u001b[0m\u001b[0m\n\u001b[1;32m   1188\u001b[0m             \u001b[0mst\u001b[0m \u001b[0;34m=\u001b[0m \u001b[0mclock2\u001b[0m\u001b[0;34m(\u001b[0m\u001b[0;34m)\u001b[0m\u001b[0;34m\u001b[0m\u001b[0;34m\u001b[0m\u001b[0m\n\u001b[0;32m-> 1189\u001b[0;31m             \u001b[0mout\u001b[0m \u001b[0;34m=\u001b[0m \u001b[0meval\u001b[0m\u001b[0;34m(\u001b[0m\u001b[0mcode\u001b[0m\u001b[0;34m,\u001b[0m \u001b[0mglob\u001b[0m\u001b[0;34m,\u001b[0m \u001b[0mlocal_ns\u001b[0m\u001b[0;34m)\u001b[0m\u001b[0;34m\u001b[0m\u001b[0;34m\u001b[0m\u001b[0m\n\u001b[0m\u001b[1;32m   1190\u001b[0m             \u001b[0mend\u001b[0m \u001b[0;34m=\u001b[0m \u001b[0mclock2\u001b[0m\u001b[0;34m(\u001b[0m\u001b[0;34m)\u001b[0m\u001b[0;34m\u001b[0m\u001b[0;34m\u001b[0m\u001b[0m\n\u001b[1;32m   1191\u001b[0m         \u001b[0;32melse\u001b[0m\u001b[0;34m:\u001b[0m\u001b[0;34m\u001b[0m\u001b[0;34m\u001b[0m\u001b[0m\n",
      "\u001b[0;32m<timed eval>\u001b[0m in \u001b[0;36m<module>\u001b[0;34m()\u001b[0m\n",
      "\u001b[0;32m<ipython-input-1-c64caad24ca0>\u001b[0m in \u001b[0;36mNN_\u001b[0;34m(Xtrain, Ytrain, Xtest, Ytest)\u001b[0m\n\u001b[1;32m     14\u001b[0m         \u001b[0mnn\u001b[0m \u001b[0;34m=\u001b[0m \u001b[0mMLPClassifier\u001b[0m\u001b[0;34m(\u001b[0m\u001b[0mrandom_state\u001b[0m\u001b[0;34m=\u001b[0m\u001b[0;36m42\u001b[0m\u001b[0;34m)\u001b[0m\u001b[0;34m\u001b[0m\u001b[0;34m\u001b[0m\u001b[0m\n\u001b[1;32m     15\u001b[0m         \u001b[0mnn\u001b[0m\u001b[0;34m.\u001b[0m\u001b[0mfit\u001b[0m\u001b[0;34m(\u001b[0m\u001b[0mxtr_NN\u001b[0m\u001b[0;34m,\u001b[0m \u001b[0mytr_NN\u001b[0m\u001b[0;34m.\u001b[0m\u001b[0mvalues\u001b[0m\u001b[0;34m.\u001b[0m\u001b[0mravel\u001b[0m\u001b[0;34m(\u001b[0m\u001b[0;34m)\u001b[0m\u001b[0;34m)\u001b[0m\u001b[0;34m\u001b[0m\u001b[0;34m\u001b[0m\u001b[0m\n\u001b[0;32m---> 16\u001b[0;31m         \u001b[0mscore\u001b[0m \u001b[0;34m=\u001b[0m \u001b[0mroc_auc_score\u001b[0m\u001b[0;34m(\u001b[0m\u001b[0myvl_NN\u001b[0m\u001b[0;34m,\u001b[0m \u001b[0mnn\u001b[0m\u001b[0;34m.\u001b[0m\u001b[0mpredict\u001b[0m\u001b[0;34m(\u001b[0m\u001b[0mxvl_NN\u001b[0m\u001b[0;34m)\u001b[0m\u001b[0;34m)\u001b[0m\u001b[0;34m\u001b[0m\u001b[0;34m\u001b[0m\u001b[0m\n\u001b[0m\u001b[1;32m     17\u001b[0m         \u001b[0mprint\u001b[0m\u001b[0;34m(\u001b[0m\u001b[0;34m'ROC AUC score:'\u001b[0m\u001b[0;34m,\u001b[0m\u001b[0mscore\u001b[0m\u001b[0;34m)\u001b[0m\u001b[0;34m\u001b[0m\u001b[0;34m\u001b[0m\u001b[0m\n\u001b[1;32m     18\u001b[0m         \u001b[0mcv_score\u001b[0m\u001b[0;34m.\u001b[0m\u001b[0mappend\u001b[0m\u001b[0;34m(\u001b[0m\u001b[0mscore\u001b[0m\u001b[0;34m)\u001b[0m\u001b[0;34m\u001b[0m\u001b[0;34m\u001b[0m\u001b[0m\n",
      "\u001b[0;32m/usr/local/lib/python3.6/dist-packages/sklearn/metrics/ranking.py\u001b[0m in \u001b[0;36mroc_auc_score\u001b[0;34m(y_true, y_score, average, sample_weight, max_fpr)\u001b[0m\n\u001b[1;32m    353\u001b[0m     return _average_binary_score(\n\u001b[1;32m    354\u001b[0m         \u001b[0m_binary_roc_auc_score\u001b[0m\u001b[0;34m,\u001b[0m \u001b[0my_true\u001b[0m\u001b[0;34m,\u001b[0m \u001b[0my_score\u001b[0m\u001b[0;34m,\u001b[0m \u001b[0maverage\u001b[0m\u001b[0;34m,\u001b[0m\u001b[0;34m\u001b[0m\u001b[0;34m\u001b[0m\u001b[0m\n\u001b[0;32m--> 355\u001b[0;31m         sample_weight=sample_weight)\n\u001b[0m\u001b[1;32m    356\u001b[0m \u001b[0;34m\u001b[0m\u001b[0m\n\u001b[1;32m    357\u001b[0m \u001b[0;34m\u001b[0m\u001b[0m\n",
      "\u001b[0;32m/usr/local/lib/python3.6/dist-packages/sklearn/metrics/base.py\u001b[0m in \u001b[0;36m_average_binary_score\u001b[0;34m(binary_metric, y_true, y_score, average, sample_weight)\u001b[0m\n\u001b[1;32m     74\u001b[0m \u001b[0;34m\u001b[0m\u001b[0m\n\u001b[1;32m     75\u001b[0m     \u001b[0;32mif\u001b[0m \u001b[0my_type\u001b[0m \u001b[0;34m==\u001b[0m \u001b[0;34m\"binary\"\u001b[0m\u001b[0;34m:\u001b[0m\u001b[0;34m\u001b[0m\u001b[0;34m\u001b[0m\u001b[0m\n\u001b[0;32m---> 76\u001b[0;31m         \u001b[0;32mreturn\u001b[0m \u001b[0mbinary_metric\u001b[0m\u001b[0;34m(\u001b[0m\u001b[0my_true\u001b[0m\u001b[0;34m,\u001b[0m \u001b[0my_score\u001b[0m\u001b[0;34m,\u001b[0m \u001b[0msample_weight\u001b[0m\u001b[0;34m=\u001b[0m\u001b[0msample_weight\u001b[0m\u001b[0;34m)\u001b[0m\u001b[0;34m\u001b[0m\u001b[0;34m\u001b[0m\u001b[0m\n\u001b[0m\u001b[1;32m     77\u001b[0m \u001b[0;34m\u001b[0m\u001b[0m\n\u001b[1;32m     78\u001b[0m     \u001b[0mcheck_consistent_length\u001b[0m\u001b[0;34m(\u001b[0m\u001b[0my_true\u001b[0m\u001b[0;34m,\u001b[0m \u001b[0my_score\u001b[0m\u001b[0;34m,\u001b[0m \u001b[0msample_weight\u001b[0m\u001b[0;34m)\u001b[0m\u001b[0;34m\u001b[0m\u001b[0;34m\u001b[0m\u001b[0m\n",
      "\u001b[0;32m/usr/local/lib/python3.6/dist-packages/sklearn/metrics/ranking.py\u001b[0m in \u001b[0;36m_binary_roc_auc_score\u001b[0;34m(y_true, y_score, sample_weight)\u001b[0m\n\u001b[1;32m    321\u001b[0m     \u001b[0;32mdef\u001b[0m \u001b[0m_binary_roc_auc_score\u001b[0m\u001b[0;34m(\u001b[0m\u001b[0my_true\u001b[0m\u001b[0;34m,\u001b[0m \u001b[0my_score\u001b[0m\u001b[0;34m,\u001b[0m \u001b[0msample_weight\u001b[0m\u001b[0;34m=\u001b[0m\u001b[0;32mNone\u001b[0m\u001b[0;34m)\u001b[0m\u001b[0;34m:\u001b[0m\u001b[0;34m\u001b[0m\u001b[0;34m\u001b[0m\u001b[0m\n\u001b[1;32m    322\u001b[0m         \u001b[0;32mif\u001b[0m \u001b[0mlen\u001b[0m\u001b[0;34m(\u001b[0m\u001b[0mnp\u001b[0m\u001b[0;34m.\u001b[0m\u001b[0munique\u001b[0m\u001b[0;34m(\u001b[0m\u001b[0my_true\u001b[0m\u001b[0;34m)\u001b[0m\u001b[0;34m)\u001b[0m \u001b[0;34m!=\u001b[0m \u001b[0;36m2\u001b[0m\u001b[0;34m:\u001b[0m\u001b[0;34m\u001b[0m\u001b[0;34m\u001b[0m\u001b[0m\n\u001b[0;32m--> 323\u001b[0;31m             raise ValueError(\"Only one class present in y_true. ROC AUC score \"\n\u001b[0m\u001b[1;32m    324\u001b[0m                              \"is not defined in that case.\")\n\u001b[1;32m    325\u001b[0m \u001b[0;34m\u001b[0m\u001b[0m\n",
      "\u001b[0;31mValueError\u001b[0m: Only one class present in y_true. ROC AUC score is not defined in that case."
     ]
    }
   ],
   "source": [
    "%%time\n",
    "NN_(X_RUS, y_RUS, X_test, y_test)"
   ]
  },
  {
   "cell_type": "code",
   "execution_count": 30,
   "metadata": {},
   "outputs": [
    {
     "name": "stdout",
     "output_type": "stream",
     "text": [
      "Resampling dataset using Edited Nearest Neighbour (ENN)...\n",
      "... DONE!\n",
      "X and Y ENN: 72831 72831\n"
     ]
    }
   ],
   "source": [
    "print(\"Resampling dataset using Edited Nearest Neighbour (ENN)...\")\n",
    "X_ENN, y_ENN = EditedNearestNeighbours(random_state=42).fit_sample(X_train, y_train.values.ravel())\n",
    "print(\"... DONE!\")\n",
    "print(\"X and Y ENN:\", len(X_ENN), len(y_ENN))"
   ]
  },
  {
   "cell_type": "code",
   "execution_count": 31,
   "metadata": {},
   "outputs": [
    {
     "name": "stdout",
     "output_type": "stream",
     "text": [
      "\n",
      "LOGISTIC REGRESSION\n",
      "TRAIN AND VALIDATION SETS:\n",
      "1 of KFold 10\n"
     ]
    },
    {
     "ename": "ValueError",
     "evalue": "Only one class present in y_true. ROC AUC score is not defined in that case.",
     "output_type": "error",
     "traceback": [
      "\u001b[0;31m---------------------------------------------------------------------------\u001b[0m",
      "\u001b[0;31mValueError\u001b[0m                                Traceback (most recent call last)",
      "\u001b[0;32m<ipython-input-31-ba785ba80b9f>\u001b[0m in \u001b[0;36m<module>\u001b[0;34m()\u001b[0m\n\u001b[0;32m----> 1\u001b[0;31m \u001b[0mget_ipython\u001b[0m\u001b[0;34m(\u001b[0m\u001b[0;34m)\u001b[0m\u001b[0;34m.\u001b[0m\u001b[0mrun_cell_magic\u001b[0m\u001b[0;34m(\u001b[0m\u001b[0;34m'time'\u001b[0m\u001b[0;34m,\u001b[0m \u001b[0;34m''\u001b[0m\u001b[0;34m,\u001b[0m \u001b[0;34m'LogisticRegr_(X_ENN, y_ENN, X_test, y_test)'\u001b[0m\u001b[0;34m)\u001b[0m\u001b[0;34m\u001b[0m\u001b[0;34m\u001b[0m\u001b[0m\n\u001b[0m",
      "\u001b[0;32m/usr/lib/python3/dist-packages/IPython/core/interactiveshell.py\u001b[0m in \u001b[0;36mrun_cell_magic\u001b[0;34m(self, magic_name, line, cell)\u001b[0m\n\u001b[1;32m   2115\u001b[0m             \u001b[0mmagic_arg_s\u001b[0m \u001b[0;34m=\u001b[0m \u001b[0mself\u001b[0m\u001b[0;34m.\u001b[0m\u001b[0mvar_expand\u001b[0m\u001b[0;34m(\u001b[0m\u001b[0mline\u001b[0m\u001b[0;34m,\u001b[0m \u001b[0mstack_depth\u001b[0m\u001b[0;34m)\u001b[0m\u001b[0;34m\u001b[0m\u001b[0;34m\u001b[0m\u001b[0m\n\u001b[1;32m   2116\u001b[0m             \u001b[0;32mwith\u001b[0m \u001b[0mself\u001b[0m\u001b[0;34m.\u001b[0m\u001b[0mbuiltin_trap\u001b[0m\u001b[0;34m:\u001b[0m\u001b[0;34m\u001b[0m\u001b[0;34m\u001b[0m\u001b[0m\n\u001b[0;32m-> 2117\u001b[0;31m                 \u001b[0mresult\u001b[0m \u001b[0;34m=\u001b[0m \u001b[0mfn\u001b[0m\u001b[0;34m(\u001b[0m\u001b[0mmagic_arg_s\u001b[0m\u001b[0;34m,\u001b[0m \u001b[0mcell\u001b[0m\u001b[0;34m)\u001b[0m\u001b[0;34m\u001b[0m\u001b[0;34m\u001b[0m\u001b[0m\n\u001b[0m\u001b[1;32m   2118\u001b[0m             \u001b[0;32mreturn\u001b[0m \u001b[0mresult\u001b[0m\u001b[0;34m\u001b[0m\u001b[0;34m\u001b[0m\u001b[0m\n\u001b[1;32m   2119\u001b[0m \u001b[0;34m\u001b[0m\u001b[0m\n",
      "\u001b[0;32m</usr/local/lib/python3.6/dist-packages/decorator.py:decorator-gen-60>\u001b[0m in \u001b[0;36mtime\u001b[0;34m(self, line, cell, local_ns)\u001b[0m\n",
      "\u001b[0;32m/usr/lib/python3/dist-packages/IPython/core/magic.py\u001b[0m in \u001b[0;36m<lambda>\u001b[0;34m(f, *a, **k)\u001b[0m\n\u001b[1;32m    186\u001b[0m     \u001b[0;31m# but it's overkill for just that one bit of state.\u001b[0m\u001b[0;34m\u001b[0m\u001b[0;34m\u001b[0m\u001b[0;34m\u001b[0m\u001b[0m\n\u001b[1;32m    187\u001b[0m     \u001b[0;32mdef\u001b[0m \u001b[0mmagic_deco\u001b[0m\u001b[0;34m(\u001b[0m\u001b[0marg\u001b[0m\u001b[0;34m)\u001b[0m\u001b[0;34m:\u001b[0m\u001b[0;34m\u001b[0m\u001b[0;34m\u001b[0m\u001b[0m\n\u001b[0;32m--> 188\u001b[0;31m         \u001b[0mcall\u001b[0m \u001b[0;34m=\u001b[0m \u001b[0;32mlambda\u001b[0m \u001b[0mf\u001b[0m\u001b[0;34m,\u001b[0m \u001b[0;34m*\u001b[0m\u001b[0ma\u001b[0m\u001b[0;34m,\u001b[0m \u001b[0;34m**\u001b[0m\u001b[0mk\u001b[0m\u001b[0;34m:\u001b[0m \u001b[0mf\u001b[0m\u001b[0;34m(\u001b[0m\u001b[0;34m*\u001b[0m\u001b[0ma\u001b[0m\u001b[0;34m,\u001b[0m \u001b[0;34m**\u001b[0m\u001b[0mk\u001b[0m\u001b[0;34m)\u001b[0m\u001b[0;34m\u001b[0m\u001b[0;34m\u001b[0m\u001b[0m\n\u001b[0m\u001b[1;32m    189\u001b[0m \u001b[0;34m\u001b[0m\u001b[0m\n\u001b[1;32m    190\u001b[0m         \u001b[0;32mif\u001b[0m \u001b[0mcallable\u001b[0m\u001b[0;34m(\u001b[0m\u001b[0marg\u001b[0m\u001b[0;34m)\u001b[0m\u001b[0;34m:\u001b[0m\u001b[0;34m\u001b[0m\u001b[0;34m\u001b[0m\u001b[0m\n",
      "\u001b[0;32m/usr/lib/python3/dist-packages/IPython/core/magics/execution.py\u001b[0m in \u001b[0;36mtime\u001b[0;34m(self, line, cell, local_ns)\u001b[0m\n\u001b[1;32m   1187\u001b[0m         \u001b[0;32mif\u001b[0m \u001b[0mmode\u001b[0m\u001b[0;34m==\u001b[0m\u001b[0;34m'eval'\u001b[0m\u001b[0;34m:\u001b[0m\u001b[0;34m\u001b[0m\u001b[0;34m\u001b[0m\u001b[0m\n\u001b[1;32m   1188\u001b[0m             \u001b[0mst\u001b[0m \u001b[0;34m=\u001b[0m \u001b[0mclock2\u001b[0m\u001b[0;34m(\u001b[0m\u001b[0;34m)\u001b[0m\u001b[0;34m\u001b[0m\u001b[0;34m\u001b[0m\u001b[0m\n\u001b[0;32m-> 1189\u001b[0;31m             \u001b[0mout\u001b[0m \u001b[0;34m=\u001b[0m \u001b[0meval\u001b[0m\u001b[0;34m(\u001b[0m\u001b[0mcode\u001b[0m\u001b[0;34m,\u001b[0m \u001b[0mglob\u001b[0m\u001b[0;34m,\u001b[0m \u001b[0mlocal_ns\u001b[0m\u001b[0;34m)\u001b[0m\u001b[0;34m\u001b[0m\u001b[0;34m\u001b[0m\u001b[0m\n\u001b[0m\u001b[1;32m   1190\u001b[0m             \u001b[0mend\u001b[0m \u001b[0;34m=\u001b[0m \u001b[0mclock2\u001b[0m\u001b[0;34m(\u001b[0m\u001b[0;34m)\u001b[0m\u001b[0;34m\u001b[0m\u001b[0;34m\u001b[0m\u001b[0m\n\u001b[1;32m   1191\u001b[0m         \u001b[0;32melse\u001b[0m\u001b[0;34m:\u001b[0m\u001b[0;34m\u001b[0m\u001b[0;34m\u001b[0m\u001b[0m\n",
      "\u001b[0;32m<timed eval>\u001b[0m in \u001b[0;36m<module>\u001b[0;34m()\u001b[0m\n",
      "\u001b[0;32m<ipython-input-1-67a89159c438>\u001b[0m in \u001b[0;36mLogisticRegr_\u001b[0;34m(Xtrain, Ytrain, Xtest, Ytest)\u001b[0m\n\u001b[1;32m     12\u001b[0m         \u001b[0mlr\u001b[0m \u001b[0;34m=\u001b[0m \u001b[0mLogisticRegression\u001b[0m\u001b[0;34m(\u001b[0m\u001b[0msolver\u001b[0m\u001b[0;34m=\u001b[0m\u001b[0;34m'lbfgs'\u001b[0m\u001b[0;34m,\u001b[0m \u001b[0mrandom_state\u001b[0m\u001b[0;34m=\u001b[0m\u001b[0;36m42\u001b[0m\u001b[0;34m,\u001b[0m \u001b[0mclass_weight\u001b[0m\u001b[0;34m=\u001b[0m\u001b[0;34m'balanced'\u001b[0m\u001b[0;34m)\u001b[0m\u001b[0;34m\u001b[0m\u001b[0;34m\u001b[0m\u001b[0m\n\u001b[1;32m     13\u001b[0m         \u001b[0mlr\u001b[0m\u001b[0;34m.\u001b[0m\u001b[0mfit\u001b[0m\u001b[0;34m(\u001b[0m\u001b[0mxtr_LR\u001b[0m\u001b[0;34m,\u001b[0m \u001b[0mytr_LR\u001b[0m\u001b[0;34m.\u001b[0m\u001b[0mvalues\u001b[0m\u001b[0;34m.\u001b[0m\u001b[0mravel\u001b[0m\u001b[0;34m(\u001b[0m\u001b[0;34m)\u001b[0m\u001b[0;34m)\u001b[0m\u001b[0;34m\u001b[0m\u001b[0;34m\u001b[0m\u001b[0m\n\u001b[0;32m---> 14\u001b[0;31m         \u001b[0mscore\u001b[0m \u001b[0;34m=\u001b[0m \u001b[0mroc_auc_score\u001b[0m\u001b[0;34m(\u001b[0m\u001b[0myvl_LR\u001b[0m\u001b[0;34m,\u001b[0m \u001b[0mlr\u001b[0m\u001b[0;34m.\u001b[0m\u001b[0mpredict\u001b[0m\u001b[0;34m(\u001b[0m\u001b[0mxvl_LR\u001b[0m\u001b[0;34m)\u001b[0m\u001b[0;34m)\u001b[0m\u001b[0;34m\u001b[0m\u001b[0;34m\u001b[0m\u001b[0m\n\u001b[0m\u001b[1;32m     15\u001b[0m         \u001b[0mprint\u001b[0m\u001b[0;34m(\u001b[0m\u001b[0;34m'ROC AUC score:'\u001b[0m\u001b[0;34m,\u001b[0m\u001b[0mscore\u001b[0m\u001b[0;34m)\u001b[0m\u001b[0;34m\u001b[0m\u001b[0;34m\u001b[0m\u001b[0m\n\u001b[1;32m     16\u001b[0m         \u001b[0mcv_score\u001b[0m\u001b[0;34m.\u001b[0m\u001b[0mappend\u001b[0m\u001b[0;34m(\u001b[0m\u001b[0mscore\u001b[0m\u001b[0;34m)\u001b[0m\u001b[0;34m\u001b[0m\u001b[0;34m\u001b[0m\u001b[0m\n",
      "\u001b[0;32m/usr/local/lib/python3.6/dist-packages/sklearn/metrics/ranking.py\u001b[0m in \u001b[0;36mroc_auc_score\u001b[0;34m(y_true, y_score, average, sample_weight, max_fpr)\u001b[0m\n\u001b[1;32m    353\u001b[0m     return _average_binary_score(\n\u001b[1;32m    354\u001b[0m         \u001b[0m_binary_roc_auc_score\u001b[0m\u001b[0;34m,\u001b[0m \u001b[0my_true\u001b[0m\u001b[0;34m,\u001b[0m \u001b[0my_score\u001b[0m\u001b[0;34m,\u001b[0m \u001b[0maverage\u001b[0m\u001b[0;34m,\u001b[0m\u001b[0;34m\u001b[0m\u001b[0;34m\u001b[0m\u001b[0m\n\u001b[0;32m--> 355\u001b[0;31m         sample_weight=sample_weight)\n\u001b[0m\u001b[1;32m    356\u001b[0m \u001b[0;34m\u001b[0m\u001b[0m\n\u001b[1;32m    357\u001b[0m \u001b[0;34m\u001b[0m\u001b[0m\n",
      "\u001b[0;32m/usr/local/lib/python3.6/dist-packages/sklearn/metrics/base.py\u001b[0m in \u001b[0;36m_average_binary_score\u001b[0;34m(binary_metric, y_true, y_score, average, sample_weight)\u001b[0m\n\u001b[1;32m     74\u001b[0m \u001b[0;34m\u001b[0m\u001b[0m\n\u001b[1;32m     75\u001b[0m     \u001b[0;32mif\u001b[0m \u001b[0my_type\u001b[0m \u001b[0;34m==\u001b[0m \u001b[0;34m\"binary\"\u001b[0m\u001b[0;34m:\u001b[0m\u001b[0;34m\u001b[0m\u001b[0;34m\u001b[0m\u001b[0m\n\u001b[0;32m---> 76\u001b[0;31m         \u001b[0;32mreturn\u001b[0m \u001b[0mbinary_metric\u001b[0m\u001b[0;34m(\u001b[0m\u001b[0my_true\u001b[0m\u001b[0;34m,\u001b[0m \u001b[0my_score\u001b[0m\u001b[0;34m,\u001b[0m \u001b[0msample_weight\u001b[0m\u001b[0;34m=\u001b[0m\u001b[0msample_weight\u001b[0m\u001b[0;34m)\u001b[0m\u001b[0;34m\u001b[0m\u001b[0;34m\u001b[0m\u001b[0m\n\u001b[0m\u001b[1;32m     77\u001b[0m \u001b[0;34m\u001b[0m\u001b[0m\n\u001b[1;32m     78\u001b[0m     \u001b[0mcheck_consistent_length\u001b[0m\u001b[0;34m(\u001b[0m\u001b[0my_true\u001b[0m\u001b[0;34m,\u001b[0m \u001b[0my_score\u001b[0m\u001b[0;34m,\u001b[0m \u001b[0msample_weight\u001b[0m\u001b[0;34m)\u001b[0m\u001b[0;34m\u001b[0m\u001b[0;34m\u001b[0m\u001b[0m\n",
      "\u001b[0;32m/usr/local/lib/python3.6/dist-packages/sklearn/metrics/ranking.py\u001b[0m in \u001b[0;36m_binary_roc_auc_score\u001b[0;34m(y_true, y_score, sample_weight)\u001b[0m\n\u001b[1;32m    321\u001b[0m     \u001b[0;32mdef\u001b[0m \u001b[0m_binary_roc_auc_score\u001b[0m\u001b[0;34m(\u001b[0m\u001b[0my_true\u001b[0m\u001b[0;34m,\u001b[0m \u001b[0my_score\u001b[0m\u001b[0;34m,\u001b[0m \u001b[0msample_weight\u001b[0m\u001b[0;34m=\u001b[0m\u001b[0;32mNone\u001b[0m\u001b[0;34m)\u001b[0m\u001b[0;34m:\u001b[0m\u001b[0;34m\u001b[0m\u001b[0;34m\u001b[0m\u001b[0m\n\u001b[1;32m    322\u001b[0m         \u001b[0;32mif\u001b[0m \u001b[0mlen\u001b[0m\u001b[0;34m(\u001b[0m\u001b[0mnp\u001b[0m\u001b[0;34m.\u001b[0m\u001b[0munique\u001b[0m\u001b[0;34m(\u001b[0m\u001b[0my_true\u001b[0m\u001b[0;34m)\u001b[0m\u001b[0;34m)\u001b[0m \u001b[0;34m!=\u001b[0m \u001b[0;36m2\u001b[0m\u001b[0;34m:\u001b[0m\u001b[0;34m\u001b[0m\u001b[0;34m\u001b[0m\u001b[0m\n\u001b[0;32m--> 323\u001b[0;31m             raise ValueError(\"Only one class present in y_true. ROC AUC score \"\n\u001b[0m\u001b[1;32m    324\u001b[0m                              \"is not defined in that case.\")\n\u001b[1;32m    325\u001b[0m \u001b[0;34m\u001b[0m\u001b[0m\n",
      "\u001b[0;31mValueError\u001b[0m: Only one class present in y_true. ROC AUC score is not defined in that case."
     ]
    }
   ],
   "source": [
    "%%time\n",
    "LogisticRegr_(X_ENN, y_ENN, X_test, y_test)"
   ]
  },
  {
   "cell_type": "code",
   "execution_count": 32,
   "metadata": {},
   "outputs": [
    {
     "name": "stdout",
     "output_type": "stream",
     "text": [
      "CPU times: user 1e+03 ns, sys: 0 ns, total: 1e+03 ns\n",
      "Wall time: 2.86 µs\n",
      "\n",
      "DECISION TREE\n",
      "TRAIN AND VALIDATION SETS:\n",
      "1 of KFold 10\n"
     ]
    },
    {
     "ename": "ValueError",
     "evalue": "Only one class present in y_true. ROC AUC score is not defined in that case.",
     "output_type": "error",
     "traceback": [
      "\u001b[0;31m---------------------------------------------------------------------------\u001b[0m",
      "\u001b[0;31mValueError\u001b[0m                                Traceback (most recent call last)",
      "\u001b[0;32m<ipython-input-32-4fb5aeb01eb6>\u001b[0m in \u001b[0;36m<module>\u001b[0;34m()\u001b[0m\n\u001b[0;32m----> 1\u001b[0;31m \u001b[0mget_ipython\u001b[0m\u001b[0;34m(\u001b[0m\u001b[0;34m)\u001b[0m\u001b[0;34m.\u001b[0m\u001b[0mrun_cell_magic\u001b[0m\u001b[0;34m(\u001b[0m\u001b[0;34m'time'\u001b[0m\u001b[0;34m,\u001b[0m \u001b[0;34m''\u001b[0m\u001b[0;34m,\u001b[0m \u001b[0;34m'DecisionTree_(X_ENN, y_ENN, X_test, y_test)'\u001b[0m\u001b[0;34m)\u001b[0m\u001b[0;34m\u001b[0m\u001b[0;34m\u001b[0m\u001b[0m\n\u001b[0m",
      "\u001b[0;32m/usr/lib/python3/dist-packages/IPython/core/interactiveshell.py\u001b[0m in \u001b[0;36mrun_cell_magic\u001b[0;34m(self, magic_name, line, cell)\u001b[0m\n\u001b[1;32m   2115\u001b[0m             \u001b[0mmagic_arg_s\u001b[0m \u001b[0;34m=\u001b[0m \u001b[0mself\u001b[0m\u001b[0;34m.\u001b[0m\u001b[0mvar_expand\u001b[0m\u001b[0;34m(\u001b[0m\u001b[0mline\u001b[0m\u001b[0;34m,\u001b[0m \u001b[0mstack_depth\u001b[0m\u001b[0;34m)\u001b[0m\u001b[0;34m\u001b[0m\u001b[0;34m\u001b[0m\u001b[0m\n\u001b[1;32m   2116\u001b[0m             \u001b[0;32mwith\u001b[0m \u001b[0mself\u001b[0m\u001b[0;34m.\u001b[0m\u001b[0mbuiltin_trap\u001b[0m\u001b[0;34m:\u001b[0m\u001b[0;34m\u001b[0m\u001b[0;34m\u001b[0m\u001b[0m\n\u001b[0;32m-> 2117\u001b[0;31m                 \u001b[0mresult\u001b[0m \u001b[0;34m=\u001b[0m \u001b[0mfn\u001b[0m\u001b[0;34m(\u001b[0m\u001b[0mmagic_arg_s\u001b[0m\u001b[0;34m,\u001b[0m \u001b[0mcell\u001b[0m\u001b[0;34m)\u001b[0m\u001b[0;34m\u001b[0m\u001b[0;34m\u001b[0m\u001b[0m\n\u001b[0m\u001b[1;32m   2118\u001b[0m             \u001b[0;32mreturn\u001b[0m \u001b[0mresult\u001b[0m\u001b[0;34m\u001b[0m\u001b[0;34m\u001b[0m\u001b[0m\n\u001b[1;32m   2119\u001b[0m \u001b[0;34m\u001b[0m\u001b[0m\n",
      "\u001b[0;32m</usr/local/lib/python3.6/dist-packages/decorator.py:decorator-gen-60>\u001b[0m in \u001b[0;36mtime\u001b[0;34m(self, line, cell, local_ns)\u001b[0m\n",
      "\u001b[0;32m/usr/lib/python3/dist-packages/IPython/core/magic.py\u001b[0m in \u001b[0;36m<lambda>\u001b[0;34m(f, *a, **k)\u001b[0m\n\u001b[1;32m    186\u001b[0m     \u001b[0;31m# but it's overkill for just that one bit of state.\u001b[0m\u001b[0;34m\u001b[0m\u001b[0;34m\u001b[0m\u001b[0;34m\u001b[0m\u001b[0m\n\u001b[1;32m    187\u001b[0m     \u001b[0;32mdef\u001b[0m \u001b[0mmagic_deco\u001b[0m\u001b[0;34m(\u001b[0m\u001b[0marg\u001b[0m\u001b[0;34m)\u001b[0m\u001b[0;34m:\u001b[0m\u001b[0;34m\u001b[0m\u001b[0;34m\u001b[0m\u001b[0m\n\u001b[0;32m--> 188\u001b[0;31m         \u001b[0mcall\u001b[0m \u001b[0;34m=\u001b[0m \u001b[0;32mlambda\u001b[0m \u001b[0mf\u001b[0m\u001b[0;34m,\u001b[0m \u001b[0;34m*\u001b[0m\u001b[0ma\u001b[0m\u001b[0;34m,\u001b[0m \u001b[0;34m**\u001b[0m\u001b[0mk\u001b[0m\u001b[0;34m:\u001b[0m \u001b[0mf\u001b[0m\u001b[0;34m(\u001b[0m\u001b[0;34m*\u001b[0m\u001b[0ma\u001b[0m\u001b[0;34m,\u001b[0m \u001b[0;34m**\u001b[0m\u001b[0mk\u001b[0m\u001b[0;34m)\u001b[0m\u001b[0;34m\u001b[0m\u001b[0;34m\u001b[0m\u001b[0m\n\u001b[0m\u001b[1;32m    189\u001b[0m \u001b[0;34m\u001b[0m\u001b[0m\n\u001b[1;32m    190\u001b[0m         \u001b[0;32mif\u001b[0m \u001b[0mcallable\u001b[0m\u001b[0;34m(\u001b[0m\u001b[0marg\u001b[0m\u001b[0;34m)\u001b[0m\u001b[0;34m:\u001b[0m\u001b[0;34m\u001b[0m\u001b[0;34m\u001b[0m\u001b[0m\n",
      "\u001b[0;32m/usr/lib/python3/dist-packages/IPython/core/magics/execution.py\u001b[0m in \u001b[0;36mtime\u001b[0;34m(self, line, cell, local_ns)\u001b[0m\n\u001b[1;32m   1187\u001b[0m         \u001b[0;32mif\u001b[0m \u001b[0mmode\u001b[0m\u001b[0;34m==\u001b[0m\u001b[0;34m'eval'\u001b[0m\u001b[0;34m:\u001b[0m\u001b[0;34m\u001b[0m\u001b[0;34m\u001b[0m\u001b[0m\n\u001b[1;32m   1188\u001b[0m             \u001b[0mst\u001b[0m \u001b[0;34m=\u001b[0m \u001b[0mclock2\u001b[0m\u001b[0;34m(\u001b[0m\u001b[0;34m)\u001b[0m\u001b[0;34m\u001b[0m\u001b[0;34m\u001b[0m\u001b[0m\n\u001b[0;32m-> 1189\u001b[0;31m             \u001b[0mout\u001b[0m \u001b[0;34m=\u001b[0m \u001b[0meval\u001b[0m\u001b[0;34m(\u001b[0m\u001b[0mcode\u001b[0m\u001b[0;34m,\u001b[0m \u001b[0mglob\u001b[0m\u001b[0;34m,\u001b[0m \u001b[0mlocal_ns\u001b[0m\u001b[0;34m)\u001b[0m\u001b[0;34m\u001b[0m\u001b[0;34m\u001b[0m\u001b[0m\n\u001b[0m\u001b[1;32m   1190\u001b[0m             \u001b[0mend\u001b[0m \u001b[0;34m=\u001b[0m \u001b[0mclock2\u001b[0m\u001b[0;34m(\u001b[0m\u001b[0;34m)\u001b[0m\u001b[0;34m\u001b[0m\u001b[0;34m\u001b[0m\u001b[0m\n\u001b[1;32m   1191\u001b[0m         \u001b[0;32melse\u001b[0m\u001b[0;34m:\u001b[0m\u001b[0;34m\u001b[0m\u001b[0;34m\u001b[0m\u001b[0m\n",
      "\u001b[0;32m<timed eval>\u001b[0m in \u001b[0;36m<module>\u001b[0;34m()\u001b[0m\n",
      "\u001b[0;32m<ipython-input-1-015e400053b2>\u001b[0m in \u001b[0;36mDecisionTree_\u001b[0;34m(Xtrain, Ytrain, Xtest, Ytest)\u001b[0m\n\u001b[1;32m     13\u001b[0m         \u001b[0mdt\u001b[0m \u001b[0;34m=\u001b[0m \u001b[0mDecisionTreeClassifier\u001b[0m\u001b[0;34m(\u001b[0m\u001b[0mrandom_state\u001b[0m\u001b[0;34m=\u001b[0m\u001b[0;36m42\u001b[0m\u001b[0;34m,\u001b[0m \u001b[0mclass_weight\u001b[0m\u001b[0;34m=\u001b[0m\u001b[0;34m'balanced'\u001b[0m\u001b[0;34m)\u001b[0m\u001b[0;34m\u001b[0m\u001b[0;34m\u001b[0m\u001b[0m\n\u001b[1;32m     14\u001b[0m         \u001b[0mdt\u001b[0m\u001b[0;34m.\u001b[0m\u001b[0mfit\u001b[0m\u001b[0;34m(\u001b[0m\u001b[0mxtr_DT\u001b[0m\u001b[0;34m,\u001b[0m \u001b[0mytr_DT\u001b[0m\u001b[0;34m.\u001b[0m\u001b[0mvalues\u001b[0m\u001b[0;34m.\u001b[0m\u001b[0mravel\u001b[0m\u001b[0;34m(\u001b[0m\u001b[0;34m)\u001b[0m\u001b[0;34m)\u001b[0m\u001b[0;34m\u001b[0m\u001b[0;34m\u001b[0m\u001b[0m\n\u001b[0;32m---> 15\u001b[0;31m         \u001b[0mscore\u001b[0m \u001b[0;34m=\u001b[0m \u001b[0mroc_auc_score\u001b[0m\u001b[0;34m(\u001b[0m\u001b[0myvl_DT\u001b[0m\u001b[0;34m,\u001b[0m \u001b[0mdt\u001b[0m\u001b[0;34m.\u001b[0m\u001b[0mpredict\u001b[0m\u001b[0;34m(\u001b[0m\u001b[0mxvl_DT\u001b[0m\u001b[0;34m)\u001b[0m\u001b[0;34m)\u001b[0m\u001b[0;34m\u001b[0m\u001b[0;34m\u001b[0m\u001b[0m\n\u001b[0m\u001b[1;32m     16\u001b[0m         \u001b[0mprint\u001b[0m\u001b[0;34m(\u001b[0m\u001b[0;34m'ROC AUC score:'\u001b[0m\u001b[0;34m,\u001b[0m\u001b[0mscore\u001b[0m\u001b[0;34m)\u001b[0m\u001b[0;34m\u001b[0m\u001b[0;34m\u001b[0m\u001b[0m\n\u001b[1;32m     17\u001b[0m         \u001b[0mcv_score\u001b[0m\u001b[0;34m.\u001b[0m\u001b[0mappend\u001b[0m\u001b[0;34m(\u001b[0m\u001b[0mscore\u001b[0m\u001b[0;34m)\u001b[0m\u001b[0;34m\u001b[0m\u001b[0;34m\u001b[0m\u001b[0m\n",
      "\u001b[0;32m/usr/local/lib/python3.6/dist-packages/sklearn/metrics/ranking.py\u001b[0m in \u001b[0;36mroc_auc_score\u001b[0;34m(y_true, y_score, average, sample_weight, max_fpr)\u001b[0m\n\u001b[1;32m    353\u001b[0m     return _average_binary_score(\n\u001b[1;32m    354\u001b[0m         \u001b[0m_binary_roc_auc_score\u001b[0m\u001b[0;34m,\u001b[0m \u001b[0my_true\u001b[0m\u001b[0;34m,\u001b[0m \u001b[0my_score\u001b[0m\u001b[0;34m,\u001b[0m \u001b[0maverage\u001b[0m\u001b[0;34m,\u001b[0m\u001b[0;34m\u001b[0m\u001b[0;34m\u001b[0m\u001b[0m\n\u001b[0;32m--> 355\u001b[0;31m         sample_weight=sample_weight)\n\u001b[0m\u001b[1;32m    356\u001b[0m \u001b[0;34m\u001b[0m\u001b[0m\n\u001b[1;32m    357\u001b[0m \u001b[0;34m\u001b[0m\u001b[0m\n",
      "\u001b[0;32m/usr/local/lib/python3.6/dist-packages/sklearn/metrics/base.py\u001b[0m in \u001b[0;36m_average_binary_score\u001b[0;34m(binary_metric, y_true, y_score, average, sample_weight)\u001b[0m\n\u001b[1;32m     74\u001b[0m \u001b[0;34m\u001b[0m\u001b[0m\n\u001b[1;32m     75\u001b[0m     \u001b[0;32mif\u001b[0m \u001b[0my_type\u001b[0m \u001b[0;34m==\u001b[0m \u001b[0;34m\"binary\"\u001b[0m\u001b[0;34m:\u001b[0m\u001b[0;34m\u001b[0m\u001b[0;34m\u001b[0m\u001b[0m\n\u001b[0;32m---> 76\u001b[0;31m         \u001b[0;32mreturn\u001b[0m \u001b[0mbinary_metric\u001b[0m\u001b[0;34m(\u001b[0m\u001b[0my_true\u001b[0m\u001b[0;34m,\u001b[0m \u001b[0my_score\u001b[0m\u001b[0;34m,\u001b[0m \u001b[0msample_weight\u001b[0m\u001b[0;34m=\u001b[0m\u001b[0msample_weight\u001b[0m\u001b[0;34m)\u001b[0m\u001b[0;34m\u001b[0m\u001b[0;34m\u001b[0m\u001b[0m\n\u001b[0m\u001b[1;32m     77\u001b[0m \u001b[0;34m\u001b[0m\u001b[0m\n\u001b[1;32m     78\u001b[0m     \u001b[0mcheck_consistent_length\u001b[0m\u001b[0;34m(\u001b[0m\u001b[0my_true\u001b[0m\u001b[0;34m,\u001b[0m \u001b[0my_score\u001b[0m\u001b[0;34m,\u001b[0m \u001b[0msample_weight\u001b[0m\u001b[0;34m)\u001b[0m\u001b[0;34m\u001b[0m\u001b[0;34m\u001b[0m\u001b[0m\n",
      "\u001b[0;32m/usr/local/lib/python3.6/dist-packages/sklearn/metrics/ranking.py\u001b[0m in \u001b[0;36m_binary_roc_auc_score\u001b[0;34m(y_true, y_score, sample_weight)\u001b[0m\n\u001b[1;32m    321\u001b[0m     \u001b[0;32mdef\u001b[0m \u001b[0m_binary_roc_auc_score\u001b[0m\u001b[0;34m(\u001b[0m\u001b[0my_true\u001b[0m\u001b[0;34m,\u001b[0m \u001b[0my_score\u001b[0m\u001b[0;34m,\u001b[0m \u001b[0msample_weight\u001b[0m\u001b[0;34m=\u001b[0m\u001b[0;32mNone\u001b[0m\u001b[0;34m)\u001b[0m\u001b[0;34m:\u001b[0m\u001b[0;34m\u001b[0m\u001b[0;34m\u001b[0m\u001b[0m\n\u001b[1;32m    322\u001b[0m         \u001b[0;32mif\u001b[0m \u001b[0mlen\u001b[0m\u001b[0;34m(\u001b[0m\u001b[0mnp\u001b[0m\u001b[0;34m.\u001b[0m\u001b[0munique\u001b[0m\u001b[0;34m(\u001b[0m\u001b[0my_true\u001b[0m\u001b[0;34m)\u001b[0m\u001b[0;34m)\u001b[0m \u001b[0;34m!=\u001b[0m \u001b[0;36m2\u001b[0m\u001b[0;34m:\u001b[0m\u001b[0;34m\u001b[0m\u001b[0;34m\u001b[0m\u001b[0m\n\u001b[0;32m--> 323\u001b[0;31m             raise ValueError(\"Only one class present in y_true. ROC AUC score \"\n\u001b[0m\u001b[1;32m    324\u001b[0m                              \"is not defined in that case.\")\n\u001b[1;32m    325\u001b[0m \u001b[0;34m\u001b[0m\u001b[0m\n",
      "\u001b[0;31mValueError\u001b[0m: Only one class present in y_true. ROC AUC score is not defined in that case."
     ]
    }
   ],
   "source": [
    "%%time\n",
    "DecisionTree_(X_ENN, y_ENN, X_test, y_test)"
   ]
  },
  {
   "cell_type": "code",
   "execution_count": 33,
   "metadata": {},
   "outputs": [
    {
     "name": "stdout",
     "output_type": "stream",
     "text": [
      "CPU times: user 1e+03 ns, sys: 0 ns, total: 1e+03 ns\n",
      "Wall time: 2.62 µs\n",
      "RANDOM FOREST\n",
      "TRAIN AND VALIDATION SETS:\n",
      "1 of KFold 10\n"
     ]
    },
    {
     "ename": "ValueError",
     "evalue": "Only one class present in y_true. ROC AUC score is not defined in that case.",
     "output_type": "error",
     "traceback": [
      "\u001b[0;31m---------------------------------------------------------------------------\u001b[0m",
      "\u001b[0;31mValueError\u001b[0m                                Traceback (most recent call last)",
      "\u001b[0;32m<ipython-input-33-4a1ddde876be>\u001b[0m in \u001b[0;36m<module>\u001b[0;34m()\u001b[0m\n\u001b[0;32m----> 1\u001b[0;31m \u001b[0mget_ipython\u001b[0m\u001b[0;34m(\u001b[0m\u001b[0;34m)\u001b[0m\u001b[0;34m.\u001b[0m\u001b[0mrun_cell_magic\u001b[0m\u001b[0;34m(\u001b[0m\u001b[0;34m'time'\u001b[0m\u001b[0;34m,\u001b[0m \u001b[0;34m''\u001b[0m\u001b[0;34m,\u001b[0m \u001b[0;34m'RandomForest_(X_ENN, y_ENN, X_test, y_test)'\u001b[0m\u001b[0;34m)\u001b[0m\u001b[0;34m\u001b[0m\u001b[0;34m\u001b[0m\u001b[0m\n\u001b[0m",
      "\u001b[0;32m/usr/lib/python3/dist-packages/IPython/core/interactiveshell.py\u001b[0m in \u001b[0;36mrun_cell_magic\u001b[0;34m(self, magic_name, line, cell)\u001b[0m\n\u001b[1;32m   2115\u001b[0m             \u001b[0mmagic_arg_s\u001b[0m \u001b[0;34m=\u001b[0m \u001b[0mself\u001b[0m\u001b[0;34m.\u001b[0m\u001b[0mvar_expand\u001b[0m\u001b[0;34m(\u001b[0m\u001b[0mline\u001b[0m\u001b[0;34m,\u001b[0m \u001b[0mstack_depth\u001b[0m\u001b[0;34m)\u001b[0m\u001b[0;34m\u001b[0m\u001b[0;34m\u001b[0m\u001b[0m\n\u001b[1;32m   2116\u001b[0m             \u001b[0;32mwith\u001b[0m \u001b[0mself\u001b[0m\u001b[0;34m.\u001b[0m\u001b[0mbuiltin_trap\u001b[0m\u001b[0;34m:\u001b[0m\u001b[0;34m\u001b[0m\u001b[0;34m\u001b[0m\u001b[0m\n\u001b[0;32m-> 2117\u001b[0;31m                 \u001b[0mresult\u001b[0m \u001b[0;34m=\u001b[0m \u001b[0mfn\u001b[0m\u001b[0;34m(\u001b[0m\u001b[0mmagic_arg_s\u001b[0m\u001b[0;34m,\u001b[0m \u001b[0mcell\u001b[0m\u001b[0;34m)\u001b[0m\u001b[0;34m\u001b[0m\u001b[0;34m\u001b[0m\u001b[0m\n\u001b[0m\u001b[1;32m   2118\u001b[0m             \u001b[0;32mreturn\u001b[0m \u001b[0mresult\u001b[0m\u001b[0;34m\u001b[0m\u001b[0;34m\u001b[0m\u001b[0m\n\u001b[1;32m   2119\u001b[0m \u001b[0;34m\u001b[0m\u001b[0m\n",
      "\u001b[0;32m</usr/local/lib/python3.6/dist-packages/decorator.py:decorator-gen-60>\u001b[0m in \u001b[0;36mtime\u001b[0;34m(self, line, cell, local_ns)\u001b[0m\n",
      "\u001b[0;32m/usr/lib/python3/dist-packages/IPython/core/magic.py\u001b[0m in \u001b[0;36m<lambda>\u001b[0;34m(f, *a, **k)\u001b[0m\n\u001b[1;32m    186\u001b[0m     \u001b[0;31m# but it's overkill for just that one bit of state.\u001b[0m\u001b[0;34m\u001b[0m\u001b[0;34m\u001b[0m\u001b[0;34m\u001b[0m\u001b[0m\n\u001b[1;32m    187\u001b[0m     \u001b[0;32mdef\u001b[0m \u001b[0mmagic_deco\u001b[0m\u001b[0;34m(\u001b[0m\u001b[0marg\u001b[0m\u001b[0;34m)\u001b[0m\u001b[0;34m:\u001b[0m\u001b[0;34m\u001b[0m\u001b[0;34m\u001b[0m\u001b[0m\n\u001b[0;32m--> 188\u001b[0;31m         \u001b[0mcall\u001b[0m \u001b[0;34m=\u001b[0m \u001b[0;32mlambda\u001b[0m \u001b[0mf\u001b[0m\u001b[0;34m,\u001b[0m \u001b[0;34m*\u001b[0m\u001b[0ma\u001b[0m\u001b[0;34m,\u001b[0m \u001b[0;34m**\u001b[0m\u001b[0mk\u001b[0m\u001b[0;34m:\u001b[0m \u001b[0mf\u001b[0m\u001b[0;34m(\u001b[0m\u001b[0;34m*\u001b[0m\u001b[0ma\u001b[0m\u001b[0;34m,\u001b[0m \u001b[0;34m**\u001b[0m\u001b[0mk\u001b[0m\u001b[0;34m)\u001b[0m\u001b[0;34m\u001b[0m\u001b[0;34m\u001b[0m\u001b[0m\n\u001b[0m\u001b[1;32m    189\u001b[0m \u001b[0;34m\u001b[0m\u001b[0m\n\u001b[1;32m    190\u001b[0m         \u001b[0;32mif\u001b[0m \u001b[0mcallable\u001b[0m\u001b[0;34m(\u001b[0m\u001b[0marg\u001b[0m\u001b[0;34m)\u001b[0m\u001b[0;34m:\u001b[0m\u001b[0;34m\u001b[0m\u001b[0;34m\u001b[0m\u001b[0m\n",
      "\u001b[0;32m/usr/lib/python3/dist-packages/IPython/core/magics/execution.py\u001b[0m in \u001b[0;36mtime\u001b[0;34m(self, line, cell, local_ns)\u001b[0m\n\u001b[1;32m   1187\u001b[0m         \u001b[0;32mif\u001b[0m \u001b[0mmode\u001b[0m\u001b[0;34m==\u001b[0m\u001b[0;34m'eval'\u001b[0m\u001b[0;34m:\u001b[0m\u001b[0;34m\u001b[0m\u001b[0;34m\u001b[0m\u001b[0m\n\u001b[1;32m   1188\u001b[0m             \u001b[0mst\u001b[0m \u001b[0;34m=\u001b[0m \u001b[0mclock2\u001b[0m\u001b[0;34m(\u001b[0m\u001b[0;34m)\u001b[0m\u001b[0;34m\u001b[0m\u001b[0;34m\u001b[0m\u001b[0m\n\u001b[0;32m-> 1189\u001b[0;31m             \u001b[0mout\u001b[0m \u001b[0;34m=\u001b[0m \u001b[0meval\u001b[0m\u001b[0;34m(\u001b[0m\u001b[0mcode\u001b[0m\u001b[0;34m,\u001b[0m \u001b[0mglob\u001b[0m\u001b[0;34m,\u001b[0m \u001b[0mlocal_ns\u001b[0m\u001b[0;34m)\u001b[0m\u001b[0;34m\u001b[0m\u001b[0;34m\u001b[0m\u001b[0m\n\u001b[0m\u001b[1;32m   1190\u001b[0m             \u001b[0mend\u001b[0m \u001b[0;34m=\u001b[0m \u001b[0mclock2\u001b[0m\u001b[0;34m(\u001b[0m\u001b[0;34m)\u001b[0m\u001b[0;34m\u001b[0m\u001b[0;34m\u001b[0m\u001b[0m\n\u001b[1;32m   1191\u001b[0m         \u001b[0;32melse\u001b[0m\u001b[0;34m:\u001b[0m\u001b[0;34m\u001b[0m\u001b[0;34m\u001b[0m\u001b[0m\n",
      "\u001b[0;32m<timed eval>\u001b[0m in \u001b[0;36m<module>\u001b[0;34m()\u001b[0m\n",
      "\u001b[0;32m<ipython-input-1-2d63457d1bac>\u001b[0m in \u001b[0;36mRandomForest_\u001b[0;34m(Xtrain, Ytrain, Xtest, Ytest)\u001b[0m\n\u001b[1;32m     13\u001b[0m         \u001b[0mrf\u001b[0m \u001b[0;34m=\u001b[0m \u001b[0mRandomForestClassifier\u001b[0m\u001b[0;34m(\u001b[0m\u001b[0mrandom_state\u001b[0m\u001b[0;34m=\u001b[0m\u001b[0;36m42\u001b[0m\u001b[0;34m,\u001b[0m \u001b[0mclass_weight\u001b[0m\u001b[0;34m=\u001b[0m\u001b[0;34m'balanced'\u001b[0m\u001b[0;34m,\u001b[0m \u001b[0mn_estimators\u001b[0m\u001b[0;34m=\u001b[0m\u001b[0;36m100\u001b[0m\u001b[0;34m)\u001b[0m\u001b[0;34m\u001b[0m\u001b[0;34m\u001b[0m\u001b[0m\n\u001b[1;32m     14\u001b[0m         \u001b[0mrf\u001b[0m\u001b[0;34m.\u001b[0m\u001b[0mfit\u001b[0m\u001b[0;34m(\u001b[0m\u001b[0mxtr_RF\u001b[0m\u001b[0;34m,\u001b[0m \u001b[0mytr_RF\u001b[0m\u001b[0;34m.\u001b[0m\u001b[0mvalues\u001b[0m\u001b[0;34m.\u001b[0m\u001b[0mravel\u001b[0m\u001b[0;34m(\u001b[0m\u001b[0;34m)\u001b[0m\u001b[0;34m)\u001b[0m\u001b[0;34m\u001b[0m\u001b[0;34m\u001b[0m\u001b[0m\n\u001b[0;32m---> 15\u001b[0;31m         \u001b[0mscore\u001b[0m \u001b[0;34m=\u001b[0m \u001b[0mroc_auc_score\u001b[0m\u001b[0;34m(\u001b[0m\u001b[0myvl_RF\u001b[0m\u001b[0;34m,\u001b[0m \u001b[0mrf\u001b[0m\u001b[0;34m.\u001b[0m\u001b[0mpredict\u001b[0m\u001b[0;34m(\u001b[0m\u001b[0mxvl_RF\u001b[0m\u001b[0;34m)\u001b[0m\u001b[0;34m)\u001b[0m\u001b[0;34m\u001b[0m\u001b[0;34m\u001b[0m\u001b[0m\n\u001b[0m\u001b[1;32m     16\u001b[0m         \u001b[0mprint\u001b[0m\u001b[0;34m(\u001b[0m\u001b[0;34m'ROC AUC score:'\u001b[0m\u001b[0;34m,\u001b[0m\u001b[0mscore\u001b[0m\u001b[0;34m)\u001b[0m\u001b[0;34m\u001b[0m\u001b[0;34m\u001b[0m\u001b[0m\n\u001b[1;32m     17\u001b[0m         \u001b[0mcv_score\u001b[0m\u001b[0;34m.\u001b[0m\u001b[0mappend\u001b[0m\u001b[0;34m(\u001b[0m\u001b[0mscore\u001b[0m\u001b[0;34m)\u001b[0m\u001b[0;34m\u001b[0m\u001b[0;34m\u001b[0m\u001b[0m\n",
      "\u001b[0;32m/usr/local/lib/python3.6/dist-packages/sklearn/metrics/ranking.py\u001b[0m in \u001b[0;36mroc_auc_score\u001b[0;34m(y_true, y_score, average, sample_weight, max_fpr)\u001b[0m\n\u001b[1;32m    353\u001b[0m     return _average_binary_score(\n\u001b[1;32m    354\u001b[0m         \u001b[0m_binary_roc_auc_score\u001b[0m\u001b[0;34m,\u001b[0m \u001b[0my_true\u001b[0m\u001b[0;34m,\u001b[0m \u001b[0my_score\u001b[0m\u001b[0;34m,\u001b[0m \u001b[0maverage\u001b[0m\u001b[0;34m,\u001b[0m\u001b[0;34m\u001b[0m\u001b[0;34m\u001b[0m\u001b[0m\n\u001b[0;32m--> 355\u001b[0;31m         sample_weight=sample_weight)\n\u001b[0m\u001b[1;32m    356\u001b[0m \u001b[0;34m\u001b[0m\u001b[0m\n\u001b[1;32m    357\u001b[0m \u001b[0;34m\u001b[0m\u001b[0m\n",
      "\u001b[0;32m/usr/local/lib/python3.6/dist-packages/sklearn/metrics/base.py\u001b[0m in \u001b[0;36m_average_binary_score\u001b[0;34m(binary_metric, y_true, y_score, average, sample_weight)\u001b[0m\n\u001b[1;32m     74\u001b[0m \u001b[0;34m\u001b[0m\u001b[0m\n\u001b[1;32m     75\u001b[0m     \u001b[0;32mif\u001b[0m \u001b[0my_type\u001b[0m \u001b[0;34m==\u001b[0m \u001b[0;34m\"binary\"\u001b[0m\u001b[0;34m:\u001b[0m\u001b[0;34m\u001b[0m\u001b[0;34m\u001b[0m\u001b[0m\n\u001b[0;32m---> 76\u001b[0;31m         \u001b[0;32mreturn\u001b[0m \u001b[0mbinary_metric\u001b[0m\u001b[0;34m(\u001b[0m\u001b[0my_true\u001b[0m\u001b[0;34m,\u001b[0m \u001b[0my_score\u001b[0m\u001b[0;34m,\u001b[0m \u001b[0msample_weight\u001b[0m\u001b[0;34m=\u001b[0m\u001b[0msample_weight\u001b[0m\u001b[0;34m)\u001b[0m\u001b[0;34m\u001b[0m\u001b[0;34m\u001b[0m\u001b[0m\n\u001b[0m\u001b[1;32m     77\u001b[0m \u001b[0;34m\u001b[0m\u001b[0m\n\u001b[1;32m     78\u001b[0m     \u001b[0mcheck_consistent_length\u001b[0m\u001b[0;34m(\u001b[0m\u001b[0my_true\u001b[0m\u001b[0;34m,\u001b[0m \u001b[0my_score\u001b[0m\u001b[0;34m,\u001b[0m \u001b[0msample_weight\u001b[0m\u001b[0;34m)\u001b[0m\u001b[0;34m\u001b[0m\u001b[0;34m\u001b[0m\u001b[0m\n",
      "\u001b[0;32m/usr/local/lib/python3.6/dist-packages/sklearn/metrics/ranking.py\u001b[0m in \u001b[0;36m_binary_roc_auc_score\u001b[0;34m(y_true, y_score, sample_weight)\u001b[0m\n\u001b[1;32m    321\u001b[0m     \u001b[0;32mdef\u001b[0m \u001b[0m_binary_roc_auc_score\u001b[0m\u001b[0;34m(\u001b[0m\u001b[0my_true\u001b[0m\u001b[0;34m,\u001b[0m \u001b[0my_score\u001b[0m\u001b[0;34m,\u001b[0m \u001b[0msample_weight\u001b[0m\u001b[0;34m=\u001b[0m\u001b[0;32mNone\u001b[0m\u001b[0;34m)\u001b[0m\u001b[0;34m:\u001b[0m\u001b[0;34m\u001b[0m\u001b[0;34m\u001b[0m\u001b[0m\n\u001b[1;32m    322\u001b[0m         \u001b[0;32mif\u001b[0m \u001b[0mlen\u001b[0m\u001b[0;34m(\u001b[0m\u001b[0mnp\u001b[0m\u001b[0;34m.\u001b[0m\u001b[0munique\u001b[0m\u001b[0;34m(\u001b[0m\u001b[0my_true\u001b[0m\u001b[0;34m)\u001b[0m\u001b[0;34m)\u001b[0m \u001b[0;34m!=\u001b[0m \u001b[0;36m2\u001b[0m\u001b[0;34m:\u001b[0m\u001b[0;34m\u001b[0m\u001b[0;34m\u001b[0m\u001b[0m\n\u001b[0;32m--> 323\u001b[0;31m             raise ValueError(\"Only one class present in y_true. ROC AUC score \"\n\u001b[0m\u001b[1;32m    324\u001b[0m                              \"is not defined in that case.\")\n\u001b[1;32m    325\u001b[0m \u001b[0;34m\u001b[0m\u001b[0m\n",
      "\u001b[0;31mValueError\u001b[0m: Only one class present in y_true. ROC AUC score is not defined in that case."
     ]
    }
   ],
   "source": [
    "%%time\n",
    "RandomForest_(X_ENN, y_ENN, X_test, y_test)"
   ]
  },
  {
   "cell_type": "code",
   "execution_count": null,
   "metadata": {},
   "outputs": [],
   "source": [
    "%%time\n",
    "NN_(X_ENN, y_ENN, X_test, y_test)"
   ]
  },
  {
   "cell_type": "code",
   "execution_count": 34,
   "metadata": {},
   "outputs": [
    {
     "name": "stdout",
     "output_type": "stream",
     "text": [
      "Resampling dataset using Tomek's Link (TL)...\n",
      "... DONE!\n",
      "X and Y TL: 82534 82534\n"
     ]
    }
   ],
   "source": [
    "print(\"Resampling dataset using Tomek's Link (TL)...\")\n",
    "X_TL, y_TL = TomekLinks(random_state=42).fit_sample(X_train, y_train.values.ravel())\n",
    "print(\"... DONE!\")\n",
    "print(\"X and Y TL:\", len(X_TL), len(y_TL))"
   ]
  },
  {
   "cell_type": "code",
   "execution_count": 35,
   "metadata": {},
   "outputs": [
    {
     "name": "stdout",
     "output_type": "stream",
     "text": [
      "\n",
      "LOGISTIC REGRESSION\n",
      "TRAIN AND VALIDATION SETS:\n",
      "1 of KFold 10\n",
      "ROC AUC score: 0.7421450179059881\n",
      "2 of KFold 10\n",
      "ROC AUC score: 0.7437523636456871\n",
      "3 of KFold 10\n",
      "ROC AUC score: 0.7379321758058732\n",
      "4 of KFold 10\n",
      "ROC AUC score: 0.7428871582132173\n",
      "5 of KFold 10\n",
      "ROC AUC score: 0.7245112978510517\n",
      "6 of KFold 10\n",
      "ROC AUC score: 0.7396642770752588\n",
      "7 of KFold 10\n",
      "ROC AUC score: 0.7456475442552878\n",
      "8 of KFold 10\n",
      "ROC AUC score: 0.7413723715012406\n",
      "9 of KFold 10\n",
      "ROC AUC score: 0.7369124613259276\n",
      "10 of KFold 10\n",
      "ROC AUC score: 0.7458524293822913\n",
      "\n",
      "CROSS VALIDANTION SUMMARY:\n",
      "Mean: 0.7400677096961824\n",
      "Std deviation: 0.005906112568308865\n",
      "\n",
      "TEST SET:\n",
      "F1-Score(micro): 0.7827538743882546\n",
      "F1-Score(macro): 0.6507209427061678\n",
      "F1-Score(weighted): 0.7896891475710083\n",
      "F1-Score(None): [0.86546809 0.43597379]\n",
      "Accuracy: 0.7827538743882545\n",
      "Sensitivity: 0.47587402484830976\n",
      "Specificity: 0.8484989167440421\n",
      "Confusion Matrix: [0.8484989167440421, 0.48]\n",
      "ROC AUC score: 0.662186470796176\n",
      "CPU times: user 14.2 s, sys: 8.25 s, total: 22.4 s\n",
      "Wall time: 2.88 s\n"
     ]
    }
   ],
   "source": [
    "%%time\n",
    "LogisticRegr_(X_TL, y_TL, X_test, y_test)"
   ]
  },
  {
   "cell_type": "code",
   "execution_count": 36,
   "metadata": {},
   "outputs": [
    {
     "name": "stdout",
     "output_type": "stream",
     "text": [
      "CPU times: user 1 µs, sys: 1e+03 ns, total: 2 µs\n",
      "Wall time: 2.86 µs\n",
      "\n",
      "DECISION TREE\n",
      "TRAIN AND VALIDATION SETS:\n",
      "1 of KFold 10\n",
      "ROC AUC score: 0.7768893632388967\n",
      "2 of KFold 10\n",
      "ROC AUC score: 0.7763067254934011\n",
      "3 of KFold 10\n",
      "ROC AUC score: 0.787921741098573\n",
      "4 of KFold 10\n",
      "ROC AUC score: 0.768419864555294\n",
      "5 of KFold 10\n",
      "ROC AUC score: 0.7680923891590508\n",
      "6 of KFold 10\n",
      "ROC AUC score: 0.7722775487800013\n",
      "7 of KFold 10\n",
      "ROC AUC score: 0.7782732453904354\n",
      "8 of KFold 10\n",
      "ROC AUC score: 0.7655741765352001\n",
      "9 of KFold 10\n",
      "ROC AUC score: 0.7781382256907907\n",
      "10 of KFold 10\n",
      "ROC AUC score: 0.7824708344417912\n",
      "\n",
      "CROSS VALIDANTION SUMMARY:\n",
      "Mean: 0.7754364114383434\n",
      "Std deviation: 0.006587800773486554\n",
      "\n",
      "TEST SET:\n",
      "F1-Score(micro): 0.6308115823817292\n",
      "F1-Score(macro): 0.5463028293501766\n",
      "F1-Score(weighted): 0.6730160482236148\n",
      "F1-Score(None): [0.74211239 0.35049327]\n",
      "Accuracy: 0.6308115823817292\n",
      "Sensitivity: 0.5645767119329673\n",
      "Specificity: 0.6450015475085112\n",
      "Confusion Matrix: [0.6450015475085112, 0.56]\n",
      "ROC AUC score: 0.6047891297207394\n",
      "CPU times: user 1.24 s, sys: 3.13 ms, total: 1.25 s\n",
      "Wall time: 1.24 s\n"
     ]
    }
   ],
   "source": [
    "%%time\n",
    "DecisionTree_(X_TL, y_TL, X_test, y_test)"
   ]
  },
  {
   "cell_type": "code",
   "execution_count": 37,
   "metadata": {},
   "outputs": [
    {
     "name": "stdout",
     "output_type": "stream",
     "text": [
      "CPU times: user 2 µs, sys: 0 ns, total: 2 µs\n",
      "Wall time: 2.38 µs\n",
      "RANDOM FOREST\n",
      "TRAIN AND VALIDATION SETS:\n",
      "1 of KFold 10\n",
      "ROC AUC score: 0.7616945051685691\n",
      "2 of KFold 10\n",
      "ROC AUC score: 0.7617000962284228\n",
      "3 of KFold 10\n",
      "ROC AUC score: 0.7717314557409034\n",
      "4 of KFold 10\n",
      "ROC AUC score: 0.7482896001151527\n",
      "5 of KFold 10\n",
      "ROC AUC score: 0.7604695898949534\n",
      "6 of KFold 10\n",
      "ROC AUC score: 0.7594211574165309\n",
      "7 of KFold 10\n",
      "ROC AUC score: 0.7688197614311165\n",
      "8 of KFold 10\n",
      "ROC AUC score: 0.7509934021776763\n",
      "9 of KFold 10\n",
      "ROC AUC score: 0.766161817952548\n",
      "10 of KFold 10\n",
      "ROC AUC score: 0.7720962194283625\n",
      "\n",
      "CROSS VALIDANTION SUMMARY:\n",
      "Mean: 0.7621377605554235\n",
      "Std deviation: 0.007606386045113523\n",
      "\n",
      "TEST SET:\n",
      "F1-Score(micro): 0.7750560766721045\n",
      "F1-Score(macro): 0.6218624021778757\n",
      "F1-Score(weighted): 0.7776143147188023\n",
      "F1-Score(None): [0.86254536 0.38117944]\n",
      "Accuracy: 0.7750560766721044\n",
      "Sensitivity: 0.39266108061253974\n",
      "Specificity: 0.8569792633859487\n",
      "Confusion Matrix: [0.8569792633859487, 0.39]\n",
      "ROC AUC score: 0.6248201719992442\n",
      "CPU times: user 26.9 s, sys: 46.4 ms, total: 26.9 s\n",
      "Wall time: 26.9 s\n"
     ]
    }
   ],
   "source": [
    "%%time\n",
    "RandomForest_(X_TL, y_TL, X_test, y_test)"
   ]
  },
  {
   "cell_type": "code",
   "execution_count": 38,
   "metadata": {},
   "outputs": [
    {
     "name": "stdout",
     "output_type": "stream",
     "text": [
      "CPU times: user 1 µs, sys: 1 µs, total: 2 µs\n",
      "Wall time: 2.86 µs\n",
      "NEURAL NETWORK\n",
      "TRAIN AND VALIDATION SETS:\n",
      "1 of KFold 10\n",
      "ROC AUC score: 0.6695198613659084\n",
      "2 of KFold 10\n",
      "ROC AUC score: 0.6817751199450032\n",
      "3 of KFold 10\n",
      "ROC AUC score: 0.6719498428378715\n",
      "4 of KFold 10\n",
      "ROC AUC score: 0.6755001993720731\n",
      "5 of KFold 10\n"
     ]
    },
    {
     "name": "stderr",
     "output_type": "stream",
     "text": [
      "/usr/local/lib/python3.6/dist-packages/sklearn/neural_network/multilayer_perceptron.py:566: ConvergenceWarning: Stochastic Optimizer: Maximum iterations (200) reached and the optimization hasn't converged yet.\n",
      "  % self.max_iter, ConvergenceWarning)\n"
     ]
    },
    {
     "name": "stdout",
     "output_type": "stream",
     "text": [
      "ROC AUC score: 0.6742918883331953\n",
      "6 of KFold 10\n",
      "ROC AUC score: 0.6703030435465094\n",
      "7 of KFold 10\n",
      "ROC AUC score: 0.6800252638196722\n",
      "8 of KFold 10\n",
      "ROC AUC score: 0.6559207391261028\n",
      "9 of KFold 10\n",
      "ROC AUC score: 0.6664865067506842\n",
      "10 of KFold 10\n",
      "ROC AUC score: 0.6774286154757233\n",
      "\n",
      "CROSS VALIDANTION SUMMARY:\n",
      "Mean: 0.6723201080572744\n",
      "Std deviation: 0.007098462185867729\n",
      "\n",
      "TEST SET:\n",
      "F1-Score(micro): 0.8093902936378466\n",
      "F1-Score(macro): 0.6138999225170093\n",
      "F1-Score(weighted): 0.7916871965539708\n",
      "F1-Score(None): [0.88863406 0.33916578]\n",
      "Accuracy: 0.8093902936378466\n",
      "Sensitivity: 0.277232013868824\n",
      "Specificity: 0.9233983286908078\n",
      "Confusion Matrix: [0.9233983286908078, 0.28]\n",
      "ROC AUC score: 0.6003151712798159\n",
      "CPU times: user 1h 49s, sys: 36min 16s, total: 1h 37min 6s\n",
      "Wall time: 12min 9s\n"
     ]
    }
   ],
   "source": [
    "%%time\n",
    "NN_(X_TL, y_TL, X_test, y_test)"
   ]
  },
  {
   "cell_type": "markdown",
   "metadata": {},
   "source": [
    "## Oversampling"
   ]
  },
  {
   "cell_type": "code",
   "execution_count": 39,
   "metadata": {},
   "outputs": [
    {
     "name": "stdout",
     "output_type": "stream",
     "text": [
      "Resampling dataset using Random OverSampling (ROS)...\n",
      "X and Y ROS: 136094 136094\n"
     ]
    },
    {
     "name": "stderr",
     "output_type": "stream",
     "text": [
      "/usr/local/lib/python3.6/dist-packages/sklearn/utils/validation.py:724: DataConversionWarning: A column-vector y was passed when a 1d array was expected. Please change the shape of y to (n_samples, ), for example using ravel().\n",
      "  y = column_or_1d(y, warn=True)\n"
     ]
    }
   ],
   "source": [
    "print(\"Resampling dataset using Random OverSampling (ROS)...\")\n",
    "ros = RandomOverSampler(random_state=42)\n",
    "X_ROS, y_ROS = ros.fit_resample(X_train, y_train)\n",
    "print(\"X and Y ROS:\", len(X_ROS), len(y_ROS))"
   ]
  },
  {
   "cell_type": "code",
   "execution_count": 40,
   "metadata": {},
   "outputs": [
    {
     "name": "stdout",
     "output_type": "stream",
     "text": [
      "CPU times: user 2 µs, sys: 2 µs, total: 4 µs\n",
      "Wall time: 6.2 µs\n",
      "\n",
      "LOGISTIC REGRESSION\n",
      "TRAIN AND VALIDATION SETS:\n",
      "1 of KFold 10\n",
      "ROC AUC score: 0.7372520205731081\n",
      "2 of KFold 10\n",
      "ROC AUC score: 0.7357090374724468\n",
      "3 of KFold 10\n",
      "ROC AUC score: 0.7426157237325496\n",
      "4 of KFold 10\n",
      "ROC AUC score: 0.7377663482733284\n",
      "5 of KFold 10\n",
      "ROC AUC score: 0.7384276267450404\n",
      "6 of KFold 10\n",
      "ROC AUC score: 0.7401910360029391\n",
      "7 of KFold 10\n",
      "ROC AUC score: 0.7453343130051433\n",
      "8 of KFold 10\n",
      "ROC AUC score: 0.7405937683715461\n",
      "9 of KFold 10\n",
      "ROC AUC score: 0.7417695473251029\n",
      "10 of KFold 10\n",
      "ROC AUC score: 0.7433862433862435\n",
      "\n",
      "CROSS VALIDANTION SUMMARY:\n",
      "Mean: 0.7403045664887449\n",
      "Std deviation: 0.002877179245264136\n",
      "\n",
      "TEST SET:\n",
      "F1-Score(micro): 0.7832381729200653\n",
      "F1-Score(macro): 0.6508127637181677\n",
      "F1-Score(weighted): 0.7899690670632743\n",
      "F1-Score(None): [0.86585058 0.43577495]\n",
      "Accuracy: 0.7832381729200653\n",
      "Sensitivity: 0.47442935567754985\n",
      "Specificity: 0.8493964716805943\n",
      "Confusion Matrix: [0.8493964716805943, 0.47]\n",
      "ROC AUC score: 0.661912913679072\n",
      "CPU times: user 26 s, sys: 14 s, total: 40 s\n",
      "Wall time: 5.09 s\n"
     ]
    }
   ],
   "source": [
    "%%time\n",
    "LogisticRegr_NoIloc(X_ROS, y_ROS, X_test, y_test)"
   ]
  },
  {
   "cell_type": "code",
   "execution_count": 41,
   "metadata": {},
   "outputs": [
    {
     "name": "stdout",
     "output_type": "stream",
     "text": [
      "CPU times: user 2 µs, sys: 0 ns, total: 2 µs\n",
      "Wall time: 3.34 µs\n",
      "\n",
      "DECISION TREE\n",
      "TRAIN AND VALIDATION SETS:\n",
      "1 of KFold 10\n",
      "ROC AUC score: 0.8714915503306392\n",
      "2 of KFold 10\n",
      "ROC AUC score: 0.867670830271859\n",
      "3 of KFold 10\n",
      "ROC AUC score: 0.8770022042615724\n",
      "4 of KFold 10\n",
      "ROC AUC score: 0.8763409257898603\n",
      "5 of KFold 10\n",
      "ROC AUC score: 0.8750183688464365\n",
      "6 of KFold 10\n",
      "ROC AUC score: 0.8798677443056576\n",
      "7 of KFold 10\n",
      "ROC AUC score: 0.8802351212343864\n",
      "8 of KFold 10\n",
      "ROC AUC score: 0.8858024691358025\n",
      "9 of KFold 10\n",
      "ROC AUC score: 0.8811728395061729\n",
      "10 of KFold 10\n",
      "ROC AUC score: 0.8794091710758378\n",
      "\n",
      "CROSS VALIDANTION SUMMARY:\n",
      "Mean: 0.8774011224758226\n",
      "Std deviation: 0.0048940658289376784\n",
      "\n",
      "TEST SET:\n",
      "F1-Score(micro): 0.6517893556280587\n",
      "F1-Score(macro): 0.559687003412734\n",
      "F1-Score(weighted): 0.690004927842465\n",
      "F1-Score(None): [0.7610669  0.35830711]\n",
      "Accuracy: 0.6517893556280587\n",
      "Sensitivity: 0.5509968217278244\n",
      "Specificity: 0.6733828536056948\n",
      "Confusion Matrix: [0.6733828536056948, 0.55]\n",
      "ROC AUC score: 0.6121898376667597\n",
      "CPU times: user 2.14 s, sys: 5.23 ms, total: 2.14 s\n",
      "Wall time: 2.13 s\n"
     ]
    }
   ],
   "source": [
    "%%time\n",
    "DecisionTree_NoIloc(X_ROS, y_ROS, X_test, y_test)"
   ]
  },
  {
   "cell_type": "code",
   "execution_count": 42,
   "metadata": {},
   "outputs": [
    {
     "name": "stdout",
     "output_type": "stream",
     "text": [
      "CPU times: user 1 µs, sys: 0 ns, total: 1 µs\n",
      "Wall time: 2.62 µs\n",
      "RANDOM FOREST\n",
      "TRAIN AND VALIDATION SETS:\n",
      "1 of KFold 10\n",
      "ROC AUC score: 0.8742836149889788\n",
      "2 of KFold 10\n",
      "ROC AUC score: 0.8711976487876562\n",
      "3 of KFold 10\n",
      "ROC AUC score: 0.8794268919911831\n",
      "4 of KFold 10\n",
      "ROC AUC score: 0.8772961058045555\n",
      "5 of KFold 10\n",
      "ROC AUC score: 0.8771491550330639\n",
      "6 of KFold 10\n",
      "ROC AUC score: 0.880088170462895\n",
      "7 of KFold 10\n",
      "ROC AUC score: 0.880382072005878\n",
      "8 of KFold 10\n",
      "ROC AUC score: 0.8869782480893592\n",
      "9 of KFold 10\n",
      "ROC AUC score: 0.8824955908289241\n",
      "10 of KFold 10\n",
      "ROC AUC score: 0.8816137566137565\n",
      "\n",
      "CROSS VALIDANTION SUMMARY:\n",
      "Mean: 0.8790911254606251\n",
      "Std deviation: 0.004187440892127\n",
      "\n",
      "TEST SET:\n",
      "F1-Score(micro): 0.7178833605220228\n",
      "F1-Score(macro): 0.620758323948592\n",
      "F1-Score(weighted): 0.7449554846480109\n",
      "F1-Score(None): [0.81267982 0.42883683]\n",
      "Accuracy: 0.7178833605220228\n",
      "Sensitivity: 0.6002600404507368\n",
      "Specificity: 0.7430826369545033\n",
      "Confusion Matrix: [0.7430826369545033, 0.6]\n",
      "ROC AUC score: 0.6716713387026201\n",
      "CPU times: user 44.7 s, sys: 25.8 ms, total: 44.7 s\n",
      "Wall time: 44.7 s\n"
     ]
    }
   ],
   "source": [
    "%%time\n",
    "RandomForest_NoIloc(X_ROS, y_ROS, X_test, y_test)"
   ]
  },
  {
   "cell_type": "code",
   "execution_count": 43,
   "metadata": {},
   "outputs": [
    {
     "name": "stdout",
     "output_type": "stream",
     "text": [
      "CPU times: user 0 ns, sys: 1 µs, total: 1 µs\n",
      "Wall time: 2.62 µs\n",
      "NEURAL NETWORK\n",
      "TRAIN AND VALIDATION SETS:\n",
      "1 of KFold 10\n",
      "ROC AUC score: 0.7601028655400441\n",
      "2 of KFold 10\n"
     ]
    },
    {
     "name": "stderr",
     "output_type": "stream",
     "text": [
      "/usr/local/lib/python3.6/dist-packages/sklearn/neural_network/multilayer_perceptron.py:566: ConvergenceWarning: Stochastic Optimizer: Maximum iterations (200) reached and the optimization hasn't converged yet.\n",
      "  % self.max_iter, ConvergenceWarning)\n"
     ]
    },
    {
     "name": "stdout",
     "output_type": "stream",
     "text": [
      "ROC AUC score: 0.7625275532696547\n",
      "3 of KFold 10\n"
     ]
    },
    {
     "name": "stderr",
     "output_type": "stream",
     "text": [
      "/usr/local/lib/python3.6/dist-packages/sklearn/neural_network/multilayer_perceptron.py:566: ConvergenceWarning: Stochastic Optimizer: Maximum iterations (200) reached and the optimization hasn't converged yet.\n",
      "  % self.max_iter, ConvergenceWarning)\n"
     ]
    },
    {
     "name": "stdout",
     "output_type": "stream",
     "text": [
      "ROC AUC score: 0.7639235855988243\n",
      "4 of KFold 10\n"
     ]
    },
    {
     "name": "stderr",
     "output_type": "stream",
     "text": [
      "/usr/local/lib/python3.6/dist-packages/sklearn/neural_network/multilayer_perceptron.py:566: ConvergenceWarning: Stochastic Optimizer: Maximum iterations (200) reached and the optimization hasn't converged yet.\n",
      "  % self.max_iter, ConvergenceWarning)\n"
     ]
    },
    {
     "name": "stdout",
     "output_type": "stream",
     "text": [
      "ROC AUC score: 0.7603967670830273\n",
      "5 of KFold 10\n",
      "ROC AUC score: 0.7609845701689935\n",
      "6 of KFold 10\n"
     ]
    },
    {
     "name": "stderr",
     "output_type": "stream",
     "text": [
      "/usr/local/lib/python3.6/dist-packages/sklearn/neural_network/multilayer_perceptron.py:566: ConvergenceWarning: Stochastic Optimizer: Maximum iterations (200) reached and the optimization hasn't converged yet.\n",
      "  % self.max_iter, ConvergenceWarning)\n"
     ]
    },
    {
     "name": "stdout",
     "output_type": "stream",
     "text": [
      "ROC AUC score: 0.7594415870683321\n",
      "7 of KFold 10\n"
     ]
    },
    {
     "name": "stderr",
     "output_type": "stream",
     "text": [
      "/usr/local/lib/python3.6/dist-packages/sklearn/neural_network/multilayer_perceptron.py:566: ConvergenceWarning: Stochastic Optimizer: Maximum iterations (200) reached and the optimization hasn't converged yet.\n",
      "  % self.max_iter, ConvergenceWarning)\n"
     ]
    },
    {
     "name": "stdout",
     "output_type": "stream",
     "text": [
      "ROC AUC score: 0.7675973548861131\n",
      "8 of KFold 10\n"
     ]
    },
    {
     "name": "stderr",
     "output_type": "stream",
     "text": [
      "/usr/local/lib/python3.6/dist-packages/sklearn/neural_network/multilayer_perceptron.py:566: ConvergenceWarning: Stochastic Optimizer: Maximum iterations (200) reached and the optimization hasn't converged yet.\n",
      "  % self.max_iter, ConvergenceWarning)\n"
     ]
    },
    {
     "name": "stdout",
     "output_type": "stream",
     "text": [
      "ROC AUC score: 0.766166960611405\n",
      "9 of KFold 10\n"
     ]
    },
    {
     "name": "stderr",
     "output_type": "stream",
     "text": [
      "/usr/local/lib/python3.6/dist-packages/sklearn/neural_network/multilayer_perceptron.py:566: ConvergenceWarning: Stochastic Optimizer: Maximum iterations (200) reached and the optimization hasn't converged yet.\n",
      "  % self.max_iter, ConvergenceWarning)\n"
     ]
    },
    {
     "name": "stdout",
     "output_type": "stream",
     "text": [
      "ROC AUC score: 0.7632275132275133\n",
      "10 of KFold 10\n",
      "ROC AUC score: 0.7604350382128159\n",
      "\n",
      "CROSS VALIDANTION SUMMARY:\n",
      "Mean: 0.7624803795666724\n",
      "Std deviation: 0.002608960228147739\n",
      "\n",
      "TEST SET:\n",
      "F1-Score(micro): 0.7252243066884178\n",
      "F1-Score(macro): 0.6468712105455874\n",
      "F1-Score(weighted): 0.7545134402465709\n",
      "F1-Score(None): [0.81321042 0.480532  ]\n",
      "Accuracy: 0.7252243066884176\n",
      "Sensitivity: 0.7203120485408842\n",
      "Specificity: 0.7262766945218199\n",
      "Confusion Matrix: [0.7262766945218199, 0.72]\n",
      "ROC AUC score: 0.723294371531352\n",
      "CPU times: user 2h 16min 28s, sys: 1h 21min 43s, total: 3h 38min 12s\n",
      "Wall time: 27min 19s\n"
     ]
    }
   ],
   "source": [
    "%%time\n",
    "NN_NoIloc(X_ROS, y_ROS, X_test, y_test)"
   ]
  },
  {
   "cell_type": "code",
   "execution_count": 44,
   "metadata": {},
   "outputs": [
    {
     "name": "stdout",
     "output_type": "stream",
     "text": [
      "Resampling dataset using SMOTE (SMO)...\n"
     ]
    },
    {
     "name": "stderr",
     "output_type": "stream",
     "text": [
      "/usr/local/lib/python3.6/dist-packages/sklearn/utils/validation.py:724: DataConversionWarning: A column-vector y was passed when a 1d array was expected. Please change the shape of y to (n_samples, ), for example using ravel().\n",
      "  y = column_or_1d(y, warn=True)\n"
     ]
    },
    {
     "name": "stdout",
     "output_type": "stream",
     "text": [
      "X and Y SMO: 136094 136094\n"
     ]
    }
   ],
   "source": [
    "print(\"Resampling dataset using SMOTE (SMO)...\")\n",
    "sm = SMOTE(random_state=42)\n",
    "X_SMO, y_SMO = sm.fit_resample(X_train, y_train)\n",
    "print(\"X and Y SMO:\", len(X_SMO), len(y_SMO))"
   ]
  },
  {
   "cell_type": "code",
   "execution_count": 45,
   "metadata": {},
   "outputs": [
    {
     "name": "stdout",
     "output_type": "stream",
     "text": [
      "CPU times: user 2 µs, sys: 0 ns, total: 2 µs\n",
      "Wall time: 2.62 µs\n",
      "\n",
      "LOGISTIC REGRESSION\n",
      "TRAIN AND VALIDATION SETS:\n",
      "1 of KFold 10\n",
      "ROC AUC score: 0.738207200587803\n",
      "2 of KFold 10\n",
      "ROC AUC score: 0.736958119030125\n",
      "3 of KFold 10\n",
      "ROC AUC score: 0.7375459221160912\n",
      "4 of KFold 10\n",
      "ROC AUC score: 0.7423218221895665\n",
      "5 of KFold 10\n",
      "ROC AUC score: 0.734019103600294\n",
      "6 of KFold 10\n",
      "ROC AUC score: 0.7370315944158706\n",
      "7 of KFold 10\n",
      "ROC AUC score: 0.7358559882439384\n",
      "8 of KFold 10\n",
      "ROC AUC score: 0.7359641387419166\n",
      "9 of KFold 10\n",
      "ROC AUC score: 0.7393445032333921\n",
      "10 of KFold 10\n",
      "ROC AUC score: 0.738830099941211\n",
      "\n",
      "CROSS VALIDANTION SUMMARY:\n",
      "Mean: 0.7376078492100209\n",
      "Std deviation: 0.0021563528753640137\n",
      "\n",
      "TEST SET:\n",
      "F1-Score(micro): 0.7810970636215334\n",
      "F1-Score(macro): 0.6501499615047475\n",
      "F1-Score(weighted): 0.7886586286383598\n",
      "F1-Score(None): [0.86418699 0.43611293]\n",
      "Accuracy: 0.7810970636215334\n",
      "Sensitivity: 0.47977463160936146\n",
      "Specificity: 0.8456515010832559\n",
      "Confusion Matrix: [0.8456515010832559, 0.48]\n",
      "ROC AUC score: 0.6627130663463087\n",
      "CPU times: user 29.5 s, sys: 17.3 s, total: 46.9 s\n",
      "Wall time: 5.93 s\n"
     ]
    }
   ],
   "source": [
    "%%time\n",
    "LogisticRegr_NoIloc(X_SMO, y_SMO, X_test, y_test)"
   ]
  },
  {
   "cell_type": "code",
   "execution_count": 46,
   "metadata": {},
   "outputs": [
    {
     "name": "stdout",
     "output_type": "stream",
     "text": [
      "CPU times: user 2 µs, sys: 0 ns, total: 2 µs\n",
      "Wall time: 3.1 µs\n",
      "\n",
      "DECISION TREE\n",
      "TRAIN AND VALIDATION SETS:\n",
      "1 of KFold 10\n",
      "ROC AUC score: 0.7874357090374725\n",
      "2 of KFold 10\n",
      "ROC AUC score: 0.7836149889786921\n",
      "3 of KFold 10\n",
      "ROC AUC score: 0.8988978692138134\n",
      "4 of KFold 10\n",
      "ROC AUC score: 0.9142542248346804\n",
      "5 of KFold 10\n",
      "ROC AUC score: 0.9162380602498162\n",
      "6 of KFold 10\n",
      "ROC AUC score: 0.9150624540778839\n",
      "7 of KFold 10\n",
      "ROC AUC score: 0.9155033063923587\n",
      "8 of KFold 10\n",
      "ROC AUC score: 0.9175485008818343\n",
      "9 of KFold 10\n",
      "ROC AUC score: 0.918724279835391\n",
      "10 of KFold 10\n",
      "ROC AUC score: 0.9130658436213992\n",
      "\n",
      "CROSS VALIDANTION SUMMARY:\n",
      "Mean: 0.8880345237123344\n",
      "Std deviation: 0.05152575202851488\n",
      "\n",
      "TEST SET:\n",
      "F1-Score(micro): 0.485190660685155\n",
      "F1-Score(macro): 0.46113580765229106\n",
      "F1-Score(weighted): 0.5348123197524657\n",
      "F1-Score(None): [0.5749879  0.34728372]\n",
      "Accuracy: 0.485190660685155\n",
      "Sensitivity: 0.7762207454492921\n",
      "Specificity: 0.4228412256267409\n",
      "Confusion Matrix: [0.4228412256267409, 0.78]\n",
      "ROC AUC score: 0.5995309855380165\n",
      "CPU times: user 3.25 s, sys: 43 µs, total: 3.25 s\n",
      "Wall time: 3.23 s\n"
     ]
    }
   ],
   "source": [
    "%%time\n",
    "DecisionTree_NoIloc(X_SMO, y_SMO, X_test, y_test)"
   ]
  },
  {
   "cell_type": "code",
   "execution_count": 47,
   "metadata": {},
   "outputs": [
    {
     "name": "stdout",
     "output_type": "stream",
     "text": [
      "CPU times: user 2 µs, sys: 0 ns, total: 2 µs\n",
      "Wall time: 2.86 µs\n",
      "RANDOM FOREST\n",
      "TRAIN AND VALIDATION SETS:\n",
      "1 of KFold 10\n",
      "ROC AUC score: 0.8022042615723732\n",
      "2 of KFold 10\n",
      "ROC AUC score: 0.7999265246142543\n",
      "3 of KFold 10\n",
      "ROC AUC score: 0.9057310800881704\n",
      "4 of KFold 10\n",
      "ROC AUC score: 0.921895664952241\n",
      "5 of KFold 10\n",
      "ROC AUC score: 0.921895664952241\n",
      "6 of KFold 10\n",
      "ROC AUC score: 0.9217487141807496\n",
      "7 of KFold 10\n",
      "ROC AUC score: 0.9234386480529023\n",
      "8 of KFold 10\n",
      "ROC AUC score: 0.9230599647266313\n",
      "9 of KFold 10\n",
      "ROC AUC score: 0.9229129923574368\n",
      "10 of KFold 10\n",
      "ROC AUC score: 0.9223985890652557\n",
      "\n",
      "CROSS VALIDANTION SUMMARY:\n",
      "Mean: 0.8965212104562257\n",
      "Std deviation: 0.04798980465162315\n",
      "\n",
      "TEST SET:\n",
      "F1-Score(micro): 0.3265701468189233\n",
      "F1-Score(macro): 0.3264815345947475\n",
      "F1-Score(weighted): 0.3214822298227977\n",
      "F1-Score(None): [0.31875612 0.33420695]\n",
      "Accuracy: 0.3265701468189233\n",
      "Sensitivity: 0.9579601271308871\n",
      "Specificity: 0.19130300216651192\n",
      "Confusion Matrix: [0.19130300216651192, 0.96]\n",
      "ROC AUC score: 0.5746315646486996\n",
      "CPU times: user 1min 2s, sys: 15.3 ms, total: 1min 2s\n",
      "Wall time: 1min 2s\n"
     ]
    }
   ],
   "source": [
    "%%time\n",
    "RandomForest_NoIloc(X_SMO, y_SMO, X_test, y_test)"
   ]
  },
  {
   "cell_type": "code",
   "execution_count": 48,
   "metadata": {},
   "outputs": [
    {
     "name": "stdout",
     "output_type": "stream",
     "text": [
      "CPU times: user 2 µs, sys: 0 ns, total: 2 µs\n",
      "Wall time: 2.62 µs\n",
      "NEURAL NETWORK\n",
      "TRAIN AND VALIDATION SETS:\n",
      "1 of KFold 10\n"
     ]
    },
    {
     "name": "stderr",
     "output_type": "stream",
     "text": [
      "/usr/local/lib/python3.6/dist-packages/sklearn/neural_network/multilayer_perceptron.py:566: ConvergenceWarning: Stochastic Optimizer: Maximum iterations (200) reached and the optimization hasn't converged yet.\n",
      "  % self.max_iter, ConvergenceWarning)\n"
     ]
    },
    {
     "name": "stdout",
     "output_type": "stream",
     "text": [
      "ROC AUC score: 0.7599559147685526\n",
      "2 of KFold 10\n"
     ]
    },
    {
     "name": "stderr",
     "output_type": "stream",
     "text": [
      "/usr/local/lib/python3.6/dist-packages/sklearn/neural_network/multilayer_perceptron.py:566: ConvergenceWarning: Stochastic Optimizer: Maximum iterations (200) reached and the optimization hasn't converged yet.\n",
      "  % self.max_iter, ConvergenceWarning)\n"
     ]
    },
    {
     "name": "stdout",
     "output_type": "stream",
     "text": [
      "ROC AUC score: 0.7619397501836884\n",
      "3 of KFold 10\n"
     ]
    },
    {
     "name": "stderr",
     "output_type": "stream",
     "text": [
      "/usr/local/lib/python3.6/dist-packages/sklearn/neural_network/multilayer_perceptron.py:566: ConvergenceWarning: Stochastic Optimizer: Maximum iterations (200) reached and the optimization hasn't converged yet.\n",
      "  % self.max_iter, ConvergenceWarning)\n"
     ]
    },
    {
     "name": "stdout",
     "output_type": "stream",
     "text": [
      "ROC AUC score: 0.767009551800147\n",
      "4 of KFold 10\n",
      "ROC AUC score: 0.7656135194709772\n",
      "5 of KFold 10\n"
     ]
    },
    {
     "name": "stderr",
     "output_type": "stream",
     "text": [
      "/usr/local/lib/python3.6/dist-packages/sklearn/neural_network/multilayer_perceptron.py:566: ConvergenceWarning: Stochastic Optimizer: Maximum iterations (200) reached and the optimization hasn't converged yet.\n",
      "  % self.max_iter, ConvergenceWarning)\n"
     ]
    },
    {
     "name": "stdout",
     "output_type": "stream",
     "text": [
      "ROC AUC score: 0.7684055841293167\n",
      "6 of KFold 10\n"
     ]
    },
    {
     "name": "stderr",
     "output_type": "stream",
     "text": [
      "/usr/local/lib/python3.6/dist-packages/sklearn/neural_network/multilayer_perceptron.py:566: ConvergenceWarning: Stochastic Optimizer: Maximum iterations (200) reached and the optimization hasn't converged yet.\n",
      "  % self.max_iter, ConvergenceWarning)\n"
     ]
    },
    {
     "name": "stdout",
     "output_type": "stream",
     "text": [
      "ROC AUC score: 0.7646583394562821\n",
      "7 of KFold 10\n"
     ]
    },
    {
     "name": "stderr",
     "output_type": "stream",
     "text": [
      "/usr/local/lib/python3.6/dist-packages/sklearn/neural_network/multilayer_perceptron.py:566: ConvergenceWarning: Stochastic Optimizer: Maximum iterations (200) reached and the optimization hasn't converged yet.\n",
      "  % self.max_iter, ConvergenceWarning)\n"
     ]
    },
    {
     "name": "stdout",
     "output_type": "stream",
     "text": [
      "ROC AUC score: 0.7622336517266716\n",
      "8 of KFold 10\n",
      "ROC AUC score: 0.7627131099353321\n",
      "9 of KFold 10\n",
      "ROC AUC score: 0.7700617283950618\n",
      "10 of KFold 10\n",
      "ROC AUC score: 0.7595532039976485\n",
      "\n",
      "CROSS VALIDANTION SUMMARY:\n",
      "Mean: 0.7642144353863678\n",
      "Std deviation: 0.0033606171587967355\n",
      "\n",
      "TEST SET:\n",
      "F1-Score(micro): 0.7185205954323002\n",
      "F1-Score(macro): 0.6405393500592755\n",
      "F1-Score(weighted): 0.7488843321383183\n",
      "F1-Score(None): [0.80796452 0.47311418]\n",
      "Accuracy: 0.7185205954323002\n",
      "Sensitivity: 0.7162669748627565\n",
      "Specificity: 0.7190034045187248\n",
      "Confusion Matrix: [0.7190034045187248, 0.72]\n",
      "ROC AUC score: 0.7176351896907406\n",
      "CPU times: user 2h 19min 28s, sys: 1h 23min 45s, total: 3h 43min 13s\n",
      "Wall time: 27min 56s\n"
     ]
    },
    {
     "name": "stderr",
     "output_type": "stream",
     "text": [
      "/usr/local/lib/python3.6/dist-packages/sklearn/neural_network/multilayer_perceptron.py:566: ConvergenceWarning: Stochastic Optimizer: Maximum iterations (200) reached and the optimization hasn't converged yet.\n",
      "  % self.max_iter, ConvergenceWarning)\n"
     ]
    }
   ],
   "source": [
    "%%time\n",
    "NN_NoIloc(X_SMO, y_SMO, X_test, y_test)"
   ]
  },
  {
   "cell_type": "code",
   "execution_count": 49,
   "metadata": {},
   "outputs": [
    {
     "name": "stderr",
     "output_type": "stream",
     "text": [
      "/usr/local/lib/python3.6/dist-packages/sklearn/utils/validation.py:724: DataConversionWarning: A column-vector y was passed when a 1d array was expected. Please change the shape of y to (n_samples, ), for example using ravel().\n",
      "  y = column_or_1d(y, warn=True)\n"
     ]
    },
    {
     "name": "stdout",
     "output_type": "stream",
     "text": [
      "Resampling dataset using ADASYN (ADA)...\n",
      "X and Y ADA: 135057 135057\n"
     ]
    }
   ],
   "source": [
    "print(\"Resampling dataset using ADASYN (ADA)...\")\n",
    "ada = ADASYN(random_state=42)\n",
    "X_ADA, y_ADA = ada.fit_resample(X_train, y_train)\n",
    "print(\"X and Y ADA:\", len(X_ADA), len(y_ADA))"
   ]
  },
  {
   "cell_type": "code",
   "execution_count": 50,
   "metadata": {},
   "outputs": [
    {
     "name": "stdout",
     "output_type": "stream",
     "text": [
      "CPU times: user 1 µs, sys: 0 ns, total: 1 µs\n",
      "Wall time: 2.86 µs\n",
      "\n",
      "LOGISTIC REGRESSION\n",
      "TRAIN AND VALIDATION SETS:\n",
      "1 of KFold 10\n",
      "ROC AUC score: 0.7415912678654234\n",
      "2 of KFold 10\n",
      "ROC AUC score: 0.7368842818046941\n",
      "3 of KFold 10\n",
      "ROC AUC score: 0.6831995750905613\n",
      "4 of KFold 10\n",
      "ROC AUC score: 0.6685760325506593\n",
      "5 of KFold 10\n",
      "ROC AUC score: 0.6576212045072943\n",
      "6 of KFold 10\n",
      "ROC AUC score: 0.6513847659571576\n",
      "7 of KFold 10\n",
      "ROC AUC score: 0.665056549512114\n",
      "8 of KFold 10\n",
      "ROC AUC score: 0.6659143023657441\n",
      "9 of KFold 10\n",
      "ROC AUC score: 0.6679492588477979\n",
      "10 of KFold 10\n",
      "ROC AUC score: 0.6633751084910945\n",
      "\n",
      "CROSS VALIDANTION SUMMARY:\n",
      "Mean: 0.6801552346992541\n",
      "Std deviation: 0.030549586259048148\n",
      "\n",
      "TEST SET:\n",
      "F1-Score(micro): 0.758487969004894\n",
      "F1-Score(macro): 0.6488313656340039\n",
      "F1-Score(weighted): 0.7758195445502178\n",
      "F1-Score(None): [0.84506582 0.45259691]\n",
      "Accuracy: 0.758487969004894\n",
      "Sensitivity: 0.5658769141866512\n",
      "Specificity: 0.7997523986381925\n",
      "Confusion Matrix: [0.7997523986381925, 0.57]\n",
      "ROC AUC score: 0.6828146564124218\n",
      "CPU times: user 30.6 s, sys: 17.2 s, total: 47.8 s\n",
      "Wall time: 6.04 s\n"
     ]
    }
   ],
   "source": [
    "%%time\n",
    "LogisticRegr_NoIloc(X_ADA, y_ADA, X_test, y_test)"
   ]
  },
  {
   "cell_type": "code",
   "execution_count": 51,
   "metadata": {},
   "outputs": [
    {
     "name": "stdout",
     "output_type": "stream",
     "text": [
      "CPU times: user 0 ns, sys: 1 µs, total: 1 µs\n",
      "Wall time: 3.1 µs\n",
      "\n",
      "DECISION TREE\n",
      "TRAIN AND VALIDATION SETS:\n",
      "1 of KFold 10\n",
      "ROC AUC score: 0.8014010651902438\n",
      "2 of KFold 10\n",
      "ROC AUC score: 0.8007751373592786\n",
      "3 of KFold 10\n",
      "ROC AUC score: 0.8682078771183658\n",
      "4 of KFold 10\n",
      "ROC AUC score: 0.8809746557616226\n",
      "5 of KFold 10\n",
      "ROC AUC score: 0.8821331567848065\n",
      "6 of KFold 10\n",
      "ROC AUC score: 0.8879588853627185\n",
      "7 of KFold 10\n",
      "ROC AUC score: 0.8799049480041855\n",
      "8 of KFold 10\n",
      "ROC AUC score: 0.8805326510271045\n",
      "9 of KFold 10\n",
      "ROC AUC score: 0.8877206109874535\n",
      "10 of KFold 10\n",
      "ROC AUC score: 0.8835342233529072\n",
      "\n",
      "CROSS VALIDANTION SUMMARY:\n",
      "Mean: 0.8653143210948686\n",
      "Std deviation: 0.03252379039310204\n",
      "\n",
      "TEST SET:\n",
      "F1-Score(micro): 0.37729404567699837\n",
      "F1-Score(macro): 0.3716015483348127\n",
      "F1-Score(weighted): 0.41030565184938395\n",
      "F1-Score(None): [0.43141088 0.31179221]\n",
      "Accuracy: 0.37729404567699837\n",
      "Sensitivity: 0.7994799190985264\n",
      "Specificity: 0.2868461776539771\n",
      "Confusion Matrix: [0.2868461776539771, 0.8]\n",
      "ROC AUC score: 0.5431630483762517\n",
      "CPU times: user 3.44 s, sys: 8.08 ms, total: 3.44 s\n",
      "Wall time: 3.43 s\n"
     ]
    }
   ],
   "source": [
    "%%time\n",
    "DecisionTree_NoIloc(X_ADA, y_ADA, X_test, y_test)"
   ]
  },
  {
   "cell_type": "code",
   "execution_count": 52,
   "metadata": {},
   "outputs": [
    {
     "name": "stdout",
     "output_type": "stream",
     "text": [
      "CPU times: user 2 µs, sys: 0 ns, total: 2 µs\n",
      "Wall time: 2.62 µs\n",
      "RANDOM FOREST\n",
      "TRAIN AND VALIDATION SETS:\n",
      "1 of KFold 10\n",
      "ROC AUC score: 0.8079364600741156\n",
      "2 of KFold 10\n",
      "ROC AUC score: 0.807224513081656\n",
      "3 of KFold 10\n",
      "ROC AUC score: 0.8764941374843873\n",
      "4 of KFold 10\n",
      "ROC AUC score: 0.8892034055473971\n",
      "5 of KFold 10\n",
      "ROC AUC score: 0.8928128221949392\n",
      "6 of KFold 10\n",
      "ROC AUC score: 0.896989022332197\n",
      "7 of KFold 10\n",
      "ROC AUC score: 0.8902770277523363\n",
      "8 of KFold 10\n",
      "ROC AUC score: 0.8890648894524767\n",
      "9 of KFold 10\n",
      "ROC AUC score: 0.8965275918964424\n",
      "10 of KFold 10\n",
      "ROC AUC score: 0.894285731393377\n",
      "\n",
      "CROSS VALIDANTION SUMMARY:\n",
      "Mean: 0.8740815601209324\n",
      "Std deviation: 0.033695649497269616\n",
      "\n",
      "TEST SET:\n",
      "F1-Score(micro): 0.29412214518760194\n",
      "F1-Score(macro): 0.2924468550746221\n",
      "F1-Score(weighted): 0.2701669884489903\n",
      "F1-Score(None): [0.25801784 0.32687587]\n",
      "Accuracy: 0.29412214518760194\n",
      "Sensitivity: 0.9713955504189541\n",
      "Specificity: 0.149025069637883\n",
      "Confusion Matrix: [0.149025069637883, 0.97]\n",
      "ROC AUC score: 0.5602103100284186\n",
      "CPU times: user 1min 3s, sys: 52.5 ms, total: 1min 4s\n",
      "Wall time: 1min 3s\n"
     ]
    }
   ],
   "source": [
    "%%time\n",
    "RandomForest_NoIloc(X_ADA, y_ADA, X_test, y_test)"
   ]
  },
  {
   "cell_type": "code",
   "execution_count": 53,
   "metadata": {},
   "outputs": [
    {
     "name": "stdout",
     "output_type": "stream",
     "text": [
      "CPU times: user 1 µs, sys: 0 ns, total: 1 µs\n",
      "Wall time: 2.86 µs\n",
      "NEURAL NETWORK\n",
      "TRAIN AND VALIDATION SETS:\n",
      "1 of KFold 10\n"
     ]
    },
    {
     "name": "stderr",
     "output_type": "stream",
     "text": [
      "/usr/local/lib/python3.6/dist-packages/sklearn/neural_network/multilayer_perceptron.py:566: ConvergenceWarning: Stochastic Optimizer: Maximum iterations (200) reached and the optimization hasn't converged yet.\n",
      "  % self.max_iter, ConvergenceWarning)\n"
     ]
    },
    {
     "name": "stdout",
     "output_type": "stream",
     "text": [
      "ROC AUC score: 0.7499929770206581\n",
      "2 of KFold 10\n"
     ]
    },
    {
     "name": "stderr",
     "output_type": "stream",
     "text": [
      "/usr/local/lib/python3.6/dist-packages/sklearn/neural_network/multilayer_perceptron.py:566: ConvergenceWarning: Stochastic Optimizer: Maximum iterations (200) reached and the optimization hasn't converged yet.\n",
      "  % self.max_iter, ConvergenceWarning)\n"
     ]
    },
    {
     "name": "stdout",
     "output_type": "stream",
     "text": [
      "ROC AUC score: 0.7499889090654108\n",
      "3 of KFold 10\n"
     ]
    },
    {
     "name": "stderr",
     "output_type": "stream",
     "text": [
      "/usr/local/lib/python3.6/dist-packages/sklearn/neural_network/multilayer_perceptron.py:566: ConvergenceWarning: Stochastic Optimizer: Maximum iterations (200) reached and the optimization hasn't converged yet.\n",
      "  % self.max_iter, ConvergenceWarning)\n"
     ]
    },
    {
     "name": "stdout",
     "output_type": "stream",
     "text": [
      "ROC AUC score: 0.7256122190410788\n",
      "4 of KFold 10\n"
     ]
    },
    {
     "name": "stderr",
     "output_type": "stream",
     "text": [
      "/usr/local/lib/python3.6/dist-packages/sklearn/neural_network/multilayer_perceptron.py:566: ConvergenceWarning: Stochastic Optimizer: Maximum iterations (200) reached and the optimization hasn't converged yet.\n",
      "  % self.max_iter, ConvergenceWarning)\n"
     ]
    },
    {
     "name": "stdout",
     "output_type": "stream",
     "text": [
      "ROC AUC score: 0.7085760391295628\n",
      "5 of KFold 10\n"
     ]
    },
    {
     "name": "stderr",
     "output_type": "stream",
     "text": [
      "/usr/local/lib/python3.6/dist-packages/sklearn/neural_network/multilayer_perceptron.py:566: ConvergenceWarning: Stochastic Optimizer: Maximum iterations (200) reached and the optimization hasn't converged yet.\n",
      "  % self.max_iter, ConvergenceWarning)\n"
     ]
    },
    {
     "name": "stdout",
     "output_type": "stream",
     "text": [
      "ROC AUC score: 0.7036605237618476\n",
      "6 of KFold 10\n"
     ]
    },
    {
     "name": "stderr",
     "output_type": "stream",
     "text": [
      "/usr/local/lib/python3.6/dist-packages/sklearn/neural_network/multilayer_perceptron.py:566: ConvergenceWarning: Stochastic Optimizer: Maximum iterations (200) reached and the optimization hasn't converged yet.\n",
      "  % self.max_iter, ConvergenceWarning)\n"
     ]
    },
    {
     "name": "stdout",
     "output_type": "stream",
     "text": [
      "ROC AUC score: 0.6931157587652099\n",
      "7 of KFold 10\n"
     ]
    },
    {
     "name": "stderr",
     "output_type": "stream",
     "text": [
      "/usr/local/lib/python3.6/dist-packages/sklearn/neural_network/multilayer_perceptron.py:566: ConvergenceWarning: Stochastic Optimizer: Maximum iterations (200) reached and the optimization hasn't converged yet.\n",
      "  % self.max_iter, ConvergenceWarning)\n"
     ]
    },
    {
     "name": "stdout",
     "output_type": "stream",
     "text": [
      "ROC AUC score: 0.6950062395415996\n",
      "8 of KFold 10\n"
     ]
    },
    {
     "name": "stderr",
     "output_type": "stream",
     "text": [
      "/usr/local/lib/python3.6/dist-packages/sklearn/neural_network/multilayer_perceptron.py:566: ConvergenceWarning: Stochastic Optimizer: Maximum iterations (200) reached and the optimization hasn't converged yet.\n",
      "  % self.max_iter, ConvergenceWarning)\n"
     ]
    },
    {
     "name": "stdout",
     "output_type": "stream",
     "text": [
      "ROC AUC score: 0.7002449181249194\n",
      "9 of KFold 10\n"
     ]
    },
    {
     "name": "stderr",
     "output_type": "stream",
     "text": [
      "/usr/local/lib/python3.6/dist-packages/sklearn/neural_network/multilayer_perceptron.py:566: ConvergenceWarning: Stochastic Optimizer: Maximum iterations (200) reached and the optimization hasn't converged yet.\n",
      "  % self.max_iter, ConvergenceWarning)\n"
     ]
    },
    {
     "name": "stdout",
     "output_type": "stream",
     "text": [
      "ROC AUC score: 0.7161855750644323\n",
      "10 of KFold 10\n",
      "ROC AUC score: 0.7011786455837096\n",
      "\n",
      "CROSS VALIDANTION SUMMARY:\n",
      "Mean: 0.7143561805098428\n",
      "Std deviation: 0.020039649920989215\n",
      "\n",
      "TEST SET:\n",
      "F1-Score(micro): 0.679292414355628\n",
      "F1-Score(macro): 0.616659842214991\n",
      "F1-Score(weighted): 0.716931991383013\n",
      "F1-Score(None): [0.77161009 0.46170959]\n",
      "Accuracy: 0.679292414355628\n",
      "Sensitivity: 0.7795434845420399\n",
      "Specificity: 0.6578149179820489\n",
      "Confusion Matrix: [0.6578149179820489, 0.78]\n",
      "ROC AUC score: 0.7186792012620444\n",
      "CPU times: user 2h 30min 22s, sys: 1h 30min 37s, total: 4h 1min\n",
      "Wall time: 30min 10s\n"
     ]
    },
    {
     "name": "stderr",
     "output_type": "stream",
     "text": [
      "/usr/local/lib/python3.6/dist-packages/sklearn/neural_network/multilayer_perceptron.py:566: ConvergenceWarning: Stochastic Optimizer: Maximum iterations (200) reached and the optimization hasn't converged yet.\n",
      "  % self.max_iter, ConvergenceWarning)\n"
     ]
    }
   ],
   "source": [
    "%%time\n",
    "NN_NoIloc(X_ADA, y_ADA, X_test, y_test)"
   ]
  }
 ],
 "metadata": {
  "kernelspec": {
   "display_name": "Python 3",
   "language": "python",
   "name": "python3"
  },
  "language_info": {
   "codemirror_mode": {
    "name": "ipython",
    "version": 3
   },
   "file_extension": ".py",
   "mimetype": "text/x-python",
   "name": "python",
   "nbconvert_exporter": "python",
   "pygments_lexer": "ipython3",
   "version": "3.6.8"
  }
 },
 "nbformat": 4,
 "nbformat_minor": 2
}
