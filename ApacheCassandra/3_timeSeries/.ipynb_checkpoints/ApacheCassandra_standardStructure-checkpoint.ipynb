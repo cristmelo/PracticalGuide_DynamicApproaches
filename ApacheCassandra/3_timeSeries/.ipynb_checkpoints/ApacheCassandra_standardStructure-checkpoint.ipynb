{
 "cells": [
  {
   "cell_type": "code",
   "execution_count": 1,
   "metadata": {},
   "outputs": [
    {
     "name": "stderr",
     "output_type": "stream",
     "text": [
      "Using TensorFlow backend.\n"
     ]
    }
   ],
   "source": [
    "%run auxStandardStructure.ipynb"
   ]
  },
  {
   "cell_type": "code",
   "execution_count": 2,
   "metadata": {},
   "outputs": [
    {
     "name": "stdout",
     "output_type": "stream",
     "text": [
      "No GPU found\n"
     ]
    }
   ],
   "source": [
    "import tensorflow as tf\n",
    "import os\n",
    "\n",
    "os.environ['CUDA_VISIBLE_DEVICES'] = '-1'\n",
    "\n",
    "if tf.test.gpu_device_name():\n",
    "    print('GPU found')\n",
    "else:\n",
    "    print(\"No GPU found\")"
   ]
  },
  {
   "cell_type": "markdown",
   "metadata": {},
   "source": [
    "## Preprocessing"
   ]
  },
  {
   "cell_type": "code",
   "execution_count": 3,
   "metadata": {},
   "outputs": [],
   "source": [
    "all_releases_df = pd.read_csv('all_releases.csv')"
   ]
  },
  {
   "cell_type": "code",
   "execution_count": 4,
   "metadata": {
    "scrolled": true
   },
   "outputs": [
    {
     "name": "stdout",
     "output_type": "stream",
     "text": [
      "Generating a new dataframe without containing the last release...\n",
      "... DONE!\n",
      "checking class larger than window size...\n",
      "DONE\n",
      "Setting the features...\n",
      "DONE\n",
      "X: (118733, 16) y: (118733,)\n"
     ]
    }
   ],
   "source": [
    "X, y = generateStandardTimeSeriesStructure(all_releases_df, 2)"
   ]
  },
  {
   "cell_type": "code",
   "execution_count": 5,
   "metadata": {
    "scrolled": true
   },
   "outputs": [
    {
     "name": "stdout",
     "output_type": "stream",
     "text": [
      "Declaring a dictionary to save results...\n",
      "... DONE!\n",
      "Splitting dataset into train and test sets...\n",
      "General information:\n",
      "X Train set: 83113 X Test set: 35620\n",
      "y Train set: 83113 y Test set: 35620\n",
      "... DONE!\n",
      "Scaling features...\n",
      "... DONE!\n",
      "Setting stratified k-fold...\n",
      "k = 10\n",
      "... DONE!\n",
      "\n"
     ]
    }
   ],
   "source": [
    "print(\"Declaring a dictionary to save results...\")\n",
    "results_dict = dict()\n",
    "print(\"... DONE!\")\n",
    "\n",
    "print(\"Splitting dataset into train and test sets...\")\n",
    "X_train, X_test, y_train, y_test = train_test_split(X, y, test_size=0.30, random_state=42)\n",
    "print(\"General information:\")\n",
    "print(\"X Train set:\", X_train.shape[0], \"X Test set:\", X_test.shape[0])\n",
    "print(\"y Train set:\", y_train.shape[0], \"y Test set:\", y_test.shape[0])\n",
    "print(\"... DONE!\")\n",
    "\n",
    "print(\"Scaling features...\")\n",
    "scaler = MinMaxScaler()\n",
    "X_train = pd.DataFrame(scaler.fit_transform(X_train))\n",
    "X_test = pd.DataFrame(scaler.fit_transform(X_test))\n",
    "print(\"... DONE!\")\n",
    "\n",
    "print(\"Setting stratified k-fold...\")\n",
    "k=10\n",
    "kf = StratifiedKFold(n_splits=k, shuffle=False, random_state=42)\n",
    "print(\"k =\", k)\n",
    "print(\"... DONE!\\n\")"
   ]
  },
  {
   "cell_type": "code",
   "execution_count": 6,
   "metadata": {},
   "outputs": [],
   "source": [
    "y_test = pd.DataFrame(y_test)\n",
    "y_train = pd.DataFrame(y_train)"
   ]
  },
  {
   "cell_type": "markdown",
   "metadata": {},
   "source": [
    "## Statistical Analysis"
   ]
  },
  {
   "cell_type": "code",
   "execution_count": 7,
   "metadata": {
    "scrolled": true
   },
   "outputs": [
    {
     "data": {
      "text/html": [
       "<div>\n",
       "<style scoped>\n",
       "    .dataframe tbody tr th:only-of-type {\n",
       "        vertical-align: middle;\n",
       "    }\n",
       "\n",
       "    .dataframe tbody tr th {\n",
       "        vertical-align: top;\n",
       "    }\n",
       "\n",
       "    .dataframe thead th {\n",
       "        text-align: right;\n",
       "    }\n",
       "</style>\n",
       "<table border=\"1\" class=\"dataframe\">\n",
       "  <thead>\n",
       "    <tr style=\"text-align: right;\">\n",
       "      <th></th>\n",
       "      <th>CountClassCoupled</th>\n",
       "      <th>CountDeclMethod</th>\n",
       "      <th>CountDeclMethodAll</th>\n",
       "      <th>CountClassDerived</th>\n",
       "      <th>CountLineCode</th>\n",
       "      <th>SumCyclomatic</th>\n",
       "      <th>PercentLackOfCohesion</th>\n",
       "      <th>MaxInheritanceTree</th>\n",
       "      <th>class_frequency</th>\n",
       "      <th>will_change</th>\n",
       "      <th>number_of_changes</th>\n",
       "      <th>release</th>\n",
       "    </tr>\n",
       "  </thead>\n",
       "  <tbody>\n",
       "    <tr>\n",
       "      <th>count</th>\n",
       "      <td>130773.000000</td>\n",
       "      <td>130773.000000</td>\n",
       "      <td>130773.000000</td>\n",
       "      <td>130773.000000</td>\n",
       "      <td>130773.000000</td>\n",
       "      <td>130773.000000</td>\n",
       "      <td>130773.000000</td>\n",
       "      <td>130773.000000</td>\n",
       "      <td>130773.000000</td>\n",
       "      <td>130773.000000</td>\n",
       "      <td>130773.000000</td>\n",
       "      <td>130773.000000</td>\n",
       "    </tr>\n",
       "    <tr>\n",
       "      <th>mean</th>\n",
       "      <td>5.747073</td>\n",
       "      <td>6.513707</td>\n",
       "      <td>10.989669</td>\n",
       "      <td>0.273352</td>\n",
       "      <td>103.106062</td>\n",
       "      <td>13.787349</td>\n",
       "      <td>20.578522</td>\n",
       "      <td>1.651251</td>\n",
       "      <td>11.395915</td>\n",
       "      <td>0.174707</td>\n",
       "      <td>27.325105</td>\n",
       "      <td>32.741315</td>\n",
       "    </tr>\n",
       "    <tr>\n",
       "      <th>std</th>\n",
       "      <td>8.658830</td>\n",
       "      <td>12.084357</td>\n",
       "      <td>17.917928</td>\n",
       "      <td>2.303381</td>\n",
       "      <td>754.576185</td>\n",
       "      <td>31.166179</td>\n",
       "      <td>30.626505</td>\n",
       "      <td>0.740645</td>\n",
       "      <td>10.388216</td>\n",
       "      <td>0.379718</td>\n",
       "      <td>15.532635</td>\n",
       "      <td>11.367734</td>\n",
       "    </tr>\n",
       "    <tr>\n",
       "      <th>min</th>\n",
       "      <td>0.000000</td>\n",
       "      <td>0.000000</td>\n",
       "      <td>0.000000</td>\n",
       "      <td>0.000000</td>\n",
       "      <td>0.000000</td>\n",
       "      <td>0.000000</td>\n",
       "      <td>0.000000</td>\n",
       "      <td>1.000000</td>\n",
       "      <td>1.000000</td>\n",
       "      <td>0.000000</td>\n",
       "      <td>0.000000</td>\n",
       "      <td>1.000000</td>\n",
       "    </tr>\n",
       "    <tr>\n",
       "      <th>25%</th>\n",
       "      <td>1.000000</td>\n",
       "      <td>1.000000</td>\n",
       "      <td>2.000000</td>\n",
       "      <td>0.000000</td>\n",
       "      <td>12.000000</td>\n",
       "      <td>2.000000</td>\n",
       "      <td>0.000000</td>\n",
       "      <td>1.000000</td>\n",
       "      <td>3.000000</td>\n",
       "      <td>0.000000</td>\n",
       "      <td>17.000000</td>\n",
       "      <td>25.000000</td>\n",
       "    </tr>\n",
       "    <tr>\n",
       "      <th>50%</th>\n",
       "      <td>3.000000</td>\n",
       "      <td>3.000000</td>\n",
       "      <td>4.000000</td>\n",
       "      <td>0.000000</td>\n",
       "      <td>32.000000</td>\n",
       "      <td>5.000000</td>\n",
       "      <td>0.000000</td>\n",
       "      <td>2.000000</td>\n",
       "      <td>8.000000</td>\n",
       "      <td>0.000000</td>\n",
       "      <td>31.000000</td>\n",
       "      <td>35.000000</td>\n",
       "    </tr>\n",
       "    <tr>\n",
       "      <th>75%</th>\n",
       "      <td>7.000000</td>\n",
       "      <td>6.000000</td>\n",
       "      <td>13.000000</td>\n",
       "      <td>0.000000</td>\n",
       "      <td>82.000000</td>\n",
       "      <td>13.000000</td>\n",
       "      <td>45.000000</td>\n",
       "      <td>2.000000</td>\n",
       "      <td>18.000000</td>\n",
       "      <td>0.000000</td>\n",
       "      <td>40.000000</td>\n",
       "      <td>42.000000</td>\n",
       "    </tr>\n",
       "    <tr>\n",
       "      <th>max</th>\n",
       "      <td>145.000000</td>\n",
       "      <td>294.000000</td>\n",
       "      <td>294.000000</td>\n",
       "      <td>116.000000</td>\n",
       "      <td>45517.000000</td>\n",
       "      <td>843.000000</td>\n",
       "      <td>100.000000</td>\n",
       "      <td>6.000000</td>\n",
       "      <td>49.000000</td>\n",
       "      <td>1.000000</td>\n",
       "      <td>49.000000</td>\n",
       "      <td>49.000000</td>\n",
       "    </tr>\n",
       "  </tbody>\n",
       "</table>\n",
       "</div>"
      ],
      "text/plain": [
       "       CountClassCoupled  CountDeclMethod  CountDeclMethodAll  \\\n",
       "count      130773.000000    130773.000000       130773.000000   \n",
       "mean            5.747073         6.513707           10.989669   \n",
       "std             8.658830        12.084357           17.917928   \n",
       "min             0.000000         0.000000            0.000000   \n",
       "25%             1.000000         1.000000            2.000000   \n",
       "50%             3.000000         3.000000            4.000000   \n",
       "75%             7.000000         6.000000           13.000000   \n",
       "max           145.000000       294.000000          294.000000   \n",
       "\n",
       "       CountClassDerived  CountLineCode  SumCyclomatic  PercentLackOfCohesion  \\\n",
       "count      130773.000000  130773.000000  130773.000000          130773.000000   \n",
       "mean            0.273352     103.106062      13.787349              20.578522   \n",
       "std             2.303381     754.576185      31.166179              30.626505   \n",
       "min             0.000000       0.000000       0.000000               0.000000   \n",
       "25%             0.000000      12.000000       2.000000               0.000000   \n",
       "50%             0.000000      32.000000       5.000000               0.000000   \n",
       "75%             0.000000      82.000000      13.000000              45.000000   \n",
       "max           116.000000   45517.000000     843.000000             100.000000   \n",
       "\n",
       "       MaxInheritanceTree  class_frequency    will_change  number_of_changes  \\\n",
       "count       130773.000000    130773.000000  130773.000000      130773.000000   \n",
       "mean             1.651251        11.395915       0.174707          27.325105   \n",
       "std              0.740645        10.388216       0.379718          15.532635   \n",
       "min              1.000000         1.000000       0.000000           0.000000   \n",
       "25%              1.000000         3.000000       0.000000          17.000000   \n",
       "50%              2.000000         8.000000       0.000000          31.000000   \n",
       "75%              2.000000        18.000000       0.000000          40.000000   \n",
       "max              6.000000        49.000000       1.000000          49.000000   \n",
       "\n",
       "             release  \n",
       "count  130773.000000  \n",
       "mean       32.741315  \n",
       "std        11.367734  \n",
       "min         1.000000  \n",
       "25%        25.000000  \n",
       "50%        35.000000  \n",
       "75%        42.000000  \n",
       "max        49.000000  "
      ]
     },
     "execution_count": 7,
     "metadata": {},
     "output_type": "execute_result"
    }
   ],
   "source": [
    "all_releases_df.describe()"
   ]
  },
  {
   "cell_type": "code",
   "execution_count": 8,
   "metadata": {},
   "outputs": [
    {
     "data": {
      "text/plain": [
       "0\n",
       "False    67703\n",
       "True     15410\n",
       "Name: 0, dtype: int64"
      ]
     },
     "execution_count": 8,
     "metadata": {},
     "output_type": "execute_result"
    },
    {
     "data": {
      "image/png": "[encoded data removed]",
      "text/plain": [
       "<Figure size 360x360 with 1 Axes>"
      ]
     },
     "metadata": {},
     "output_type": "display_data"
    }
   ],
   "source": [
    "ax = y_train.groupby([0])[0].count().plot.bar(title=\"Class Distribution\", figsize=(5,5))\n",
    "y_train.groupby([0])[0].count()"
   ]
  },
  {
   "cell_type": "code",
   "execution_count": 9,
   "metadata": {
    "scrolled": true
   },
   "outputs": [
    {
     "data": {
      "text/html": [
       "<style  type=\"text/css\" >\n",
       "    #T_8f875090_11d8_11ea_95e7_e0d55eb0dab9row0_col0 {\n",
       "            background-color:  #b40426;\n",
       "            color:  #f1f1f1;\n",
       "        }    #T_8f875090_11d8_11ea_95e7_e0d55eb0dab9row0_col1 {\n",
       "            background-color:  #5470de;\n",
       "            color:  #000000;\n",
       "        }    #T_8f875090_11d8_11ea_95e7_e0d55eb0dab9row0_col2 {\n",
       "            background-color:  #dbdcde;\n",
       "            color:  #000000;\n",
       "        }    #T_8f875090_11d8_11ea_95e7_e0d55eb0dab9row0_col3 {\n",
       "            background-color:  #cbd8ee;\n",
       "            color:  #000000;\n",
       "        }    #T_8f875090_11d8_11ea_95e7_e0d55eb0dab9row0_col4 {\n",
       "            background-color:  #f1cdba;\n",
       "            color:  #000000;\n",
       "        }    #T_8f875090_11d8_11ea_95e7_e0d55eb0dab9row0_col5 {\n",
       "            background-color:  #3b4cc0;\n",
       "            color:  #f1f1f1;\n",
       "        }    #T_8f875090_11d8_11ea_95e7_e0d55eb0dab9row0_col6 {\n",
       "            background-color:  #b1cbfc;\n",
       "            color:  #000000;\n",
       "        }    #T_8f875090_11d8_11ea_95e7_e0d55eb0dab9row0_col7 {\n",
       "            background-color:  #ead5c9;\n",
       "            color:  #000000;\n",
       "        }    #T_8f875090_11d8_11ea_95e7_e0d55eb0dab9row0_col8 {\n",
       "            background-color:  #b8122a;\n",
       "            color:  #f1f1f1;\n",
       "        }    #T_8f875090_11d8_11ea_95e7_e0d55eb0dab9row0_col9 {\n",
       "            background-color:  #5470de;\n",
       "            color:  #000000;\n",
       "        }    #T_8f875090_11d8_11ea_95e7_e0d55eb0dab9row0_col10 {\n",
       "            background-color:  #dadce0;\n",
       "            color:  #000000;\n",
       "        }    #T_8f875090_11d8_11ea_95e7_e0d55eb0dab9row0_col11 {\n",
       "            background-color:  #cad8ef;\n",
       "            color:  #000000;\n",
       "        }    #T_8f875090_11d8_11ea_95e7_e0d55eb0dab9row0_col12 {\n",
       "            background-color:  #f0cdbb;\n",
       "            color:  #000000;\n",
       "        }    #T_8f875090_11d8_11ea_95e7_e0d55eb0dab9row0_col13 {\n",
       "            background-color:  #3b4cc0;\n",
       "            color:  #f1f1f1;\n",
       "        }    #T_8f875090_11d8_11ea_95e7_e0d55eb0dab9row0_col14 {\n",
       "            background-color:  #afcafc;\n",
       "            color:  #000000;\n",
       "        }    #T_8f875090_11d8_11ea_95e7_e0d55eb0dab9row0_col15 {\n",
       "            background-color:  #e9d5cb;\n",
       "            color:  #000000;\n",
       "        }    #T_8f875090_11d8_11ea_95e7_e0d55eb0dab9row1_col0 {\n",
       "            background-color:  #5875e1;\n",
       "            color:  #000000;\n",
       "        }    #T_8f875090_11d8_11ea_95e7_e0d55eb0dab9row1_col1 {\n",
       "            background-color:  #b40426;\n",
       "            color:  #f1f1f1;\n",
       "        }    #T_8f875090_11d8_11ea_95e7_e0d55eb0dab9row1_col2 {\n",
       "            background-color:  #82a6fb;\n",
       "            color:  #000000;\n",
       "        }    #T_8f875090_11d8_11ea_95e7_e0d55eb0dab9row1_col3 {\n",
       "            background-color:  #779af7;\n",
       "            color:  #000000;\n",
       "        }    #T_8f875090_11d8_11ea_95e7_e0d55eb0dab9row1_col4 {\n",
       "            background-color:  #6b8df0;\n",
       "            color:  #000000;\n",
       "        }    #T_8f875090_11d8_11ea_95e7_e0d55eb0dab9row1_col5 {\n",
       "            background-color:  #3b4cc0;\n",
       "            color:  #f1f1f1;\n",
       "        }    #T_8f875090_11d8_11ea_95e7_e0d55eb0dab9row1_col6 {\n",
       "            background-color:  #7a9df8;\n",
       "            color:  #000000;\n",
       "        }    #T_8f875090_11d8_11ea_95e7_e0d55eb0dab9row1_col7 {\n",
       "            background-color:  #6687ed;\n",
       "            color:  #000000;\n",
       "        }    #T_8f875090_11d8_11ea_95e7_e0d55eb0dab9row1_col8 {\n",
       "            background-color:  #5673e0;\n",
       "            color:  #000000;\n",
       "        }    #T_8f875090_11d8_11ea_95e7_e0d55eb0dab9row1_col9 {\n",
       "            background-color:  #ba162b;\n",
       "            color:  #f1f1f1;\n",
       "        }    #T_8f875090_11d8_11ea_95e7_e0d55eb0dab9row1_col10 {\n",
       "            background-color:  #82a6fb;\n",
       "            color:  #000000;\n",
       "        }    #T_8f875090_11d8_11ea_95e7_e0d55eb0dab9row1_col11 {\n",
       "            background-color:  #779af7;\n",
       "            color:  #000000;\n",
       "        }    #T_8f875090_11d8_11ea_95e7_e0d55eb0dab9row1_col12 {\n",
       "            background-color:  #6b8df0;\n",
       "            color:  #000000;\n",
       "        }    #T_8f875090_11d8_11ea_95e7_e0d55eb0dab9row1_col13 {\n",
       "            background-color:  #3b4cc0;\n",
       "            color:  #f1f1f1;\n",
       "        }    #T_8f875090_11d8_11ea_95e7_e0d55eb0dab9row1_col14 {\n",
       "            background-color:  #7a9df8;\n",
       "            color:  #000000;\n",
       "        }    #T_8f875090_11d8_11ea_95e7_e0d55eb0dab9row1_col15 {\n",
       "            background-color:  #6687ed;\n",
       "            color:  #000000;\n",
       "        }    #T_8f875090_11d8_11ea_95e7_e0d55eb0dab9row2_col0 {\n",
       "            background-color:  #ecd3c5;\n",
       "            color:  #000000;\n",
       "        }    #T_8f875090_11d8_11ea_95e7_e0d55eb0dab9row2_col1 {\n",
       "            background-color:  #a6c4fe;\n",
       "            color:  #000000;\n",
       "        }    #T_8f875090_11d8_11ea_95e7_e0d55eb0dab9row2_col2 {\n",
       "            background-color:  #b40426;\n",
       "            color:  #f1f1f1;\n",
       "        }    #T_8f875090_11d8_11ea_95e7_e0d55eb0dab9row2_col3 {\n",
       "            background-color:  #e8765c;\n",
       "            color:  #000000;\n",
       "        }    #T_8f875090_11d8_11ea_95e7_e0d55eb0dab9row2_col4 {\n",
       "            background-color:  #e16751;\n",
       "            color:  #000000;\n",
       "        }    #T_8f875090_11d8_11ea_95e7_e0d55eb0dab9row2_col5 {\n",
       "            background-color:  #3b4cc0;\n",
       "            color:  #f1f1f1;\n",
       "        }    #T_8f875090_11d8_11ea_95e7_e0d55eb0dab9row2_col6 {\n",
       "            background-color:  #f6a283;\n",
       "            color:  #000000;\n",
       "        }    #T_8f875090_11d8_11ea_95e7_e0d55eb0dab9row2_col7 {\n",
       "            background-color:  #dd5f4b;\n",
       "            color:  #000000;\n",
       "        }    #T_8f875090_11d8_11ea_95e7_e0d55eb0dab9row2_col8 {\n",
       "            background-color:  #ebd3c6;\n",
       "            color:  #000000;\n",
       "        }    #T_8f875090_11d8_11ea_95e7_e0d55eb0dab9row2_col9 {\n",
       "            background-color:  #a6c4fe;\n",
       "            color:  #000000;\n",
       "        }    #T_8f875090_11d8_11ea_95e7_e0d55eb0dab9row2_col10 {\n",
       "            background-color:  #b50927;\n",
       "            color:  #f1f1f1;\n",
       "        }    #T_8f875090_11d8_11ea_95e7_e0d55eb0dab9row2_col11 {\n",
       "            background-color:  #e9785d;\n",
       "            color:  #000000;\n",
       "        }    #T_8f875090_11d8_11ea_95e7_e0d55eb0dab9row2_col12 {\n",
       "            background-color:  #e26952;\n",
       "            color:  #000000;\n",
       "        }    #T_8f875090_11d8_11ea_95e7_e0d55eb0dab9row2_col13 {\n",
       "            background-color:  #3b4cc0;\n",
       "            color:  #f1f1f1;\n",
       "        }    #T_8f875090_11d8_11ea_95e7_e0d55eb0dab9row2_col14 {\n",
       "            background-color:  #f6a385;\n",
       "            color:  #000000;\n",
       "        }    #T_8f875090_11d8_11ea_95e7_e0d55eb0dab9row2_col15 {\n",
       "            background-color:  #df634e;\n",
       "            color:  #000000;\n",
       "        }    #T_8f875090_11d8_11ea_95e7_e0d55eb0dab9row3_col0 {\n",
       "            background-color:  #a3c2fe;\n",
       "            color:  #000000;\n",
       "        }    #T_8f875090_11d8_11ea_95e7_e0d55eb0dab9row3_col1 {\n",
       "            background-color:  #3b4cc0;\n",
       "            color:  #f1f1f1;\n",
       "        }    #T_8f875090_11d8_11ea_95e7_e0d55eb0dab9row3_col2 {\n",
       "            background-color:  #f39577;\n",
       "            color:  #000000;\n",
       "        }    #T_8f875090_11d8_11ea_95e7_e0d55eb0dab9row3_col3 {\n",
       "            background-color:  #b40426;\n",
       "            color:  #f1f1f1;\n",
       "        }    #T_8f875090_11d8_11ea_95e7_e0d55eb0dab9row3_col4 {\n",
       "            background-color:  #f3c8b2;\n",
       "            color:  #000000;\n",
       "        }    #T_8f875090_11d8_11ea_95e7_e0d55eb0dab9row3_col5 {\n",
       "            background-color:  #3c4ec2;\n",
       "            color:  #f1f1f1;\n",
       "        }    #T_8f875090_11d8_11ea_95e7_e0d55eb0dab9row3_col6 {\n",
       "            background-color:  #d1dae9;\n",
       "            color:  #000000;\n",
       "        }    #T_8f875090_11d8_11ea_95e7_e0d55eb0dab9row3_col7 {\n",
       "            background-color:  #f3c8b2;\n",
       "            color:  #000000;\n",
       "        }    #T_8f875090_11d8_11ea_95e7_e0d55eb0dab9row3_col8 {\n",
       "            background-color:  #a1c0ff;\n",
       "            color:  #000000;\n",
       "        }    #T_8f875090_11d8_11ea_95e7_e0d55eb0dab9row3_col9 {\n",
       "            background-color:  #3b4cc0;\n",
       "            color:  #f1f1f1;\n",
       "        }    #T_8f875090_11d8_11ea_95e7_e0d55eb0dab9row3_col10 {\n",
       "            background-color:  #f39778;\n",
       "            color:  #000000;\n",
       "        }    #T_8f875090_11d8_11ea_95e7_e0d55eb0dab9row3_col11 {\n",
       "            background-color:  #b70d28;\n",
       "            color:  #f1f1f1;\n",
       "        }    #T_8f875090_11d8_11ea_95e7_e0d55eb0dab9row3_col12 {\n",
       "            background-color:  #f2c9b4;\n",
       "            color:  #000000;\n",
       "        }    #T_8f875090_11d8_11ea_95e7_e0d55eb0dab9row3_col13 {\n",
       "            background-color:  #3b4cc0;\n",
       "            color:  #f1f1f1;\n",
       "        }    #T_8f875090_11d8_11ea_95e7_e0d55eb0dab9row3_col14 {\n",
       "            background-color:  #d1dae9;\n",
       "            color:  #000000;\n",
       "        }    #T_8f875090_11d8_11ea_95e7_e0d55eb0dab9row3_col15 {\n",
       "            background-color:  #f2cab5;\n",
       "            color:  #000000;\n",
       "        }    #T_8f875090_11d8_11ea_95e7_e0d55eb0dab9row4_col0 {\n",
       "            background-color:  #f6bfa6;\n",
       "            color:  #000000;\n",
       "        }    #T_8f875090_11d8_11ea_95e7_e0d55eb0dab9row4_col1 {\n",
       "            background-color:  #8caffe;\n",
       "            color:  #000000;\n",
       "        }    #T_8f875090_11d8_11ea_95e7_e0d55eb0dab9row4_col2 {\n",
       "            background-color:  #e26952;\n",
       "            color:  #000000;\n",
       "        }    #T_8f875090_11d8_11ea_95e7_e0d55eb0dab9row4_col3 {\n",
       "            background-color:  #f6a586;\n",
       "            color:  #000000;\n",
       "        }    #T_8f875090_11d8_11ea_95e7_e0d55eb0dab9row4_col4 {\n",
       "            background-color:  #b40426;\n",
       "            color:  #f1f1f1;\n",
       "        }    #T_8f875090_11d8_11ea_95e7_e0d55eb0dab9row4_col5 {\n",
       "            background-color:  #3b4cc0;\n",
       "            color:  #f1f1f1;\n",
       "        }    #T_8f875090_11d8_11ea_95e7_e0d55eb0dab9row4_col6 {\n",
       "            background-color:  #f7b99e;\n",
       "            color:  #000000;\n",
       "        }    #T_8f875090_11d8_11ea_95e7_e0d55eb0dab9row4_col7 {\n",
       "            background-color:  #d24b40;\n",
       "            color:  #f1f1f1;\n",
       "        }    #T_8f875090_11d8_11ea_95e7_e0d55eb0dab9row4_col8 {\n",
       "            background-color:  #f5c1a9;\n",
       "            color:  #000000;\n",
       "        }    #T_8f875090_11d8_11ea_95e7_e0d55eb0dab9row4_col9 {\n",
       "            background-color:  #8caffe;\n",
       "            color:  #000000;\n",
       "        }    #T_8f875090_11d8_11ea_95e7_e0d55eb0dab9row4_col10 {\n",
       "            background-color:  #e36b54;\n",
       "            color:  #000000;\n",
       "        }    #T_8f875090_11d8_11ea_95e7_e0d55eb0dab9row4_col11 {\n",
       "            background-color:  #f7a688;\n",
       "            color:  #000000;\n",
       "        }    #T_8f875090_11d8_11ea_95e7_e0d55eb0dab9row4_col12 {\n",
       "            background-color:  #b50927;\n",
       "            color:  #f1f1f1;\n",
       "        }    #T_8f875090_11d8_11ea_95e7_e0d55eb0dab9row4_col13 {\n",
       "            background-color:  #3b4cc0;\n",
       "            color:  #f1f1f1;\n",
       "        }    #T_8f875090_11d8_11ea_95e7_e0d55eb0dab9row4_col14 {\n",
       "            background-color:  #f7ba9f;\n",
       "            color:  #000000;\n",
       "        }    #T_8f875090_11d8_11ea_95e7_e0d55eb0dab9row4_col15 {\n",
       "            background-color:  #d65244;\n",
       "            color:  #000000;\n",
       "        }    #T_8f875090_11d8_11ea_95e7_e0d55eb0dab9row5_col0 {\n",
       "            background-color:  #688aef;\n",
       "            color:  #000000;\n",
       "        }    #T_8f875090_11d8_11ea_95e7_e0d55eb0dab9row5_col1 {\n",
       "            background-color:  #6485ec;\n",
       "            color:  #000000;\n",
       "        }    #T_8f875090_11d8_11ea_95e7_e0d55eb0dab9row5_col2 {\n",
       "            background-color:  #3c4ec2;\n",
       "            color:  #f1f1f1;\n",
       "        }    #T_8f875090_11d8_11ea_95e7_e0d55eb0dab9row5_col3 {\n",
       "            background-color:  #9fbfff;\n",
       "            color:  #000000;\n",
       "        }    #T_8f875090_11d8_11ea_95e7_e0d55eb0dab9row5_col4 {\n",
       "            background-color:  #4257c9;\n",
       "            color:  #f1f1f1;\n",
       "        }    #T_8f875090_11d8_11ea_95e7_e0d55eb0dab9row5_col5 {\n",
       "            background-color:  #b40426;\n",
       "            color:  #f1f1f1;\n",
       "        }    #T_8f875090_11d8_11ea_95e7_e0d55eb0dab9row5_col6 {\n",
       "            background-color:  #3b4cc0;\n",
       "            color:  #f1f1f1;\n",
       "        }    #T_8f875090_11d8_11ea_95e7_e0d55eb0dab9row5_col7 {\n",
       "            background-color:  #4961d2;\n",
       "            color:  #f1f1f1;\n",
       "        }    #T_8f875090_11d8_11ea_95e7_e0d55eb0dab9row5_col8 {\n",
       "            background-color:  #688aef;\n",
       "            color:  #000000;\n",
       "        }    #T_8f875090_11d8_11ea_95e7_e0d55eb0dab9row5_col9 {\n",
       "            background-color:  #6485ec;\n",
       "            color:  #000000;\n",
       "        }    #T_8f875090_11d8_11ea_95e7_e0d55eb0dab9row5_col10 {\n",
       "            background-color:  #3d50c3;\n",
       "            color:  #f1f1f1;\n",
       "        }    #T_8f875090_11d8_11ea_95e7_e0d55eb0dab9row5_col11 {\n",
       "            background-color:  #9dbdff;\n",
       "            color:  #000000;\n",
       "        }    #T_8f875090_11d8_11ea_95e7_e0d55eb0dab9row5_col12 {\n",
       "            background-color:  #4257c9;\n",
       "            color:  #f1f1f1;\n",
       "        }    #T_8f875090_11d8_11ea_95e7_e0d55eb0dab9row5_col13 {\n",
       "            background-color:  #b8122a;\n",
       "            color:  #f1f1f1;\n",
       "        }    #T_8f875090_11d8_11ea_95e7_e0d55eb0dab9row5_col14 {\n",
       "            background-color:  #3b4cc0;\n",
       "            color:  #f1f1f1;\n",
       "        }    #T_8f875090_11d8_11ea_95e7_e0d55eb0dab9row5_col15 {\n",
       "            background-color:  #4a63d3;\n",
       "            color:  #f1f1f1;\n",
       "        }    #T_8f875090_11d8_11ea_95e7_e0d55eb0dab9row6_col0 {\n",
       "            background-color:  #cedaeb;\n",
       "            color:  #000000;\n",
       "        }    #T_8f875090_11d8_11ea_95e7_e0d55eb0dab9row6_col1 {\n",
       "            background-color:  #a1c0ff;\n",
       "            color:  #000000;\n",
       "        }    #T_8f875090_11d8_11ea_95e7_e0d55eb0dab9row6_col2 {\n",
       "            background-color:  #f5a081;\n",
       "            color:  #000000;\n",
       "        }    #T_8f875090_11d8_11ea_95e7_e0d55eb0dab9row6_col3 {\n",
       "            background-color:  #f4c6af;\n",
       "            color:  #000000;\n",
       "        }    #T_8f875090_11d8_11ea_95e7_e0d55eb0dab9row6_col4 {\n",
       "            background-color:  #f7b79b;\n",
       "            color:  #000000;\n",
       "        }    #T_8f875090_11d8_11ea_95e7_e0d55eb0dab9row6_col5 {\n",
       "            background-color:  #3b4cc0;\n",
       "            color:  #f1f1f1;\n",
       "        }    #T_8f875090_11d8_11ea_95e7_e0d55eb0dab9row6_col6 {\n",
       "            background-color:  #b40426;\n",
       "            color:  #f1f1f1;\n",
       "        }    #T_8f875090_11d8_11ea_95e7_e0d55eb0dab9row6_col7 {\n",
       "            background-color:  #f7b99e;\n",
       "            color:  #000000;\n",
       "        }    #T_8f875090_11d8_11ea_95e7_e0d55eb0dab9row6_col8 {\n",
       "            background-color:  #cdd9ec;\n",
       "            color:  #000000;\n",
       "        }    #T_8f875090_11d8_11ea_95e7_e0d55eb0dab9row6_col9 {\n",
       "            background-color:  #a1c0ff;\n",
       "            color:  #000000;\n",
       "        }    #T_8f875090_11d8_11ea_95e7_e0d55eb0dab9row6_col10 {\n",
       "            background-color:  #f6a283;\n",
       "            color:  #000000;\n",
       "        }    #T_8f875090_11d8_11ea_95e7_e0d55eb0dab9row6_col11 {\n",
       "            background-color:  #f3c7b1;\n",
       "            color:  #000000;\n",
       "        }    #T_8f875090_11d8_11ea_95e7_e0d55eb0dab9row6_col12 {\n",
       "            background-color:  #f7b89c;\n",
       "            color:  #000000;\n",
       "        }    #T_8f875090_11d8_11ea_95e7_e0d55eb0dab9row6_col13 {\n",
       "            background-color:  #3b4cc0;\n",
       "            color:  #f1f1f1;\n",
       "        }    #T_8f875090_11d8_11ea_95e7_e0d55eb0dab9row6_col14 {\n",
       "            background-color:  #b8122a;\n",
       "            color:  #f1f1f1;\n",
       "        }    #T_8f875090_11d8_11ea_95e7_e0d55eb0dab9row6_col15 {\n",
       "            background-color:  #f7ba9f;\n",
       "            color:  #000000;\n",
       "        }    #T_8f875090_11d8_11ea_95e7_e0d55eb0dab9row7_col0 {\n",
       "            background-color:  #f2cbb7;\n",
       "            color:  #000000;\n",
       "        }    #T_8f875090_11d8_11ea_95e7_e0d55eb0dab9row7_col1 {\n",
       "            background-color:  #81a4fb;\n",
       "            color:  #000000;\n",
       "        }    #T_8f875090_11d8_11ea_95e7_e0d55eb0dab9row7_col2 {\n",
       "            background-color:  #de614d;\n",
       "            color:  #000000;\n",
       "        }    #T_8f875090_11d8_11ea_95e7_e0d55eb0dab9row7_col3 {\n",
       "            background-color:  #f7a889;\n",
       "            color:  #000000;\n",
       "        }    #T_8f875090_11d8_11ea_95e7_e0d55eb0dab9row7_col4 {\n",
       "            background-color:  #d44e41;\n",
       "            color:  #000000;\n",
       "        }    #T_8f875090_11d8_11ea_95e7_e0d55eb0dab9row7_col5 {\n",
       "            background-color:  #3b4cc0;\n",
       "            color:  #f1f1f1;\n",
       "        }    #T_8f875090_11d8_11ea_95e7_e0d55eb0dab9row7_col6 {\n",
       "            background-color:  #f6bea4;\n",
       "            color:  #000000;\n",
       "        }    #T_8f875090_11d8_11ea_95e7_e0d55eb0dab9row7_col7 {\n",
       "            background-color:  #b40426;\n",
       "            color:  #f1f1f1;\n",
       "        }    #T_8f875090_11d8_11ea_95e7_e0d55eb0dab9row7_col8 {\n",
       "            background-color:  #f1cdba;\n",
       "            color:  #000000;\n",
       "        }    #T_8f875090_11d8_11ea_95e7_e0d55eb0dab9row7_col9 {\n",
       "            background-color:  #81a4fb;\n",
       "            color:  #000000;\n",
       "        }    #T_8f875090_11d8_11ea_95e7_e0d55eb0dab9row7_col10 {\n",
       "            background-color:  #e0654f;\n",
       "            color:  #000000;\n",
       "        }    #T_8f875090_11d8_11ea_95e7_e0d55eb0dab9row7_col11 {\n",
       "            background-color:  #f7a98b;\n",
       "            color:  #000000;\n",
       "        }    #T_8f875090_11d8_11ea_95e7_e0d55eb0dab9row7_col12 {\n",
       "            background-color:  #d55042;\n",
       "            color:  #000000;\n",
       "        }    #T_8f875090_11d8_11ea_95e7_e0d55eb0dab9row7_col13 {\n",
       "            background-color:  #3b4cc0;\n",
       "            color:  #f1f1f1;\n",
       "        }    #T_8f875090_11d8_11ea_95e7_e0d55eb0dab9row7_col14 {\n",
       "            background-color:  #f6bfa6;\n",
       "            color:  #000000;\n",
       "        }    #T_8f875090_11d8_11ea_95e7_e0d55eb0dab9row7_col15 {\n",
       "            background-color:  #b8122a;\n",
       "            color:  #f1f1f1;\n",
       "        }    #T_8f875090_11d8_11ea_95e7_e0d55eb0dab9row8_col0 {\n",
       "            background-color:  #b8122a;\n",
       "            color:  #f1f1f1;\n",
       "        }    #T_8f875090_11d8_11ea_95e7_e0d55eb0dab9row8_col1 {\n",
       "            background-color:  #536edd;\n",
       "            color:  #000000;\n",
       "        }    #T_8f875090_11d8_11ea_95e7_e0d55eb0dab9row8_col2 {\n",
       "            background-color:  #d9dce1;\n",
       "            color:  #000000;\n",
       "        }    #T_8f875090_11d8_11ea_95e7_e0d55eb0dab9row8_col3 {\n",
       "            background-color:  #cad8ef;\n",
       "            color:  #000000;\n",
       "        }    #T_8f875090_11d8_11ea_95e7_e0d55eb0dab9row8_col4 {\n",
       "            background-color:  #efcebd;\n",
       "            color:  #000000;\n",
       "        }    #T_8f875090_11d8_11ea_95e7_e0d55eb0dab9row8_col5 {\n",
       "            background-color:  #3b4cc0;\n",
       "            color:  #f1f1f1;\n",
       "        }    #T_8f875090_11d8_11ea_95e7_e0d55eb0dab9row8_col6 {\n",
       "            background-color:  #aec9fc;\n",
       "            color:  #000000;\n",
       "        }    #T_8f875090_11d8_11ea_95e7_e0d55eb0dab9row8_col7 {\n",
       "            background-color:  #e8d6cc;\n",
       "            color:  #000000;\n",
       "        }    #T_8f875090_11d8_11ea_95e7_e0d55eb0dab9row8_col8 {\n",
       "            background-color:  #b40426;\n",
       "            color:  #f1f1f1;\n",
       "        }    #T_8f875090_11d8_11ea_95e7_e0d55eb0dab9row8_col9 {\n",
       "            background-color:  #536edd;\n",
       "            color:  #000000;\n",
       "        }    #T_8f875090_11d8_11ea_95e7_e0d55eb0dab9row8_col10 {\n",
       "            background-color:  #dadce0;\n",
       "            color:  #000000;\n",
       "        }    #T_8f875090_11d8_11ea_95e7_e0d55eb0dab9row8_col11 {\n",
       "            background-color:  #cad8ef;\n",
       "            color:  #000000;\n",
       "        }    #T_8f875090_11d8_11ea_95e7_e0d55eb0dab9row8_col12 {\n",
       "            background-color:  #f0cdbb;\n",
       "            color:  #000000;\n",
       "        }    #T_8f875090_11d8_11ea_95e7_e0d55eb0dab9row8_col13 {\n",
       "            background-color:  #3b4cc0;\n",
       "            color:  #f1f1f1;\n",
       "        }    #T_8f875090_11d8_11ea_95e7_e0d55eb0dab9row8_col14 {\n",
       "            background-color:  #afcafc;\n",
       "            color:  #000000;\n",
       "        }    #T_8f875090_11d8_11ea_95e7_e0d55eb0dab9row8_col15 {\n",
       "            background-color:  #e9d5cb;\n",
       "            color:  #000000;\n",
       "        }    #T_8f875090_11d8_11ea_95e7_e0d55eb0dab9row9_col0 {\n",
       "            background-color:  #5875e1;\n",
       "            color:  #000000;\n",
       "        }    #T_8f875090_11d8_11ea_95e7_e0d55eb0dab9row9_col1 {\n",
       "            background-color:  #ba162b;\n",
       "            color:  #f1f1f1;\n",
       "        }    #T_8f875090_11d8_11ea_95e7_e0d55eb0dab9row9_col2 {\n",
       "            background-color:  #82a6fb;\n",
       "            color:  #000000;\n",
       "        }    #T_8f875090_11d8_11ea_95e7_e0d55eb0dab9row9_col3 {\n",
       "            background-color:  #779af7;\n",
       "            color:  #000000;\n",
       "        }    #T_8f875090_11d8_11ea_95e7_e0d55eb0dab9row9_col4 {\n",
       "            background-color:  #6b8df0;\n",
       "            color:  #000000;\n",
       "        }    #T_8f875090_11d8_11ea_95e7_e0d55eb0dab9row9_col5 {\n",
       "            background-color:  #3b4cc0;\n",
       "            color:  #f1f1f1;\n",
       "        }    #T_8f875090_11d8_11ea_95e7_e0d55eb0dab9row9_col6 {\n",
       "            background-color:  #7a9df8;\n",
       "            color:  #000000;\n",
       "        }    #T_8f875090_11d8_11ea_95e7_e0d55eb0dab9row9_col7 {\n",
       "            background-color:  #6687ed;\n",
       "            color:  #000000;\n",
       "        }    #T_8f875090_11d8_11ea_95e7_e0d55eb0dab9row9_col8 {\n",
       "            background-color:  #5673e0;\n",
       "            color:  #000000;\n",
       "        }    #T_8f875090_11d8_11ea_95e7_e0d55eb0dab9row9_col9 {\n",
       "            background-color:  #b40426;\n",
       "            color:  #f1f1f1;\n",
       "        }    #T_8f875090_11d8_11ea_95e7_e0d55eb0dab9row9_col10 {\n",
       "            background-color:  #82a6fb;\n",
       "            color:  #000000;\n",
       "        }    #T_8f875090_11d8_11ea_95e7_e0d55eb0dab9row9_col11 {\n",
       "            background-color:  #779af7;\n",
       "            color:  #000000;\n",
       "        }    #T_8f875090_11d8_11ea_95e7_e0d55eb0dab9row9_col12 {\n",
       "            background-color:  #6b8df0;\n",
       "            color:  #000000;\n",
       "        }    #T_8f875090_11d8_11ea_95e7_e0d55eb0dab9row9_col13 {\n",
       "            background-color:  #3b4cc0;\n",
       "            color:  #f1f1f1;\n",
       "        }    #T_8f875090_11d8_11ea_95e7_e0d55eb0dab9row9_col14 {\n",
       "            background-color:  #7a9df8;\n",
       "            color:  #000000;\n",
       "        }    #T_8f875090_11d8_11ea_95e7_e0d55eb0dab9row9_col15 {\n",
       "            background-color:  #6687ed;\n",
       "            color:  #000000;\n",
       "        }    #T_8f875090_11d8_11ea_95e7_e0d55eb0dab9row10_col0 {\n",
       "            background-color:  #ebd3c6;\n",
       "            color:  #000000;\n",
       "        }    #T_8f875090_11d8_11ea_95e7_e0d55eb0dab9row10_col1 {\n",
       "            background-color:  #a6c4fe;\n",
       "            color:  #000000;\n",
       "        }    #T_8f875090_11d8_11ea_95e7_e0d55eb0dab9row10_col2 {\n",
       "            background-color:  #b50927;\n",
       "            color:  #f1f1f1;\n",
       "        }    #T_8f875090_11d8_11ea_95e7_e0d55eb0dab9row10_col3 {\n",
       "            background-color:  #e9785d;\n",
       "            color:  #000000;\n",
       "        }    #T_8f875090_11d8_11ea_95e7_e0d55eb0dab9row10_col4 {\n",
       "            background-color:  #e26952;\n",
       "            color:  #000000;\n",
       "        }    #T_8f875090_11d8_11ea_95e7_e0d55eb0dab9row10_col5 {\n",
       "            background-color:  #3b4cc0;\n",
       "            color:  #f1f1f1;\n",
       "        }    #T_8f875090_11d8_11ea_95e7_e0d55eb0dab9row10_col6 {\n",
       "            background-color:  #f6a283;\n",
       "            color:  #000000;\n",
       "        }    #T_8f875090_11d8_11ea_95e7_e0d55eb0dab9row10_col7 {\n",
       "            background-color:  #de614d;\n",
       "            color:  #000000;\n",
       "        }    #T_8f875090_11d8_11ea_95e7_e0d55eb0dab9row10_col8 {\n",
       "            background-color:  #ebd3c6;\n",
       "            color:  #000000;\n",
       "        }    #T_8f875090_11d8_11ea_95e7_e0d55eb0dab9row10_col9 {\n",
       "            background-color:  #a6c4fe;\n",
       "            color:  #000000;\n",
       "        }    #T_8f875090_11d8_11ea_95e7_e0d55eb0dab9row10_col10 {\n",
       "            background-color:  #b40426;\n",
       "            color:  #f1f1f1;\n",
       "        }    #T_8f875090_11d8_11ea_95e7_e0d55eb0dab9row10_col11 {\n",
       "            background-color:  #e8765c;\n",
       "            color:  #000000;\n",
       "        }    #T_8f875090_11d8_11ea_95e7_e0d55eb0dab9row10_col12 {\n",
       "            background-color:  #e16751;\n",
       "            color:  #000000;\n",
       "        }    #T_8f875090_11d8_11ea_95e7_e0d55eb0dab9row10_col13 {\n",
       "            background-color:  #3b4cc0;\n",
       "            color:  #f1f1f1;\n",
       "        }    #T_8f875090_11d8_11ea_95e7_e0d55eb0dab9row10_col14 {\n",
       "            background-color:  #f6a283;\n",
       "            color:  #000000;\n",
       "        }    #T_8f875090_11d8_11ea_95e7_e0d55eb0dab9row10_col15 {\n",
       "            background-color:  #de614d;\n",
       "            color:  #000000;\n",
       "        }    #T_8f875090_11d8_11ea_95e7_e0d55eb0dab9row11_col0 {\n",
       "            background-color:  #a2c1ff;\n",
       "            color:  #000000;\n",
       "        }    #T_8f875090_11d8_11ea_95e7_e0d55eb0dab9row11_col1 {\n",
       "            background-color:  #3c4ec2;\n",
       "            color:  #f1f1f1;\n",
       "        }    #T_8f875090_11d8_11ea_95e7_e0d55eb0dab9row11_col2 {\n",
       "            background-color:  #f39778;\n",
       "            color:  #000000;\n",
       "        }    #T_8f875090_11d8_11ea_95e7_e0d55eb0dab9row11_col3 {\n",
       "            background-color:  #b70d28;\n",
       "            color:  #f1f1f1;\n",
       "        }    #T_8f875090_11d8_11ea_95e7_e0d55eb0dab9row11_col4 {\n",
       "            background-color:  #f2c9b4;\n",
       "            color:  #000000;\n",
       "        }    #T_8f875090_11d8_11ea_95e7_e0d55eb0dab9row11_col5 {\n",
       "            background-color:  #3b4cc0;\n",
       "            color:  #f1f1f1;\n",
       "        }    #T_8f875090_11d8_11ea_95e7_e0d55eb0dab9row11_col6 {\n",
       "            background-color:  #d1dae9;\n",
       "            color:  #000000;\n",
       "        }    #T_8f875090_11d8_11ea_95e7_e0d55eb0dab9row11_col7 {\n",
       "            background-color:  #f2c9b4;\n",
       "            color:  #000000;\n",
       "        }    #T_8f875090_11d8_11ea_95e7_e0d55eb0dab9row11_col8 {\n",
       "            background-color:  #a2c1ff;\n",
       "            color:  #000000;\n",
       "        }    #T_8f875090_11d8_11ea_95e7_e0d55eb0dab9row11_col9 {\n",
       "            background-color:  #3b4cc0;\n",
       "            color:  #f1f1f1;\n",
       "        }    #T_8f875090_11d8_11ea_95e7_e0d55eb0dab9row11_col10 {\n",
       "            background-color:  #f39577;\n",
       "            color:  #000000;\n",
       "        }    #T_8f875090_11d8_11ea_95e7_e0d55eb0dab9row11_col11 {\n",
       "            background-color:  #b40426;\n",
       "            color:  #f1f1f1;\n",
       "        }    #T_8f875090_11d8_11ea_95e7_e0d55eb0dab9row11_col12 {\n",
       "            background-color:  #f3c8b2;\n",
       "            color:  #000000;\n",
       "        }    #T_8f875090_11d8_11ea_95e7_e0d55eb0dab9row11_col13 {\n",
       "            background-color:  #3d50c3;\n",
       "            color:  #f1f1f1;\n",
       "        }    #T_8f875090_11d8_11ea_95e7_e0d55eb0dab9row11_col14 {\n",
       "            background-color:  #d1dae9;\n",
       "            color:  #000000;\n",
       "        }    #T_8f875090_11d8_11ea_95e7_e0d55eb0dab9row11_col15 {\n",
       "            background-color:  #f2cab5;\n",
       "            color:  #000000;\n",
       "        }    #T_8f875090_11d8_11ea_95e7_e0d55eb0dab9row12_col0 {\n",
       "            background-color:  #f5c0a7;\n",
       "            color:  #000000;\n",
       "        }    #T_8f875090_11d8_11ea_95e7_e0d55eb0dab9row12_col1 {\n",
       "            background-color:  #8caffe;\n",
       "            color:  #000000;\n",
       "        }    #T_8f875090_11d8_11ea_95e7_e0d55eb0dab9row12_col2 {\n",
       "            background-color:  #e36b54;\n",
       "            color:  #000000;\n",
       "        }    #T_8f875090_11d8_11ea_95e7_e0d55eb0dab9row12_col3 {\n",
       "            background-color:  #f7a688;\n",
       "            color:  #000000;\n",
       "        }    #T_8f875090_11d8_11ea_95e7_e0d55eb0dab9row12_col4 {\n",
       "            background-color:  #b50927;\n",
       "            color:  #f1f1f1;\n",
       "        }    #T_8f875090_11d8_11ea_95e7_e0d55eb0dab9row12_col5 {\n",
       "            background-color:  #3b4cc0;\n",
       "            color:  #f1f1f1;\n",
       "        }    #T_8f875090_11d8_11ea_95e7_e0d55eb0dab9row12_col6 {\n",
       "            background-color:  #f7ba9f;\n",
       "            color:  #000000;\n",
       "        }    #T_8f875090_11d8_11ea_95e7_e0d55eb0dab9row12_col7 {\n",
       "            background-color:  #d55042;\n",
       "            color:  #000000;\n",
       "        }    #T_8f875090_11d8_11ea_95e7_e0d55eb0dab9row12_col8 {\n",
       "            background-color:  #f5c0a7;\n",
       "            color:  #000000;\n",
       "        }    #T_8f875090_11d8_11ea_95e7_e0d55eb0dab9row12_col9 {\n",
       "            background-color:  #8caffe;\n",
       "            color:  #000000;\n",
       "        }    #T_8f875090_11d8_11ea_95e7_e0d55eb0dab9row12_col10 {\n",
       "            background-color:  #e26952;\n",
       "            color:  #000000;\n",
       "        }    #T_8f875090_11d8_11ea_95e7_e0d55eb0dab9row12_col11 {\n",
       "            background-color:  #f7a688;\n",
       "            color:  #000000;\n",
       "        }    #T_8f875090_11d8_11ea_95e7_e0d55eb0dab9row12_col12 {\n",
       "            background-color:  #b40426;\n",
       "            color:  #f1f1f1;\n",
       "        }    #T_8f875090_11d8_11ea_95e7_e0d55eb0dab9row12_col13 {\n",
       "            background-color:  #3b4cc0;\n",
       "            color:  #f1f1f1;\n",
       "        }    #T_8f875090_11d8_11ea_95e7_e0d55eb0dab9row12_col14 {\n",
       "            background-color:  #f7b99e;\n",
       "            color:  #000000;\n",
       "        }    #T_8f875090_11d8_11ea_95e7_e0d55eb0dab9row12_col15 {\n",
       "            background-color:  #d44e41;\n",
       "            color:  #000000;\n",
       "        }    #T_8f875090_11d8_11ea_95e7_e0d55eb0dab9row13_col0 {\n",
       "            background-color:  #688aef;\n",
       "            color:  #000000;\n",
       "        }    #T_8f875090_11d8_11ea_95e7_e0d55eb0dab9row13_col1 {\n",
       "            background-color:  #6485ec;\n",
       "            color:  #000000;\n",
       "        }    #T_8f875090_11d8_11ea_95e7_e0d55eb0dab9row13_col2 {\n",
       "            background-color:  #3c4ec2;\n",
       "            color:  #f1f1f1;\n",
       "        }    #T_8f875090_11d8_11ea_95e7_e0d55eb0dab9row13_col3 {\n",
       "            background-color:  #9dbdff;\n",
       "            color:  #000000;\n",
       "        }    #T_8f875090_11d8_11ea_95e7_e0d55eb0dab9row13_col4 {\n",
       "            background-color:  #4257c9;\n",
       "            color:  #f1f1f1;\n",
       "        }    #T_8f875090_11d8_11ea_95e7_e0d55eb0dab9row13_col5 {\n",
       "            background-color:  #b8122a;\n",
       "            color:  #f1f1f1;\n",
       "        }    #T_8f875090_11d8_11ea_95e7_e0d55eb0dab9row13_col6 {\n",
       "            background-color:  #3b4cc0;\n",
       "            color:  #f1f1f1;\n",
       "        }    #T_8f875090_11d8_11ea_95e7_e0d55eb0dab9row13_col7 {\n",
       "            background-color:  #4a63d3;\n",
       "            color:  #f1f1f1;\n",
       "        }    #T_8f875090_11d8_11ea_95e7_e0d55eb0dab9row13_col8 {\n",
       "            background-color:  #688aef;\n",
       "            color:  #000000;\n",
       "        }    #T_8f875090_11d8_11ea_95e7_e0d55eb0dab9row13_col9 {\n",
       "            background-color:  #6485ec;\n",
       "            color:  #000000;\n",
       "        }    #T_8f875090_11d8_11ea_95e7_e0d55eb0dab9row13_col10 {\n",
       "            background-color:  #3c4ec2;\n",
       "            color:  #f1f1f1;\n",
       "        }    #T_8f875090_11d8_11ea_95e7_e0d55eb0dab9row13_col11 {\n",
       "            background-color:  #9fbfff;\n",
       "            color:  #000000;\n",
       "        }    #T_8f875090_11d8_11ea_95e7_e0d55eb0dab9row13_col12 {\n",
       "            background-color:  #4257c9;\n",
       "            color:  #f1f1f1;\n",
       "        }    #T_8f875090_11d8_11ea_95e7_e0d55eb0dab9row13_col13 {\n",
       "            background-color:  #b40426;\n",
       "            color:  #f1f1f1;\n",
       "        }    #T_8f875090_11d8_11ea_95e7_e0d55eb0dab9row13_col14 {\n",
       "            background-color:  #3b4cc0;\n",
       "            color:  #f1f1f1;\n",
       "        }    #T_8f875090_11d8_11ea_95e7_e0d55eb0dab9row13_col15 {\n",
       "            background-color:  #4a63d3;\n",
       "            color:  #f1f1f1;\n",
       "        }    #T_8f875090_11d8_11ea_95e7_e0d55eb0dab9row14_col0 {\n",
       "            background-color:  #cdd9ec;\n",
       "            color:  #000000;\n",
       "        }    #T_8f875090_11d8_11ea_95e7_e0d55eb0dab9row14_col1 {\n",
       "            background-color:  #a1c0ff;\n",
       "            color:  #000000;\n",
       "        }    #T_8f875090_11d8_11ea_95e7_e0d55eb0dab9row14_col2 {\n",
       "            background-color:  #f6a283;\n",
       "            color:  #000000;\n",
       "        }    #T_8f875090_11d8_11ea_95e7_e0d55eb0dab9row14_col3 {\n",
       "            background-color:  #f3c7b1;\n",
       "            color:  #000000;\n",
       "        }    #T_8f875090_11d8_11ea_95e7_e0d55eb0dab9row14_col4 {\n",
       "            background-color:  #f7b89c;\n",
       "            color:  #000000;\n",
       "        }    #T_8f875090_11d8_11ea_95e7_e0d55eb0dab9row14_col5 {\n",
       "            background-color:  #3b4cc0;\n",
       "            color:  #f1f1f1;\n",
       "        }    #T_8f875090_11d8_11ea_95e7_e0d55eb0dab9row14_col6 {\n",
       "            background-color:  #b8122a;\n",
       "            color:  #f1f1f1;\n",
       "        }    #T_8f875090_11d8_11ea_95e7_e0d55eb0dab9row14_col7 {\n",
       "            background-color:  #f7ba9f;\n",
       "            color:  #000000;\n",
       "        }    #T_8f875090_11d8_11ea_95e7_e0d55eb0dab9row14_col8 {\n",
       "            background-color:  #cdd9ec;\n",
       "            color:  #000000;\n",
       "        }    #T_8f875090_11d8_11ea_95e7_e0d55eb0dab9row14_col9 {\n",
       "            background-color:  #a1c0ff;\n",
       "            color:  #000000;\n",
       "        }    #T_8f875090_11d8_11ea_95e7_e0d55eb0dab9row14_col10 {\n",
       "            background-color:  #f5a081;\n",
       "            color:  #000000;\n",
       "        }    #T_8f875090_11d8_11ea_95e7_e0d55eb0dab9row14_col11 {\n",
       "            background-color:  #f3c7b1;\n",
       "            color:  #000000;\n",
       "        }    #T_8f875090_11d8_11ea_95e7_e0d55eb0dab9row14_col12 {\n",
       "            background-color:  #f7b79b;\n",
       "            color:  #000000;\n",
       "        }    #T_8f875090_11d8_11ea_95e7_e0d55eb0dab9row14_col13 {\n",
       "            background-color:  #3b4cc0;\n",
       "            color:  #f1f1f1;\n",
       "        }    #T_8f875090_11d8_11ea_95e7_e0d55eb0dab9row14_col14 {\n",
       "            background-color:  #b40426;\n",
       "            color:  #f1f1f1;\n",
       "        }    #T_8f875090_11d8_11ea_95e7_e0d55eb0dab9row14_col15 {\n",
       "            background-color:  #f7ba9f;\n",
       "            color:  #000000;\n",
       "        }    #T_8f875090_11d8_11ea_95e7_e0d55eb0dab9row15_col0 {\n",
       "            background-color:  #f1cdba;\n",
       "            color:  #000000;\n",
       "        }    #T_8f875090_11d8_11ea_95e7_e0d55eb0dab9row15_col1 {\n",
       "            background-color:  #80a3fa;\n",
       "            color:  #000000;\n",
       "        }    #T_8f875090_11d8_11ea_95e7_e0d55eb0dab9row15_col2 {\n",
       "            background-color:  #e16751;\n",
       "            color:  #000000;\n",
       "        }    #T_8f875090_11d8_11ea_95e7_e0d55eb0dab9row15_col3 {\n",
       "            background-color:  #f7aa8c;\n",
       "            color:  #000000;\n",
       "        }    #T_8f875090_11d8_11ea_95e7_e0d55eb0dab9row15_col4 {\n",
       "            background-color:  #d65244;\n",
       "            color:  #000000;\n",
       "        }    #T_8f875090_11d8_11ea_95e7_e0d55eb0dab9row15_col5 {\n",
       "            background-color:  #3b4cc0;\n",
       "            color:  #f1f1f1;\n",
       "        }    #T_8f875090_11d8_11ea_95e7_e0d55eb0dab9row15_col6 {\n",
       "            background-color:  #f5c0a7;\n",
       "            color:  #000000;\n",
       "        }    #T_8f875090_11d8_11ea_95e7_e0d55eb0dab9row15_col7 {\n",
       "            background-color:  #b8122a;\n",
       "            color:  #f1f1f1;\n",
       "        }    #T_8f875090_11d8_11ea_95e7_e0d55eb0dab9row15_col8 {\n",
       "            background-color:  #f1ccb8;\n",
       "            color:  #000000;\n",
       "        }    #T_8f875090_11d8_11ea_95e7_e0d55eb0dab9row15_col9 {\n",
       "            background-color:  #80a3fa;\n",
       "            color:  #000000;\n",
       "        }    #T_8f875090_11d8_11ea_95e7_e0d55eb0dab9row15_col10 {\n",
       "            background-color:  #e0654f;\n",
       "            color:  #000000;\n",
       "        }    #T_8f875090_11d8_11ea_95e7_e0d55eb0dab9row15_col11 {\n",
       "            background-color:  #f7a98b;\n",
       "            color:  #000000;\n",
       "        }    #T_8f875090_11d8_11ea_95e7_e0d55eb0dab9row15_col12 {\n",
       "            background-color:  #d55042;\n",
       "            color:  #000000;\n",
       "        }    #T_8f875090_11d8_11ea_95e7_e0d55eb0dab9row15_col13 {\n",
       "            background-color:  #3b4cc0;\n",
       "            color:  #f1f1f1;\n",
       "        }    #T_8f875090_11d8_11ea_95e7_e0d55eb0dab9row15_col14 {\n",
       "            background-color:  #f6bfa6;\n",
       "            color:  #000000;\n",
       "        }    #T_8f875090_11d8_11ea_95e7_e0d55eb0dab9row15_col15 {\n",
       "            background-color:  #b40426;\n",
       "            color:  #f1f1f1;\n",
       "        }</style><table id=\"T_8f875090_11d8_11ea_95e7_e0d55eb0dab9\" ><thead>    <tr>        <th class=\"blank level0\" ></th>        <th class=\"col_heading level0 col0\" >0</th>        <th class=\"col_heading level0 col1\" >1</th>        <th class=\"col_heading level0 col2\" >2</th>        <th class=\"col_heading level0 col3\" >3</th>        <th class=\"col_heading level0 col4\" >4</th>        <th class=\"col_heading level0 col5\" >5</th>        <th class=\"col_heading level0 col6\" >6</th>        <th class=\"col_heading level0 col7\" >7</th>        <th class=\"col_heading level0 col8\" >8</th>        <th class=\"col_heading level0 col9\" >9</th>        <th class=\"col_heading level0 col10\" >10</th>        <th class=\"col_heading level0 col11\" >11</th>        <th class=\"col_heading level0 col12\" >12</th>        <th class=\"col_heading level0 col13\" >13</th>        <th class=\"col_heading level0 col14\" >14</th>        <th class=\"col_heading level0 col15\" >15</th>    </tr></thead><tbody>\n",
       "                <tr>\n",
       "                        <th id=\"T_8f875090_11d8_11ea_95e7_e0d55eb0dab9level0_row0\" class=\"row_heading level0 row0\" >0</th>\n",
       "                        <td id=\"T_8f875090_11d8_11ea_95e7_e0d55eb0dab9row0_col0\" class=\"data row0 col0\" >1.0</td>\n",
       "                        <td id=\"T_8f875090_11d8_11ea_95e7_e0d55eb0dab9row0_col1\" class=\"data row0 col1\" >0.064</td>\n",
       "                        <td id=\"T_8f875090_11d8_11ea_95e7_e0d55eb0dab9row0_col2\" class=\"data row0 col2\" >0.48</td>\n",
       "                        <td id=\"T_8f875090_11d8_11ea_95e7_e0d55eb0dab9row0_col3\" class=\"data row0 col3\" >0.42</td>\n",
       "                        <td id=\"T_8f875090_11d8_11ea_95e7_e0d55eb0dab9row0_col4\" class=\"data row0 col4\" >0.58</td>\n",
       "                        <td id=\"T_8f875090_11d8_11ea_95e7_e0d55eb0dab9row0_col5\" class=\"data row0 col5\" >-0.023</td>\n",
       "                        <td id=\"T_8f875090_11d8_11ea_95e7_e0d55eb0dab9row0_col6\" class=\"data row0 col6\" >0.34</td>\n",
       "                        <td id=\"T_8f875090_11d8_11ea_95e7_e0d55eb0dab9row0_col7\" class=\"data row0 col7\" >0.54</td>\n",
       "                        <td id=\"T_8f875090_11d8_11ea_95e7_e0d55eb0dab9row0_col8\" class=\"data row0 col8\" >0.98</td>\n",
       "                        <td id=\"T_8f875090_11d8_11ea_95e7_e0d55eb0dab9row0_col9\" class=\"data row0 col9\" >0.063</td>\n",
       "                        <td id=\"T_8f875090_11d8_11ea_95e7_e0d55eb0dab9row0_col10\" class=\"data row0 col10\" >0.48</td>\n",
       "                        <td id=\"T_8f875090_11d8_11ea_95e7_e0d55eb0dab9row0_col11\" class=\"data row0 col11\" >0.42</td>\n",
       "                        <td id=\"T_8f875090_11d8_11ea_95e7_e0d55eb0dab9row0_col12\" class=\"data row0 col12\" >0.58</td>\n",
       "                        <td id=\"T_8f875090_11d8_11ea_95e7_e0d55eb0dab9row0_col13\" class=\"data row0 col13\" >-0.021</td>\n",
       "                        <td id=\"T_8f875090_11d8_11ea_95e7_e0d55eb0dab9row0_col14\" class=\"data row0 col14\" >0.33</td>\n",
       "                        <td id=\"T_8f875090_11d8_11ea_95e7_e0d55eb0dab9row0_col15\" class=\"data row0 col15\" >0.54</td>\n",
       "            </tr>\n",
       "            <tr>\n",
       "                        <th id=\"T_8f875090_11d8_11ea_95e7_e0d55eb0dab9level0_row1\" class=\"row_heading level0 row1\" >1</th>\n",
       "                        <td id=\"T_8f875090_11d8_11ea_95e7_e0d55eb0dab9row1_col0\" class=\"data row1 col0\" >0.064</td>\n",
       "                        <td id=\"T_8f875090_11d8_11ea_95e7_e0d55eb0dab9row1_col1\" class=\"data row1 col1\" >1.0</td>\n",
       "                        <td id=\"T_8f875090_11d8_11ea_95e7_e0d55eb0dab9row1_col2\" class=\"data row1 col2\" >0.19</td>\n",
       "                        <td id=\"T_8f875090_11d8_11ea_95e7_e0d55eb0dab9row1_col3\" class=\"data row1 col3\" >0.16</td>\n",
       "                        <td id=\"T_8f875090_11d8_11ea_95e7_e0d55eb0dab9row1_col4\" class=\"data row1 col4\" >0.12</td>\n",
       "                        <td id=\"T_8f875090_11d8_11ea_95e7_e0d55eb0dab9row1_col5\" class=\"data row1 col5\" >-0.035</td>\n",
       "                        <td id=\"T_8f875090_11d8_11ea_95e7_e0d55eb0dab9row1_col6\" class=\"data row1 col6\" >0.17</td>\n",
       "                        <td id=\"T_8f875090_11d8_11ea_95e7_e0d55eb0dab9row1_col7\" class=\"data row1 col7\" >0.11</td>\n",
       "                        <td id=\"T_8f875090_11d8_11ea_95e7_e0d55eb0dab9row1_col8\" class=\"data row1 col8\" >0.062</td>\n",
       "                        <td id=\"T_8f875090_11d8_11ea_95e7_e0d55eb0dab9row1_col9\" class=\"data row1 col9\" >0.98</td>\n",
       "                        <td id=\"T_8f875090_11d8_11ea_95e7_e0d55eb0dab9row1_col10\" class=\"data row1 col10\" >0.19</td>\n",
       "                        <td id=\"T_8f875090_11d8_11ea_95e7_e0d55eb0dab9row1_col11\" class=\"data row1 col11\" >0.16</td>\n",
       "                        <td id=\"T_8f875090_11d8_11ea_95e7_e0d55eb0dab9row1_col12\" class=\"data row1 col12\" >0.12</td>\n",
       "                        <td id=\"T_8f875090_11d8_11ea_95e7_e0d55eb0dab9row1_col13\" class=\"data row1 col13\" >-0.035</td>\n",
       "                        <td id=\"T_8f875090_11d8_11ea_95e7_e0d55eb0dab9row1_col14\" class=\"data row1 col14\" >0.17</td>\n",
       "                        <td id=\"T_8f875090_11d8_11ea_95e7_e0d55eb0dab9row1_col15\" class=\"data row1 col15\" >0.11</td>\n",
       "            </tr>\n",
       "            <tr>\n",
       "                        <th id=\"T_8f875090_11d8_11ea_95e7_e0d55eb0dab9level0_row2\" class=\"row_heading level0 row2\" >2</th>\n",
       "                        <td id=\"T_8f875090_11d8_11ea_95e7_e0d55eb0dab9row2_col0\" class=\"data row2 col0\" >0.48</td>\n",
       "                        <td id=\"T_8f875090_11d8_11ea_95e7_e0d55eb0dab9row2_col1\" class=\"data row2 col1\" >0.19</td>\n",
       "                        <td id=\"T_8f875090_11d8_11ea_95e7_e0d55eb0dab9row2_col2\" class=\"data row2 col2\" >1.0</td>\n",
       "                        <td id=\"T_8f875090_11d8_11ea_95e7_e0d55eb0dab9row2_col3\" class=\"data row2 col3\" >0.8</td>\n",
       "                        <td id=\"T_8f875090_11d8_11ea_95e7_e0d55eb0dab9row2_col4\" class=\"data row2 col4\" >0.83</td>\n",
       "                        <td id=\"T_8f875090_11d8_11ea_95e7_e0d55eb0dab9row2_col5\" class=\"data row2 col5\" >-0.19</td>\n",
       "                        <td id=\"T_8f875090_11d8_11ea_95e7_e0d55eb0dab9row2_col6\" class=\"data row2 col6\" >0.68</td>\n",
       "                        <td id=\"T_8f875090_11d8_11ea_95e7_e0d55eb0dab9row2_col7\" class=\"data row2 col7\" >0.85</td>\n",
       "                        <td id=\"T_8f875090_11d8_11ea_95e7_e0d55eb0dab9row2_col8\" class=\"data row2 col8\" >0.48</td>\n",
       "                        <td id=\"T_8f875090_11d8_11ea_95e7_e0d55eb0dab9row2_col9\" class=\"data row2 col9\" >0.19</td>\n",
       "                        <td id=\"T_8f875090_11d8_11ea_95e7_e0d55eb0dab9row2_col10\" class=\"data row2 col10\" >0.99</td>\n",
       "                        <td id=\"T_8f875090_11d8_11ea_95e7_e0d55eb0dab9row2_col11\" class=\"data row2 col11\" >0.79</td>\n",
       "                        <td id=\"T_8f875090_11d8_11ea_95e7_e0d55eb0dab9row2_col12\" class=\"data row2 col12\" >0.83</td>\n",
       "                        <td id=\"T_8f875090_11d8_11ea_95e7_e0d55eb0dab9row2_col13\" class=\"data row2 col13\" >-0.19</td>\n",
       "                        <td id=\"T_8f875090_11d8_11ea_95e7_e0d55eb0dab9row2_col14\" class=\"data row2 col14\" >0.67</td>\n",
       "                        <td id=\"T_8f875090_11d8_11ea_95e7_e0d55eb0dab9row2_col15\" class=\"data row2 col15\" >0.84</td>\n",
       "            </tr>\n",
       "            <tr>\n",
       "                        <th id=\"T_8f875090_11d8_11ea_95e7_e0d55eb0dab9level0_row3\" class=\"row_heading level0 row3\" >3</th>\n",
       "                        <td id=\"T_8f875090_11d8_11ea_95e7_e0d55eb0dab9row3_col0\" class=\"data row3 col0\" >0.42</td>\n",
       "                        <td id=\"T_8f875090_11d8_11ea_95e7_e0d55eb0dab9row3_col1\" class=\"data row3 col1\" >0.16</td>\n",
       "                        <td id=\"T_8f875090_11d8_11ea_95e7_e0d55eb0dab9row3_col2\" class=\"data row3 col2\" >0.8</td>\n",
       "                        <td id=\"T_8f875090_11d8_11ea_95e7_e0d55eb0dab9row3_col3\" class=\"data row3 col3\" >1.0</td>\n",
       "                        <td id=\"T_8f875090_11d8_11ea_95e7_e0d55eb0dab9row3_col4\" class=\"data row3 col4\" >0.67</td>\n",
       "                        <td id=\"T_8f875090_11d8_11ea_95e7_e0d55eb0dab9row3_col5\" class=\"data row3 col5\" >0.16</td>\n",
       "                        <td id=\"T_8f875090_11d8_11ea_95e7_e0d55eb0dab9row3_col6\" class=\"data row3 col6\" >0.54</td>\n",
       "                        <td id=\"T_8f875090_11d8_11ea_95e7_e0d55eb0dab9row3_col7\" class=\"data row3 col7\" >0.67</td>\n",
       "                        <td id=\"T_8f875090_11d8_11ea_95e7_e0d55eb0dab9row3_col8\" class=\"data row3 col8\" >0.42</td>\n",
       "                        <td id=\"T_8f875090_11d8_11ea_95e7_e0d55eb0dab9row3_col9\" class=\"data row3 col9\" >0.16</td>\n",
       "                        <td id=\"T_8f875090_11d8_11ea_95e7_e0d55eb0dab9row3_col10\" class=\"data row3 col10\" >0.79</td>\n",
       "                        <td id=\"T_8f875090_11d8_11ea_95e7_e0d55eb0dab9row3_col11\" class=\"data row3 col11\" >0.99</td>\n",
       "                        <td id=\"T_8f875090_11d8_11ea_95e7_e0d55eb0dab9row3_col12\" class=\"data row3 col12\" >0.67</td>\n",
       "                        <td id=\"T_8f875090_11d8_11ea_95e7_e0d55eb0dab9row3_col13\" class=\"data row3 col13\" >0.16</td>\n",
       "                        <td id=\"T_8f875090_11d8_11ea_95e7_e0d55eb0dab9row3_col14\" class=\"data row3 col14\" >0.54</td>\n",
       "                        <td id=\"T_8f875090_11d8_11ea_95e7_e0d55eb0dab9row3_col15\" class=\"data row3 col15\" >0.67</td>\n",
       "            </tr>\n",
       "            <tr>\n",
       "                        <th id=\"T_8f875090_11d8_11ea_95e7_e0d55eb0dab9level0_row4\" class=\"row_heading level0 row4\" >4</th>\n",
       "                        <td id=\"T_8f875090_11d8_11ea_95e7_e0d55eb0dab9row4_col0\" class=\"data row4 col0\" >0.58</td>\n",
       "                        <td id=\"T_8f875090_11d8_11ea_95e7_e0d55eb0dab9row4_col1\" class=\"data row4 col1\" >0.12</td>\n",
       "                        <td id=\"T_8f875090_11d8_11ea_95e7_e0d55eb0dab9row4_col2\" class=\"data row4 col2\" >0.83</td>\n",
       "                        <td id=\"T_8f875090_11d8_11ea_95e7_e0d55eb0dab9row4_col3\" class=\"data row4 col3\" >0.67</td>\n",
       "                        <td id=\"T_8f875090_11d8_11ea_95e7_e0d55eb0dab9row4_col4\" class=\"data row4 col4\" >1.0</td>\n",
       "                        <td id=\"T_8f875090_11d8_11ea_95e7_e0d55eb0dab9row4_col5\" class=\"data row4 col5\" >-0.17</td>\n",
       "                        <td id=\"T_8f875090_11d8_11ea_95e7_e0d55eb0dab9row4_col6\" class=\"data row4 col6\" >0.61</td>\n",
       "                        <td id=\"T_8f875090_11d8_11ea_95e7_e0d55eb0dab9row4_col7\" class=\"data row4 col7\" >0.9</td>\n",
       "                        <td id=\"T_8f875090_11d8_11ea_95e7_e0d55eb0dab9row4_col8\" class=\"data row4 col8\" >0.57</td>\n",
       "                        <td id=\"T_8f875090_11d8_11ea_95e7_e0d55eb0dab9row4_col9\" class=\"data row4 col9\" >0.12</td>\n",
       "                        <td id=\"T_8f875090_11d8_11ea_95e7_e0d55eb0dab9row4_col10\" class=\"data row4 col10\" >0.83</td>\n",
       "                        <td id=\"T_8f875090_11d8_11ea_95e7_e0d55eb0dab9row4_col11\" class=\"data row4 col11\" >0.67</td>\n",
       "                        <td id=\"T_8f875090_11d8_11ea_95e7_e0d55eb0dab9row4_col12\" class=\"data row4 col12\" >0.99</td>\n",
       "                        <td id=\"T_8f875090_11d8_11ea_95e7_e0d55eb0dab9row4_col13\" class=\"data row4 col13\" >-0.16</td>\n",
       "                        <td id=\"T_8f875090_11d8_11ea_95e7_e0d55eb0dab9row4_col14\" class=\"data row4 col14\" >0.6</td>\n",
       "                        <td id=\"T_8f875090_11d8_11ea_95e7_e0d55eb0dab9row4_col15\" class=\"data row4 col15\" >0.88</td>\n",
       "            </tr>\n",
       "            <tr>\n",
       "                        <th id=\"T_8f875090_11d8_11ea_95e7_e0d55eb0dab9level0_row5\" class=\"row_heading level0 row5\" >5</th>\n",
       "                        <td id=\"T_8f875090_11d8_11ea_95e7_e0d55eb0dab9row5_col0\" class=\"data row5 col0\" >-0.023</td>\n",
       "                        <td id=\"T_8f875090_11d8_11ea_95e7_e0d55eb0dab9row5_col1\" class=\"data row5 col1\" >-0.035</td>\n",
       "                        <td id=\"T_8f875090_11d8_11ea_95e7_e0d55eb0dab9row5_col2\" class=\"data row5 col2\" >-0.19</td>\n",
       "                        <td id=\"T_8f875090_11d8_11ea_95e7_e0d55eb0dab9row5_col3\" class=\"data row5 col3\" >0.16</td>\n",
       "                        <td id=\"T_8f875090_11d8_11ea_95e7_e0d55eb0dab9row5_col4\" class=\"data row5 col4\" >-0.17</td>\n",
       "                        <td id=\"T_8f875090_11d8_11ea_95e7_e0d55eb0dab9row5_col5\" class=\"data row5 col5\" >1.0</td>\n",
       "                        <td id=\"T_8f875090_11d8_11ea_95e7_e0d55eb0dab9row5_col6\" class=\"data row5 col6\" >-0.2</td>\n",
       "                        <td id=\"T_8f875090_11d8_11ea_95e7_e0d55eb0dab9row5_col7\" class=\"data row5 col7\" >-0.14</td>\n",
       "                        <td id=\"T_8f875090_11d8_11ea_95e7_e0d55eb0dab9row5_col8\" class=\"data row5 col8\" >-0.02</td>\n",
       "                        <td id=\"T_8f875090_11d8_11ea_95e7_e0d55eb0dab9row5_col9\" class=\"data row5 col9\" >-0.035</td>\n",
       "                        <td id=\"T_8f875090_11d8_11ea_95e7_e0d55eb0dab9row5_col10\" class=\"data row5 col10\" >-0.19</td>\n",
       "                        <td id=\"T_8f875090_11d8_11ea_95e7_e0d55eb0dab9row5_col11\" class=\"data row5 col11\" >0.16</td>\n",
       "                        <td id=\"T_8f875090_11d8_11ea_95e7_e0d55eb0dab9row5_col12\" class=\"data row5 col12\" >-0.16</td>\n",
       "                        <td id=\"T_8f875090_11d8_11ea_95e7_e0d55eb0dab9row5_col13\" class=\"data row5 col13\" >0.98</td>\n",
       "                        <td id=\"T_8f875090_11d8_11ea_95e7_e0d55eb0dab9row5_col14\" class=\"data row5 col14\" >-0.19</td>\n",
       "                        <td id=\"T_8f875090_11d8_11ea_95e7_e0d55eb0dab9row5_col15\" class=\"data row5 col15\" >-0.13</td>\n",
       "            </tr>\n",
       "            <tr>\n",
       "                        <th id=\"T_8f875090_11d8_11ea_95e7_e0d55eb0dab9level0_row6\" class=\"row_heading level0 row6\" >6</th>\n",
       "                        <td id=\"T_8f875090_11d8_11ea_95e7_e0d55eb0dab9row6_col0\" class=\"data row6 col0\" >0.34</td>\n",
       "                        <td id=\"T_8f875090_11d8_11ea_95e7_e0d55eb0dab9row6_col1\" class=\"data row6 col1\" >0.17</td>\n",
       "                        <td id=\"T_8f875090_11d8_11ea_95e7_e0d55eb0dab9row6_col2\" class=\"data row6 col2\" >0.68</td>\n",
       "                        <td id=\"T_8f875090_11d8_11ea_95e7_e0d55eb0dab9row6_col3\" class=\"data row6 col3\" >0.54</td>\n",
       "                        <td id=\"T_8f875090_11d8_11ea_95e7_e0d55eb0dab9row6_col4\" class=\"data row6 col4\" >0.61</td>\n",
       "                        <td id=\"T_8f875090_11d8_11ea_95e7_e0d55eb0dab9row6_col5\" class=\"data row6 col5\" >-0.2</td>\n",
       "                        <td id=\"T_8f875090_11d8_11ea_95e7_e0d55eb0dab9row6_col6\" class=\"data row6 col6\" >1.0</td>\n",
       "                        <td id=\"T_8f875090_11d8_11ea_95e7_e0d55eb0dab9row6_col7\" class=\"data row6 col7\" >0.6</td>\n",
       "                        <td id=\"T_8f875090_11d8_11ea_95e7_e0d55eb0dab9row6_col8\" class=\"data row6 col8\" >0.33</td>\n",
       "                        <td id=\"T_8f875090_11d8_11ea_95e7_e0d55eb0dab9row6_col9\" class=\"data row6 col9\" >0.17</td>\n",
       "                        <td id=\"T_8f875090_11d8_11ea_95e7_e0d55eb0dab9row6_col10\" class=\"data row6 col10\" >0.68</td>\n",
       "                        <td id=\"T_8f875090_11d8_11ea_95e7_e0d55eb0dab9row6_col11\" class=\"data row6 col11\" >0.54</td>\n",
       "                        <td id=\"T_8f875090_11d8_11ea_95e7_e0d55eb0dab9row6_col12\" class=\"data row6 col12\" >0.6</td>\n",
       "                        <td id=\"T_8f875090_11d8_11ea_95e7_e0d55eb0dab9row6_col13\" class=\"data row6 col13\" >-0.19</td>\n",
       "                        <td id=\"T_8f875090_11d8_11ea_95e7_e0d55eb0dab9row6_col14\" class=\"data row6 col14\" >0.98</td>\n",
       "                        <td id=\"T_8f875090_11d8_11ea_95e7_e0d55eb0dab9row6_col15\" class=\"data row6 col15\" >0.59</td>\n",
       "            </tr>\n",
       "            <tr>\n",
       "                        <th id=\"T_8f875090_11d8_11ea_95e7_e0d55eb0dab9level0_row7\" class=\"row_heading level0 row7\" >7</th>\n",
       "                        <td id=\"T_8f875090_11d8_11ea_95e7_e0d55eb0dab9row7_col0\" class=\"data row7 col0\" >0.54</td>\n",
       "                        <td id=\"T_8f875090_11d8_11ea_95e7_e0d55eb0dab9row7_col1\" class=\"data row7 col1\" >0.11</td>\n",
       "                        <td id=\"T_8f875090_11d8_11ea_95e7_e0d55eb0dab9row7_col2\" class=\"data row7 col2\" >0.85</td>\n",
       "                        <td id=\"T_8f875090_11d8_11ea_95e7_e0d55eb0dab9row7_col3\" class=\"data row7 col3\" >0.67</td>\n",
       "                        <td id=\"T_8f875090_11d8_11ea_95e7_e0d55eb0dab9row7_col4\" class=\"data row7 col4\" >0.9</td>\n",
       "                        <td id=\"T_8f875090_11d8_11ea_95e7_e0d55eb0dab9row7_col5\" class=\"data row7 col5\" >-0.14</td>\n",
       "                        <td id=\"T_8f875090_11d8_11ea_95e7_e0d55eb0dab9row7_col6\" class=\"data row7 col6\" >0.6</td>\n",
       "                        <td id=\"T_8f875090_11d8_11ea_95e7_e0d55eb0dab9row7_col7\" class=\"data row7 col7\" >1.0</td>\n",
       "                        <td id=\"T_8f875090_11d8_11ea_95e7_e0d55eb0dab9row7_col8\" class=\"data row7 col8\" >0.54</td>\n",
       "                        <td id=\"T_8f875090_11d8_11ea_95e7_e0d55eb0dab9row7_col9\" class=\"data row7 col9\" >0.11</td>\n",
       "                        <td id=\"T_8f875090_11d8_11ea_95e7_e0d55eb0dab9row7_col10\" class=\"data row7 col10\" >0.85</td>\n",
       "                        <td id=\"T_8f875090_11d8_11ea_95e7_e0d55eb0dab9row7_col11\" class=\"data row7 col11\" >0.67</td>\n",
       "                        <td id=\"T_8f875090_11d8_11ea_95e7_e0d55eb0dab9row7_col12\" class=\"data row7 col12\" >0.89</td>\n",
       "                        <td id=\"T_8f875090_11d8_11ea_95e7_e0d55eb0dab9row7_col13\" class=\"data row7 col13\" >-0.14</td>\n",
       "                        <td id=\"T_8f875090_11d8_11ea_95e7_e0d55eb0dab9row7_col14\" class=\"data row7 col14\" >0.59</td>\n",
       "                        <td id=\"T_8f875090_11d8_11ea_95e7_e0d55eb0dab9row7_col15\" class=\"data row7 col15\" >0.98</td>\n",
       "            </tr>\n",
       "            <tr>\n",
       "                        <th id=\"T_8f875090_11d8_11ea_95e7_e0d55eb0dab9level0_row8\" class=\"row_heading level0 row8\" >8</th>\n",
       "                        <td id=\"T_8f875090_11d8_11ea_95e7_e0d55eb0dab9row8_col0\" class=\"data row8 col0\" >0.98</td>\n",
       "                        <td id=\"T_8f875090_11d8_11ea_95e7_e0d55eb0dab9row8_col1\" class=\"data row8 col1\" >0.062</td>\n",
       "                        <td id=\"T_8f875090_11d8_11ea_95e7_e0d55eb0dab9row8_col2\" class=\"data row8 col2\" >0.48</td>\n",
       "                        <td id=\"T_8f875090_11d8_11ea_95e7_e0d55eb0dab9row8_col3\" class=\"data row8 col3\" >0.42</td>\n",
       "                        <td id=\"T_8f875090_11d8_11ea_95e7_e0d55eb0dab9row8_col4\" class=\"data row8 col4\" >0.57</td>\n",
       "                        <td id=\"T_8f875090_11d8_11ea_95e7_e0d55eb0dab9row8_col5\" class=\"data row8 col5\" >-0.02</td>\n",
       "                        <td id=\"T_8f875090_11d8_11ea_95e7_e0d55eb0dab9row8_col6\" class=\"data row8 col6\" >0.33</td>\n",
       "                        <td id=\"T_8f875090_11d8_11ea_95e7_e0d55eb0dab9row8_col7\" class=\"data row8 col7\" >0.54</td>\n",
       "                        <td id=\"T_8f875090_11d8_11ea_95e7_e0d55eb0dab9row8_col8\" class=\"data row8 col8\" >1.0</td>\n",
       "                        <td id=\"T_8f875090_11d8_11ea_95e7_e0d55eb0dab9row8_col9\" class=\"data row8 col9\" >0.062</td>\n",
       "                        <td id=\"T_8f875090_11d8_11ea_95e7_e0d55eb0dab9row8_col10\" class=\"data row8 col10\" >0.48</td>\n",
       "                        <td id=\"T_8f875090_11d8_11ea_95e7_e0d55eb0dab9row8_col11\" class=\"data row8 col11\" >0.42</td>\n",
       "                        <td id=\"T_8f875090_11d8_11ea_95e7_e0d55eb0dab9row8_col12\" class=\"data row8 col12\" >0.58</td>\n",
       "                        <td id=\"T_8f875090_11d8_11ea_95e7_e0d55eb0dab9row8_col13\" class=\"data row8 col13\" >-0.021</td>\n",
       "                        <td id=\"T_8f875090_11d8_11ea_95e7_e0d55eb0dab9row8_col14\" class=\"data row8 col14\" >0.34</td>\n",
       "                        <td id=\"T_8f875090_11d8_11ea_95e7_e0d55eb0dab9row8_col15\" class=\"data row8 col15\" >0.54</td>\n",
       "            </tr>\n",
       "            <tr>\n",
       "                        <th id=\"T_8f875090_11d8_11ea_95e7_e0d55eb0dab9level0_row9\" class=\"row_heading level0 row9\" >9</th>\n",
       "                        <td id=\"T_8f875090_11d8_11ea_95e7_e0d55eb0dab9row9_col0\" class=\"data row9 col0\" >0.063</td>\n",
       "                        <td id=\"T_8f875090_11d8_11ea_95e7_e0d55eb0dab9row9_col1\" class=\"data row9 col1\" >0.98</td>\n",
       "                        <td id=\"T_8f875090_11d8_11ea_95e7_e0d55eb0dab9row9_col2\" class=\"data row9 col2\" >0.19</td>\n",
       "                        <td id=\"T_8f875090_11d8_11ea_95e7_e0d55eb0dab9row9_col3\" class=\"data row9 col3\" >0.16</td>\n",
       "                        <td id=\"T_8f875090_11d8_11ea_95e7_e0d55eb0dab9row9_col4\" class=\"data row9 col4\" >0.12</td>\n",
       "                        <td id=\"T_8f875090_11d8_11ea_95e7_e0d55eb0dab9row9_col5\" class=\"data row9 col5\" >-0.035</td>\n",
       "                        <td id=\"T_8f875090_11d8_11ea_95e7_e0d55eb0dab9row9_col6\" class=\"data row9 col6\" >0.17</td>\n",
       "                        <td id=\"T_8f875090_11d8_11ea_95e7_e0d55eb0dab9row9_col7\" class=\"data row9 col7\" >0.11</td>\n",
       "                        <td id=\"T_8f875090_11d8_11ea_95e7_e0d55eb0dab9row9_col8\" class=\"data row9 col8\" >0.062</td>\n",
       "                        <td id=\"T_8f875090_11d8_11ea_95e7_e0d55eb0dab9row9_col9\" class=\"data row9 col9\" >1.0</td>\n",
       "                        <td id=\"T_8f875090_11d8_11ea_95e7_e0d55eb0dab9row9_col10\" class=\"data row9 col10\" >0.19</td>\n",
       "                        <td id=\"T_8f875090_11d8_11ea_95e7_e0d55eb0dab9row9_col11\" class=\"data row9 col11\" >0.16</td>\n",
       "                        <td id=\"T_8f875090_11d8_11ea_95e7_e0d55eb0dab9row9_col12\" class=\"data row9 col12\" >0.12</td>\n",
       "                        <td id=\"T_8f875090_11d8_11ea_95e7_e0d55eb0dab9row9_col13\" class=\"data row9 col13\" >-0.035</td>\n",
       "                        <td id=\"T_8f875090_11d8_11ea_95e7_e0d55eb0dab9row9_col14\" class=\"data row9 col14\" >0.17</td>\n",
       "                        <td id=\"T_8f875090_11d8_11ea_95e7_e0d55eb0dab9row9_col15\" class=\"data row9 col15\" >0.11</td>\n",
       "            </tr>\n",
       "            <tr>\n",
       "                        <th id=\"T_8f875090_11d8_11ea_95e7_e0d55eb0dab9level0_row10\" class=\"row_heading level0 row10\" >10</th>\n",
       "                        <td id=\"T_8f875090_11d8_11ea_95e7_e0d55eb0dab9row10_col0\" class=\"data row10 col0\" >0.48</td>\n",
       "                        <td id=\"T_8f875090_11d8_11ea_95e7_e0d55eb0dab9row10_col1\" class=\"data row10 col1\" >0.19</td>\n",
       "                        <td id=\"T_8f875090_11d8_11ea_95e7_e0d55eb0dab9row10_col2\" class=\"data row10 col2\" >0.99</td>\n",
       "                        <td id=\"T_8f875090_11d8_11ea_95e7_e0d55eb0dab9row10_col3\" class=\"data row10 col3\" >0.79</td>\n",
       "                        <td id=\"T_8f875090_11d8_11ea_95e7_e0d55eb0dab9row10_col4\" class=\"data row10 col4\" >0.83</td>\n",
       "                        <td id=\"T_8f875090_11d8_11ea_95e7_e0d55eb0dab9row10_col5\" class=\"data row10 col5\" >-0.19</td>\n",
       "                        <td id=\"T_8f875090_11d8_11ea_95e7_e0d55eb0dab9row10_col6\" class=\"data row10 col6\" >0.68</td>\n",
       "                        <td id=\"T_8f875090_11d8_11ea_95e7_e0d55eb0dab9row10_col7\" class=\"data row10 col7\" >0.85</td>\n",
       "                        <td id=\"T_8f875090_11d8_11ea_95e7_e0d55eb0dab9row10_col8\" class=\"data row10 col8\" >0.48</td>\n",
       "                        <td id=\"T_8f875090_11d8_11ea_95e7_e0d55eb0dab9row10_col9\" class=\"data row10 col9\" >0.19</td>\n",
       "                        <td id=\"T_8f875090_11d8_11ea_95e7_e0d55eb0dab9row10_col10\" class=\"data row10 col10\" >1.0</td>\n",
       "                        <td id=\"T_8f875090_11d8_11ea_95e7_e0d55eb0dab9row10_col11\" class=\"data row10 col11\" >0.8</td>\n",
       "                        <td id=\"T_8f875090_11d8_11ea_95e7_e0d55eb0dab9row10_col12\" class=\"data row10 col12\" >0.83</td>\n",
       "                        <td id=\"T_8f875090_11d8_11ea_95e7_e0d55eb0dab9row10_col13\" class=\"data row10 col13\" >-0.19</td>\n",
       "                        <td id=\"T_8f875090_11d8_11ea_95e7_e0d55eb0dab9row10_col14\" class=\"data row10 col14\" >0.68</td>\n",
       "                        <td id=\"T_8f875090_11d8_11ea_95e7_e0d55eb0dab9row10_col15\" class=\"data row10 col15\" >0.85</td>\n",
       "            </tr>\n",
       "            <tr>\n",
       "                        <th id=\"T_8f875090_11d8_11ea_95e7_e0d55eb0dab9level0_row11\" class=\"row_heading level0 row11\" >11</th>\n",
       "                        <td id=\"T_8f875090_11d8_11ea_95e7_e0d55eb0dab9row11_col0\" class=\"data row11 col0\" >0.42</td>\n",
       "                        <td id=\"T_8f875090_11d8_11ea_95e7_e0d55eb0dab9row11_col1\" class=\"data row11 col1\" >0.16</td>\n",
       "                        <td id=\"T_8f875090_11d8_11ea_95e7_e0d55eb0dab9row11_col2\" class=\"data row11 col2\" >0.79</td>\n",
       "                        <td id=\"T_8f875090_11d8_11ea_95e7_e0d55eb0dab9row11_col3\" class=\"data row11 col3\" >0.99</td>\n",
       "                        <td id=\"T_8f875090_11d8_11ea_95e7_e0d55eb0dab9row11_col4\" class=\"data row11 col4\" >0.67</td>\n",
       "                        <td id=\"T_8f875090_11d8_11ea_95e7_e0d55eb0dab9row11_col5\" class=\"data row11 col5\" >0.16</td>\n",
       "                        <td id=\"T_8f875090_11d8_11ea_95e7_e0d55eb0dab9row11_col6\" class=\"data row11 col6\" >0.54</td>\n",
       "                        <td id=\"T_8f875090_11d8_11ea_95e7_e0d55eb0dab9row11_col7\" class=\"data row11 col7\" >0.67</td>\n",
       "                        <td id=\"T_8f875090_11d8_11ea_95e7_e0d55eb0dab9row11_col8\" class=\"data row11 col8\" >0.42</td>\n",
       "                        <td id=\"T_8f875090_11d8_11ea_95e7_e0d55eb0dab9row11_col9\" class=\"data row11 col9\" >0.16</td>\n",
       "                        <td id=\"T_8f875090_11d8_11ea_95e7_e0d55eb0dab9row11_col10\" class=\"data row11 col10\" >0.8</td>\n",
       "                        <td id=\"T_8f875090_11d8_11ea_95e7_e0d55eb0dab9row11_col11\" class=\"data row11 col11\" >1.0</td>\n",
       "                        <td id=\"T_8f875090_11d8_11ea_95e7_e0d55eb0dab9row11_col12\" class=\"data row11 col12\" >0.67</td>\n",
       "                        <td id=\"T_8f875090_11d8_11ea_95e7_e0d55eb0dab9row11_col13\" class=\"data row11 col13\" >0.17</td>\n",
       "                        <td id=\"T_8f875090_11d8_11ea_95e7_e0d55eb0dab9row11_col14\" class=\"data row11 col14\" >0.54</td>\n",
       "                        <td id=\"T_8f875090_11d8_11ea_95e7_e0d55eb0dab9row11_col15\" class=\"data row11 col15\" >0.67</td>\n",
       "            </tr>\n",
       "            <tr>\n",
       "                        <th id=\"T_8f875090_11d8_11ea_95e7_e0d55eb0dab9level0_row12\" class=\"row_heading level0 row12\" >12</th>\n",
       "                        <td id=\"T_8f875090_11d8_11ea_95e7_e0d55eb0dab9row12_col0\" class=\"data row12 col0\" >0.58</td>\n",
       "                        <td id=\"T_8f875090_11d8_11ea_95e7_e0d55eb0dab9row12_col1\" class=\"data row12 col1\" >0.12</td>\n",
       "                        <td id=\"T_8f875090_11d8_11ea_95e7_e0d55eb0dab9row12_col2\" class=\"data row12 col2\" >0.83</td>\n",
       "                        <td id=\"T_8f875090_11d8_11ea_95e7_e0d55eb0dab9row12_col3\" class=\"data row12 col3\" >0.67</td>\n",
       "                        <td id=\"T_8f875090_11d8_11ea_95e7_e0d55eb0dab9row12_col4\" class=\"data row12 col4\" >0.99</td>\n",
       "                        <td id=\"T_8f875090_11d8_11ea_95e7_e0d55eb0dab9row12_col5\" class=\"data row12 col5\" >-0.16</td>\n",
       "                        <td id=\"T_8f875090_11d8_11ea_95e7_e0d55eb0dab9row12_col6\" class=\"data row12 col6\" >0.6</td>\n",
       "                        <td id=\"T_8f875090_11d8_11ea_95e7_e0d55eb0dab9row12_col7\" class=\"data row12 col7\" >0.89</td>\n",
       "                        <td id=\"T_8f875090_11d8_11ea_95e7_e0d55eb0dab9row12_col8\" class=\"data row12 col8\" >0.58</td>\n",
       "                        <td id=\"T_8f875090_11d8_11ea_95e7_e0d55eb0dab9row12_col9\" class=\"data row12 col9\" >0.12</td>\n",
       "                        <td id=\"T_8f875090_11d8_11ea_95e7_e0d55eb0dab9row12_col10\" class=\"data row12 col10\" >0.83</td>\n",
       "                        <td id=\"T_8f875090_11d8_11ea_95e7_e0d55eb0dab9row12_col11\" class=\"data row12 col11\" >0.67</td>\n",
       "                        <td id=\"T_8f875090_11d8_11ea_95e7_e0d55eb0dab9row12_col12\" class=\"data row12 col12\" >1.0</td>\n",
       "                        <td id=\"T_8f875090_11d8_11ea_95e7_e0d55eb0dab9row12_col13\" class=\"data row12 col13\" >-0.17</td>\n",
       "                        <td id=\"T_8f875090_11d8_11ea_95e7_e0d55eb0dab9row12_col14\" class=\"data row12 col14\" >0.6</td>\n",
       "                        <td id=\"T_8f875090_11d8_11ea_95e7_e0d55eb0dab9row12_col15\" class=\"data row12 col15\" >0.89</td>\n",
       "            </tr>\n",
       "            <tr>\n",
       "                        <th id=\"T_8f875090_11d8_11ea_95e7_e0d55eb0dab9level0_row13\" class=\"row_heading level0 row13\" >13</th>\n",
       "                        <td id=\"T_8f875090_11d8_11ea_95e7_e0d55eb0dab9row13_col0\" class=\"data row13 col0\" >-0.021</td>\n",
       "                        <td id=\"T_8f875090_11d8_11ea_95e7_e0d55eb0dab9row13_col1\" class=\"data row13 col1\" >-0.035</td>\n",
       "                        <td id=\"T_8f875090_11d8_11ea_95e7_e0d55eb0dab9row13_col2\" class=\"data row13 col2\" >-0.19</td>\n",
       "                        <td id=\"T_8f875090_11d8_11ea_95e7_e0d55eb0dab9row13_col3\" class=\"data row13 col3\" >0.16</td>\n",
       "                        <td id=\"T_8f875090_11d8_11ea_95e7_e0d55eb0dab9row13_col4\" class=\"data row13 col4\" >-0.16</td>\n",
       "                        <td id=\"T_8f875090_11d8_11ea_95e7_e0d55eb0dab9row13_col5\" class=\"data row13 col5\" >0.98</td>\n",
       "                        <td id=\"T_8f875090_11d8_11ea_95e7_e0d55eb0dab9row13_col6\" class=\"data row13 col6\" >-0.19</td>\n",
       "                        <td id=\"T_8f875090_11d8_11ea_95e7_e0d55eb0dab9row13_col7\" class=\"data row13 col7\" >-0.14</td>\n",
       "                        <td id=\"T_8f875090_11d8_11ea_95e7_e0d55eb0dab9row13_col8\" class=\"data row13 col8\" >-0.021</td>\n",
       "                        <td id=\"T_8f875090_11d8_11ea_95e7_e0d55eb0dab9row13_col9\" class=\"data row13 col9\" >-0.035</td>\n",
       "                        <td id=\"T_8f875090_11d8_11ea_95e7_e0d55eb0dab9row13_col10\" class=\"data row13 col10\" >-0.19</td>\n",
       "                        <td id=\"T_8f875090_11d8_11ea_95e7_e0d55eb0dab9row13_col11\" class=\"data row13 col11\" >0.17</td>\n",
       "                        <td id=\"T_8f875090_11d8_11ea_95e7_e0d55eb0dab9row13_col12\" class=\"data row13 col12\" >-0.17</td>\n",
       "                        <td id=\"T_8f875090_11d8_11ea_95e7_e0d55eb0dab9row13_col13\" class=\"data row13 col13\" >1.0</td>\n",
       "                        <td id=\"T_8f875090_11d8_11ea_95e7_e0d55eb0dab9row13_col14\" class=\"data row13 col14\" >-0.2</td>\n",
       "                        <td id=\"T_8f875090_11d8_11ea_95e7_e0d55eb0dab9row13_col15\" class=\"data row13 col15\" >-0.14</td>\n",
       "            </tr>\n",
       "            <tr>\n",
       "                        <th id=\"T_8f875090_11d8_11ea_95e7_e0d55eb0dab9level0_row14\" class=\"row_heading level0 row14\" >14</th>\n",
       "                        <td id=\"T_8f875090_11d8_11ea_95e7_e0d55eb0dab9row14_col0\" class=\"data row14 col0\" >0.33</td>\n",
       "                        <td id=\"T_8f875090_11d8_11ea_95e7_e0d55eb0dab9row14_col1\" class=\"data row14 col1\" >0.17</td>\n",
       "                        <td id=\"T_8f875090_11d8_11ea_95e7_e0d55eb0dab9row14_col2\" class=\"data row14 col2\" >0.67</td>\n",
       "                        <td id=\"T_8f875090_11d8_11ea_95e7_e0d55eb0dab9row14_col3\" class=\"data row14 col3\" >0.54</td>\n",
       "                        <td id=\"T_8f875090_11d8_11ea_95e7_e0d55eb0dab9row14_col4\" class=\"data row14 col4\" >0.6</td>\n",
       "                        <td id=\"T_8f875090_11d8_11ea_95e7_e0d55eb0dab9row14_col5\" class=\"data row14 col5\" >-0.19</td>\n",
       "                        <td id=\"T_8f875090_11d8_11ea_95e7_e0d55eb0dab9row14_col6\" class=\"data row14 col6\" >0.98</td>\n",
       "                        <td id=\"T_8f875090_11d8_11ea_95e7_e0d55eb0dab9row14_col7\" class=\"data row14 col7\" >0.59</td>\n",
       "                        <td id=\"T_8f875090_11d8_11ea_95e7_e0d55eb0dab9row14_col8\" class=\"data row14 col8\" >0.34</td>\n",
       "                        <td id=\"T_8f875090_11d8_11ea_95e7_e0d55eb0dab9row14_col9\" class=\"data row14 col9\" >0.17</td>\n",
       "                        <td id=\"T_8f875090_11d8_11ea_95e7_e0d55eb0dab9row14_col10\" class=\"data row14 col10\" >0.68</td>\n",
       "                        <td id=\"T_8f875090_11d8_11ea_95e7_e0d55eb0dab9row14_col11\" class=\"data row14 col11\" >0.54</td>\n",
       "                        <td id=\"T_8f875090_11d8_11ea_95e7_e0d55eb0dab9row14_col12\" class=\"data row14 col12\" >0.6</td>\n",
       "                        <td id=\"T_8f875090_11d8_11ea_95e7_e0d55eb0dab9row14_col13\" class=\"data row14 col13\" >-0.2</td>\n",
       "                        <td id=\"T_8f875090_11d8_11ea_95e7_e0d55eb0dab9row14_col14\" class=\"data row14 col14\" >1.0</td>\n",
       "                        <td id=\"T_8f875090_11d8_11ea_95e7_e0d55eb0dab9row14_col15\" class=\"data row14 col15\" >0.59</td>\n",
       "            </tr>\n",
       "            <tr>\n",
       "                        <th id=\"T_8f875090_11d8_11ea_95e7_e0d55eb0dab9level0_row15\" class=\"row_heading level0 row15\" >15</th>\n",
       "                        <td id=\"T_8f875090_11d8_11ea_95e7_e0d55eb0dab9row15_col0\" class=\"data row15 col0\" >0.54</td>\n",
       "                        <td id=\"T_8f875090_11d8_11ea_95e7_e0d55eb0dab9row15_col1\" class=\"data row15 col1\" >0.11</td>\n",
       "                        <td id=\"T_8f875090_11d8_11ea_95e7_e0d55eb0dab9row15_col2\" class=\"data row15 col2\" >0.84</td>\n",
       "                        <td id=\"T_8f875090_11d8_11ea_95e7_e0d55eb0dab9row15_col3\" class=\"data row15 col3\" >0.67</td>\n",
       "                        <td id=\"T_8f875090_11d8_11ea_95e7_e0d55eb0dab9row15_col4\" class=\"data row15 col4\" >0.88</td>\n",
       "                        <td id=\"T_8f875090_11d8_11ea_95e7_e0d55eb0dab9row15_col5\" class=\"data row15 col5\" >-0.13</td>\n",
       "                        <td id=\"T_8f875090_11d8_11ea_95e7_e0d55eb0dab9row15_col6\" class=\"data row15 col6\" >0.59</td>\n",
       "                        <td id=\"T_8f875090_11d8_11ea_95e7_e0d55eb0dab9row15_col7\" class=\"data row15 col7\" >0.98</td>\n",
       "                        <td id=\"T_8f875090_11d8_11ea_95e7_e0d55eb0dab9row15_col8\" class=\"data row15 col8\" >0.54</td>\n",
       "                        <td id=\"T_8f875090_11d8_11ea_95e7_e0d55eb0dab9row15_col9\" class=\"data row15 col9\" >0.11</td>\n",
       "                        <td id=\"T_8f875090_11d8_11ea_95e7_e0d55eb0dab9row15_col10\" class=\"data row15 col10\" >0.85</td>\n",
       "                        <td id=\"T_8f875090_11d8_11ea_95e7_e0d55eb0dab9row15_col11\" class=\"data row15 col11\" >0.67</td>\n",
       "                        <td id=\"T_8f875090_11d8_11ea_95e7_e0d55eb0dab9row15_col12\" class=\"data row15 col12\" >0.89</td>\n",
       "                        <td id=\"T_8f875090_11d8_11ea_95e7_e0d55eb0dab9row15_col13\" class=\"data row15 col13\" >-0.14</td>\n",
       "                        <td id=\"T_8f875090_11d8_11ea_95e7_e0d55eb0dab9row15_col14\" class=\"data row15 col14\" >0.59</td>\n",
       "                        <td id=\"T_8f875090_11d8_11ea_95e7_e0d55eb0dab9row15_col15\" class=\"data row15 col15\" >1.0</td>\n",
       "            </tr>\n",
       "    </tbody></table>"
      ],
      "text/plain": [
       "<pandas.io.formats.style.Styler at 0x7f02da11c630>"
      ]
     },
     "execution_count": 9,
     "metadata": {},
     "output_type": "execute_result"
    }
   ],
   "source": [
    "X_train.corr(method='spearman').style.format(\"{:.2}\").background_gradient(cmap=plt.get_cmap('coolwarm'), axis=1)"
   ]
  },
  {
   "cell_type": "markdown",
   "metadata": {},
   "source": [
    "## Imbalanced baseline"
   ]
  },
  {
   "cell_type": "code",
   "execution_count": 10,
   "metadata": {},
   "outputs": [
    {
     "name": "stdout",
     "output_type": "stream",
     "text": [
      "\n",
      "LOGISTIC REGRESSION\n",
      "TRAIN AND VALIDATION SETS:\n",
      "1 of KFold 10\n"
     ]
    },
    {
     "name": "stderr",
     "output_type": "stream",
     "text": [
      "/usr/local/lib/python3.6/dist-packages/sklearn/linear_model/logistic.py:947: ConvergenceWarning: lbfgs failed to converge. Increase the number of iterations.\n",
      "  \"of iterations.\", ConvergenceWarning)\n"
     ]
    },
    {
     "name": "stdout",
     "output_type": "stream",
     "text": [
      "ROC AUC score: 0.6891282352660423\n",
      "2 of KFold 10\n"
     ]
    },
    {
     "name": "stderr",
     "output_type": "stream",
     "text": [
      "/usr/local/lib/python3.6/dist-packages/sklearn/linear_model/logistic.py:947: ConvergenceWarning: lbfgs failed to converge. Increase the number of iterations.\n",
      "  \"of iterations.\", ConvergenceWarning)\n"
     ]
    },
    {
     "name": "stdout",
     "output_type": "stream",
     "text": [
      "ROC AUC score: 0.7055595824119563\n",
      "3 of KFold 10\n"
     ]
    },
    {
     "name": "stderr",
     "output_type": "stream",
     "text": [
      "/usr/local/lib/python3.6/dist-packages/sklearn/linear_model/logistic.py:947: ConvergenceWarning: lbfgs failed to converge. Increase the number of iterations.\n",
      "  \"of iterations.\", ConvergenceWarning)\n"
     ]
    },
    {
     "name": "stdout",
     "output_type": "stream",
     "text": [
      "ROC AUC score: 0.6952684804675742\n",
      "4 of KFold 10\n"
     ]
    },
    {
     "name": "stderr",
     "output_type": "stream",
     "text": [
      "/usr/local/lib/python3.6/dist-packages/sklearn/linear_model/logistic.py:947: ConvergenceWarning: lbfgs failed to converge. Increase the number of iterations.\n",
      "  \"of iterations.\", ConvergenceWarning)\n"
     ]
    },
    {
     "name": "stdout",
     "output_type": "stream",
     "text": [
      "ROC AUC score: 0.7121814183849233\n",
      "5 of KFold 10\n"
     ]
    },
    {
     "name": "stderr",
     "output_type": "stream",
     "text": [
      "/usr/local/lib/python3.6/dist-packages/sklearn/linear_model/logistic.py:947: ConvergenceWarning: lbfgs failed to converge. Increase the number of iterations.\n",
      "  \"of iterations.\", ConvergenceWarning)\n"
     ]
    },
    {
     "name": "stdout",
     "output_type": "stream",
     "text": [
      "ROC AUC score: 0.6982244547604282\n",
      "6 of KFold 10\n"
     ]
    },
    {
     "name": "stderr",
     "output_type": "stream",
     "text": [
      "/usr/local/lib/python3.6/dist-packages/sklearn/linear_model/logistic.py:947: ConvergenceWarning: lbfgs failed to converge. Increase the number of iterations.\n",
      "  \"of iterations.\", ConvergenceWarning)\n"
     ]
    },
    {
     "name": "stdout",
     "output_type": "stream",
     "text": [
      "ROC AUC score: 0.6925898891644149\n",
      "7 of KFold 10\n"
     ]
    },
    {
     "name": "stderr",
     "output_type": "stream",
     "text": [
      "/usr/local/lib/python3.6/dist-packages/sklearn/linear_model/logistic.py:947: ConvergenceWarning: lbfgs failed to converge. Increase the number of iterations.\n",
      "  \"of iterations.\", ConvergenceWarning)\n"
     ]
    },
    {
     "name": "stdout",
     "output_type": "stream",
     "text": [
      "ROC AUC score: 0.6968768002515199\n",
      "8 of KFold 10\n"
     ]
    },
    {
     "name": "stderr",
     "output_type": "stream",
     "text": [
      "/usr/local/lib/python3.6/dist-packages/sklearn/linear_model/logistic.py:947: ConvergenceWarning: lbfgs failed to converge. Increase the number of iterations.\n",
      "  \"of iterations.\", ConvergenceWarning)\n"
     ]
    },
    {
     "name": "stdout",
     "output_type": "stream",
     "text": [
      "ROC AUC score: 0.6988708918320222\n",
      "9 of KFold 10\n"
     ]
    },
    {
     "name": "stderr",
     "output_type": "stream",
     "text": [
      "/usr/local/lib/python3.6/dist-packages/sklearn/linear_model/logistic.py:947: ConvergenceWarning: lbfgs failed to converge. Increase the number of iterations.\n",
      "  \"of iterations.\", ConvergenceWarning)\n"
     ]
    },
    {
     "name": "stdout",
     "output_type": "stream",
     "text": [
      "ROC AUC score: 0.6978178435419078\n",
      "10 of KFold 10\n",
      "ROC AUC score: 0.6911177686802006\n",
      "\n",
      "CROSS VALIDANTION SUMMARY:\n",
      "Mean: 0.697763536476099\n",
      "Std deviation: 0.0065008320274106334\n",
      "\n",
      "TEST SET:\n",
      "F1-Score(micro): 0.7432902863559798\n",
      "F1-Score(macro): 0.6560926217187103\n",
      "F1-Score(weighted): 0.7647688368894019\n",
      "F1-Score(None): [0.82926283 0.48292242]\n",
      "Accuracy: 0.7432902863559798\n",
      "Sensitivity: 0.6437509422584049\n",
      "Specificity: 0.7660675475213027\n",
      "Confusion Matrix: [0.7660675475213027, 0.64]\n",
      "ROC AUC score: 0.7049092448898537\n",
      "CPU times: user 27.9 s, sys: 16.1 s, total: 43.9 s\n",
      "Wall time: 5.64 s\n"
     ]
    },
    {
     "name": "stderr",
     "output_type": "stream",
     "text": [
      "/usr/local/lib/python3.6/dist-packages/sklearn/linear_model/logistic.py:947: ConvergenceWarning: lbfgs failed to converge. Increase the number of iterations.\n",
      "  \"of iterations.\", ConvergenceWarning)\n"
     ]
    }
   ],
   "source": [
    "%%time\n",
    "LogisticRegr_(X_train, y_train, X_test, y_test)"
   ]
  },
  {
   "cell_type": "code",
   "execution_count": 11,
   "metadata": {},
   "outputs": [
    {
     "name": "stdout",
     "output_type": "stream",
     "text": [
      "CPU times: user 14 µs, sys: 1 µs, total: 15 µs\n",
      "Wall time: 5.01 µs\n",
      "\n",
      "DECISION TREE\n",
      "TRAIN AND VALIDATION SETS:\n",
      "1 of KFold 10\n",
      "ROC AUC score: 0.8515606169035388\n",
      "2 of KFold 10\n",
      "ROC AUC score: 0.8623865511877341\n",
      "3 of KFold 10\n",
      "ROC AUC score: 0.8582580250488039\n",
      "4 of KFold 10\n",
      "ROC AUC score: 0.8586512240032896\n",
      "5 of KFold 10\n",
      "ROC AUC score: 0.8615025348499938\n",
      "6 of KFold 10\n",
      "ROC AUC score: 0.8595374869279574\n",
      "7 of KFold 10\n",
      "ROC AUC score: 0.8522067429214469\n",
      "8 of KFold 10\n",
      "ROC AUC score: 0.8564405510818524\n",
      "9 of KFold 10\n",
      "ROC AUC score: 0.8579151637611824\n",
      "10 of KFold 10\n",
      "ROC AUC score: 0.8617929714346513\n",
      "\n",
      "CROSS VALIDANTION SUMMARY:\n",
      "Mean: 0.8580251868120451\n",
      "Std deviation: 0.0035526182779175466\n",
      "\n",
      "TEST SET:\n",
      "F1-Score(micro): 0.9017125210555867\n",
      "F1-Score(macro): 0.8374448400213926\n",
      "F1-Score(weighted): 0.9015891335356301\n",
      "F1-Score(None): [0.93965562 0.73523406]\n",
      "Accuracy: 0.9017125210555867\n",
      "Sensitivity: 0.7328508970300015\n",
      "Specificity: 0.9403525718425501\n",
      "Confusion Matrix: [0.9403525718425501, 0.73]\n",
      "ROC AUC score: 0.8366017344362757\n",
      "CPU times: user 3.18 s, sys: 15.4 ms, total: 3.19 s\n",
      "Wall time: 3.16 s\n"
     ]
    }
   ],
   "source": [
    "%%time\n",
    "DecisionTree_(X_train, y_train, X_test, y_test)"
   ]
  },
  {
   "cell_type": "code",
   "execution_count": 12,
   "metadata": {},
   "outputs": [
    {
     "name": "stdout",
     "output_type": "stream",
     "text": [
      "CPU times: user 2 µs, sys: 0 ns, total: 2 µs\n",
      "Wall time: 3.58 µs\n",
      "RANDOM FOREST\n",
      "TRAIN AND VALIDATION SETS:\n",
      "1 of KFold 10\n",
      "ROC AUC score: 0.8461230669292285\n",
      "2 of KFold 10\n",
      "ROC AUC score: 0.8445432485815034\n",
      "3 of KFold 10\n",
      "ROC AUC score: 0.8486740269487262\n",
      "4 of KFold 10\n",
      "ROC AUC score: 0.8586852520519871\n",
      "5 of KFold 10\n",
      "ROC AUC score: 0.8529635554805767\n",
      "6 of KFold 10\n",
      "ROC AUC score: 0.8485820368327268\n",
      "7 of KFold 10\n",
      "ROC AUC score: 0.8465638859839906\n",
      "8 of KFold 10\n",
      "ROC AUC score: 0.8455904920839257\n",
      "9 of KFold 10\n",
      "ROC AUC score: 0.8490990235387827\n",
      "10 of KFold 10\n",
      "ROC AUC score: 0.8538157903565469\n",
      "\n",
      "CROSS VALIDANTION SUMMARY:\n",
      "Mean: 0.8494640378787995\n",
      "Std deviation: 0.004201689359246595\n",
      "\n",
      "TEST SET:\n",
      "F1-Score(micro): 0.9230207748455924\n",
      "F1-Score(macro): 0.8666773619580128\n",
      "F1-Score(weighted): 0.9210693403519046\n",
      "F1-Score(None): [0.95334831 0.78000642]\n",
      "Accuracy: 0.9230207748455924\n",
      "Sensitivity: 0.7328508970300015\n",
      "Specificity: 0.9665367233587471\n",
      "Confusion Matrix: [0.9665367233587471, 0.73]\n",
      "ROC AUC score: 0.8496938101943743\n",
      "CPU times: user 53.2 s, sys: 25.8 ms, total: 53.3 s\n",
      "Wall time: 53.3 s\n"
     ]
    }
   ],
   "source": [
    "%%time\n",
    "RandomForest_(X_train, y_train, X_test, y_test)"
   ]
  },
  {
   "cell_type": "code",
   "execution_count": 13,
   "metadata": {},
   "outputs": [
    {
     "name": "stdout",
     "output_type": "stream",
     "text": [
      "CPU times: user 3 µs, sys: 0 ns, total: 3 µs\n",
      "Wall time: 3.81 µs\n",
      "NEURAL NETWORK\n",
      "TRAIN AND VALIDATION SETS:\n",
      "1 of KFold 10\n",
      "ROC AUC score: 0.7294613312049297\n",
      "2 of KFold 10\n",
      "ROC AUC score: 0.7317012441213248\n",
      "3 of KFold 10\n",
      "ROC AUC score: 0.7165565902068706\n",
      "4 of KFold 10\n",
      "ROC AUC score: 0.7361106611314374\n",
      "5 of KFold 10\n",
      "ROC AUC score: 0.7346625999154571\n",
      "6 of KFold 10\n",
      "ROC AUC score: 0.7234963676256186\n",
      "7 of KFold 10\n",
      "ROC AUC score: 0.7306926768763593\n",
      "8 of KFold 10\n",
      "ROC AUC score: 0.7160544333754769\n",
      "9 of KFold 10\n",
      "ROC AUC score: 0.7324361590672288\n",
      "10 of KFold 10\n",
      "ROC AUC score: 0.7459848340341834\n",
      "\n",
      "CROSS VALIDANTION SUMMARY:\n",
      "Mean: 0.7297156897558886\n",
      "Std deviation: 0.00860747936784824\n",
      "\n",
      "TEST SET:\n",
      "F1-Score(micro): 0.8833801235261088\n",
      "F1-Score(macro): 0.7735271477322905\n",
      "F1-Score(weighted): 0.8725134997515995\n",
      "F1-Score(None): [0.93125703 0.61579726]\n",
      "Accuracy: 0.883380123526109\n",
      "Sensitivity: 0.50188451680989\n",
      "Specificity: 0.9706765101597268\n",
      "Confusion Matrix: [0.9706765101597268, 0.5]\n",
      "ROC AUC score: 0.7362805134848084\n",
      "CPU times: user 15min 46s, sys: 8min 27s, total: 24min 13s\n",
      "Wall time: 3min 5s\n"
     ]
    }
   ],
   "source": [
    "%%time\n",
    "NN_(X_train, y_train, X_test, y_test)"
   ]
  },
  {
   "cell_type": "markdown",
   "metadata": {},
   "source": [
    "## Undersampling"
   ]
  },
  {
   "cell_type": "code",
   "execution_count": 14,
   "metadata": {},
   "outputs": [
    {
     "name": "stdout",
     "output_type": "stream",
     "text": [
      "Resampling dataset using Random UnderSampling (RUS)...\n",
      "... DONE!\n",
      "X and Y RUS: 30820 30820\n"
     ]
    }
   ],
   "source": [
    "print(\"Resampling dataset using Random UnderSampling (RUS)...\")\n",
    "X_RUS, y_RUS = RandomUnderSampler(random_state=42).fit_sample(X_train, y_train.values.ravel())\n",
    "print(\"... DONE!\")\n",
    "print(\"X and Y RUS:\", len(X_RUS), len(y_RUS))"
   ]
  },
  {
   "cell_type": "code",
   "execution_count": 15,
   "metadata": {},
   "outputs": [
    {
     "name": "stdout",
     "output_type": "stream",
     "text": [
      "\n",
      "LOGISTIC REGRESSION\n",
      "TRAIN AND VALIDATION SETS:\n",
      "1 of KFold 10\n",
      "ROC AUC score: 0.7055143009985486\n",
      "2 of KFold 10\n",
      "ROC AUC score: 0.6922388928580879\n",
      "3 of KFold 10\n"
     ]
    },
    {
     "name": "stderr",
     "output_type": "stream",
     "text": [
      "/usr/local/lib/python3.6/dist-packages/sklearn/linear_model/logistic.py:947: ConvergenceWarning: lbfgs failed to converge. Increase the number of iterations.\n",
      "  \"of iterations.\", ConvergenceWarning)\n"
     ]
    },
    {
     "name": "stdout",
     "output_type": "stream",
     "text": [
      "ROC AUC score: 0.6865264272148943\n",
      "4 of KFold 10\n",
      "ROC AUC score: 0.686140434437664\n",
      "5 of KFold 10\n",
      "ROC AUC score: 0.6962560386473431\n",
      "6 of KFold 10\n",
      "ROC AUC score: 0.7046239731511236\n",
      "7 of KFold 10\n",
      "ROC AUC score: 0.7120179154291069\n",
      "8 of KFold 10\n",
      "ROC AUC score: 0.7048613710663572\n",
      "9 of KFold 10\n",
      "ROC AUC score: 0.7022548303363202\n",
      "10 of KFold 10\n",
      "ROC AUC score: 0.6941332761885554\n",
      "\n",
      "CROSS VALIDANTION SUMMARY:\n",
      "Mean: 0.6984567460328002\n",
      "Std deviation: 0.008266891767853994\n",
      "\n",
      "TEST SET:\n",
      "F1-Score(micro): 0.7432622122403145\n",
      "F1-Score(macro): 0.6561982087672623\n",
      "F1-Score(weighted): 0.7647744282170033\n",
      "F1-Score(None): [0.82920908 0.48318734]\n",
      "Accuracy: 0.7432622122403144\n",
      "Sensitivity: 0.6445047489823609\n",
      "Specificity: 0.7658605581812536\n",
      "Confusion Matrix: [0.7658605581812536, 0.64]\n",
      "ROC AUC score: 0.7051826535818073\n",
      "CPU times: user 11.7 s, sys: 6.16 s, total: 17.8 s\n",
      "Wall time: 2.29 s\n"
     ]
    }
   ],
   "source": [
    "%%time\n",
    "LogisticRegr_(X_RUS, y_RUS, X_test, y_test)"
   ]
  },
  {
   "cell_type": "code",
   "execution_count": 16,
   "metadata": {},
   "outputs": [
    {
     "name": "stdout",
     "output_type": "stream",
     "text": [
      "CPU times: user 2 µs, sys: 0 ns, total: 2 µs\n",
      "Wall time: 4.77 µs\n",
      "\n",
      "DECISION TREE\n",
      "TRAIN AND VALIDATION SETS:\n",
      "1 of KFold 10\n",
      "ROC AUC score: 0.8006930626085853\n",
      "2 of KFold 10\n",
      "ROC AUC score: 0.8114709851551956\n",
      "3 of KFold 10\n",
      "ROC AUC score: 0.7848175399634008\n",
      "4 of KFold 10\n",
      "ROC AUC score: 0.7864976893271372\n",
      "5 of KFold 10\n",
      "ROC AUC score: 0.7940356744704571\n",
      "6 of KFold 10\n",
      "ROC AUC score: 0.789103200368514\n",
      "7 of KFold 10\n",
      "ROC AUC score: 0.8275887278575903\n",
      "8 of KFold 10\n",
      "ROC AUC score: 0.7909738785085046\n",
      "9 of KFold 10\n",
      "ROC AUC score: 0.7946917466837906\n",
      "10 of KFold 10\n",
      "ROC AUC score: 0.8033960525283763\n",
      "\n",
      "CROSS VALIDANTION SUMMARY:\n",
      "Mean: 0.7983268557471551\n",
      "Std deviation: 0.012464036773158051\n",
      "\n",
      "TEST SET:\n",
      "F1-Score(micro): 0.8894722066254913\n",
      "F1-Score(macro): 0.8115940457099109\n",
      "F1-Score(weighted): 0.8876120540548254\n",
      "F1-Score(None): [0.932725   0.69046309]\n",
      "Accuracy: 0.8894722066254913\n",
      "Sensitivity: 0.6619930649781396\n",
      "Specificity: 0.941525511436161\n",
      "Confusion Matrix: [0.941525511436161, 0.66]\n",
      "ROC AUC score: 0.8017592882071503\n",
      "CPU times: user 1.28 s, sys: 4.33 ms, total: 1.29 s\n",
      "Wall time: 1.27 s\n"
     ]
    }
   ],
   "source": [
    "%%time\n",
    "DecisionTree_(X_RUS, y_RUS, X_test, y_test)"
   ]
  },
  {
   "cell_type": "code",
   "execution_count": 17,
   "metadata": {},
   "outputs": [
    {
     "name": "stdout",
     "output_type": "stream",
     "text": [
      "CPU times: user 2 µs, sys: 0 ns, total: 2 µs\n",
      "Wall time: 3.81 µs\n",
      "RANDOM FOREST\n",
      "TRAIN AND VALIDATION SETS:\n",
      "1 of KFold 10\n",
      "ROC AUC score: 0.7924979477339985\n",
      "2 of KFold 10\n",
      "ROC AUC score: 0.7932801460665238\n",
      "3 of KFold 10\n",
      "ROC AUC score: 0.7893305243931548\n",
      "4 of KFold 10\n",
      "ROC AUC score: 0.7652229675665677\n",
      "5 of KFold 10\n",
      "ROC AUC score: 0.7781339031339032\n",
      "6 of KFold 10\n",
      "ROC AUC score: 0.7923729394474484\n",
      "7 of KFold 10\n",
      "ROC AUC score: 0.7901909606665111\n",
      "8 of KFold 10\n",
      "ROC AUC score: 0.7716214433665957\n",
      "9 of KFold 10\n",
      "ROC AUC score: 0.7782625427131485\n",
      "10 of KFold 10\n",
      "ROC AUC score: 0.7980919526706779\n",
      "\n",
      "CROSS VALIDANTION SUMMARY:\n",
      "Mean: 0.7849005327758529\n",
      "Std deviation: 0.010289769108871893\n",
      "\n",
      "TEST SET:\n",
      "F1-Score(micro): 0.8948343627175744\n",
      "F1-Score(macro): 0.8083777189823613\n",
      "F1-Score(weighted): 0.8891539379097605\n",
      "F1-Score(None): [0.93709065 0.67966479]\n",
      "Accuracy: 0.8948343627175744\n",
      "Sensitivity: 0.5991255842002111\n",
      "Specificity: 0.9625004312277917\n",
      "Confusion Matrix: [0.9625004312277917, 0.6]\n",
      "ROC AUC score: 0.7808130077140014\n",
      "CPU times: user 20 s, sys: 2.88 ms, total: 20 s\n",
      "Wall time: 20 s\n"
     ]
    }
   ],
   "source": [
    "%%time\n",
    "RandomForest_(X_RUS, y_RUS, X_test, y_test)"
   ]
  },
  {
   "cell_type": "code",
   "execution_count": 18,
   "metadata": {},
   "outputs": [
    {
     "name": "stdout",
     "output_type": "stream",
     "text": [
      "CPU times: user 2 µs, sys: 0 ns, total: 2 µs\n",
      "Wall time: 24.8 µs\n",
      "NEURAL NETWORK\n",
      "TRAIN AND VALIDATION SETS:\n",
      "1 of KFold 10\n"
     ]
    },
    {
     "name": "stderr",
     "output_type": "stream",
     "text": [
      "/usr/local/lib/python3.6/dist-packages/sklearn/neural_network/multilayer_perceptron.py:566: ConvergenceWarning: Stochastic Optimizer: Maximum iterations (200) reached and the optimization hasn't converged yet.\n",
      "  % self.max_iter, ConvergenceWarning)\n"
     ]
    },
    {
     "name": "stdout",
     "output_type": "stream",
     "text": [
      "ROC AUC score: 0.7420746264596895\n",
      "2 of KFold 10\n"
     ]
    },
    {
     "name": "stderr",
     "output_type": "stream",
     "text": [
      "/usr/local/lib/python3.6/dist-packages/sklearn/neural_network/multilayer_perceptron.py:566: ConvergenceWarning: Stochastic Optimizer: Maximum iterations (200) reached and the optimization hasn't converged yet.\n",
      "  % self.max_iter, ConvergenceWarning)\n"
     ]
    },
    {
     "name": "stdout",
     "output_type": "stream",
     "text": [
      "ROC AUC score: 0.7243192823688179\n",
      "3 of KFold 10\n"
     ]
    },
    {
     "name": "stderr",
     "output_type": "stream",
     "text": [
      "/usr/local/lib/python3.6/dist-packages/sklearn/neural_network/multilayer_perceptron.py:566: ConvergenceWarning: Stochastic Optimizer: Maximum iterations (200) reached and the optimization hasn't converged yet.\n",
      "  % self.max_iter, ConvergenceWarning)\n"
     ]
    },
    {
     "name": "stdout",
     "output_type": "stream",
     "text": [
      "ROC AUC score: 0.7209899092629299\n",
      "4 of KFold 10\n"
     ]
    },
    {
     "name": "stderr",
     "output_type": "stream",
     "text": [
      "/usr/local/lib/python3.6/dist-packages/sklearn/neural_network/multilayer_perceptron.py:566: ConvergenceWarning: Stochastic Optimizer: Maximum iterations (200) reached and the optimization hasn't converged yet.\n",
      "  % self.max_iter, ConvergenceWarning)\n"
     ]
    },
    {
     "name": "stdout",
     "output_type": "stream",
     "text": [
      "ROC AUC score: 0.7373272076732904\n",
      "5 of KFold 10\n"
     ]
    },
    {
     "name": "stderr",
     "output_type": "stream",
     "text": [
      "/usr/local/lib/python3.6/dist-packages/sklearn/neural_network/multilayer_perceptron.py:566: ConvergenceWarning: Stochastic Optimizer: Maximum iterations (200) reached and the optimization hasn't converged yet.\n",
      "  % self.max_iter, ConvergenceWarning)\n"
     ]
    },
    {
     "name": "stdout",
     "output_type": "stream",
     "text": [
      "ROC AUC score: 0.7462374581939799\n",
      "6 of KFold 10\n"
     ]
    },
    {
     "name": "stderr",
     "output_type": "stream",
     "text": [
      "/usr/local/lib/python3.6/dist-packages/sklearn/neural_network/multilayer_perceptron.py:566: ConvergenceWarning: Stochastic Optimizer: Maximum iterations (200) reached and the optimization hasn't converged yet.\n",
      "  % self.max_iter, ConvergenceWarning)\n"
     ]
    },
    {
     "name": "stdout",
     "output_type": "stream",
     "text": [
      "ROC AUC score: 0.7433611272579708\n",
      "7 of KFold 10\n"
     ]
    },
    {
     "name": "stderr",
     "output_type": "stream",
     "text": [
      "/usr/local/lib/python3.6/dist-packages/sklearn/neural_network/multilayer_perceptron.py:566: ConvergenceWarning: Stochastic Optimizer: Maximum iterations (200) reached and the optimization hasn't converged yet.\n",
      "  % self.max_iter, ConvergenceWarning)\n"
     ]
    },
    {
     "name": "stdout",
     "output_type": "stream",
     "text": [
      "ROC AUC score: 0.7490010409687775\n",
      "8 of KFold 10\n"
     ]
    },
    {
     "name": "stderr",
     "output_type": "stream",
     "text": [
      "/usr/local/lib/python3.6/dist-packages/sklearn/neural_network/multilayer_perceptron.py:566: ConvergenceWarning: Stochastic Optimizer: Maximum iterations (200) reached and the optimization hasn't converged yet.\n",
      "  % self.max_iter, ConvergenceWarning)\n"
     ]
    },
    {
     "name": "stdout",
     "output_type": "stream",
     "text": [
      "ROC AUC score: 0.7531699091255878\n",
      "9 of KFold 10\n"
     ]
    },
    {
     "name": "stderr",
     "output_type": "stream",
     "text": [
      "/usr/local/lib/python3.6/dist-packages/sklearn/neural_network/multilayer_perceptron.py:566: ConvergenceWarning: Stochastic Optimizer: Maximum iterations (200) reached and the optimization hasn't converged yet.\n",
      "  % self.max_iter, ConvergenceWarning)\n"
     ]
    },
    {
     "name": "stdout",
     "output_type": "stream",
     "text": [
      "ROC AUC score: 0.7521531268442245\n",
      "10 of KFold 10\n",
      "ROC AUC score: 0.7605010532566921\n",
      "\n",
      "CROSS VALIDANTION SUMMARY:\n",
      "Mean: 0.742913474141196\n",
      "Std deviation: 0.011859565827232436\n",
      "\n",
      "TEST SET:\n",
      "F1-Score(micro): 0.8818360471645144\n",
      "F1-Score(macro): 0.7728510000154221\n",
      "F1-Score(weighted): 0.8715926100332879\n",
      "F1-Score(None): [0.9301909 0.6155111]\n",
      "Accuracy: 0.8818360471645144\n",
      "Sensitivity: 0.5079149706015378\n",
      "Specificity: 0.9673991789422844\n",
      "Confusion Matrix: [0.9673991789422844, 0.51]\n",
      "ROC AUC score: 0.7376570747719111\n",
      "CPU times: user 17min 36s, sys: 9min 7s, total: 26min 44s\n",
      "Wall time: 3min 23s\n"
     ]
    },
    {
     "name": "stderr",
     "output_type": "stream",
     "text": [
      "/usr/local/lib/python3.6/dist-packages/sklearn/neural_network/multilayer_perceptron.py:566: ConvergenceWarning: Stochastic Optimizer: Maximum iterations (200) reached and the optimization hasn't converged yet.\n",
      "  % self.max_iter, ConvergenceWarning)\n"
     ]
    }
   ],
   "source": [
    "%%time\n",
    "NN_(X_RUS, y_RUS, X_test, y_test)"
   ]
  },
  {
   "cell_type": "code",
   "execution_count": 19,
   "metadata": {},
   "outputs": [
    {
     "name": "stdout",
     "output_type": "stream",
     "text": [
      "Resampling dataset using Edited Nearest Neighbour (ENN)...\n",
      "... DONE!\n",
      "X and Y ENN: 76763 76763\n"
     ]
    }
   ],
   "source": [
    "print(\"Resampling dataset using Edited Nearest Neighbour (ENN)...\")\n",
    "X_ENN, y_ENN = EditedNearestNeighbours(random_state=42).fit_sample(X_train, y_train.values.ravel())\n",
    "print(\"... DONE!\")\n",
    "print(\"X and Y ENN:\", len(X_ENN), len(y_ENN))"
   ]
  },
  {
   "cell_type": "code",
   "execution_count": 20,
   "metadata": {},
   "outputs": [
    {
     "name": "stdout",
     "output_type": "stream",
     "text": [
      "\n",
      "LOGISTIC REGRESSION\n",
      "TRAIN AND VALIDATION SETS:\n",
      "1 of KFold 10\n"
     ]
    },
    {
     "name": "stderr",
     "output_type": "stream",
     "text": [
      "/usr/local/lib/python3.6/dist-packages/sklearn/linear_model/logistic.py:947: ConvergenceWarning: lbfgs failed to converge. Increase the number of iterations.\n",
      "  \"of iterations.\", ConvergenceWarning)\n"
     ]
    },
    {
     "name": "stdout",
     "output_type": "stream",
     "text": [
      "ROC AUC score: 0.6904504244891618\n",
      "2 of KFold 10\n"
     ]
    },
    {
     "name": "stderr",
     "output_type": "stream",
     "text": [
      "/usr/local/lib/python3.6/dist-packages/sklearn/linear_model/logistic.py:947: ConvergenceWarning: lbfgs failed to converge. Increase the number of iterations.\n",
      "  \"of iterations.\", ConvergenceWarning)\n"
     ]
    },
    {
     "name": "stdout",
     "output_type": "stream",
     "text": [
      "ROC AUC score: 0.7046040519356574\n",
      "3 of KFold 10\n"
     ]
    },
    {
     "name": "stderr",
     "output_type": "stream",
     "text": [
      "/usr/local/lib/python3.6/dist-packages/sklearn/linear_model/logistic.py:947: ConvergenceWarning: lbfgs failed to converge. Increase the number of iterations.\n",
      "  \"of iterations.\", ConvergenceWarning)\n"
     ]
    },
    {
     "name": "stdout",
     "output_type": "stream",
     "text": [
      "ROC AUC score: 0.6922422604946419\n",
      "4 of KFold 10\n"
     ]
    },
    {
     "name": "stderr",
     "output_type": "stream",
     "text": [
      "/usr/local/lib/python3.6/dist-packages/sklearn/linear_model/logistic.py:947: ConvergenceWarning: lbfgs failed to converge. Increase the number of iterations.\n",
      "  \"of iterations.\", ConvergenceWarning)\n"
     ]
    },
    {
     "name": "stdout",
     "output_type": "stream",
     "text": [
      "ROC AUC score: 0.7025724392302549\n",
      "5 of KFold 10\n"
     ]
    },
    {
     "name": "stderr",
     "output_type": "stream",
     "text": [
      "/usr/local/lib/python3.6/dist-packages/sklearn/linear_model/logistic.py:947: ConvergenceWarning: lbfgs failed to converge. Increase the number of iterations.\n",
      "  \"of iterations.\", ConvergenceWarning)\n"
     ]
    },
    {
     "name": "stdout",
     "output_type": "stream",
     "text": [
      "ROC AUC score: 0.7087029245930667\n",
      "6 of KFold 10\n"
     ]
    },
    {
     "name": "stderr",
     "output_type": "stream",
     "text": [
      "/usr/local/lib/python3.6/dist-packages/sklearn/linear_model/logistic.py:947: ConvergenceWarning: lbfgs failed to converge. Increase the number of iterations.\n",
      "  \"of iterations.\", ConvergenceWarning)\n"
     ]
    },
    {
     "name": "stdout",
     "output_type": "stream",
     "text": [
      "ROC AUC score: 0.7111239181972404\n",
      "7 of KFold 10\n"
     ]
    },
    {
     "name": "stderr",
     "output_type": "stream",
     "text": [
      "/usr/local/lib/python3.6/dist-packages/sklearn/linear_model/logistic.py:947: ConvergenceWarning: lbfgs failed to converge. Increase the number of iterations.\n",
      "  \"of iterations.\", ConvergenceWarning)\n"
     ]
    },
    {
     "name": "stdout",
     "output_type": "stream",
     "text": [
      "ROC AUC score: 0.6911473589534246\n",
      "8 of KFold 10\n"
     ]
    },
    {
     "name": "stderr",
     "output_type": "stream",
     "text": [
      "/usr/local/lib/python3.6/dist-packages/sklearn/linear_model/logistic.py:947: ConvergenceWarning: lbfgs failed to converge. Increase the number of iterations.\n",
      "  \"of iterations.\", ConvergenceWarning)\n"
     ]
    },
    {
     "name": "stdout",
     "output_type": "stream",
     "text": [
      "ROC AUC score: 0.6897055236947531\n",
      "9 of KFold 10\n"
     ]
    },
    {
     "name": "stderr",
     "output_type": "stream",
     "text": [
      "/usr/local/lib/python3.6/dist-packages/sklearn/linear_model/logistic.py:947: ConvergenceWarning: lbfgs failed to converge. Increase the number of iterations.\n",
      "  \"of iterations.\", ConvergenceWarning)\n"
     ]
    },
    {
     "name": "stdout",
     "output_type": "stream",
     "text": [
      "ROC AUC score: 0.6907952251387381\n",
      "10 of KFold 10\n",
      "ROC AUC score: 0.7056526531097363\n",
      "\n",
      "CROSS VALIDANTION SUMMARY:\n",
      "Mean: 0.6986996779836676\n",
      "Std deviation: 0.00814120135412473\n",
      "\n",
      "TEST SET:\n",
      "F1-Score(micro): 0.7435710275126334\n",
      "F1-Score(macro): 0.6562342357655515\n",
      "F1-Score(weighted): 0.7649747193744559\n",
      "F1-Score(None): [0.82950685 0.48296162]\n",
      "Accuracy: 0.7435710275126334\n",
      "Sensitivity: 0.6431478968792401\n",
      "Specificity: 0.7665505226480837\n",
      "Confusion Matrix: [0.7665505226480837, 0.64]\n",
      "ROC AUC score: 0.7048492097636618\n",
      "CPU times: user 28.3 s, sys: 16.3 s, total: 44.6 s\n",
      "Wall time: 5.71 s\n"
     ]
    },
    {
     "name": "stderr",
     "output_type": "stream",
     "text": [
      "/usr/local/lib/python3.6/dist-packages/sklearn/linear_model/logistic.py:947: ConvergenceWarning: lbfgs failed to converge. Increase the number of iterations.\n",
      "  \"of iterations.\", ConvergenceWarning)\n"
     ]
    }
   ],
   "source": [
    "%%time\n",
    "LogisticRegr_(X_ENN, y_ENN, X_test, y_test)"
   ]
  },
  {
   "cell_type": "code",
   "execution_count": 21,
   "metadata": {},
   "outputs": [
    {
     "name": "stdout",
     "output_type": "stream",
     "text": [
      "CPU times: user 4 µs, sys: 2 µs, total: 6 µs\n",
      "Wall time: 4.77 µs\n",
      "\n",
      "DECISION TREE\n",
      "TRAIN AND VALIDATION SETS:\n",
      "1 of KFold 10\n",
      "ROC AUC score: 0.8508948607585624\n",
      "2 of KFold 10\n",
      "ROC AUC score: 0.8484607362756749\n",
      "3 of KFold 10\n",
      "ROC AUC score: 0.8569988384991958\n",
      "4 of KFold 10\n",
      "ROC AUC score: 0.8509938820895125\n",
      "5 of KFold 10\n",
      "ROC AUC score: 0.8639905727265565\n",
      "6 of KFold 10\n",
      "ROC AUC score: 0.860315637138338\n",
      "7 of KFold 10\n",
      "ROC AUC score: 0.8541314621271411\n",
      "8 of KFold 10\n",
      "ROC AUC score: 0.8591251161155883\n",
      "9 of KFold 10\n",
      "ROC AUC score: 0.8485185367040229\n",
      "10 of KFold 10\n",
      "ROC AUC score: 0.8506239396661344\n",
      "\n",
      "CROSS VALIDANTION SUMMARY:\n",
      "Mean: 0.8544053582100727\n",
      "Std deviation: 0.005139446403724529\n",
      "\n",
      "TEST SET:\n",
      "F1-Score(micro): 0.8759685569904548\n",
      "F1-Score(macro): 0.8043391742829866\n",
      "F1-Score(weighted): 0.8786340527649255\n",
      "F1-Score(None): [0.92272441 0.68595394]\n",
      "Accuracy: 0.8759685569904548\n",
      "Sensitivity: 0.7274234886175185\n",
      "Specificity: 0.9099596370786904\n",
      "Confusion Matrix: [0.9099596370786904, 0.73]\n",
      "ROC AUC score: 0.8186915628481044\n",
      "CPU times: user 3.06 s, sys: 6.11 ms, total: 3.07 s\n",
      "Wall time: 3.05 s\n"
     ]
    }
   ],
   "source": [
    "%%time\n",
    "DecisionTree_(X_ENN, y_ENN, X_test, y_test)"
   ]
  },
  {
   "cell_type": "code",
   "execution_count": 22,
   "metadata": {},
   "outputs": [
    {
     "name": "stdout",
     "output_type": "stream",
     "text": [
      "CPU times: user 2 µs, sys: 0 ns, total: 2 µs\n",
      "Wall time: 3.58 µs\n",
      "RANDOM FOREST\n",
      "TRAIN AND VALIDATION SETS:\n",
      "1 of KFold 10\n",
      "ROC AUC score: 0.8418205618707771\n",
      "2 of KFold 10\n",
      "ROC AUC score: 0.8453695754307586\n",
      "3 of KFold 10\n",
      "ROC AUC score: 0.8500374081989749\n",
      "4 of KFold 10\n",
      "ROC AUC score: 0.8403167943214473\n",
      "5 of KFold 10\n",
      "ROC AUC score: 0.8524240622432635\n",
      "6 of KFold 10\n",
      "ROC AUC score: 0.8493610952703745\n",
      "7 of KFold 10\n",
      "ROC AUC score: 0.8486651769088365\n",
      "8 of KFold 10\n",
      "ROC AUC score: 0.8526123317444776\n",
      "9 of KFold 10\n",
      "ROC AUC score: 0.843699484666704\n",
      "10 of KFold 10\n",
      "ROC AUC score: 0.8453528872267843\n",
      "\n",
      "CROSS VALIDANTION SUMMARY:\n",
      "Mean: 0.8469659377882399\n",
      "Std deviation: 0.004077217602387186\n",
      "\n",
      "TEST SET:\n",
      "F1-Score(micro): 0.916058394160584\n",
      "F1-Score(macro): 0.8551494497243691\n",
      "F1-Score(weighted): 0.9140964816720332\n",
      "F1-Score(None): [0.94907865 0.76122025]\n",
      "Accuracy: 0.916058394160584\n",
      "Sensitivity: 0.7185285692748379\n",
      "Specificity: 0.9612584951874978\n",
      "Confusion Matrix: [0.9612584951874978, 0.72]\n",
      "ROC AUC score: 0.8398935322311678\n",
      "CPU times: user 50.4 s, sys: 43.8 ms, total: 50.4 s\n",
      "Wall time: 50.4 s\n"
     ]
    }
   ],
   "source": [
    "%%time\n",
    "RandomForest_(X_ENN, y_ENN, X_test, y_test)"
   ]
  },
  {
   "cell_type": "code",
   "execution_count": 23,
   "metadata": {},
   "outputs": [
    {
     "name": "stdout",
     "output_type": "stream",
     "text": [
      "CPU times: user 1e+03 ns, sys: 1 µs, total: 2 µs\n",
      "Wall time: 4.05 µs\n",
      "NEURAL NETWORK\n",
      "TRAIN AND VALIDATION SETS:\n",
      "1 of KFold 10\n",
      "ROC AUC score: 0.7302077074315239\n",
      "2 of KFold 10\n",
      "ROC AUC score: 0.7170085726138798\n",
      "3 of KFold 10\n",
      "ROC AUC score: 0.720563683947935\n",
      "4 of KFold 10\n",
      "ROC AUC score: 0.7196080319243932\n",
      "5 of KFold 10\n",
      "ROC AUC score: 0.7316887030277567\n",
      "6 of KFold 10\n",
      "ROC AUC score: 0.7212990509904346\n",
      "7 of KFold 10\n",
      "ROC AUC score: 0.7035132359296755\n",
      "8 of KFold 10\n",
      "ROC AUC score: 0.7162070013664876\n",
      "9 of KFold 10\n"
     ]
    },
    {
     "name": "stderr",
     "output_type": "stream",
     "text": [
      "/usr/local/lib/python3.6/dist-packages/sklearn/neural_network/multilayer_perceptron.py:566: ConvergenceWarning: Stochastic Optimizer: Maximum iterations (200) reached and the optimization hasn't converged yet.\n",
      "  % self.max_iter, ConvergenceWarning)\n"
     ]
    },
    {
     "name": "stdout",
     "output_type": "stream",
     "text": [
      "ROC AUC score: 0.7603016711788666\n",
      "10 of KFold 10\n",
      "ROC AUC score: 0.7160290960226785\n",
      "\n",
      "CROSS VALIDANTION SUMMARY:\n",
      "Mean: 0.7236426754433631\n",
      "Std deviation: 0.014301862752174852\n",
      "\n",
      "TEST SET:\n",
      "F1-Score(micro): 0.8801516002245929\n",
      "F1-Score(macro): 0.7595032123951522\n",
      "F1-Score(weighted): 0.8664029730491343\n",
      "F1-Score(None): [0.92984273 0.5891637 ]\n",
      "Accuracy: 0.8801516002245929\n",
      "Sensitivity: 0.46148047640584955\n",
      "Specificity: 0.9759547383309759\n",
      "Confusion Matrix: [0.9759547383309759, 0.46]\n",
      "ROC AUC score: 0.7187176073684127\n",
      "CPU times: user 18min 37s, sys: 9min 36s, total: 28min 13s\n",
      "Wall time: 3min 35s\n"
     ]
    }
   ],
   "source": [
    "%%time\n",
    "NN_(X_ENN, y_ENN, X_test, y_test)"
   ]
  },
  {
   "cell_type": "code",
   "execution_count": 24,
   "metadata": {},
   "outputs": [
    {
     "name": "stdout",
     "output_type": "stream",
     "text": [
      "Resampling dataset using Tomek's Link (TL)...\n",
      "... DONE!\n",
      "X and Y TL: 82020 82020\n"
     ]
    }
   ],
   "source": [
    "print(\"Resampling dataset using Tomek's Link (TL)...\")\n",
    "X_TL, y_TL = TomekLinks(random_state=42).fit_sample(X_train, y_train.values.ravel())\n",
    "print(\"... DONE!\")\n",
    "print(\"X and Y TL:\", len(X_TL), len(y_TL))"
   ]
  },
  {
   "cell_type": "code",
   "execution_count": 25,
   "metadata": {},
   "outputs": [
    {
     "name": "stdout",
     "output_type": "stream",
     "text": [
      "\n",
      "LOGISTIC REGRESSION\n",
      "TRAIN AND VALIDATION SETS:\n",
      "1 of KFold 10\n"
     ]
    },
    {
     "name": "stderr",
     "output_type": "stream",
     "text": [
      "/usr/local/lib/python3.6/dist-packages/sklearn/linear_model/logistic.py:947: ConvergenceWarning: lbfgs failed to converge. Increase the number of iterations.\n",
      "  \"of iterations.\", ConvergenceWarning)\n"
     ]
    },
    {
     "name": "stdout",
     "output_type": "stream",
     "text": [
      "ROC AUC score: 0.6903862424107545\n",
      "2 of KFold 10\n"
     ]
    },
    {
     "name": "stderr",
     "output_type": "stream",
     "text": [
      "/usr/local/lib/python3.6/dist-packages/sklearn/linear_model/logistic.py:947: ConvergenceWarning: lbfgs failed to converge. Increase the number of iterations.\n",
      "  \"of iterations.\", ConvergenceWarning)\n"
     ]
    },
    {
     "name": "stdout",
     "output_type": "stream",
     "text": [
      "ROC AUC score: 0.7031197051025028\n",
      "3 of KFold 10\n"
     ]
    },
    {
     "name": "stderr",
     "output_type": "stream",
     "text": [
      "/usr/local/lib/python3.6/dist-packages/sklearn/linear_model/logistic.py:947: ConvergenceWarning: lbfgs failed to converge. Increase the number of iterations.\n",
      "  \"of iterations.\", ConvergenceWarning)\n"
     ]
    },
    {
     "name": "stdout",
     "output_type": "stream",
     "text": [
      "ROC AUC score: 0.6986017966975245\n",
      "4 of KFold 10\n"
     ]
    },
    {
     "name": "stderr",
     "output_type": "stream",
     "text": [
      "/usr/local/lib/python3.6/dist-packages/sklearn/linear_model/logistic.py:947: ConvergenceWarning: lbfgs failed to converge. Increase the number of iterations.\n",
      "  \"of iterations.\", ConvergenceWarning)\n"
     ]
    },
    {
     "name": "stdout",
     "output_type": "stream",
     "text": [
      "ROC AUC score: 0.7097900012139349\n",
      "5 of KFold 10\n"
     ]
    },
    {
     "name": "stderr",
     "output_type": "stream",
     "text": [
      "/usr/local/lib/python3.6/dist-packages/sklearn/linear_model/logistic.py:947: ConvergenceWarning: lbfgs failed to converge. Increase the number of iterations.\n",
      "  \"of iterations.\", ConvergenceWarning)\n"
     ]
    },
    {
     "name": "stdout",
     "output_type": "stream",
     "text": [
      "ROC AUC score: 0.6974747439637782\n",
      "6 of KFold 10\n"
     ]
    },
    {
     "name": "stderr",
     "output_type": "stream",
     "text": [
      "/usr/local/lib/python3.6/dist-packages/sklearn/linear_model/logistic.py:947: ConvergenceWarning: lbfgs failed to converge. Increase the number of iterations.\n",
      "  \"of iterations.\", ConvergenceWarning)\n"
     ]
    },
    {
     "name": "stdout",
     "output_type": "stream",
     "text": [
      "ROC AUC score: 0.6918007939443058\n",
      "7 of KFold 10\n"
     ]
    },
    {
     "name": "stderr",
     "output_type": "stream",
     "text": [
      "/usr/local/lib/python3.6/dist-packages/sklearn/linear_model/logistic.py:947: ConvergenceWarning: lbfgs failed to converge. Increase the number of iterations.\n",
      "  \"of iterations.\", ConvergenceWarning)\n"
     ]
    },
    {
     "name": "stdout",
     "output_type": "stream",
     "text": [
      "ROC AUC score: 0.6998676059909634\n",
      "8 of KFold 10\n"
     ]
    },
    {
     "name": "stderr",
     "output_type": "stream",
     "text": [
      "/usr/local/lib/python3.6/dist-packages/sklearn/linear_model/logistic.py:947: ConvergenceWarning: lbfgs failed to converge. Increase the number of iterations.\n",
      "  \"of iterations.\", ConvergenceWarning)\n"
     ]
    },
    {
     "name": "stdout",
     "output_type": "stream",
     "text": [
      "ROC AUC score: 0.6970390489309927\n",
      "9 of KFold 10\n"
     ]
    },
    {
     "name": "stderr",
     "output_type": "stream",
     "text": [
      "/usr/local/lib/python3.6/dist-packages/sklearn/linear_model/logistic.py:947: ConvergenceWarning: lbfgs failed to converge. Increase the number of iterations.\n",
      "  \"of iterations.\", ConvergenceWarning)\n"
     ]
    },
    {
     "name": "stdout",
     "output_type": "stream",
     "text": [
      "ROC AUC score: 0.6984693488990269\n",
      "10 of KFold 10\n",
      "ROC AUC score: 0.692775787492051\n",
      "\n",
      "CROSS VALIDANTION SUMMARY:\n",
      "Mean: 0.6979325074645836\n",
      "Std deviation: 0.005423389474000861\n",
      "\n",
      "TEST SET:\n",
      "F1-Score(micro): 0.7437394722066255\n",
      "F1-Score(macro): 0.6563818162065003\n",
      "F1-Score(weighted): 0.7651119410520905\n",
      "F1-Score(None): [0.82963792 0.48312571]\n",
      "Accuracy: 0.7437394722066255\n",
      "Sensitivity: 0.6431478968792401\n",
      "Specificity: 0.7667575119881326\n",
      "Confusion Matrix: [0.7667575119881326, 0.64]\n",
      "ROC AUC score: 0.7049527044336863\n",
      "CPU times: user 30.5 s, sys: 17.2 s, total: 47.8 s\n",
      "Wall time: 6.15 s\n"
     ]
    },
    {
     "name": "stderr",
     "output_type": "stream",
     "text": [
      "/usr/local/lib/python3.6/dist-packages/sklearn/linear_model/logistic.py:947: ConvergenceWarning: lbfgs failed to converge. Increase the number of iterations.\n",
      "  \"of iterations.\", ConvergenceWarning)\n"
     ]
    }
   ],
   "source": [
    "%%time\n",
    "LogisticRegr_(X_TL, y_TL, X_test, y_test)"
   ]
  },
  {
   "cell_type": "code",
   "execution_count": 26,
   "metadata": {},
   "outputs": [
    {
     "name": "stdout",
     "output_type": "stream",
     "text": [
      "CPU times: user 2 µs, sys: 0 ns, total: 2 µs\n",
      "Wall time: 4.77 µs\n",
      "\n",
      "DECISION TREE\n",
      "TRAIN AND VALIDATION SETS:\n",
      "1 of KFold 10\n",
      "ROC AUC score: 0.8536106494854111\n",
      "2 of KFold 10\n",
      "ROC AUC score: 0.8516580798608866\n",
      "3 of KFold 10\n",
      "ROC AUC score: 0.8505003351238007\n",
      "4 of KFold 10\n",
      "ROC AUC score: 0.8650449518755888\n",
      "5 of KFold 10\n",
      "ROC AUC score: 0.8483103552906156\n",
      "6 of KFold 10\n",
      "ROC AUC score: 0.8596037556949176\n",
      "7 of KFold 10\n",
      "ROC AUC score: 0.8519790721374905\n",
      "8 of KFold 10\n",
      "ROC AUC score: 0.850155797209457\n",
      "9 of KFold 10\n",
      "ROC AUC score: 0.8561757921036534\n",
      "10 of KFold 10\n",
      "ROC AUC score: 0.8608734810891875\n",
      "\n",
      "CROSS VALIDANTION SUMMARY:\n",
      "Mean: 0.854791226987101\n",
      "Std deviation: 0.005179086708862637\n",
      "\n",
      "TEST SET:\n",
      "F1-Score(micro): 0.8992981471083661\n",
      "F1-Score(macro): 0.8331983954991179\n",
      "F1-Score(weighted): 0.8990947451166149\n",
      "F1-Score(None): [0.93820099 0.7281958 ]\n",
      "Accuracy: 0.8992981471083661\n",
      "Sensitivity: 0.7244082617216946\n",
      "Specificity: 0.9393176251423052\n",
      "Confusion Matrix: [0.9393176251423052, 0.72]\n",
      "ROC AUC score: 0.831862943432\n",
      "CPU times: user 3.16 s, sys: 0 ns, total: 3.16 s\n",
      "Wall time: 3.15 s\n"
     ]
    }
   ],
   "source": [
    "%%time\n",
    "DecisionTree_(X_TL, y_TL, X_test, y_test)"
   ]
  },
  {
   "cell_type": "code",
   "execution_count": 27,
   "metadata": {},
   "outputs": [
    {
     "name": "stdout",
     "output_type": "stream",
     "text": [
      "CPU times: user 2 µs, sys: 0 ns, total: 2 µs\n",
      "Wall time: 3.81 µs\n",
      "RANDOM FOREST\n",
      "TRAIN AND VALIDATION SETS:\n",
      "1 of KFold 10\n",
      "ROC AUC score: 0.8471431518565838\n",
      "2 of KFold 10\n",
      "ROC AUC score: 0.8465915051700476\n",
      "3 of KFold 10\n",
      "ROC AUC score: 0.8462118163234175\n",
      "4 of KFold 10\n",
      "ROC AUC score: 0.8568530296819481\n",
      "5 of KFold 10\n",
      "ROC AUC score: 0.8518920082743081\n",
      "6 of KFold 10\n",
      "ROC AUC score: 0.8491245170631142\n",
      "7 of KFold 10\n",
      "ROC AUC score: 0.8411837073033808\n",
      "8 of KFold 10\n",
      "ROC AUC score: 0.8445344283591714\n",
      "9 of KFold 10\n",
      "ROC AUC score: 0.852295730980791\n",
      "10 of KFold 10\n",
      "ROC AUC score: 0.8573332409896721\n",
      "\n",
      "CROSS VALIDANTION SUMMARY:\n",
      "Mean: 0.8493163136002435\n",
      "Std deviation: 0.004974052260305592\n",
      "\n",
      "TEST SET:\n",
      "F1-Score(micro): 0.920943290286356\n",
      "F1-Score(macro): 0.8635445833991016\n",
      "F1-Score(weighted): 0.9190848263978759\n",
      "F1-Score(None): [0.95204523 0.77504394]\n",
      "Accuracy: 0.920943290286356\n",
      "Sensitivity: 0.7313432835820896\n",
      "Specificity: 0.9643288370648911\n",
      "Confusion Matrix: [0.9643288370648911, 0.73]\n",
      "ROC AUC score: 0.8478360603234903\n",
      "CPU times: user 52.8 s, sys: 48.4 ms, total: 52.9 s\n",
      "Wall time: 52.9 s\n"
     ]
    }
   ],
   "source": [
    "%%time\n",
    "RandomForest_(X_TL, y_TL, X_test, y_test)"
   ]
  },
  {
   "cell_type": "code",
   "execution_count": 28,
   "metadata": {},
   "outputs": [
    {
     "name": "stdout",
     "output_type": "stream",
     "text": [
      "CPU times: user 2 µs, sys: 0 ns, total: 2 µs\n",
      "Wall time: 3.58 µs\n",
      "NEURAL NETWORK\n",
      "TRAIN AND VALIDATION SETS:\n",
      "1 of KFold 10\n",
      "ROC AUC score: 0.730552394372789\n",
      "2 of KFold 10\n",
      "ROC AUC score: 0.7371131087111169\n",
      "3 of KFold 10\n",
      "ROC AUC score: 0.7165183344551709\n",
      "4 of KFold 10\n",
      "ROC AUC score: 0.7360081092036239\n",
      "5 of KFold 10\n",
      "ROC AUC score: 0.7338290039625778\n",
      "6 of KFold 10\n",
      "ROC AUC score: 0.7262971429021065\n",
      "7 of KFold 10\n",
      "ROC AUC score: 0.7236731094031843\n",
      "8 of KFold 10\n",
      "ROC AUC score: 0.7252600346425215\n",
      "9 of KFold 10\n",
      "ROC AUC score: 0.7334378047851733\n",
      "10 of KFold 10\n",
      "ROC AUC score: 0.7482322035326248\n",
      "\n",
      "CROSS VALIDANTION SUMMARY:\n",
      "Mean: 0.7310921245970888\n",
      "Std deviation: 0.008318219529634551\n",
      "\n",
      "TEST SET:\n",
      "F1-Score(micro): 0.8856822010106683\n",
      "F1-Score(macro): 0.7786025596388747\n",
      "F1-Score(weighted): 0.8752301352575196\n",
      "F1-Score(None): [0.93257385 0.62463127]\n",
      "Accuracy: 0.8856822010106682\n",
      "Sensitivity: 0.5107794361525705\n",
      "Specificity: 0.9714699692965812\n",
      "Confusion Matrix: [0.9714699692965812, 0.51]\n",
      "ROC AUC score: 0.7411247027245759\n",
      "CPU times: user 16min 40s, sys: 8min 43s, total: 25min 24s\n",
      "Wall time: 3min 13s\n"
     ]
    }
   ],
   "source": [
    "%%time\n",
    "NN_(X_TL, y_TL, X_test, y_test)"
   ]
  },
  {
   "cell_type": "markdown",
   "metadata": {},
   "source": [
    "## Oversampling"
   ]
  },
  {
   "cell_type": "code",
   "execution_count": 29,
   "metadata": {},
   "outputs": [
    {
     "name": "stdout",
     "output_type": "stream",
     "text": [
      "Resampling dataset using Random OverSampling (ROS)...\n",
      "X and Y ROS: 135406 135406\n"
     ]
    },
    {
     "name": "stderr",
     "output_type": "stream",
     "text": [
      "/usr/local/lib/python3.6/dist-packages/sklearn/utils/validation.py:724: DataConversionWarning: A column-vector y was passed when a 1d array was expected. Please change the shape of y to (n_samples, ), for example using ravel().\n",
      "  y = column_or_1d(y, warn=True)\n"
     ]
    }
   ],
   "source": [
    "print(\"Resampling dataset using Random OverSampling (ROS)...\")\n",
    "ros = RandomOverSampler(random_state=42)\n",
    "X_ROS, y_ROS = ros.fit_resample(X_train, y_train)\n",
    "print(\"X and Y ROS:\", len(X_ROS), len(y_ROS))"
   ]
  },
  {
   "cell_type": "code",
   "execution_count": 30,
   "metadata": {},
   "outputs": [
    {
     "name": "stdout",
     "output_type": "stream",
     "text": [
      "CPU times: user 2 µs, sys: 0 ns, total: 2 µs\n",
      "Wall time: 5.25 µs\n",
      "\n",
      "LOGISTIC REGRESSION\n",
      "TRAIN AND VALIDATION SETS:\n",
      "1 of KFold 10\n"
     ]
    },
    {
     "name": "stderr",
     "output_type": "stream",
     "text": [
      "/usr/local/lib/python3.6/dist-packages/sklearn/linear_model/logistic.py:947: ConvergenceWarning: lbfgs failed to converge. Increase the number of iterations.\n",
      "  \"of iterations.\", ConvergenceWarning)\n"
     ]
    },
    {
     "name": "stdout",
     "output_type": "stream",
     "text": [
      "ROC AUC score: 0.698715108551174\n",
      "2 of KFold 10\n"
     ]
    },
    {
     "name": "stderr",
     "output_type": "stream",
     "text": [
      "/usr/local/lib/python3.6/dist-packages/sklearn/linear_model/logistic.py:947: ConvergenceWarning: lbfgs failed to converge. Increase the number of iterations.\n",
      "  \"of iterations.\", ConvergenceWarning)\n"
     ]
    },
    {
     "name": "stdout",
     "output_type": "stream",
     "text": [
      "ROC AUC score: 0.6984935755427558\n",
      "3 of KFold 10\n"
     ]
    },
    {
     "name": "stderr",
     "output_type": "stream",
     "text": [
      "/usr/local/lib/python3.6/dist-packages/sklearn/linear_model/logistic.py:947: ConvergenceWarning: lbfgs failed to converge. Increase the number of iterations.\n",
      "  \"of iterations.\", ConvergenceWarning)\n"
     ]
    },
    {
     "name": "stdout",
     "output_type": "stream",
     "text": [
      "ROC AUC score: 0.6990843302318712\n",
      "4 of KFold 10\n"
     ]
    },
    {
     "name": "stderr",
     "output_type": "stream",
     "text": [
      "/usr/local/lib/python3.6/dist-packages/sklearn/linear_model/logistic.py:947: ConvergenceWarning: lbfgs failed to converge. Increase the number of iterations.\n",
      "  \"of iterations.\", ConvergenceWarning)\n"
     ]
    },
    {
     "name": "stdout",
     "output_type": "stream",
     "text": [
      "ROC AUC score: 0.7016248153618907\n",
      "5 of KFold 10\n"
     ]
    },
    {
     "name": "stderr",
     "output_type": "stream",
     "text": [
      "/usr/local/lib/python3.6/dist-packages/sklearn/linear_model/logistic.py:947: ConvergenceWarning: lbfgs failed to converge. Increase the number of iterations.\n",
      "  \"of iterations.\", ConvergenceWarning)\n"
     ]
    },
    {
     "name": "stdout",
     "output_type": "stream",
     "text": [
      "ROC AUC score: 0.69615952732644\n",
      "6 of KFold 10\n"
     ]
    },
    {
     "name": "stderr",
     "output_type": "stream",
     "text": [
      "/usr/local/lib/python3.6/dist-packages/sklearn/linear_model/logistic.py:947: ConvergenceWarning: lbfgs failed to converge. Increase the number of iterations.\n",
      "  \"of iterations.\", ConvergenceWarning)\n"
     ]
    },
    {
     "name": "stdout",
     "output_type": "stream",
     "text": [
      "ROC AUC score: 0.6906942392909896\n",
      "7 of KFold 10\n"
     ]
    },
    {
     "name": "stderr",
     "output_type": "stream",
     "text": [
      "/usr/local/lib/python3.6/dist-packages/sklearn/linear_model/logistic.py:947: ConvergenceWarning: lbfgs failed to converge. Increase the number of iterations.\n",
      "  \"of iterations.\", ConvergenceWarning)\n"
     ]
    },
    {
     "name": "stdout",
     "output_type": "stream",
     "text": [
      "ROC AUC score: 0.6921713441654358\n",
      "8 of KFold 10\n"
     ]
    },
    {
     "name": "stderr",
     "output_type": "stream",
     "text": [
      "/usr/local/lib/python3.6/dist-packages/sklearn/linear_model/logistic.py:947: ConvergenceWarning: lbfgs failed to converge. Increase the number of iterations.\n",
      "  \"of iterations.\", ConvergenceWarning)\n"
     ]
    },
    {
     "name": "stdout",
     "output_type": "stream",
     "text": [
      "ROC AUC score: 0.6963810930576071\n",
      "9 of KFold 10\n"
     ]
    },
    {
     "name": "stderr",
     "output_type": "stream",
     "text": [
      "/usr/local/lib/python3.6/dist-packages/sklearn/linear_model/logistic.py:947: ConvergenceWarning: lbfgs failed to converge. Increase the number of iterations.\n",
      "  \"of iterations.\", ConvergenceWarning)\n"
     ]
    },
    {
     "name": "stdout",
     "output_type": "stream",
     "text": [
      "ROC AUC score: 0.7068685376661741\n",
      "10 of KFold 10\n",
      "ROC AUC score: 0.6984490398818316\n",
      "\n",
      "CROSS VALIDANTION SUMMARY:\n",
      "Mean: 0.697864161107617\n",
      "Std deviation: 0.004325432907192887\n",
      "\n",
      "TEST SET:\n",
      "F1-Score(micro): 0.743542953396968\n",
      "F1-Score(macro): 0.6555553805514761\n",
      "F1-Score(weighted): 0.7648079608652086\n",
      "F1-Score(None): [0.829644   0.48146677]\n",
      "Accuracy: 0.743542953396968\n",
      "Sensitivity: 0.6393788632594603\n",
      "Specificity: 0.7673784800082796\n",
      "Confusion Matrix: [0.7673784800082796, 0.64]\n",
      "ROC AUC score: 0.7033786716338699\n",
      "CPU times: user 55 s, sys: 28.1 s, total: 1min 23s\n",
      "Wall time: 10.7 s\n"
     ]
    },
    {
     "name": "stderr",
     "output_type": "stream",
     "text": [
      "/usr/local/lib/python3.6/dist-packages/sklearn/linear_model/logistic.py:947: ConvergenceWarning: lbfgs failed to converge. Increase the number of iterations.\n",
      "  \"of iterations.\", ConvergenceWarning)\n"
     ]
    }
   ],
   "source": [
    "%%time\n",
    "LogisticRegr_NoIloc(X_ROS, y_ROS, X_test, y_test)"
   ]
  },
  {
   "cell_type": "code",
   "execution_count": 31,
   "metadata": {},
   "outputs": [
    {
     "name": "stdout",
     "output_type": "stream",
     "text": [
      "CPU times: user 2 µs, sys: 0 ns, total: 2 µs\n",
      "Wall time: 5.25 µs\n",
      "\n",
      "DECISION TREE\n",
      "TRAIN AND VALIDATION SETS:\n",
      "1 of KFold 10\n",
      "ROC AUC score: 0.9771082557967802\n",
      "2 of KFold 10\n",
      "ROC AUC score: 0.9755575247378525\n",
      "3 of KFold 10\n",
      "ROC AUC score: 0.9784374538472899\n",
      "4 of KFold 10\n",
      "ROC AUC score: 0.980576070901034\n",
      "5 of KFold 10\n",
      "ROC AUC score: 0.981536189069424\n",
      "6 of KFold 10\n",
      "ROC AUC score: 0.9788035450516986\n",
      "7 of KFold 10\n",
      "ROC AUC score: 0.9804283604135893\n",
      "8 of KFold 10\n",
      "ROC AUC score: 0.9795420974889216\n",
      "9 of KFold 10\n",
      "ROC AUC score: 0.980576070901034\n",
      "10 of KFold 10\n",
      "ROC AUC score: 0.9807237813884786\n",
      "\n",
      "CROSS VALIDANTION SUMMARY:\n",
      "Mean: 0.9793289349596103\n",
      "Std deviation: 0.0017722348068166245\n",
      "\n",
      "TEST SET:\n",
      "F1-Score(micro): 0.885120718697361\n",
      "F1-Score(macro): 0.8201410347011704\n",
      "F1-Score(weighted): 0.8879857734237695\n",
      "F1-Score(None): [0.92824829 0.71203378]\n",
      "Accuracy: 0.8851207186973611\n",
      "Sensitivity: 0.7627016432986582\n",
      "Specificity: 0.9131334736261083\n",
      "Confusion Matrix: [0.9131334736261083, 0.76]\n",
      "ROC AUC score: 0.8379175584623834\n",
      "CPU times: user 5.45 s, sys: 1.97 ms, total: 5.46 s\n",
      "Wall time: 5.44 s\n"
     ]
    }
   ],
   "source": [
    "%%time\n",
    "DecisionTree_NoIloc(X_ROS, y_ROS, X_test, y_test)"
   ]
  },
  {
   "cell_type": "code",
   "execution_count": 32,
   "metadata": {},
   "outputs": [
    {
     "name": "stdout",
     "output_type": "stream",
     "text": [
      "CPU times: user 2 µs, sys: 1e+03 ns, total: 3 µs\n",
      "Wall time: 3.81 µs\n",
      "RANDOM FOREST\n",
      "TRAIN AND VALIDATION SETS:\n",
      "1 of KFold 10\n",
      "ROC AUC score: 0.9754098360655737\n",
      "2 of KFold 10\n",
      "ROC AUC score: 0.9746713927041796\n",
      "3 of KFold 10\n",
      "ROC AUC score: 0.9777728548220351\n",
      "4 of KFold 10\n",
      "ROC AUC score: 0.9783604135893648\n",
      "5 of KFold 10\n",
      "ROC AUC score: 0.978877400295421\n",
      "6 of KFold 10\n",
      "ROC AUC score: 0.9784342688330873\n",
      "7 of KFold 10\n",
      "ROC AUC score: 0.9788035450516988\n",
      "8 of KFold 10\n",
      "ROC AUC score: 0.9789512555391433\n",
      "9 of KFold 10\n",
      "ROC AUC score: 0.978655834564254\n",
      "10 of KFold 10\n",
      "ROC AUC score: 0.9765878877400295\n",
      "\n",
      "CROSS VALIDANTION SUMMARY:\n",
      "Mean: 0.9776524689204787\n",
      "Std deviation: 0.0014729379678389755\n",
      "\n",
      "TEST SET:\n",
      "F1-Score(micro): 0.9106400898371702\n",
      "F1-Score(macro): 0.8585556014061919\n",
      "F1-Score(weighted): 0.9124208178940978\n",
      "F1-Score(None): [0.94438718 0.77272403]\n",
      "Accuracy: 0.9106400898371702\n",
      "Sensitivity: 0.815769636665159\n",
      "Specificity: 0.9323489840273226\n",
      "Confusion Matrix: [0.9323489840273226, 0.82]\n",
      "ROC AUC score: 0.8740593103462407\n",
      "CPU times: user 1min 33s, sys: 60.4 ms, total: 1min 33s\n",
      "Wall time: 1min 33s\n"
     ]
    }
   ],
   "source": [
    "%%time\n",
    "RandomForest_NoIloc(X_ROS, y_ROS, X_test, y_test)"
   ]
  },
  {
   "cell_type": "code",
   "execution_count": 33,
   "metadata": {},
   "outputs": [
    {
     "name": "stdout",
     "output_type": "stream",
     "text": [
      "CPU times: user 2 µs, sys: 0 ns, total: 2 µs\n",
      "Wall time: 3.81 µs\n",
      "NEURAL NETWORK\n",
      "TRAIN AND VALIDATION SETS:\n",
      "1 of KFold 10\n",
      "ROC AUC score: 0.8281642298035741\n",
      "2 of KFold 10\n",
      "ROC AUC score: 0.8266873430807856\n",
      "3 of KFold 10\n",
      "ROC AUC score: 0.8224043715846995\n",
      "4 of KFold 10\n",
      "ROC AUC score: 0.8245937961595274\n",
      "5 of KFold 10\n",
      "ROC AUC score: 0.8275480059084195\n",
      "6 of KFold 10\n",
      "ROC AUC score: 0.8257016248153619\n",
      "7 of KFold 10\n",
      "ROC AUC score: 0.8232644017725259\n",
      "8 of KFold 10\n",
      "ROC AUC score: 0.8304283604135894\n",
      "9 of KFold 10\n",
      "ROC AUC score: 0.8328655834564255\n",
      "10 of KFold 10\n",
      "ROC AUC score: 0.8237075332348596\n",
      "\n",
      "CROSS VALIDANTION SUMMARY:\n",
      "Mean: 0.8265365250229768\n",
      "Std deviation: 0.0031488816557150305\n",
      "\n",
      "TEST SET:\n",
      "F1-Score(micro): 0.819764177428411\n",
      "F1-Score(macro): 0.7501700999099356\n",
      "F1-Score(weighted): 0.8329204195295101\n",
      "F1-Score(None): [0.88202867 0.61831153]\n",
      "Accuracy: 0.819764177428411\n",
      "Sensitivity: 0.7839589929142168\n",
      "Specificity: 0.8279573601959499\n",
      "Confusion Matrix: [0.8279573601959499, 0.78]\n",
      "ROC AUC score: 0.8059581765550834\n",
      "CPU times: user 12min 52s, sys: 6min 55s, total: 19min 47s\n",
      "Wall time: 2min 30s\n"
     ]
    }
   ],
   "source": [
    "%%time\n",
    "NN_NoIloc(X_ROS, y_ROS, X_test, y_test)"
   ]
  },
  {
   "cell_type": "code",
   "execution_count": 34,
   "metadata": {},
   "outputs": [
    {
     "name": "stdout",
     "output_type": "stream",
     "text": [
      "Resampling dataset using SMOTE (SMO)...\n"
     ]
    },
    {
     "name": "stderr",
     "output_type": "stream",
     "text": [
      "/usr/local/lib/python3.6/dist-packages/sklearn/utils/validation.py:724: DataConversionWarning: A column-vector y was passed when a 1d array was expected. Please change the shape of y to (n_samples, ), for example using ravel().\n",
      "  y = column_or_1d(y, warn=True)\n"
     ]
    },
    {
     "name": "stdout",
     "output_type": "stream",
     "text": [
      "X and Y SMO: 135406 135406\n"
     ]
    }
   ],
   "source": [
    "print(\"Resampling dataset using SMOTE (SMO)...\")\n",
    "sm = SMOTE(random_state=42)\n",
    "X_SMO, y_SMO = sm.fit_resample(X_train, y_train)\n",
    "print(\"X and Y SMO:\", len(X_SMO), len(y_SMO))"
   ]
  },
  {
   "cell_type": "code",
   "execution_count": 35,
   "metadata": {},
   "outputs": [
    {
     "name": "stdout",
     "output_type": "stream",
     "text": [
      "CPU times: user 1e+03 ns, sys: 1e+03 ns, total: 2 µs\n",
      "Wall time: 3.81 µs\n",
      "\n",
      "LOGISTIC REGRESSION\n",
      "TRAIN AND VALIDATION SETS:\n",
      "1 of KFold 10\n"
     ]
    },
    {
     "name": "stderr",
     "output_type": "stream",
     "text": [
      "/usr/local/lib/python3.6/dist-packages/sklearn/linear_model/logistic.py:947: ConvergenceWarning: lbfgs failed to converge. Increase the number of iterations.\n",
      "  \"of iterations.\", ConvergenceWarning)\n"
     ]
    },
    {
     "name": "stdout",
     "output_type": "stream",
     "text": [
      "ROC AUC score: 0.6995273962487077\n",
      "2 of KFold 10\n"
     ]
    },
    {
     "name": "stderr",
     "output_type": "stream",
     "text": [
      "/usr/local/lib/python3.6/dist-packages/sklearn/linear_model/logistic.py:947: ConvergenceWarning: lbfgs failed to converge. Increase the number of iterations.\n",
      "  \"of iterations.\", ConvergenceWarning)\n"
     ]
    },
    {
     "name": "stdout",
     "output_type": "stream",
     "text": [
      "ROC AUC score: 0.6987151085511741\n",
      "3 of KFold 10\n"
     ]
    },
    {
     "name": "stderr",
     "output_type": "stream",
     "text": [
      "/usr/local/lib/python3.6/dist-packages/sklearn/linear_model/logistic.py:947: ConvergenceWarning: lbfgs failed to converge. Increase the number of iterations.\n",
      "  \"of iterations.\", ConvergenceWarning)\n"
     ]
    },
    {
     "name": "stdout",
     "output_type": "stream",
     "text": [
      "ROC AUC score: 0.6984197312066165\n",
      "4 of KFold 10\n"
     ]
    },
    {
     "name": "stderr",
     "output_type": "stream",
     "text": [
      "/usr/local/lib/python3.6/dist-packages/sklearn/linear_model/logistic.py:947: ConvergenceWarning: lbfgs failed to converge. Increase the number of iterations.\n",
      "  \"of iterations.\", ConvergenceWarning)\n"
     ]
    },
    {
     "name": "stdout",
     "output_type": "stream",
     "text": [
      "ROC AUC score: 0.7022156573116691\n",
      "5 of KFold 10\n"
     ]
    },
    {
     "name": "stderr",
     "output_type": "stream",
     "text": [
      "/usr/local/lib/python3.6/dist-packages/sklearn/linear_model/logistic.py:947: ConvergenceWarning: lbfgs failed to converge. Increase the number of iterations.\n",
      "  \"of iterations.\", ConvergenceWarning)\n"
     ]
    },
    {
     "name": "stdout",
     "output_type": "stream",
     "text": [
      "ROC AUC score: 0.7016248153618907\n",
      "6 of KFold 10\n"
     ]
    },
    {
     "name": "stderr",
     "output_type": "stream",
     "text": [
      "/usr/local/lib/python3.6/dist-packages/sklearn/linear_model/logistic.py:947: ConvergenceWarning: lbfgs failed to converge. Increase the number of iterations.\n",
      "  \"of iterations.\", ConvergenceWarning)\n"
     ]
    },
    {
     "name": "stdout",
     "output_type": "stream",
     "text": [
      "ROC AUC score: 0.7005908419497784\n",
      "7 of KFold 10\n"
     ]
    },
    {
     "name": "stderr",
     "output_type": "stream",
     "text": [
      "/usr/local/lib/python3.6/dist-packages/sklearn/linear_model/logistic.py:947: ConvergenceWarning: lbfgs failed to converge. Increase the number of iterations.\n",
      "  \"of iterations.\", ConvergenceWarning)\n"
     ]
    },
    {
     "name": "stdout",
     "output_type": "stream",
     "text": [
      "ROC AUC score: 0.6971935007385525\n",
      "8 of KFold 10\n"
     ]
    },
    {
     "name": "stderr",
     "output_type": "stream",
     "text": [
      "/usr/local/lib/python3.6/dist-packages/sklearn/linear_model/logistic.py:947: ConvergenceWarning: lbfgs failed to converge. Increase the number of iterations.\n",
      "  \"of iterations.\", ConvergenceWarning)\n"
     ]
    },
    {
     "name": "stdout",
     "output_type": "stream",
     "text": [
      "ROC AUC score: 0.6945347119645494\n",
      "9 of KFold 10\n"
     ]
    },
    {
     "name": "stderr",
     "output_type": "stream",
     "text": [
      "/usr/local/lib/python3.6/dist-packages/sklearn/linear_model/logistic.py:947: ConvergenceWarning: lbfgs failed to converge. Increase the number of iterations.\n",
      "  \"of iterations.\", ConvergenceWarning)\n"
     ]
    },
    {
     "name": "stdout",
     "output_type": "stream",
     "text": [
      "ROC AUC score: 0.7013293943870015\n",
      "10 of KFold 10\n",
      "ROC AUC score: 0.693943870014771\n",
      "\n",
      "CROSS VALIDANTION SUMMARY:\n",
      "Mean: 0.6988095027734712\n",
      "Std deviation: 0.0027255601457011674\n",
      "\n",
      "TEST SET:\n",
      "F1-Score(micro): 0.7428691746209994\n",
      "F1-Score(macro): 0.6560619691011061\n",
      "F1-Score(weighted): 0.7644994249374679\n",
      "F1-Score(None): [0.82885172 0.48327221]\n",
      "Accuracy: 0.7428691746209994\n",
      "Sensitivity: 0.6457108397406904\n",
      "Specificity: 0.7651015972677407\n",
      "Confusion Matrix: [0.7651015972677407, 0.65]\n",
      "ROC AUC score: 0.7054062185042157\n",
      "CPU times: user 54.5 s, sys: 28.6 s, total: 1min 23s\n",
      "Wall time: 10.8 s\n"
     ]
    },
    {
     "name": "stderr",
     "output_type": "stream",
     "text": [
      "/usr/local/lib/python3.6/dist-packages/sklearn/linear_model/logistic.py:947: ConvergenceWarning: lbfgs failed to converge. Increase the number of iterations.\n",
      "  \"of iterations.\", ConvergenceWarning)\n"
     ]
    }
   ],
   "source": [
    "%%time\n",
    "LogisticRegr_NoIloc(X_SMO, y_SMO, X_test, y_test)"
   ]
  },
  {
   "cell_type": "code",
   "execution_count": 36,
   "metadata": {},
   "outputs": [
    {
     "name": "stdout",
     "output_type": "stream",
     "text": [
      "CPU times: user 3 µs, sys: 1e+03 ns, total: 4 µs\n",
      "Wall time: 5.48 µs\n",
      "\n",
      "DECISION TREE\n",
      "TRAIN AND VALIDATION SETS:\n",
      "1 of KFold 10\n",
      "ROC AUC score: 0.8948456653374687\n",
      "2 of KFold 10\n",
      "ROC AUC score: 0.8884212080933392\n",
      "3 of KFold 10\n",
      "ROC AUC score: 0.9428444838280903\n",
      "4 of KFold 10\n",
      "ROC AUC score: 0.9582717872968981\n",
      "5 of KFold 10\n",
      "ROC AUC score: 0.9587887740029544\n",
      "6 of KFold 10\n",
      "ROC AUC score: 0.9584194977843427\n",
      "7 of KFold 10\n",
      "ROC AUC score: 0.958271787296898\n",
      "8 of KFold 10\n",
      "ROC AUC score: 0.9612998522895125\n",
      "9 of KFold 10\n",
      "ROC AUC score: 0.956794682422452\n",
      "10 of KFold 10\n",
      "ROC AUC score: 0.955834564254062\n",
      "\n",
      "CROSS VALIDANTION SUMMARY:\n",
      "Mean: 0.9433792302606017\n",
      "Std deviation: 0.02634326416680903\n",
      "\n",
      "TEST SET:\n",
      "F1-Score(micro): 0.7803481190342504\n",
      "F1-Score(macro): 0.7143853864918925\n",
      "F1-Score(weighted): 0.8005245921965232\n",
      "F1-Score(None): [0.85164398 0.5771268 ]\n",
      "Accuracy: 0.7803481190342504\n",
      "Sensitivity: 0.804914819840193\n",
      "Specificity: 0.7747266015800186\n",
      "Confusion Matrix: [0.7747266015800186, 0.8]\n",
      "ROC AUC score: 0.7898207107101057\n",
      "CPU times: user 8.94 s, sys: 9.77 ms, total: 8.95 s\n",
      "Wall time: 8.94 s\n"
     ]
    }
   ],
   "source": [
    "%%time\n",
    "DecisionTree_NoIloc(X_SMO, y_SMO, X_test, y_test)"
   ]
  },
  {
   "cell_type": "code",
   "execution_count": 37,
   "metadata": {},
   "outputs": [
    {
     "name": "stdout",
     "output_type": "stream",
     "text": [
      "CPU times: user 2 µs, sys: 0 ns, total: 2 µs\n",
      "Wall time: 3.58 µs\n",
      "RANDOM FOREST\n",
      "TRAIN AND VALIDATION SETS:\n",
      "1 of KFold 10\n",
      "ROC AUC score: 0.9130113720277654\n",
      "2 of KFold 10\n",
      "ROC AUC score: 0.9107221976074434\n",
      "3 of KFold 10\n",
      "ROC AUC score: 0.959533303795599\n",
      "4 of KFold 10\n",
      "ROC AUC score: 0.9763663220088625\n",
      "5 of KFold 10\n",
      "ROC AUC score: 0.9763663220088628\n",
      "6 of KFold 10\n",
      "ROC AUC score: 0.9759970457902511\n",
      "7 of KFold 10\n",
      "ROC AUC score: 0.9759231905465288\n",
      "8 of KFold 10\n",
      "ROC AUC score: 0.9767355982274741\n",
      "9 of KFold 10\n",
      "ROC AUC score: 0.9759970457902511\n",
      "10 of KFold 10\n",
      "ROC AUC score: 0.974519940915805\n",
      "\n",
      "CROSS VALIDANTION SUMMARY:\n",
      "Mean: 0.9615172338718843\n",
      "Std deviation: 0.025308914745831173\n",
      "\n",
      "TEST SET:\n",
      "F1-Score(micro): 0.7656092083099383\n",
      "F1-Score(macro): 0.7134839528650254\n",
      "F1-Score(weighted): 0.7901776907848295\n",
      "F1-Score(None): [0.83569165 0.59127625]\n",
      "Accuracy: 0.7656092083099383\n",
      "Sensitivity: 0.9104477611940298\n",
      "Specificity: 0.7324662779866837\n",
      "Confusion Matrix: [0.7324662779866837, 0.91]\n",
      "ROC AUC score: 0.8214570195903569\n",
      "CPU times: user 2min 18s, sys: 33.2 ms, total: 2min 18s\n",
      "Wall time: 2min 18s\n"
     ]
    }
   ],
   "source": [
    "%%time\n",
    "RandomForest_NoIloc(X_SMO, y_SMO, X_test, y_test)"
   ]
  },
  {
   "cell_type": "code",
   "execution_count": 38,
   "metadata": {},
   "outputs": [
    {
     "name": "stdout",
     "output_type": "stream",
     "text": [
      "CPU times: user 0 ns, sys: 2 µs, total: 2 µs\n",
      "Wall time: 3.58 µs\n",
      "NEURAL NETWORK\n",
      "TRAIN AND VALIDATION SETS:\n",
      "1 of KFold 10\n",
      "ROC AUC score: 0.8207797961896323\n",
      "2 of KFold 10\n",
      "ROC AUC score: 0.8246935460050213\n",
      "3 of KFold 10\n",
      "ROC AUC score: 0.8193767538029834\n",
      "4 of KFold 10\n",
      "ROC AUC score: 0.8217134416543574\n",
      "5 of KFold 10\n",
      "ROC AUC score: 0.8149187592319055\n",
      "6 of KFold 10\n",
      "ROC AUC score: 0.8222304283604136\n",
      "7 of KFold 10\n",
      "ROC AUC score: 0.8226735598227475\n",
      "8 of KFold 10\n",
      "ROC AUC score: 0.8166174298375185\n",
      "9 of KFold 10\n",
      "ROC AUC score: 0.8251846381093058\n",
      "10 of KFold 10\n",
      "ROC AUC score: 0.8226735598227474\n",
      "\n",
      "CROSS VALIDANTION SUMMARY:\n",
      "Mean: 0.8210861912836632\n",
      "Std deviation: 0.003123708936040876\n",
      "\n",
      "TEST SET:\n",
      "F1-Score(micro): 0.8209152161706907\n",
      "F1-Score(macro): 0.7516124789215071\n",
      "F1-Score(weighted): 0.833950687184502\n",
      "F1-Score(None): [0.88281437 0.62041059]\n",
      "Accuracy: 0.8209152161706906\n",
      "Sensitivity: 0.7859188903965023\n",
      "Specificity: 0.8289233104495118\n",
      "Confusion Matrix: [0.8289233104495118, 0.79]\n",
      "ROC AUC score: 0.8074211004230072\n",
      "CPU times: user 14min 51s, sys: 7min 57s, total: 22min 48s\n",
      "Wall time: 2min 53s\n"
     ]
    }
   ],
   "source": [
    "%%time\n",
    "NN_NoIloc(X_SMO, y_SMO, X_test, y_test)"
   ]
  },
  {
   "cell_type": "code",
   "execution_count": 39,
   "metadata": {},
   "outputs": [
    {
     "name": "stdout",
     "output_type": "stream",
     "text": [
      "Resampling dataset using ADASYN (ADA)...\n"
     ]
    },
    {
     "name": "stderr",
     "output_type": "stream",
     "text": [
      "/usr/local/lib/python3.6/dist-packages/sklearn/utils/validation.py:724: DataConversionWarning: A column-vector y was passed when a 1d array was expected. Please change the shape of y to (n_samples, ), for example using ravel().\n",
      "  y = column_or_1d(y, warn=True)\n"
     ]
    },
    {
     "name": "stdout",
     "output_type": "stream",
     "text": [
      "X and Y ADA: 135751 135751\n"
     ]
    }
   ],
   "source": [
    "print(\"Resampling dataset using ADASYN (ADA)...\")\n",
    "ada = ADASYN(random_state=42)\n",
    "X_ADA, y_ADA = ada.fit_resample(X_train, y_train)\n",
    "print(\"X and Y ADA:\", len(X_ADA), len(y_ADA))"
   ]
  },
  {
   "cell_type": "code",
   "execution_count": 40,
   "metadata": {},
   "outputs": [
    {
     "name": "stdout",
     "output_type": "stream",
     "text": [
      "CPU times: user 2 µs, sys: 0 ns, total: 2 µs\n",
      "Wall time: 4.29 µs\n",
      "\n",
      "LOGISTIC REGRESSION\n",
      "TRAIN AND VALIDATION SETS:\n",
      "1 of KFold 10\n"
     ]
    },
    {
     "name": "stderr",
     "output_type": "stream",
     "text": [
      "/usr/local/lib/python3.6/dist-packages/sklearn/linear_model/logistic.py:947: ConvergenceWarning: lbfgs failed to converge. Increase the number of iterations.\n",
      "  \"of iterations.\", ConvergenceWarning)\n"
     ]
    },
    {
     "name": "stdout",
     "output_type": "stream",
     "text": [
      "ROC AUC score: 0.7022992554472541\n",
      "2 of KFold 10\n"
     ]
    },
    {
     "name": "stderr",
     "output_type": "stream",
     "text": [
      "/usr/local/lib/python3.6/dist-packages/sklearn/linear_model/logistic.py:947: ConvergenceWarning: lbfgs failed to converge. Increase the number of iterations.\n",
      "  \"of iterations.\", ConvergenceWarning)\n"
     ]
    },
    {
     "name": "stdout",
     "output_type": "stream",
     "text": [
      "ROC AUC score: 0.6996604137170981\n",
      "3 of KFold 10\n"
     ]
    },
    {
     "name": "stderr",
     "output_type": "stream",
     "text": [
      "/usr/local/lib/python3.6/dist-packages/sklearn/linear_model/logistic.py:947: ConvergenceWarning: lbfgs failed to converge. Increase the number of iterations.\n",
      "  \"of iterations.\", ConvergenceWarning)\n"
     ]
    },
    {
     "name": "stdout",
     "output_type": "stream",
     "text": [
      "ROC AUC score: 0.6906410198396563\n",
      "4 of KFold 10\n"
     ]
    },
    {
     "name": "stderr",
     "output_type": "stream",
     "text": [
      "/usr/local/lib/python3.6/dist-packages/sklearn/linear_model/logistic.py:947: ConvergenceWarning: lbfgs failed to converge. Increase the number of iterations.\n",
      "  \"of iterations.\", ConvergenceWarning)\n"
     ]
    },
    {
     "name": "stdout",
     "output_type": "stream",
     "text": [
      "ROC AUC score: 0.6803275352535335\n",
      "5 of KFold 10\n"
     ]
    },
    {
     "name": "stderr",
     "output_type": "stream",
     "text": [
      "/usr/local/lib/python3.6/dist-packages/sklearn/linear_model/logistic.py:947: ConvergenceWarning: lbfgs failed to converge. Increase the number of iterations.\n",
      "  \"of iterations.\", ConvergenceWarning)\n"
     ]
    },
    {
     "name": "stdout",
     "output_type": "stream",
     "text": [
      "ROC AUC score: 0.685092039587713\n",
      "6 of KFold 10\n"
     ]
    },
    {
     "name": "stderr",
     "output_type": "stream",
     "text": [
      "/usr/local/lib/python3.6/dist-packages/sklearn/linear_model/logistic.py:947: ConvergenceWarning: lbfgs failed to converge. Increase the number of iterations.\n",
      "  \"of iterations.\", ConvergenceWarning)\n"
     ]
    },
    {
     "name": "stdout",
     "output_type": "stream",
     "text": [
      "ROC AUC score: 0.6858911522394799\n",
      "7 of KFold 10\n"
     ]
    },
    {
     "name": "stderr",
     "output_type": "stream",
     "text": [
      "/usr/local/lib/python3.6/dist-packages/sklearn/linear_model/logistic.py:947: ConvergenceWarning: lbfgs failed to converge. Increase the number of iterations.\n",
      "  \"of iterations.\", ConvergenceWarning)\n"
     ]
    },
    {
     "name": "stdout",
     "output_type": "stream",
     "text": [
      "ROC AUC score: 0.6662644875118977\n",
      "8 of KFold 10\n"
     ]
    },
    {
     "name": "stderr",
     "output_type": "stream",
     "text": [
      "/usr/local/lib/python3.6/dist-packages/sklearn/linear_model/logistic.py:947: ConvergenceWarning: lbfgs failed to converge. Increase the number of iterations.\n",
      "  \"of iterations.\", ConvergenceWarning)\n"
     ]
    },
    {
     "name": "stdout",
     "output_type": "stream",
     "text": [
      "ROC AUC score: 0.6834714026635641\n",
      "9 of KFold 10\n"
     ]
    },
    {
     "name": "stderr",
     "output_type": "stream",
     "text": [
      "/usr/local/lib/python3.6/dist-packages/sklearn/linear_model/logistic.py:947: ConvergenceWarning: lbfgs failed to converge. Increase the number of iterations.\n",
      "  \"of iterations.\", ConvergenceWarning)\n"
     ]
    },
    {
     "name": "stdout",
     "output_type": "stream",
     "text": [
      "ROC AUC score: 0.6775917285600529\n",
      "10 of KFold 10\n",
      "ROC AUC score: 0.6671293799719863\n",
      "\n",
      "CROSS VALIDANTION SUMMARY:\n",
      "Mean: 0.6838368414792236\n",
      "Std deviation: 0.011325704530410739\n",
      "\n",
      "TEST SET:\n",
      "F1-Score(micro): 0.737956204379562\n",
      "F1-Score(macro): 0.6543300819060254\n",
      "F1-Score(weighted): 0.7610297589478883\n",
      "F1-Score(None): [0.82435077 0.48430939]\n",
      "Accuracy: 0.737956204379562\n",
      "Sensitivity: 0.66078697421981\n",
      "Specificity: 0.7556145858488288\n",
      "Confusion Matrix: [0.7556145858488288, 0.66]\n",
      "ROC AUC score: 0.7082007800343194\n",
      "CPU times: user 51.8 s, sys: 26.4 s, total: 1min 18s\n",
      "Wall time: 10.1 s\n"
     ]
    },
    {
     "name": "stderr",
     "output_type": "stream",
     "text": [
      "/usr/local/lib/python3.6/dist-packages/sklearn/linear_model/logistic.py:947: ConvergenceWarning: lbfgs failed to converge. Increase the number of iterations.\n",
      "  \"of iterations.\", ConvergenceWarning)\n"
     ]
    }
   ],
   "source": [
    "%%time\n",
    "LogisticRegr_NoIloc(X_ADA, y_ADA, X_test, y_test)"
   ]
  },
  {
   "cell_type": "code",
   "execution_count": 41,
   "metadata": {},
   "outputs": [
    {
     "name": "stdout",
     "output_type": "stream",
     "text": [
      "CPU times: user 2 µs, sys: 1e+03 ns, total: 3 µs\n",
      "Wall time: 4.53 µs\n",
      "\n",
      "DECISION TREE\n",
      "TRAIN AND VALIDATION SETS:\n",
      "1 of KFold 10\n",
      "ROC AUC score: 0.8918239941679794\n",
      "2 of KFold 10\n",
      "ROC AUC score: 0.888509853851153\n",
      "3 of KFold 10\n",
      "ROC AUC score: 0.9392063942141634\n",
      "4 of KFold 10\n",
      "ROC AUC score: 0.9477196583014704\n",
      "5 of KFold 10\n",
      "ROC AUC score: 0.951624869627316\n",
      "6 of KFold 10\n",
      "ROC AUC score: 0.9475753665358148\n",
      "7 of KFold 10\n",
      "ROC AUC score: 0.9471284364937156\n",
      "8 of KFold 10\n",
      "ROC AUC score: 0.9501504237587056\n",
      "9 of KFold 10\n",
      "ROC AUC score: 0.9531539141542423\n",
      "10 of KFold 10\n",
      "ROC AUC score: 0.9475593685875976\n",
      "\n",
      "CROSS VALIDANTION SUMMARY:\n",
      "Mean: 0.9364452279692159\n",
      "Std deviation: 0.023414868296092173\n",
      "\n",
      "TEST SET:\n",
      "F1-Score(micro): 0.7690061763054464\n",
      "F1-Score(macro): 0.702005394340264\n",
      "F1-Score(weighted): 0.7906812664568825\n",
      "F1-Score(None): [0.84330604 0.56070475]\n",
      "Accuracy: 0.7690061763054464\n",
      "Sensitivity: 0.7916478214985677\n",
      "Specificity: 0.7638251630041053\n",
      "Confusion Matrix: [0.7638251630041053, 0.79]\n",
      "ROC AUC score: 0.7777364922513365\n",
      "CPU times: user 9.13 s, sys: 41 µs, total: 9.13 s\n",
      "Wall time: 9.12 s\n"
     ]
    }
   ],
   "source": [
    "%%time\n",
    "DecisionTree_NoIloc(X_ADA, y_ADA, X_test, y_test)"
   ]
  },
  {
   "cell_type": "code",
   "execution_count": 42,
   "metadata": {},
   "outputs": [
    {
     "name": "stdout",
     "output_type": "stream",
     "text": [
      "CPU times: user 1 µs, sys: 1e+03 ns, total: 2 µs\n",
      "Wall time: 3.81 µs\n",
      "RANDOM FOREST\n",
      "TRAIN AND VALIDATION SETS:\n",
      "1 of KFold 10\n",
      "ROC AUC score: 0.9187905675878597\n",
      "2 of KFold 10\n",
      "ROC AUC score: 0.9166564608476896\n",
      "3 of KFold 10\n",
      "ROC AUC score: 0.9626502075725767\n",
      "4 of KFold 10\n",
      "ROC AUC score: 0.9734356634545153\n",
      "5 of KFold 10\n",
      "ROC AUC score: 0.9742499704253432\n",
      "6 of KFold 10\n",
      "ROC AUC score: 0.9722611968565122\n",
      "7 of KFold 10\n",
      "ROC AUC score: 0.9729989895777824\n",
      "8 of KFold 10\n",
      "ROC AUC score: 0.974177634613527\n",
      "9 of KFold 10\n",
      "ROC AUC score: 0.9729948149363873\n",
      "10 of KFold 10\n",
      "ROC AUC score: 0.9704866891228291\n",
      "\n",
      "CROSS VALIDANTION SUMMARY:\n",
      "Mean: 0.9608702194995022\n",
      "Std deviation: 0.021815272314576587\n",
      "\n",
      "TEST SET:\n",
      "F1-Score(micro): 0.7322010106681639\n",
      "F1-Score(macro): 0.6835458075780951\n",
      "F1-Score(weighted): 0.7614178208862784\n",
      "F1-Score(None): [0.80763103 0.55946058]\n",
      "Accuracy: 0.7322010106681639\n",
      "Sensitivity: 0.9131614654002713\n",
      "Specificity: 0.6907924241901542\n",
      "Confusion Matrix: [0.6907924241901542, 0.91]\n",
      "ROC AUC score: 0.8019769447952128\n",
      "CPU times: user 2min 18s, sys: 49 ms, total: 2min 18s\n",
      "Wall time: 2min 18s\n"
     ]
    }
   ],
   "source": [
    "%%time\n",
    "RandomForest_NoIloc(X_ADA, y_ADA, X_test, y_test)"
   ]
  },
  {
   "cell_type": "code",
   "execution_count": 43,
   "metadata": {},
   "outputs": [
    {
     "name": "stdout",
     "output_type": "stream",
     "text": [
      "CPU times: user 2 µs, sys: 0 ns, total: 2 µs\n",
      "Wall time: 3.58 µs\n",
      "NEURAL NETWORK\n",
      "TRAIN AND VALIDATION SETS:\n",
      "1 of KFold 10\n",
      "ROC AUC score: 0.815967413433115\n",
      "2 of KFold 10\n",
      "ROC AUC score: 0.8163924008806629\n",
      "3 of KFold 10\n",
      "ROC AUC score: 0.7945930862385735\n",
      "4 of KFold 10\n",
      "ROC AUC score: 0.7892942455857789\n",
      "5 of KFold 10\n",
      "ROC AUC score: 0.7859958302447262\n",
      "6 of KFold 10\n",
      "ROC AUC score: 0.7870640994055765\n",
      "7 of KFold 10\n",
      "ROC AUC score: 0.772583804809436\n",
      "8 of KFold 10\n",
      "ROC AUC score: 0.7786815021103823\n",
      "9 of KFold 10\n",
      "ROC AUC score: 0.7945436345116306\n",
      "10 of KFold 10\n",
      "ROC AUC score: 0.7696650332543981\n",
      "\n",
      "CROSS VALIDANTION SUMMARY:\n",
      "Mean: 0.790478105047428\n",
      "Std deviation: 0.015101042000533757\n",
      "\n",
      "TEST SET:\n",
      "F1-Score(micro): 0.7926165075800112\n",
      "F1-Score(macro): 0.7278657213404854\n",
      "F1-Score(weighted): 0.8111715674180888\n",
      "F1-Score(None): [0.86060949 0.59512195]\n",
      "Accuracy: 0.7926165075800112\n",
      "Sensitivity: 0.8184833408714006\n",
      "Specificity: 0.7866974850795184\n",
      "Confusion Matrix: [0.7866974850795184, 0.82]\n",
      "ROC AUC score: 0.8025904129754595\n",
      "CPU times: user 33min 30s, sys: 16min 50s, total: 50min 21s\n",
      "Wall time: 6min 25s\n"
     ]
    }
   ],
   "source": [
    "%%time\n",
    "NN_NoIloc(X_ADA, y_ADA, X_test, y_test)"
   ]
  }
 ],
 "metadata": {
  "kernelspec": {
   "display_name": "Python 3",
   "language": "python",
   "name": "python3"
  },
  "language_info": {
   "codemirror_mode": {
    "name": "ipython",
    "version": 3
   },
   "file_extension": ".py",
   "mimetype": "text/x-python",
   "name": "python",
   "nbconvert_exporter": "python",
   "pygments_lexer": "ipython3",
   "version": "3.6.8"
  }
 },
 "nbformat": 4,
 "nbformat_minor": 2
}
