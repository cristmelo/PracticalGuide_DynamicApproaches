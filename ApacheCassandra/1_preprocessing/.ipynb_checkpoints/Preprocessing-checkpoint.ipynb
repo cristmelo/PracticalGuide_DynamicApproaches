{
 "cells": [
  {
   "cell_type": "code",
   "execution_count": 1,
   "metadata": {},
   "outputs": [],
   "source": [
    "import pandas as pd\n",
    "import numpy as np"
   ]
  },
  {
   "cell_type": "code",
   "execution_count": 2,
   "metadata": {},
   "outputs": [
    {
     "name": "stdout",
     "output_type": "stream",
     "text": [
      "Reading CSV and choosing selected kind classes only...\n"
     ]
    },
    {
     "ename": "FileNotFoundError",
     "evalue": "[Errno 2] File b'originalReleases/2010-03-13T23-17-20Z-cassandra-0.4.1.csv' does not exist: b'originalReleases/2010-03-13T23-17-20Z-cassandra-0.4.1.csv'",
     "output_type": "error",
     "traceback": [
      "\u001b[0;31m---------------------------------------------------------------------------\u001b[0m",
      "\u001b[0;31mFileNotFoundError\u001b[0m                         Traceback (most recent call last)",
      "\u001b[0;32m<ipython-input-2-fc8b279db0d5>\u001b[0m in \u001b[0;36m<module>\u001b[0;34m()\u001b[0m\n\u001b[1;32m      1\u001b[0m \u001b[0mprint\u001b[0m\u001b[0;34m(\u001b[0m\u001b[0;34m\"Reading CSV and choosing selected kind classes only...\"\u001b[0m\u001b[0;34m)\u001b[0m\u001b[0;34m\u001b[0m\u001b[0;34m\u001b[0m\u001b[0m\n\u001b[0;32m----> 2\u001b[0;31m \u001b[0mrelease_01_df\u001b[0m \u001b[0;34m=\u001b[0m \u001b[0mpd\u001b[0m\u001b[0;34m.\u001b[0m\u001b[0mread_csv\u001b[0m\u001b[0;34m(\u001b[0m\u001b[0;34m'originalReleases/2010-03-13T23-17-20Z-cassandra-0.4.1.csv'\u001b[0m\u001b[0;34m)\u001b[0m\u001b[0;34m\u001b[0m\u001b[0;34m\u001b[0m\u001b[0m\n\u001b[0m\u001b[1;32m      3\u001b[0m \u001b[0mrelease_02_df\u001b[0m \u001b[0;34m=\u001b[0m \u001b[0mpd\u001b[0m\u001b[0;34m.\u001b[0m\u001b[0mread_csv\u001b[0m\u001b[0;34m(\u001b[0m\u001b[0;34m'originalReleases/2010-03-13T23-17-20Z-cassandra-0.4.2.csv'\u001b[0m\u001b[0;34m)\u001b[0m\u001b[0;34m\u001b[0m\u001b[0;34m\u001b[0m\u001b[0m\n\u001b[1;32m      4\u001b[0m \u001b[0mrelease_03_df\u001b[0m \u001b[0;34m=\u001b[0m \u001b[0mpd\u001b[0m\u001b[0;34m.\u001b[0m\u001b[0mread_csv\u001b[0m\u001b[0;34m(\u001b[0m\u001b[0;34m'originalReleases/2010-03-13T23-17-20Z-cassandra-0.5.0.csv'\u001b[0m\u001b[0;34m)\u001b[0m\u001b[0;34m\u001b[0m\u001b[0;34m\u001b[0m\u001b[0m\n\u001b[1;32m      5\u001b[0m \u001b[0mrelease_04_df\u001b[0m \u001b[0;34m=\u001b[0m \u001b[0mpd\u001b[0m\u001b[0;34m.\u001b[0m\u001b[0mread_csv\u001b[0m\u001b[0;34m(\u001b[0m\u001b[0;34m'originalReleases/2010-04-12T01-37-17Z-cassandra-0.6.0.csv'\u001b[0m\u001b[0;34m)\u001b[0m\u001b[0;34m\u001b[0m\u001b[0;34m\u001b[0m\u001b[0m\n",
      "\u001b[0;32m/usr/local/lib/python3.6/dist-packages/pandas/io/parsers.py\u001b[0m in \u001b[0;36mparser_f\u001b[0;34m(filepath_or_buffer, sep, delimiter, header, names, index_col, usecols, squeeze, prefix, mangle_dupe_cols, dtype, engine, converters, true_values, false_values, skipinitialspace, skiprows, skipfooter, nrows, na_values, keep_default_na, na_filter, verbose, skip_blank_lines, parse_dates, infer_datetime_format, keep_date_col, date_parser, dayfirst, iterator, chunksize, compression, thousands, decimal, lineterminator, quotechar, quoting, doublequote, escapechar, comment, encoding, dialect, tupleize_cols, error_bad_lines, warn_bad_lines, delim_whitespace, low_memory, memory_map, float_precision)\u001b[0m\n\u001b[1;32m    700\u001b[0m                     skip_blank_lines=skip_blank_lines)\n\u001b[1;32m    701\u001b[0m \u001b[0;34m\u001b[0m\u001b[0m\n\u001b[0;32m--> 702\u001b[0;31m         \u001b[0;32mreturn\u001b[0m \u001b[0m_read\u001b[0m\u001b[0;34m(\u001b[0m\u001b[0mfilepath_or_buffer\u001b[0m\u001b[0;34m,\u001b[0m \u001b[0mkwds\u001b[0m\u001b[0;34m)\u001b[0m\u001b[0;34m\u001b[0m\u001b[0;34m\u001b[0m\u001b[0m\n\u001b[0m\u001b[1;32m    703\u001b[0m \u001b[0;34m\u001b[0m\u001b[0m\n\u001b[1;32m    704\u001b[0m     \u001b[0mparser_f\u001b[0m\u001b[0;34m.\u001b[0m\u001b[0m__name__\u001b[0m \u001b[0;34m=\u001b[0m \u001b[0mname\u001b[0m\u001b[0;34m\u001b[0m\u001b[0;34m\u001b[0m\u001b[0m\n",
      "\u001b[0;32m/usr/local/lib/python3.6/dist-packages/pandas/io/parsers.py\u001b[0m in \u001b[0;36m_read\u001b[0;34m(filepath_or_buffer, kwds)\u001b[0m\n\u001b[1;32m    427\u001b[0m \u001b[0;34m\u001b[0m\u001b[0m\n\u001b[1;32m    428\u001b[0m     \u001b[0;31m# Create the parser.\u001b[0m\u001b[0;34m\u001b[0m\u001b[0;34m\u001b[0m\u001b[0;34m\u001b[0m\u001b[0m\n\u001b[0;32m--> 429\u001b[0;31m     \u001b[0mparser\u001b[0m \u001b[0;34m=\u001b[0m \u001b[0mTextFileReader\u001b[0m\u001b[0;34m(\u001b[0m\u001b[0mfilepath_or_buffer\u001b[0m\u001b[0;34m,\u001b[0m \u001b[0;34m**\u001b[0m\u001b[0mkwds\u001b[0m\u001b[0;34m)\u001b[0m\u001b[0;34m\u001b[0m\u001b[0;34m\u001b[0m\u001b[0m\n\u001b[0m\u001b[1;32m    430\u001b[0m \u001b[0;34m\u001b[0m\u001b[0m\n\u001b[1;32m    431\u001b[0m     \u001b[0;32mif\u001b[0m \u001b[0mchunksize\u001b[0m \u001b[0;32mor\u001b[0m \u001b[0miterator\u001b[0m\u001b[0;34m:\u001b[0m\u001b[0;34m\u001b[0m\u001b[0;34m\u001b[0m\u001b[0m\n",
      "\u001b[0;32m/usr/local/lib/python3.6/dist-packages/pandas/io/parsers.py\u001b[0m in \u001b[0;36m__init__\u001b[0;34m(self, f, engine, **kwds)\u001b[0m\n\u001b[1;32m    893\u001b[0m             \u001b[0mself\u001b[0m\u001b[0;34m.\u001b[0m\u001b[0moptions\u001b[0m\u001b[0;34m[\u001b[0m\u001b[0;34m'has_index_names'\u001b[0m\u001b[0;34m]\u001b[0m \u001b[0;34m=\u001b[0m \u001b[0mkwds\u001b[0m\u001b[0;34m[\u001b[0m\u001b[0;34m'has_index_names'\u001b[0m\u001b[0;34m]\u001b[0m\u001b[0;34m\u001b[0m\u001b[0;34m\u001b[0m\u001b[0m\n\u001b[1;32m    894\u001b[0m \u001b[0;34m\u001b[0m\u001b[0m\n\u001b[0;32m--> 895\u001b[0;31m         \u001b[0mself\u001b[0m\u001b[0;34m.\u001b[0m\u001b[0m_make_engine\u001b[0m\u001b[0;34m(\u001b[0m\u001b[0mself\u001b[0m\u001b[0;34m.\u001b[0m\u001b[0mengine\u001b[0m\u001b[0;34m)\u001b[0m\u001b[0;34m\u001b[0m\u001b[0;34m\u001b[0m\u001b[0m\n\u001b[0m\u001b[1;32m    896\u001b[0m \u001b[0;34m\u001b[0m\u001b[0m\n\u001b[1;32m    897\u001b[0m     \u001b[0;32mdef\u001b[0m \u001b[0mclose\u001b[0m\u001b[0;34m(\u001b[0m\u001b[0mself\u001b[0m\u001b[0;34m)\u001b[0m\u001b[0;34m:\u001b[0m\u001b[0;34m\u001b[0m\u001b[0;34m\u001b[0m\u001b[0m\n",
      "\u001b[0;32m/usr/local/lib/python3.6/dist-packages/pandas/io/parsers.py\u001b[0m in \u001b[0;36m_make_engine\u001b[0;34m(self, engine)\u001b[0m\n\u001b[1;32m   1120\u001b[0m     \u001b[0;32mdef\u001b[0m \u001b[0m_make_engine\u001b[0m\u001b[0;34m(\u001b[0m\u001b[0mself\u001b[0m\u001b[0;34m,\u001b[0m \u001b[0mengine\u001b[0m\u001b[0;34m=\u001b[0m\u001b[0;34m'c'\u001b[0m\u001b[0;34m)\u001b[0m\u001b[0;34m:\u001b[0m\u001b[0;34m\u001b[0m\u001b[0;34m\u001b[0m\u001b[0m\n\u001b[1;32m   1121\u001b[0m         \u001b[0;32mif\u001b[0m \u001b[0mengine\u001b[0m \u001b[0;34m==\u001b[0m \u001b[0;34m'c'\u001b[0m\u001b[0;34m:\u001b[0m\u001b[0;34m\u001b[0m\u001b[0;34m\u001b[0m\u001b[0m\n\u001b[0;32m-> 1122\u001b[0;31m             \u001b[0mself\u001b[0m\u001b[0;34m.\u001b[0m\u001b[0m_engine\u001b[0m \u001b[0;34m=\u001b[0m \u001b[0mCParserWrapper\u001b[0m\u001b[0;34m(\u001b[0m\u001b[0mself\u001b[0m\u001b[0;34m.\u001b[0m\u001b[0mf\u001b[0m\u001b[0;34m,\u001b[0m \u001b[0;34m**\u001b[0m\u001b[0mself\u001b[0m\u001b[0;34m.\u001b[0m\u001b[0moptions\u001b[0m\u001b[0;34m)\u001b[0m\u001b[0;34m\u001b[0m\u001b[0;34m\u001b[0m\u001b[0m\n\u001b[0m\u001b[1;32m   1123\u001b[0m         \u001b[0;32melse\u001b[0m\u001b[0;34m:\u001b[0m\u001b[0;34m\u001b[0m\u001b[0;34m\u001b[0m\u001b[0m\n\u001b[1;32m   1124\u001b[0m             \u001b[0;32mif\u001b[0m \u001b[0mengine\u001b[0m \u001b[0;34m==\u001b[0m \u001b[0;34m'python'\u001b[0m\u001b[0;34m:\u001b[0m\u001b[0;34m\u001b[0m\u001b[0;34m\u001b[0m\u001b[0m\n",
      "\u001b[0;32m/usr/local/lib/python3.6/dist-packages/pandas/io/parsers.py\u001b[0m in \u001b[0;36m__init__\u001b[0;34m(self, src, **kwds)\u001b[0m\n\u001b[1;32m   1851\u001b[0m         \u001b[0mkwds\u001b[0m\u001b[0;34m[\u001b[0m\u001b[0;34m'usecols'\u001b[0m\u001b[0;34m]\u001b[0m \u001b[0;34m=\u001b[0m \u001b[0mself\u001b[0m\u001b[0;34m.\u001b[0m\u001b[0musecols\u001b[0m\u001b[0;34m\u001b[0m\u001b[0;34m\u001b[0m\u001b[0m\n\u001b[1;32m   1852\u001b[0m \u001b[0;34m\u001b[0m\u001b[0m\n\u001b[0;32m-> 1853\u001b[0;31m         \u001b[0mself\u001b[0m\u001b[0;34m.\u001b[0m\u001b[0m_reader\u001b[0m \u001b[0;34m=\u001b[0m \u001b[0mparsers\u001b[0m\u001b[0;34m.\u001b[0m\u001b[0mTextReader\u001b[0m\u001b[0;34m(\u001b[0m\u001b[0msrc\u001b[0m\u001b[0;34m,\u001b[0m \u001b[0;34m**\u001b[0m\u001b[0mkwds\u001b[0m\u001b[0;34m)\u001b[0m\u001b[0;34m\u001b[0m\u001b[0;34m\u001b[0m\u001b[0m\n\u001b[0m\u001b[1;32m   1854\u001b[0m         \u001b[0mself\u001b[0m\u001b[0;34m.\u001b[0m\u001b[0munnamed_cols\u001b[0m \u001b[0;34m=\u001b[0m \u001b[0mself\u001b[0m\u001b[0;34m.\u001b[0m\u001b[0m_reader\u001b[0m\u001b[0;34m.\u001b[0m\u001b[0munnamed_cols\u001b[0m\u001b[0;34m\u001b[0m\u001b[0;34m\u001b[0m\u001b[0m\n\u001b[1;32m   1855\u001b[0m \u001b[0;34m\u001b[0m\u001b[0m\n",
      "\u001b[0;32mpandas/_libs/parsers.pyx\u001b[0m in \u001b[0;36mpandas._libs.parsers.TextReader.__cinit__\u001b[0;34m()\u001b[0m\n",
      "\u001b[0;32mpandas/_libs/parsers.pyx\u001b[0m in \u001b[0;36mpandas._libs.parsers.TextReader._setup_parser_source\u001b[0;34m()\u001b[0m\n",
      "\u001b[0;31mFileNotFoundError\u001b[0m: [Errno 2] File b'originalReleases/2010-03-13T23-17-20Z-cassandra-0.4.1.csv' does not exist: b'originalReleases/2010-03-13T23-17-20Z-cassandra-0.4.1.csv'"
     ]
    }
   ],
   "source": [
    "print(\"Reading CSV and choosing selected kind classes only...\")\n",
    "release_01_df = pd.read_csv('originalReleases/2010-03-13T23-17-20Z-cassandra-0.4.1.csv')\n",
    "release_02_df = pd.read_csv('originalReleases/2010-03-13T23-17-20Z-cassandra-0.4.2.csv')\n",
    "release_03_df = pd.read_csv('originalReleases/2010-03-13T23-17-20Z-cassandra-0.5.0.csv')\n",
    "release_04_df = pd.read_csv('originalReleases/2010-04-12T01-37-17Z-cassandra-0.6.0.csv')\n",
    "release_05_df = pd.read_csv('originalReleases/2010-04-15T13-48-48Z-cassandra-0.6.1.csv')\n",
    "release_06_df = pd.read_csv('originalReleases/2010-07-27T21-48-02Z-cassandra-0.6.4.csv')\n",
    "release_07_df = pd.read_csv('originalReleases/2010-11-10T15-18-01Z-cassandra-0.6.7.csv')\n",
    "release_08_df = pd.read_csv('originalReleases/2011-01-10T00-38-51Z-cassandra-0.7.0.csv')\n",
    "release_09_df = pd.read_csv('originalReleases/2011-05-18T13-32-14Z-cassandra-0.7.6.csv')\n",
    "release_10_df = pd.read_csv('originalReleases/2011-07-16T14-07-06Z-cassandra-0.7.7.csv')\n",
    "release_11_df = pd.read_csv('originalReleases/2011-09-08T11-19-13Z-cassandra-0.8.5.csv')\n",
    "release_12_df = pd.read_csv('originalReleases/2011-10-18T11-24-49Z-cassandra-1.0.0.csv')\n",
    "release_13_df = pd.read_csv('originalReleases/2011-11-29T08-21-06Z-cassandra-1.0.4.csv')\n",
    "release_14_df = pd.read_csv('originalReleases/2012-05-08T06-29-08Z-cassandra-1.0.10.csv')\n",
    "release_15_df = pd.read_csv('originalReleases/2012-06-04T18-48-23Z-cassandra-1.1.1.csv')\n",
    "release_16_df = pd.read_csv('originalReleases/2012-07-02T18-23-17Z-cassandra-1.1.2.csv')\n",
    "release_17_df = pd.read_csv('originalReleases/2012-10-15T16-14-05Z-cassandra-1.1.6.csv')\n",
    "release_18_df = pd.read_csv('originalReleases/2013-01-02T09-37-23Z-cassandra-1.2.0.csv')\n",
    "release_19_df = pd.read_csv('originalReleases/2013-09-23T06-44-00Z-cassandra-1.2.10.csv')\n",
    "release_20_df = pd.read_csv('originalReleases/2013-10-28T09-09-18Z-cassandra-2.0.2.csv')\n",
    "release_21_df = pd.read_csv('originalReleases/2014-02-07T07-34-05Z-cassandra-1.2.15.csv')\n",
    "release_22_df = pd.read_csv('originalReleases/2014-03-10T15-03-19Z-cassandra-2.0.6.csv')\n",
    "release_23_df = pd.read_csv('originalReleases/2014-07-03T15-27-55Z-cassandra-1.2.18.csv')\n",
    "release_24_df = pd.read_csv('originalReleases/2014-08-25T16-45-28Z-cassandra-2.0.10.csv')\n",
    "release_25_df = pd.read_csv('originalReleases/2014-09-16T09-38-43Z-cassandra-2.1.0.csv')\n",
    "release_26_df = pd.read_csv('originalReleases/2014-10-24T16-19-23Z-cassandra-2.1.1.csv')\n",
    "release_27_df = pd.read_csv('originalReleases/2014-10-24T16-57-41Z-cassandra-2.0.11.csv')\n",
    "release_28_df = pd.read_csv('originalReleases/2014-11-10T15-40-32Z-cassandra-2.1.2.csv')\n",
    "release_29_df = pd.read_csv('originalReleases/2015-06-08T13-40-03Z-cassandra-2.1.6.csv')\n",
    "release_30_df = pd.read_csv('originalReleases/2015-07-20T10-08-26Z-cassandra-2.2.0.csv')\n",
    "release_31_df = pd.read_csv('originalReleases/2015-10-16T12-44-14Z-cassandra-2.2.3.csv')\n",
    "release_32_df = pd.read_csv('originalReleases/2015-10-16T12-50-36Z-cassandra-2.1.11.csv')\n",
    "release_33_df = pd.read_csv('originalReleases/2015-11-09T17-36-30Z-cassandra-3.0.0.csv')\n",
    "release_34_df = pd.read_csv('originalReleases/2015-12-07T14-16-41Z-cassandra-2.2.4.csv')\n",
    "release_35_df = pd.read_csv('originalReleases/2016-03-08T02-54-42Z-cassandra-3.4.csv')\n",
    "release_36_df = pd.read_csv('originalReleases/2016-03-08T03-00-48Z-cassandra-3.0.4.csv')\n",
    "release_37_df = pd.read_csv('originalReleases/2016-04-11T01-14-18Z-cassandra-3.0.5.csv')\n",
    "release_38_df = pd.read_csv('originalReleases/2016-04-13T14-51-51Z-cassandra-3.5.csv')\n",
    "release_39_df = pd.read_csv('originalReleases/2016-09-29T19-34-56Z-cassandra-3.8.csv')\n",
    "release_40_df = pd.read_csv('originalReleases/2017-02-03T21-59-56Z-cassandra-3.10.csv')\n",
    "release_41_df = pd.read_csv('originalReleases/2017-06-23T19-40-53Z-cassandra-3.0.14.csv')\n",
    "release_42_df = pd.read_csv('originalReleases/2017-06-23T20-02-37Z-cassandra-3.11.01.csv')\n",
    "release_43_df = pd.read_csv('originalReleases/2017-06-26T21-51-39Z-cassandra-2.1.18.csv')\n",
    "release_44_df = pd.read_csv('originalReleases/2017-06-26T21-53-20Z-cassandra-2.2.10.csv')\n",
    "release_45_df = pd.read_csv('originalReleases/2017-10-10T20-26-12Z-cassandra-3.11.1.csv')\n",
    "release_46_df = pd.read_csv('originalReleases/2019-02-11T22-15-18Z-cassandra-3.11.4.csv')\n",
    "release_47_df = pd.read_csv('originalReleases/2019-02-11T22-42-53Z-cassandra-3.0.18.csv')\n",
    "release_48_df = pd.read_csv('originalReleases/2019-02-11T22-59-09Z-cassandra-2.2.14.csv')\n",
    "release_49_df = pd.read_csv('originalReleases/2019-02-11T23-15-39Z-cassandra-2.1.21.csv')\n",
    "print(\"... DONE!\")"
   ]
  },
  {
   "cell_type": "code",
   "execution_count": null,
   "metadata": {},
   "outputs": [],
   "source": [
    "print(\"Dataframe containing the chronological order of all releases...\")\n",
    "time_based_df_list = [release_01_df, release_02_df, release_03_df, release_04_df, release_05_df, release_06_df, release_07_df, \n",
    "        release_08_df, release_09_df, release_10_df, release_11_df, release_12_df, release_13_df, release_14_df, release_15_df,\n",
    "        release_16_df, release_17_df, release_18_df, release_19_df, release_20_df, release_21_df, release_22_df, release_23_df,\n",
    "        release_24_df, release_25_df, release_26_df, release_27_df, release_28_df, release_29_df, release_30_df, release_31_df,\n",
    "        release_32_df, release_33_df, release_34_df, release_35_df, release_36_df, release_37_df, release_38_df, release_39_df,\n",
    "        release_40_df, release_41_df, release_42_df, release_43_df, release_44_df, release_45_df, release_46_df, release_47_df,\n",
    "        release_48_df, release_49_df]\n",
    "print(\"... DONE!\")\n",
    "print(\"Dataframe containing the inverse chronological order of all releases\")\n",
    "reverse_time_based_df_list = [release_49_df, release_48_df, release_47_df, release_46_df, release_45_df, release_44_df, release_43_df, \n",
    "        release_42_df, release_41_df, release_40_df, release_39_df, release_38_df, release_37_df, release_36_df, release_35_df,\n",
    "        release_34_df, release_33_df, release_32_df, release_31_df, release_30_df, release_29_df, release_28_df, release_27_df,\n",
    "        release_26_df, release_25_df, release_24_df, release_23_df, release_22_df, release_21_df, release_20_df, release_19_df,\n",
    "        release_18_df, release_17_df, release_16_df, release_15_df, release_14_df, release_13_df, release_12_df, release_11_df, \n",
    "        release_10_df, release_09_df, release_08_df, release_07_df, release_06_df, release_05_df, release_04_df, release_03_df, \n",
    "        release_02_df, release_01_df]\n",
    "print(\"... DONE!\")"
   ]
  },
  {
   "cell_type": "code",
   "execution_count": null,
   "metadata": {},
   "outputs": [],
   "source": [
    "print(\"Selecting only the necessary domain on KIND column\")\n",
    "domain_selected = ['Abstract Class',\n",
    "'Class',\n",
    "'Public Class',\n",
    "'Anonymous Class',\n",
    "'Public Static Class',\n",
    "'Static Class',\n",
    "'Private Static Class',\n",
    "'Private Class',\n",
    "'Private Static Generic Class',\n",
    "'Public Generic Class',\n",
    "'Protected Class',\n",
    "'Public Static Generic Class',\n",
    "'Protected Static Class',\n",
    "'Public Abstract Class',\n",
    "'Generic Class',\n",
    "'Static Generic Class',\n",
    "'Private Generic Class',\n",
    "'Public Abstract Generic Class',\n",
    "'Public Static Abstract Class',\n",
    "'Static Abstract Class',\n",
    "'Private Static Abstract Class',\n",
    "'Public Static Abstract Generic Class',\n",
    "'Static Abstract Generic Class',\n",
    "'Abstract Generic Class',\n",
    "'Private Abstract Generic Class',\n",
    "'Private Static Abstract Generic Class',\n",
    "'Protected Static Abstract Generic Class',\n",
    "'Protected Static Generic Class']\n",
    "print(\"... DONE!\")"
   ]
  },
  {
   "cell_type": "code",
   "execution_count": null,
   "metadata": {
    "scrolled": true
   },
   "outputs": [],
   "source": [
    "print(\"Checking total of lines for each selected kind, including .java and .py files\")\n",
    "for release in time_based_df_list:\n",
    "    print(\"\")\n",
    "    for col in domain_selected:    \n",
    "        print((col), len(release.loc[release['Kind'] == col]))\n",
    "print(\"... DONE!\")"
   ]
  },
  {
   "cell_type": "code",
   "execution_count": null,
   "metadata": {},
   "outputs": [],
   "source": [
    "print(\"Filtering only by '.java' files\")\n",
    "df_java = list()\n",
    "df_java_temp = list()\n",
    "for release in time_based_df_list:\n",
    "    df_java_temp = release[release['File'].str.contains(\".java\", na=False)]\n",
    "    df_java.append(df_java_temp)\n",
    "print(\"... DONE!\")"
   ]
  },
  {
   "cell_type": "code",
   "execution_count": null,
   "metadata": {},
   "outputs": [],
   "source": [
    "print(\"filtering by selected classes on KIND...\")\n",
    "ds_df = list()\n",
    "for i in df_java:\n",
    "    ds_df_temp = i[i['Kind'].isin(domain_selected)]\n",
    "    ds_df.append(ds_df_temp)\n",
    "print(\"... DONE!\")"
   ]
  },
  {
   "cell_type": "markdown",
   "metadata": {},
   "source": [
    "## DATASET "
   ]
  },
  {
   "cell_type": "code",
   "execution_count": null,
   "metadata": {
    "scrolled": true
   },
   "outputs": [],
   "source": [
    "print(\"The dataset below contains only java files and kind column containing 'classes' in the name:\")\n",
    "ds_df"
   ]
  },
  {
   "cell_type": "code",
   "execution_count": null,
   "metadata": {},
   "outputs": [],
   "source": [
    "print(\"Checking if new dataframe contains NaN values...\")\n",
    "for j in ds_df:\n",
    "    print(j.isnull().values.any())\n",
    "print(\"... DONE!\")"
   ]
  },
  {
   "cell_type": "raw",
   "metadata": {},
   "source": [
    "print(\"Preparing to generate releases... \")\n",
    "for i in range(len(ds_df)):\n",
    "    print(\"Generating release\", i+1 )\n",
    "    ds_df[i].to_csv('outputReleases/release'+str(i+1)+'.csv', index=False)\n",
    "print(\"... DONE!\")"
   ]
  },
  {
   "cell_type": "code",
   "execution_count": null,
   "metadata": {
    "scrolled": false
   },
   "outputs": [],
   "source": [
    "print(\"including four new columns into dataframe...\")\n",
    "for df in ds_df:\n",
    "    df.loc[:,'Path'] = df.Name+'.'+df.File\n",
    "    df.loc[:,'class_frequency'] = 1\n",
    "    df.loc[:,'will_change'] = 0\n",
    "    df.loc[:,'number_of_changes'] = 0\n",
    "    df.loc[:,'release'] = 0\n",
    "print(\"... DONE!\")"
   ]
  },
  {
   "cell_type": "code",
   "execution_count": null,
   "metadata": {
    "scrolled": true
   },
   "outputs": [],
   "source": [
    "print(\"Labeling each release...\")\n",
    "for i in range(ds_df.__len__()):\n",
    "    ds_df[i].release = i+1\n",
    "print(\"... DONE!\")"
   ]
  },
  {
   "cell_type": "code",
   "execution_count": null,
   "metadata": {},
   "outputs": [],
   "source": [
    "ds_df[0].head()"
   ]
  },
  {
   "cell_type": "code",
   "execution_count": null,
   "metadata": {},
   "outputs": [],
   "source": [
    "for i in range(ds_df.__len__() - 1):\n",
    "    previous_df = ds_df[i]\n",
    "    next_df = ds_df[i + 1]\n",
    "    \n",
    "    keep_classes_list = list(set(previous_df['Path']).intersection(set(next_df['Path'])))\n",
    "    \n",
    "    for keep_class in keep_classes_list:\n",
    "        previous_keep_class_row = previous_df.loc[previous_df['Path'] == keep_class]\n",
    "        next_keep_class_row = next_df.loc[next_df['Path'] == keep_class]     \n",
    "        previous_keep_class_row_values_list = list(previous_keep_class_row.values[0][:])\n",
    "        next_keep_class_row_values_list = list(next_keep_class_row.values[0][:])\n",
    "        \n",
    "        # THE NUMBER INTO BRACKETS BELOW REFERS TO LOC INDEX (COUNT LINE CODE, column 7, in this case)\n",
    "        if previous_keep_class_row_values_list[7] != next_keep_class_row_values_list[7]:\n",
    "            previous_df.at[previous_keep_class_row.index.get_values(), 'will_change'] = 1\n",
    "            next_df.at[next_keep_class_row.index.get_values(), 'number_of_changes'] = previous_keep_class_row_values_list[-1] + 1\n",
    "        else:\n",
    "            next_df.at[next_keep_class_row.index.get_values(), 'number_of_changes'] = previous_keep_class_row_values_list[-1]\n",
    "        \n",
    "        # THE NUMBER INTO BRACKETS BELOW REFERS TO CLASS_FREQUENCY INDEX (column 12, in this case)\n",
    "        next_df.at[next_keep_class_row.index.get_values(), 'class_frequency'] = previous_keep_class_row_values_list[12] + 1\n",
    "        "
   ]
  },
  {
   "cell_type": "code",
   "execution_count": null,
   "metadata": {},
   "outputs": [],
   "source": [
    "all_releases_df = pd.concat(ds_df, ignore_index=True)"
   ]
  },
  {
   "cell_type": "code",
   "execution_count": null,
   "metadata": {},
   "outputs": [],
   "source": [
    "all_releases_df"
   ]
  },
  {
   "cell_type": "raw",
   "metadata": {},
   "source": [
    "all_releases_df.to_excel(\"all_releases.xlsx\")"
   ]
  },
  {
   "cell_type": "code",
   "execution_count": null,
   "metadata": {},
   "outputs": [],
   "source": [
    "all_releases_df.to_csv('all_releases.csv', index=False)"
   ]
  }
 ],
 "metadata": {
  "kernelspec": {
   "display_name": "Python 3",
   "language": "python",
   "name": "python3"
  },
  "language_info": {
   "codemirror_mode": {
    "name": "ipython",
    "version": 3
   },
   "file_extension": ".py",
   "mimetype": "text/x-python",
   "name": "python",
   "nbconvert_exporter": "python",
   "pygments_lexer": "ipython3",
   "version": "3.6.8"
  }
 },
 "nbformat": 4,
 "nbformat_minor": 2
}
