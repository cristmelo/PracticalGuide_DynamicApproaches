{
 "cells": [
  {
   "cell_type": "code",
   "execution_count": 1,
   "metadata": {},
   "outputs": [
    {
     "name": "stderr",
     "output_type": "stream",
     "text": [
      "Using TensorFlow backend.\n"
     ]
    }
   ],
   "source": [
    "%run auxStandardStructure.ipynb"
   ]
  },
  {
   "cell_type": "code",
   "execution_count": 2,
   "metadata": {},
   "outputs": [
    {
     "name": "stdout",
     "output_type": "stream",
     "text": [
      "No GPU found\n"
     ]
    }
   ],
   "source": [
    "import tensorflow as tf\n",
    "import os\n",
    "\n",
    "os.environ['CUDA_VISIBLE_DEVICES'] = '-1'\n",
    "\n",
    "if tf.test.gpu_device_name():\n",
    "    print('GPU found')\n",
    "else:\n",
    "    print(\"No GPU found\")"
   ]
  },
  {
   "cell_type": "markdown",
   "metadata": {},
   "source": [
    "## Preprocessing"
   ]
  },
  {
   "cell_type": "code",
   "execution_count": 3,
   "metadata": {},
   "outputs": [],
   "source": [
    "all_releases_df = pd.read_csv('all_releases.csv')"
   ]
  },
  {
   "cell_type": "code",
   "execution_count": 4,
   "metadata": {
    "scrolled": true
   },
   "outputs": [
    {
     "name": "stdout",
     "output_type": "stream",
     "text": [
      "Generating a new dataframe without containing the last release...\n",
      "... DONE!\n",
      "checking class larger than window size...\n",
      "DONE\n",
      "Setting the features...\n",
      "DONE\n",
      "X: (70017, 24) y: (70017,)\n"
     ]
    }
   ],
   "source": [
    "X, y = generateStandardTimeSeriesStructure(all_releases_df, 3)"
   ]
  },
  {
   "cell_type": "code",
   "execution_count": 5,
   "metadata": {
    "scrolled": true
   },
   "outputs": [
    {
     "name": "stdout",
     "output_type": "stream",
     "text": [
      "Declaring a dictionary to save results...\n",
      "... DONE!\n",
      "Splitting dataset into train and test sets...\n",
      "General information:\n",
      "X Train set: 49011 X Test set: 21006\n",
      "y Train set: 49011 y Test set: 21006\n",
      "... DONE!\n",
      "Scaling features...\n",
      "... DONE!\n",
      "Setting stratified k-fold...\n",
      "k = 10\n",
      "... DONE!\n",
      "\n"
     ]
    }
   ],
   "source": [
    "print(\"Declaring a dictionary to save results...\")\n",
    "results_dict = dict()\n",
    "print(\"... DONE!\")\n",
    "\n",
    "print(\"Splitting dataset into train and test sets...\")\n",
    "X_train, X_test, y_train, y_test = train_test_split(X, y, test_size=0.30, random_state=42)\n",
    "print(\"General information:\")\n",
    "print(\"X Train set:\", X_train.shape[0], \"X Test set:\", X_test.shape[0])\n",
    "print(\"y Train set:\", y_train.shape[0], \"y Test set:\", y_test.shape[0])\n",
    "print(\"... DONE!\")\n",
    "\n",
    "print(\"Scaling features...\")\n",
    "scaler = MinMaxScaler()\n",
    "X_train = pd.DataFrame(scaler.fit_transform(X_train))\n",
    "X_test = pd.DataFrame(scaler.fit_transform(X_test))\n",
    "print(\"... DONE!\")\n",
    "\n",
    "print(\"Setting stratified k-fold...\")\n",
    "k=10\n",
    "kf = StratifiedKFold(n_splits=k, shuffle=False, random_state=42)\n",
    "print(\"k =\", k)\n",
    "print(\"... DONE!\\n\")"
   ]
  },
  {
   "cell_type": "code",
   "execution_count": 6,
   "metadata": {},
   "outputs": [],
   "source": [
    "y_test = pd.DataFrame(y_test)\n",
    "y_train = pd.DataFrame(y_train)"
   ]
  },
  {
   "cell_type": "markdown",
   "metadata": {},
   "source": [
    "## Statistical Analysis"
   ]
  },
  {
   "cell_type": "code",
   "execution_count": 7,
   "metadata": {
    "scrolled": true
   },
   "outputs": [
    {
     "data": {
      "text/html": [
       "<div>\n",
       "<style scoped>\n",
       "    .dataframe tbody tr th:only-of-type {\n",
       "        vertical-align: middle;\n",
       "    }\n",
       "\n",
       "    .dataframe tbody tr th {\n",
       "        vertical-align: top;\n",
       "    }\n",
       "\n",
       "    .dataframe thead th {\n",
       "        text-align: right;\n",
       "    }\n",
       "</style>\n",
       "<table border=\"1\" class=\"dataframe\">\n",
       "  <thead>\n",
       "    <tr style=\"text-align: right;\">\n",
       "      <th></th>\n",
       "      <th>CountClassCoupled</th>\n",
       "      <th>CountClassDerived</th>\n",
       "      <th>CountDeclMethod</th>\n",
       "      <th>CountDeclMethodAll</th>\n",
       "      <th>CountLineCode</th>\n",
       "      <th>MaxInheritanceTree</th>\n",
       "      <th>PercentLackOfCohesion</th>\n",
       "      <th>SumCyclomatic</th>\n",
       "      <th>class_frequency</th>\n",
       "      <th>number_of_changes</th>\n",
       "      <th>release</th>\n",
       "      <th>will_change</th>\n",
       "    </tr>\n",
       "  </thead>\n",
       "  <tbody>\n",
       "    <tr>\n",
       "      <th>count</th>\n",
       "      <td>100640.000000</td>\n",
       "      <td>100640.000000</td>\n",
       "      <td>100640.000000</td>\n",
       "      <td>100640.000000</td>\n",
       "      <td>100640.000000</td>\n",
       "      <td>100640.000000</td>\n",
       "      <td>100640.000000</td>\n",
       "      <td>100640.000000</td>\n",
       "      <td>100640.000000</td>\n",
       "      <td>100640.000000</td>\n",
       "      <td>100640.000000</td>\n",
       "      <td>100640.000000</td>\n",
       "    </tr>\n",
       "    <tr>\n",
       "      <th>mean</th>\n",
       "      <td>5.338504</td>\n",
       "      <td>0.448698</td>\n",
       "      <td>4.287997</td>\n",
       "      <td>8.674672</td>\n",
       "      <td>57.746343</td>\n",
       "      <td>1.625735</td>\n",
       "      <td>17.538782</td>\n",
       "      <td>5.891107</td>\n",
       "      <td>6.378975</td>\n",
       "      <td>7.580535</td>\n",
       "      <td>8.864159</td>\n",
       "      <td>0.167548</td>\n",
       "    </tr>\n",
       "    <tr>\n",
       "      <th>std</th>\n",
       "      <td>7.230259</td>\n",
       "      <td>11.276201</td>\n",
       "      <td>5.618115</td>\n",
       "      <td>8.966859</td>\n",
       "      <td>117.082274</td>\n",
       "      <td>0.759659</td>\n",
       "      <td>28.567063</td>\n",
       "      <td>9.420142</td>\n",
       "      <td>4.120797</td>\n",
       "      <td>4.492134</td>\n",
       "      <td>4.233281</td>\n",
       "      <td>0.373466</td>\n",
       "    </tr>\n",
       "    <tr>\n",
       "      <th>min</th>\n",
       "      <td>0.000000</td>\n",
       "      <td>0.000000</td>\n",
       "      <td>0.000000</td>\n",
       "      <td>0.000000</td>\n",
       "      <td>0.000000</td>\n",
       "      <td>1.000000</td>\n",
       "      <td>0.000000</td>\n",
       "      <td>0.000000</td>\n",
       "      <td>1.000000</td>\n",
       "      <td>0.000000</td>\n",
       "      <td>1.000000</td>\n",
       "      <td>0.000000</td>\n",
       "    </tr>\n",
       "    <tr>\n",
       "      <th>25%</th>\n",
       "      <td>1.000000</td>\n",
       "      <td>0.000000</td>\n",
       "      <td>1.000000</td>\n",
       "      <td>2.000000</td>\n",
       "      <td>8.000000</td>\n",
       "      <td>1.000000</td>\n",
       "      <td>0.000000</td>\n",
       "      <td>1.000000</td>\n",
       "      <td>3.000000</td>\n",
       "      <td>4.000000</td>\n",
       "      <td>5.000000</td>\n",
       "      <td>0.000000</td>\n",
       "    </tr>\n",
       "    <tr>\n",
       "      <th>50%</th>\n",
       "      <td>3.000000</td>\n",
       "      <td>0.000000</td>\n",
       "      <td>2.000000</td>\n",
       "      <td>6.000000</td>\n",
       "      <td>22.000000</td>\n",
       "      <td>1.000000</td>\n",
       "      <td>0.000000</td>\n",
       "      <td>3.000000</td>\n",
       "      <td>6.000000</td>\n",
       "      <td>8.000000</td>\n",
       "      <td>9.000000</td>\n",
       "      <td>0.000000</td>\n",
       "    </tr>\n",
       "    <tr>\n",
       "      <th>75%</th>\n",
       "      <td>7.000000</td>\n",
       "      <td>0.000000</td>\n",
       "      <td>5.000000</td>\n",
       "      <td>11.000000</td>\n",
       "      <td>57.000000</td>\n",
       "      <td>2.000000</td>\n",
       "      <td>33.000000</td>\n",
       "      <td>7.000000</td>\n",
       "      <td>9.000000</td>\n",
       "      <td>12.000000</td>\n",
       "      <td>13.000000</td>\n",
       "      <td>0.000000</td>\n",
       "    </tr>\n",
       "    <tr>\n",
       "      <th>max</th>\n",
       "      <td>106.000000</td>\n",
       "      <td>901.000000</td>\n",
       "      <td>100.000000</td>\n",
       "      <td>100.000000</td>\n",
       "      <td>2749.000000</td>\n",
       "      <td>6.000000</td>\n",
       "      <td>100.000000</td>\n",
       "      <td>179.000000</td>\n",
       "      <td>15.000000</td>\n",
       "      <td>15.000000</td>\n",
       "      <td>15.000000</td>\n",
       "      <td>1.000000</td>\n",
       "    </tr>\n",
       "  </tbody>\n",
       "</table>\n",
       "</div>"
      ],
      "text/plain": [
       "       CountClassCoupled  CountClassDerived  CountDeclMethod  \\\n",
       "count      100640.000000      100640.000000    100640.000000   \n",
       "mean            5.338504           0.448698         4.287997   \n",
       "std             7.230259          11.276201         5.618115   \n",
       "min             0.000000           0.000000         0.000000   \n",
       "25%             1.000000           0.000000         1.000000   \n",
       "50%             3.000000           0.000000         2.000000   \n",
       "75%             7.000000           0.000000         5.000000   \n",
       "max           106.000000         901.000000       100.000000   \n",
       "\n",
       "       CountDeclMethodAll  CountLineCode  MaxInheritanceTree  \\\n",
       "count       100640.000000  100640.000000       100640.000000   \n",
       "mean             8.674672      57.746343            1.625735   \n",
       "std              8.966859     117.082274            0.759659   \n",
       "min              0.000000       0.000000            1.000000   \n",
       "25%              2.000000       8.000000            1.000000   \n",
       "50%              6.000000      22.000000            1.000000   \n",
       "75%             11.000000      57.000000            2.000000   \n",
       "max            100.000000    2749.000000            6.000000   \n",
       "\n",
       "       PercentLackOfCohesion  SumCyclomatic  class_frequency  \\\n",
       "count          100640.000000  100640.000000    100640.000000   \n",
       "mean               17.538782       5.891107         6.378975   \n",
       "std                28.567063       9.420142         4.120797   \n",
       "min                 0.000000       0.000000         1.000000   \n",
       "25%                 0.000000       1.000000         3.000000   \n",
       "50%                 0.000000       3.000000         6.000000   \n",
       "75%                33.000000       7.000000         9.000000   \n",
       "max               100.000000     179.000000        15.000000   \n",
       "\n",
       "       number_of_changes        release    will_change  \n",
       "count      100640.000000  100640.000000  100640.000000  \n",
       "mean            7.580535       8.864159       0.167548  \n",
       "std             4.492134       4.233281       0.373466  \n",
       "min             0.000000       1.000000       0.000000  \n",
       "25%             4.000000       5.000000       0.000000  \n",
       "50%             8.000000       9.000000       0.000000  \n",
       "75%            12.000000      13.000000       0.000000  \n",
       "max            15.000000      15.000000       1.000000  "
      ]
     },
     "execution_count": 7,
     "metadata": {},
     "output_type": "execute_result"
    }
   ],
   "source": [
    "all_releases_df.describe()"
   ]
  },
  {
   "cell_type": "code",
   "execution_count": 8,
   "metadata": {},
   "outputs": [
    {
     "data": {
      "text/plain": [
       "0\n",
       "False    38591\n",
       "True     10420\n",
       "Name: 0, dtype: int64"
      ]
     },
     "execution_count": 8,
     "metadata": {},
     "output_type": "execute_result"
    },
    {
     "data": {
      "image/png": "[encoded data removed]",
      "text/plain": [
       "<Figure size 360x360 with 1 Axes>"
      ]
     },
     "metadata": {},
     "output_type": "display_data"
    }
   ],
   "source": [
    "ax = y_train.groupby([0])[0].count().plot.bar(title=\"Class Distribution\", figsize=(5,5))\n",
    "y_train.groupby([0])[0].count()"
   ]
  },
  {
   "cell_type": "code",
   "execution_count": 9,
   "metadata": {
    "scrolled": true
   },
   "outputs": [
    {
     "data": {
      "text/html": [
       "<style  type=\"text/css\" >\n",
       "    #T_bd83f132_16a7_11ea_95e7_e0d55eb0dab9row0_col0 {\n",
       "            background-color:  #b40426;\n",
       "            color:  #f1f1f1;\n",
       "        }    #T_bd83f132_16a7_11ea_95e7_e0d55eb0dab9row0_col1 {\n",
       "            background-color:  #445acc;\n",
       "            color:  #f1f1f1;\n",
       "        }    #T_bd83f132_16a7_11ea_95e7_e0d55eb0dab9row0_col2 {\n",
       "            background-color:  #dcdddd;\n",
       "            color:  #000000;\n",
       "        }    #T_bd83f132_16a7_11ea_95e7_e0d55eb0dab9row0_col3 {\n",
       "            background-color:  #a2c1ff;\n",
       "            color:  #000000;\n",
       "        }    #T_bd83f132_16a7_11ea_95e7_e0d55eb0dab9row0_col4 {\n",
       "            background-color:  #f6bda2;\n",
       "            color:  #000000;\n",
       "        }    #T_bd83f132_16a7_11ea_95e7_e0d55eb0dab9row0_col5 {\n",
       "            background-color:  #3b4cc0;\n",
       "            color:  #f1f1f1;\n",
       "        }    #T_bd83f132_16a7_11ea_95e7_e0d55eb0dab9row0_col6 {\n",
       "            background-color:  #c0d4f5;\n",
       "            color:  #000000;\n",
       "        }    #T_bd83f132_16a7_11ea_95e7_e0d55eb0dab9row0_col7 {\n",
       "            background-color:  #e6d7cf;\n",
       "            color:  #000000;\n",
       "        }    #T_bd83f132_16a7_11ea_95e7_e0d55eb0dab9row0_col8 {\n",
       "            background-color:  #b40426;\n",
       "            color:  #f1f1f1;\n",
       "        }    #T_bd83f132_16a7_11ea_95e7_e0d55eb0dab9row0_col9 {\n",
       "            background-color:  #455cce;\n",
       "            color:  #f1f1f1;\n",
       "        }    #T_bd83f132_16a7_11ea_95e7_e0d55eb0dab9row0_col10 {\n",
       "            background-color:  #dbdcde;\n",
       "            color:  #000000;\n",
       "        }    #T_bd83f132_16a7_11ea_95e7_e0d55eb0dab9row0_col11 {\n",
       "            background-color:  #a2c1ff;\n",
       "            color:  #000000;\n",
       "        }    #T_bd83f132_16a7_11ea_95e7_e0d55eb0dab9row0_col12 {\n",
       "            background-color:  #f6bda2;\n",
       "            color:  #000000;\n",
       "        }    #T_bd83f132_16a7_11ea_95e7_e0d55eb0dab9row0_col13 {\n",
       "            background-color:  #3b4cc0;\n",
       "            color:  #f1f1f1;\n",
       "        }    #T_bd83f132_16a7_11ea_95e7_e0d55eb0dab9row0_col14 {\n",
       "            background-color:  #c0d4f5;\n",
       "            color:  #000000;\n",
       "        }    #T_bd83f132_16a7_11ea_95e7_e0d55eb0dab9row0_col15 {\n",
       "            background-color:  #e6d7cf;\n",
       "            color:  #000000;\n",
       "        }    #T_bd83f132_16a7_11ea_95e7_e0d55eb0dab9row0_col16 {\n",
       "            background-color:  #b50927;\n",
       "            color:  #f1f1f1;\n",
       "        }    #T_bd83f132_16a7_11ea_95e7_e0d55eb0dab9row0_col17 {\n",
       "            background-color:  #455cce;\n",
       "            color:  #f1f1f1;\n",
       "        }    #T_bd83f132_16a7_11ea_95e7_e0d55eb0dab9row0_col18 {\n",
       "            background-color:  #dbdcde;\n",
       "            color:  #000000;\n",
       "        }    #T_bd83f132_16a7_11ea_95e7_e0d55eb0dab9row0_col19 {\n",
       "            background-color:  #a2c1ff;\n",
       "            color:  #000000;\n",
       "        }    #T_bd83f132_16a7_11ea_95e7_e0d55eb0dab9row0_col20 {\n",
       "            background-color:  #f6bea4;\n",
       "            color:  #000000;\n",
       "        }    #T_bd83f132_16a7_11ea_95e7_e0d55eb0dab9row0_col21 {\n",
       "            background-color:  #3b4cc0;\n",
       "            color:  #f1f1f1;\n",
       "        }    #T_bd83f132_16a7_11ea_95e7_e0d55eb0dab9row0_col22 {\n",
       "            background-color:  #bfd3f6;\n",
       "            color:  #000000;\n",
       "        }    #T_bd83f132_16a7_11ea_95e7_e0d55eb0dab9row0_col23 {\n",
       "            background-color:  #e5d8d1;\n",
       "            color:  #000000;\n",
       "        }    #T_bd83f132_16a7_11ea_95e7_e0d55eb0dab9row1_col0 {\n",
       "            background-color:  #3b4cc0;\n",
       "            color:  #f1f1f1;\n",
       "        }    #T_bd83f132_16a7_11ea_95e7_e0d55eb0dab9row1_col1 {\n",
       "            background-color:  #b40426;\n",
       "            color:  #f1f1f1;\n",
       "        }    #T_bd83f132_16a7_11ea_95e7_e0d55eb0dab9row1_col2 {\n",
       "            background-color:  #5673e0;\n",
       "            color:  #000000;\n",
       "        }    #T_bd83f132_16a7_11ea_95e7_e0d55eb0dab9row1_col3 {\n",
       "            background-color:  #4c66d6;\n",
       "            color:  #000000;\n",
       "        }    #T_bd83f132_16a7_11ea_95e7_e0d55eb0dab9row1_col4 {\n",
       "            background-color:  #445acc;\n",
       "            color:  #f1f1f1;\n",
       "        }    #T_bd83f132_16a7_11ea_95e7_e0d55eb0dab9row1_col5 {\n",
       "            background-color:  #3c4ec2;\n",
       "            color:  #f1f1f1;\n",
       "        }    #T_bd83f132_16a7_11ea_95e7_e0d55eb0dab9row1_col6 {\n",
       "            background-color:  #4257c9;\n",
       "            color:  #f1f1f1;\n",
       "        }    #T_bd83f132_16a7_11ea_95e7_e0d55eb0dab9row1_col7 {\n",
       "            background-color:  #445acc;\n",
       "            color:  #f1f1f1;\n",
       "        }    #T_bd83f132_16a7_11ea_95e7_e0d55eb0dab9row1_col8 {\n",
       "            background-color:  #3b4cc0;\n",
       "            color:  #f1f1f1;\n",
       "        }    #T_bd83f132_16a7_11ea_95e7_e0d55eb0dab9row1_col9 {\n",
       "            background-color:  #b40426;\n",
       "            color:  #f1f1f1;\n",
       "        }    #T_bd83f132_16a7_11ea_95e7_e0d55eb0dab9row1_col10 {\n",
       "            background-color:  #5673e0;\n",
       "            color:  #000000;\n",
       "        }    #T_bd83f132_16a7_11ea_95e7_e0d55eb0dab9row1_col11 {\n",
       "            background-color:  #4c66d6;\n",
       "            color:  #000000;\n",
       "        }    #T_bd83f132_16a7_11ea_95e7_e0d55eb0dab9row1_col12 {\n",
       "            background-color:  #445acc;\n",
       "            color:  #f1f1f1;\n",
       "        }    #T_bd83f132_16a7_11ea_95e7_e0d55eb0dab9row1_col13 {\n",
       "            background-color:  #3c4ec2;\n",
       "            color:  #f1f1f1;\n",
       "        }    #T_bd83f132_16a7_11ea_95e7_e0d55eb0dab9row1_col14 {\n",
       "            background-color:  #4257c9;\n",
       "            color:  #f1f1f1;\n",
       "        }    #T_bd83f132_16a7_11ea_95e7_e0d55eb0dab9row1_col15 {\n",
       "            background-color:  #445acc;\n",
       "            color:  #f1f1f1;\n",
       "        }    #T_bd83f132_16a7_11ea_95e7_e0d55eb0dab9row1_col16 {\n",
       "            background-color:  #3b4cc0;\n",
       "            color:  #f1f1f1;\n",
       "        }    #T_bd83f132_16a7_11ea_95e7_e0d55eb0dab9row1_col17 {\n",
       "            background-color:  #b50927;\n",
       "            color:  #f1f1f1;\n",
       "        }    #T_bd83f132_16a7_11ea_95e7_e0d55eb0dab9row1_col18 {\n",
       "            background-color:  #5673e0;\n",
       "            color:  #000000;\n",
       "        }    #T_bd83f132_16a7_11ea_95e7_e0d55eb0dab9row1_col19 {\n",
       "            background-color:  #4c66d6;\n",
       "            color:  #000000;\n",
       "        }    #T_bd83f132_16a7_11ea_95e7_e0d55eb0dab9row1_col20 {\n",
       "            background-color:  #445acc;\n",
       "            color:  #f1f1f1;\n",
       "        }    #T_bd83f132_16a7_11ea_95e7_e0d55eb0dab9row1_col21 {\n",
       "            background-color:  #3d50c3;\n",
       "            color:  #f1f1f1;\n",
       "        }    #T_bd83f132_16a7_11ea_95e7_e0d55eb0dab9row1_col22 {\n",
       "            background-color:  #4257c9;\n",
       "            color:  #f1f1f1;\n",
       "        }    #T_bd83f132_16a7_11ea_95e7_e0d55eb0dab9row1_col23 {\n",
       "            background-color:  #445acc;\n",
       "            color:  #f1f1f1;\n",
       "        }    #T_bd83f132_16a7_11ea_95e7_e0d55eb0dab9row2_col0 {\n",
       "            background-color:  #e8d6cc;\n",
       "            color:  #000000;\n",
       "        }    #T_bd83f132_16a7_11ea_95e7_e0d55eb0dab9row2_col1 {\n",
       "            background-color:  #7ea1fa;\n",
       "            color:  #000000;\n",
       "        }    #T_bd83f132_16a7_11ea_95e7_e0d55eb0dab9row2_col2 {\n",
       "            background-color:  #b40426;\n",
       "            color:  #f1f1f1;\n",
       "        }    #T_bd83f132_16a7_11ea_95e7_e0d55eb0dab9row2_col3 {\n",
       "            background-color:  #edd2c3;\n",
       "            color:  #000000;\n",
       "        }    #T_bd83f132_16a7_11ea_95e7_e0d55eb0dab9row2_col4 {\n",
       "            background-color:  #e9785d;\n",
       "            color:  #000000;\n",
       "        }    #T_bd83f132_16a7_11ea_95e7_e0d55eb0dab9row2_col5 {\n",
       "            background-color:  #3b4cc0;\n",
       "            color:  #f1f1f1;\n",
       "        }    #T_bd83f132_16a7_11ea_95e7_e0d55eb0dab9row2_col6 {\n",
       "            background-color:  #f5c4ac;\n",
       "            color:  #000000;\n",
       "        }    #T_bd83f132_16a7_11ea_95e7_e0d55eb0dab9row2_col7 {\n",
       "            background-color:  #d75445;\n",
       "            color:  #000000;\n",
       "        }    #T_bd83f132_16a7_11ea_95e7_e0d55eb0dab9row2_col8 {\n",
       "            background-color:  #e8d6cc;\n",
       "            color:  #000000;\n",
       "        }    #T_bd83f132_16a7_11ea_95e7_e0d55eb0dab9row2_col9 {\n",
       "            background-color:  #7ea1fa;\n",
       "            color:  #000000;\n",
       "        }    #T_bd83f132_16a7_11ea_95e7_e0d55eb0dab9row2_col10 {\n",
       "            background-color:  #b40426;\n",
       "            color:  #f1f1f1;\n",
       "        }    #T_bd83f132_16a7_11ea_95e7_e0d55eb0dab9row2_col11 {\n",
       "            background-color:  #edd2c3;\n",
       "            color:  #000000;\n",
       "        }    #T_bd83f132_16a7_11ea_95e7_e0d55eb0dab9row2_col12 {\n",
       "            background-color:  #e9785d;\n",
       "            color:  #000000;\n",
       "        }    #T_bd83f132_16a7_11ea_95e7_e0d55eb0dab9row2_col13 {\n",
       "            background-color:  #3b4cc0;\n",
       "            color:  #f1f1f1;\n",
       "        }    #T_bd83f132_16a7_11ea_95e7_e0d55eb0dab9row2_col14 {\n",
       "            background-color:  #f5c4ac;\n",
       "            color:  #000000;\n",
       "        }    #T_bd83f132_16a7_11ea_95e7_e0d55eb0dab9row2_col15 {\n",
       "            background-color:  #d85646;\n",
       "            color:  #000000;\n",
       "        }    #T_bd83f132_16a7_11ea_95e7_e0d55eb0dab9row2_col16 {\n",
       "            background-color:  #e7d7ce;\n",
       "            color:  #000000;\n",
       "        }    #T_bd83f132_16a7_11ea_95e7_e0d55eb0dab9row2_col17 {\n",
       "            background-color:  #7ea1fa;\n",
       "            color:  #000000;\n",
       "        }    #T_bd83f132_16a7_11ea_95e7_e0d55eb0dab9row2_col18 {\n",
       "            background-color:  #b50927;\n",
       "            color:  #f1f1f1;\n",
       "        }    #T_bd83f132_16a7_11ea_95e7_e0d55eb0dab9row2_col19 {\n",
       "            background-color:  #ecd3c5;\n",
       "            color:  #000000;\n",
       "        }    #T_bd83f132_16a7_11ea_95e7_e0d55eb0dab9row2_col20 {\n",
       "            background-color:  #e9785d;\n",
       "            color:  #000000;\n",
       "        }    #T_bd83f132_16a7_11ea_95e7_e0d55eb0dab9row2_col21 {\n",
       "            background-color:  #3b4cc0;\n",
       "            color:  #f1f1f1;\n",
       "        }    #T_bd83f132_16a7_11ea_95e7_e0d55eb0dab9row2_col22 {\n",
       "            background-color:  #f5c4ac;\n",
       "            color:  #000000;\n",
       "        }    #T_bd83f132_16a7_11ea_95e7_e0d55eb0dab9row2_col23 {\n",
       "            background-color:  #d85646;\n",
       "            color:  #000000;\n",
       "        }    #T_bd83f132_16a7_11ea_95e7_e0d55eb0dab9row3_col0 {\n",
       "            background-color:  #89acfd;\n",
       "            color:  #000000;\n",
       "        }    #T_bd83f132_16a7_11ea_95e7_e0d55eb0dab9row3_col1 {\n",
       "            background-color:  #3b4cc0;\n",
       "            color:  #f1f1f1;\n",
       "        }    #T_bd83f132_16a7_11ea_95e7_e0d55eb0dab9row3_col2 {\n",
       "            background-color:  #d6dce4;\n",
       "            color:  #000000;\n",
       "        }    #T_bd83f132_16a7_11ea_95e7_e0d55eb0dab9row3_col3 {\n",
       "            background-color:  #b40426;\n",
       "            color:  #f1f1f1;\n",
       "        }    #T_bd83f132_16a7_11ea_95e7_e0d55eb0dab9row3_col4 {\n",
       "            background-color:  #94b6ff;\n",
       "            color:  #000000;\n",
       "        }    #T_bd83f132_16a7_11ea_95e7_e0d55eb0dab9row3_col5 {\n",
       "            background-color:  #dadce0;\n",
       "            color:  #000000;\n",
       "        }    #T_bd83f132_16a7_11ea_95e7_e0d55eb0dab9row3_col6 {\n",
       "            background-color:  #90b2fe;\n",
       "            color:  #000000;\n",
       "        }    #T_bd83f132_16a7_11ea_95e7_e0d55eb0dab9row3_col7 {\n",
       "            background-color:  #c1d4f4;\n",
       "            color:  #000000;\n",
       "        }    #T_bd83f132_16a7_11ea_95e7_e0d55eb0dab9row3_col8 {\n",
       "            background-color:  #89acfd;\n",
       "            color:  #000000;\n",
       "        }    #T_bd83f132_16a7_11ea_95e7_e0d55eb0dab9row3_col9 {\n",
       "            background-color:  #3b4cc0;\n",
       "            color:  #f1f1f1;\n",
       "        }    #T_bd83f132_16a7_11ea_95e7_e0d55eb0dab9row3_col10 {\n",
       "            background-color:  #d6dce4;\n",
       "            color:  #000000;\n",
       "        }    #T_bd83f132_16a7_11ea_95e7_e0d55eb0dab9row3_col11 {\n",
       "            background-color:  #b40426;\n",
       "            color:  #f1f1f1;\n",
       "        }    #T_bd83f132_16a7_11ea_95e7_e0d55eb0dab9row3_col12 {\n",
       "            background-color:  #93b5fe;\n",
       "            color:  #000000;\n",
       "        }    #T_bd83f132_16a7_11ea_95e7_e0d55eb0dab9row3_col13 {\n",
       "            background-color:  #d9dce1;\n",
       "            color:  #000000;\n",
       "        }    #T_bd83f132_16a7_11ea_95e7_e0d55eb0dab9row3_col14 {\n",
       "            background-color:  #90b2fe;\n",
       "            color:  #000000;\n",
       "        }    #T_bd83f132_16a7_11ea_95e7_e0d55eb0dab9row3_col15 {\n",
       "            background-color:  #c1d4f4;\n",
       "            color:  #000000;\n",
       "        }    #T_bd83f132_16a7_11ea_95e7_e0d55eb0dab9row3_col16 {\n",
       "            background-color:  #89acfd;\n",
       "            color:  #000000;\n",
       "        }    #T_bd83f132_16a7_11ea_95e7_e0d55eb0dab9row3_col17 {\n",
       "            background-color:  #3b4cc0;\n",
       "            color:  #f1f1f1;\n",
       "        }    #T_bd83f132_16a7_11ea_95e7_e0d55eb0dab9row3_col18 {\n",
       "            background-color:  #d5dbe5;\n",
       "            color:  #000000;\n",
       "        }    #T_bd83f132_16a7_11ea_95e7_e0d55eb0dab9row3_col19 {\n",
       "            background-color:  #b50927;\n",
       "            color:  #f1f1f1;\n",
       "        }    #T_bd83f132_16a7_11ea_95e7_e0d55eb0dab9row3_col20 {\n",
       "            background-color:  #93b5fe;\n",
       "            color:  #000000;\n",
       "        }    #T_bd83f132_16a7_11ea_95e7_e0d55eb0dab9row3_col21 {\n",
       "            background-color:  #d9dce1;\n",
       "            color:  #000000;\n",
       "        }    #T_bd83f132_16a7_11ea_95e7_e0d55eb0dab9row3_col22 {\n",
       "            background-color:  #90b2fe;\n",
       "            color:  #000000;\n",
       "        }    #T_bd83f132_16a7_11ea_95e7_e0d55eb0dab9row3_col23 {\n",
       "            background-color:  #c1d4f4;\n",
       "            color:  #000000;\n",
       "        }    #T_bd83f132_16a7_11ea_95e7_e0d55eb0dab9row4_col0 {\n",
       "            background-color:  #f7aa8c;\n",
       "            color:  #000000;\n",
       "        }    #T_bd83f132_16a7_11ea_95e7_e0d55eb0dab9row4_col1 {\n",
       "            background-color:  #80a3fa;\n",
       "            color:  #000000;\n",
       "        }    #T_bd83f132_16a7_11ea_95e7_e0d55eb0dab9row4_col2 {\n",
       "            background-color:  #e67259;\n",
       "            color:  #000000;\n",
       "        }    #T_bd83f132_16a7_11ea_95e7_e0d55eb0dab9row4_col3 {\n",
       "            background-color:  #ccd9ed;\n",
       "            color:  #000000;\n",
       "        }    #T_bd83f132_16a7_11ea_95e7_e0d55eb0dab9row4_col4 {\n",
       "            background-color:  #b40426;\n",
       "            color:  #f1f1f1;\n",
       "        }    #T_bd83f132_16a7_11ea_95e7_e0d55eb0dab9row4_col5 {\n",
       "            background-color:  #3b4cc0;\n",
       "            color:  #f1f1f1;\n",
       "        }    #T_bd83f132_16a7_11ea_95e7_e0d55eb0dab9row4_col6 {\n",
       "            background-color:  #f5c1a9;\n",
       "            color:  #000000;\n",
       "        }    #T_bd83f132_16a7_11ea_95e7_e0d55eb0dab9row4_col7 {\n",
       "            background-color:  #d95847;\n",
       "            color:  #000000;\n",
       "        }    #T_bd83f132_16a7_11ea_95e7_e0d55eb0dab9row4_col8 {\n",
       "            background-color:  #f7aa8c;\n",
       "            color:  #000000;\n",
       "        }    #T_bd83f132_16a7_11ea_95e7_e0d55eb0dab9row4_col9 {\n",
       "            background-color:  #80a3fa;\n",
       "            color:  #000000;\n",
       "        }    #T_bd83f132_16a7_11ea_95e7_e0d55eb0dab9row4_col10 {\n",
       "            background-color:  #e67259;\n",
       "            color:  #000000;\n",
       "        }    #T_bd83f132_16a7_11ea_95e7_e0d55eb0dab9row4_col11 {\n",
       "            background-color:  #ccd9ed;\n",
       "            color:  #000000;\n",
       "        }    #T_bd83f132_16a7_11ea_95e7_e0d55eb0dab9row4_col12 {\n",
       "            background-color:  #b40426;\n",
       "            color:  #f1f1f1;\n",
       "        }    #T_bd83f132_16a7_11ea_95e7_e0d55eb0dab9row4_col13 {\n",
       "            background-color:  #3b4cc0;\n",
       "            color:  #f1f1f1;\n",
       "        }    #T_bd83f132_16a7_11ea_95e7_e0d55eb0dab9row4_col14 {\n",
       "            background-color:  #f5c1a9;\n",
       "            color:  #000000;\n",
       "        }    #T_bd83f132_16a7_11ea_95e7_e0d55eb0dab9row4_col15 {\n",
       "            background-color:  #da5a49;\n",
       "            color:  #000000;\n",
       "        }    #T_bd83f132_16a7_11ea_95e7_e0d55eb0dab9row4_col16 {\n",
       "            background-color:  #f7ac8e;\n",
       "            color:  #000000;\n",
       "        }    #T_bd83f132_16a7_11ea_95e7_e0d55eb0dab9row4_col17 {\n",
       "            background-color:  #80a3fa;\n",
       "            color:  #000000;\n",
       "        }    #T_bd83f132_16a7_11ea_95e7_e0d55eb0dab9row4_col18 {\n",
       "            background-color:  #e67259;\n",
       "            color:  #000000;\n",
       "        }    #T_bd83f132_16a7_11ea_95e7_e0d55eb0dab9row4_col19 {\n",
       "            background-color:  #ccd9ed;\n",
       "            color:  #000000;\n",
       "        }    #T_bd83f132_16a7_11ea_95e7_e0d55eb0dab9row4_col20 {\n",
       "            background-color:  #b40426;\n",
       "            color:  #f1f1f1;\n",
       "        }    #T_bd83f132_16a7_11ea_95e7_e0d55eb0dab9row4_col21 {\n",
       "            background-color:  #3b4cc0;\n",
       "            color:  #f1f1f1;\n",
       "        }    #T_bd83f132_16a7_11ea_95e7_e0d55eb0dab9row4_col22 {\n",
       "            background-color:  #f5c1a9;\n",
       "            color:  #000000;\n",
       "        }    #T_bd83f132_16a7_11ea_95e7_e0d55eb0dab9row4_col23 {\n",
       "            background-color:  #da5a49;\n",
       "            color:  #000000;\n",
       "        }    #T_bd83f132_16a7_11ea_95e7_e0d55eb0dab9row5_col0 {\n",
       "            background-color:  #6b8df0;\n",
       "            color:  #000000;\n",
       "        }    #T_bd83f132_16a7_11ea_95e7_e0d55eb0dab9row5_col1 {\n",
       "            background-color:  #779af7;\n",
       "            color:  #000000;\n",
       "        }    #T_bd83f132_16a7_11ea_95e7_e0d55eb0dab9row5_col2 {\n",
       "            background-color:  #4e68d8;\n",
       "            color:  #000000;\n",
       "        }    #T_bd83f132_16a7_11ea_95e7_e0d55eb0dab9row5_col3 {\n",
       "            background-color:  #f2c9b4;\n",
       "            color:  #000000;\n",
       "        }    #T_bd83f132_16a7_11ea_95e7_e0d55eb0dab9row5_col4 {\n",
       "            background-color:  #3b4cc0;\n",
       "            color:  #f1f1f1;\n",
       "        }    #T_bd83f132_16a7_11ea_95e7_e0d55eb0dab9row5_col5 {\n",
       "            background-color:  #b40426;\n",
       "            color:  #f1f1f1;\n",
       "        }    #T_bd83f132_16a7_11ea_95e7_e0d55eb0dab9row5_col6 {\n",
       "            background-color:  #5977e3;\n",
       "            color:  #000000;\n",
       "        }    #T_bd83f132_16a7_11ea_95e7_e0d55eb0dab9row5_col7 {\n",
       "            background-color:  #5a78e4;\n",
       "            color:  #000000;\n",
       "        }    #T_bd83f132_16a7_11ea_95e7_e0d55eb0dab9row5_col8 {\n",
       "            background-color:  #6c8ff1;\n",
       "            color:  #000000;\n",
       "        }    #T_bd83f132_16a7_11ea_95e7_e0d55eb0dab9row5_col9 {\n",
       "            background-color:  #779af7;\n",
       "            color:  #000000;\n",
       "        }    #T_bd83f132_16a7_11ea_95e7_e0d55eb0dab9row5_col10 {\n",
       "            background-color:  #4e68d8;\n",
       "            color:  #000000;\n",
       "        }    #T_bd83f132_16a7_11ea_95e7_e0d55eb0dab9row5_col11 {\n",
       "            background-color:  #f2c9b4;\n",
       "            color:  #000000;\n",
       "        }    #T_bd83f132_16a7_11ea_95e7_e0d55eb0dab9row5_col12 {\n",
       "            background-color:  #3b4cc0;\n",
       "            color:  #f1f1f1;\n",
       "        }    #T_bd83f132_16a7_11ea_95e7_e0d55eb0dab9row5_col13 {\n",
       "            background-color:  #b40426;\n",
       "            color:  #f1f1f1;\n",
       "        }    #T_bd83f132_16a7_11ea_95e7_e0d55eb0dab9row5_col14 {\n",
       "            background-color:  #5977e3;\n",
       "            color:  #000000;\n",
       "        }    #T_bd83f132_16a7_11ea_95e7_e0d55eb0dab9row5_col15 {\n",
       "            background-color:  #5a78e4;\n",
       "            color:  #000000;\n",
       "        }    #T_bd83f132_16a7_11ea_95e7_e0d55eb0dab9row5_col16 {\n",
       "            background-color:  #6c8ff1;\n",
       "            color:  #000000;\n",
       "        }    #T_bd83f132_16a7_11ea_95e7_e0d55eb0dab9row5_col17 {\n",
       "            background-color:  #779af7;\n",
       "            color:  #000000;\n",
       "        }    #T_bd83f132_16a7_11ea_95e7_e0d55eb0dab9row5_col18 {\n",
       "            background-color:  #4e68d8;\n",
       "            color:  #000000;\n",
       "        }    #T_bd83f132_16a7_11ea_95e7_e0d55eb0dab9row5_col19 {\n",
       "            background-color:  #f2c9b4;\n",
       "            color:  #000000;\n",
       "        }    #T_bd83f132_16a7_11ea_95e7_e0d55eb0dab9row5_col20 {\n",
       "            background-color:  #3b4cc0;\n",
       "            color:  #f1f1f1;\n",
       "        }    #T_bd83f132_16a7_11ea_95e7_e0d55eb0dab9row5_col21 {\n",
       "            background-color:  #b40426;\n",
       "            color:  #f1f1f1;\n",
       "        }    #T_bd83f132_16a7_11ea_95e7_e0d55eb0dab9row5_col22 {\n",
       "            background-color:  #5977e3;\n",
       "            color:  #000000;\n",
       "        }    #T_bd83f132_16a7_11ea_95e7_e0d55eb0dab9row5_col23 {\n",
       "            background-color:  #5a78e4;\n",
       "            color:  #000000;\n",
       "        }    #T_bd83f132_16a7_11ea_95e7_e0d55eb0dab9row6_col0 {\n",
       "            background-color:  #cbd8ee;\n",
       "            color:  #000000;\n",
       "        }    #T_bd83f132_16a7_11ea_95e7_e0d55eb0dab9row6_col1 {\n",
       "            background-color:  #5f7fe8;\n",
       "            color:  #000000;\n",
       "        }    #T_bd83f132_16a7_11ea_95e7_e0d55eb0dab9row6_col2 {\n",
       "            background-color:  #f3c7b1;\n",
       "            color:  #000000;\n",
       "        }    #T_bd83f132_16a7_11ea_95e7_e0d55eb0dab9row6_col3 {\n",
       "            background-color:  #b6cefa;\n",
       "            color:  #000000;\n",
       "        }    #T_bd83f132_16a7_11ea_95e7_e0d55eb0dab9row6_col4 {\n",
       "            background-color:  #f1ccb8;\n",
       "            color:  #000000;\n",
       "        }    #T_bd83f132_16a7_11ea_95e7_e0d55eb0dab9row6_col5 {\n",
       "            background-color:  #3b4cc0;\n",
       "            color:  #f1f1f1;\n",
       "        }    #T_bd83f132_16a7_11ea_95e7_e0d55eb0dab9row6_col6 {\n",
       "            background-color:  #b40426;\n",
       "            color:  #f1f1f1;\n",
       "        }    #T_bd83f132_16a7_11ea_95e7_e0d55eb0dab9row6_col7 {\n",
       "            background-color:  #f5c4ac;\n",
       "            color:  #000000;\n",
       "        }    #T_bd83f132_16a7_11ea_95e7_e0d55eb0dab9row6_col8 {\n",
       "            background-color:  #cbd8ee;\n",
       "            color:  #000000;\n",
       "        }    #T_bd83f132_16a7_11ea_95e7_e0d55eb0dab9row6_col9 {\n",
       "            background-color:  #5f7fe8;\n",
       "            color:  #000000;\n",
       "        }    #T_bd83f132_16a7_11ea_95e7_e0d55eb0dab9row6_col10 {\n",
       "            background-color:  #f3c8b2;\n",
       "            color:  #000000;\n",
       "        }    #T_bd83f132_16a7_11ea_95e7_e0d55eb0dab9row6_col11 {\n",
       "            background-color:  #b6cefa;\n",
       "            color:  #000000;\n",
       "        }    #T_bd83f132_16a7_11ea_95e7_e0d55eb0dab9row6_col12 {\n",
       "            background-color:  #f1ccb8;\n",
       "            color:  #000000;\n",
       "        }    #T_bd83f132_16a7_11ea_95e7_e0d55eb0dab9row6_col13 {\n",
       "            background-color:  #3b4cc0;\n",
       "            color:  #f1f1f1;\n",
       "        }    #T_bd83f132_16a7_11ea_95e7_e0d55eb0dab9row6_col14 {\n",
       "            background-color:  #b50927;\n",
       "            color:  #f1f1f1;\n",
       "        }    #T_bd83f132_16a7_11ea_95e7_e0d55eb0dab9row6_col15 {\n",
       "            background-color:  #f5c4ac;\n",
       "            color:  #000000;\n",
       "        }    #T_bd83f132_16a7_11ea_95e7_e0d55eb0dab9row6_col16 {\n",
       "            background-color:  #cbd8ee;\n",
       "            color:  #000000;\n",
       "        }    #T_bd83f132_16a7_11ea_95e7_e0d55eb0dab9row6_col17 {\n",
       "            background-color:  #5f7fe8;\n",
       "            color:  #000000;\n",
       "        }    #T_bd83f132_16a7_11ea_95e7_e0d55eb0dab9row6_col18 {\n",
       "            background-color:  #f3c8b2;\n",
       "            color:  #000000;\n",
       "        }    #T_bd83f132_16a7_11ea_95e7_e0d55eb0dab9row6_col19 {\n",
       "            background-color:  #b6cefa;\n",
       "            color:  #000000;\n",
       "        }    #T_bd83f132_16a7_11ea_95e7_e0d55eb0dab9row6_col20 {\n",
       "            background-color:  #f1ccb8;\n",
       "            color:  #000000;\n",
       "        }    #T_bd83f132_16a7_11ea_95e7_e0d55eb0dab9row6_col21 {\n",
       "            background-color:  #3b4cc0;\n",
       "            color:  #f1f1f1;\n",
       "        }    #T_bd83f132_16a7_11ea_95e7_e0d55eb0dab9row6_col22 {\n",
       "            background-color:  #b70d28;\n",
       "            color:  #f1f1f1;\n",
       "        }    #T_bd83f132_16a7_11ea_95e7_e0d55eb0dab9row6_col23 {\n",
       "            background-color:  #f5c4ac;\n",
       "            color:  #000000;\n",
       "        }    #T_bd83f132_16a7_11ea_95e7_e0d55eb0dab9row7_col0 {\n",
       "            background-color:  #edd2c3;\n",
       "            color:  #000000;\n",
       "        }    #T_bd83f132_16a7_11ea_95e7_e0d55eb0dab9row7_col1 {\n",
       "            background-color:  #6180e9;\n",
       "            color:  #000000;\n",
       "        }    #T_bd83f132_16a7_11ea_95e7_e0d55eb0dab9row7_col2 {\n",
       "            background-color:  #d85646;\n",
       "            color:  #000000;\n",
       "        }    #T_bd83f132_16a7_11ea_95e7_e0d55eb0dab9row7_col3 {\n",
       "            background-color:  #dbdcde;\n",
       "            color:  #000000;\n",
       "        }    #T_bd83f132_16a7_11ea_95e7_e0d55eb0dab9row7_col4 {\n",
       "            background-color:  #dd5f4b;\n",
       "            color:  #000000;\n",
       "        }    #T_bd83f132_16a7_11ea_95e7_e0d55eb0dab9row7_col5 {\n",
       "            background-color:  #3b4cc0;\n",
       "            color:  #f1f1f1;\n",
       "        }    #T_bd83f132_16a7_11ea_95e7_e0d55eb0dab9row7_col6 {\n",
       "            background-color:  #f5c4ac;\n",
       "            color:  #000000;\n",
       "        }    #T_bd83f132_16a7_11ea_95e7_e0d55eb0dab9row7_col7 {\n",
       "            background-color:  #b40426;\n",
       "            color:  #f1f1f1;\n",
       "        }    #T_bd83f132_16a7_11ea_95e7_e0d55eb0dab9row7_col8 {\n",
       "            background-color:  #ecd3c5;\n",
       "            color:  #000000;\n",
       "        }    #T_bd83f132_16a7_11ea_95e7_e0d55eb0dab9row7_col9 {\n",
       "            background-color:  #6180e9;\n",
       "            color:  #000000;\n",
       "        }    #T_bd83f132_16a7_11ea_95e7_e0d55eb0dab9row7_col10 {\n",
       "            background-color:  #d95847;\n",
       "            color:  #000000;\n",
       "        }    #T_bd83f132_16a7_11ea_95e7_e0d55eb0dab9row7_col11 {\n",
       "            background-color:  #dadce0;\n",
       "            color:  #000000;\n",
       "        }    #T_bd83f132_16a7_11ea_95e7_e0d55eb0dab9row7_col12 {\n",
       "            background-color:  #de614d;\n",
       "            color:  #000000;\n",
       "        }    #T_bd83f132_16a7_11ea_95e7_e0d55eb0dab9row7_col13 {\n",
       "            background-color:  #3b4cc0;\n",
       "            color:  #f1f1f1;\n",
       "        }    #T_bd83f132_16a7_11ea_95e7_e0d55eb0dab9row7_col14 {\n",
       "            background-color:  #f5c4ac;\n",
       "            color:  #000000;\n",
       "        }    #T_bd83f132_16a7_11ea_95e7_e0d55eb0dab9row7_col15 {\n",
       "            background-color:  #b40426;\n",
       "            color:  #f1f1f1;\n",
       "        }    #T_bd83f132_16a7_11ea_95e7_e0d55eb0dab9row7_col16 {\n",
       "            background-color:  #ecd3c5;\n",
       "            color:  #000000;\n",
       "        }    #T_bd83f132_16a7_11ea_95e7_e0d55eb0dab9row7_col17 {\n",
       "            background-color:  #6180e9;\n",
       "            color:  #000000;\n",
       "        }    #T_bd83f132_16a7_11ea_95e7_e0d55eb0dab9row7_col18 {\n",
       "            background-color:  #d95847;\n",
       "            color:  #000000;\n",
       "        }    #T_bd83f132_16a7_11ea_95e7_e0d55eb0dab9row7_col19 {\n",
       "            background-color:  #dadce0;\n",
       "            color:  #000000;\n",
       "        }    #T_bd83f132_16a7_11ea_95e7_e0d55eb0dab9row7_col20 {\n",
       "            background-color:  #de614d;\n",
       "            color:  #000000;\n",
       "        }    #T_bd83f132_16a7_11ea_95e7_e0d55eb0dab9row7_col21 {\n",
       "            background-color:  #3b4cc0;\n",
       "            color:  #f1f1f1;\n",
       "        }    #T_bd83f132_16a7_11ea_95e7_e0d55eb0dab9row7_col22 {\n",
       "            background-color:  #f4c5ad;\n",
       "            color:  #000000;\n",
       "        }    #T_bd83f132_16a7_11ea_95e7_e0d55eb0dab9row7_col23 {\n",
       "            background-color:  #b50927;\n",
       "            color:  #f1f1f1;\n",
       "        }    #T_bd83f132_16a7_11ea_95e7_e0d55eb0dab9row8_col0 {\n",
       "            background-color:  #b40426;\n",
       "            color:  #f1f1f1;\n",
       "        }    #T_bd83f132_16a7_11ea_95e7_e0d55eb0dab9row8_col1 {\n",
       "            background-color:  #445acc;\n",
       "            color:  #f1f1f1;\n",
       "        }    #T_bd83f132_16a7_11ea_95e7_e0d55eb0dab9row8_col2 {\n",
       "            background-color:  #dbdcde;\n",
       "            color:  #000000;\n",
       "        }    #T_bd83f132_16a7_11ea_95e7_e0d55eb0dab9row8_col3 {\n",
       "            background-color:  #a2c1ff;\n",
       "            color:  #000000;\n",
       "        }    #T_bd83f132_16a7_11ea_95e7_e0d55eb0dab9row8_col4 {\n",
       "            background-color:  #f6bda2;\n",
       "            color:  #000000;\n",
       "        }    #T_bd83f132_16a7_11ea_95e7_e0d55eb0dab9row8_col5 {\n",
       "            background-color:  #3b4cc0;\n",
       "            color:  #f1f1f1;\n",
       "        }    #T_bd83f132_16a7_11ea_95e7_e0d55eb0dab9row8_col6 {\n",
       "            background-color:  #bfd3f6;\n",
       "            color:  #000000;\n",
       "        }    #T_bd83f132_16a7_11ea_95e7_e0d55eb0dab9row8_col7 {\n",
       "            background-color:  #e6d7cf;\n",
       "            color:  #000000;\n",
       "        }    #T_bd83f132_16a7_11ea_95e7_e0d55eb0dab9row8_col8 {\n",
       "            background-color:  #b40426;\n",
       "            color:  #f1f1f1;\n",
       "        }    #T_bd83f132_16a7_11ea_95e7_e0d55eb0dab9row8_col9 {\n",
       "            background-color:  #445acc;\n",
       "            color:  #f1f1f1;\n",
       "        }    #T_bd83f132_16a7_11ea_95e7_e0d55eb0dab9row8_col10 {\n",
       "            background-color:  #dbdcde;\n",
       "            color:  #000000;\n",
       "        }    #T_bd83f132_16a7_11ea_95e7_e0d55eb0dab9row8_col11 {\n",
       "            background-color:  #a2c1ff;\n",
       "            color:  #000000;\n",
       "        }    #T_bd83f132_16a7_11ea_95e7_e0d55eb0dab9row8_col12 {\n",
       "            background-color:  #f6bda2;\n",
       "            color:  #000000;\n",
       "        }    #T_bd83f132_16a7_11ea_95e7_e0d55eb0dab9row8_col13 {\n",
       "            background-color:  #3b4cc0;\n",
       "            color:  #f1f1f1;\n",
       "        }    #T_bd83f132_16a7_11ea_95e7_e0d55eb0dab9row8_col14 {\n",
       "            background-color:  #c0d4f5;\n",
       "            color:  #000000;\n",
       "        }    #T_bd83f132_16a7_11ea_95e7_e0d55eb0dab9row8_col15 {\n",
       "            background-color:  #e6d7cf;\n",
       "            color:  #000000;\n",
       "        }    #T_bd83f132_16a7_11ea_95e7_e0d55eb0dab9row8_col16 {\n",
       "            background-color:  #b40426;\n",
       "            color:  #f1f1f1;\n",
       "        }    #T_bd83f132_16a7_11ea_95e7_e0d55eb0dab9row8_col17 {\n",
       "            background-color:  #445acc;\n",
       "            color:  #f1f1f1;\n",
       "        }    #T_bd83f132_16a7_11ea_95e7_e0d55eb0dab9row8_col18 {\n",
       "            background-color:  #dbdcde;\n",
       "            color:  #000000;\n",
       "        }    #T_bd83f132_16a7_11ea_95e7_e0d55eb0dab9row8_col19 {\n",
       "            background-color:  #a2c1ff;\n",
       "            color:  #000000;\n",
       "        }    #T_bd83f132_16a7_11ea_95e7_e0d55eb0dab9row8_col20 {\n",
       "            background-color:  #f6bea4;\n",
       "            color:  #000000;\n",
       "        }    #T_bd83f132_16a7_11ea_95e7_e0d55eb0dab9row8_col21 {\n",
       "            background-color:  #3b4cc0;\n",
       "            color:  #f1f1f1;\n",
       "        }    #T_bd83f132_16a7_11ea_95e7_e0d55eb0dab9row8_col22 {\n",
       "            background-color:  #bfd3f6;\n",
       "            color:  #000000;\n",
       "        }    #T_bd83f132_16a7_11ea_95e7_e0d55eb0dab9row8_col23 {\n",
       "            background-color:  #e6d7cf;\n",
       "            color:  #000000;\n",
       "        }    #T_bd83f132_16a7_11ea_95e7_e0d55eb0dab9row9_col0 {\n",
       "            background-color:  #3b4cc0;\n",
       "            color:  #f1f1f1;\n",
       "        }    #T_bd83f132_16a7_11ea_95e7_e0d55eb0dab9row9_col1 {\n",
       "            background-color:  #b40426;\n",
       "            color:  #f1f1f1;\n",
       "        }    #T_bd83f132_16a7_11ea_95e7_e0d55eb0dab9row9_col2 {\n",
       "            background-color:  #5673e0;\n",
       "            color:  #000000;\n",
       "        }    #T_bd83f132_16a7_11ea_95e7_e0d55eb0dab9row9_col3 {\n",
       "            background-color:  #4b64d5;\n",
       "            color:  #f1f1f1;\n",
       "        }    #T_bd83f132_16a7_11ea_95e7_e0d55eb0dab9row9_col4 {\n",
       "            background-color:  #445acc;\n",
       "            color:  #f1f1f1;\n",
       "        }    #T_bd83f132_16a7_11ea_95e7_e0d55eb0dab9row9_col5 {\n",
       "            background-color:  #3c4ec2;\n",
       "            color:  #f1f1f1;\n",
       "        }    #T_bd83f132_16a7_11ea_95e7_e0d55eb0dab9row9_col6 {\n",
       "            background-color:  #4257c9;\n",
       "            color:  #f1f1f1;\n",
       "        }    #T_bd83f132_16a7_11ea_95e7_e0d55eb0dab9row9_col7 {\n",
       "            background-color:  #445acc;\n",
       "            color:  #f1f1f1;\n",
       "        }    #T_bd83f132_16a7_11ea_95e7_e0d55eb0dab9row9_col8 {\n",
       "            background-color:  #3b4cc0;\n",
       "            color:  #f1f1f1;\n",
       "        }    #T_bd83f132_16a7_11ea_95e7_e0d55eb0dab9row9_col9 {\n",
       "            background-color:  #b40426;\n",
       "            color:  #f1f1f1;\n",
       "        }    #T_bd83f132_16a7_11ea_95e7_e0d55eb0dab9row9_col10 {\n",
       "            background-color:  #5673e0;\n",
       "            color:  #000000;\n",
       "        }    #T_bd83f132_16a7_11ea_95e7_e0d55eb0dab9row9_col11 {\n",
       "            background-color:  #4b64d5;\n",
       "            color:  #f1f1f1;\n",
       "        }    #T_bd83f132_16a7_11ea_95e7_e0d55eb0dab9row9_col12 {\n",
       "            background-color:  #445acc;\n",
       "            color:  #f1f1f1;\n",
       "        }    #T_bd83f132_16a7_11ea_95e7_e0d55eb0dab9row9_col13 {\n",
       "            background-color:  #3c4ec2;\n",
       "            color:  #f1f1f1;\n",
       "        }    #T_bd83f132_16a7_11ea_95e7_e0d55eb0dab9row9_col14 {\n",
       "            background-color:  #4257c9;\n",
       "            color:  #f1f1f1;\n",
       "        }    #T_bd83f132_16a7_11ea_95e7_e0d55eb0dab9row9_col15 {\n",
       "            background-color:  #445acc;\n",
       "            color:  #f1f1f1;\n",
       "        }    #T_bd83f132_16a7_11ea_95e7_e0d55eb0dab9row9_col16 {\n",
       "            background-color:  #3b4cc0;\n",
       "            color:  #f1f1f1;\n",
       "        }    #T_bd83f132_16a7_11ea_95e7_e0d55eb0dab9row9_col17 {\n",
       "            background-color:  #b40426;\n",
       "            color:  #f1f1f1;\n",
       "        }    #T_bd83f132_16a7_11ea_95e7_e0d55eb0dab9row9_col18 {\n",
       "            background-color:  #5673e0;\n",
       "            color:  #000000;\n",
       "        }    #T_bd83f132_16a7_11ea_95e7_e0d55eb0dab9row9_col19 {\n",
       "            background-color:  #4c66d6;\n",
       "            color:  #000000;\n",
       "        }    #T_bd83f132_16a7_11ea_95e7_e0d55eb0dab9row9_col20 {\n",
       "            background-color:  #445acc;\n",
       "            color:  #f1f1f1;\n",
       "        }    #T_bd83f132_16a7_11ea_95e7_e0d55eb0dab9row9_col21 {\n",
       "            background-color:  #3c4ec2;\n",
       "            color:  #f1f1f1;\n",
       "        }    #T_bd83f132_16a7_11ea_95e7_e0d55eb0dab9row9_col22 {\n",
       "            background-color:  #4257c9;\n",
       "            color:  #f1f1f1;\n",
       "        }    #T_bd83f132_16a7_11ea_95e7_e0d55eb0dab9row9_col23 {\n",
       "            background-color:  #445acc;\n",
       "            color:  #f1f1f1;\n",
       "        }    #T_bd83f132_16a7_11ea_95e7_e0d55eb0dab9row10_col0 {\n",
       "            background-color:  #e8d6cc;\n",
       "            color:  #000000;\n",
       "        }    #T_bd83f132_16a7_11ea_95e7_e0d55eb0dab9row10_col1 {\n",
       "            background-color:  #7ea1fa;\n",
       "            color:  #000000;\n",
       "        }    #T_bd83f132_16a7_11ea_95e7_e0d55eb0dab9row10_col2 {\n",
       "            background-color:  #b40426;\n",
       "            color:  #f1f1f1;\n",
       "        }    #T_bd83f132_16a7_11ea_95e7_e0d55eb0dab9row10_col3 {\n",
       "            background-color:  #edd2c3;\n",
       "            color:  #000000;\n",
       "        }    #T_bd83f132_16a7_11ea_95e7_e0d55eb0dab9row10_col4 {\n",
       "            background-color:  #e9785d;\n",
       "            color:  #000000;\n",
       "        }    #T_bd83f132_16a7_11ea_95e7_e0d55eb0dab9row10_col5 {\n",
       "            background-color:  #3b4cc0;\n",
       "            color:  #f1f1f1;\n",
       "        }    #T_bd83f132_16a7_11ea_95e7_e0d55eb0dab9row10_col6 {\n",
       "            background-color:  #f5c4ac;\n",
       "            color:  #000000;\n",
       "        }    #T_bd83f132_16a7_11ea_95e7_e0d55eb0dab9row10_col7 {\n",
       "            background-color:  #d85646;\n",
       "            color:  #000000;\n",
       "        }    #T_bd83f132_16a7_11ea_95e7_e0d55eb0dab9row10_col8 {\n",
       "            background-color:  #e8d6cc;\n",
       "            color:  #000000;\n",
       "        }    #T_bd83f132_16a7_11ea_95e7_e0d55eb0dab9row10_col9 {\n",
       "            background-color:  #7ea1fa;\n",
       "            color:  #000000;\n",
       "        }    #T_bd83f132_16a7_11ea_95e7_e0d55eb0dab9row10_col10 {\n",
       "            background-color:  #b40426;\n",
       "            color:  #f1f1f1;\n",
       "        }    #T_bd83f132_16a7_11ea_95e7_e0d55eb0dab9row10_col11 {\n",
       "            background-color:  #edd2c3;\n",
       "            color:  #000000;\n",
       "        }    #T_bd83f132_16a7_11ea_95e7_e0d55eb0dab9row10_col12 {\n",
       "            background-color:  #e9785d;\n",
       "            color:  #000000;\n",
       "        }    #T_bd83f132_16a7_11ea_95e7_e0d55eb0dab9row10_col13 {\n",
       "            background-color:  #3b4cc0;\n",
       "            color:  #f1f1f1;\n",
       "        }    #T_bd83f132_16a7_11ea_95e7_e0d55eb0dab9row10_col14 {\n",
       "            background-color:  #f5c4ac;\n",
       "            color:  #000000;\n",
       "        }    #T_bd83f132_16a7_11ea_95e7_e0d55eb0dab9row10_col15 {\n",
       "            background-color:  #d75445;\n",
       "            color:  #000000;\n",
       "        }    #T_bd83f132_16a7_11ea_95e7_e0d55eb0dab9row10_col16 {\n",
       "            background-color:  #e8d6cc;\n",
       "            color:  #000000;\n",
       "        }    #T_bd83f132_16a7_11ea_95e7_e0d55eb0dab9row10_col17 {\n",
       "            background-color:  #7ea1fa;\n",
       "            color:  #000000;\n",
       "        }    #T_bd83f132_16a7_11ea_95e7_e0d55eb0dab9row10_col18 {\n",
       "            background-color:  #b40426;\n",
       "            color:  #f1f1f1;\n",
       "        }    #T_bd83f132_16a7_11ea_95e7_e0d55eb0dab9row10_col19 {\n",
       "            background-color:  #edd2c3;\n",
       "            color:  #000000;\n",
       "        }    #T_bd83f132_16a7_11ea_95e7_e0d55eb0dab9row10_col20 {\n",
       "            background-color:  #e9785d;\n",
       "            color:  #000000;\n",
       "        }    #T_bd83f132_16a7_11ea_95e7_e0d55eb0dab9row10_col21 {\n",
       "            background-color:  #3b4cc0;\n",
       "            color:  #f1f1f1;\n",
       "        }    #T_bd83f132_16a7_11ea_95e7_e0d55eb0dab9row10_col22 {\n",
       "            background-color:  #f5c4ac;\n",
       "            color:  #000000;\n",
       "        }    #T_bd83f132_16a7_11ea_95e7_e0d55eb0dab9row10_col23 {\n",
       "            background-color:  #d85646;\n",
       "            color:  #000000;\n",
       "        }    #T_bd83f132_16a7_11ea_95e7_e0d55eb0dab9row11_col0 {\n",
       "            background-color:  #89acfd;\n",
       "            color:  #000000;\n",
       "        }    #T_bd83f132_16a7_11ea_95e7_e0d55eb0dab9row11_col1 {\n",
       "            background-color:  #3b4cc0;\n",
       "            color:  #f1f1f1;\n",
       "        }    #T_bd83f132_16a7_11ea_95e7_e0d55eb0dab9row11_col2 {\n",
       "            background-color:  #d5dbe5;\n",
       "            color:  #000000;\n",
       "        }    #T_bd83f132_16a7_11ea_95e7_e0d55eb0dab9row11_col3 {\n",
       "            background-color:  #b40426;\n",
       "            color:  #f1f1f1;\n",
       "        }    #T_bd83f132_16a7_11ea_95e7_e0d55eb0dab9row11_col4 {\n",
       "            background-color:  #93b5fe;\n",
       "            color:  #000000;\n",
       "        }    #T_bd83f132_16a7_11ea_95e7_e0d55eb0dab9row11_col5 {\n",
       "            background-color:  #dadce0;\n",
       "            color:  #000000;\n",
       "        }    #T_bd83f132_16a7_11ea_95e7_e0d55eb0dab9row11_col6 {\n",
       "            background-color:  #90b2fe;\n",
       "            color:  #000000;\n",
       "        }    #T_bd83f132_16a7_11ea_95e7_e0d55eb0dab9row11_col7 {\n",
       "            background-color:  #c1d4f4;\n",
       "            color:  #000000;\n",
       "        }    #T_bd83f132_16a7_11ea_95e7_e0d55eb0dab9row11_col8 {\n",
       "            background-color:  #89acfd;\n",
       "            color:  #000000;\n",
       "        }    #T_bd83f132_16a7_11ea_95e7_e0d55eb0dab9row11_col9 {\n",
       "            background-color:  #3b4cc0;\n",
       "            color:  #f1f1f1;\n",
       "        }    #T_bd83f132_16a7_11ea_95e7_e0d55eb0dab9row11_col10 {\n",
       "            background-color:  #d6dce4;\n",
       "            color:  #000000;\n",
       "        }    #T_bd83f132_16a7_11ea_95e7_e0d55eb0dab9row11_col11 {\n",
       "            background-color:  #b40426;\n",
       "            color:  #f1f1f1;\n",
       "        }    #T_bd83f132_16a7_11ea_95e7_e0d55eb0dab9row11_col12 {\n",
       "            background-color:  #93b5fe;\n",
       "            color:  #000000;\n",
       "        }    #T_bd83f132_16a7_11ea_95e7_e0d55eb0dab9row11_col13 {\n",
       "            background-color:  #dadce0;\n",
       "            color:  #000000;\n",
       "        }    #T_bd83f132_16a7_11ea_95e7_e0d55eb0dab9row11_col14 {\n",
       "            background-color:  #92b4fe;\n",
       "            color:  #000000;\n",
       "        }    #T_bd83f132_16a7_11ea_95e7_e0d55eb0dab9row11_col15 {\n",
       "            background-color:  #c3d5f4;\n",
       "            color:  #000000;\n",
       "        }    #T_bd83f132_16a7_11ea_95e7_e0d55eb0dab9row11_col16 {\n",
       "            background-color:  #89acfd;\n",
       "            color:  #000000;\n",
       "        }    #T_bd83f132_16a7_11ea_95e7_e0d55eb0dab9row11_col17 {\n",
       "            background-color:  #3b4cc0;\n",
       "            color:  #f1f1f1;\n",
       "        }    #T_bd83f132_16a7_11ea_95e7_e0d55eb0dab9row11_col18 {\n",
       "            background-color:  #d6dce4;\n",
       "            color:  #000000;\n",
       "        }    #T_bd83f132_16a7_11ea_95e7_e0d55eb0dab9row11_col19 {\n",
       "            background-color:  #b40426;\n",
       "            color:  #f1f1f1;\n",
       "        }    #T_bd83f132_16a7_11ea_95e7_e0d55eb0dab9row11_col20 {\n",
       "            background-color:  #93b5fe;\n",
       "            color:  #000000;\n",
       "        }    #T_bd83f132_16a7_11ea_95e7_e0d55eb0dab9row11_col21 {\n",
       "            background-color:  #dadce0;\n",
       "            color:  #000000;\n",
       "        }    #T_bd83f132_16a7_11ea_95e7_e0d55eb0dab9row11_col22 {\n",
       "            background-color:  #90b2fe;\n",
       "            color:  #000000;\n",
       "        }    #T_bd83f132_16a7_11ea_95e7_e0d55eb0dab9row11_col23 {\n",
       "            background-color:  #c1d4f4;\n",
       "            color:  #000000;\n",
       "        }    #T_bd83f132_16a7_11ea_95e7_e0d55eb0dab9row12_col0 {\n",
       "            background-color:  #f7aa8c;\n",
       "            color:  #000000;\n",
       "        }    #T_bd83f132_16a7_11ea_95e7_e0d55eb0dab9row12_col1 {\n",
       "            background-color:  #80a3fa;\n",
       "            color:  #000000;\n",
       "        }    #T_bd83f132_16a7_11ea_95e7_e0d55eb0dab9row12_col2 {\n",
       "            background-color:  #e67259;\n",
       "            color:  #000000;\n",
       "        }    #T_bd83f132_16a7_11ea_95e7_e0d55eb0dab9row12_col3 {\n",
       "            background-color:  #ccd9ed;\n",
       "            color:  #000000;\n",
       "        }    #T_bd83f132_16a7_11ea_95e7_e0d55eb0dab9row12_col4 {\n",
       "            background-color:  #b40426;\n",
       "            color:  #f1f1f1;\n",
       "        }    #T_bd83f132_16a7_11ea_95e7_e0d55eb0dab9row12_col5 {\n",
       "            background-color:  #3b4cc0;\n",
       "            color:  #f1f1f1;\n",
       "        }    #T_bd83f132_16a7_11ea_95e7_e0d55eb0dab9row12_col6 {\n",
       "            background-color:  #f5c1a9;\n",
       "            color:  #000000;\n",
       "        }    #T_bd83f132_16a7_11ea_95e7_e0d55eb0dab9row12_col7 {\n",
       "            background-color:  #d95847;\n",
       "            color:  #000000;\n",
       "        }    #T_bd83f132_16a7_11ea_95e7_e0d55eb0dab9row12_col8 {\n",
       "            background-color:  #f7aa8c;\n",
       "            color:  #000000;\n",
       "        }    #T_bd83f132_16a7_11ea_95e7_e0d55eb0dab9row12_col9 {\n",
       "            background-color:  #80a3fa;\n",
       "            color:  #000000;\n",
       "        }    #T_bd83f132_16a7_11ea_95e7_e0d55eb0dab9row12_col10 {\n",
       "            background-color:  #e67259;\n",
       "            color:  #000000;\n",
       "        }    #T_bd83f132_16a7_11ea_95e7_e0d55eb0dab9row12_col11 {\n",
       "            background-color:  #ccd9ed;\n",
       "            color:  #000000;\n",
       "        }    #T_bd83f132_16a7_11ea_95e7_e0d55eb0dab9row12_col12 {\n",
       "            background-color:  #b40426;\n",
       "            color:  #f1f1f1;\n",
       "        }    #T_bd83f132_16a7_11ea_95e7_e0d55eb0dab9row12_col13 {\n",
       "            background-color:  #3b4cc0;\n",
       "            color:  #f1f1f1;\n",
       "        }    #T_bd83f132_16a7_11ea_95e7_e0d55eb0dab9row12_col14 {\n",
       "            background-color:  #f5c1a9;\n",
       "            color:  #000000;\n",
       "        }    #T_bd83f132_16a7_11ea_95e7_e0d55eb0dab9row12_col15 {\n",
       "            background-color:  #d95847;\n",
       "            color:  #000000;\n",
       "        }    #T_bd83f132_16a7_11ea_95e7_e0d55eb0dab9row12_col16 {\n",
       "            background-color:  #f7ac8e;\n",
       "            color:  #000000;\n",
       "        }    #T_bd83f132_16a7_11ea_95e7_e0d55eb0dab9row12_col17 {\n",
       "            background-color:  #80a3fa;\n",
       "            color:  #000000;\n",
       "        }    #T_bd83f132_16a7_11ea_95e7_e0d55eb0dab9row12_col18 {\n",
       "            background-color:  #e67259;\n",
       "            color:  #000000;\n",
       "        }    #T_bd83f132_16a7_11ea_95e7_e0d55eb0dab9row12_col19 {\n",
       "            background-color:  #ccd9ed;\n",
       "            color:  #000000;\n",
       "        }    #T_bd83f132_16a7_11ea_95e7_e0d55eb0dab9row12_col20 {\n",
       "            background-color:  #b40426;\n",
       "            color:  #f1f1f1;\n",
       "        }    #T_bd83f132_16a7_11ea_95e7_e0d55eb0dab9row12_col21 {\n",
       "            background-color:  #3b4cc0;\n",
       "            color:  #f1f1f1;\n",
       "        }    #T_bd83f132_16a7_11ea_95e7_e0d55eb0dab9row12_col22 {\n",
       "            background-color:  #f5c1a9;\n",
       "            color:  #000000;\n",
       "        }    #T_bd83f132_16a7_11ea_95e7_e0d55eb0dab9row12_col23 {\n",
       "            background-color:  #da5a49;\n",
       "            color:  #000000;\n",
       "        }    #T_bd83f132_16a7_11ea_95e7_e0d55eb0dab9row13_col0 {\n",
       "            background-color:  #6b8df0;\n",
       "            color:  #000000;\n",
       "        }    #T_bd83f132_16a7_11ea_95e7_e0d55eb0dab9row13_col1 {\n",
       "            background-color:  #779af7;\n",
       "            color:  #000000;\n",
       "        }    #T_bd83f132_16a7_11ea_95e7_e0d55eb0dab9row13_col2 {\n",
       "            background-color:  #4e68d8;\n",
       "            color:  #000000;\n",
       "        }    #T_bd83f132_16a7_11ea_95e7_e0d55eb0dab9row13_col3 {\n",
       "            background-color:  #f2c9b4;\n",
       "            color:  #000000;\n",
       "        }    #T_bd83f132_16a7_11ea_95e7_e0d55eb0dab9row13_col4 {\n",
       "            background-color:  #3b4cc0;\n",
       "            color:  #f1f1f1;\n",
       "        }    #T_bd83f132_16a7_11ea_95e7_e0d55eb0dab9row13_col5 {\n",
       "            background-color:  #b40426;\n",
       "            color:  #f1f1f1;\n",
       "        }    #T_bd83f132_16a7_11ea_95e7_e0d55eb0dab9row13_col6 {\n",
       "            background-color:  #5977e3;\n",
       "            color:  #000000;\n",
       "        }    #T_bd83f132_16a7_11ea_95e7_e0d55eb0dab9row13_col7 {\n",
       "            background-color:  #5a78e4;\n",
       "            color:  #000000;\n",
       "        }    #T_bd83f132_16a7_11ea_95e7_e0d55eb0dab9row13_col8 {\n",
       "            background-color:  #6c8ff1;\n",
       "            color:  #000000;\n",
       "        }    #T_bd83f132_16a7_11ea_95e7_e0d55eb0dab9row13_col9 {\n",
       "            background-color:  #779af7;\n",
       "            color:  #000000;\n",
       "        }    #T_bd83f132_16a7_11ea_95e7_e0d55eb0dab9row13_col10 {\n",
       "            background-color:  #4e68d8;\n",
       "            color:  #000000;\n",
       "        }    #T_bd83f132_16a7_11ea_95e7_e0d55eb0dab9row13_col11 {\n",
       "            background-color:  #f2c9b4;\n",
       "            color:  #000000;\n",
       "        }    #T_bd83f132_16a7_11ea_95e7_e0d55eb0dab9row13_col12 {\n",
       "            background-color:  #3b4cc0;\n",
       "            color:  #f1f1f1;\n",
       "        }    #T_bd83f132_16a7_11ea_95e7_e0d55eb0dab9row13_col13 {\n",
       "            background-color:  #b40426;\n",
       "            color:  #f1f1f1;\n",
       "        }    #T_bd83f132_16a7_11ea_95e7_e0d55eb0dab9row13_col14 {\n",
       "            background-color:  #5977e3;\n",
       "            color:  #000000;\n",
       "        }    #T_bd83f132_16a7_11ea_95e7_e0d55eb0dab9row13_col15 {\n",
       "            background-color:  #5a78e4;\n",
       "            color:  #000000;\n",
       "        }    #T_bd83f132_16a7_11ea_95e7_e0d55eb0dab9row13_col16 {\n",
       "            background-color:  #6c8ff1;\n",
       "            color:  #000000;\n",
       "        }    #T_bd83f132_16a7_11ea_95e7_e0d55eb0dab9row13_col17 {\n",
       "            background-color:  #779af7;\n",
       "            color:  #000000;\n",
       "        }    #T_bd83f132_16a7_11ea_95e7_e0d55eb0dab9row13_col18 {\n",
       "            background-color:  #4e68d8;\n",
       "            color:  #000000;\n",
       "        }    #T_bd83f132_16a7_11ea_95e7_e0d55eb0dab9row13_col19 {\n",
       "            background-color:  #f2c9b4;\n",
       "            color:  #000000;\n",
       "        }    #T_bd83f132_16a7_11ea_95e7_e0d55eb0dab9row13_col20 {\n",
       "            background-color:  #3b4cc0;\n",
       "            color:  #f1f1f1;\n",
       "        }    #T_bd83f132_16a7_11ea_95e7_e0d55eb0dab9row13_col21 {\n",
       "            background-color:  #b40426;\n",
       "            color:  #f1f1f1;\n",
       "        }    #T_bd83f132_16a7_11ea_95e7_e0d55eb0dab9row13_col22 {\n",
       "            background-color:  #5977e3;\n",
       "            color:  #000000;\n",
       "        }    #T_bd83f132_16a7_11ea_95e7_e0d55eb0dab9row13_col23 {\n",
       "            background-color:  #5a78e4;\n",
       "            color:  #000000;\n",
       "        }    #T_bd83f132_16a7_11ea_95e7_e0d55eb0dab9row14_col0 {\n",
       "            background-color:  #cbd8ee;\n",
       "            color:  #000000;\n",
       "        }    #T_bd83f132_16a7_11ea_95e7_e0d55eb0dab9row14_col1 {\n",
       "            background-color:  #5f7fe8;\n",
       "            color:  #000000;\n",
       "        }    #T_bd83f132_16a7_11ea_95e7_e0d55eb0dab9row14_col2 {\n",
       "            background-color:  #f3c8b2;\n",
       "            color:  #000000;\n",
       "        }    #T_bd83f132_16a7_11ea_95e7_e0d55eb0dab9row14_col3 {\n",
       "            background-color:  #b6cefa;\n",
       "            color:  #000000;\n",
       "        }    #T_bd83f132_16a7_11ea_95e7_e0d55eb0dab9row14_col4 {\n",
       "            background-color:  #f1ccb8;\n",
       "            color:  #000000;\n",
       "        }    #T_bd83f132_16a7_11ea_95e7_e0d55eb0dab9row14_col5 {\n",
       "            background-color:  #3b4cc0;\n",
       "            color:  #f1f1f1;\n",
       "        }    #T_bd83f132_16a7_11ea_95e7_e0d55eb0dab9row14_col6 {\n",
       "            background-color:  #b50927;\n",
       "            color:  #f1f1f1;\n",
       "        }    #T_bd83f132_16a7_11ea_95e7_e0d55eb0dab9row14_col7 {\n",
       "            background-color:  #f5c4ac;\n",
       "            color:  #000000;\n",
       "        }    #T_bd83f132_16a7_11ea_95e7_e0d55eb0dab9row14_col8 {\n",
       "            background-color:  #cbd8ee;\n",
       "            color:  #000000;\n",
       "        }    #T_bd83f132_16a7_11ea_95e7_e0d55eb0dab9row14_col9 {\n",
       "            background-color:  #5f7fe8;\n",
       "            color:  #000000;\n",
       "        }    #T_bd83f132_16a7_11ea_95e7_e0d55eb0dab9row14_col10 {\n",
       "            background-color:  #f3c7b1;\n",
       "            color:  #000000;\n",
       "        }    #T_bd83f132_16a7_11ea_95e7_e0d55eb0dab9row14_col11 {\n",
       "            background-color:  #b7cff9;\n",
       "            color:  #000000;\n",
       "        }    #T_bd83f132_16a7_11ea_95e7_e0d55eb0dab9row14_col12 {\n",
       "            background-color:  #f1ccb8;\n",
       "            color:  #000000;\n",
       "        }    #T_bd83f132_16a7_11ea_95e7_e0d55eb0dab9row14_col13 {\n",
       "            background-color:  #3b4cc0;\n",
       "            color:  #f1f1f1;\n",
       "        }    #T_bd83f132_16a7_11ea_95e7_e0d55eb0dab9row14_col14 {\n",
       "            background-color:  #b40426;\n",
       "            color:  #f1f1f1;\n",
       "        }    #T_bd83f132_16a7_11ea_95e7_e0d55eb0dab9row14_col15 {\n",
       "            background-color:  #f5c4ac;\n",
       "            color:  #000000;\n",
       "        }    #T_bd83f132_16a7_11ea_95e7_e0d55eb0dab9row14_col16 {\n",
       "            background-color:  #cbd8ee;\n",
       "            color:  #000000;\n",
       "        }    #T_bd83f132_16a7_11ea_95e7_e0d55eb0dab9row14_col17 {\n",
       "            background-color:  #5f7fe8;\n",
       "            color:  #000000;\n",
       "        }    #T_bd83f132_16a7_11ea_95e7_e0d55eb0dab9row14_col18 {\n",
       "            background-color:  #f3c8b2;\n",
       "            color:  #000000;\n",
       "        }    #T_bd83f132_16a7_11ea_95e7_e0d55eb0dab9row14_col19 {\n",
       "            background-color:  #b6cefa;\n",
       "            color:  #000000;\n",
       "        }    #T_bd83f132_16a7_11ea_95e7_e0d55eb0dab9row14_col20 {\n",
       "            background-color:  #f1ccb8;\n",
       "            color:  #000000;\n",
       "        }    #T_bd83f132_16a7_11ea_95e7_e0d55eb0dab9row14_col21 {\n",
       "            background-color:  #3b4cc0;\n",
       "            color:  #f1f1f1;\n",
       "        }    #T_bd83f132_16a7_11ea_95e7_e0d55eb0dab9row14_col22 {\n",
       "            background-color:  #b50927;\n",
       "            color:  #f1f1f1;\n",
       "        }    #T_bd83f132_16a7_11ea_95e7_e0d55eb0dab9row14_col23 {\n",
       "            background-color:  #f5c4ac;\n",
       "            color:  #000000;\n",
       "        }    #T_bd83f132_16a7_11ea_95e7_e0d55eb0dab9row15_col0 {\n",
       "            background-color:  #ecd3c5;\n",
       "            color:  #000000;\n",
       "        }    #T_bd83f132_16a7_11ea_95e7_e0d55eb0dab9row15_col1 {\n",
       "            background-color:  #6180e9;\n",
       "            color:  #000000;\n",
       "        }    #T_bd83f132_16a7_11ea_95e7_e0d55eb0dab9row15_col2 {\n",
       "            background-color:  #d95847;\n",
       "            color:  #000000;\n",
       "        }    #T_bd83f132_16a7_11ea_95e7_e0d55eb0dab9row15_col3 {\n",
       "            background-color:  #dadce0;\n",
       "            color:  #000000;\n",
       "        }    #T_bd83f132_16a7_11ea_95e7_e0d55eb0dab9row15_col4 {\n",
       "            background-color:  #de614d;\n",
       "            color:  #000000;\n",
       "        }    #T_bd83f132_16a7_11ea_95e7_e0d55eb0dab9row15_col5 {\n",
       "            background-color:  #3b4cc0;\n",
       "            color:  #f1f1f1;\n",
       "        }    #T_bd83f132_16a7_11ea_95e7_e0d55eb0dab9row15_col6 {\n",
       "            background-color:  #f5c4ac;\n",
       "            color:  #000000;\n",
       "        }    #T_bd83f132_16a7_11ea_95e7_e0d55eb0dab9row15_col7 {\n",
       "            background-color:  #b40426;\n",
       "            color:  #f1f1f1;\n",
       "        }    #T_bd83f132_16a7_11ea_95e7_e0d55eb0dab9row15_col8 {\n",
       "            background-color:  #ecd3c5;\n",
       "            color:  #000000;\n",
       "        }    #T_bd83f132_16a7_11ea_95e7_e0d55eb0dab9row15_col9 {\n",
       "            background-color:  #6180e9;\n",
       "            color:  #000000;\n",
       "        }    #T_bd83f132_16a7_11ea_95e7_e0d55eb0dab9row15_col10 {\n",
       "            background-color:  #d85646;\n",
       "            color:  #000000;\n",
       "        }    #T_bd83f132_16a7_11ea_95e7_e0d55eb0dab9row15_col11 {\n",
       "            background-color:  #dbdcde;\n",
       "            color:  #000000;\n",
       "        }    #T_bd83f132_16a7_11ea_95e7_e0d55eb0dab9row15_col12 {\n",
       "            background-color:  #de614d;\n",
       "            color:  #000000;\n",
       "        }    #T_bd83f132_16a7_11ea_95e7_e0d55eb0dab9row15_col13 {\n",
       "            background-color:  #3b4cc0;\n",
       "            color:  #f1f1f1;\n",
       "        }    #T_bd83f132_16a7_11ea_95e7_e0d55eb0dab9row15_col14 {\n",
       "            background-color:  #f5c4ac;\n",
       "            color:  #000000;\n",
       "        }    #T_bd83f132_16a7_11ea_95e7_e0d55eb0dab9row15_col15 {\n",
       "            background-color:  #b40426;\n",
       "            color:  #f1f1f1;\n",
       "        }    #T_bd83f132_16a7_11ea_95e7_e0d55eb0dab9row15_col16 {\n",
       "            background-color:  #ecd3c5;\n",
       "            color:  #000000;\n",
       "        }    #T_bd83f132_16a7_11ea_95e7_e0d55eb0dab9row15_col17 {\n",
       "            background-color:  #6180e9;\n",
       "            color:  #000000;\n",
       "        }    #T_bd83f132_16a7_11ea_95e7_e0d55eb0dab9row15_col18 {\n",
       "            background-color:  #d95847;\n",
       "            color:  #000000;\n",
       "        }    #T_bd83f132_16a7_11ea_95e7_e0d55eb0dab9row15_col19 {\n",
       "            background-color:  #dadce0;\n",
       "            color:  #000000;\n",
       "        }    #T_bd83f132_16a7_11ea_95e7_e0d55eb0dab9row15_col20 {\n",
       "            background-color:  #de614d;\n",
       "            color:  #000000;\n",
       "        }    #T_bd83f132_16a7_11ea_95e7_e0d55eb0dab9row15_col21 {\n",
       "            background-color:  #3b4cc0;\n",
       "            color:  #f1f1f1;\n",
       "        }    #T_bd83f132_16a7_11ea_95e7_e0d55eb0dab9row15_col22 {\n",
       "            background-color:  #f5c4ac;\n",
       "            color:  #000000;\n",
       "        }    #T_bd83f132_16a7_11ea_95e7_e0d55eb0dab9row15_col23 {\n",
       "            background-color:  #b40426;\n",
       "            color:  #f1f1f1;\n",
       "        }    #T_bd83f132_16a7_11ea_95e7_e0d55eb0dab9row16_col0 {\n",
       "            background-color:  #b50927;\n",
       "            color:  #f1f1f1;\n",
       "        }    #T_bd83f132_16a7_11ea_95e7_e0d55eb0dab9row16_col1 {\n",
       "            background-color:  #445acc;\n",
       "            color:  #f1f1f1;\n",
       "        }    #T_bd83f132_16a7_11ea_95e7_e0d55eb0dab9row16_col2 {\n",
       "            background-color:  #dadce0;\n",
       "            color:  #000000;\n",
       "        }    #T_bd83f132_16a7_11ea_95e7_e0d55eb0dab9row16_col3 {\n",
       "            background-color:  #a1c0ff;\n",
       "            color:  #000000;\n",
       "        }    #T_bd83f132_16a7_11ea_95e7_e0d55eb0dab9row16_col4 {\n",
       "            background-color:  #f6bea4;\n",
       "            color:  #000000;\n",
       "        }    #T_bd83f132_16a7_11ea_95e7_e0d55eb0dab9row16_col5 {\n",
       "            background-color:  #3b4cc0;\n",
       "            color:  #f1f1f1;\n",
       "        }    #T_bd83f132_16a7_11ea_95e7_e0d55eb0dab9row16_col6 {\n",
       "            background-color:  #bfd3f6;\n",
       "            color:  #000000;\n",
       "        }    #T_bd83f132_16a7_11ea_95e7_e0d55eb0dab9row16_col7 {\n",
       "            background-color:  #e5d8d1;\n",
       "            color:  #000000;\n",
       "        }    #T_bd83f132_16a7_11ea_95e7_e0d55eb0dab9row16_col8 {\n",
       "            background-color:  #b40426;\n",
       "            color:  #f1f1f1;\n",
       "        }    #T_bd83f132_16a7_11ea_95e7_e0d55eb0dab9row16_col9 {\n",
       "            background-color:  #445acc;\n",
       "            color:  #f1f1f1;\n",
       "        }    #T_bd83f132_16a7_11ea_95e7_e0d55eb0dab9row16_col10 {\n",
       "            background-color:  #dbdcde;\n",
       "            color:  #000000;\n",
       "        }    #T_bd83f132_16a7_11ea_95e7_e0d55eb0dab9row16_col11 {\n",
       "            background-color:  #a2c1ff;\n",
       "            color:  #000000;\n",
       "        }    #T_bd83f132_16a7_11ea_95e7_e0d55eb0dab9row16_col12 {\n",
       "            background-color:  #f6bea4;\n",
       "            color:  #000000;\n",
       "        }    #T_bd83f132_16a7_11ea_95e7_e0d55eb0dab9row16_col13 {\n",
       "            background-color:  #3b4cc0;\n",
       "            color:  #f1f1f1;\n",
       "        }    #T_bd83f132_16a7_11ea_95e7_e0d55eb0dab9row16_col14 {\n",
       "            background-color:  #bfd3f6;\n",
       "            color:  #000000;\n",
       "        }    #T_bd83f132_16a7_11ea_95e7_e0d55eb0dab9row16_col15 {\n",
       "            background-color:  #e5d8d1;\n",
       "            color:  #000000;\n",
       "        }    #T_bd83f132_16a7_11ea_95e7_e0d55eb0dab9row16_col16 {\n",
       "            background-color:  #b40426;\n",
       "            color:  #f1f1f1;\n",
       "        }    #T_bd83f132_16a7_11ea_95e7_e0d55eb0dab9row16_col17 {\n",
       "            background-color:  #445acc;\n",
       "            color:  #f1f1f1;\n",
       "        }    #T_bd83f132_16a7_11ea_95e7_e0d55eb0dab9row16_col18 {\n",
       "            background-color:  #dbdcde;\n",
       "            color:  #000000;\n",
       "        }    #T_bd83f132_16a7_11ea_95e7_e0d55eb0dab9row16_col19 {\n",
       "            background-color:  #a2c1ff;\n",
       "            color:  #000000;\n",
       "        }    #T_bd83f132_16a7_11ea_95e7_e0d55eb0dab9row16_col20 {\n",
       "            background-color:  #f6bea4;\n",
       "            color:  #000000;\n",
       "        }    #T_bd83f132_16a7_11ea_95e7_e0d55eb0dab9row16_col21 {\n",
       "            background-color:  #3b4cc0;\n",
       "            color:  #f1f1f1;\n",
       "        }    #T_bd83f132_16a7_11ea_95e7_e0d55eb0dab9row16_col22 {\n",
       "            background-color:  #bfd3f6;\n",
       "            color:  #000000;\n",
       "        }    #T_bd83f132_16a7_11ea_95e7_e0d55eb0dab9row16_col23 {\n",
       "            background-color:  #e6d7cf;\n",
       "            color:  #000000;\n",
       "        }    #T_bd83f132_16a7_11ea_95e7_e0d55eb0dab9row17_col0 {\n",
       "            background-color:  #3b4cc0;\n",
       "            color:  #f1f1f1;\n",
       "        }    #T_bd83f132_16a7_11ea_95e7_e0d55eb0dab9row17_col1 {\n",
       "            background-color:  #b50927;\n",
       "            color:  #f1f1f1;\n",
       "        }    #T_bd83f132_16a7_11ea_95e7_e0d55eb0dab9row17_col2 {\n",
       "            background-color:  #5572df;\n",
       "            color:  #000000;\n",
       "        }    #T_bd83f132_16a7_11ea_95e7_e0d55eb0dab9row17_col3 {\n",
       "            background-color:  #4b64d5;\n",
       "            color:  #f1f1f1;\n",
       "        }    #T_bd83f132_16a7_11ea_95e7_e0d55eb0dab9row17_col4 {\n",
       "            background-color:  #445acc;\n",
       "            color:  #f1f1f1;\n",
       "        }    #T_bd83f132_16a7_11ea_95e7_e0d55eb0dab9row17_col5 {\n",
       "            background-color:  #3c4ec2;\n",
       "            color:  #f1f1f1;\n",
       "        }    #T_bd83f132_16a7_11ea_95e7_e0d55eb0dab9row17_col6 {\n",
       "            background-color:  #4055c8;\n",
       "            color:  #f1f1f1;\n",
       "        }    #T_bd83f132_16a7_11ea_95e7_e0d55eb0dab9row17_col7 {\n",
       "            background-color:  #445acc;\n",
       "            color:  #f1f1f1;\n",
       "        }    #T_bd83f132_16a7_11ea_95e7_e0d55eb0dab9row17_col8 {\n",
       "            background-color:  #3b4cc0;\n",
       "            color:  #f1f1f1;\n",
       "        }    #T_bd83f132_16a7_11ea_95e7_e0d55eb0dab9row17_col9 {\n",
       "            background-color:  #b40426;\n",
       "            color:  #f1f1f1;\n",
       "        }    #T_bd83f132_16a7_11ea_95e7_e0d55eb0dab9row17_col10 {\n",
       "            background-color:  #5572df;\n",
       "            color:  #000000;\n",
       "        }    #T_bd83f132_16a7_11ea_95e7_e0d55eb0dab9row17_col11 {\n",
       "            background-color:  #4b64d5;\n",
       "            color:  #f1f1f1;\n",
       "        }    #T_bd83f132_16a7_11ea_95e7_e0d55eb0dab9row17_col12 {\n",
       "            background-color:  #445acc;\n",
       "            color:  #f1f1f1;\n",
       "        }    #T_bd83f132_16a7_11ea_95e7_e0d55eb0dab9row17_col13 {\n",
       "            background-color:  #3c4ec2;\n",
       "            color:  #f1f1f1;\n",
       "        }    #T_bd83f132_16a7_11ea_95e7_e0d55eb0dab9row17_col14 {\n",
       "            background-color:  #4257c9;\n",
       "            color:  #f1f1f1;\n",
       "        }    #T_bd83f132_16a7_11ea_95e7_e0d55eb0dab9row17_col15 {\n",
       "            background-color:  #445acc;\n",
       "            color:  #f1f1f1;\n",
       "        }    #T_bd83f132_16a7_11ea_95e7_e0d55eb0dab9row17_col16 {\n",
       "            background-color:  #3b4cc0;\n",
       "            color:  #f1f1f1;\n",
       "        }    #T_bd83f132_16a7_11ea_95e7_e0d55eb0dab9row17_col17 {\n",
       "            background-color:  #b40426;\n",
       "            color:  #f1f1f1;\n",
       "        }    #T_bd83f132_16a7_11ea_95e7_e0d55eb0dab9row17_col18 {\n",
       "            background-color:  #5572df;\n",
       "            color:  #000000;\n",
       "        }    #T_bd83f132_16a7_11ea_95e7_e0d55eb0dab9row17_col19 {\n",
       "            background-color:  #4b64d5;\n",
       "            color:  #f1f1f1;\n",
       "        }    #T_bd83f132_16a7_11ea_95e7_e0d55eb0dab9row17_col20 {\n",
       "            background-color:  #445acc;\n",
       "            color:  #f1f1f1;\n",
       "        }    #T_bd83f132_16a7_11ea_95e7_e0d55eb0dab9row17_col21 {\n",
       "            background-color:  #3c4ec2;\n",
       "            color:  #f1f1f1;\n",
       "        }    #T_bd83f132_16a7_11ea_95e7_e0d55eb0dab9row17_col22 {\n",
       "            background-color:  #4257c9;\n",
       "            color:  #f1f1f1;\n",
       "        }    #T_bd83f132_16a7_11ea_95e7_e0d55eb0dab9row17_col23 {\n",
       "            background-color:  #445acc;\n",
       "            color:  #f1f1f1;\n",
       "        }    #T_bd83f132_16a7_11ea_95e7_e0d55eb0dab9row18_col0 {\n",
       "            background-color:  #e7d7ce;\n",
       "            color:  #000000;\n",
       "        }    #T_bd83f132_16a7_11ea_95e7_e0d55eb0dab9row18_col1 {\n",
       "            background-color:  #7ea1fa;\n",
       "            color:  #000000;\n",
       "        }    #T_bd83f132_16a7_11ea_95e7_e0d55eb0dab9row18_col2 {\n",
       "            background-color:  #b50927;\n",
       "            color:  #f1f1f1;\n",
       "        }    #T_bd83f132_16a7_11ea_95e7_e0d55eb0dab9row18_col3 {\n",
       "            background-color:  #ecd3c5;\n",
       "            color:  #000000;\n",
       "        }    #T_bd83f132_16a7_11ea_95e7_e0d55eb0dab9row18_col4 {\n",
       "            background-color:  #e9785d;\n",
       "            color:  #000000;\n",
       "        }    #T_bd83f132_16a7_11ea_95e7_e0d55eb0dab9row18_col5 {\n",
       "            background-color:  #3b4cc0;\n",
       "            color:  #f1f1f1;\n",
       "        }    #T_bd83f132_16a7_11ea_95e7_e0d55eb0dab9row18_col6 {\n",
       "            background-color:  #f5c4ac;\n",
       "            color:  #000000;\n",
       "        }    #T_bd83f132_16a7_11ea_95e7_e0d55eb0dab9row18_col7 {\n",
       "            background-color:  #d85646;\n",
       "            color:  #000000;\n",
       "        }    #T_bd83f132_16a7_11ea_95e7_e0d55eb0dab9row18_col8 {\n",
       "            background-color:  #e8d6cc;\n",
       "            color:  #000000;\n",
       "        }    #T_bd83f132_16a7_11ea_95e7_e0d55eb0dab9row18_col9 {\n",
       "            background-color:  #7da0f9;\n",
       "            color:  #000000;\n",
       "        }    #T_bd83f132_16a7_11ea_95e7_e0d55eb0dab9row18_col10 {\n",
       "            background-color:  #b40426;\n",
       "            color:  #f1f1f1;\n",
       "        }    #T_bd83f132_16a7_11ea_95e7_e0d55eb0dab9row18_col11 {\n",
       "            background-color:  #edd2c3;\n",
       "            color:  #000000;\n",
       "        }    #T_bd83f132_16a7_11ea_95e7_e0d55eb0dab9row18_col12 {\n",
       "            background-color:  #e9785d;\n",
       "            color:  #000000;\n",
       "        }    #T_bd83f132_16a7_11ea_95e7_e0d55eb0dab9row18_col13 {\n",
       "            background-color:  #3b4cc0;\n",
       "            color:  #f1f1f1;\n",
       "        }    #T_bd83f132_16a7_11ea_95e7_e0d55eb0dab9row18_col14 {\n",
       "            background-color:  #f5c4ac;\n",
       "            color:  #000000;\n",
       "        }    #T_bd83f132_16a7_11ea_95e7_e0d55eb0dab9row18_col15 {\n",
       "            background-color:  #d85646;\n",
       "            color:  #000000;\n",
       "        }    #T_bd83f132_16a7_11ea_95e7_e0d55eb0dab9row18_col16 {\n",
       "            background-color:  #e8d6cc;\n",
       "            color:  #000000;\n",
       "        }    #T_bd83f132_16a7_11ea_95e7_e0d55eb0dab9row18_col17 {\n",
       "            background-color:  #7da0f9;\n",
       "            color:  #000000;\n",
       "        }    #T_bd83f132_16a7_11ea_95e7_e0d55eb0dab9row18_col18 {\n",
       "            background-color:  #b40426;\n",
       "            color:  #f1f1f1;\n",
       "        }    #T_bd83f132_16a7_11ea_95e7_e0d55eb0dab9row18_col19 {\n",
       "            background-color:  #edd2c3;\n",
       "            color:  #000000;\n",
       "        }    #T_bd83f132_16a7_11ea_95e7_e0d55eb0dab9row18_col20 {\n",
       "            background-color:  #e9785d;\n",
       "            color:  #000000;\n",
       "        }    #T_bd83f132_16a7_11ea_95e7_e0d55eb0dab9row18_col21 {\n",
       "            background-color:  #3b4cc0;\n",
       "            color:  #f1f1f1;\n",
       "        }    #T_bd83f132_16a7_11ea_95e7_e0d55eb0dab9row18_col22 {\n",
       "            background-color:  #f5c4ac;\n",
       "            color:  #000000;\n",
       "        }    #T_bd83f132_16a7_11ea_95e7_e0d55eb0dab9row18_col23 {\n",
       "            background-color:  #d75445;\n",
       "            color:  #000000;\n",
       "        }    #T_bd83f132_16a7_11ea_95e7_e0d55eb0dab9row19_col0 {\n",
       "            background-color:  #89acfd;\n",
       "            color:  #000000;\n",
       "        }    #T_bd83f132_16a7_11ea_95e7_e0d55eb0dab9row19_col1 {\n",
       "            background-color:  #3b4cc0;\n",
       "            color:  #f1f1f1;\n",
       "        }    #T_bd83f132_16a7_11ea_95e7_e0d55eb0dab9row19_col2 {\n",
       "            background-color:  #d5dbe5;\n",
       "            color:  #000000;\n",
       "        }    #T_bd83f132_16a7_11ea_95e7_e0d55eb0dab9row19_col3 {\n",
       "            background-color:  #b50927;\n",
       "            color:  #f1f1f1;\n",
       "        }    #T_bd83f132_16a7_11ea_95e7_e0d55eb0dab9row19_col4 {\n",
       "            background-color:  #93b5fe;\n",
       "            color:  #000000;\n",
       "        }    #T_bd83f132_16a7_11ea_95e7_e0d55eb0dab9row19_col5 {\n",
       "            background-color:  #d9dce1;\n",
       "            color:  #000000;\n",
       "        }    #T_bd83f132_16a7_11ea_95e7_e0d55eb0dab9row19_col6 {\n",
       "            background-color:  #90b2fe;\n",
       "            color:  #000000;\n",
       "        }    #T_bd83f132_16a7_11ea_95e7_e0d55eb0dab9row19_col7 {\n",
       "            background-color:  #c0d4f5;\n",
       "            color:  #000000;\n",
       "        }    #T_bd83f132_16a7_11ea_95e7_e0d55eb0dab9row19_col8 {\n",
       "            background-color:  #89acfd;\n",
       "            color:  #000000;\n",
       "        }    #T_bd83f132_16a7_11ea_95e7_e0d55eb0dab9row19_col9 {\n",
       "            background-color:  #3b4cc0;\n",
       "            color:  #f1f1f1;\n",
       "        }    #T_bd83f132_16a7_11ea_95e7_e0d55eb0dab9row19_col10 {\n",
       "            background-color:  #d5dbe5;\n",
       "            color:  #000000;\n",
       "        }    #T_bd83f132_16a7_11ea_95e7_e0d55eb0dab9row19_col11 {\n",
       "            background-color:  #b40426;\n",
       "            color:  #f1f1f1;\n",
       "        }    #T_bd83f132_16a7_11ea_95e7_e0d55eb0dab9row19_col12 {\n",
       "            background-color:  #93b5fe;\n",
       "            color:  #000000;\n",
       "        }    #T_bd83f132_16a7_11ea_95e7_e0d55eb0dab9row19_col13 {\n",
       "            background-color:  #dadce0;\n",
       "            color:  #000000;\n",
       "        }    #T_bd83f132_16a7_11ea_95e7_e0d55eb0dab9row19_col14 {\n",
       "            background-color:  #90b2fe;\n",
       "            color:  #000000;\n",
       "        }    #T_bd83f132_16a7_11ea_95e7_e0d55eb0dab9row19_col15 {\n",
       "            background-color:  #c1d4f4;\n",
       "            color:  #000000;\n",
       "        }    #T_bd83f132_16a7_11ea_95e7_e0d55eb0dab9row19_col16 {\n",
       "            background-color:  #89acfd;\n",
       "            color:  #000000;\n",
       "        }    #T_bd83f132_16a7_11ea_95e7_e0d55eb0dab9row19_col17 {\n",
       "            background-color:  #3b4cc0;\n",
       "            color:  #f1f1f1;\n",
       "        }    #T_bd83f132_16a7_11ea_95e7_e0d55eb0dab9row19_col18 {\n",
       "            background-color:  #d6dce4;\n",
       "            color:  #000000;\n",
       "        }    #T_bd83f132_16a7_11ea_95e7_e0d55eb0dab9row19_col19 {\n",
       "            background-color:  #b40426;\n",
       "            color:  #f1f1f1;\n",
       "        }    #T_bd83f132_16a7_11ea_95e7_e0d55eb0dab9row19_col20 {\n",
       "            background-color:  #93b5fe;\n",
       "            color:  #000000;\n",
       "        }    #T_bd83f132_16a7_11ea_95e7_e0d55eb0dab9row19_col21 {\n",
       "            background-color:  #dadce0;\n",
       "            color:  #000000;\n",
       "        }    #T_bd83f132_16a7_11ea_95e7_e0d55eb0dab9row19_col22 {\n",
       "            background-color:  #92b4fe;\n",
       "            color:  #000000;\n",
       "        }    #T_bd83f132_16a7_11ea_95e7_e0d55eb0dab9row19_col23 {\n",
       "            background-color:  #c3d5f4;\n",
       "            color:  #000000;\n",
       "        }    #T_bd83f132_16a7_11ea_95e7_e0d55eb0dab9row20_col0 {\n",
       "            background-color:  #f7ac8e;\n",
       "            color:  #000000;\n",
       "        }    #T_bd83f132_16a7_11ea_95e7_e0d55eb0dab9row20_col1 {\n",
       "            background-color:  #80a3fa;\n",
       "            color:  #000000;\n",
       "        }    #T_bd83f132_16a7_11ea_95e7_e0d55eb0dab9row20_col2 {\n",
       "            background-color:  #e67259;\n",
       "            color:  #000000;\n",
       "        }    #T_bd83f132_16a7_11ea_95e7_e0d55eb0dab9row20_col3 {\n",
       "            background-color:  #ccd9ed;\n",
       "            color:  #000000;\n",
       "        }    #T_bd83f132_16a7_11ea_95e7_e0d55eb0dab9row20_col4 {\n",
       "            background-color:  #b40426;\n",
       "            color:  #f1f1f1;\n",
       "        }    #T_bd83f132_16a7_11ea_95e7_e0d55eb0dab9row20_col5 {\n",
       "            background-color:  #3b4cc0;\n",
       "            color:  #f1f1f1;\n",
       "        }    #T_bd83f132_16a7_11ea_95e7_e0d55eb0dab9row20_col6 {\n",
       "            background-color:  #f5c1a9;\n",
       "            color:  #000000;\n",
       "        }    #T_bd83f132_16a7_11ea_95e7_e0d55eb0dab9row20_col7 {\n",
       "            background-color:  #da5a49;\n",
       "            color:  #000000;\n",
       "        }    #T_bd83f132_16a7_11ea_95e7_e0d55eb0dab9row20_col8 {\n",
       "            background-color:  #f7ac8e;\n",
       "            color:  #000000;\n",
       "        }    #T_bd83f132_16a7_11ea_95e7_e0d55eb0dab9row20_col9 {\n",
       "            background-color:  #80a3fa;\n",
       "            color:  #000000;\n",
       "        }    #T_bd83f132_16a7_11ea_95e7_e0d55eb0dab9row20_col10 {\n",
       "            background-color:  #e67259;\n",
       "            color:  #000000;\n",
       "        }    #T_bd83f132_16a7_11ea_95e7_e0d55eb0dab9row20_col11 {\n",
       "            background-color:  #ccd9ed;\n",
       "            color:  #000000;\n",
       "        }    #T_bd83f132_16a7_11ea_95e7_e0d55eb0dab9row20_col12 {\n",
       "            background-color:  #b40426;\n",
       "            color:  #f1f1f1;\n",
       "        }    #T_bd83f132_16a7_11ea_95e7_e0d55eb0dab9row20_col13 {\n",
       "            background-color:  #3b4cc0;\n",
       "            color:  #f1f1f1;\n",
       "        }    #T_bd83f132_16a7_11ea_95e7_e0d55eb0dab9row20_col14 {\n",
       "            background-color:  #f5c1a9;\n",
       "            color:  #000000;\n",
       "        }    #T_bd83f132_16a7_11ea_95e7_e0d55eb0dab9row20_col15 {\n",
       "            background-color:  #da5a49;\n",
       "            color:  #000000;\n",
       "        }    #T_bd83f132_16a7_11ea_95e7_e0d55eb0dab9row20_col16 {\n",
       "            background-color:  #f7ac8e;\n",
       "            color:  #000000;\n",
       "        }    #T_bd83f132_16a7_11ea_95e7_e0d55eb0dab9row20_col17 {\n",
       "            background-color:  #80a3fa;\n",
       "            color:  #000000;\n",
       "        }    #T_bd83f132_16a7_11ea_95e7_e0d55eb0dab9row20_col18 {\n",
       "            background-color:  #e67259;\n",
       "            color:  #000000;\n",
       "        }    #T_bd83f132_16a7_11ea_95e7_e0d55eb0dab9row20_col19 {\n",
       "            background-color:  #ccd9ed;\n",
       "            color:  #000000;\n",
       "        }    #T_bd83f132_16a7_11ea_95e7_e0d55eb0dab9row20_col20 {\n",
       "            background-color:  #b40426;\n",
       "            color:  #f1f1f1;\n",
       "        }    #T_bd83f132_16a7_11ea_95e7_e0d55eb0dab9row20_col21 {\n",
       "            background-color:  #3b4cc0;\n",
       "            color:  #f1f1f1;\n",
       "        }    #T_bd83f132_16a7_11ea_95e7_e0d55eb0dab9row20_col22 {\n",
       "            background-color:  #f5c1a9;\n",
       "            color:  #000000;\n",
       "        }    #T_bd83f132_16a7_11ea_95e7_e0d55eb0dab9row20_col23 {\n",
       "            background-color:  #d95847;\n",
       "            color:  #000000;\n",
       "        }    #T_bd83f132_16a7_11ea_95e7_e0d55eb0dab9row21_col0 {\n",
       "            background-color:  #6b8df0;\n",
       "            color:  #000000;\n",
       "        }    #T_bd83f132_16a7_11ea_95e7_e0d55eb0dab9row21_col1 {\n",
       "            background-color:  #779af7;\n",
       "            color:  #000000;\n",
       "        }    #T_bd83f132_16a7_11ea_95e7_e0d55eb0dab9row21_col2 {\n",
       "            background-color:  #4e68d8;\n",
       "            color:  #000000;\n",
       "        }    #T_bd83f132_16a7_11ea_95e7_e0d55eb0dab9row21_col3 {\n",
       "            background-color:  #f2c9b4;\n",
       "            color:  #000000;\n",
       "        }    #T_bd83f132_16a7_11ea_95e7_e0d55eb0dab9row21_col4 {\n",
       "            background-color:  #3b4cc0;\n",
       "            color:  #f1f1f1;\n",
       "        }    #T_bd83f132_16a7_11ea_95e7_e0d55eb0dab9row21_col5 {\n",
       "            background-color:  #b40426;\n",
       "            color:  #f1f1f1;\n",
       "        }    #T_bd83f132_16a7_11ea_95e7_e0d55eb0dab9row21_col6 {\n",
       "            background-color:  #5977e3;\n",
       "            color:  #000000;\n",
       "        }    #T_bd83f132_16a7_11ea_95e7_e0d55eb0dab9row21_col7 {\n",
       "            background-color:  #5977e3;\n",
       "            color:  #000000;\n",
       "        }    #T_bd83f132_16a7_11ea_95e7_e0d55eb0dab9row21_col8 {\n",
       "            background-color:  #6c8ff1;\n",
       "            color:  #000000;\n",
       "        }    #T_bd83f132_16a7_11ea_95e7_e0d55eb0dab9row21_col9 {\n",
       "            background-color:  #779af7;\n",
       "            color:  #000000;\n",
       "        }    #T_bd83f132_16a7_11ea_95e7_e0d55eb0dab9row21_col10 {\n",
       "            background-color:  #4e68d8;\n",
       "            color:  #000000;\n",
       "        }    #T_bd83f132_16a7_11ea_95e7_e0d55eb0dab9row21_col11 {\n",
       "            background-color:  #f2c9b4;\n",
       "            color:  #000000;\n",
       "        }    #T_bd83f132_16a7_11ea_95e7_e0d55eb0dab9row21_col12 {\n",
       "            background-color:  #3b4cc0;\n",
       "            color:  #f1f1f1;\n",
       "        }    #T_bd83f132_16a7_11ea_95e7_e0d55eb0dab9row21_col13 {\n",
       "            background-color:  #b40426;\n",
       "            color:  #f1f1f1;\n",
       "        }    #T_bd83f132_16a7_11ea_95e7_e0d55eb0dab9row21_col14 {\n",
       "            background-color:  #5977e3;\n",
       "            color:  #000000;\n",
       "        }    #T_bd83f132_16a7_11ea_95e7_e0d55eb0dab9row21_col15 {\n",
       "            background-color:  #5a78e4;\n",
       "            color:  #000000;\n",
       "        }    #T_bd83f132_16a7_11ea_95e7_e0d55eb0dab9row21_col16 {\n",
       "            background-color:  #6c8ff1;\n",
       "            color:  #000000;\n",
       "        }    #T_bd83f132_16a7_11ea_95e7_e0d55eb0dab9row21_col17 {\n",
       "            background-color:  #779af7;\n",
       "            color:  #000000;\n",
       "        }    #T_bd83f132_16a7_11ea_95e7_e0d55eb0dab9row21_col18 {\n",
       "            background-color:  #4e68d8;\n",
       "            color:  #000000;\n",
       "        }    #T_bd83f132_16a7_11ea_95e7_e0d55eb0dab9row21_col19 {\n",
       "            background-color:  #f2c9b4;\n",
       "            color:  #000000;\n",
       "        }    #T_bd83f132_16a7_11ea_95e7_e0d55eb0dab9row21_col20 {\n",
       "            background-color:  #3b4cc0;\n",
       "            color:  #f1f1f1;\n",
       "        }    #T_bd83f132_16a7_11ea_95e7_e0d55eb0dab9row21_col21 {\n",
       "            background-color:  #b40426;\n",
       "            color:  #f1f1f1;\n",
       "        }    #T_bd83f132_16a7_11ea_95e7_e0d55eb0dab9row21_col22 {\n",
       "            background-color:  #5977e3;\n",
       "            color:  #000000;\n",
       "        }    #T_bd83f132_16a7_11ea_95e7_e0d55eb0dab9row21_col23 {\n",
       "            background-color:  #5a78e4;\n",
       "            color:  #000000;\n",
       "        }    #T_bd83f132_16a7_11ea_95e7_e0d55eb0dab9row22_col0 {\n",
       "            background-color:  #cbd8ee;\n",
       "            color:  #000000;\n",
       "        }    #T_bd83f132_16a7_11ea_95e7_e0d55eb0dab9row22_col1 {\n",
       "            background-color:  #5e7de7;\n",
       "            color:  #000000;\n",
       "        }    #T_bd83f132_16a7_11ea_95e7_e0d55eb0dab9row22_col2 {\n",
       "            background-color:  #f3c8b2;\n",
       "            color:  #000000;\n",
       "        }    #T_bd83f132_16a7_11ea_95e7_e0d55eb0dab9row22_col3 {\n",
       "            background-color:  #b6cefa;\n",
       "            color:  #000000;\n",
       "        }    #T_bd83f132_16a7_11ea_95e7_e0d55eb0dab9row22_col4 {\n",
       "            background-color:  #f1ccb8;\n",
       "            color:  #000000;\n",
       "        }    #T_bd83f132_16a7_11ea_95e7_e0d55eb0dab9row22_col5 {\n",
       "            background-color:  #3b4cc0;\n",
       "            color:  #f1f1f1;\n",
       "        }    #T_bd83f132_16a7_11ea_95e7_e0d55eb0dab9row22_col6 {\n",
       "            background-color:  #b70d28;\n",
       "            color:  #f1f1f1;\n",
       "        }    #T_bd83f132_16a7_11ea_95e7_e0d55eb0dab9row22_col7 {\n",
       "            background-color:  #f5c4ac;\n",
       "            color:  #000000;\n",
       "        }    #T_bd83f132_16a7_11ea_95e7_e0d55eb0dab9row22_col8 {\n",
       "            background-color:  #cbd8ee;\n",
       "            color:  #000000;\n",
       "        }    #T_bd83f132_16a7_11ea_95e7_e0d55eb0dab9row22_col9 {\n",
       "            background-color:  #5e7de7;\n",
       "            color:  #000000;\n",
       "        }    #T_bd83f132_16a7_11ea_95e7_e0d55eb0dab9row22_col10 {\n",
       "            background-color:  #f3c8b2;\n",
       "            color:  #000000;\n",
       "        }    #T_bd83f132_16a7_11ea_95e7_e0d55eb0dab9row22_col11 {\n",
       "            background-color:  #b6cefa;\n",
       "            color:  #000000;\n",
       "        }    #T_bd83f132_16a7_11ea_95e7_e0d55eb0dab9row22_col12 {\n",
       "            background-color:  #f1ccb8;\n",
       "            color:  #000000;\n",
       "        }    #T_bd83f132_16a7_11ea_95e7_e0d55eb0dab9row22_col13 {\n",
       "            background-color:  #3b4cc0;\n",
       "            color:  #f1f1f1;\n",
       "        }    #T_bd83f132_16a7_11ea_95e7_e0d55eb0dab9row22_col14 {\n",
       "            background-color:  #b50927;\n",
       "            color:  #f1f1f1;\n",
       "        }    #T_bd83f132_16a7_11ea_95e7_e0d55eb0dab9row22_col15 {\n",
       "            background-color:  #f5c4ac;\n",
       "            color:  #000000;\n",
       "        }    #T_bd83f132_16a7_11ea_95e7_e0d55eb0dab9row22_col16 {\n",
       "            background-color:  #cbd8ee;\n",
       "            color:  #000000;\n",
       "        }    #T_bd83f132_16a7_11ea_95e7_e0d55eb0dab9row22_col17 {\n",
       "            background-color:  #5f7fe8;\n",
       "            color:  #000000;\n",
       "        }    #T_bd83f132_16a7_11ea_95e7_e0d55eb0dab9row22_col18 {\n",
       "            background-color:  #f3c7b1;\n",
       "            color:  #000000;\n",
       "        }    #T_bd83f132_16a7_11ea_95e7_e0d55eb0dab9row22_col19 {\n",
       "            background-color:  #b7cff9;\n",
       "            color:  #000000;\n",
       "        }    #T_bd83f132_16a7_11ea_95e7_e0d55eb0dab9row22_col20 {\n",
       "            background-color:  #f1ccb8;\n",
       "            color:  #000000;\n",
       "        }    #T_bd83f132_16a7_11ea_95e7_e0d55eb0dab9row22_col21 {\n",
       "            background-color:  #3b4cc0;\n",
       "            color:  #f1f1f1;\n",
       "        }    #T_bd83f132_16a7_11ea_95e7_e0d55eb0dab9row22_col22 {\n",
       "            background-color:  #b40426;\n",
       "            color:  #f1f1f1;\n",
       "        }    #T_bd83f132_16a7_11ea_95e7_e0d55eb0dab9row22_col23 {\n",
       "            background-color:  #f5c4ac;\n",
       "            color:  #000000;\n",
       "        }    #T_bd83f132_16a7_11ea_95e7_e0d55eb0dab9row23_col0 {\n",
       "            background-color:  #ebd3c6;\n",
       "            color:  #000000;\n",
       "        }    #T_bd83f132_16a7_11ea_95e7_e0d55eb0dab9row23_col1 {\n",
       "            background-color:  #5f7fe8;\n",
       "            color:  #000000;\n",
       "        }    #T_bd83f132_16a7_11ea_95e7_e0d55eb0dab9row23_col2 {\n",
       "            background-color:  #d95847;\n",
       "            color:  #000000;\n",
       "        }    #T_bd83f132_16a7_11ea_95e7_e0d55eb0dab9row23_col3 {\n",
       "            background-color:  #dadce0;\n",
       "            color:  #000000;\n",
       "        }    #T_bd83f132_16a7_11ea_95e7_e0d55eb0dab9row23_col4 {\n",
       "            background-color:  #df634e;\n",
       "            color:  #000000;\n",
       "        }    #T_bd83f132_16a7_11ea_95e7_e0d55eb0dab9row23_col5 {\n",
       "            background-color:  #3b4cc0;\n",
       "            color:  #f1f1f1;\n",
       "        }    #T_bd83f132_16a7_11ea_95e7_e0d55eb0dab9row23_col6 {\n",
       "            background-color:  #f4c5ad;\n",
       "            color:  #000000;\n",
       "        }    #T_bd83f132_16a7_11ea_95e7_e0d55eb0dab9row23_col7 {\n",
       "            background-color:  #b50927;\n",
       "            color:  #f1f1f1;\n",
       "        }    #T_bd83f132_16a7_11ea_95e7_e0d55eb0dab9row23_col8 {\n",
       "            background-color:  #ecd3c5;\n",
       "            color:  #000000;\n",
       "        }    #T_bd83f132_16a7_11ea_95e7_e0d55eb0dab9row23_col9 {\n",
       "            background-color:  #5f7fe8;\n",
       "            color:  #000000;\n",
       "        }    #T_bd83f132_16a7_11ea_95e7_e0d55eb0dab9row23_col10 {\n",
       "            background-color:  #d95847;\n",
       "            color:  #000000;\n",
       "        }    #T_bd83f132_16a7_11ea_95e7_e0d55eb0dab9row23_col11 {\n",
       "            background-color:  #dadce0;\n",
       "            color:  #000000;\n",
       "        }    #T_bd83f132_16a7_11ea_95e7_e0d55eb0dab9row23_col12 {\n",
       "            background-color:  #de614d;\n",
       "            color:  #000000;\n",
       "        }    #T_bd83f132_16a7_11ea_95e7_e0d55eb0dab9row23_col13 {\n",
       "            background-color:  #3b4cc0;\n",
       "            color:  #f1f1f1;\n",
       "        }    #T_bd83f132_16a7_11ea_95e7_e0d55eb0dab9row23_col14 {\n",
       "            background-color:  #f4c5ad;\n",
       "            color:  #000000;\n",
       "        }    #T_bd83f132_16a7_11ea_95e7_e0d55eb0dab9row23_col15 {\n",
       "            background-color:  #b40426;\n",
       "            color:  #f1f1f1;\n",
       "        }    #T_bd83f132_16a7_11ea_95e7_e0d55eb0dab9row23_col16 {\n",
       "            background-color:  #ecd3c5;\n",
       "            color:  #000000;\n",
       "        }    #T_bd83f132_16a7_11ea_95e7_e0d55eb0dab9row23_col17 {\n",
       "            background-color:  #5f7fe8;\n",
       "            color:  #000000;\n",
       "        }    #T_bd83f132_16a7_11ea_95e7_e0d55eb0dab9row23_col18 {\n",
       "            background-color:  #d85646;\n",
       "            color:  #000000;\n",
       "        }    #T_bd83f132_16a7_11ea_95e7_e0d55eb0dab9row23_col19 {\n",
       "            background-color:  #dbdcde;\n",
       "            color:  #000000;\n",
       "        }    #T_bd83f132_16a7_11ea_95e7_e0d55eb0dab9row23_col20 {\n",
       "            background-color:  #de614d;\n",
       "            color:  #000000;\n",
       "        }    #T_bd83f132_16a7_11ea_95e7_e0d55eb0dab9row23_col21 {\n",
       "            background-color:  #3b4cc0;\n",
       "            color:  #f1f1f1;\n",
       "        }    #T_bd83f132_16a7_11ea_95e7_e0d55eb0dab9row23_col22 {\n",
       "            background-color:  #f5c4ac;\n",
       "            color:  #000000;\n",
       "        }    #T_bd83f132_16a7_11ea_95e7_e0d55eb0dab9row23_col23 {\n",
       "            background-color:  #b40426;\n",
       "            color:  #f1f1f1;\n",
       "        }</style><table id=\"T_bd83f132_16a7_11ea_95e7_e0d55eb0dab9\" ><thead>    <tr>        <th class=\"blank level0\" ></th>        <th class=\"col_heading level0 col0\" >0</th>        <th class=\"col_heading level0 col1\" >1</th>        <th class=\"col_heading level0 col2\" >2</th>        <th class=\"col_heading level0 col3\" >3</th>        <th class=\"col_heading level0 col4\" >4</th>        <th class=\"col_heading level0 col5\" >5</th>        <th class=\"col_heading level0 col6\" >6</th>        <th class=\"col_heading level0 col7\" >7</th>        <th class=\"col_heading level0 col8\" >8</th>        <th class=\"col_heading level0 col9\" >9</th>        <th class=\"col_heading level0 col10\" >10</th>        <th class=\"col_heading level0 col11\" >11</th>        <th class=\"col_heading level0 col12\" >12</th>        <th class=\"col_heading level0 col13\" >13</th>        <th class=\"col_heading level0 col14\" >14</th>        <th class=\"col_heading level0 col15\" >15</th>        <th class=\"col_heading level0 col16\" >16</th>        <th class=\"col_heading level0 col17\" >17</th>        <th class=\"col_heading level0 col18\" >18</th>        <th class=\"col_heading level0 col19\" >19</th>        <th class=\"col_heading level0 col20\" >20</th>        <th class=\"col_heading level0 col21\" >21</th>        <th class=\"col_heading level0 col22\" >22</th>        <th class=\"col_heading level0 col23\" >23</th>    </tr></thead><tbody>\n",
       "                <tr>\n",
       "                        <th id=\"T_bd83f132_16a7_11ea_95e7_e0d55eb0dab9level0_row0\" class=\"row_heading level0 row0\" >0</th>\n",
       "                        <td id=\"T_bd83f132_16a7_11ea_95e7_e0d55eb0dab9row0_col0\" class=\"data row0 col0\" >1.0</td>\n",
       "                        <td id=\"T_bd83f132_16a7_11ea_95e7_e0d55eb0dab9row0_col1\" class=\"data row0 col1\" >-0.012</td>\n",
       "                        <td id=\"T_bd83f132_16a7_11ea_95e7_e0d55eb0dab9row0_col2\" class=\"data row0 col2\" >0.47</td>\n",
       "                        <td id=\"T_bd83f132_16a7_11ea_95e7_e0d55eb0dab9row0_col3\" class=\"data row0 col3\" >0.28</td>\n",
       "                        <td id=\"T_bd83f132_16a7_11ea_95e7_e0d55eb0dab9row0_col4\" class=\"data row0 col4\" >0.63</td>\n",
       "                        <td id=\"T_bd83f132_16a7_11ea_95e7_e0d55eb0dab9row0_col5\" class=\"data row0 col5\" >-0.049</td>\n",
       "                        <td id=\"T_bd83f132_16a7_11ea_95e7_e0d55eb0dab9row0_col6\" class=\"data row0 col6\" >0.37</td>\n",
       "                        <td id=\"T_bd83f132_16a7_11ea_95e7_e0d55eb0dab9row0_col7\" class=\"data row0 col7\" >0.52</td>\n",
       "                        <td id=\"T_bd83f132_16a7_11ea_95e7_e0d55eb0dab9row0_col8\" class=\"data row0 col8\" >1.0</td>\n",
       "                        <td id=\"T_bd83f132_16a7_11ea_95e7_e0d55eb0dab9row0_col9\" class=\"data row0 col9\" >-0.012</td>\n",
       "                        <td id=\"T_bd83f132_16a7_11ea_95e7_e0d55eb0dab9row0_col10\" class=\"data row0 col10\" >0.47</td>\n",
       "                        <td id=\"T_bd83f132_16a7_11ea_95e7_e0d55eb0dab9row0_col11\" class=\"data row0 col11\" >0.28</td>\n",
       "                        <td id=\"T_bd83f132_16a7_11ea_95e7_e0d55eb0dab9row0_col12\" class=\"data row0 col12\" >0.63</td>\n",
       "                        <td id=\"T_bd83f132_16a7_11ea_95e7_e0d55eb0dab9row0_col13\" class=\"data row0 col13\" >-0.048</td>\n",
       "                        <td id=\"T_bd83f132_16a7_11ea_95e7_e0d55eb0dab9row0_col14\" class=\"data row0 col14\" >0.37</td>\n",
       "                        <td id=\"T_bd83f132_16a7_11ea_95e7_e0d55eb0dab9row0_col15\" class=\"data row0 col15\" >0.51</td>\n",
       "                        <td id=\"T_bd83f132_16a7_11ea_95e7_e0d55eb0dab9row0_col16\" class=\"data row0 col16\" >0.99</td>\n",
       "                        <td id=\"T_bd83f132_16a7_11ea_95e7_e0d55eb0dab9row0_col17\" class=\"data row0 col17\" >-0.011</td>\n",
       "                        <td id=\"T_bd83f132_16a7_11ea_95e7_e0d55eb0dab9row0_col18\" class=\"data row0 col18\" >0.47</td>\n",
       "                        <td id=\"T_bd83f132_16a7_11ea_95e7_e0d55eb0dab9row0_col19\" class=\"data row0 col19\" >0.28</td>\n",
       "                        <td id=\"T_bd83f132_16a7_11ea_95e7_e0d55eb0dab9row0_col20\" class=\"data row0 col20\" >0.63</td>\n",
       "                        <td id=\"T_bd83f132_16a7_11ea_95e7_e0d55eb0dab9row0_col21\" class=\"data row0 col21\" >-0.046</td>\n",
       "                        <td id=\"T_bd83f132_16a7_11ea_95e7_e0d55eb0dab9row0_col22\" class=\"data row0 col22\" >0.37</td>\n",
       "                        <td id=\"T_bd83f132_16a7_11ea_95e7_e0d55eb0dab9row0_col23\" class=\"data row0 col23\" >0.51</td>\n",
       "            </tr>\n",
       "            <tr>\n",
       "                        <th id=\"T_bd83f132_16a7_11ea_95e7_e0d55eb0dab9level0_row1\" class=\"row_heading level0 row1\" >1</th>\n",
       "                        <td id=\"T_bd83f132_16a7_11ea_95e7_e0d55eb0dab9row1_col0\" class=\"data row1 col0\" >-0.012</td>\n",
       "                        <td id=\"T_bd83f132_16a7_11ea_95e7_e0d55eb0dab9row1_col1\" class=\"data row1 col1\" >1.0</td>\n",
       "                        <td id=\"T_bd83f132_16a7_11ea_95e7_e0d55eb0dab9row1_col2\" class=\"data row1 col2\" >0.08</td>\n",
       "                        <td id=\"T_bd83f132_16a7_11ea_95e7_e0d55eb0dab9row1_col3\" class=\"data row1 col3\" >0.047</td>\n",
       "                        <td id=\"T_bd83f132_16a7_11ea_95e7_e0d55eb0dab9row1_col4\" class=\"data row1 col4\" >0.021</td>\n",
       "                        <td id=\"T_bd83f132_16a7_11ea_95e7_e0d55eb0dab9row1_col5\" class=\"data row1 col5\" >-0.0051</td>\n",
       "                        <td id=\"T_bd83f132_16a7_11ea_95e7_e0d55eb0dab9row1_col6\" class=\"data row1 col6\" >0.012</td>\n",
       "                        <td id=\"T_bd83f132_16a7_11ea_95e7_e0d55eb0dab9row1_col7\" class=\"data row1 col7\" >0.021</td>\n",
       "                        <td id=\"T_bd83f132_16a7_11ea_95e7_e0d55eb0dab9row1_col8\" class=\"data row1 col8\" >-0.012</td>\n",
       "                        <td id=\"T_bd83f132_16a7_11ea_95e7_e0d55eb0dab9row1_col9\" class=\"data row1 col9\" >1.0</td>\n",
       "                        <td id=\"T_bd83f132_16a7_11ea_95e7_e0d55eb0dab9row1_col10\" class=\"data row1 col10\" >0.08</td>\n",
       "                        <td id=\"T_bd83f132_16a7_11ea_95e7_e0d55eb0dab9row1_col11\" class=\"data row1 col11\" >0.048</td>\n",
       "                        <td id=\"T_bd83f132_16a7_11ea_95e7_e0d55eb0dab9row1_col12\" class=\"data row1 col12\" >0.021</td>\n",
       "                        <td id=\"T_bd83f132_16a7_11ea_95e7_e0d55eb0dab9row1_col13\" class=\"data row1 col13\" >-0.0047</td>\n",
       "                        <td id=\"T_bd83f132_16a7_11ea_95e7_e0d55eb0dab9row1_col14\" class=\"data row1 col14\" >0.013</td>\n",
       "                        <td id=\"T_bd83f132_16a7_11ea_95e7_e0d55eb0dab9row1_col15\" class=\"data row1 col15\" >0.021</td>\n",
       "                        <td id=\"T_bd83f132_16a7_11ea_95e7_e0d55eb0dab9row1_col16\" class=\"data row1 col16\" >-0.012</td>\n",
       "                        <td id=\"T_bd83f132_16a7_11ea_95e7_e0d55eb0dab9row1_col17\" class=\"data row1 col17\" >0.99</td>\n",
       "                        <td id=\"T_bd83f132_16a7_11ea_95e7_e0d55eb0dab9row1_col18\" class=\"data row1 col18\" >0.08</td>\n",
       "                        <td id=\"T_bd83f132_16a7_11ea_95e7_e0d55eb0dab9row1_col19\" class=\"data row1 col19\" >0.048</td>\n",
       "                        <td id=\"T_bd83f132_16a7_11ea_95e7_e0d55eb0dab9row1_col20\" class=\"data row1 col20\" >0.021</td>\n",
       "                        <td id=\"T_bd83f132_16a7_11ea_95e7_e0d55eb0dab9row1_col21\" class=\"data row1 col21\" >-0.0042</td>\n",
       "                        <td id=\"T_bd83f132_16a7_11ea_95e7_e0d55eb0dab9row1_col22\" class=\"data row1 col22\" >0.013</td>\n",
       "                        <td id=\"T_bd83f132_16a7_11ea_95e7_e0d55eb0dab9row1_col23\" class=\"data row1 col23\" >0.021</td>\n",
       "            </tr>\n",
       "            <tr>\n",
       "                        <th id=\"T_bd83f132_16a7_11ea_95e7_e0d55eb0dab9level0_row2\" class=\"row_heading level0 row2\" >2</th>\n",
       "                        <td id=\"T_bd83f132_16a7_11ea_95e7_e0d55eb0dab9row2_col0\" class=\"data row2 col0\" >0.47</td>\n",
       "                        <td id=\"T_bd83f132_16a7_11ea_95e7_e0d55eb0dab9row2_col1\" class=\"data row2 col1\" >0.08</td>\n",
       "                        <td id=\"T_bd83f132_16a7_11ea_95e7_e0d55eb0dab9row2_col2\" class=\"data row2 col2\" >1.0</td>\n",
       "                        <td id=\"T_bd83f132_16a7_11ea_95e7_e0d55eb0dab9row2_col3\" class=\"data row2 col3\" >0.5</td>\n",
       "                        <td id=\"T_bd83f132_16a7_11ea_95e7_e0d55eb0dab9row2_col4\" class=\"data row2 col4\" >0.8</td>\n",
       "                        <td id=\"T_bd83f132_16a7_11ea_95e7_e0d55eb0dab9row2_col5\" class=\"data row2 col5\" >-0.16</td>\n",
       "                        <td id=\"T_bd83f132_16a7_11ea_95e7_e0d55eb0dab9row2_col6\" class=\"data row2 col6\" >0.57</td>\n",
       "                        <td id=\"T_bd83f132_16a7_11ea_95e7_e0d55eb0dab9row2_col7\" class=\"data row2 col7\" >0.88</td>\n",
       "                        <td id=\"T_bd83f132_16a7_11ea_95e7_e0d55eb0dab9row2_col8\" class=\"data row2 col8\" >0.47</td>\n",
       "                        <td id=\"T_bd83f132_16a7_11ea_95e7_e0d55eb0dab9row2_col9\" class=\"data row2 col9\" >0.08</td>\n",
       "                        <td id=\"T_bd83f132_16a7_11ea_95e7_e0d55eb0dab9row2_col10\" class=\"data row2 col10\" >1.0</td>\n",
       "                        <td id=\"T_bd83f132_16a7_11ea_95e7_e0d55eb0dab9row2_col11\" class=\"data row2 col11\" >0.5</td>\n",
       "                        <td id=\"T_bd83f132_16a7_11ea_95e7_e0d55eb0dab9row2_col12\" class=\"data row2 col12\" >0.8</td>\n",
       "                        <td id=\"T_bd83f132_16a7_11ea_95e7_e0d55eb0dab9row2_col13\" class=\"data row2 col13\" >-0.16</td>\n",
       "                        <td id=\"T_bd83f132_16a7_11ea_95e7_e0d55eb0dab9row2_col14\" class=\"data row2 col14\" >0.57</td>\n",
       "                        <td id=\"T_bd83f132_16a7_11ea_95e7_e0d55eb0dab9row2_col15\" class=\"data row2 col15\" >0.88</td>\n",
       "                        <td id=\"T_bd83f132_16a7_11ea_95e7_e0d55eb0dab9row2_col16\" class=\"data row2 col16\" >0.47</td>\n",
       "                        <td id=\"T_bd83f132_16a7_11ea_95e7_e0d55eb0dab9row2_col17\" class=\"data row2 col17\" >0.079</td>\n",
       "                        <td id=\"T_bd83f132_16a7_11ea_95e7_e0d55eb0dab9row2_col18\" class=\"data row2 col18\" >0.99</td>\n",
       "                        <td id=\"T_bd83f132_16a7_11ea_95e7_e0d55eb0dab9row2_col19\" class=\"data row2 col19\" >0.49</td>\n",
       "                        <td id=\"T_bd83f132_16a7_11ea_95e7_e0d55eb0dab9row2_col20\" class=\"data row2 col20\" >0.8</td>\n",
       "                        <td id=\"T_bd83f132_16a7_11ea_95e7_e0d55eb0dab9row2_col21\" class=\"data row2 col21\" >-0.16</td>\n",
       "                        <td id=\"T_bd83f132_16a7_11ea_95e7_e0d55eb0dab9row2_col22\" class=\"data row2 col22\" >0.57</td>\n",
       "                        <td id=\"T_bd83f132_16a7_11ea_95e7_e0d55eb0dab9row2_col23\" class=\"data row2 col23\" >0.87</td>\n",
       "            </tr>\n",
       "            <tr>\n",
       "                        <th id=\"T_bd83f132_16a7_11ea_95e7_e0d55eb0dab9level0_row3\" class=\"row_heading level0 row3\" >3</th>\n",
       "                        <td id=\"T_bd83f132_16a7_11ea_95e7_e0d55eb0dab9row3_col0\" class=\"data row3 col0\" >0.28</td>\n",
       "                        <td id=\"T_bd83f132_16a7_11ea_95e7_e0d55eb0dab9row3_col1\" class=\"data row3 col1\" >0.047</td>\n",
       "                        <td id=\"T_bd83f132_16a7_11ea_95e7_e0d55eb0dab9row3_col2\" class=\"data row3 col2\" >0.5</td>\n",
       "                        <td id=\"T_bd83f132_16a7_11ea_95e7_e0d55eb0dab9row3_col3\" class=\"data row3 col3\" >1.0</td>\n",
       "                        <td id=\"T_bd83f132_16a7_11ea_95e7_e0d55eb0dab9row3_col4\" class=\"data row3 col4\" >0.3</td>\n",
       "                        <td id=\"T_bd83f132_16a7_11ea_95e7_e0d55eb0dab9row3_col5\" class=\"data row3 col5\" >0.51</td>\n",
       "                        <td id=\"T_bd83f132_16a7_11ea_95e7_e0d55eb0dab9row3_col6\" class=\"data row3 col6\" >0.3</td>\n",
       "                        <td id=\"T_bd83f132_16a7_11ea_95e7_e0d55eb0dab9row3_col7\" class=\"data row3 col7\" >0.43</td>\n",
       "                        <td id=\"T_bd83f132_16a7_11ea_95e7_e0d55eb0dab9row3_col8\" class=\"data row3 col8\" >0.28</td>\n",
       "                        <td id=\"T_bd83f132_16a7_11ea_95e7_e0d55eb0dab9row3_col9\" class=\"data row3 col9\" >0.047</td>\n",
       "                        <td id=\"T_bd83f132_16a7_11ea_95e7_e0d55eb0dab9row3_col10\" class=\"data row3 col10\" >0.5</td>\n",
       "                        <td id=\"T_bd83f132_16a7_11ea_95e7_e0d55eb0dab9row3_col11\" class=\"data row3 col11\" >1.0</td>\n",
       "                        <td id=\"T_bd83f132_16a7_11ea_95e7_e0d55eb0dab9row3_col12\" class=\"data row3 col12\" >0.3</td>\n",
       "                        <td id=\"T_bd83f132_16a7_11ea_95e7_e0d55eb0dab9row3_col13\" class=\"data row3 col13\" >0.51</td>\n",
       "                        <td id=\"T_bd83f132_16a7_11ea_95e7_e0d55eb0dab9row3_col14\" class=\"data row3 col14\" >0.3</td>\n",
       "                        <td id=\"T_bd83f132_16a7_11ea_95e7_e0d55eb0dab9row3_col15\" class=\"data row3 col15\" >0.43</td>\n",
       "                        <td id=\"T_bd83f132_16a7_11ea_95e7_e0d55eb0dab9row3_col16\" class=\"data row3 col16\" >0.28</td>\n",
       "                        <td id=\"T_bd83f132_16a7_11ea_95e7_e0d55eb0dab9row3_col17\" class=\"data row3 col17\" >0.047</td>\n",
       "                        <td id=\"T_bd83f132_16a7_11ea_95e7_e0d55eb0dab9row3_col18\" class=\"data row3 col18\" >0.5</td>\n",
       "                        <td id=\"T_bd83f132_16a7_11ea_95e7_e0d55eb0dab9row3_col19\" class=\"data row3 col19\" >0.99</td>\n",
       "                        <td id=\"T_bd83f132_16a7_11ea_95e7_e0d55eb0dab9row3_col20\" class=\"data row3 col20\" >0.3</td>\n",
       "                        <td id=\"T_bd83f132_16a7_11ea_95e7_e0d55eb0dab9row3_col21\" class=\"data row3 col21\" >0.51</td>\n",
       "                        <td id=\"T_bd83f132_16a7_11ea_95e7_e0d55eb0dab9row3_col22\" class=\"data row3 col22\" >0.29</td>\n",
       "                        <td id=\"T_bd83f132_16a7_11ea_95e7_e0d55eb0dab9row3_col23\" class=\"data row3 col23\" >0.43</td>\n",
       "            </tr>\n",
       "            <tr>\n",
       "                        <th id=\"T_bd83f132_16a7_11ea_95e7_e0d55eb0dab9level0_row4\" class=\"row_heading level0 row4\" >4</th>\n",
       "                        <td id=\"T_bd83f132_16a7_11ea_95e7_e0d55eb0dab9row4_col0\" class=\"data row4 col0\" >0.63</td>\n",
       "                        <td id=\"T_bd83f132_16a7_11ea_95e7_e0d55eb0dab9row4_col1\" class=\"data row4 col1\" >0.021</td>\n",
       "                        <td id=\"T_bd83f132_16a7_11ea_95e7_e0d55eb0dab9row4_col2\" class=\"data row4 col2\" >0.8</td>\n",
       "                        <td id=\"T_bd83f132_16a7_11ea_95e7_e0d55eb0dab9row4_col3\" class=\"data row4 col3\" >0.3</td>\n",
       "                        <td id=\"T_bd83f132_16a7_11ea_95e7_e0d55eb0dab9row4_col4\" class=\"data row4 col4\" >1.0</td>\n",
       "                        <td id=\"T_bd83f132_16a7_11ea_95e7_e0d55eb0dab9row4_col5\" class=\"data row4 col5\" >-0.24</td>\n",
       "                        <td id=\"T_bd83f132_16a7_11ea_95e7_e0d55eb0dab9row4_col6\" class=\"data row4 col6\" >0.55</td>\n",
       "                        <td id=\"T_bd83f132_16a7_11ea_95e7_e0d55eb0dab9row4_col7\" class=\"data row4 col7\" >0.86</td>\n",
       "                        <td id=\"T_bd83f132_16a7_11ea_95e7_e0d55eb0dab9row4_col8\" class=\"data row4 col8\" >0.63</td>\n",
       "                        <td id=\"T_bd83f132_16a7_11ea_95e7_e0d55eb0dab9row4_col9\" class=\"data row4 col9\" >0.021</td>\n",
       "                        <td id=\"T_bd83f132_16a7_11ea_95e7_e0d55eb0dab9row4_col10\" class=\"data row4 col10\" >0.8</td>\n",
       "                        <td id=\"T_bd83f132_16a7_11ea_95e7_e0d55eb0dab9row4_col11\" class=\"data row4 col11\" >0.3</td>\n",
       "                        <td id=\"T_bd83f132_16a7_11ea_95e7_e0d55eb0dab9row4_col12\" class=\"data row4 col12\" >1.0</td>\n",
       "                        <td id=\"T_bd83f132_16a7_11ea_95e7_e0d55eb0dab9row4_col13\" class=\"data row4 col13\" >-0.24</td>\n",
       "                        <td id=\"T_bd83f132_16a7_11ea_95e7_e0d55eb0dab9row4_col14\" class=\"data row4 col14\" >0.55</td>\n",
       "                        <td id=\"T_bd83f132_16a7_11ea_95e7_e0d55eb0dab9row4_col15\" class=\"data row4 col15\" >0.86</td>\n",
       "                        <td id=\"T_bd83f132_16a7_11ea_95e7_e0d55eb0dab9row4_col16\" class=\"data row4 col16\" >0.63</td>\n",
       "                        <td id=\"T_bd83f132_16a7_11ea_95e7_e0d55eb0dab9row4_col17\" class=\"data row4 col17\" >0.021</td>\n",
       "                        <td id=\"T_bd83f132_16a7_11ea_95e7_e0d55eb0dab9row4_col18\" class=\"data row4 col18\" >0.8</td>\n",
       "                        <td id=\"T_bd83f132_16a7_11ea_95e7_e0d55eb0dab9row4_col19\" class=\"data row4 col19\" >0.3</td>\n",
       "                        <td id=\"T_bd83f132_16a7_11ea_95e7_e0d55eb0dab9row4_col20\" class=\"data row4 col20\" >1.0</td>\n",
       "                        <td id=\"T_bd83f132_16a7_11ea_95e7_e0d55eb0dab9row4_col21\" class=\"data row4 col21\" >-0.24</td>\n",
       "                        <td id=\"T_bd83f132_16a7_11ea_95e7_e0d55eb0dab9row4_col22\" class=\"data row4 col22\" >0.55</td>\n",
       "                        <td id=\"T_bd83f132_16a7_11ea_95e7_e0d55eb0dab9row4_col23\" class=\"data row4 col23\" >0.86</td>\n",
       "            </tr>\n",
       "            <tr>\n",
       "                        <th id=\"T_bd83f132_16a7_11ea_95e7_e0d55eb0dab9level0_row5\" class=\"row_heading level0 row5\" >5</th>\n",
       "                        <td id=\"T_bd83f132_16a7_11ea_95e7_e0d55eb0dab9row5_col0\" class=\"data row5 col0\" >-0.049</td>\n",
       "                        <td id=\"T_bd83f132_16a7_11ea_95e7_e0d55eb0dab9row5_col1\" class=\"data row5 col1\" >-0.0051</td>\n",
       "                        <td id=\"T_bd83f132_16a7_11ea_95e7_e0d55eb0dab9row5_col2\" class=\"data row5 col2\" >-0.16</td>\n",
       "                        <td id=\"T_bd83f132_16a7_11ea_95e7_e0d55eb0dab9row5_col3\" class=\"data row5 col3\" >0.51</td>\n",
       "                        <td id=\"T_bd83f132_16a7_11ea_95e7_e0d55eb0dab9row5_col4\" class=\"data row5 col4\" >-0.24</td>\n",
       "                        <td id=\"T_bd83f132_16a7_11ea_95e7_e0d55eb0dab9row5_col5\" class=\"data row5 col5\" >1.0</td>\n",
       "                        <td id=\"T_bd83f132_16a7_11ea_95e7_e0d55eb0dab9row5_col6\" class=\"data row5 col6\" >-0.12</td>\n",
       "                        <td id=\"T_bd83f132_16a7_11ea_95e7_e0d55eb0dab9row5_col7\" class=\"data row5 col7\" >-0.12</td>\n",
       "                        <td id=\"T_bd83f132_16a7_11ea_95e7_e0d55eb0dab9row5_col8\" class=\"data row5 col8\" >-0.048</td>\n",
       "                        <td id=\"T_bd83f132_16a7_11ea_95e7_e0d55eb0dab9row5_col9\" class=\"data row5 col9\" >-0.0053</td>\n",
       "                        <td id=\"T_bd83f132_16a7_11ea_95e7_e0d55eb0dab9row5_col10\" class=\"data row5 col10\" >-0.16</td>\n",
       "                        <td id=\"T_bd83f132_16a7_11ea_95e7_e0d55eb0dab9row5_col11\" class=\"data row5 col11\" >0.51</td>\n",
       "                        <td id=\"T_bd83f132_16a7_11ea_95e7_e0d55eb0dab9row5_col12\" class=\"data row5 col12\" >-0.24</td>\n",
       "                        <td id=\"T_bd83f132_16a7_11ea_95e7_e0d55eb0dab9row5_col13\" class=\"data row5 col13\" >1.0</td>\n",
       "                        <td id=\"T_bd83f132_16a7_11ea_95e7_e0d55eb0dab9row5_col14\" class=\"data row5 col14\" >-0.12</td>\n",
       "                        <td id=\"T_bd83f132_16a7_11ea_95e7_e0d55eb0dab9row5_col15\" class=\"data row5 col15\" >-0.11</td>\n",
       "                        <td id=\"T_bd83f132_16a7_11ea_95e7_e0d55eb0dab9row5_col16\" class=\"data row5 col16\" >-0.047</td>\n",
       "                        <td id=\"T_bd83f132_16a7_11ea_95e7_e0d55eb0dab9row5_col17\" class=\"data row5 col17\" >-0.0053</td>\n",
       "                        <td id=\"T_bd83f132_16a7_11ea_95e7_e0d55eb0dab9row5_col18\" class=\"data row5 col18\" >-0.16</td>\n",
       "                        <td id=\"T_bd83f132_16a7_11ea_95e7_e0d55eb0dab9row5_col19\" class=\"data row5 col19\" >0.51</td>\n",
       "                        <td id=\"T_bd83f132_16a7_11ea_95e7_e0d55eb0dab9row5_col20\" class=\"data row5 col20\" >-0.24</td>\n",
       "                        <td id=\"T_bd83f132_16a7_11ea_95e7_e0d55eb0dab9row5_col21\" class=\"data row5 col21\" >1.0</td>\n",
       "                        <td id=\"T_bd83f132_16a7_11ea_95e7_e0d55eb0dab9row5_col22\" class=\"data row5 col22\" >-0.12</td>\n",
       "                        <td id=\"T_bd83f132_16a7_11ea_95e7_e0d55eb0dab9row5_col23\" class=\"data row5 col23\" >-0.11</td>\n",
       "            </tr>\n",
       "            <tr>\n",
       "                        <th id=\"T_bd83f132_16a7_11ea_95e7_e0d55eb0dab9level0_row6\" class=\"row_heading level0 row6\" >6</th>\n",
       "                        <td id=\"T_bd83f132_16a7_11ea_95e7_e0d55eb0dab9row6_col0\" class=\"data row6 col0\" >0.37</td>\n",
       "                        <td id=\"T_bd83f132_16a7_11ea_95e7_e0d55eb0dab9row6_col1\" class=\"data row6 col1\" >0.012</td>\n",
       "                        <td id=\"T_bd83f132_16a7_11ea_95e7_e0d55eb0dab9row6_col2\" class=\"data row6 col2\" >0.57</td>\n",
       "                        <td id=\"T_bd83f132_16a7_11ea_95e7_e0d55eb0dab9row6_col3\" class=\"data row6 col3\" >0.3</td>\n",
       "                        <td id=\"T_bd83f132_16a7_11ea_95e7_e0d55eb0dab9row6_col4\" class=\"data row6 col4\" >0.55</td>\n",
       "                        <td id=\"T_bd83f132_16a7_11ea_95e7_e0d55eb0dab9row6_col5\" class=\"data row6 col5\" >-0.12</td>\n",
       "                        <td id=\"T_bd83f132_16a7_11ea_95e7_e0d55eb0dab9row6_col6\" class=\"data row6 col6\" >1.0</td>\n",
       "                        <td id=\"T_bd83f132_16a7_11ea_95e7_e0d55eb0dab9row6_col7\" class=\"data row6 col7\" >0.58</td>\n",
       "                        <td id=\"T_bd83f132_16a7_11ea_95e7_e0d55eb0dab9row6_col8\" class=\"data row6 col8\" >0.37</td>\n",
       "                        <td id=\"T_bd83f132_16a7_11ea_95e7_e0d55eb0dab9row6_col9\" class=\"data row6 col9\" >0.012</td>\n",
       "                        <td id=\"T_bd83f132_16a7_11ea_95e7_e0d55eb0dab9row6_col10\" class=\"data row6 col10\" >0.57</td>\n",
       "                        <td id=\"T_bd83f132_16a7_11ea_95e7_e0d55eb0dab9row6_col11\" class=\"data row6 col11\" >0.3</td>\n",
       "                        <td id=\"T_bd83f132_16a7_11ea_95e7_e0d55eb0dab9row6_col12\" class=\"data row6 col12\" >0.55</td>\n",
       "                        <td id=\"T_bd83f132_16a7_11ea_95e7_e0d55eb0dab9row6_col13\" class=\"data row6 col13\" >-0.12</td>\n",
       "                        <td id=\"T_bd83f132_16a7_11ea_95e7_e0d55eb0dab9row6_col14\" class=\"data row6 col14\" >1.0</td>\n",
       "                        <td id=\"T_bd83f132_16a7_11ea_95e7_e0d55eb0dab9row6_col15\" class=\"data row6 col15\" >0.58</td>\n",
       "                        <td id=\"T_bd83f132_16a7_11ea_95e7_e0d55eb0dab9row6_col16\" class=\"data row6 col16\" >0.37</td>\n",
       "                        <td id=\"T_bd83f132_16a7_11ea_95e7_e0d55eb0dab9row6_col17\" class=\"data row6 col17\" >0.012</td>\n",
       "                        <td id=\"T_bd83f132_16a7_11ea_95e7_e0d55eb0dab9row6_col18\" class=\"data row6 col18\" >0.57</td>\n",
       "                        <td id=\"T_bd83f132_16a7_11ea_95e7_e0d55eb0dab9row6_col19\" class=\"data row6 col19\" >0.29</td>\n",
       "                        <td id=\"T_bd83f132_16a7_11ea_95e7_e0d55eb0dab9row6_col20\" class=\"data row6 col20\" >0.55</td>\n",
       "                        <td id=\"T_bd83f132_16a7_11ea_95e7_e0d55eb0dab9row6_col21\" class=\"data row6 col21\" >-0.12</td>\n",
       "                        <td id=\"T_bd83f132_16a7_11ea_95e7_e0d55eb0dab9row6_col22\" class=\"data row6 col22\" >0.99</td>\n",
       "                        <td id=\"T_bd83f132_16a7_11ea_95e7_e0d55eb0dab9row6_col23\" class=\"data row6 col23\" >0.58</td>\n",
       "            </tr>\n",
       "            <tr>\n",
       "                        <th id=\"T_bd83f132_16a7_11ea_95e7_e0d55eb0dab9level0_row7\" class=\"row_heading level0 row7\" >7</th>\n",
       "                        <td id=\"T_bd83f132_16a7_11ea_95e7_e0d55eb0dab9row7_col0\" class=\"data row7 col0\" >0.52</td>\n",
       "                        <td id=\"T_bd83f132_16a7_11ea_95e7_e0d55eb0dab9row7_col1\" class=\"data row7 col1\" >0.021</td>\n",
       "                        <td id=\"T_bd83f132_16a7_11ea_95e7_e0d55eb0dab9row7_col2\" class=\"data row7 col2\" >0.88</td>\n",
       "                        <td id=\"T_bd83f132_16a7_11ea_95e7_e0d55eb0dab9row7_col3\" class=\"data row7 col3\" >0.43</td>\n",
       "                        <td id=\"T_bd83f132_16a7_11ea_95e7_e0d55eb0dab9row7_col4\" class=\"data row7 col4\" >0.86</td>\n",
       "                        <td id=\"T_bd83f132_16a7_11ea_95e7_e0d55eb0dab9row7_col5\" class=\"data row7 col5\" >-0.12</td>\n",
       "                        <td id=\"T_bd83f132_16a7_11ea_95e7_e0d55eb0dab9row7_col6\" class=\"data row7 col6\" >0.58</td>\n",
       "                        <td id=\"T_bd83f132_16a7_11ea_95e7_e0d55eb0dab9row7_col7\" class=\"data row7 col7\" >1.0</td>\n",
       "                        <td id=\"T_bd83f132_16a7_11ea_95e7_e0d55eb0dab9row7_col8\" class=\"data row7 col8\" >0.51</td>\n",
       "                        <td id=\"T_bd83f132_16a7_11ea_95e7_e0d55eb0dab9row7_col9\" class=\"data row7 col9\" >0.021</td>\n",
       "                        <td id=\"T_bd83f132_16a7_11ea_95e7_e0d55eb0dab9row7_col10\" class=\"data row7 col10\" >0.88</td>\n",
       "                        <td id=\"T_bd83f132_16a7_11ea_95e7_e0d55eb0dab9row7_col11\" class=\"data row7 col11\" >0.43</td>\n",
       "                        <td id=\"T_bd83f132_16a7_11ea_95e7_e0d55eb0dab9row7_col12\" class=\"data row7 col12\" >0.86</td>\n",
       "                        <td id=\"T_bd83f132_16a7_11ea_95e7_e0d55eb0dab9row7_col13\" class=\"data row7 col13\" >-0.12</td>\n",
       "                        <td id=\"T_bd83f132_16a7_11ea_95e7_e0d55eb0dab9row7_col14\" class=\"data row7 col14\" >0.58</td>\n",
       "                        <td id=\"T_bd83f132_16a7_11ea_95e7_e0d55eb0dab9row7_col15\" class=\"data row7 col15\" >1.0</td>\n",
       "                        <td id=\"T_bd83f132_16a7_11ea_95e7_e0d55eb0dab9row7_col16\" class=\"data row7 col16\" >0.51</td>\n",
       "                        <td id=\"T_bd83f132_16a7_11ea_95e7_e0d55eb0dab9row7_col17\" class=\"data row7 col17\" >0.02</td>\n",
       "                        <td id=\"T_bd83f132_16a7_11ea_95e7_e0d55eb0dab9row7_col18\" class=\"data row7 col18\" >0.87</td>\n",
       "                        <td id=\"T_bd83f132_16a7_11ea_95e7_e0d55eb0dab9row7_col19\" class=\"data row7 col19\" >0.43</td>\n",
       "                        <td id=\"T_bd83f132_16a7_11ea_95e7_e0d55eb0dab9row7_col20\" class=\"data row7 col20\" >0.86</td>\n",
       "                        <td id=\"T_bd83f132_16a7_11ea_95e7_e0d55eb0dab9row7_col21\" class=\"data row7 col21\" >-0.11</td>\n",
       "                        <td id=\"T_bd83f132_16a7_11ea_95e7_e0d55eb0dab9row7_col22\" class=\"data row7 col22\" >0.58</td>\n",
       "                        <td id=\"T_bd83f132_16a7_11ea_95e7_e0d55eb0dab9row7_col23\" class=\"data row7 col23\" >0.99</td>\n",
       "            </tr>\n",
       "            <tr>\n",
       "                        <th id=\"T_bd83f132_16a7_11ea_95e7_e0d55eb0dab9level0_row8\" class=\"row_heading level0 row8\" >8</th>\n",
       "                        <td id=\"T_bd83f132_16a7_11ea_95e7_e0d55eb0dab9row8_col0\" class=\"data row8 col0\" >1.0</td>\n",
       "                        <td id=\"T_bd83f132_16a7_11ea_95e7_e0d55eb0dab9row8_col1\" class=\"data row8 col1\" >-0.012</td>\n",
       "                        <td id=\"T_bd83f132_16a7_11ea_95e7_e0d55eb0dab9row8_col2\" class=\"data row8 col2\" >0.47</td>\n",
       "                        <td id=\"T_bd83f132_16a7_11ea_95e7_e0d55eb0dab9row8_col3\" class=\"data row8 col3\" >0.28</td>\n",
       "                        <td id=\"T_bd83f132_16a7_11ea_95e7_e0d55eb0dab9row8_col4\" class=\"data row8 col4\" >0.63</td>\n",
       "                        <td id=\"T_bd83f132_16a7_11ea_95e7_e0d55eb0dab9row8_col5\" class=\"data row8 col5\" >-0.048</td>\n",
       "                        <td id=\"T_bd83f132_16a7_11ea_95e7_e0d55eb0dab9row8_col6\" class=\"data row8 col6\" >0.37</td>\n",
       "                        <td id=\"T_bd83f132_16a7_11ea_95e7_e0d55eb0dab9row8_col7\" class=\"data row8 col7\" >0.51</td>\n",
       "                        <td id=\"T_bd83f132_16a7_11ea_95e7_e0d55eb0dab9row8_col8\" class=\"data row8 col8\" >1.0</td>\n",
       "                        <td id=\"T_bd83f132_16a7_11ea_95e7_e0d55eb0dab9row8_col9\" class=\"data row8 col9\" >-0.012</td>\n",
       "                        <td id=\"T_bd83f132_16a7_11ea_95e7_e0d55eb0dab9row8_col10\" class=\"data row8 col10\" >0.47</td>\n",
       "                        <td id=\"T_bd83f132_16a7_11ea_95e7_e0d55eb0dab9row8_col11\" class=\"data row8 col11\" >0.28</td>\n",
       "                        <td id=\"T_bd83f132_16a7_11ea_95e7_e0d55eb0dab9row8_col12\" class=\"data row8 col12\" >0.63</td>\n",
       "                        <td id=\"T_bd83f132_16a7_11ea_95e7_e0d55eb0dab9row8_col13\" class=\"data row8 col13\" >-0.047</td>\n",
       "                        <td id=\"T_bd83f132_16a7_11ea_95e7_e0d55eb0dab9row8_col14\" class=\"data row8 col14\" >0.37</td>\n",
       "                        <td id=\"T_bd83f132_16a7_11ea_95e7_e0d55eb0dab9row8_col15\" class=\"data row8 col15\" >0.52</td>\n",
       "                        <td id=\"T_bd83f132_16a7_11ea_95e7_e0d55eb0dab9row8_col16\" class=\"data row8 col16\" >1.0</td>\n",
       "                        <td id=\"T_bd83f132_16a7_11ea_95e7_e0d55eb0dab9row8_col17\" class=\"data row8 col17\" >-0.011</td>\n",
       "                        <td id=\"T_bd83f132_16a7_11ea_95e7_e0d55eb0dab9row8_col18\" class=\"data row8 col18\" >0.47</td>\n",
       "                        <td id=\"T_bd83f132_16a7_11ea_95e7_e0d55eb0dab9row8_col19\" class=\"data row8 col19\" >0.28</td>\n",
       "                        <td id=\"T_bd83f132_16a7_11ea_95e7_e0d55eb0dab9row8_col20\" class=\"data row8 col20\" >0.63</td>\n",
       "                        <td id=\"T_bd83f132_16a7_11ea_95e7_e0d55eb0dab9row8_col21\" class=\"data row8 col21\" >-0.046</td>\n",
       "                        <td id=\"T_bd83f132_16a7_11ea_95e7_e0d55eb0dab9row8_col22\" class=\"data row8 col22\" >0.37</td>\n",
       "                        <td id=\"T_bd83f132_16a7_11ea_95e7_e0d55eb0dab9row8_col23\" class=\"data row8 col23\" >0.51</td>\n",
       "            </tr>\n",
       "            <tr>\n",
       "                        <th id=\"T_bd83f132_16a7_11ea_95e7_e0d55eb0dab9level0_row9\" class=\"row_heading level0 row9\" >9</th>\n",
       "                        <td id=\"T_bd83f132_16a7_11ea_95e7_e0d55eb0dab9row9_col0\" class=\"data row9 col0\" >-0.012</td>\n",
       "                        <td id=\"T_bd83f132_16a7_11ea_95e7_e0d55eb0dab9row9_col1\" class=\"data row9 col1\" >1.0</td>\n",
       "                        <td id=\"T_bd83f132_16a7_11ea_95e7_e0d55eb0dab9row9_col2\" class=\"data row9 col2\" >0.08</td>\n",
       "                        <td id=\"T_bd83f132_16a7_11ea_95e7_e0d55eb0dab9row9_col3\" class=\"data row9 col3\" >0.047</td>\n",
       "                        <td id=\"T_bd83f132_16a7_11ea_95e7_e0d55eb0dab9row9_col4\" class=\"data row9 col4\" >0.021</td>\n",
       "                        <td id=\"T_bd83f132_16a7_11ea_95e7_e0d55eb0dab9row9_col5\" class=\"data row9 col5\" >-0.0053</td>\n",
       "                        <td id=\"T_bd83f132_16a7_11ea_95e7_e0d55eb0dab9row9_col6\" class=\"data row9 col6\" >0.012</td>\n",
       "                        <td id=\"T_bd83f132_16a7_11ea_95e7_e0d55eb0dab9row9_col7\" class=\"data row9 col7\" >0.021</td>\n",
       "                        <td id=\"T_bd83f132_16a7_11ea_95e7_e0d55eb0dab9row9_col8\" class=\"data row9 col8\" >-0.012</td>\n",
       "                        <td id=\"T_bd83f132_16a7_11ea_95e7_e0d55eb0dab9row9_col9\" class=\"data row9 col9\" >1.0</td>\n",
       "                        <td id=\"T_bd83f132_16a7_11ea_95e7_e0d55eb0dab9row9_col10\" class=\"data row9 col10\" >0.08</td>\n",
       "                        <td id=\"T_bd83f132_16a7_11ea_95e7_e0d55eb0dab9row9_col11\" class=\"data row9 col11\" >0.048</td>\n",
       "                        <td id=\"T_bd83f132_16a7_11ea_95e7_e0d55eb0dab9row9_col12\" class=\"data row9 col12\" >0.021</td>\n",
       "                        <td id=\"T_bd83f132_16a7_11ea_95e7_e0d55eb0dab9row9_col13\" class=\"data row9 col13\" >-0.0049</td>\n",
       "                        <td id=\"T_bd83f132_16a7_11ea_95e7_e0d55eb0dab9row9_col14\" class=\"data row9 col14\" >0.013</td>\n",
       "                        <td id=\"T_bd83f132_16a7_11ea_95e7_e0d55eb0dab9row9_col15\" class=\"data row9 col15\" >0.021</td>\n",
       "                        <td id=\"T_bd83f132_16a7_11ea_95e7_e0d55eb0dab9row9_col16\" class=\"data row9 col16\" >-0.012</td>\n",
       "                        <td id=\"T_bd83f132_16a7_11ea_95e7_e0d55eb0dab9row9_col17\" class=\"data row9 col17\" >1.0</td>\n",
       "                        <td id=\"T_bd83f132_16a7_11ea_95e7_e0d55eb0dab9row9_col18\" class=\"data row9 col18\" >0.08</td>\n",
       "                        <td id=\"T_bd83f132_16a7_11ea_95e7_e0d55eb0dab9row9_col19\" class=\"data row9 col19\" >0.048</td>\n",
       "                        <td id=\"T_bd83f132_16a7_11ea_95e7_e0d55eb0dab9row9_col20\" class=\"data row9 col20\" >0.021</td>\n",
       "                        <td id=\"T_bd83f132_16a7_11ea_95e7_e0d55eb0dab9row9_col21\" class=\"data row9 col21\" >-0.0044</td>\n",
       "                        <td id=\"T_bd83f132_16a7_11ea_95e7_e0d55eb0dab9row9_col22\" class=\"data row9 col22\" >0.013</td>\n",
       "                        <td id=\"T_bd83f132_16a7_11ea_95e7_e0d55eb0dab9row9_col23\" class=\"data row9 col23\" >0.021</td>\n",
       "            </tr>\n",
       "            <tr>\n",
       "                        <th id=\"T_bd83f132_16a7_11ea_95e7_e0d55eb0dab9level0_row10\" class=\"row_heading level0 row10\" >10</th>\n",
       "                        <td id=\"T_bd83f132_16a7_11ea_95e7_e0d55eb0dab9row10_col0\" class=\"data row10 col0\" >0.47</td>\n",
       "                        <td id=\"T_bd83f132_16a7_11ea_95e7_e0d55eb0dab9row10_col1\" class=\"data row10 col1\" >0.08</td>\n",
       "                        <td id=\"T_bd83f132_16a7_11ea_95e7_e0d55eb0dab9row10_col2\" class=\"data row10 col2\" >1.0</td>\n",
       "                        <td id=\"T_bd83f132_16a7_11ea_95e7_e0d55eb0dab9row10_col3\" class=\"data row10 col3\" >0.5</td>\n",
       "                        <td id=\"T_bd83f132_16a7_11ea_95e7_e0d55eb0dab9row10_col4\" class=\"data row10 col4\" >0.8</td>\n",
       "                        <td id=\"T_bd83f132_16a7_11ea_95e7_e0d55eb0dab9row10_col5\" class=\"data row10 col5\" >-0.16</td>\n",
       "                        <td id=\"T_bd83f132_16a7_11ea_95e7_e0d55eb0dab9row10_col6\" class=\"data row10 col6\" >0.57</td>\n",
       "                        <td id=\"T_bd83f132_16a7_11ea_95e7_e0d55eb0dab9row10_col7\" class=\"data row10 col7\" >0.88</td>\n",
       "                        <td id=\"T_bd83f132_16a7_11ea_95e7_e0d55eb0dab9row10_col8\" class=\"data row10 col8\" >0.47</td>\n",
       "                        <td id=\"T_bd83f132_16a7_11ea_95e7_e0d55eb0dab9row10_col9\" class=\"data row10 col9\" >0.08</td>\n",
       "                        <td id=\"T_bd83f132_16a7_11ea_95e7_e0d55eb0dab9row10_col10\" class=\"data row10 col10\" >1.0</td>\n",
       "                        <td id=\"T_bd83f132_16a7_11ea_95e7_e0d55eb0dab9row10_col11\" class=\"data row10 col11\" >0.5</td>\n",
       "                        <td id=\"T_bd83f132_16a7_11ea_95e7_e0d55eb0dab9row10_col12\" class=\"data row10 col12\" >0.8</td>\n",
       "                        <td id=\"T_bd83f132_16a7_11ea_95e7_e0d55eb0dab9row10_col13\" class=\"data row10 col13\" >-0.16</td>\n",
       "                        <td id=\"T_bd83f132_16a7_11ea_95e7_e0d55eb0dab9row10_col14\" class=\"data row10 col14\" >0.57</td>\n",
       "                        <td id=\"T_bd83f132_16a7_11ea_95e7_e0d55eb0dab9row10_col15\" class=\"data row10 col15\" >0.88</td>\n",
       "                        <td id=\"T_bd83f132_16a7_11ea_95e7_e0d55eb0dab9row10_col16\" class=\"data row10 col16\" >0.47</td>\n",
       "                        <td id=\"T_bd83f132_16a7_11ea_95e7_e0d55eb0dab9row10_col17\" class=\"data row10 col17\" >0.079</td>\n",
       "                        <td id=\"T_bd83f132_16a7_11ea_95e7_e0d55eb0dab9row10_col18\" class=\"data row10 col18\" >1.0</td>\n",
       "                        <td id=\"T_bd83f132_16a7_11ea_95e7_e0d55eb0dab9row10_col19\" class=\"data row10 col19\" >0.5</td>\n",
       "                        <td id=\"T_bd83f132_16a7_11ea_95e7_e0d55eb0dab9row10_col20\" class=\"data row10 col20\" >0.8</td>\n",
       "                        <td id=\"T_bd83f132_16a7_11ea_95e7_e0d55eb0dab9row10_col21\" class=\"data row10 col21\" >-0.16</td>\n",
       "                        <td id=\"T_bd83f132_16a7_11ea_95e7_e0d55eb0dab9row10_col22\" class=\"data row10 col22\" >0.57</td>\n",
       "                        <td id=\"T_bd83f132_16a7_11ea_95e7_e0d55eb0dab9row10_col23\" class=\"data row10 col23\" >0.88</td>\n",
       "            </tr>\n",
       "            <tr>\n",
       "                        <th id=\"T_bd83f132_16a7_11ea_95e7_e0d55eb0dab9level0_row11\" class=\"row_heading level0 row11\" >11</th>\n",
       "                        <td id=\"T_bd83f132_16a7_11ea_95e7_e0d55eb0dab9row11_col0\" class=\"data row11 col0\" >0.28</td>\n",
       "                        <td id=\"T_bd83f132_16a7_11ea_95e7_e0d55eb0dab9row11_col1\" class=\"data row11 col1\" >0.048</td>\n",
       "                        <td id=\"T_bd83f132_16a7_11ea_95e7_e0d55eb0dab9row11_col2\" class=\"data row11 col2\" >0.5</td>\n",
       "                        <td id=\"T_bd83f132_16a7_11ea_95e7_e0d55eb0dab9row11_col3\" class=\"data row11 col3\" >1.0</td>\n",
       "                        <td id=\"T_bd83f132_16a7_11ea_95e7_e0d55eb0dab9row11_col4\" class=\"data row11 col4\" >0.3</td>\n",
       "                        <td id=\"T_bd83f132_16a7_11ea_95e7_e0d55eb0dab9row11_col5\" class=\"data row11 col5\" >0.51</td>\n",
       "                        <td id=\"T_bd83f132_16a7_11ea_95e7_e0d55eb0dab9row11_col6\" class=\"data row11 col6\" >0.3</td>\n",
       "                        <td id=\"T_bd83f132_16a7_11ea_95e7_e0d55eb0dab9row11_col7\" class=\"data row11 col7\" >0.43</td>\n",
       "                        <td id=\"T_bd83f132_16a7_11ea_95e7_e0d55eb0dab9row11_col8\" class=\"data row11 col8\" >0.28</td>\n",
       "                        <td id=\"T_bd83f132_16a7_11ea_95e7_e0d55eb0dab9row11_col9\" class=\"data row11 col9\" >0.048</td>\n",
       "                        <td id=\"T_bd83f132_16a7_11ea_95e7_e0d55eb0dab9row11_col10\" class=\"data row11 col10\" >0.5</td>\n",
       "                        <td id=\"T_bd83f132_16a7_11ea_95e7_e0d55eb0dab9row11_col11\" class=\"data row11 col11\" >1.0</td>\n",
       "                        <td id=\"T_bd83f132_16a7_11ea_95e7_e0d55eb0dab9row11_col12\" class=\"data row11 col12\" >0.3</td>\n",
       "                        <td id=\"T_bd83f132_16a7_11ea_95e7_e0d55eb0dab9row11_col13\" class=\"data row11 col13\" >0.51</td>\n",
       "                        <td id=\"T_bd83f132_16a7_11ea_95e7_e0d55eb0dab9row11_col14\" class=\"data row11 col14\" >0.3</td>\n",
       "                        <td id=\"T_bd83f132_16a7_11ea_95e7_e0d55eb0dab9row11_col15\" class=\"data row11 col15\" >0.43</td>\n",
       "                        <td id=\"T_bd83f132_16a7_11ea_95e7_e0d55eb0dab9row11_col16\" class=\"data row11 col16\" >0.28</td>\n",
       "                        <td id=\"T_bd83f132_16a7_11ea_95e7_e0d55eb0dab9row11_col17\" class=\"data row11 col17\" >0.047</td>\n",
       "                        <td id=\"T_bd83f132_16a7_11ea_95e7_e0d55eb0dab9row11_col18\" class=\"data row11 col18\" >0.5</td>\n",
       "                        <td id=\"T_bd83f132_16a7_11ea_95e7_e0d55eb0dab9row11_col19\" class=\"data row11 col19\" >1.0</td>\n",
       "                        <td id=\"T_bd83f132_16a7_11ea_95e7_e0d55eb0dab9row11_col20\" class=\"data row11 col20\" >0.3</td>\n",
       "                        <td id=\"T_bd83f132_16a7_11ea_95e7_e0d55eb0dab9row11_col21\" class=\"data row11 col21\" >0.51</td>\n",
       "                        <td id=\"T_bd83f132_16a7_11ea_95e7_e0d55eb0dab9row11_col22\" class=\"data row11 col22\" >0.3</td>\n",
       "                        <td id=\"T_bd83f132_16a7_11ea_95e7_e0d55eb0dab9row11_col23\" class=\"data row11 col23\" >0.43</td>\n",
       "            </tr>\n",
       "            <tr>\n",
       "                        <th id=\"T_bd83f132_16a7_11ea_95e7_e0d55eb0dab9level0_row12\" class=\"row_heading level0 row12\" >12</th>\n",
       "                        <td id=\"T_bd83f132_16a7_11ea_95e7_e0d55eb0dab9row12_col0\" class=\"data row12 col0\" >0.63</td>\n",
       "                        <td id=\"T_bd83f132_16a7_11ea_95e7_e0d55eb0dab9row12_col1\" class=\"data row12 col1\" >0.021</td>\n",
       "                        <td id=\"T_bd83f132_16a7_11ea_95e7_e0d55eb0dab9row12_col2\" class=\"data row12 col2\" >0.8</td>\n",
       "                        <td id=\"T_bd83f132_16a7_11ea_95e7_e0d55eb0dab9row12_col3\" class=\"data row12 col3\" >0.3</td>\n",
       "                        <td id=\"T_bd83f132_16a7_11ea_95e7_e0d55eb0dab9row12_col4\" class=\"data row12 col4\" >1.0</td>\n",
       "                        <td id=\"T_bd83f132_16a7_11ea_95e7_e0d55eb0dab9row12_col5\" class=\"data row12 col5\" >-0.24</td>\n",
       "                        <td id=\"T_bd83f132_16a7_11ea_95e7_e0d55eb0dab9row12_col6\" class=\"data row12 col6\" >0.55</td>\n",
       "                        <td id=\"T_bd83f132_16a7_11ea_95e7_e0d55eb0dab9row12_col7\" class=\"data row12 col7\" >0.86</td>\n",
       "                        <td id=\"T_bd83f132_16a7_11ea_95e7_e0d55eb0dab9row12_col8\" class=\"data row12 col8\" >0.63</td>\n",
       "                        <td id=\"T_bd83f132_16a7_11ea_95e7_e0d55eb0dab9row12_col9\" class=\"data row12 col9\" >0.021</td>\n",
       "                        <td id=\"T_bd83f132_16a7_11ea_95e7_e0d55eb0dab9row12_col10\" class=\"data row12 col10\" >0.8</td>\n",
       "                        <td id=\"T_bd83f132_16a7_11ea_95e7_e0d55eb0dab9row12_col11\" class=\"data row12 col11\" >0.3</td>\n",
       "                        <td id=\"T_bd83f132_16a7_11ea_95e7_e0d55eb0dab9row12_col12\" class=\"data row12 col12\" >1.0</td>\n",
       "                        <td id=\"T_bd83f132_16a7_11ea_95e7_e0d55eb0dab9row12_col13\" class=\"data row12 col13\" >-0.24</td>\n",
       "                        <td id=\"T_bd83f132_16a7_11ea_95e7_e0d55eb0dab9row12_col14\" class=\"data row12 col14\" >0.55</td>\n",
       "                        <td id=\"T_bd83f132_16a7_11ea_95e7_e0d55eb0dab9row12_col15\" class=\"data row12 col15\" >0.86</td>\n",
       "                        <td id=\"T_bd83f132_16a7_11ea_95e7_e0d55eb0dab9row12_col16\" class=\"data row12 col16\" >0.63</td>\n",
       "                        <td id=\"T_bd83f132_16a7_11ea_95e7_e0d55eb0dab9row12_col17\" class=\"data row12 col17\" >0.021</td>\n",
       "                        <td id=\"T_bd83f132_16a7_11ea_95e7_e0d55eb0dab9row12_col18\" class=\"data row12 col18\" >0.8</td>\n",
       "                        <td id=\"T_bd83f132_16a7_11ea_95e7_e0d55eb0dab9row12_col19\" class=\"data row12 col19\" >0.3</td>\n",
       "                        <td id=\"T_bd83f132_16a7_11ea_95e7_e0d55eb0dab9row12_col20\" class=\"data row12 col20\" >1.0</td>\n",
       "                        <td id=\"T_bd83f132_16a7_11ea_95e7_e0d55eb0dab9row12_col21\" class=\"data row12 col21\" >-0.24</td>\n",
       "                        <td id=\"T_bd83f132_16a7_11ea_95e7_e0d55eb0dab9row12_col22\" class=\"data row12 col22\" >0.55</td>\n",
       "                        <td id=\"T_bd83f132_16a7_11ea_95e7_e0d55eb0dab9row12_col23\" class=\"data row12 col23\" >0.86</td>\n",
       "            </tr>\n",
       "            <tr>\n",
       "                        <th id=\"T_bd83f132_16a7_11ea_95e7_e0d55eb0dab9level0_row13\" class=\"row_heading level0 row13\" >13</th>\n",
       "                        <td id=\"T_bd83f132_16a7_11ea_95e7_e0d55eb0dab9row13_col0\" class=\"data row13 col0\" >-0.048</td>\n",
       "                        <td id=\"T_bd83f132_16a7_11ea_95e7_e0d55eb0dab9row13_col1\" class=\"data row13 col1\" >-0.0047</td>\n",
       "                        <td id=\"T_bd83f132_16a7_11ea_95e7_e0d55eb0dab9row13_col2\" class=\"data row13 col2\" >-0.16</td>\n",
       "                        <td id=\"T_bd83f132_16a7_11ea_95e7_e0d55eb0dab9row13_col3\" class=\"data row13 col3\" >0.51</td>\n",
       "                        <td id=\"T_bd83f132_16a7_11ea_95e7_e0d55eb0dab9row13_col4\" class=\"data row13 col4\" >-0.24</td>\n",
       "                        <td id=\"T_bd83f132_16a7_11ea_95e7_e0d55eb0dab9row13_col5\" class=\"data row13 col5\" >1.0</td>\n",
       "                        <td id=\"T_bd83f132_16a7_11ea_95e7_e0d55eb0dab9row13_col6\" class=\"data row13 col6\" >-0.12</td>\n",
       "                        <td id=\"T_bd83f132_16a7_11ea_95e7_e0d55eb0dab9row13_col7\" class=\"data row13 col7\" >-0.12</td>\n",
       "                        <td id=\"T_bd83f132_16a7_11ea_95e7_e0d55eb0dab9row13_col8\" class=\"data row13 col8\" >-0.047</td>\n",
       "                        <td id=\"T_bd83f132_16a7_11ea_95e7_e0d55eb0dab9row13_col9\" class=\"data row13 col9\" >-0.0049</td>\n",
       "                        <td id=\"T_bd83f132_16a7_11ea_95e7_e0d55eb0dab9row13_col10\" class=\"data row13 col10\" >-0.16</td>\n",
       "                        <td id=\"T_bd83f132_16a7_11ea_95e7_e0d55eb0dab9row13_col11\" class=\"data row13 col11\" >0.51</td>\n",
       "                        <td id=\"T_bd83f132_16a7_11ea_95e7_e0d55eb0dab9row13_col12\" class=\"data row13 col12\" >-0.24</td>\n",
       "                        <td id=\"T_bd83f132_16a7_11ea_95e7_e0d55eb0dab9row13_col13\" class=\"data row13 col13\" >1.0</td>\n",
       "                        <td id=\"T_bd83f132_16a7_11ea_95e7_e0d55eb0dab9row13_col14\" class=\"data row13 col14\" >-0.12</td>\n",
       "                        <td id=\"T_bd83f132_16a7_11ea_95e7_e0d55eb0dab9row13_col15\" class=\"data row13 col15\" >-0.11</td>\n",
       "                        <td id=\"T_bd83f132_16a7_11ea_95e7_e0d55eb0dab9row13_col16\" class=\"data row13 col16\" >-0.046</td>\n",
       "                        <td id=\"T_bd83f132_16a7_11ea_95e7_e0d55eb0dab9row13_col17\" class=\"data row13 col17\" >-0.0049</td>\n",
       "                        <td id=\"T_bd83f132_16a7_11ea_95e7_e0d55eb0dab9row13_col18\" class=\"data row13 col18\" >-0.16</td>\n",
       "                        <td id=\"T_bd83f132_16a7_11ea_95e7_e0d55eb0dab9row13_col19\" class=\"data row13 col19\" >0.51</td>\n",
       "                        <td id=\"T_bd83f132_16a7_11ea_95e7_e0d55eb0dab9row13_col20\" class=\"data row13 col20\" >-0.24</td>\n",
       "                        <td id=\"T_bd83f132_16a7_11ea_95e7_e0d55eb0dab9row13_col21\" class=\"data row13 col21\" >1.0</td>\n",
       "                        <td id=\"T_bd83f132_16a7_11ea_95e7_e0d55eb0dab9row13_col22\" class=\"data row13 col22\" >-0.12</td>\n",
       "                        <td id=\"T_bd83f132_16a7_11ea_95e7_e0d55eb0dab9row13_col23\" class=\"data row13 col23\" >-0.11</td>\n",
       "            </tr>\n",
       "            <tr>\n",
       "                        <th id=\"T_bd83f132_16a7_11ea_95e7_e0d55eb0dab9level0_row14\" class=\"row_heading level0 row14\" >14</th>\n",
       "                        <td id=\"T_bd83f132_16a7_11ea_95e7_e0d55eb0dab9row14_col0\" class=\"data row14 col0\" >0.37</td>\n",
       "                        <td id=\"T_bd83f132_16a7_11ea_95e7_e0d55eb0dab9row14_col1\" class=\"data row14 col1\" >0.013</td>\n",
       "                        <td id=\"T_bd83f132_16a7_11ea_95e7_e0d55eb0dab9row14_col2\" class=\"data row14 col2\" >0.57</td>\n",
       "                        <td id=\"T_bd83f132_16a7_11ea_95e7_e0d55eb0dab9row14_col3\" class=\"data row14 col3\" >0.3</td>\n",
       "                        <td id=\"T_bd83f132_16a7_11ea_95e7_e0d55eb0dab9row14_col4\" class=\"data row14 col4\" >0.55</td>\n",
       "                        <td id=\"T_bd83f132_16a7_11ea_95e7_e0d55eb0dab9row14_col5\" class=\"data row14 col5\" >-0.12</td>\n",
       "                        <td id=\"T_bd83f132_16a7_11ea_95e7_e0d55eb0dab9row14_col6\" class=\"data row14 col6\" >1.0</td>\n",
       "                        <td id=\"T_bd83f132_16a7_11ea_95e7_e0d55eb0dab9row14_col7\" class=\"data row14 col7\" >0.58</td>\n",
       "                        <td id=\"T_bd83f132_16a7_11ea_95e7_e0d55eb0dab9row14_col8\" class=\"data row14 col8\" >0.37</td>\n",
       "                        <td id=\"T_bd83f132_16a7_11ea_95e7_e0d55eb0dab9row14_col9\" class=\"data row14 col9\" >0.013</td>\n",
       "                        <td id=\"T_bd83f132_16a7_11ea_95e7_e0d55eb0dab9row14_col10\" class=\"data row14 col10\" >0.57</td>\n",
       "                        <td id=\"T_bd83f132_16a7_11ea_95e7_e0d55eb0dab9row14_col11\" class=\"data row14 col11\" >0.3</td>\n",
       "                        <td id=\"T_bd83f132_16a7_11ea_95e7_e0d55eb0dab9row14_col12\" class=\"data row14 col12\" >0.55</td>\n",
       "                        <td id=\"T_bd83f132_16a7_11ea_95e7_e0d55eb0dab9row14_col13\" class=\"data row14 col13\" >-0.12</td>\n",
       "                        <td id=\"T_bd83f132_16a7_11ea_95e7_e0d55eb0dab9row14_col14\" class=\"data row14 col14\" >1.0</td>\n",
       "                        <td id=\"T_bd83f132_16a7_11ea_95e7_e0d55eb0dab9row14_col15\" class=\"data row14 col15\" >0.58</td>\n",
       "                        <td id=\"T_bd83f132_16a7_11ea_95e7_e0d55eb0dab9row14_col16\" class=\"data row14 col16\" >0.37</td>\n",
       "                        <td id=\"T_bd83f132_16a7_11ea_95e7_e0d55eb0dab9row14_col17\" class=\"data row14 col17\" >0.013</td>\n",
       "                        <td id=\"T_bd83f132_16a7_11ea_95e7_e0d55eb0dab9row14_col18\" class=\"data row14 col18\" >0.57</td>\n",
       "                        <td id=\"T_bd83f132_16a7_11ea_95e7_e0d55eb0dab9row14_col19\" class=\"data row14 col19\" >0.3</td>\n",
       "                        <td id=\"T_bd83f132_16a7_11ea_95e7_e0d55eb0dab9row14_col20\" class=\"data row14 col20\" >0.55</td>\n",
       "                        <td id=\"T_bd83f132_16a7_11ea_95e7_e0d55eb0dab9row14_col21\" class=\"data row14 col21\" >-0.12</td>\n",
       "                        <td id=\"T_bd83f132_16a7_11ea_95e7_e0d55eb0dab9row14_col22\" class=\"data row14 col22\" >0.99</td>\n",
       "                        <td id=\"T_bd83f132_16a7_11ea_95e7_e0d55eb0dab9row14_col23\" class=\"data row14 col23\" >0.58</td>\n",
       "            </tr>\n",
       "            <tr>\n",
       "                        <th id=\"T_bd83f132_16a7_11ea_95e7_e0d55eb0dab9level0_row15\" class=\"row_heading level0 row15\" >15</th>\n",
       "                        <td id=\"T_bd83f132_16a7_11ea_95e7_e0d55eb0dab9row15_col0\" class=\"data row15 col0\" >0.51</td>\n",
       "                        <td id=\"T_bd83f132_16a7_11ea_95e7_e0d55eb0dab9row15_col1\" class=\"data row15 col1\" >0.021</td>\n",
       "                        <td id=\"T_bd83f132_16a7_11ea_95e7_e0d55eb0dab9row15_col2\" class=\"data row15 col2\" >0.88</td>\n",
       "                        <td id=\"T_bd83f132_16a7_11ea_95e7_e0d55eb0dab9row15_col3\" class=\"data row15 col3\" >0.43</td>\n",
       "                        <td id=\"T_bd83f132_16a7_11ea_95e7_e0d55eb0dab9row15_col4\" class=\"data row15 col4\" >0.86</td>\n",
       "                        <td id=\"T_bd83f132_16a7_11ea_95e7_e0d55eb0dab9row15_col5\" class=\"data row15 col5\" >-0.11</td>\n",
       "                        <td id=\"T_bd83f132_16a7_11ea_95e7_e0d55eb0dab9row15_col6\" class=\"data row15 col6\" >0.58</td>\n",
       "                        <td id=\"T_bd83f132_16a7_11ea_95e7_e0d55eb0dab9row15_col7\" class=\"data row15 col7\" >1.0</td>\n",
       "                        <td id=\"T_bd83f132_16a7_11ea_95e7_e0d55eb0dab9row15_col8\" class=\"data row15 col8\" >0.52</td>\n",
       "                        <td id=\"T_bd83f132_16a7_11ea_95e7_e0d55eb0dab9row15_col9\" class=\"data row15 col9\" >0.021</td>\n",
       "                        <td id=\"T_bd83f132_16a7_11ea_95e7_e0d55eb0dab9row15_col10\" class=\"data row15 col10\" >0.88</td>\n",
       "                        <td id=\"T_bd83f132_16a7_11ea_95e7_e0d55eb0dab9row15_col11\" class=\"data row15 col11\" >0.43</td>\n",
       "                        <td id=\"T_bd83f132_16a7_11ea_95e7_e0d55eb0dab9row15_col12\" class=\"data row15 col12\" >0.86</td>\n",
       "                        <td id=\"T_bd83f132_16a7_11ea_95e7_e0d55eb0dab9row15_col13\" class=\"data row15 col13\" >-0.11</td>\n",
       "                        <td id=\"T_bd83f132_16a7_11ea_95e7_e0d55eb0dab9row15_col14\" class=\"data row15 col14\" >0.58</td>\n",
       "                        <td id=\"T_bd83f132_16a7_11ea_95e7_e0d55eb0dab9row15_col15\" class=\"data row15 col15\" >1.0</td>\n",
       "                        <td id=\"T_bd83f132_16a7_11ea_95e7_e0d55eb0dab9row15_col16\" class=\"data row15 col16\" >0.51</td>\n",
       "                        <td id=\"T_bd83f132_16a7_11ea_95e7_e0d55eb0dab9row15_col17\" class=\"data row15 col17\" >0.021</td>\n",
       "                        <td id=\"T_bd83f132_16a7_11ea_95e7_e0d55eb0dab9row15_col18\" class=\"data row15 col18\" >0.88</td>\n",
       "                        <td id=\"T_bd83f132_16a7_11ea_95e7_e0d55eb0dab9row15_col19\" class=\"data row15 col19\" >0.43</td>\n",
       "                        <td id=\"T_bd83f132_16a7_11ea_95e7_e0d55eb0dab9row15_col20\" class=\"data row15 col20\" >0.86</td>\n",
       "                        <td id=\"T_bd83f132_16a7_11ea_95e7_e0d55eb0dab9row15_col21\" class=\"data row15 col21\" >-0.11</td>\n",
       "                        <td id=\"T_bd83f132_16a7_11ea_95e7_e0d55eb0dab9row15_col22\" class=\"data row15 col22\" >0.58</td>\n",
       "                        <td id=\"T_bd83f132_16a7_11ea_95e7_e0d55eb0dab9row15_col23\" class=\"data row15 col23\" >1.0</td>\n",
       "            </tr>\n",
       "            <tr>\n",
       "                        <th id=\"T_bd83f132_16a7_11ea_95e7_e0d55eb0dab9level0_row16\" class=\"row_heading level0 row16\" >16</th>\n",
       "                        <td id=\"T_bd83f132_16a7_11ea_95e7_e0d55eb0dab9row16_col0\" class=\"data row16 col0\" >0.99</td>\n",
       "                        <td id=\"T_bd83f132_16a7_11ea_95e7_e0d55eb0dab9row16_col1\" class=\"data row16 col1\" >-0.012</td>\n",
       "                        <td id=\"T_bd83f132_16a7_11ea_95e7_e0d55eb0dab9row16_col2\" class=\"data row16 col2\" >0.47</td>\n",
       "                        <td id=\"T_bd83f132_16a7_11ea_95e7_e0d55eb0dab9row16_col3\" class=\"data row16 col3\" >0.28</td>\n",
       "                        <td id=\"T_bd83f132_16a7_11ea_95e7_e0d55eb0dab9row16_col4\" class=\"data row16 col4\" >0.63</td>\n",
       "                        <td id=\"T_bd83f132_16a7_11ea_95e7_e0d55eb0dab9row16_col5\" class=\"data row16 col5\" >-0.047</td>\n",
       "                        <td id=\"T_bd83f132_16a7_11ea_95e7_e0d55eb0dab9row16_col6\" class=\"data row16 col6\" >0.37</td>\n",
       "                        <td id=\"T_bd83f132_16a7_11ea_95e7_e0d55eb0dab9row16_col7\" class=\"data row16 col7\" >0.51</td>\n",
       "                        <td id=\"T_bd83f132_16a7_11ea_95e7_e0d55eb0dab9row16_col8\" class=\"data row16 col8\" >1.0</td>\n",
       "                        <td id=\"T_bd83f132_16a7_11ea_95e7_e0d55eb0dab9row16_col9\" class=\"data row16 col9\" >-0.012</td>\n",
       "                        <td id=\"T_bd83f132_16a7_11ea_95e7_e0d55eb0dab9row16_col10\" class=\"data row16 col10\" >0.47</td>\n",
       "                        <td id=\"T_bd83f132_16a7_11ea_95e7_e0d55eb0dab9row16_col11\" class=\"data row16 col11\" >0.28</td>\n",
       "                        <td id=\"T_bd83f132_16a7_11ea_95e7_e0d55eb0dab9row16_col12\" class=\"data row16 col12\" >0.63</td>\n",
       "                        <td id=\"T_bd83f132_16a7_11ea_95e7_e0d55eb0dab9row16_col13\" class=\"data row16 col13\" >-0.046</td>\n",
       "                        <td id=\"T_bd83f132_16a7_11ea_95e7_e0d55eb0dab9row16_col14\" class=\"data row16 col14\" >0.37</td>\n",
       "                        <td id=\"T_bd83f132_16a7_11ea_95e7_e0d55eb0dab9row16_col15\" class=\"data row16 col15\" >0.51</td>\n",
       "                        <td id=\"T_bd83f132_16a7_11ea_95e7_e0d55eb0dab9row16_col16\" class=\"data row16 col16\" >1.0</td>\n",
       "                        <td id=\"T_bd83f132_16a7_11ea_95e7_e0d55eb0dab9row16_col17\" class=\"data row16 col17\" >-0.011</td>\n",
       "                        <td id=\"T_bd83f132_16a7_11ea_95e7_e0d55eb0dab9row16_col18\" class=\"data row16 col18\" >0.47</td>\n",
       "                        <td id=\"T_bd83f132_16a7_11ea_95e7_e0d55eb0dab9row16_col19\" class=\"data row16 col19\" >0.28</td>\n",
       "                        <td id=\"T_bd83f132_16a7_11ea_95e7_e0d55eb0dab9row16_col20\" class=\"data row16 col20\" >0.63</td>\n",
       "                        <td id=\"T_bd83f132_16a7_11ea_95e7_e0d55eb0dab9row16_col21\" class=\"data row16 col21\" >-0.045</td>\n",
       "                        <td id=\"T_bd83f132_16a7_11ea_95e7_e0d55eb0dab9row16_col22\" class=\"data row16 col22\" >0.37</td>\n",
       "                        <td id=\"T_bd83f132_16a7_11ea_95e7_e0d55eb0dab9row16_col23\" class=\"data row16 col23\" >0.51</td>\n",
       "            </tr>\n",
       "            <tr>\n",
       "                        <th id=\"T_bd83f132_16a7_11ea_95e7_e0d55eb0dab9level0_row17\" class=\"row_heading level0 row17\" >17</th>\n",
       "                        <td id=\"T_bd83f132_16a7_11ea_95e7_e0d55eb0dab9row17_col0\" class=\"data row17 col0\" >-0.011</td>\n",
       "                        <td id=\"T_bd83f132_16a7_11ea_95e7_e0d55eb0dab9row17_col1\" class=\"data row17 col1\" >0.99</td>\n",
       "                        <td id=\"T_bd83f132_16a7_11ea_95e7_e0d55eb0dab9row17_col2\" class=\"data row17 col2\" >0.079</td>\n",
       "                        <td id=\"T_bd83f132_16a7_11ea_95e7_e0d55eb0dab9row17_col3\" class=\"data row17 col3\" >0.047</td>\n",
       "                        <td id=\"T_bd83f132_16a7_11ea_95e7_e0d55eb0dab9row17_col4\" class=\"data row17 col4\" >0.021</td>\n",
       "                        <td id=\"T_bd83f132_16a7_11ea_95e7_e0d55eb0dab9row17_col5\" class=\"data row17 col5\" >-0.0053</td>\n",
       "                        <td id=\"T_bd83f132_16a7_11ea_95e7_e0d55eb0dab9row17_col6\" class=\"data row17 col6\" >0.012</td>\n",
       "                        <td id=\"T_bd83f132_16a7_11ea_95e7_e0d55eb0dab9row17_col7\" class=\"data row17 col7\" >0.02</td>\n",
       "                        <td id=\"T_bd83f132_16a7_11ea_95e7_e0d55eb0dab9row17_col8\" class=\"data row17 col8\" >-0.011</td>\n",
       "                        <td id=\"T_bd83f132_16a7_11ea_95e7_e0d55eb0dab9row17_col9\" class=\"data row17 col9\" >1.0</td>\n",
       "                        <td id=\"T_bd83f132_16a7_11ea_95e7_e0d55eb0dab9row17_col10\" class=\"data row17 col10\" >0.079</td>\n",
       "                        <td id=\"T_bd83f132_16a7_11ea_95e7_e0d55eb0dab9row17_col11\" class=\"data row17 col11\" >0.047</td>\n",
       "                        <td id=\"T_bd83f132_16a7_11ea_95e7_e0d55eb0dab9row17_col12\" class=\"data row17 col12\" >0.021</td>\n",
       "                        <td id=\"T_bd83f132_16a7_11ea_95e7_e0d55eb0dab9row17_col13\" class=\"data row17 col13\" >-0.0049</td>\n",
       "                        <td id=\"T_bd83f132_16a7_11ea_95e7_e0d55eb0dab9row17_col14\" class=\"data row17 col14\" >0.013</td>\n",
       "                        <td id=\"T_bd83f132_16a7_11ea_95e7_e0d55eb0dab9row17_col15\" class=\"data row17 col15\" >0.021</td>\n",
       "                        <td id=\"T_bd83f132_16a7_11ea_95e7_e0d55eb0dab9row17_col16\" class=\"data row17 col16\" >-0.011</td>\n",
       "                        <td id=\"T_bd83f132_16a7_11ea_95e7_e0d55eb0dab9row17_col17\" class=\"data row17 col17\" >1.0</td>\n",
       "                        <td id=\"T_bd83f132_16a7_11ea_95e7_e0d55eb0dab9row17_col18\" class=\"data row17 col18\" >0.079</td>\n",
       "                        <td id=\"T_bd83f132_16a7_11ea_95e7_e0d55eb0dab9row17_col19\" class=\"data row17 col19\" >0.048</td>\n",
       "                        <td id=\"T_bd83f132_16a7_11ea_95e7_e0d55eb0dab9row17_col20\" class=\"data row17 col20\" >0.021</td>\n",
       "                        <td id=\"T_bd83f132_16a7_11ea_95e7_e0d55eb0dab9row17_col21\" class=\"data row17 col21\" >-0.0044</td>\n",
       "                        <td id=\"T_bd83f132_16a7_11ea_95e7_e0d55eb0dab9row17_col22\" class=\"data row17 col22\" >0.013</td>\n",
       "                        <td id=\"T_bd83f132_16a7_11ea_95e7_e0d55eb0dab9row17_col23\" class=\"data row17 col23\" >0.021</td>\n",
       "            </tr>\n",
       "            <tr>\n",
       "                        <th id=\"T_bd83f132_16a7_11ea_95e7_e0d55eb0dab9level0_row18\" class=\"row_heading level0 row18\" >18</th>\n",
       "                        <td id=\"T_bd83f132_16a7_11ea_95e7_e0d55eb0dab9row18_col0\" class=\"data row18 col0\" >0.47</td>\n",
       "                        <td id=\"T_bd83f132_16a7_11ea_95e7_e0d55eb0dab9row18_col1\" class=\"data row18 col1\" >0.08</td>\n",
       "                        <td id=\"T_bd83f132_16a7_11ea_95e7_e0d55eb0dab9row18_col2\" class=\"data row18 col2\" >0.99</td>\n",
       "                        <td id=\"T_bd83f132_16a7_11ea_95e7_e0d55eb0dab9row18_col3\" class=\"data row18 col3\" >0.5</td>\n",
       "                        <td id=\"T_bd83f132_16a7_11ea_95e7_e0d55eb0dab9row18_col4\" class=\"data row18 col4\" >0.8</td>\n",
       "                        <td id=\"T_bd83f132_16a7_11ea_95e7_e0d55eb0dab9row18_col5\" class=\"data row18 col5\" >-0.16</td>\n",
       "                        <td id=\"T_bd83f132_16a7_11ea_95e7_e0d55eb0dab9row18_col6\" class=\"data row18 col6\" >0.57</td>\n",
       "                        <td id=\"T_bd83f132_16a7_11ea_95e7_e0d55eb0dab9row18_col7\" class=\"data row18 col7\" >0.87</td>\n",
       "                        <td id=\"T_bd83f132_16a7_11ea_95e7_e0d55eb0dab9row18_col8\" class=\"data row18 col8\" >0.47</td>\n",
       "                        <td id=\"T_bd83f132_16a7_11ea_95e7_e0d55eb0dab9row18_col9\" class=\"data row18 col9\" >0.08</td>\n",
       "                        <td id=\"T_bd83f132_16a7_11ea_95e7_e0d55eb0dab9row18_col10\" class=\"data row18 col10\" >1.0</td>\n",
       "                        <td id=\"T_bd83f132_16a7_11ea_95e7_e0d55eb0dab9row18_col11\" class=\"data row18 col11\" >0.5</td>\n",
       "                        <td id=\"T_bd83f132_16a7_11ea_95e7_e0d55eb0dab9row18_col12\" class=\"data row18 col12\" >0.8</td>\n",
       "                        <td id=\"T_bd83f132_16a7_11ea_95e7_e0d55eb0dab9row18_col13\" class=\"data row18 col13\" >-0.16</td>\n",
       "                        <td id=\"T_bd83f132_16a7_11ea_95e7_e0d55eb0dab9row18_col14\" class=\"data row18 col14\" >0.57</td>\n",
       "                        <td id=\"T_bd83f132_16a7_11ea_95e7_e0d55eb0dab9row18_col15\" class=\"data row18 col15\" >0.88</td>\n",
       "                        <td id=\"T_bd83f132_16a7_11ea_95e7_e0d55eb0dab9row18_col16\" class=\"data row18 col16\" >0.47</td>\n",
       "                        <td id=\"T_bd83f132_16a7_11ea_95e7_e0d55eb0dab9row18_col17\" class=\"data row18 col17\" >0.079</td>\n",
       "                        <td id=\"T_bd83f132_16a7_11ea_95e7_e0d55eb0dab9row18_col18\" class=\"data row18 col18\" >1.0</td>\n",
       "                        <td id=\"T_bd83f132_16a7_11ea_95e7_e0d55eb0dab9row18_col19\" class=\"data row18 col19\" >0.5</td>\n",
       "                        <td id=\"T_bd83f132_16a7_11ea_95e7_e0d55eb0dab9row18_col20\" class=\"data row18 col20\" >0.8</td>\n",
       "                        <td id=\"T_bd83f132_16a7_11ea_95e7_e0d55eb0dab9row18_col21\" class=\"data row18 col21\" >-0.16</td>\n",
       "                        <td id=\"T_bd83f132_16a7_11ea_95e7_e0d55eb0dab9row18_col22\" class=\"data row18 col22\" >0.57</td>\n",
       "                        <td id=\"T_bd83f132_16a7_11ea_95e7_e0d55eb0dab9row18_col23\" class=\"data row18 col23\" >0.88</td>\n",
       "            </tr>\n",
       "            <tr>\n",
       "                        <th id=\"T_bd83f132_16a7_11ea_95e7_e0d55eb0dab9level0_row19\" class=\"row_heading level0 row19\" >19</th>\n",
       "                        <td id=\"T_bd83f132_16a7_11ea_95e7_e0d55eb0dab9row19_col0\" class=\"data row19 col0\" >0.28</td>\n",
       "                        <td id=\"T_bd83f132_16a7_11ea_95e7_e0d55eb0dab9row19_col1\" class=\"data row19 col1\" >0.048</td>\n",
       "                        <td id=\"T_bd83f132_16a7_11ea_95e7_e0d55eb0dab9row19_col2\" class=\"data row19 col2\" >0.49</td>\n",
       "                        <td id=\"T_bd83f132_16a7_11ea_95e7_e0d55eb0dab9row19_col3\" class=\"data row19 col3\" >0.99</td>\n",
       "                        <td id=\"T_bd83f132_16a7_11ea_95e7_e0d55eb0dab9row19_col4\" class=\"data row19 col4\" >0.3</td>\n",
       "                        <td id=\"T_bd83f132_16a7_11ea_95e7_e0d55eb0dab9row19_col5\" class=\"data row19 col5\" >0.51</td>\n",
       "                        <td id=\"T_bd83f132_16a7_11ea_95e7_e0d55eb0dab9row19_col6\" class=\"data row19 col6\" >0.29</td>\n",
       "                        <td id=\"T_bd83f132_16a7_11ea_95e7_e0d55eb0dab9row19_col7\" class=\"data row19 col7\" >0.43</td>\n",
       "                        <td id=\"T_bd83f132_16a7_11ea_95e7_e0d55eb0dab9row19_col8\" class=\"data row19 col8\" >0.28</td>\n",
       "                        <td id=\"T_bd83f132_16a7_11ea_95e7_e0d55eb0dab9row19_col9\" class=\"data row19 col9\" >0.048</td>\n",
       "                        <td id=\"T_bd83f132_16a7_11ea_95e7_e0d55eb0dab9row19_col10\" class=\"data row19 col10\" >0.5</td>\n",
       "                        <td id=\"T_bd83f132_16a7_11ea_95e7_e0d55eb0dab9row19_col11\" class=\"data row19 col11\" >1.0</td>\n",
       "                        <td id=\"T_bd83f132_16a7_11ea_95e7_e0d55eb0dab9row19_col12\" class=\"data row19 col12\" >0.3</td>\n",
       "                        <td id=\"T_bd83f132_16a7_11ea_95e7_e0d55eb0dab9row19_col13\" class=\"data row19 col13\" >0.51</td>\n",
       "                        <td id=\"T_bd83f132_16a7_11ea_95e7_e0d55eb0dab9row19_col14\" class=\"data row19 col14\" >0.3</td>\n",
       "                        <td id=\"T_bd83f132_16a7_11ea_95e7_e0d55eb0dab9row19_col15\" class=\"data row19 col15\" >0.43</td>\n",
       "                        <td id=\"T_bd83f132_16a7_11ea_95e7_e0d55eb0dab9row19_col16\" class=\"data row19 col16\" >0.28</td>\n",
       "                        <td id=\"T_bd83f132_16a7_11ea_95e7_e0d55eb0dab9row19_col17\" class=\"data row19 col17\" >0.048</td>\n",
       "                        <td id=\"T_bd83f132_16a7_11ea_95e7_e0d55eb0dab9row19_col18\" class=\"data row19 col18\" >0.5</td>\n",
       "                        <td id=\"T_bd83f132_16a7_11ea_95e7_e0d55eb0dab9row19_col19\" class=\"data row19 col19\" >1.0</td>\n",
       "                        <td id=\"T_bd83f132_16a7_11ea_95e7_e0d55eb0dab9row19_col20\" class=\"data row19 col20\" >0.3</td>\n",
       "                        <td id=\"T_bd83f132_16a7_11ea_95e7_e0d55eb0dab9row19_col21\" class=\"data row19 col21\" >0.51</td>\n",
       "                        <td id=\"T_bd83f132_16a7_11ea_95e7_e0d55eb0dab9row19_col22\" class=\"data row19 col22\" >0.3</td>\n",
       "                        <td id=\"T_bd83f132_16a7_11ea_95e7_e0d55eb0dab9row19_col23\" class=\"data row19 col23\" >0.44</td>\n",
       "            </tr>\n",
       "            <tr>\n",
       "                        <th id=\"T_bd83f132_16a7_11ea_95e7_e0d55eb0dab9level0_row20\" class=\"row_heading level0 row20\" >20</th>\n",
       "                        <td id=\"T_bd83f132_16a7_11ea_95e7_e0d55eb0dab9row20_col0\" class=\"data row20 col0\" >0.63</td>\n",
       "                        <td id=\"T_bd83f132_16a7_11ea_95e7_e0d55eb0dab9row20_col1\" class=\"data row20 col1\" >0.021</td>\n",
       "                        <td id=\"T_bd83f132_16a7_11ea_95e7_e0d55eb0dab9row20_col2\" class=\"data row20 col2\" >0.8</td>\n",
       "                        <td id=\"T_bd83f132_16a7_11ea_95e7_e0d55eb0dab9row20_col3\" class=\"data row20 col3\" >0.3</td>\n",
       "                        <td id=\"T_bd83f132_16a7_11ea_95e7_e0d55eb0dab9row20_col4\" class=\"data row20 col4\" >1.0</td>\n",
       "                        <td id=\"T_bd83f132_16a7_11ea_95e7_e0d55eb0dab9row20_col5\" class=\"data row20 col5\" >-0.24</td>\n",
       "                        <td id=\"T_bd83f132_16a7_11ea_95e7_e0d55eb0dab9row20_col6\" class=\"data row20 col6\" >0.55</td>\n",
       "                        <td id=\"T_bd83f132_16a7_11ea_95e7_e0d55eb0dab9row20_col7\" class=\"data row20 col7\" >0.86</td>\n",
       "                        <td id=\"T_bd83f132_16a7_11ea_95e7_e0d55eb0dab9row20_col8\" class=\"data row20 col8\" >0.63</td>\n",
       "                        <td id=\"T_bd83f132_16a7_11ea_95e7_e0d55eb0dab9row20_col9\" class=\"data row20 col9\" >0.021</td>\n",
       "                        <td id=\"T_bd83f132_16a7_11ea_95e7_e0d55eb0dab9row20_col10\" class=\"data row20 col10\" >0.8</td>\n",
       "                        <td id=\"T_bd83f132_16a7_11ea_95e7_e0d55eb0dab9row20_col11\" class=\"data row20 col11\" >0.3</td>\n",
       "                        <td id=\"T_bd83f132_16a7_11ea_95e7_e0d55eb0dab9row20_col12\" class=\"data row20 col12\" >1.0</td>\n",
       "                        <td id=\"T_bd83f132_16a7_11ea_95e7_e0d55eb0dab9row20_col13\" class=\"data row20 col13\" >-0.24</td>\n",
       "                        <td id=\"T_bd83f132_16a7_11ea_95e7_e0d55eb0dab9row20_col14\" class=\"data row20 col14\" >0.55</td>\n",
       "                        <td id=\"T_bd83f132_16a7_11ea_95e7_e0d55eb0dab9row20_col15\" class=\"data row20 col15\" >0.86</td>\n",
       "                        <td id=\"T_bd83f132_16a7_11ea_95e7_e0d55eb0dab9row20_col16\" class=\"data row20 col16\" >0.63</td>\n",
       "                        <td id=\"T_bd83f132_16a7_11ea_95e7_e0d55eb0dab9row20_col17\" class=\"data row20 col17\" >0.021</td>\n",
       "                        <td id=\"T_bd83f132_16a7_11ea_95e7_e0d55eb0dab9row20_col18\" class=\"data row20 col18\" >0.8</td>\n",
       "                        <td id=\"T_bd83f132_16a7_11ea_95e7_e0d55eb0dab9row20_col19\" class=\"data row20 col19\" >0.3</td>\n",
       "                        <td id=\"T_bd83f132_16a7_11ea_95e7_e0d55eb0dab9row20_col20\" class=\"data row20 col20\" >1.0</td>\n",
       "                        <td id=\"T_bd83f132_16a7_11ea_95e7_e0d55eb0dab9row20_col21\" class=\"data row20 col21\" >-0.24</td>\n",
       "                        <td id=\"T_bd83f132_16a7_11ea_95e7_e0d55eb0dab9row20_col22\" class=\"data row20 col22\" >0.55</td>\n",
       "                        <td id=\"T_bd83f132_16a7_11ea_95e7_e0d55eb0dab9row20_col23\" class=\"data row20 col23\" >0.86</td>\n",
       "            </tr>\n",
       "            <tr>\n",
       "                        <th id=\"T_bd83f132_16a7_11ea_95e7_e0d55eb0dab9level0_row21\" class=\"row_heading level0 row21\" >21</th>\n",
       "                        <td id=\"T_bd83f132_16a7_11ea_95e7_e0d55eb0dab9row21_col0\" class=\"data row21 col0\" >-0.046</td>\n",
       "                        <td id=\"T_bd83f132_16a7_11ea_95e7_e0d55eb0dab9row21_col1\" class=\"data row21 col1\" >-0.0042</td>\n",
       "                        <td id=\"T_bd83f132_16a7_11ea_95e7_e0d55eb0dab9row21_col2\" class=\"data row21 col2\" >-0.16</td>\n",
       "                        <td id=\"T_bd83f132_16a7_11ea_95e7_e0d55eb0dab9row21_col3\" class=\"data row21 col3\" >0.51</td>\n",
       "                        <td id=\"T_bd83f132_16a7_11ea_95e7_e0d55eb0dab9row21_col4\" class=\"data row21 col4\" >-0.24</td>\n",
       "                        <td id=\"T_bd83f132_16a7_11ea_95e7_e0d55eb0dab9row21_col5\" class=\"data row21 col5\" >1.0</td>\n",
       "                        <td id=\"T_bd83f132_16a7_11ea_95e7_e0d55eb0dab9row21_col6\" class=\"data row21 col6\" >-0.12</td>\n",
       "                        <td id=\"T_bd83f132_16a7_11ea_95e7_e0d55eb0dab9row21_col7\" class=\"data row21 col7\" >-0.11</td>\n",
       "                        <td id=\"T_bd83f132_16a7_11ea_95e7_e0d55eb0dab9row21_col8\" class=\"data row21 col8\" >-0.046</td>\n",
       "                        <td id=\"T_bd83f132_16a7_11ea_95e7_e0d55eb0dab9row21_col9\" class=\"data row21 col9\" >-0.0044</td>\n",
       "                        <td id=\"T_bd83f132_16a7_11ea_95e7_e0d55eb0dab9row21_col10\" class=\"data row21 col10\" >-0.16</td>\n",
       "                        <td id=\"T_bd83f132_16a7_11ea_95e7_e0d55eb0dab9row21_col11\" class=\"data row21 col11\" >0.51</td>\n",
       "                        <td id=\"T_bd83f132_16a7_11ea_95e7_e0d55eb0dab9row21_col12\" class=\"data row21 col12\" >-0.24</td>\n",
       "                        <td id=\"T_bd83f132_16a7_11ea_95e7_e0d55eb0dab9row21_col13\" class=\"data row21 col13\" >1.0</td>\n",
       "                        <td id=\"T_bd83f132_16a7_11ea_95e7_e0d55eb0dab9row21_col14\" class=\"data row21 col14\" >-0.12</td>\n",
       "                        <td id=\"T_bd83f132_16a7_11ea_95e7_e0d55eb0dab9row21_col15\" class=\"data row21 col15\" >-0.11</td>\n",
       "                        <td id=\"T_bd83f132_16a7_11ea_95e7_e0d55eb0dab9row21_col16\" class=\"data row21 col16\" >-0.045</td>\n",
       "                        <td id=\"T_bd83f132_16a7_11ea_95e7_e0d55eb0dab9row21_col17\" class=\"data row21 col17\" >-0.0044</td>\n",
       "                        <td id=\"T_bd83f132_16a7_11ea_95e7_e0d55eb0dab9row21_col18\" class=\"data row21 col18\" >-0.16</td>\n",
       "                        <td id=\"T_bd83f132_16a7_11ea_95e7_e0d55eb0dab9row21_col19\" class=\"data row21 col19\" >0.51</td>\n",
       "                        <td id=\"T_bd83f132_16a7_11ea_95e7_e0d55eb0dab9row21_col20\" class=\"data row21 col20\" >-0.24</td>\n",
       "                        <td id=\"T_bd83f132_16a7_11ea_95e7_e0d55eb0dab9row21_col21\" class=\"data row21 col21\" >1.0</td>\n",
       "                        <td id=\"T_bd83f132_16a7_11ea_95e7_e0d55eb0dab9row21_col22\" class=\"data row21 col22\" >-0.12</td>\n",
       "                        <td id=\"T_bd83f132_16a7_11ea_95e7_e0d55eb0dab9row21_col23\" class=\"data row21 col23\" >-0.11</td>\n",
       "            </tr>\n",
       "            <tr>\n",
       "                        <th id=\"T_bd83f132_16a7_11ea_95e7_e0d55eb0dab9level0_row22\" class=\"row_heading level0 row22\" >22</th>\n",
       "                        <td id=\"T_bd83f132_16a7_11ea_95e7_e0d55eb0dab9row22_col0\" class=\"data row22 col0\" >0.37</td>\n",
       "                        <td id=\"T_bd83f132_16a7_11ea_95e7_e0d55eb0dab9row22_col1\" class=\"data row22 col1\" >0.013</td>\n",
       "                        <td id=\"T_bd83f132_16a7_11ea_95e7_e0d55eb0dab9row22_col2\" class=\"data row22 col2\" >0.57</td>\n",
       "                        <td id=\"T_bd83f132_16a7_11ea_95e7_e0d55eb0dab9row22_col3\" class=\"data row22 col3\" >0.29</td>\n",
       "                        <td id=\"T_bd83f132_16a7_11ea_95e7_e0d55eb0dab9row22_col4\" class=\"data row22 col4\" >0.55</td>\n",
       "                        <td id=\"T_bd83f132_16a7_11ea_95e7_e0d55eb0dab9row22_col5\" class=\"data row22 col5\" >-0.12</td>\n",
       "                        <td id=\"T_bd83f132_16a7_11ea_95e7_e0d55eb0dab9row22_col6\" class=\"data row22 col6\" >0.99</td>\n",
       "                        <td id=\"T_bd83f132_16a7_11ea_95e7_e0d55eb0dab9row22_col7\" class=\"data row22 col7\" >0.58</td>\n",
       "                        <td id=\"T_bd83f132_16a7_11ea_95e7_e0d55eb0dab9row22_col8\" class=\"data row22 col8\" >0.37</td>\n",
       "                        <td id=\"T_bd83f132_16a7_11ea_95e7_e0d55eb0dab9row22_col9\" class=\"data row22 col9\" >0.013</td>\n",
       "                        <td id=\"T_bd83f132_16a7_11ea_95e7_e0d55eb0dab9row22_col10\" class=\"data row22 col10\" >0.57</td>\n",
       "                        <td id=\"T_bd83f132_16a7_11ea_95e7_e0d55eb0dab9row22_col11\" class=\"data row22 col11\" >0.3</td>\n",
       "                        <td id=\"T_bd83f132_16a7_11ea_95e7_e0d55eb0dab9row22_col12\" class=\"data row22 col12\" >0.55</td>\n",
       "                        <td id=\"T_bd83f132_16a7_11ea_95e7_e0d55eb0dab9row22_col13\" class=\"data row22 col13\" >-0.12</td>\n",
       "                        <td id=\"T_bd83f132_16a7_11ea_95e7_e0d55eb0dab9row22_col14\" class=\"data row22 col14\" >0.99</td>\n",
       "                        <td id=\"T_bd83f132_16a7_11ea_95e7_e0d55eb0dab9row22_col15\" class=\"data row22 col15\" >0.58</td>\n",
       "                        <td id=\"T_bd83f132_16a7_11ea_95e7_e0d55eb0dab9row22_col16\" class=\"data row22 col16\" >0.37</td>\n",
       "                        <td id=\"T_bd83f132_16a7_11ea_95e7_e0d55eb0dab9row22_col17\" class=\"data row22 col17\" >0.013</td>\n",
       "                        <td id=\"T_bd83f132_16a7_11ea_95e7_e0d55eb0dab9row22_col18\" class=\"data row22 col18\" >0.57</td>\n",
       "                        <td id=\"T_bd83f132_16a7_11ea_95e7_e0d55eb0dab9row22_col19\" class=\"data row22 col19\" >0.3</td>\n",
       "                        <td id=\"T_bd83f132_16a7_11ea_95e7_e0d55eb0dab9row22_col20\" class=\"data row22 col20\" >0.55</td>\n",
       "                        <td id=\"T_bd83f132_16a7_11ea_95e7_e0d55eb0dab9row22_col21\" class=\"data row22 col21\" >-0.12</td>\n",
       "                        <td id=\"T_bd83f132_16a7_11ea_95e7_e0d55eb0dab9row22_col22\" class=\"data row22 col22\" >1.0</td>\n",
       "                        <td id=\"T_bd83f132_16a7_11ea_95e7_e0d55eb0dab9row22_col23\" class=\"data row22 col23\" >0.58</td>\n",
       "            </tr>\n",
       "            <tr>\n",
       "                        <th id=\"T_bd83f132_16a7_11ea_95e7_e0d55eb0dab9level0_row23\" class=\"row_heading level0 row23\" >23</th>\n",
       "                        <td id=\"T_bd83f132_16a7_11ea_95e7_e0d55eb0dab9row23_col0\" class=\"data row23 col0\" >0.51</td>\n",
       "                        <td id=\"T_bd83f132_16a7_11ea_95e7_e0d55eb0dab9row23_col1\" class=\"data row23 col1\" >0.021</td>\n",
       "                        <td id=\"T_bd83f132_16a7_11ea_95e7_e0d55eb0dab9row23_col2\" class=\"data row23 col2\" >0.87</td>\n",
       "                        <td id=\"T_bd83f132_16a7_11ea_95e7_e0d55eb0dab9row23_col3\" class=\"data row23 col3\" >0.43</td>\n",
       "                        <td id=\"T_bd83f132_16a7_11ea_95e7_e0d55eb0dab9row23_col4\" class=\"data row23 col4\" >0.86</td>\n",
       "                        <td id=\"T_bd83f132_16a7_11ea_95e7_e0d55eb0dab9row23_col5\" class=\"data row23 col5\" >-0.11</td>\n",
       "                        <td id=\"T_bd83f132_16a7_11ea_95e7_e0d55eb0dab9row23_col6\" class=\"data row23 col6\" >0.58</td>\n",
       "                        <td id=\"T_bd83f132_16a7_11ea_95e7_e0d55eb0dab9row23_col7\" class=\"data row23 col7\" >0.99</td>\n",
       "                        <td id=\"T_bd83f132_16a7_11ea_95e7_e0d55eb0dab9row23_col8\" class=\"data row23 col8\" >0.51</td>\n",
       "                        <td id=\"T_bd83f132_16a7_11ea_95e7_e0d55eb0dab9row23_col9\" class=\"data row23 col9\" >0.021</td>\n",
       "                        <td id=\"T_bd83f132_16a7_11ea_95e7_e0d55eb0dab9row23_col10\" class=\"data row23 col10\" >0.88</td>\n",
       "                        <td id=\"T_bd83f132_16a7_11ea_95e7_e0d55eb0dab9row23_col11\" class=\"data row23 col11\" >0.43</td>\n",
       "                        <td id=\"T_bd83f132_16a7_11ea_95e7_e0d55eb0dab9row23_col12\" class=\"data row23 col12\" >0.86</td>\n",
       "                        <td id=\"T_bd83f132_16a7_11ea_95e7_e0d55eb0dab9row23_col13\" class=\"data row23 col13\" >-0.11</td>\n",
       "                        <td id=\"T_bd83f132_16a7_11ea_95e7_e0d55eb0dab9row23_col14\" class=\"data row23 col14\" >0.58</td>\n",
       "                        <td id=\"T_bd83f132_16a7_11ea_95e7_e0d55eb0dab9row23_col15\" class=\"data row23 col15\" >1.0</td>\n",
       "                        <td id=\"T_bd83f132_16a7_11ea_95e7_e0d55eb0dab9row23_col16\" class=\"data row23 col16\" >0.51</td>\n",
       "                        <td id=\"T_bd83f132_16a7_11ea_95e7_e0d55eb0dab9row23_col17\" class=\"data row23 col17\" >0.021</td>\n",
       "                        <td id=\"T_bd83f132_16a7_11ea_95e7_e0d55eb0dab9row23_col18\" class=\"data row23 col18\" >0.88</td>\n",
       "                        <td id=\"T_bd83f132_16a7_11ea_95e7_e0d55eb0dab9row23_col19\" class=\"data row23 col19\" >0.44</td>\n",
       "                        <td id=\"T_bd83f132_16a7_11ea_95e7_e0d55eb0dab9row23_col20\" class=\"data row23 col20\" >0.86</td>\n",
       "                        <td id=\"T_bd83f132_16a7_11ea_95e7_e0d55eb0dab9row23_col21\" class=\"data row23 col21\" >-0.11</td>\n",
       "                        <td id=\"T_bd83f132_16a7_11ea_95e7_e0d55eb0dab9row23_col22\" class=\"data row23 col22\" >0.58</td>\n",
       "                        <td id=\"T_bd83f132_16a7_11ea_95e7_e0d55eb0dab9row23_col23\" class=\"data row23 col23\" >1.0</td>\n",
       "            </tr>\n",
       "    </tbody></table>"
      ],
      "text/plain": [
       "<pandas.io.formats.style.Styler at 0x7f5d21bdd4a8>"
      ]
     },
     "execution_count": 9,
     "metadata": {},
     "output_type": "execute_result"
    }
   ],
   "source": [
    "X_train.corr(method='spearman').style.format(\"{:.2}\").background_gradient(cmap=plt.get_cmap('coolwarm'), axis=1)"
   ]
  },
  {
   "cell_type": "markdown",
   "metadata": {},
   "source": [
    "## Imbalanced baseline"
   ]
  },
  {
   "cell_type": "code",
   "execution_count": 10,
   "metadata": {},
   "outputs": [
    {
     "name": "stdout",
     "output_type": "stream",
     "text": [
      "\n",
      "LOGISTIC REGRESSION\n",
      "TRAIN AND VALIDATION SETS:\n",
      "1 of KFold 10\n"
     ]
    },
    {
     "name": "stderr",
     "output_type": "stream",
     "text": [
      "/usr/local/lib/python3.6/dist-packages/sklearn/linear_model/logistic.py:947: ConvergenceWarning: lbfgs failed to converge. Increase the number of iterations.\n",
      "  \"of iterations.\", ConvergenceWarning)\n"
     ]
    },
    {
     "name": "stdout",
     "output_type": "stream",
     "text": [
      "ROC AUC score: 0.5908926138454347\n",
      "2 of KFold 10\n"
     ]
    },
    {
     "name": "stderr",
     "output_type": "stream",
     "text": [
      "/usr/local/lib/python3.6/dist-packages/sklearn/linear_model/logistic.py:947: ConvergenceWarning: lbfgs failed to converge. Increase the number of iterations.\n",
      "  \"of iterations.\", ConvergenceWarning)\n"
     ]
    },
    {
     "name": "stdout",
     "output_type": "stream",
     "text": [
      "ROC AUC score: 0.5919350482631771\n",
      "3 of KFold 10\n"
     ]
    },
    {
     "name": "stderr",
     "output_type": "stream",
     "text": [
      "/usr/local/lib/python3.6/dist-packages/sklearn/linear_model/logistic.py:947: ConvergenceWarning: lbfgs failed to converge. Increase the number of iterations.\n",
      "  \"of iterations.\", ConvergenceWarning)\n"
     ]
    },
    {
     "name": "stdout",
     "output_type": "stream",
     "text": [
      "ROC AUC score: 0.6057978731076592\n",
      "4 of KFold 10\n"
     ]
    },
    {
     "name": "stderr",
     "output_type": "stream",
     "text": [
      "/usr/local/lib/python3.6/dist-packages/sklearn/linear_model/logistic.py:947: ConvergenceWarning: lbfgs failed to converge. Increase the number of iterations.\n",
      "  \"of iterations.\", ConvergenceWarning)\n"
     ]
    },
    {
     "name": "stdout",
     "output_type": "stream",
     "text": [
      "ROC AUC score: 0.6044253555887252\n",
      "5 of KFold 10\n"
     ]
    },
    {
     "name": "stderr",
     "output_type": "stream",
     "text": [
      "/usr/local/lib/python3.6/dist-packages/sklearn/linear_model/logistic.py:947: ConvergenceWarning: lbfgs failed to converge. Increase the number of iterations.\n",
      "  \"of iterations.\", ConvergenceWarning)\n"
     ]
    },
    {
     "name": "stdout",
     "output_type": "stream",
     "text": [
      "ROC AUC score: 0.5953225727031408\n",
      "6 of KFold 10\n"
     ]
    },
    {
     "name": "stderr",
     "output_type": "stream",
     "text": [
      "/usr/local/lib/python3.6/dist-packages/sklearn/linear_model/logistic.py:947: ConvergenceWarning: lbfgs failed to converge. Increase the number of iterations.\n",
      "  \"of iterations.\", ConvergenceWarning)\n"
     ]
    },
    {
     "name": "stdout",
     "output_type": "stream",
     "text": [
      "ROC AUC score: 0.6049722238663363\n",
      "7 of KFold 10\n"
     ]
    },
    {
     "name": "stderr",
     "output_type": "stream",
     "text": [
      "/usr/local/lib/python3.6/dist-packages/sklearn/linear_model/logistic.py:947: ConvergenceWarning: lbfgs failed to converge. Increase the number of iterations.\n",
      "  \"of iterations.\", ConvergenceWarning)\n"
     ]
    },
    {
     "name": "stdout",
     "output_type": "stream",
     "text": [
      "ROC AUC score: 0.5782688124925704\n",
      "8 of KFold 10\n"
     ]
    },
    {
     "name": "stderr",
     "output_type": "stream",
     "text": [
      "/usr/local/lib/python3.6/dist-packages/sklearn/linear_model/logistic.py:947: ConvergenceWarning: lbfgs failed to converge. Increase the number of iterations.\n",
      "  \"of iterations.\", ConvergenceWarning)\n"
     ]
    },
    {
     "name": "stdout",
     "output_type": "stream",
     "text": [
      "ROC AUC score: 0.5927267513835842\n",
      "9 of KFold 10\n"
     ]
    },
    {
     "name": "stderr",
     "output_type": "stream",
     "text": [
      "/usr/local/lib/python3.6/dist-packages/sklearn/linear_model/logistic.py:947: ConvergenceWarning: lbfgs failed to converge. Increase the number of iterations.\n",
      "  \"of iterations.\", ConvergenceWarning)\n"
     ]
    },
    {
     "name": "stdout",
     "output_type": "stream",
     "text": [
      "ROC AUC score: 0.6000638386024842\n",
      "10 of KFold 10\n",
      "ROC AUC score: 0.5994973238519621\n",
      "\n",
      "CROSS VALIDANTION SUMMARY:\n",
      "Mean: 0.5963902413705074\n",
      "Std deviation: 0.008018018527064321\n",
      "\n",
      "TEST SET:\n",
      "F1-Score(micro): 0.6825192802056556\n",
      "F1-Score(macro): 0.5805004178031438\n",
      "F1-Score(weighted): 0.6994485614557682\n",
      "F1-Score(None): [0.78737446 0.37362637]\n",
      "Accuracy: 0.6825192802056556\n",
      "Sensitivity: 0.44556451612903225\n",
      "Specificity: 0.7464635473340587\n",
      "Confusion Matrix: [0.7464635473340587, 0.45]\n",
      "ROC AUC score: 0.5960140317315457\n",
      "CPU times: user 16.3 s, sys: 8.81 s, total: 25.1 s\n",
      "Wall time: 3.23 s\n"
     ]
    },
    {
     "name": "stderr",
     "output_type": "stream",
     "text": [
      "/usr/local/lib/python3.6/dist-packages/sklearn/linear_model/logistic.py:947: ConvergenceWarning: lbfgs failed to converge. Increase the number of iterations.\n",
      "  \"of iterations.\", ConvergenceWarning)\n"
     ]
    }
   ],
   "source": [
    "%%time\n",
    "LogisticRegr_(X_train, y_train, X_test, y_test)"
   ]
  },
  {
   "cell_type": "code",
   "execution_count": 11,
   "metadata": {},
   "outputs": [
    {
     "name": "stdout",
     "output_type": "stream",
     "text": [
      "CPU times: user 18 µs, sys: 1e+03 ns, total: 19 µs\n",
      "Wall time: 4.29 µs\n",
      "\n",
      "DECISION TREE\n",
      "TRAIN AND VALIDATION SETS:\n",
      "1 of KFold 10\n",
      "ROC AUC score: 0.6562176165803109\n",
      "2 of KFold 10\n",
      "ROC AUC score: 0.646337250856611\n",
      "3 of KFold 10\n",
      "ROC AUC score: 0.6543847197194385\n",
      "4 of KFold 10\n",
      "ROC AUC score: 0.6503154129315571\n",
      "5 of KFold 10\n",
      "ROC AUC score: 0.6498069671864112\n",
      "6 of KFold 10\n",
      "ROC AUC score: 0.6456894146296092\n",
      "7 of KFold 10\n",
      "ROC AUC score: 0.6429256035321872\n",
      "8 of KFold 10\n",
      "ROC AUC score: 0.6437798520695197\n",
      "9 of KFold 10\n",
      "ROC AUC score: 0.6568554502051439\n",
      "10 of KFold 10\n",
      "ROC AUC score: 0.6521722533111767\n",
      "\n",
      "CROSS VALIDANTION SUMMARY:\n",
      "Mean: 0.6498484541021965\n",
      "Std deviation: 0.0047983506905780095\n",
      "\n",
      "TEST SET:\n",
      "F1-Score(micro): 0.7443111491954679\n",
      "F1-Score(macro): 0.6406284996569807\n",
      "F1-Score(weighted): 0.7516166270278792\n",
      "F1-Score(None): [0.83365852 0.44759848]\n",
      "Accuracy: 0.7443111491954679\n",
      "Sensitivity: 0.4874551971326165\n",
      "Specificity: 0.8136259218957804\n",
      "Confusion Matrix: [0.8136259218957804, 0.49]\n",
      "ROC AUC score: 0.6505405595141984\n",
      "CPU times: user 2.91 s, sys: 83.8 ms, total: 3 s\n",
      "Wall time: 2.81 s\n"
     ]
    }
   ],
   "source": [
    "%%time\n",
    "DecisionTree_(X_train, y_train, X_test, y_test)"
   ]
  },
  {
   "cell_type": "code",
   "execution_count": 12,
   "metadata": {},
   "outputs": [
    {
     "name": "stdout",
     "output_type": "stream",
     "text": [
      "CPU times: user 2 µs, sys: 0 ns, total: 2 µs\n",
      "Wall time: 3.58 µs\n",
      "RANDOM FOREST\n",
      "TRAIN AND VALIDATION SETS:\n",
      "1 of KFold 10\n",
      "ROC AUC score: 0.6145776356747188\n",
      "2 of KFold 10\n",
      "ROC AUC score: 0.5950240209217529\n",
      "3 of KFold 10\n",
      "ROC AUC score: 0.5977449330751605\n",
      "4 of KFold 10\n",
      "ROC AUC score: 0.6190118669670174\n",
      "5 of KFold 10\n",
      "ROC AUC score: 0.5925863661436063\n",
      "6 of KFold 10\n",
      "ROC AUC score: 0.603066142959674\n",
      "7 of KFold 10\n",
      "ROC AUC score: 0.6038533696685318\n",
      "8 of KFold 10\n",
      "ROC AUC score: 0.6063678695116085\n",
      "9 of KFold 10\n",
      "ROC AUC score: 0.5955950120838243\n",
      "10 of KFold 10\n",
      "ROC AUC score: 0.5965547049820968\n",
      "\n",
      "CROSS VALIDANTION SUMMARY:\n",
      "Mean: 0.6024381921987991\n",
      "Std deviation: 0.008339015684739486\n",
      "\n",
      "TEST SET:\n",
      "F1-Score(micro): 0.7502618299533467\n",
      "F1-Score(macro): 0.600698047977482\n",
      "F1-Score(weighted): 0.7412107547839921\n",
      "F1-Score(None): [0.84507708 0.35631902]\n",
      "Accuracy: 0.7502618299533467\n",
      "Sensitivity: 0.32526881720430106\n",
      "Specificity: 0.8649498246886712\n",
      "Confusion Matrix: [0.8649498246886712, 0.33]\n",
      "ROC AUC score: 0.5951093209464862\n",
      "CPU times: user 35.6 s, sys: 50 ms, total: 35.6 s\n",
      "Wall time: 35.6 s\n"
     ]
    }
   ],
   "source": [
    "%%time\n",
    "RandomForest_(X_train, y_train, X_test, y_test)"
   ]
  },
  {
   "cell_type": "code",
   "execution_count": 13,
   "metadata": {},
   "outputs": [
    {
     "name": "stdout",
     "output_type": "stream",
     "text": [
      "CPU times: user 0 ns, sys: 2 µs, total: 2 µs\n",
      "Wall time: 3.58 µs\n",
      "NEURAL NETWORK\n",
      "TRAIN AND VALIDATION SETS:\n",
      "1 of KFold 10\n"
     ]
    },
    {
     "name": "stderr",
     "output_type": "stream",
     "text": [
      "/usr/local/lib/python3.6/dist-packages/sklearn/neural_network/multilayer_perceptron.py:566: ConvergenceWarning: Stochastic Optimizer: Maximum iterations (200) reached and the optimization hasn't converged yet.\n",
      "  % self.max_iter, ConvergenceWarning)\n"
     ]
    },
    {
     "name": "stdout",
     "output_type": "stream",
     "text": [
      "ROC AUC score: 0.5998373991825205\n",
      "2 of KFold 10\n"
     ]
    },
    {
     "name": "stderr",
     "output_type": "stream",
     "text": [
      "/usr/local/lib/python3.6/dist-packages/sklearn/neural_network/multilayer_perceptron.py:566: ConvergenceWarning: Stochastic Optimizer: Maximum iterations (200) reached and the optimization hasn't converged yet.\n",
      "  % self.max_iter, ConvergenceWarning)\n"
     ]
    },
    {
     "name": "stdout",
     "output_type": "stream",
     "text": [
      "ROC AUC score: 0.5881907786916841\n",
      "3 of KFold 10\n"
     ]
    },
    {
     "name": "stderr",
     "output_type": "stream",
     "text": [
      "/usr/local/lib/python3.6/dist-packages/sklearn/neural_network/multilayer_perceptron.py:566: ConvergenceWarning: Stochastic Optimizer: Maximum iterations (200) reached and the optimization hasn't converged yet.\n",
      "  % self.max_iter, ConvergenceWarning)\n"
     ]
    },
    {
     "name": "stdout",
     "output_type": "stream",
     "text": [
      "ROC AUC score: 0.5880084892658138\n",
      "4 of KFold 10\n"
     ]
    },
    {
     "name": "stderr",
     "output_type": "stream",
     "text": [
      "/usr/local/lib/python3.6/dist-packages/sklearn/neural_network/multilayer_perceptron.py:566: ConvergenceWarning: Stochastic Optimizer: Maximum iterations (200) reached and the optimization hasn't converged yet.\n",
      "  % self.max_iter, ConvergenceWarning)\n"
     ]
    },
    {
     "name": "stdout",
     "output_type": "stream",
     "text": [
      "ROC AUC score: 0.58282132303825\n",
      "5 of KFold 10\n"
     ]
    },
    {
     "name": "stderr",
     "output_type": "stream",
     "text": [
      "/usr/local/lib/python3.6/dist-packages/sklearn/neural_network/multilayer_perceptron.py:566: ConvergenceWarning: Stochastic Optimizer: Maximum iterations (200) reached and the optimization hasn't converged yet.\n",
      "  % self.max_iter, ConvergenceWarning)\n"
     ]
    },
    {
     "name": "stdout",
     "output_type": "stream",
     "text": [
      "ROC AUC score: 0.5945583497758561\n",
      "6 of KFold 10\n"
     ]
    },
    {
     "name": "stderr",
     "output_type": "stream",
     "text": [
      "/usr/local/lib/python3.6/dist-packages/sklearn/neural_network/multilayer_perceptron.py:566: ConvergenceWarning: Stochastic Optimizer: Maximum iterations (200) reached and the optimization hasn't converged yet.\n",
      "  % self.max_iter, ConvergenceWarning)\n"
     ]
    },
    {
     "name": "stdout",
     "output_type": "stream",
     "text": [
      "ROC AUC score: 0.6003165071654913\n",
      "7 of KFold 10\n"
     ]
    },
    {
     "name": "stderr",
     "output_type": "stream",
     "text": [
      "/usr/local/lib/python3.6/dist-packages/sklearn/neural_network/multilayer_perceptron.py:566: ConvergenceWarning: Stochastic Optimizer: Maximum iterations (200) reached and the optimization hasn't converged yet.\n",
      "  % self.max_iter, ConvergenceWarning)\n"
     ]
    },
    {
     "name": "stdout",
     "output_type": "stream",
     "text": [
      "ROC AUC score: 0.5738195081020562\n",
      "8 of KFold 10\n"
     ]
    },
    {
     "name": "stderr",
     "output_type": "stream",
     "text": [
      "/usr/local/lib/python3.6/dist-packages/sklearn/neural_network/multilayer_perceptron.py:566: ConvergenceWarning: Stochastic Optimizer: Maximum iterations (200) reached and the optimization hasn't converged yet.\n",
      "  % self.max_iter, ConvergenceWarning)\n"
     ]
    },
    {
     "name": "stdout",
     "output_type": "stream",
     "text": [
      "ROC AUC score: 0.5932483776738476\n",
      "9 of KFold 10\n"
     ]
    },
    {
     "name": "stderr",
     "output_type": "stream",
     "text": [
      "/usr/local/lib/python3.6/dist-packages/sklearn/neural_network/multilayer_perceptron.py:566: ConvergenceWarning: Stochastic Optimizer: Maximum iterations (200) reached and the optimization hasn't converged yet.\n",
      "  % self.max_iter, ConvergenceWarning)\n"
     ]
    },
    {
     "name": "stdout",
     "output_type": "stream",
     "text": [
      "ROC AUC score: 0.5921975400626399\n",
      "10 of KFold 10\n",
      "ROC AUC score: 0.5972694386928082\n",
      "\n",
      "CROSS VALIDANTION SUMMARY:\n",
      "Mean: 0.5910267711650967\n",
      "Std deviation: 0.00776046198155098\n",
      "\n",
      "TEST SET:\n",
      "F1-Score(micro): 0.8239074550128535\n",
      "F1-Score(macro): 0.607664860618065\n",
      "F1-Score(weighted): 0.7751402088130156\n",
      "F1-Score(None): [0.89893719 0.31639253]\n",
      "Accuracy: 0.8239074550128535\n",
      "Sensitivity: 0.1917562724014337\n",
      "Specificity: 0.9944988514085359\n",
      "Confusion Matrix: [0.9944988514085359, 0.19]\n",
      "ROC AUC score: 0.5931275619049848\n",
      "CPU times: user 30min 38s, sys: 15min 6s, total: 45min 45s\n",
      "Wall time: 5min 44s\n"
     ]
    },
    {
     "name": "stderr",
     "output_type": "stream",
     "text": [
      "/usr/local/lib/python3.6/dist-packages/sklearn/neural_network/multilayer_perceptron.py:566: ConvergenceWarning: Stochastic Optimizer: Maximum iterations (200) reached and the optimization hasn't converged yet.\n",
      "  % self.max_iter, ConvergenceWarning)\n"
     ]
    }
   ],
   "source": [
    "%%time\n",
    "NN_(X_train, y_train, X_test, y_test)"
   ]
  },
  {
   "cell_type": "markdown",
   "metadata": {},
   "source": [
    "## Undersampling"
   ]
  },
  {
   "cell_type": "code",
   "execution_count": 14,
   "metadata": {},
   "outputs": [
    {
     "name": "stdout",
     "output_type": "stream",
     "text": [
      "Resampling dataset using Random UnderSampling (RUS)...\n",
      "... DONE!\n",
      "X and Y RUS: 20840 20840\n"
     ]
    }
   ],
   "source": [
    "print(\"Resampling dataset using Random UnderSampling (RUS)...\")\n",
    "X_RUS, y_RUS = RandomUnderSampler(random_state=42).fit_sample(X_train, y_train.values.ravel())\n",
    "print(\"... DONE!\")\n",
    "print(\"X and Y RUS:\", len(X_RUS), len(y_RUS))"
   ]
  },
  {
   "cell_type": "code",
   "execution_count": 15,
   "metadata": {},
   "outputs": [
    {
     "name": "stdout",
     "output_type": "stream",
     "text": [
      "\n",
      "LOGISTIC REGRESSION\n",
      "TRAIN AND VALIDATION SETS:\n",
      "1 of KFold 10\n",
      "ROC AUC score: 0.5956872740742123\n",
      "2 of KFold 10\n",
      "ROC AUC score: 0.6129966516385879\n",
      "3 of KFold 10\n",
      "ROC AUC score: 0.59375\n",
      "4 of KFold 10\n",
      "ROC AUC score: 0.5944655486140202\n",
      "5 of KFold 10\n",
      "ROC AUC score: 0.5872934922658679\n",
      "6 of KFold 10\n"
     ]
    },
    {
     "name": "stderr",
     "output_type": "stream",
     "text": [
      "/usr/local/lib/python3.6/dist-packages/sklearn/linear_model/logistic.py:947: ConvergenceWarning: lbfgs failed to converge. Increase the number of iterations.\n",
      "  \"of iterations.\", ConvergenceWarning)\n",
      "/usr/local/lib/python3.6/dist-packages/sklearn/linear_model/logistic.py:947: ConvergenceWarning: lbfgs failed to converge. Increase the number of iterations.\n",
      "  \"of iterations.\", ConvergenceWarning)\n"
     ]
    },
    {
     "name": "stdout",
     "output_type": "stream",
     "text": [
      "ROC AUC score: 0.6008044649076607\n",
      "7 of KFold 10\n",
      "ROC AUC score: 0.6026252233685244\n",
      "8 of KFold 10\n",
      "ROC AUC score: 0.6014445846801377\n",
      "9 of KFold 10\n"
     ]
    },
    {
     "name": "stderr",
     "output_type": "stream",
     "text": [
      "/usr/local/lib/python3.6/dist-packages/sklearn/linear_model/logistic.py:947: ConvergenceWarning: lbfgs failed to converge. Increase the number of iterations.\n",
      "  \"of iterations.\", ConvergenceWarning)\n"
     ]
    },
    {
     "name": "stdout",
     "output_type": "stream",
     "text": [
      "ROC AUC score: 0.6166659782578282\n",
      "10 of KFold 10\n",
      "ROC AUC score: 0.5957883670888156\n",
      "\n",
      "CROSS VALIDANTION SUMMARY:\n",
      "Mean: 0.6001521584895654\n",
      "Std deviation: 0.008506159515886125\n",
      "\n",
      "TEST SET:\n",
      "F1-Score(micro): 0.6843282871560507\n",
      "F1-Score(macro): 0.5804856228740634\n",
      "F1-Score(weighted): 0.7004943970772826\n",
      "F1-Score(None): [0.78920431 0.37176694]\n",
      "Accuracy: 0.6843282871560507\n",
      "Sensitivity: 0.43951612903225806\n",
      "Specificity: 0.7503929391851046\n",
      "Confusion Matrix: [0.7503929391851046, 0.44]\n",
      "ROC AUC score: 0.5949545341086813\n",
      "CPU times: user 7.89 s, sys: 4.53 s, total: 12.4 s\n",
      "Wall time: 1.6 s\n"
     ]
    }
   ],
   "source": [
    "%%time\n",
    "LogisticRegr_(X_RUS, y_RUS, X_test, y_test)"
   ]
  },
  {
   "cell_type": "code",
   "execution_count": 16,
   "metadata": {},
   "outputs": [
    {
     "name": "stdout",
     "output_type": "stream",
     "text": [
      "CPU times: user 10 µs, sys: 4 µs, total: 14 µs\n",
      "Wall time: 4.77 µs\n",
      "\n",
      "DECISION TREE\n",
      "TRAIN AND VALIDATION SETS:\n",
      "1 of KFold 10\n",
      "ROC AUC score: 0.6266856578679134\n",
      "2 of KFold 10\n",
      "ROC AUC score: 0.6159772205963775\n",
      "3 of KFold 10\n",
      "ROC AUC score: 0.6005954851503412\n",
      "4 of KFold 10\n",
      "ROC AUC score: 0.5962358778952666\n",
      "5 of KFold 10\n",
      "ROC AUC score: 0.6172633382578134\n",
      "6 of KFold 10\n",
      "ROC AUC score: 0.6144967917678973\n",
      "7 of KFold 10\n",
      "ROC AUC score: 0.6092043202179088\n",
      "8 of KFold 10\n",
      "ROC AUC score: 0.6216258043726212\n",
      "9 of KFold 10\n",
      "ROC AUC score: 0.6094110373699406\n",
      "10 of KFold 10\n",
      "ROC AUC score: 0.595450264732776\n",
      "\n",
      "CROSS VALIDANTION SUMMARY:\n",
      "Mean: 0.6106945798228856\n",
      "Std deviation: 0.010040025975633365\n",
      "\n",
      "TEST SET:\n",
      "F1-Score(micro): 0.7239360182804911\n",
      "F1-Score(macro): 0.6063978757973397\n",
      "F1-Score(weighted): 0.7300694225271511\n",
      "F1-Score(None): [0.82148684 0.39130891]\n",
      "Accuracy: 0.7239360182804913\n",
      "Sensitivity: 0.4175627240143369\n",
      "Specificity: 0.8066134687462218\n",
      "Confusion Matrix: [0.8066134687462218, 0.42]\n",
      "ROC AUC score: 0.6120880963802793\n",
      "CPU times: user 1.44 s, sys: 69.5 ms, total: 1.51 s\n",
      "Wall time: 1.37 s\n"
     ]
    }
   ],
   "source": [
    "%%time\n",
    "DecisionTree_(X_RUS, y_RUS, X_test, y_test)"
   ]
  },
  {
   "cell_type": "code",
   "execution_count": 17,
   "metadata": {},
   "outputs": [
    {
     "name": "stdout",
     "output_type": "stream",
     "text": [
      "CPU times: user 2 µs, sys: 0 ns, total: 2 µs\n",
      "Wall time: 3.81 µs\n",
      "RANDOM FOREST\n",
      "TRAIN AND VALIDATION SETS:\n",
      "1 of KFold 10\n",
      "ROC AUC score: 0.5802420445476021\n",
      "2 of KFold 10\n",
      "ROC AUC score: 0.5850786996757098\n",
      "3 of KFold 10\n",
      "ROC AUC score: 0.5707837576092972\n",
      "4 of KFold 10\n",
      "ROC AUC score: 0.5698385174367707\n",
      "5 of KFold 10\n",
      "ROC AUC score: 0.5781616173881368\n",
      "6 of KFold 10\n",
      "ROC AUC score: 0.5900272968733187\n",
      "7 of KFold 10\n",
      "ROC AUC score: 0.5708798280680512\n",
      "8 of KFold 10\n",
      "ROC AUC score: 0.5537779542894455\n",
      "9 of KFold 10\n",
      "ROC AUC score: 0.5714508416131151\n",
      "10 of KFold 10\n",
      "ROC AUC score: 0.5613635243680086\n",
      "\n",
      "CROSS VALIDANTION SUMMARY:\n",
      "Mean: 0.5731604081869455\n",
      "Std deviation: 0.010204667312499225\n",
      "\n",
      "TEST SET:\n",
      "F1-Score(micro): 0.7411691897553081\n",
      "F1-Score(macro): 0.5707805976148138\n",
      "F1-Score(weighted): 0.7262738666645222\n",
      "F1-Score(None): [0.84121375 0.30034745]\n",
      "Accuracy: 0.741169189755308\n",
      "Sensitivity: 0.2614247311827957\n",
      "Specificity: 0.8706323298271068\n",
      "Confusion Matrix: [0.8706323298271068, 0.26]\n",
      "ROC AUC score: 0.5660285305049513\n",
      "CPU times: user 15.7 s, sys: 0 ns, total: 15.7 s\n",
      "Wall time: 15.7 s\n"
     ]
    }
   ],
   "source": [
    "%%time\n",
    "RandomForest_(X_RUS, y_RUS, X_test, y_test)"
   ]
  },
  {
   "cell_type": "code",
   "execution_count": 18,
   "metadata": {},
   "outputs": [
    {
     "name": "stdout",
     "output_type": "stream",
     "text": [
      "CPU times: user 2 µs, sys: 0 ns, total: 2 µs\n",
      "Wall time: 3.58 µs\n",
      "NEURAL NETWORK\n",
      "TRAIN AND VALIDATION SETS:\n",
      "1 of KFold 10\n"
     ]
    },
    {
     "name": "stderr",
     "output_type": "stream",
     "text": [
      "/usr/local/lib/python3.6/dist-packages/sklearn/neural_network/multilayer_perceptron.py:566: ConvergenceWarning: Stochastic Optimizer: Maximum iterations (200) reached and the optimization hasn't converged yet.\n",
      "  % self.max_iter, ConvergenceWarning)\n"
     ]
    },
    {
     "name": "stdout",
     "output_type": "stream",
     "text": [
      "ROC AUC score: 0.5723555440672703\n",
      "2 of KFold 10\n"
     ]
    },
    {
     "name": "stderr",
     "output_type": "stream",
     "text": [
      "/usr/local/lib/python3.6/dist-packages/sklearn/neural_network/multilayer_perceptron.py:566: ConvergenceWarning: Stochastic Optimizer: Maximum iterations (200) reached and the optimization hasn't converged yet.\n",
      "  % self.max_iter, ConvergenceWarning)\n"
     ]
    },
    {
     "name": "stdout",
     "output_type": "stream",
     "text": [
      "ROC AUC score: 0.5662263703234991\n",
      "3 of KFold 10\n"
     ]
    },
    {
     "name": "stderr",
     "output_type": "stream",
     "text": [
      "/usr/local/lib/python3.6/dist-packages/sklearn/neural_network/multilayer_perceptron.py:566: ConvergenceWarning: Stochastic Optimizer: Maximum iterations (200) reached and the optimization hasn't converged yet.\n",
      "  % self.max_iter, ConvergenceWarning)\n"
     ]
    },
    {
     "name": "stdout",
     "output_type": "stream",
     "text": [
      "ROC AUC score: 0.5640045655783066\n",
      "4 of KFold 10\n"
     ]
    },
    {
     "name": "stderr",
     "output_type": "stream",
     "text": [
      "/usr/local/lib/python3.6/dist-packages/sklearn/neural_network/multilayer_perceptron.py:566: ConvergenceWarning: Stochastic Optimizer: Maximum iterations (200) reached and the optimization hasn't converged yet.\n",
      "  % self.max_iter, ConvergenceWarning)\n"
     ]
    },
    {
     "name": "stdout",
     "output_type": "stream",
     "text": [
      "ROC AUC score: 0.5546772358999433\n",
      "5 of KFold 10\n"
     ]
    },
    {
     "name": "stderr",
     "output_type": "stream",
     "text": [
      "/usr/local/lib/python3.6/dist-packages/sklearn/neural_network/multilayer_perceptron.py:566: ConvergenceWarning: Stochastic Optimizer: Maximum iterations (200) reached and the optimization hasn't converged yet.\n",
      "  % self.max_iter, ConvergenceWarning)\n"
     ]
    },
    {
     "name": "stdout",
     "output_type": "stream",
     "text": [
      "ROC AUC score: 0.5648844096357909\n",
      "6 of KFold 10\n"
     ]
    },
    {
     "name": "stderr",
     "output_type": "stream",
     "text": [
      "/usr/local/lib/python3.6/dist-packages/sklearn/neural_network/multilayer_perceptron.py:566: ConvergenceWarning: Stochastic Optimizer: Maximum iterations (200) reached and the optimization hasn't converged yet.\n",
      "  % self.max_iter, ConvergenceWarning)\n"
     ]
    },
    {
     "name": "stdout",
     "output_type": "stream",
     "text": [
      "ROC AUC score: 0.5523850784643527\n",
      "7 of KFold 10\n",
      "ROC AUC score: 0.5582983495120976\n",
      "8 of KFold 10\n"
     ]
    },
    {
     "name": "stderr",
     "output_type": "stream",
     "text": [
      "/usr/local/lib/python3.6/dist-packages/sklearn/neural_network/multilayer_perceptron.py:566: ConvergenceWarning: Stochastic Optimizer: Maximum iterations (200) reached and the optimization hasn't converged yet.\n",
      "  % self.max_iter, ConvergenceWarning)\n"
     ]
    },
    {
     "name": "stdout",
     "output_type": "stream",
     "text": [
      "ROC AUC score: 0.5531885874842234\n",
      "9 of KFold 10\n"
     ]
    },
    {
     "name": "stderr",
     "output_type": "stream",
     "text": [
      "/usr/local/lib/python3.6/dist-packages/sklearn/neural_network/multilayer_perceptron.py:566: ConvergenceWarning: Stochastic Optimizer: Maximum iterations (200) reached and the optimization hasn't converged yet.\n",
      "  % self.max_iter, ConvergenceWarning)\n"
     ]
    },
    {
     "name": "stdout",
     "output_type": "stream",
     "text": [
      "ROC AUC score: 0.556156173761497\n",
      "10 of KFold 10\n",
      "ROC AUC score: 0.5771544101140513\n",
      "\n",
      "CROSS VALIDANTION SUMMARY:\n",
      "Mean: 0.5619330724841032\n",
      "Std deviation: 0.007991320643621107\n",
      "\n",
      "TEST SET:\n",
      "F1-Score(micro): 0.8108635627915833\n",
      "F1-Score(macro): 0.5571966899278088\n",
      "F1-Score(weighted): 0.749899909655381\n",
      "F1-Score(None): [0.89234521 0.22204817]\n",
      "Accuracy: 0.8108635627915833\n",
      "Sensitivity: 0.12701612903225806\n",
      "Specificity: 0.9954056341433926\n",
      "Confusion Matrix: [0.9954056341433926, 0.13]\n",
      "ROC AUC score: 0.5612108815878253\n",
      "CPU times: user 9min 4s, sys: 4min 55s, total: 14min\n",
      "Wall time: 1min 45s\n"
     ]
    },
    {
     "name": "stderr",
     "output_type": "stream",
     "text": [
      "/usr/local/lib/python3.6/dist-packages/sklearn/neural_network/multilayer_perceptron.py:566: ConvergenceWarning: Stochastic Optimizer: Maximum iterations (200) reached and the optimization hasn't converged yet.\n",
      "  % self.max_iter, ConvergenceWarning)\n"
     ]
    }
   ],
   "source": [
    "%%time\n",
    "NN_(X_RUS, y_RUS, X_test, y_test)"
   ]
  },
  {
   "cell_type": "code",
   "execution_count": 19,
   "metadata": {},
   "outputs": [
    {
     "name": "stdout",
     "output_type": "stream",
     "text": [
      "Resampling dataset using Edited Nearest Neighbour (ENN)...\n",
      "... DONE!\n",
      "X and Y ENN: 36089 36089\n"
     ]
    }
   ],
   "source": [
    "print(\"Resampling dataset using Edited Nearest Neighbour (ENN)...\")\n",
    "X_ENN, y_ENN = EditedNearestNeighbours(random_state=42).fit_sample(X_train, y_train.values.ravel())\n",
    "print(\"... DONE!\")\n",
    "print(\"X and Y ENN:\", len(X_ENN), len(y_ENN))"
   ]
  },
  {
   "cell_type": "code",
   "execution_count": 20,
   "metadata": {},
   "outputs": [
    {
     "name": "stdout",
     "output_type": "stream",
     "text": [
      "\n",
      "LOGISTIC REGRESSION\n",
      "TRAIN AND VALIDATION SETS:\n",
      "1 of KFold 10\n",
      "ROC AUC score: 0.593917057154171\n",
      "2 of KFold 10\n"
     ]
    },
    {
     "name": "stderr",
     "output_type": "stream",
     "text": [
      "/usr/local/lib/python3.6/dist-packages/sklearn/linear_model/logistic.py:947: ConvergenceWarning: lbfgs failed to converge. Increase the number of iterations.\n",
      "  \"of iterations.\", ConvergenceWarning)\n"
     ]
    },
    {
     "name": "stdout",
     "output_type": "stream",
     "text": [
      "ROC AUC score: 0.5969562178864505\n",
      "3 of KFold 10\n"
     ]
    },
    {
     "name": "stderr",
     "output_type": "stream",
     "text": [
      "/usr/local/lib/python3.6/dist-packages/sklearn/linear_model/logistic.py:947: ConvergenceWarning: lbfgs failed to converge. Increase the number of iterations.\n",
      "  \"of iterations.\", ConvergenceWarning)\n"
     ]
    },
    {
     "name": "stdout",
     "output_type": "stream",
     "text": [
      "ROC AUC score: 0.6064781198567141\n",
      "4 of KFold 10\n"
     ]
    },
    {
     "name": "stderr",
     "output_type": "stream",
     "text": [
      "/usr/local/lib/python3.6/dist-packages/sklearn/linear_model/logistic.py:947: ConvergenceWarning: lbfgs failed to converge. Increase the number of iterations.\n",
      "  \"of iterations.\", ConvergenceWarning)\n"
     ]
    },
    {
     "name": "stdout",
     "output_type": "stream",
     "text": [
      "ROC AUC score: 0.5871515411751829\n",
      "5 of KFold 10\n"
     ]
    },
    {
     "name": "stderr",
     "output_type": "stream",
     "text": [
      "/usr/local/lib/python3.6/dist-packages/sklearn/linear_model/logistic.py:947: ConvergenceWarning: lbfgs failed to converge. Increase the number of iterations.\n",
      "  \"of iterations.\", ConvergenceWarning)\n"
     ]
    },
    {
     "name": "stdout",
     "output_type": "stream",
     "text": [
      "ROC AUC score: 0.6117804691597755\n",
      "6 of KFold 10\n"
     ]
    },
    {
     "name": "stderr",
     "output_type": "stream",
     "text": [
      "/usr/local/lib/python3.6/dist-packages/sklearn/linear_model/logistic.py:947: ConvergenceWarning: lbfgs failed to converge. Increase the number of iterations.\n",
      "  \"of iterations.\", ConvergenceWarning)\n"
     ]
    },
    {
     "name": "stdout",
     "output_type": "stream",
     "text": [
      "ROC AUC score: 0.5826673285347894\n",
      "7 of KFold 10\n"
     ]
    },
    {
     "name": "stderr",
     "output_type": "stream",
     "text": [
      "/usr/local/lib/python3.6/dist-packages/sklearn/linear_model/logistic.py:947: ConvergenceWarning: lbfgs failed to converge. Increase the number of iterations.\n",
      "  \"of iterations.\", ConvergenceWarning)\n"
     ]
    },
    {
     "name": "stdout",
     "output_type": "stream",
     "text": [
      "ROC AUC score: 0.5868717435160593\n",
      "8 of KFold 10\n"
     ]
    },
    {
     "name": "stderr",
     "output_type": "stream",
     "text": [
      "/usr/local/lib/python3.6/dist-packages/sklearn/linear_model/logistic.py:947: ConvergenceWarning: lbfgs failed to converge. Increase the number of iterations.\n",
      "  \"of iterations.\", ConvergenceWarning)\n"
     ]
    },
    {
     "name": "stdout",
     "output_type": "stream",
     "text": [
      "ROC AUC score: 0.6127730187529431\n",
      "9 of KFold 10\n"
     ]
    },
    {
     "name": "stderr",
     "output_type": "stream",
     "text": [
      "/usr/local/lib/python3.6/dist-packages/sklearn/linear_model/logistic.py:947: ConvergenceWarning: lbfgs failed to converge. Increase the number of iterations.\n",
      "  \"of iterations.\", ConvergenceWarning)\n"
     ]
    },
    {
     "name": "stdout",
     "output_type": "stream",
     "text": [
      "ROC AUC score: 0.5994067465096611\n",
      "10 of KFold 10\n",
      "ROC AUC score: 0.5822425030827811\n",
      "\n",
      "CROSS VALIDANTION SUMMARY:\n",
      "Mean: 0.5960244745628529\n",
      "Std deviation: 0.010888757669461954\n",
      "\n",
      "TEST SET:\n",
      "F1-Score(micro): 0.6811387222698276\n",
      "F1-Score(macro): 0.5790676722501501\n",
      "F1-Score(weighted): 0.6982492405155857\n",
      "F1-Score(None): [0.78634769 0.37178766]\n",
      "Accuracy: 0.6811387222698276\n",
      "Sensitivity: 0.44399641577060933\n",
      "Specificity: 0.7451335993229355\n",
      "Confusion Matrix: [0.7451335993229355, 0.44]\n",
      "ROC AUC score: 0.5945650075467724\n",
      "CPU times: user 12 s, sys: 6.89 s, total: 18.9 s\n",
      "Wall time: 2.4 s\n"
     ]
    },
    {
     "name": "stderr",
     "output_type": "stream",
     "text": [
      "/usr/local/lib/python3.6/dist-packages/sklearn/linear_model/logistic.py:947: ConvergenceWarning: lbfgs failed to converge. Increase the number of iterations.\n",
      "  \"of iterations.\", ConvergenceWarning)\n"
     ]
    }
   ],
   "source": [
    "%%time\n",
    "LogisticRegr_(X_ENN, y_ENN, X_test, y_test)"
   ]
  },
  {
   "cell_type": "code",
   "execution_count": 21,
   "metadata": {},
   "outputs": [
    {
     "name": "stdout",
     "output_type": "stream",
     "text": [
      "CPU times: user 11 µs, sys: 6 µs, total: 17 µs\n",
      "Wall time: 4.77 µs\n",
      "\n",
      "DECISION TREE\n",
      "TRAIN AND VALIDATION SETS:\n",
      "1 of KFold 10\n",
      "ROC AUC score: 0.6532388463569166\n",
      "2 of KFold 10\n",
      "ROC AUC score: 0.6296758866526309\n",
      "3 of KFold 10\n",
      "ROC AUC score: 0.6491613418530352\n",
      "4 of KFold 10\n",
      "ROC AUC score: 0.6096061394424659\n",
      "5 of KFold 10\n",
      "ROC AUC score: 0.6411796790429319\n",
      "6 of KFold 10\n",
      "ROC AUC score: 0.6252026971126003\n",
      "7 of KFold 10\n",
      "ROC AUC score: 0.6538214249430342\n",
      "8 of KFold 10\n",
      "ROC AUC score: 0.6453645241821555\n",
      "9 of KFold 10\n",
      "ROC AUC score: 0.6346035257449286\n",
      "10 of KFold 10\n",
      "ROC AUC score: 0.6204985103924086\n",
      "\n",
      "CROSS VALIDANTION SUMMARY:\n",
      "Mean: 0.6362352575723108\n",
      "Std deviation: 0.01413304712999013\n",
      "\n",
      "TEST SET:\n",
      "F1-Score(micro): 0.7339807673997906\n",
      "F1-Score(macro): 0.6241304952747946\n",
      "F1-Score(weighted): 0.7409649076317603\n",
      "F1-Score(None): [0.82732835 0.42093264]\n",
      "Accuracy: 0.7339807673997906\n",
      "Sensitivity: 0.4549731182795699\n",
      "Specificity: 0.8092733647684681\n",
      "Confusion Matrix: [0.8092733647684681, 0.45]\n",
      "ROC AUC score: 0.632123241524019\n",
      "CPU times: user 2.38 s, sys: 82.6 ms, total: 2.46 s\n",
      "Wall time: 2.28 s\n"
     ]
    }
   ],
   "source": [
    "%%time\n",
    "DecisionTree_(X_ENN, y_ENN, X_test, y_test)"
   ]
  },
  {
   "cell_type": "code",
   "execution_count": 22,
   "metadata": {},
   "outputs": [
    {
     "name": "stdout",
     "output_type": "stream",
     "text": [
      "CPU times: user 2 µs, sys: 0 ns, total: 2 µs\n",
      "Wall time: 17.2 µs\n",
      "RANDOM FOREST\n",
      "TRAIN AND VALIDATION SETS:\n",
      "1 of KFold 10\n",
      "ROC AUC score: 0.6092368169218585\n",
      "2 of KFold 10\n",
      "ROC AUC score: 0.6011794930399581\n",
      "3 of KFold 10\n",
      "ROC AUC score: 0.5901870139090587\n",
      "4 of KFold 10\n",
      "ROC AUC score: 0.5623858115901761\n",
      "5 of KFold 10\n",
      "ROC AUC score: 0.5932097938777106\n",
      "6 of KFold 10\n",
      "ROC AUC score: 0.5874265740051294\n",
      "7 of KFold 10\n",
      "ROC AUC score: 0.6047103815619513\n",
      "8 of KFold 10\n",
      "ROC AUC score: 0.5897482064208748\n",
      "9 of KFold 10\n",
      "ROC AUC score: 0.5810499812556709\n",
      "10 of KFold 10\n",
      "ROC AUC score: 0.5755223305631859\n",
      "\n",
      "CROSS VALIDANTION SUMMARY:\n",
      "Mean: 0.5894656403145574\n",
      "Std deviation: 0.013333600168579372\n",
      "\n",
      "TEST SET:\n",
      "F1-Score(micro): 0.7458821289155481\n",
      "F1-Score(macro): 0.5901700215406847\n",
      "F1-Score(weighted): 0.7354195452411479\n",
      "F1-Score(None): [0.8427873  0.33755274]\n",
      "Accuracy: 0.745882128915548\n",
      "Sensitivity: 0.3046594982078853\n",
      "Specificity: 0.8649498246886712\n",
      "Confusion Matrix: [0.8649498246886712, 0.3]\n",
      "ROC AUC score: 0.5848046614482783\n",
      "CPU times: user 26.7 s, sys: 12 ms, total: 26.7 s\n",
      "Wall time: 26.7 s\n"
     ]
    }
   ],
   "source": [
    "%%time\n",
    "RandomForest_(X_ENN, y_ENN, X_test, y_test)"
   ]
  },
  {
   "cell_type": "code",
   "execution_count": 23,
   "metadata": {},
   "outputs": [
    {
     "name": "stdout",
     "output_type": "stream",
     "text": [
      "CPU times: user 2 µs, sys: 0 ns, total: 2 µs\n",
      "Wall time: 3.58 µs\n",
      "NEURAL NETWORK\n",
      "TRAIN AND VALIDATION SETS:\n",
      "1 of KFold 10\n"
     ]
    },
    {
     "name": "stderr",
     "output_type": "stream",
     "text": [
      "/usr/local/lib/python3.6/dist-packages/sklearn/neural_network/multilayer_perceptron.py:566: ConvergenceWarning: Stochastic Optimizer: Maximum iterations (200) reached and the optimization hasn't converged yet.\n",
      "  % self.max_iter, ConvergenceWarning)\n"
     ]
    },
    {
     "name": "stdout",
     "output_type": "stream",
     "text": [
      "ROC AUC score: 0.5804644876363957\n",
      "2 of KFold 10\n"
     ]
    },
    {
     "name": "stderr",
     "output_type": "stream",
     "text": [
      "/usr/local/lib/python3.6/dist-packages/sklearn/neural_network/multilayer_perceptron.py:566: ConvergenceWarning: Stochastic Optimizer: Maximum iterations (200) reached and the optimization hasn't converged yet.\n",
      "  % self.max_iter, ConvergenceWarning)\n"
     ]
    },
    {
     "name": "stdout",
     "output_type": "stream",
     "text": [
      "ROC AUC score: 0.5972605960978055\n",
      "3 of KFold 10\n"
     ]
    },
    {
     "name": "stderr",
     "output_type": "stream",
     "text": [
      "/usr/local/lib/python3.6/dist-packages/sklearn/neural_network/multilayer_perceptron.py:566: ConvergenceWarning: Stochastic Optimizer: Maximum iterations (200) reached and the optimization hasn't converged yet.\n",
      "  % self.max_iter, ConvergenceWarning)\n"
     ]
    },
    {
     "name": "stdout",
     "output_type": "stream",
     "text": [
      "ROC AUC score: 0.5944811533869042\n",
      "4 of KFold 10\n"
     ]
    },
    {
     "name": "stderr",
     "output_type": "stream",
     "text": [
      "/usr/local/lib/python3.6/dist-packages/sklearn/neural_network/multilayer_perceptron.py:566: ConvergenceWarning: Stochastic Optimizer: Maximum iterations (200) reached and the optimization hasn't converged yet.\n",
      "  % self.max_iter, ConvergenceWarning)\n"
     ]
    },
    {
     "name": "stdout",
     "output_type": "stream",
     "text": [
      "ROC AUC score: 0.5807843533462992\n",
      "5 of KFold 10\n"
     ]
    },
    {
     "name": "stderr",
     "output_type": "stream",
     "text": [
      "/usr/local/lib/python3.6/dist-packages/sklearn/neural_network/multilayer_perceptron.py:566: ConvergenceWarning: Stochastic Optimizer: Maximum iterations (200) reached and the optimization hasn't converged yet.\n",
      "  % self.max_iter, ConvergenceWarning)\n"
     ]
    },
    {
     "name": "stdout",
     "output_type": "stream",
     "text": [
      "ROC AUC score: 0.5850233519702702\n",
      "6 of KFold 10\n"
     ]
    },
    {
     "name": "stderr",
     "output_type": "stream",
     "text": [
      "/usr/local/lib/python3.6/dist-packages/sklearn/neural_network/multilayer_perceptron.py:566: ConvergenceWarning: Stochastic Optimizer: Maximum iterations (200) reached and the optimization hasn't converged yet.\n",
      "  % self.max_iter, ConvergenceWarning)\n"
     ]
    },
    {
     "name": "stdout",
     "output_type": "stream",
     "text": [
      "ROC AUC score: 0.5709171010176222\n",
      "7 of KFold 10\n"
     ]
    },
    {
     "name": "stderr",
     "output_type": "stream",
     "text": [
      "/usr/local/lib/python3.6/dist-packages/sklearn/neural_network/multilayer_perceptron.py:566: ConvergenceWarning: Stochastic Optimizer: Maximum iterations (200) reached and the optimization hasn't converged yet.\n",
      "  % self.max_iter, ConvergenceWarning)\n"
     ]
    },
    {
     "name": "stdout",
     "output_type": "stream",
     "text": [
      "ROC AUC score: 0.5769335713560035\n",
      "8 of KFold 10\n"
     ]
    },
    {
     "name": "stderr",
     "output_type": "stream",
     "text": [
      "/usr/local/lib/python3.6/dist-packages/sklearn/neural_network/multilayer_perceptron.py:566: ConvergenceWarning: Stochastic Optimizer: Maximum iterations (200) reached and the optimization hasn't converged yet.\n",
      "  % self.max_iter, ConvergenceWarning)\n"
     ]
    },
    {
     "name": "stdout",
     "output_type": "stream",
     "text": [
      "ROC AUC score: 0.5787283420126866\n",
      "9 of KFold 10\n"
     ]
    },
    {
     "name": "stderr",
     "output_type": "stream",
     "text": [
      "/usr/local/lib/python3.6/dist-packages/sklearn/neural_network/multilayer_perceptron.py:566: ConvergenceWarning: Stochastic Optimizer: Maximum iterations (200) reached and the optimization hasn't converged yet.\n",
      "  % self.max_iter, ConvergenceWarning)\n"
     ]
    },
    {
     "name": "stdout",
     "output_type": "stream",
     "text": [
      "ROC AUC score: 0.5874400317295311\n",
      "10 of KFold 10\n",
      "ROC AUC score: 0.5854893443210042\n",
      "\n",
      "CROSS VALIDANTION SUMMARY:\n",
      "Mean: 0.5837522332874523\n",
      "Std deviation: 0.0075624770041692125\n",
      "\n",
      "TEST SET:\n",
      "F1-Score(micro): 0.8170522707797772\n",
      "F1-Score(macro): 0.5835655908097677\n",
      "F1-Score(weighted): 0.762855572415577\n",
      "F1-Score(None): [0.89538587 0.27174531]\n",
      "Accuracy: 0.8170522707797772\n",
      "Sensitivity: 0.16061827956989247\n",
      "Specificity: 0.9941965904969169\n",
      "Confusion Matrix: [0.9941965904969169, 0.16]\n",
      "ROC AUC score: 0.5774074350334046\n",
      "CPU times: user 21min 4s, sys: 10min 32s, total: 31min 36s\n",
      "Wall time: 3min 57s\n"
     ]
    },
    {
     "name": "stderr",
     "output_type": "stream",
     "text": [
      "/usr/local/lib/python3.6/dist-packages/sklearn/neural_network/multilayer_perceptron.py:566: ConvergenceWarning: Stochastic Optimizer: Maximum iterations (200) reached and the optimization hasn't converged yet.\n",
      "  % self.max_iter, ConvergenceWarning)\n"
     ]
    }
   ],
   "source": [
    "%%time\n",
    "NN_(X_ENN, y_ENN, X_test, y_test)"
   ]
  },
  {
   "cell_type": "code",
   "execution_count": 24,
   "metadata": {},
   "outputs": [
    {
     "name": "stdout",
     "output_type": "stream",
     "text": [
      "Resampling dataset using Tomek's Link (TL)...\n",
      "... DONE!\n",
      "X and Y TL: 48129 48129\n"
     ]
    }
   ],
   "source": [
    "print(\"Resampling dataset using Tomek's Link (TL)...\")\n",
    "X_TL, y_TL = TomekLinks(random_state=42).fit_sample(X_train, y_train.values.ravel())\n",
    "print(\"... DONE!\")\n",
    "print(\"X and Y TL:\", len(X_TL), len(y_TL))"
   ]
  },
  {
   "cell_type": "code",
   "execution_count": 25,
   "metadata": {},
   "outputs": [
    {
     "name": "stdout",
     "output_type": "stream",
     "text": [
      "\n",
      "LOGISTIC REGRESSION\n",
      "TRAIN AND VALIDATION SETS:\n",
      "1 of KFold 10\n"
     ]
    },
    {
     "name": "stderr",
     "output_type": "stream",
     "text": [
      "/usr/local/lib/python3.6/dist-packages/sklearn/linear_model/logistic.py:947: ConvergenceWarning: lbfgs failed to converge. Increase the number of iterations.\n",
      "  \"of iterations.\", ConvergenceWarning)\n"
     ]
    },
    {
     "name": "stdout",
     "output_type": "stream",
     "text": [
      "ROC AUC score: 0.5880382303313602\n",
      "2 of KFold 10\n"
     ]
    },
    {
     "name": "stderr",
     "output_type": "stream",
     "text": [
      "/usr/local/lib/python3.6/dist-packages/sklearn/linear_model/logistic.py:947: ConvergenceWarning: lbfgs failed to converge. Increase the number of iterations.\n",
      "  \"of iterations.\", ConvergenceWarning)\n"
     ]
    },
    {
     "name": "stdout",
     "output_type": "stream",
     "text": [
      "ROC AUC score: 0.6005032116218769\n",
      "3 of KFold 10\n"
     ]
    },
    {
     "name": "stderr",
     "output_type": "stream",
     "text": [
      "/usr/local/lib/python3.6/dist-packages/sklearn/linear_model/logistic.py:947: ConvergenceWarning: lbfgs failed to converge. Increase the number of iterations.\n",
      "  \"of iterations.\", ConvergenceWarning)\n"
     ]
    },
    {
     "name": "stdout",
     "output_type": "stream",
     "text": [
      "ROC AUC score: 0.6015821944985187\n",
      "4 of KFold 10\n"
     ]
    },
    {
     "name": "stderr",
     "output_type": "stream",
     "text": [
      "/usr/local/lib/python3.6/dist-packages/sklearn/linear_model/logistic.py:947: ConvergenceWarning: lbfgs failed to converge. Increase the number of iterations.\n",
      "  \"of iterations.\", ConvergenceWarning)\n"
     ]
    },
    {
     "name": "stdout",
     "output_type": "stream",
     "text": [
      "ROC AUC score: 0.6003103550241663\n",
      "5 of KFold 10\n"
     ]
    },
    {
     "name": "stderr",
     "output_type": "stream",
     "text": [
      "/usr/local/lib/python3.6/dist-packages/sklearn/linear_model/logistic.py:947: ConvergenceWarning: lbfgs failed to converge. Increase the number of iterations.\n",
      "  \"of iterations.\", ConvergenceWarning)\n"
     ]
    },
    {
     "name": "stdout",
     "output_type": "stream",
     "text": [
      "ROC AUC score: 0.5993914908798689\n",
      "6 of KFold 10\n"
     ]
    },
    {
     "name": "stderr",
     "output_type": "stream",
     "text": [
      "/usr/local/lib/python3.6/dist-packages/sklearn/linear_model/logistic.py:947: ConvergenceWarning: lbfgs failed to converge. Increase the number of iterations.\n",
      "  \"of iterations.\", ConvergenceWarning)\n"
     ]
    },
    {
     "name": "stdout",
     "output_type": "stream",
     "text": [
      "ROC AUC score: 0.5968584451754492\n",
      "7 of KFold 10\n"
     ]
    },
    {
     "name": "stderr",
     "output_type": "stream",
     "text": [
      "/usr/local/lib/python3.6/dist-packages/sklearn/linear_model/logistic.py:947: ConvergenceWarning: lbfgs failed to converge. Increase the number of iterations.\n",
      "  \"of iterations.\", ConvergenceWarning)\n"
     ]
    },
    {
     "name": "stdout",
     "output_type": "stream",
     "text": [
      "ROC AUC score: 0.5863312938833029\n",
      "8 of KFold 10\n"
     ]
    },
    {
     "name": "stderr",
     "output_type": "stream",
     "text": [
      "/usr/local/lib/python3.6/dist-packages/sklearn/linear_model/logistic.py:947: ConvergenceWarning: lbfgs failed to converge. Increase the number of iterations.\n",
      "  \"of iterations.\", ConvergenceWarning)\n"
     ]
    },
    {
     "name": "stdout",
     "output_type": "stream",
     "text": [
      "ROC AUC score: 0.5906637876136227\n",
      "9 of KFold 10\n"
     ]
    },
    {
     "name": "stderr",
     "output_type": "stream",
     "text": [
      "/usr/local/lib/python3.6/dist-packages/sklearn/linear_model/logistic.py:947: ConvergenceWarning: lbfgs failed to converge. Increase the number of iterations.\n",
      "  \"of iterations.\", ConvergenceWarning)\n"
     ]
    },
    {
     "name": "stdout",
     "output_type": "stream",
     "text": [
      "ROC AUC score: 0.5988744564990175\n",
      "10 of KFold 10\n",
      "ROC AUC score: 0.5886927785728544\n",
      "\n",
      "CROSS VALIDANTION SUMMARY:\n",
      "Mean: 0.5951246244100037\n",
      "Std deviation: 0.00567099715259199\n",
      "\n",
      "TEST SET:\n",
      "F1-Score(micro): 0.6819004094068362\n",
      "F1-Score(macro): 0.5801251536247594\n",
      "F1-Score(weighted): 0.6989843239337832\n",
      "F1-Score(None): [0.78684446 0.37340585]\n",
      "Accuracy: 0.6819004094068362\n",
      "Sensitivity: 0.4460125448028674\n",
      "Specificity: 0.7455567645992021\n",
      "Confusion Matrix: [0.7455567645992021, 0.45]\n",
      "ROC AUC score: 0.5957846547010347\n",
      "CPU times: user 16.2 s, sys: 9.03 s, total: 25.2 s\n",
      "Wall time: 3.21 s\n"
     ]
    },
    {
     "name": "stderr",
     "output_type": "stream",
     "text": [
      "/usr/local/lib/python3.6/dist-packages/sklearn/linear_model/logistic.py:947: ConvergenceWarning: lbfgs failed to converge. Increase the number of iterations.\n",
      "  \"of iterations.\", ConvergenceWarning)\n"
     ]
    }
   ],
   "source": [
    "%%time\n",
    "LogisticRegr_(X_TL, y_TL, X_test, y_test)"
   ]
  },
  {
   "cell_type": "code",
   "execution_count": 26,
   "metadata": {},
   "outputs": [
    {
     "name": "stdout",
     "output_type": "stream",
     "text": [
      "CPU times: user 13 µs, sys: 6 µs, total: 19 µs\n",
      "Wall time: 4.77 µs\n",
      "\n",
      "DECISION TREE\n",
      "TRAIN AND VALIDATION SETS:\n",
      "1 of KFold 10\n",
      "ROC AUC score: 0.6534674590497667\n",
      "2 of KFold 10\n",
      "ROC AUC score: 0.641778253224958\n",
      "3 of KFold 10\n",
      "ROC AUC score: 0.6474689130040046\n",
      "4 of KFold 10\n",
      "ROC AUC score: 0.6610632668922367\n",
      "5 of KFold 10\n",
      "ROC AUC score: 0.6440069032084708\n",
      "6 of KFold 10\n",
      "ROC AUC score: 0.6410276783356754\n",
      "7 of KFold 10\n",
      "ROC AUC score: 0.6517105706327461\n",
      "8 of KFold 10\n",
      "ROC AUC score: 0.6486856474480909\n",
      "9 of KFold 10\n",
      "ROC AUC score: 0.6545917994063297\n",
      "10 of KFold 10\n",
      "ROC AUC score: 0.6580852347736421\n",
      "\n",
      "CROSS VALIDANTION SUMMARY:\n",
      "Mean: 0.6501885725975921\n",
      "Std deviation: 0.006446673984414025\n",
      "\n",
      "TEST SET:\n",
      "F1-Score(micro): 0.7431686184899552\n",
      "F1-Score(macro): 0.6401585060296917\n",
      "F1-Score(weighted): 0.750858402665964\n",
      "F1-Score(None): [0.83268724 0.44762977]\n",
      "Accuracy: 0.7431686184899553\n",
      "Sensitivity: 0.48969534050179214\n",
      "Specificity: 0.8115705476967718\n",
      "Confusion Matrix: [0.8115705476967718, 0.49]\n",
      "ROC AUC score: 0.650632944099282\n",
      "CPU times: user 3.06 s, sys: 79.6 ms, total: 3.14 s\n",
      "Wall time: 2.96 s\n"
     ]
    }
   ],
   "source": [
    "%%time\n",
    "DecisionTree_(X_TL, y_TL, X_test, y_test)"
   ]
  },
  {
   "cell_type": "code",
   "execution_count": 27,
   "metadata": {},
   "outputs": [
    {
     "name": "stdout",
     "output_type": "stream",
     "text": [
      "CPU times: user 2 µs, sys: 0 ns, total: 2 µs\n",
      "Wall time: 4.05 µs\n",
      "RANDOM FOREST\n",
      "TRAIN AND VALIDATION SETS:\n",
      "1 of KFold 10\n",
      "ROC AUC score: 0.610109050549657\n",
      "2 of KFold 10\n",
      "ROC AUC score: 0.5925701238103506\n",
      "3 of KFold 10\n",
      "ROC AUC score: 0.5903689157457956\n",
      "4 of KFold 10\n",
      "ROC AUC score: 0.6126901447887307\n",
      "5 of KFold 10\n",
      "ROC AUC score: 0.5914657609166116\n",
      "6 of KFold 10\n",
      "ROC AUC score: 0.6024844302975843\n",
      "7 of KFold 10\n",
      "ROC AUC score: 0.5995952094620564\n",
      "8 of KFold 10\n",
      "ROC AUC score: 0.5933801007013295\n",
      "9 of KFold 10\n",
      "ROC AUC score: 0.605526856264894\n",
      "10 of KFold 10\n",
      "ROC AUC score: 0.5840799217613861\n",
      "\n",
      "CROSS VALIDANTION SUMMARY:\n",
      "Mean: 0.5982270514298397\n",
      "Std deviation: 0.008869879591019007\n",
      "\n",
      "TEST SET:\n",
      "F1-Score(micro): 0.7522612586879939\n",
      "F1-Score(macro): 0.6009864373262909\n",
      "F1-Score(weighted): 0.7422495649284749\n",
      "F1-Score(None): [0.8466706  0.35530228]\n",
      "Accuracy: 0.7522612586879939\n",
      "Sensitivity: 0.32123655913978494\n",
      "Specificity: 0.8685769556280982\n",
      "Confusion Matrix: [0.8685769556280982, 0.32]\n",
      "ROC AUC score: 0.5949067573839416\n",
      "CPU times: user 36 s, sys: 60.9 ms, total: 36 s\n",
      "Wall time: 36 s\n"
     ]
    }
   ],
   "source": [
    "%%time\n",
    "RandomForest_(X_TL, y_TL, X_test, y_test)"
   ]
  },
  {
   "cell_type": "code",
   "execution_count": 28,
   "metadata": {},
   "outputs": [
    {
     "name": "stdout",
     "output_type": "stream",
     "text": [
      "CPU times: user 2 µs, sys: 0 ns, total: 2 µs\n",
      "Wall time: 4.05 µs\n",
      "NEURAL NETWORK\n",
      "TRAIN AND VALIDATION SETS:\n",
      "1 of KFold 10\n"
     ]
    },
    {
     "name": "stderr",
     "output_type": "stream",
     "text": [
      "/usr/local/lib/python3.6/dist-packages/sklearn/neural_network/multilayer_perceptron.py:566: ConvergenceWarning: Stochastic Optimizer: Maximum iterations (200) reached and the optimization hasn't converged yet.\n",
      "  % self.max_iter, ConvergenceWarning)\n"
     ]
    },
    {
     "name": "stdout",
     "output_type": "stream",
     "text": [
      "ROC AUC score: 0.584484079911679\n",
      "2 of KFold 10\n"
     ]
    },
    {
     "name": "stderr",
     "output_type": "stream",
     "text": [
      "/usr/local/lib/python3.6/dist-packages/sklearn/neural_network/multilayer_perceptron.py:566: ConvergenceWarning: Stochastic Optimizer: Maximum iterations (200) reached and the optimization hasn't converged yet.\n",
      "  % self.max_iter, ConvergenceWarning)\n"
     ]
    },
    {
     "name": "stdout",
     "output_type": "stream",
     "text": [
      "ROC AUC score: 0.5768475062731484\n",
      "3 of KFold 10\n"
     ]
    },
    {
     "name": "stderr",
     "output_type": "stream",
     "text": [
      "/usr/local/lib/python3.6/dist-packages/sklearn/neural_network/multilayer_perceptron.py:566: ConvergenceWarning: Stochastic Optimizer: Maximum iterations (200) reached and the optimization hasn't converged yet.\n",
      "  % self.max_iter, ConvergenceWarning)\n"
     ]
    },
    {
     "name": "stdout",
     "output_type": "stream",
     "text": [
      "ROC AUC score: 0.5798709599320863\n",
      "4 of KFold 10\n"
     ]
    },
    {
     "name": "stderr",
     "output_type": "stream",
     "text": [
      "/usr/local/lib/python3.6/dist-packages/sklearn/neural_network/multilayer_perceptron.py:566: ConvergenceWarning: Stochastic Optimizer: Maximum iterations (200) reached and the optimization hasn't converged yet.\n",
      "  % self.max_iter, ConvergenceWarning)\n"
     ]
    },
    {
     "name": "stdout",
     "output_type": "stream",
     "text": [
      "ROC AUC score: 0.5788940265816722\n",
      "5 of KFold 10\n"
     ]
    },
    {
     "name": "stderr",
     "output_type": "stream",
     "text": [
      "/usr/local/lib/python3.6/dist-packages/sklearn/neural_network/multilayer_perceptron.py:566: ConvergenceWarning: Stochastic Optimizer: Maximum iterations (200) reached and the optimization hasn't converged yet.\n",
      "  % self.max_iter, ConvergenceWarning)\n"
     ]
    },
    {
     "name": "stdout",
     "output_type": "stream",
     "text": [
      "ROC AUC score: 0.593996295204732\n",
      "6 of KFold 10\n"
     ]
    },
    {
     "name": "stderr",
     "output_type": "stream",
     "text": [
      "/usr/local/lib/python3.6/dist-packages/sklearn/neural_network/multilayer_perceptron.py:566: ConvergenceWarning: Stochastic Optimizer: Maximum iterations (200) reached and the optimization hasn't converged yet.\n",
      "  % self.max_iter, ConvergenceWarning)\n"
     ]
    },
    {
     "name": "stdout",
     "output_type": "stream",
     "text": [
      "ROC AUC score: 0.6026177965422651\n",
      "7 of KFold 10\n"
     ]
    },
    {
     "name": "stderr",
     "output_type": "stream",
     "text": [
      "/usr/local/lib/python3.6/dist-packages/sklearn/neural_network/multilayer_perceptron.py:566: ConvergenceWarning: Stochastic Optimizer: Maximum iterations (200) reached and the optimization hasn't converged yet.\n",
      "  % self.max_iter, ConvergenceWarning)\n"
     ]
    },
    {
     "name": "stdout",
     "output_type": "stream",
     "text": [
      "ROC AUC score: 0.5844381645776251\n",
      "8 of KFold 10\n"
     ]
    },
    {
     "name": "stderr",
     "output_type": "stream",
     "text": [
      "/usr/local/lib/python3.6/dist-packages/sklearn/neural_network/multilayer_perceptron.py:566: ConvergenceWarning: Stochastic Optimizer: Maximum iterations (200) reached and the optimization hasn't converged yet.\n",
      "  % self.max_iter, ConvergenceWarning)\n"
     ]
    },
    {
     "name": "stdout",
     "output_type": "stream",
     "text": [
      "ROC AUC score: 0.5991250582630598\n",
      "9 of KFold 10\n"
     ]
    },
    {
     "name": "stderr",
     "output_type": "stream",
     "text": [
      "/usr/local/lib/python3.6/dist-packages/sklearn/neural_network/multilayer_perceptron.py:566: ConvergenceWarning: Stochastic Optimizer: Maximum iterations (200) reached and the optimization hasn't converged yet.\n",
      "  % self.max_iter, ConvergenceWarning)\n"
     ]
    },
    {
     "name": "stdout",
     "output_type": "stream",
     "text": [
      "ROC AUC score: 0.5967451346210126\n",
      "10 of KFold 10\n",
      "ROC AUC score: 0.5747016150971548\n",
      "\n",
      "CROSS VALIDANTION SUMMARY:\n",
      "Mean: 0.5871720637004435\n",
      "Std deviation: 0.009582789859871158\n",
      "\n",
      "TEST SET:\n",
      "F1-Score(micro): 0.8178615633628489\n",
      "F1-Score(macro): 0.5804257579602469\n",
      "F1-Score(weighted): 0.7619059286761451\n",
      "F1-Score(None): [0.89605521 0.26479631]\n",
      "Accuracy: 0.8178615633628488\n",
      "Sensitivity: 0.1543458781362007\n",
      "Specificity: 0.9969169387014871\n",
      "Confusion Matrix: [0.9969169387014871, 0.15]\n",
      "ROC AUC score: 0.575631408418844\n",
      "CPU times: user 30min 30s, sys: 14min 54s, total: 45min 24s\n",
      "Wall time: 5min 41s\n"
     ]
    },
    {
     "name": "stderr",
     "output_type": "stream",
     "text": [
      "/usr/local/lib/python3.6/dist-packages/sklearn/neural_network/multilayer_perceptron.py:566: ConvergenceWarning: Stochastic Optimizer: Maximum iterations (200) reached and the optimization hasn't converged yet.\n",
      "  % self.max_iter, ConvergenceWarning)\n"
     ]
    }
   ],
   "source": [
    "%%time\n",
    "NN_(X_TL, y_TL, X_test, y_test)"
   ]
  },
  {
   "cell_type": "markdown",
   "metadata": {},
   "source": [
    "## Oversampling"
   ]
  },
  {
   "cell_type": "code",
   "execution_count": 29,
   "metadata": {},
   "outputs": [
    {
     "name": "stdout",
     "output_type": "stream",
     "text": [
      "Resampling dataset using Random OverSampling (ROS)...\n",
      "X and Y ROS: 77182 77182\n"
     ]
    },
    {
     "name": "stderr",
     "output_type": "stream",
     "text": [
      "/usr/local/lib/python3.6/dist-packages/sklearn/utils/validation.py:724: DataConversionWarning: A column-vector y was passed when a 1d array was expected. Please change the shape of y to (n_samples, ), for example using ravel().\n",
      "  y = column_or_1d(y, warn=True)\n"
     ]
    }
   ],
   "source": [
    "print(\"Resampling dataset using Random OverSampling (ROS)...\")\n",
    "ros = RandomOverSampler(random_state=42)\n",
    "X_ROS, y_ROS = ros.fit_resample(X_train, y_train)\n",
    "print(\"X and Y ROS:\", len(X_ROS), len(y_ROS))"
   ]
  },
  {
   "cell_type": "code",
   "execution_count": 30,
   "metadata": {},
   "outputs": [
    {
     "name": "stdout",
     "output_type": "stream",
     "text": [
      "CPU times: user 12 µs, sys: 5 µs, total: 17 µs\n",
      "Wall time: 5.25 µs\n",
      "\n",
      "LOGISTIC REGRESSION\n",
      "TRAIN AND VALIDATION SETS:\n",
      "1 of KFold 10\n"
     ]
    },
    {
     "name": "stderr",
     "output_type": "stream",
     "text": [
      "/usr/local/lib/python3.6/dist-packages/sklearn/linear_model/logistic.py:947: ConvergenceWarning: lbfgs failed to converge. Increase the number of iterations.\n",
      "  \"of iterations.\", ConvergenceWarning)\n"
     ]
    },
    {
     "name": "stdout",
     "output_type": "stream",
     "text": [
      "ROC AUC score: 0.597020725388601\n",
      "2 of KFold 10\n"
     ]
    },
    {
     "name": "stderr",
     "output_type": "stream",
     "text": [
      "/usr/local/lib/python3.6/dist-packages/sklearn/linear_model/logistic.py:947: ConvergenceWarning: lbfgs failed to converge. Increase the number of iterations.\n",
      "  \"of iterations.\", ConvergenceWarning)\n"
     ]
    },
    {
     "name": "stdout",
     "output_type": "stream",
     "text": [
      "ROC AUC score: 0.5995076444674786\n",
      "3 of KFold 10\n"
     ]
    },
    {
     "name": "stderr",
     "output_type": "stream",
     "text": [
      "/usr/local/lib/python3.6/dist-packages/sklearn/linear_model/logistic.py:947: ConvergenceWarning: lbfgs failed to converge. Increase the number of iterations.\n",
      "  \"of iterations.\", ConvergenceWarning)\n"
     ]
    },
    {
     "name": "stdout",
     "output_type": "stream",
     "text": [
      "ROC AUC score: 0.5969162995594713\n",
      "4 of KFold 10\n"
     ]
    },
    {
     "name": "stderr",
     "output_type": "stream",
     "text": [
      "/usr/local/lib/python3.6/dist-packages/sklearn/linear_model/logistic.py:947: ConvergenceWarning: lbfgs failed to converge. Increase the number of iterations.\n",
      "  \"of iterations.\", ConvergenceWarning)\n"
     ]
    },
    {
     "name": "stdout",
     "output_type": "stream",
     "text": [
      "ROC AUC score: 0.5975641357864732\n",
      "5 of KFold 10\n"
     ]
    },
    {
     "name": "stderr",
     "output_type": "stream",
     "text": [
      "/usr/local/lib/python3.6/dist-packages/sklearn/linear_model/logistic.py:947: ConvergenceWarning: lbfgs failed to converge. Increase the number of iterations.\n",
      "  \"of iterations.\", ConvergenceWarning)\n"
     ]
    },
    {
     "name": "stdout",
     "output_type": "stream",
     "text": [
      "ROC AUC score: 0.5944545218968645\n",
      "6 of KFold 10\n"
     ]
    },
    {
     "name": "stderr",
     "output_type": "stream",
     "text": [
      "/usr/local/lib/python3.6/dist-packages/sklearn/linear_model/logistic.py:947: ConvergenceWarning: lbfgs failed to converge. Increase the number of iterations.\n",
      "  \"of iterations.\", ConvergenceWarning)\n"
     ]
    },
    {
     "name": "stdout",
     "output_type": "stream",
     "text": [
      "ROC AUC score: 0.595361492614667\n",
      "7 of KFold 10\n"
     ]
    },
    {
     "name": "stderr",
     "output_type": "stream",
     "text": [
      "/usr/local/lib/python3.6/dist-packages/sklearn/linear_model/logistic.py:947: ConvergenceWarning: lbfgs failed to converge. Increase the number of iterations.\n",
      "  \"of iterations.\", ConvergenceWarning)\n"
     ]
    },
    {
     "name": "stdout",
     "output_type": "stream",
     "text": [
      "ROC AUC score: 0.5927701477066598\n",
      "8 of KFold 10\n"
     ]
    },
    {
     "name": "stderr",
     "output_type": "stream",
     "text": [
      "/usr/local/lib/python3.6/dist-packages/sklearn/linear_model/logistic.py:947: ConvergenceWarning: lbfgs failed to converge. Increase the number of iterations.\n",
      "  \"of iterations.\", ConvergenceWarning)\n"
     ]
    },
    {
     "name": "stdout",
     "output_type": "stream",
     "text": [
      "ROC AUC score: 0.6027468256024877\n",
      "9 of KFold 10\n"
     ]
    },
    {
     "name": "stderr",
     "output_type": "stream",
     "text": [
      "/usr/local/lib/python3.6/dist-packages/sklearn/linear_model/logistic.py:947: ConvergenceWarning: lbfgs failed to converge. Increase the number of iterations.\n",
      "  \"of iterations.\", ConvergenceWarning)\n"
     ]
    },
    {
     "name": "stdout",
     "output_type": "stream",
     "text": [
      "ROC AUC score: 0.601839854884685\n",
      "10 of KFold 10\n",
      "ROC AUC score: 0.5960093288416689\n",
      "\n",
      "CROSS VALIDANTION SUMMARY:\n",
      "Mean: 0.5974190976749058\n",
      "Std deviation: 0.0029890630882969797\n",
      "\n",
      "TEST SET:\n",
      "F1-Score(micro): 0.6844711034942398\n",
      "F1-Score(macro): 0.5810180934231901\n",
      "F1-Score(weighted): 0.7007254564849008\n",
      "F1-Score(None): [0.78921257 0.37282362]\n",
      "Accuracy: 0.6844711034942398\n",
      "Sensitivity: 0.4413082437275986\n",
      "Specificity: 0.7500906782734856\n",
      "Confusion Matrix: [0.7500906782734856, 0.44]\n",
      "ROC AUC score: 0.595699461000542\n",
      "CPU times: user 30.1 s, sys: 14.9 s, total: 45 s\n",
      "Wall time: 5.69 s\n"
     ]
    },
    {
     "name": "stderr",
     "output_type": "stream",
     "text": [
      "/usr/local/lib/python3.6/dist-packages/sklearn/linear_model/logistic.py:947: ConvergenceWarning: lbfgs failed to converge. Increase the number of iterations.\n",
      "  \"of iterations.\", ConvergenceWarning)\n"
     ]
    }
   ],
   "source": [
    "%%time\n",
    "LogisticRegr_NoIloc(X_ROS, y_ROS, X_test, y_test)"
   ]
  },
  {
   "cell_type": "code",
   "execution_count": 31,
   "metadata": {},
   "outputs": [
    {
     "name": "stdout",
     "output_type": "stream",
     "text": [
      "CPU times: user 13 µs, sys: 5 µs, total: 18 µs\n",
      "Wall time: 5.72 µs\n",
      "\n",
      "DECISION TREE\n",
      "TRAIN AND VALIDATION SETS:\n",
      "1 of KFold 10\n",
      "ROC AUC score: 0.8156735751295336\n",
      "2 of KFold 10\n",
      "ROC AUC score: 0.8046125939362528\n",
      "3 of KFold 10\n",
      "ROC AUC score: 0.8143301373412801\n",
      "4 of KFold 10\n",
      "ROC AUC score: 0.8288416688261209\n",
      "5 of KFold 10\n",
      "ROC AUC score: 0.8223633065561027\n",
      "6 of KFold 10\n",
      "ROC AUC score: 0.8281938325991189\n",
      "7 of KFold 10\n",
      "ROC AUC score: 0.8279346981083182\n",
      "8 of KFold 10\n",
      "ROC AUC score: 0.8341539258875356\n",
      "9 of KFold 10\n",
      "ROC AUC score: 0.8250842187095101\n",
      "10 of KFold 10\n",
      "ROC AUC score: 0.8319512827157295\n",
      "\n",
      "CROSS VALIDANTION SUMMARY:\n",
      "Mean: 0.8233139239809504\n",
      "Std deviation: 0.008721762134412588\n",
      "\n",
      "TEST SET:\n",
      "F1-Score(micro): 0.7522136532419309\n",
      "F1-Score(macro): 0.6474465019749109\n",
      "F1-Score(weighted): 0.7579501831383959\n",
      "F1-Score(None): [0.83963398 0.45525903]\n",
      "Accuracy: 0.7522136532419309\n",
      "Sensitivity: 0.48723118279569894\n",
      "Specificity: 0.823721436343852\n",
      "Confusion Matrix: [0.823721436343852, 0.49]\n",
      "ROC AUC score: 0.6554763095697754\n",
      "CPU times: user 4.7 s, sys: 77.1 ms, total: 4.77 s\n",
      "Wall time: 4.61 s\n"
     ]
    }
   ],
   "source": [
    "%%time\n",
    "DecisionTree_NoIloc(X_ROS, y_ROS, X_test, y_test)"
   ]
  },
  {
   "cell_type": "code",
   "execution_count": 32,
   "metadata": {},
   "outputs": [
    {
     "name": "stdout",
     "output_type": "stream",
     "text": [
      "CPU times: user 2 µs, sys: 0 ns, total: 2 µs\n",
      "Wall time: 3.81 µs\n",
      "RANDOM FOREST\n",
      "TRAIN AND VALIDATION SETS:\n",
      "1 of KFold 10\n",
      "ROC AUC score: 0.8094559585492228\n",
      "2 of KFold 10\n",
      "ROC AUC score: 0.7989116351386369\n",
      "3 of KFold 10\n",
      "ROC AUC score: 0.809277014770666\n",
      "4 of KFold 10\n",
      "ROC AUC score: 0.821067634102099\n",
      "5 of KFold 10\n",
      "ROC AUC score: 0.8167919150038869\n",
      "6 of KFold 10\n",
      "ROC AUC score: 0.8191241254210936\n",
      "7 of KFold 10\n",
      "ROC AUC score: 0.820678932365898\n",
      "8 of KFold 10\n",
      "ROC AUC score: 0.8262503239181135\n",
      "9 of KFold 10\n",
      "ROC AUC score: 0.8189945581756932\n",
      "10 of KFold 10\n",
      "ROC AUC score: 0.8244363824825085\n",
      "\n",
      "CROSS VALIDANTION SUMMARY:\n",
      "Mean: 0.8164988479927819\n",
      "Std deviation: 0.00787855577071027\n",
      "\n",
      "TEST SET:\n",
      "F1-Score(micro): 0.7272207940588403\n",
      "F1-Score(macro): 0.6170205966311791\n",
      "F1-Score(weighted): 0.7351425334905412\n",
      "F1-Score(None): [0.82245771 0.41158349]\n",
      "Accuracy: 0.7272207940588403\n",
      "Sensitivity: 0.4489247311827957\n",
      "Specificity: 0.8023213638012332\n",
      "Confusion Matrix: [0.8023213638012332, 0.45]\n",
      "ROC AUC score: 0.6256230474920144\n",
      "CPU times: user 57.8 s, sys: 15.7 ms, total: 57.8 s\n",
      "Wall time: 57.8 s\n"
     ]
    }
   ],
   "source": [
    "%%time\n",
    "RandomForest_NoIloc(X_ROS, y_ROS, X_test, y_test)"
   ]
  },
  {
   "cell_type": "code",
   "execution_count": 33,
   "metadata": {},
   "outputs": [
    {
     "name": "stdout",
     "output_type": "stream",
     "text": [
      "CPU times: user 1e+03 ns, sys: 1e+03 ns, total: 2 µs\n",
      "Wall time: 3.81 µs\n",
      "NEURAL NETWORK\n",
      "TRAIN AND VALIDATION SETS:\n",
      "1 of KFold 10\n",
      "ROC AUC score: 0.6507772020725389\n",
      "2 of KFold 10\n"
     ]
    },
    {
     "name": "stderr",
     "output_type": "stream",
     "text": [
      "/usr/local/lib/python3.6/dist-packages/sklearn/neural_network/multilayer_perceptron.py:566: ConvergenceWarning: Stochastic Optimizer: Maximum iterations (200) reached and the optimization hasn't converged yet.\n",
      "  % self.max_iter, ConvergenceWarning)\n"
     ]
    },
    {
     "name": "stdout",
     "output_type": "stream",
     "text": [
      "ROC AUC score: 0.6475770925110133\n",
      "3 of KFold 10\n",
      "ROC AUC score: 0.6530189168178284\n",
      "4 of KFold 10\n"
     ]
    },
    {
     "name": "stderr",
     "output_type": "stream",
     "text": [
      "/usr/local/lib/python3.6/dist-packages/sklearn/neural_network/multilayer_perceptron.py:566: ConvergenceWarning: Stochastic Optimizer: Maximum iterations (200) reached and the optimization hasn't converged yet.\n",
      "  % self.max_iter, ConvergenceWarning)\n"
     ]
    },
    {
     "name": "stdout",
     "output_type": "stream",
     "text": [
      "ROC AUC score: 0.652111946100026\n",
      "5 of KFold 10\n"
     ]
    },
    {
     "name": "stderr",
     "output_type": "stream",
     "text": [
      "/usr/local/lib/python3.6/dist-packages/sklearn/neural_network/multilayer_perceptron.py:566: ConvergenceWarning: Stochastic Optimizer: Maximum iterations (200) reached and the optimization hasn't converged yet.\n",
      "  % self.max_iter, ConvergenceWarning)\n"
     ]
    },
    {
     "name": "stdout",
     "output_type": "stream",
     "text": [
      "ROC AUC score: 0.648613630474216\n",
      "6 of KFold 10\n"
     ]
    },
    {
     "name": "stderr",
     "output_type": "stream",
     "text": [
      "/usr/local/lib/python3.6/dist-packages/sklearn/neural_network/multilayer_perceptron.py:566: ConvergenceWarning: Stochastic Optimizer: Maximum iterations (200) reached and the optimization hasn't converged yet.\n",
      "  % self.max_iter, ConvergenceWarning)\n"
     ]
    },
    {
     "name": "stdout",
     "output_type": "stream",
     "text": [
      "ROC AUC score: 0.6493910339466182\n",
      "7 of KFold 10\n",
      "ROC AUC score: 0.65353718579943\n",
      "8 of KFold 10\n",
      "ROC AUC score: 0.6593677118424462\n",
      "9 of KFold 10\n",
      "ROC AUC score: 0.6447266131122052\n",
      "10 of KFold 10\n",
      "ROC AUC score: 0.6605338170510494\n",
      "\n",
      "CROSS VALIDANTION SUMMARY:\n",
      "Mean: 0.6519655149727371\n",
      "Std deviation: 0.004719583534125914\n",
      "\n",
      "TEST SET:\n",
      "F1-Score(micro): 0.7211749024088355\n",
      "F1-Score(macro): 0.6221661979317088\n",
      "F1-Score(weighted): 0.733374896218209\n",
      "F1-Score(None): [0.81557984 0.42875256]\n",
      "Accuracy: 0.7211749024088355\n",
      "Sensitivity: 0.4923835125448029\n",
      "Specificity: 0.7829162132752993\n",
      "Confusion Matrix: [0.7829162132752993, 0.49]\n",
      "ROC AUC score: 0.6376498629100511\n",
      "CPU times: user 50min 4s, sys: 24min 3s, total: 1h 14min 7s\n",
      "Wall time: 9min 18s\n"
     ]
    },
    {
     "name": "stderr",
     "output_type": "stream",
     "text": [
      "/usr/local/lib/python3.6/dist-packages/sklearn/neural_network/multilayer_perceptron.py:566: ConvergenceWarning: Stochastic Optimizer: Maximum iterations (200) reached and the optimization hasn't converged yet.\n",
      "  % self.max_iter, ConvergenceWarning)\n"
     ]
    }
   ],
   "source": [
    "%%time\n",
    "NN_NoIloc(X_ROS, y_ROS, X_test, y_test)"
   ]
  },
  {
   "cell_type": "code",
   "execution_count": 34,
   "metadata": {},
   "outputs": [
    {
     "name": "stderr",
     "output_type": "stream",
     "text": [
      "/usr/local/lib/python3.6/dist-packages/sklearn/utils/validation.py:724: DataConversionWarning: A column-vector y was passed when a 1d array was expected. Please change the shape of y to (n_samples, ), for example using ravel().\n",
      "  y = column_or_1d(y, warn=True)\n"
     ]
    },
    {
     "name": "stdout",
     "output_type": "stream",
     "text": [
      "Resampling dataset using SMOTE (SMO)...\n",
      "X and Y SMO: 77182 77182\n"
     ]
    }
   ],
   "source": [
    "print(\"Resampling dataset using SMOTE (SMO)...\")\n",
    "sm = SMOTE(random_state=42)\n",
    "X_SMO, y_SMO = sm.fit_resample(X_train, y_train)\n",
    "print(\"X and Y SMO:\", len(X_SMO), len(y_SMO))"
   ]
  },
  {
   "cell_type": "code",
   "execution_count": 35,
   "metadata": {},
   "outputs": [
    {
     "name": "stdout",
     "output_type": "stream",
     "text": [
      "CPU times: user 1e+03 ns, sys: 1 µs, total: 2 µs\n",
      "Wall time: 4.29 µs\n",
      "\n",
      "LOGISTIC REGRESSION\n",
      "TRAIN AND VALIDATION SETS:\n",
      "1 of KFold 10\n"
     ]
    },
    {
     "name": "stderr",
     "output_type": "stream",
     "text": [
      "/usr/local/lib/python3.6/dist-packages/sklearn/linear_model/logistic.py:947: ConvergenceWarning: lbfgs failed to converge. Increase the number of iterations.\n",
      "  \"of iterations.\", ConvergenceWarning)\n"
     ]
    },
    {
     "name": "stdout",
     "output_type": "stream",
     "text": [
      "ROC AUC score: 0.5966321243523316\n",
      "2 of KFold 10\n"
     ]
    },
    {
     "name": "stderr",
     "output_type": "stream",
     "text": [
      "/usr/local/lib/python3.6/dist-packages/sklearn/linear_model/logistic.py:947: ConvergenceWarning: lbfgs failed to converge. Increase the number of iterations.\n",
      "  \"of iterations.\", ConvergenceWarning)\n"
     ]
    },
    {
     "name": "stdout",
     "output_type": "stream",
     "text": [
      "ROC AUC score: 0.5997667789582793\n",
      "3 of KFold 10\n"
     ]
    },
    {
     "name": "stderr",
     "output_type": "stream",
     "text": [
      "/usr/local/lib/python3.6/dist-packages/sklearn/linear_model/logistic.py:947: ConvergenceWarning: lbfgs failed to converge. Increase the number of iterations.\n",
      "  \"of iterations.\", ConvergenceWarning)\n"
     ]
    },
    {
     "name": "stdout",
     "output_type": "stream",
     "text": [
      "ROC AUC score: 0.5974345685410728\n",
      "4 of KFold 10\n"
     ]
    },
    {
     "name": "stderr",
     "output_type": "stream",
     "text": [
      "/usr/local/lib/python3.6/dist-packages/sklearn/linear_model/logistic.py:947: ConvergenceWarning: lbfgs failed to converge. Increase the number of iterations.\n",
      "  \"of iterations.\", ConvergenceWarning)\n"
     ]
    },
    {
     "name": "stdout",
     "output_type": "stream",
     "text": [
      "ROC AUC score: 0.5916040424980565\n",
      "5 of KFold 10\n"
     ]
    },
    {
     "name": "stderr",
     "output_type": "stream",
     "text": [
      "/usr/local/lib/python3.6/dist-packages/sklearn/linear_model/logistic.py:947: ConvergenceWarning: lbfgs failed to converge. Increase the number of iterations.\n",
      "  \"of iterations.\", ConvergenceWarning)\n"
     ]
    },
    {
     "name": "stdout",
     "output_type": "stream",
     "text": [
      "ROC AUC score: 0.587846592381446\n",
      "6 of KFold 10\n"
     ]
    },
    {
     "name": "stderr",
     "output_type": "stream",
     "text": [
      "/usr/local/lib/python3.6/dist-packages/sklearn/linear_model/logistic.py:947: ConvergenceWarning: lbfgs failed to converge. Increase the number of iterations.\n",
      "  \"of iterations.\", ConvergenceWarning)\n"
     ]
    },
    {
     "name": "stdout",
     "output_type": "stream",
     "text": [
      "ROC AUC score: 0.5947136563876652\n",
      "7 of KFold 10\n"
     ]
    },
    {
     "name": "stderr",
     "output_type": "stream",
     "text": [
      "/usr/local/lib/python3.6/dist-packages/sklearn/linear_model/logistic.py:947: ConvergenceWarning: lbfgs failed to converge. Increase the number of iterations.\n",
      "  \"of iterations.\", ConvergenceWarning)\n"
     ]
    },
    {
     "name": "stdout",
     "output_type": "stream",
     "text": [
      "ROC AUC score: 0.5913449080072558\n",
      "8 of KFold 10\n"
     ]
    },
    {
     "name": "stderr",
     "output_type": "stream",
     "text": [
      "/usr/local/lib/python3.6/dist-packages/sklearn/linear_model/logistic.py:947: ConvergenceWarning: lbfgs failed to converge. Increase the number of iterations.\n",
      "  \"of iterations.\", ConvergenceWarning)\n"
     ]
    },
    {
     "name": "stdout",
     "output_type": "stream",
     "text": [
      "ROC AUC score: 0.5948432236330656\n",
      "9 of KFold 10\n"
     ]
    },
    {
     "name": "stderr",
     "output_type": "stream",
     "text": [
      "/usr/local/lib/python3.6/dist-packages/sklearn/linear_model/logistic.py:947: ConvergenceWarning: lbfgs failed to converge. Increase the number of iterations.\n",
      "  \"of iterations.\", ConvergenceWarning)\n"
     ]
    },
    {
     "name": "stdout",
     "output_type": "stream",
     "text": [
      "ROC AUC score: 0.5919927442342576\n",
      "10 of KFold 10\n",
      "ROC AUC score: 0.5917336097434569\n",
      "\n",
      "CROSS VALIDANTION SUMMARY:\n",
      "Mean: 0.5937912248736887\n",
      "Std deviation: 0.003355364240878503\n",
      "\n",
      "TEST SET:\n",
      "F1-Score(micro): 0.6819480148528991\n",
      "F1-Score(macro): 0.5801100388614816\n",
      "F1-Score(weighted): 0.6990079677183536\n",
      "F1-Score(None): [0.78689675 0.37332333]\n",
      "Accuracy: 0.6819480148528991\n",
      "Sensitivity: 0.4457885304659498\n",
      "Specificity: 0.7456776689638496\n",
      "Confusion Matrix: [0.7456776689638496, 0.45]\n",
      "ROC AUC score: 0.5957330997148996\n",
      "CPU times: user 28.9 s, sys: 14.1 s, total: 42.9 s\n",
      "Wall time: 5.43 s\n"
     ]
    },
    {
     "name": "stderr",
     "output_type": "stream",
     "text": [
      "/usr/local/lib/python3.6/dist-packages/sklearn/linear_model/logistic.py:947: ConvergenceWarning: lbfgs failed to converge. Increase the number of iterations.\n",
      "  \"of iterations.\", ConvergenceWarning)\n"
     ]
    }
   ],
   "source": [
    "%%time\n",
    "LogisticRegr_NoIloc(X_SMO, y_SMO, X_test, y_test)"
   ]
  },
  {
   "cell_type": "code",
   "execution_count": 36,
   "metadata": {},
   "outputs": [
    {
     "name": "stdout",
     "output_type": "stream",
     "text": [
      "CPU times: user 15 µs, sys: 6 µs, total: 21 µs\n",
      "Wall time: 5.48 µs\n",
      "\n",
      "DECISION TREE\n",
      "TRAIN AND VALIDATION SETS:\n",
      "1 of KFold 10\n",
      "ROC AUC score: 0.6987046632124351\n",
      "2 of KFold 10\n",
      "ROC AUC score: 0.6889090437937291\n",
      "3 of KFold 10\n",
      "ROC AUC score: 0.7522674267945063\n",
      "4 of KFold 10\n",
      "ROC AUC score: 0.8605856439492096\n",
      "5 of KFold 10\n",
      "ROC AUC score: 0.8578647317958021\n",
      "6 of KFold 10\n",
      "ROC AUC score: 0.8626587198756155\n",
      "7 of KFold 10\n",
      "ROC AUC score: 0.862140450894014\n",
      "8 of KFold 10\n",
      "ROC AUC score: 0.8551438196423944\n",
      "9 of KFold 10\n",
      "ROC AUC score: 0.8600673749676081\n",
      "10 of KFold 10\n",
      "ROC AUC score: 0.8630474216118166\n",
      "\n",
      "CROSS VALIDANTION SUMMARY:\n",
      "Mean: 0.816138929653713\n",
      "Std deviation: 0.06906960246832587\n",
      "\n",
      "TEST SET:\n",
      "F1-Score(micro): 0.5849757212225078\n",
      "F1-Score(macro): 0.5451178994397138\n",
      "F1-Score(weighted): 0.6225387375697535\n",
      "F1-Score(None): [0.67976785 0.41046795]\n",
      "Accuracy: 0.5849757212225078\n",
      "Sensitivity: 0.6798835125448028\n",
      "Specificity: 0.5593640430419539\n",
      "Confusion Matrix: [0.5593640430419539, 0.68]\n",
      "ROC AUC score: 0.6196237777933783\n",
      "CPU times: user 6.42 s, sys: 91.7 ms, total: 6.51 s\n",
      "Wall time: 6.33 s\n"
     ]
    }
   ],
   "source": [
    "%%time\n",
    "DecisionTree_NoIloc(X_SMO, y_SMO, X_test, y_test)"
   ]
  },
  {
   "cell_type": "code",
   "execution_count": 37,
   "metadata": {},
   "outputs": [
    {
     "name": "stdout",
     "output_type": "stream",
     "text": [
      "CPU times: user 2 µs, sys: 0 ns, total: 2 µs\n",
      "Wall time: 3.81 µs\n",
      "RANDOM FOREST\n",
      "TRAIN AND VALIDATION SETS:\n",
      "1 of KFold 10\n",
      "ROC AUC score: 0.6922279792746114\n",
      "2 of KFold 10\n",
      "ROC AUC score: 0.6867064006219228\n",
      "3 of KFold 10\n",
      "ROC AUC score: 0.7483804094324955\n",
      "4 of KFold 10\n",
      "ROC AUC score: 0.8753563099248509\n",
      "5 of KFold 10\n",
      "ROC AUC score: 0.8651204975382223\n",
      "6 of KFold 10\n",
      "ROC AUC score: 0.8731536667530448\n",
      "7 of KFold 10\n",
      "ROC AUC score: 0.8669344389738276\n",
      "8 of KFold 10\n",
      "ROC AUC score: 0.8627882871210159\n",
      "9 of KFold 10\n",
      "ROC AUC score: 0.8708214563358383\n",
      "10 of KFold 10\n",
      "ROC AUC score: 0.8678414096916298\n",
      "\n",
      "CROSS VALIDANTION SUMMARY:\n",
      "Mean: 0.820933085566746\n",
      "Std deviation: 0.07486275762989479\n",
      "\n",
      "TEST SET:\n",
      "F1-Score(micro): 0.3924592973436161\n",
      "F1-Score(macro): 0.3922498052686183\n",
      "F1-Score(weighted): 0.39873761368355015\n",
      "F1-Score(None): [0.40353337 0.38096624]\n",
      "Accuracy: 0.3924592973436161\n",
      "Sensitivity: 0.8797043010752689\n",
      "Specificity: 0.2609720710917664\n",
      "Confusion Matrix: [0.2609720710917664, 0.88]\n",
      "ROC AUC score: 0.5703381860835177\n",
      "CPU times: user 1min 13s, sys: 29.5 ms, total: 1min 13s\n",
      "Wall time: 1min 13s\n"
     ]
    }
   ],
   "source": [
    "%%time\n",
    "RandomForest_NoIloc(X_SMO, y_SMO, X_test, y_test)"
   ]
  },
  {
   "cell_type": "code",
   "execution_count": 38,
   "metadata": {},
   "outputs": [
    {
     "name": "stdout",
     "output_type": "stream",
     "text": [
      "CPU times: user 2 µs, sys: 0 ns, total: 2 µs\n",
      "Wall time: 3.34 µs\n",
      "NEURAL NETWORK\n",
      "TRAIN AND VALIDATION SETS:\n",
      "1 of KFold 10\n"
     ]
    },
    {
     "name": "stderr",
     "output_type": "stream",
     "text": [
      "/usr/local/lib/python3.6/dist-packages/sklearn/neural_network/multilayer_perceptron.py:566: ConvergenceWarning: Stochastic Optimizer: Maximum iterations (200) reached and the optimization hasn't converged yet.\n",
      "  % self.max_iter, ConvergenceWarning)\n"
     ]
    },
    {
     "name": "stdout",
     "output_type": "stream",
     "text": [
      "ROC AUC score: 0.6461139896373056\n",
      "2 of KFold 10\n"
     ]
    },
    {
     "name": "stderr",
     "output_type": "stream",
     "text": [
      "/usr/local/lib/python3.6/dist-packages/sklearn/neural_network/multilayer_perceptron.py:566: ConvergenceWarning: Stochastic Optimizer: Maximum iterations (200) reached and the optimization hasn't converged yet.\n",
      "  % self.max_iter, ConvergenceWarning)\n"
     ]
    },
    {
     "name": "stdout",
     "output_type": "stream",
     "text": [
      "ROC AUC score: 0.6470588235294117\n",
      "3 of KFold 10\n"
     ]
    },
    {
     "name": "stderr",
     "output_type": "stream",
     "text": [
      "/usr/local/lib/python3.6/dist-packages/sklearn/neural_network/multilayer_perceptron.py:566: ConvergenceWarning: Stochastic Optimizer: Maximum iterations (200) reached and the optimization hasn't converged yet.\n",
      "  % self.max_iter, ConvergenceWarning)\n"
     ]
    },
    {
     "name": "stdout",
     "output_type": "stream",
     "text": [
      "ROC AUC score: 0.6512049753822234\n",
      "4 of KFold 10\n",
      "ROC AUC score: 0.6559989634620369\n",
      "5 of KFold 10\n",
      "ROC AUC score: 0.6543145892718321\n",
      "6 of KFold 10\n"
     ]
    },
    {
     "name": "stderr",
     "output_type": "stream",
     "text": [
      "/usr/local/lib/python3.6/dist-packages/sklearn/neural_network/multilayer_perceptron.py:566: ConvergenceWarning: Stochastic Optimizer: Maximum iterations (200) reached and the optimization hasn't converged yet.\n",
      "  % self.max_iter, ConvergenceWarning)\n"
     ]
    },
    {
     "name": "stdout",
     "output_type": "stream",
     "text": [
      "ROC AUC score: 0.6589790101062452\n",
      "7 of KFold 10\n"
     ]
    },
    {
     "name": "stderr",
     "output_type": "stream",
     "text": [
      "/usr/local/lib/python3.6/dist-packages/sklearn/neural_network/multilayer_perceptron.py:566: ConvergenceWarning: Stochastic Optimizer: Maximum iterations (200) reached and the optimization hasn't converged yet.\n",
      "  % self.max_iter, ConvergenceWarning)\n"
     ]
    },
    {
     "name": "stdout",
     "output_type": "stream",
     "text": [
      "ROC AUC score: 0.6614407877688521\n",
      "8 of KFold 10\n"
     ]
    },
    {
     "name": "stderr",
     "output_type": "stream",
     "text": [
      "/usr/local/lib/python3.6/dist-packages/sklearn/neural_network/multilayer_perceptron.py:566: ConvergenceWarning: Stochastic Optimizer: Maximum iterations (200) reached and the optimization hasn't converged yet.\n",
      "  % self.max_iter, ConvergenceWarning)\n"
     ]
    },
    {
     "name": "stdout",
     "output_type": "stream",
     "text": [
      "ROC AUC score: 0.6598859808240477\n",
      "9 of KFold 10\n"
     ]
    },
    {
     "name": "stderr",
     "output_type": "stream",
     "text": [
      "/usr/local/lib/python3.6/dist-packages/sklearn/neural_network/multilayer_perceptron.py:566: ConvergenceWarning: Stochastic Optimizer: Maximum iterations (200) reached and the optimization hasn't converged yet.\n",
      "  % self.max_iter, ConvergenceWarning)\n"
     ]
    },
    {
     "name": "stdout",
     "output_type": "stream",
     "text": [
      "ROC AUC score: 0.6510754081368231\n",
      "10 of KFold 10\n",
      "ROC AUC score: 0.6601451153148484\n",
      "\n",
      "CROSS VALIDANTION SUMMARY:\n",
      "Mean: 0.6546217643433626\n",
      "Std deviation: 0.005287026380823921\n",
      "\n",
      "TEST SET:\n",
      "F1-Score(micro): 0.7503094353994096\n",
      "F1-Score(macro): 0.6383142349328703\n",
      "F1-Score(weighted): 0.7540365406249624\n",
      "F1-Score(None): [0.83957792 0.43705055]\n",
      "Accuracy: 0.7503094353994096\n",
      "Sensitivity: 0.4560931899641577\n",
      "Specificity: 0.8297062023939065\n",
      "Confusion Matrix: [0.8297062023939065, 0.46]\n",
      "ROC AUC score: 0.6428996961790321\n",
      "CPU times: user 57min 7s, sys: 27min 32s, total: 1h 24min 40s\n",
      "Wall time: 10min 38s\n"
     ]
    },
    {
     "name": "stderr",
     "output_type": "stream",
     "text": [
      "/usr/local/lib/python3.6/dist-packages/sklearn/neural_network/multilayer_perceptron.py:566: ConvergenceWarning: Stochastic Optimizer: Maximum iterations (200) reached and the optimization hasn't converged yet.\n",
      "  % self.max_iter, ConvergenceWarning)\n"
     ]
    }
   ],
   "source": [
    "%%time\n",
    "NN_NoIloc(X_SMO, y_SMO, X_test, y_test)"
   ]
  },
  {
   "cell_type": "code",
   "execution_count": 39,
   "metadata": {},
   "outputs": [
    {
     "name": "stderr",
     "output_type": "stream",
     "text": [
      "/usr/local/lib/python3.6/dist-packages/sklearn/utils/validation.py:724: DataConversionWarning: A column-vector y was passed when a 1d array was expected. Please change the shape of y to (n_samples, ), for example using ravel().\n",
      "  y = column_or_1d(y, warn=True)\n"
     ]
    },
    {
     "name": "stdout",
     "output_type": "stream",
     "text": [
      "Resampling dataset using ADASYN (ADA)...\n",
      "X and Y ADA: 76630 76630\n"
     ]
    }
   ],
   "source": [
    "print(\"Resampling dataset using ADASYN (ADA)...\")\n",
    "ada = ADASYN(random_state=42)\n",
    "X_ADA, y_ADA = ada.fit_resample(X_train, y_train)\n",
    "print(\"X and Y ADA:\", len(X_ADA), len(y_ADA))"
   ]
  },
  {
   "cell_type": "code",
   "execution_count": 40,
   "metadata": {},
   "outputs": [
    {
     "name": "stdout",
     "output_type": "stream",
     "text": [
      "CPU times: user 2 µs, sys: 0 ns, total: 2 µs\n",
      "Wall time: 4.29 µs\n",
      "\n",
      "LOGISTIC REGRESSION\n",
      "TRAIN AND VALIDATION SETS:\n",
      "1 of KFold 10\n"
     ]
    },
    {
     "name": "stderr",
     "output_type": "stream",
     "text": [
      "/usr/local/lib/python3.6/dist-packages/sklearn/linear_model/logistic.py:947: ConvergenceWarning: lbfgs failed to converge. Increase the number of iterations.\n",
      "  \"of iterations.\", ConvergenceWarning)\n"
     ]
    },
    {
     "name": "stdout",
     "output_type": "stream",
     "text": [
      "ROC AUC score: 0.592782072865759\n",
      "2 of KFold 10\n"
     ]
    },
    {
     "name": "stderr",
     "output_type": "stream",
     "text": [
      "/usr/local/lib/python3.6/dist-packages/sklearn/linear_model/logistic.py:947: ConvergenceWarning: lbfgs failed to converge. Increase the number of iterations.\n",
      "  \"of iterations.\", ConvergenceWarning)\n"
     ]
    },
    {
     "name": "stdout",
     "output_type": "stream",
     "text": [
      "ROC AUC score: 0.5989099116626597\n",
      "3 of KFold 10\n"
     ]
    },
    {
     "name": "stderr",
     "output_type": "stream",
     "text": [
      "/usr/local/lib/python3.6/dist-packages/sklearn/linear_model/logistic.py:947: ConvergenceWarning: lbfgs failed to converge. Increase the number of iterations.\n",
      "  \"of iterations.\", ConvergenceWarning)\n"
     ]
    },
    {
     "name": "stdout",
     "output_type": "stream",
     "text": [
      "ROC AUC score: 0.5896940836952633\n",
      "4 of KFold 10\n"
     ]
    },
    {
     "name": "stderr",
     "output_type": "stream",
     "text": [
      "/usr/local/lib/python3.6/dist-packages/sklearn/linear_model/logistic.py:947: ConvergenceWarning: lbfgs failed to converge. Increase the number of iterations.\n",
      "  \"of iterations.\", ConvergenceWarning)\n"
     ]
    },
    {
     "name": "stdout",
     "output_type": "stream",
     "text": [
      "ROC AUC score: 0.5720735514150351\n",
      "5 of KFold 10\n"
     ]
    },
    {
     "name": "stderr",
     "output_type": "stream",
     "text": [
      "/usr/local/lib/python3.6/dist-packages/sklearn/linear_model/logistic.py:947: ConvergenceWarning: lbfgs failed to converge. Increase the number of iterations.\n",
      "  \"of iterations.\", ConvergenceWarning)\n"
     ]
    },
    {
     "name": "stdout",
     "output_type": "stream",
     "text": [
      "ROC AUC score: 0.5707703855872176\n",
      "6 of KFold 10\n"
     ]
    },
    {
     "name": "stderr",
     "output_type": "stream",
     "text": [
      "/usr/local/lib/python3.6/dist-packages/sklearn/linear_model/logistic.py:947: ConvergenceWarning: lbfgs failed to converge. Increase the number of iterations.\n",
      "  \"of iterations.\", ConvergenceWarning)\n"
     ]
    },
    {
     "name": "stdout",
     "output_type": "stream",
     "text": [
      "ROC AUC score: 0.5756336873748096\n",
      "7 of KFold 10\n"
     ]
    },
    {
     "name": "stderr",
     "output_type": "stream",
     "text": [
      "/usr/local/lib/python3.6/dist-packages/sklearn/linear_model/logistic.py:947: ConvergenceWarning: lbfgs failed to converge. Increase the number of iterations.\n",
      "  \"of iterations.\", ConvergenceWarning)\n"
     ]
    },
    {
     "name": "stdout",
     "output_type": "stream",
     "text": [
      "ROC AUC score: 0.5796031318487733\n",
      "8 of KFold 10\n"
     ]
    },
    {
     "name": "stderr",
     "output_type": "stream",
     "text": [
      "/usr/local/lib/python3.6/dist-packages/sklearn/linear_model/logistic.py:947: ConvergenceWarning: lbfgs failed to converge. Increase the number of iterations.\n",
      "  \"of iterations.\", ConvergenceWarning)\n"
     ]
    },
    {
     "name": "stdout",
     "output_type": "stream",
     "text": [
      "ROC AUC score: 0.5695424600446496\n",
      "9 of KFold 10\n"
     ]
    },
    {
     "name": "stderr",
     "output_type": "stream",
     "text": [
      "/usr/local/lib/python3.6/dist-packages/sklearn/linear_model/logistic.py:947: ConvergenceWarning: lbfgs failed to converge. Increase the number of iterations.\n",
      "  \"of iterations.\", ConvergenceWarning)\n"
     ]
    },
    {
     "name": "stdout",
     "output_type": "stream",
     "text": [
      "ROC AUC score: 0.5728078679880073\n",
      "10 of KFold 10\n",
      "ROC AUC score: 0.5748557980950514\n",
      "\n",
      "CROSS VALIDANTION SUMMARY:\n",
      "Mean: 0.5796672950577226\n",
      "Std deviation: 0.00984185326258944\n",
      "\n",
      "TEST SET:\n",
      "F1-Score(micro): 0.6698562315528896\n",
      "F1-Score(macro): 0.576099300874931\n",
      "F1-Score(weighted): 0.6907259036412419\n",
      "F1-Score(None): [0.77545734 0.37674126]\n",
      "Accuracy: 0.6698562315528896\n",
      "Sensitivity: 0.46953405017921146\n",
      "Specificity: 0.7239148833272882\n",
      "Confusion Matrix: [0.7239148833272882, 0.47]\n",
      "ROC AUC score: 0.5967244667532497\n",
      "CPU times: user 28.7 s, sys: 14.7 s, total: 43.3 s\n",
      "Wall time: 5.49 s\n"
     ]
    },
    {
     "name": "stderr",
     "output_type": "stream",
     "text": [
      "/usr/local/lib/python3.6/dist-packages/sklearn/linear_model/logistic.py:947: ConvergenceWarning: lbfgs failed to converge. Increase the number of iterations.\n",
      "  \"of iterations.\", ConvergenceWarning)\n"
     ]
    }
   ],
   "source": [
    "%%time\n",
    "LogisticRegr_NoIloc(X_ADA, y_ADA, X_test, y_test)"
   ]
  },
  {
   "cell_type": "code",
   "execution_count": 41,
   "metadata": {},
   "outputs": [
    {
     "name": "stdout",
     "output_type": "stream",
     "text": [
      "CPU times: user 44 µs, sys: 21 µs, total: 65 µs\n",
      "Wall time: 888 µs\n",
      "\n",
      "DECISION TREE\n",
      "TRAIN AND VALIDATION SETS:\n",
      "1 of KFold 10\n",
      "ROC AUC score: 0.688833543093444\n",
      "2 of KFold 10\n",
      "ROC AUC score: 0.6848913692410357\n",
      "3 of KFold 10\n",
      "ROC AUC score: 0.7294141353368707\n",
      "4 of KFold 10\n",
      "ROC AUC score: 0.8282702650120206\n",
      "5 of KFold 10\n",
      "ROC AUC score: 0.8379537816877748\n",
      "6 of KFold 10\n",
      "ROC AUC score: 0.8384608106086553\n",
      "7 of KFold 10\n",
      "ROC AUC score: 0.8250295170806687\n",
      "8 of KFold 10\n",
      "ROC AUC score: 0.8188440094836138\n",
      "9 of KFold 10\n",
      "ROC AUC score: 0.8320745487149682\n",
      "10 of KFold 10\n",
      "ROC AUC score: 0.8267457320999085\n",
      "\n",
      "CROSS VALIDANTION SUMMARY:\n",
      "Mean: 0.7910517712358961\n",
      "Std deviation: 0.06019489179899067\n",
      "\n",
      "TEST SET:\n",
      "F1-Score(micro): 0.4572503094353994\n",
      "F1-Score(macro): 0.44879939572852656\n",
      "F1-Score(weighted): 0.48804204692099523\n",
      "F1-Score(None): [0.51705003 0.38054876]\n",
      "Accuracy: 0.4572503094353994\n",
      "Sensitivity: 0.7844982078853047\n",
      "Specificity: 0.36893966872204087\n",
      "Confusion Matrix: [0.36893966872204087, 0.78]\n",
      "ROC AUC score: 0.5767189383036728\n",
      "CPU times: user 6.67 s, sys: 72.1 ms, total: 6.74 s\n",
      "Wall time: 6.59 s\n"
     ]
    }
   ],
   "source": [
    "%%time\n",
    "DecisionTree_NoIloc(X_ADA, y_ADA, X_test, y_test)"
   ]
  },
  {
   "cell_type": "code",
   "execution_count": 42,
   "metadata": {},
   "outputs": [
    {
     "name": "stdout",
     "output_type": "stream",
     "text": [
      "CPU times: user 2 µs, sys: 0 ns, total: 2 µs\n",
      "Wall time: 3.58 µs\n",
      "RANDOM FOREST\n",
      "TRAIN AND VALIDATION SETS:\n",
      "1 of KFold 10\n",
      "ROC AUC score: 0.6921804427300415\n",
      "2 of KFold 10\n",
      "ROC AUC score: 0.6821273701881981\n",
      "3 of KFold 10\n",
      "ROC AUC score: 0.7346061918701526\n",
      "4 of KFold 10\n",
      "ROC AUC score: 0.8502773502013266\n",
      "5 of KFold 10\n",
      "ROC AUC score: 0.8513195081948898\n",
      "6 of KFold 10\n",
      "ROC AUC score: 0.8446497583455067\n",
      "7 of KFold 10\n",
      "ROC AUC score: 0.8457181431474186\n",
      "8 of KFold 10\n",
      "ROC AUC score: 0.8423175479283003\n",
      "9 of KFold 10\n",
      "ROC AUC score: 0.8495130601330986\n",
      "10 of KFold 10\n",
      "ROC AUC score: 0.8472138817590374\n",
      "\n",
      "CROSS VALIDANTION SUMMARY:\n",
      "Mean: 0.8039923254497972\n",
      "Std deviation: 0.0673444127751877\n",
      "\n",
      "TEST SET:\n",
      "F1-Score(micro): 0.37689231648100546\n",
      "F1-Score(macro): 0.3768806223671086\n",
      "F1-Score(weighted): 0.3753285178874875\n",
      "F1-Score(None): [0.37418121 0.37958004]\n",
      "Accuracy: 0.3768923164810054\n",
      "Sensitivity: 0.8969534050179212\n",
      "Specificity: 0.23654938943295853\n",
      "Confusion Matrix: [0.23654938943295853, 0.9]\n",
      "ROC AUC score: 0.5667513972254399\n",
      "CPU times: user 1min 14s, sys: 10.5 ms, total: 1min 14s\n",
      "Wall time: 1min 14s\n"
     ]
    }
   ],
   "source": [
    "%%time\n",
    "RandomForest_NoIloc(X_ADA, y_ADA, X_test, y_test)"
   ]
  },
  {
   "cell_type": "code",
   "execution_count": 43,
   "metadata": {},
   "outputs": [
    {
     "name": "stdout",
     "output_type": "stream",
     "text": [
      "CPU times: user 2 µs, sys: 0 ns, total: 2 µs\n",
      "Wall time: 3.81 µs\n",
      "NEURAL NETWORK\n",
      "TRAIN AND VALIDATION SETS:\n",
      "1 of KFold 10\n",
      "ROC AUC score: 0.6333762388105241\n",
      "2 of KFold 10\n"
     ]
    },
    {
     "name": "stderr",
     "output_type": "stream",
     "text": [
      "/usr/local/lib/python3.6/dist-packages/sklearn/neural_network/multilayer_perceptron.py:566: ConvergenceWarning: Stochastic Optimizer: Maximum iterations (200) reached and the optimization hasn't converged yet.\n",
      "  % self.max_iter, ConvergenceWarning)\n"
     ]
    },
    {
     "name": "stdout",
     "output_type": "stream",
     "text": [
      "ROC AUC score: 0.6296326761780742\n",
      "3 of KFold 10\n"
     ]
    },
    {
     "name": "stderr",
     "output_type": "stream",
     "text": [
      "/usr/local/lib/python3.6/dist-packages/sklearn/neural_network/multilayer_perceptron.py:566: ConvergenceWarning: Stochastic Optimizer: Maximum iterations (200) reached and the optimization hasn't converged yet.\n",
      "  % self.max_iter, ConvergenceWarning)\n"
     ]
    },
    {
     "name": "stdout",
     "output_type": "stream",
     "text": [
      "ROC AUC score: 0.6371472358033945\n",
      "4 of KFold 10\n"
     ]
    },
    {
     "name": "stderr",
     "output_type": "stream",
     "text": [
      "/usr/local/lib/python3.6/dist-packages/sklearn/neural_network/multilayer_perceptron.py:566: ConvergenceWarning: Stochastic Optimizer: Maximum iterations (200) reached and the optimization hasn't converged yet.\n",
      "  % self.max_iter, ConvergenceWarning)\n"
     ]
    },
    {
     "name": "stdout",
     "output_type": "stream",
     "text": [
      "ROC AUC score: 0.6235114412918685\n",
      "5 of KFold 10\n",
      "ROC AUC score: 0.6185445265809043\n",
      "6 of KFold 10\n"
     ]
    },
    {
     "name": "stderr",
     "output_type": "stream",
     "text": [
      "/usr/local/lib/python3.6/dist-packages/sklearn/neural_network/multilayer_perceptron.py:566: ConvergenceWarning: Stochastic Optimizer: Maximum iterations (200) reached and the optimization hasn't converged yet.\n",
      "  % self.max_iter, ConvergenceWarning)\n"
     ]
    },
    {
     "name": "stdout",
     "output_type": "stream",
     "text": [
      "ROC AUC score: 0.6231511462545802\n",
      "7 of KFold 10\n"
     ]
    },
    {
     "name": "stderr",
     "output_type": "stream",
     "text": [
      "/usr/local/lib/python3.6/dist-packages/sklearn/neural_network/multilayer_perceptron.py:566: ConvergenceWarning: Stochastic Optimizer: Maximum iterations (200) reached and the optimization hasn't converged yet.\n",
      "  % self.max_iter, ConvergenceWarning)\n"
     ]
    },
    {
     "name": "stdout",
     "output_type": "stream",
     "text": [
      "ROC AUC score: 0.6320038861999031\n",
      "8 of KFold 10\n"
     ]
    },
    {
     "name": "stderr",
     "output_type": "stream",
     "text": [
      "/usr/local/lib/python3.6/dist-packages/sklearn/neural_network/multilayer_perceptron.py:566: ConvergenceWarning: Stochastic Optimizer: Maximum iterations (200) reached and the optimization hasn't converged yet.\n",
      "  % self.max_iter, ConvergenceWarning)\n"
     ]
    },
    {
     "name": "stdout",
     "output_type": "stream",
     "text": [
      "ROC AUC score: 0.6243831250311657\n",
      "9 of KFold 10\n"
     ]
    },
    {
     "name": "stderr",
     "output_type": "stream",
     "text": [
      "/usr/local/lib/python3.6/dist-packages/sklearn/neural_network/multilayer_perceptron.py:566: ConvergenceWarning: Stochastic Optimizer: Maximum iterations (200) reached and the optimization hasn't converged yet.\n",
      "  % self.max_iter, ConvergenceWarning)\n"
     ]
    },
    {
     "name": "stdout",
     "output_type": "stream",
     "text": [
      "ROC AUC score: 0.631144055615548\n",
      "10 of KFold 10\n",
      "ROC AUC score: 0.619217197154195\n",
      "\n",
      "CROSS VALIDANTION SUMMARY:\n",
      "Mean: 0.6272111528920158\n",
      "Std deviation: 0.005985138434316461\n",
      "\n",
      "TEST SET:\n",
      "F1-Score(micro): 0.6541464343520899\n",
      "F1-Score(macro): 0.5905071703162852\n",
      "F1-Score(weighted): 0.6833262780356969\n",
      "F1-Score(None): [0.75193772 0.42907662]\n",
      "Accuracy: 0.6541464343520899\n",
      "Sensitivity: 0.6115591397849462\n",
      "Specificity: 0.6656389795671623\n",
      "Confusion Matrix: [0.6656389795671623, 0.61]\n",
      "ROC AUC score: 0.6385990596760543\n",
      "CPU times: user 55min 46s, sys: 26min 36s, total: 1h 22min 23s\n",
      "Wall time: 10min 20s\n"
     ]
    },
    {
     "name": "stderr",
     "output_type": "stream",
     "text": [
      "/usr/local/lib/python3.6/dist-packages/sklearn/neural_network/multilayer_perceptron.py:566: ConvergenceWarning: Stochastic Optimizer: Maximum iterations (200) reached and the optimization hasn't converged yet.\n",
      "  % self.max_iter, ConvergenceWarning)\n"
     ]
    }
   ],
   "source": [
    "%%time\n",
    "NN_NoIloc(X_ADA, y_ADA, X_test, y_test)"
   ]
  }
 ],
 "metadata": {
  "kernelspec": {
   "display_name": "Python 3",
   "language": "python",
   "name": "python3"
  },
  "language_info": {
   "codemirror_mode": {
    "name": "ipython",
    "version": 3
   },
   "file_extension": ".py",
   "mimetype": "text/x-python",
   "name": "python",
   "nbconvert_exporter": "python",
   "pygments_lexer": "ipython3",
   "version": "3.6.8"
  }
 },
 "nbformat": 4,
 "nbformat_minor": 2
}
