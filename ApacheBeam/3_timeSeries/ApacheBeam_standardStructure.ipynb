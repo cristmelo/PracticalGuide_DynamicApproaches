{
 "cells": [
  {
   "cell_type": "code",
   "execution_count": 1,
   "metadata": {},
   "outputs": [
    {
     "name": "stderr",
     "output_type": "stream",
     "text": [
      "C:\\Users\\cristiano.melo\\AppData\\Local\\Continuum\\anaconda3\\lib\\site-packages\\h5py\\__init__.py:36: FutureWarning: Conversion of the second argument of issubdtype from `float` to `np.floating` is deprecated. In future, it will be treated as `np.float64 == np.dtype(float).type`.\n",
      "  from ._conv import register_converters as _register_converters\n",
      "Using TensorFlow backend.\n"
     ]
    }
   ],
   "source": [
    "%run auxStandardStructure.ipynb"
   ]
  },
  {
   "cell_type": "code",
   "execution_count": 2,
   "metadata": {},
   "outputs": [
    {
     "name": "stdout",
     "output_type": "stream",
     "text": [
      "No GPU found\n"
     ]
    }
   ],
   "source": [
    "import tensorflow as tf\n",
    "import os\n",
    "\n",
    "os.environ['CUDA_VISIBLE_DEVICES'] = '-1'\n",
    "\n",
    "if tf.test.gpu_device_name():\n",
    "    print('GPU found')\n",
    "else:\n",
    "    print(\"No GPU found\")"
   ]
  },
  {
   "cell_type": "markdown",
   "metadata": {},
   "source": [
    "## Preprocessing"
   ]
  },
  {
   "cell_type": "code",
   "execution_count": 3,
   "metadata": {},
   "outputs": [],
   "source": [
    "all_releases_df = pd.read_csv('all_releases.csv')"
   ]
  },
  {
   "cell_type": "code",
   "execution_count": 4,
   "metadata": {
    "scrolled": true
   },
   "outputs": [
    {
     "name": "stdout",
     "output_type": "stream",
     "text": [
      "Generating a new dataframe without containing the last release...\n",
      "... DONE!\n",
      "checking class larger than window size...\n",
      "DONE\n",
      "Setting the features...\n",
      "DONE\n",
      "X: (80568, 16) y: (80568,)\n"
     ]
    }
   ],
   "source": [
    "X, y = generateStandardTimeSeriesStructure(all_releases_df, 2)"
   ]
  },
  {
   "cell_type": "code",
   "execution_count": 5,
   "metadata": {
    "scrolled": true
   },
   "outputs": [
    {
     "name": "stdout",
     "output_type": "stream",
     "text": [
      "Declaring a dictionary to save results...\n",
      "... DONE!\n",
      "Splitting dataset into train and test sets...\n",
      "General information:\n",
      "X Train set: 56397 X Test set: 24171\n",
      "y Train set: 56397 y Test set: 24171\n",
      "... DONE!\n",
      "Scaling features...\n",
      "... DONE!\n",
      "Setting stratified k-fold...\n",
      "k = 10\n",
      "... DONE!\n",
      "\n"
     ]
    }
   ],
   "source": [
    "print(\"Declaring a dictionary to save results...\")\n",
    "results_dict = dict()\n",
    "print(\"... DONE!\")\n",
    "\n",
    "print(\"Splitting dataset into train and test sets...\")\n",
    "X_train, X_test, y_train, y_test = train_test_split(X, y, test_size=0.30, random_state=42)\n",
    "print(\"General information:\")\n",
    "print(\"X Train set:\", X_train.shape[0], \"X Test set:\", X_test.shape[0])\n",
    "print(\"y Train set:\", y_train.shape[0], \"y Test set:\", y_test.shape[0])\n",
    "print(\"... DONE!\")\n",
    "\n",
    "print(\"Scaling features...\")\n",
    "scaler = MinMaxScaler()\n",
    "X_train = pd.DataFrame(scaler.fit_transform(X_train))\n",
    "X_test = pd.DataFrame(scaler.fit_transform(X_test))\n",
    "print(\"... DONE!\")\n",
    "\n",
    "print(\"Setting stratified k-fold...\")\n",
    "k=10\n",
    "kf = StratifiedKFold(n_splits=k, shuffle=False, random_state=42)\n",
    "print(\"k =\", k)\n",
    "print(\"... DONE!\\n\")"
   ]
  },
  {
   "cell_type": "code",
   "execution_count": 6,
   "metadata": {},
   "outputs": [],
   "source": [
    "y_test = pd.DataFrame(y_test)\n",
    "y_train = pd.DataFrame(y_train)"
   ]
  },
  {
   "cell_type": "markdown",
   "metadata": {},
   "source": [
    "## Statistical Analysis"
   ]
  },
  {
   "cell_type": "code",
   "execution_count": 7,
   "metadata": {
    "scrolled": true
   },
   "outputs": [
    {
     "data": {
      "text/html": [
       "<div>\n",
       "<style scoped>\n",
       "    .dataframe tbody tr th:only-of-type {\n",
       "        vertical-align: middle;\n",
       "    }\n",
       "\n",
       "    .dataframe tbody tr th {\n",
       "        vertical-align: top;\n",
       "    }\n",
       "\n",
       "    .dataframe thead th {\n",
       "        text-align: right;\n",
       "    }\n",
       "</style>\n",
       "<table border=\"1\" class=\"dataframe\">\n",
       "  <thead>\n",
       "    <tr style=\"text-align: right;\">\n",
       "      <th></th>\n",
       "      <th>CountClassCoupled</th>\n",
       "      <th>CountClassDerived</th>\n",
       "      <th>CountDeclMethod</th>\n",
       "      <th>CountDeclMethodAll</th>\n",
       "      <th>CountLineCode</th>\n",
       "      <th>MaxInheritanceTree</th>\n",
       "      <th>PercentLackOfCohesion</th>\n",
       "      <th>SumCyclomatic</th>\n",
       "      <th>class_frequency</th>\n",
       "      <th>number_of_changes</th>\n",
       "      <th>release</th>\n",
       "      <th>will_change</th>\n",
       "    </tr>\n",
       "  </thead>\n",
       "  <tbody>\n",
       "    <tr>\n",
       "      <th>count</th>\n",
       "      <td>100640.000000</td>\n",
       "      <td>100640.000000</td>\n",
       "      <td>100640.000000</td>\n",
       "      <td>100640.000000</td>\n",
       "      <td>100640.000000</td>\n",
       "      <td>100640.000000</td>\n",
       "      <td>100640.000000</td>\n",
       "      <td>100640.000000</td>\n",
       "      <td>100640.000000</td>\n",
       "      <td>100640.000000</td>\n",
       "      <td>100640.000000</td>\n",
       "      <td>100640.000000</td>\n",
       "    </tr>\n",
       "    <tr>\n",
       "      <th>mean</th>\n",
       "      <td>5.338504</td>\n",
       "      <td>0.448698</td>\n",
       "      <td>4.287997</td>\n",
       "      <td>8.674672</td>\n",
       "      <td>57.746343</td>\n",
       "      <td>1.625735</td>\n",
       "      <td>17.538782</td>\n",
       "      <td>5.891107</td>\n",
       "      <td>6.378975</td>\n",
       "      <td>7.580535</td>\n",
       "      <td>8.864159</td>\n",
       "      <td>0.167548</td>\n",
       "    </tr>\n",
       "    <tr>\n",
       "      <th>std</th>\n",
       "      <td>7.230259</td>\n",
       "      <td>11.276201</td>\n",
       "      <td>5.618115</td>\n",
       "      <td>8.966859</td>\n",
       "      <td>117.082274</td>\n",
       "      <td>0.759659</td>\n",
       "      <td>28.567063</td>\n",
       "      <td>9.420142</td>\n",
       "      <td>4.120797</td>\n",
       "      <td>4.492134</td>\n",
       "      <td>4.233281</td>\n",
       "      <td>0.373466</td>\n",
       "    </tr>\n",
       "    <tr>\n",
       "      <th>min</th>\n",
       "      <td>0.000000</td>\n",
       "      <td>0.000000</td>\n",
       "      <td>0.000000</td>\n",
       "      <td>0.000000</td>\n",
       "      <td>0.000000</td>\n",
       "      <td>1.000000</td>\n",
       "      <td>0.000000</td>\n",
       "      <td>0.000000</td>\n",
       "      <td>1.000000</td>\n",
       "      <td>0.000000</td>\n",
       "      <td>1.000000</td>\n",
       "      <td>0.000000</td>\n",
       "    </tr>\n",
       "    <tr>\n",
       "      <th>25%</th>\n",
       "      <td>1.000000</td>\n",
       "      <td>0.000000</td>\n",
       "      <td>1.000000</td>\n",
       "      <td>2.000000</td>\n",
       "      <td>8.000000</td>\n",
       "      <td>1.000000</td>\n",
       "      <td>0.000000</td>\n",
       "      <td>1.000000</td>\n",
       "      <td>3.000000</td>\n",
       "      <td>4.000000</td>\n",
       "      <td>5.000000</td>\n",
       "      <td>0.000000</td>\n",
       "    </tr>\n",
       "    <tr>\n",
       "      <th>50%</th>\n",
       "      <td>3.000000</td>\n",
       "      <td>0.000000</td>\n",
       "      <td>2.000000</td>\n",
       "      <td>6.000000</td>\n",
       "      <td>22.000000</td>\n",
       "      <td>1.000000</td>\n",
       "      <td>0.000000</td>\n",
       "      <td>3.000000</td>\n",
       "      <td>6.000000</td>\n",
       "      <td>8.000000</td>\n",
       "      <td>9.000000</td>\n",
       "      <td>0.000000</td>\n",
       "    </tr>\n",
       "    <tr>\n",
       "      <th>75%</th>\n",
       "      <td>7.000000</td>\n",
       "      <td>0.000000</td>\n",
       "      <td>5.000000</td>\n",
       "      <td>11.000000</td>\n",
       "      <td>57.000000</td>\n",
       "      <td>2.000000</td>\n",
       "      <td>33.000000</td>\n",
       "      <td>7.000000</td>\n",
       "      <td>9.000000</td>\n",
       "      <td>12.000000</td>\n",
       "      <td>13.000000</td>\n",
       "      <td>0.000000</td>\n",
       "    </tr>\n",
       "    <tr>\n",
       "      <th>max</th>\n",
       "      <td>106.000000</td>\n",
       "      <td>901.000000</td>\n",
       "      <td>100.000000</td>\n",
       "      <td>100.000000</td>\n",
       "      <td>2749.000000</td>\n",
       "      <td>6.000000</td>\n",
       "      <td>100.000000</td>\n",
       "      <td>179.000000</td>\n",
       "      <td>15.000000</td>\n",
       "      <td>15.000000</td>\n",
       "      <td>15.000000</td>\n",
       "      <td>1.000000</td>\n",
       "    </tr>\n",
       "  </tbody>\n",
       "</table>\n",
       "</div>"
      ],
      "text/plain": [
       "       CountClassCoupled  CountClassDerived  CountDeclMethod  \\\n",
       "count      100640.000000      100640.000000    100640.000000   \n",
       "mean            5.338504           0.448698         4.287997   \n",
       "std             7.230259          11.276201         5.618115   \n",
       "min             0.000000           0.000000         0.000000   \n",
       "25%             1.000000           0.000000         1.000000   \n",
       "50%             3.000000           0.000000         2.000000   \n",
       "75%             7.000000           0.000000         5.000000   \n",
       "max           106.000000         901.000000       100.000000   \n",
       "\n",
       "       CountDeclMethodAll  CountLineCode  MaxInheritanceTree  \\\n",
       "count       100640.000000  100640.000000       100640.000000   \n",
       "mean             8.674672      57.746343            1.625735   \n",
       "std              8.966859     117.082274            0.759659   \n",
       "min              0.000000       0.000000            1.000000   \n",
       "25%              2.000000       8.000000            1.000000   \n",
       "50%              6.000000      22.000000            1.000000   \n",
       "75%             11.000000      57.000000            2.000000   \n",
       "max            100.000000    2749.000000            6.000000   \n",
       "\n",
       "       PercentLackOfCohesion  SumCyclomatic  class_frequency  \\\n",
       "count          100640.000000  100640.000000    100640.000000   \n",
       "mean               17.538782       5.891107         6.378975   \n",
       "std                28.567063       9.420142         4.120797   \n",
       "min                 0.000000       0.000000         1.000000   \n",
       "25%                 0.000000       1.000000         3.000000   \n",
       "50%                 0.000000       3.000000         6.000000   \n",
       "75%                33.000000       7.000000         9.000000   \n",
       "max               100.000000     179.000000        15.000000   \n",
       "\n",
       "       number_of_changes        release    will_change  \n",
       "count      100640.000000  100640.000000  100640.000000  \n",
       "mean            7.580535       8.864159       0.167548  \n",
       "std             4.492134       4.233281       0.373466  \n",
       "min             0.000000       1.000000       0.000000  \n",
       "25%             4.000000       5.000000       0.000000  \n",
       "50%             8.000000       9.000000       0.000000  \n",
       "75%            12.000000      13.000000       0.000000  \n",
       "max            15.000000      15.000000       1.000000  "
      ]
     },
     "execution_count": 7,
     "metadata": {},
     "output_type": "execute_result"
    }
   ],
   "source": [
    "all_releases_df.describe()"
   ]
  },
  {
   "cell_type": "code",
   "execution_count": 8,
   "metadata": {},
   "outputs": [
    {
     "data": {
      "text/plain": [
       "0\n",
       "False    44915\n",
       "True     11482\n",
       "Name: 0, dtype: int64"
      ]
     },
     "execution_count": 8,
     "metadata": {},
     "output_type": "execute_result"
    },
    {
     "data": {
      "image/png": "[encoded data removed]",
      "text/plain": [
       "<Figure size 360x360 with 1 Axes>"
      ]
     },
     "metadata": {},
     "output_type": "display_data"
    }
   ],
   "source": [
    "ax = y_train.groupby([0])[0].count().plot.bar(title=\"Class Distribution\", figsize=(5,5))\n",
    "y_train.groupby([0])[0].count()"
   ]
  },
  {
   "cell_type": "code",
   "execution_count": 9,
   "metadata": {
    "scrolled": true
   },
   "outputs": [
    {
     "data": {
      "text/html": [
       "<style  type=\"text/css\" >\n",
       "    #T_51242ff4_0f89_11ea_8201_08d40c109473row0_col0 {\n",
       "            background-color:  #b40426;\n",
       "        }    #T_51242ff4_0f89_11ea_8201_08d40c109473row0_col1 {\n",
       "            background-color:  #465ecf;\n",
       "        }    #T_51242ff4_0f89_11ea_8201_08d40c109473row0_col2 {\n",
       "            background-color:  #dcdddd;\n",
       "        }    #T_51242ff4_0f89_11ea_8201_08d40c109473row0_col3 {\n",
       "            background-color:  #a2c1ff;\n",
       "        }    #T_51242ff4_0f89_11ea_8201_08d40c109473row0_col4 {\n",
       "            background-color:  #f6bda2;\n",
       "        }    #T_51242ff4_0f89_11ea_8201_08d40c109473row0_col5 {\n",
       "            background-color:  #3b4cc0;\n",
       "        }    #T_51242ff4_0f89_11ea_8201_08d40c109473row0_col6 {\n",
       "            background-color:  #c0d4f5;\n",
       "        }    #T_51242ff4_0f89_11ea_8201_08d40c109473row0_col7 {\n",
       "            background-color:  #e7d7ce;\n",
       "        }    #T_51242ff4_0f89_11ea_8201_08d40c109473row0_col8 {\n",
       "            background-color:  #b40426;\n",
       "        }    #T_51242ff4_0f89_11ea_8201_08d40c109473row0_col9 {\n",
       "            background-color:  #465ecf;\n",
       "        }    #T_51242ff4_0f89_11ea_8201_08d40c109473row0_col10 {\n",
       "            background-color:  #dcdddd;\n",
       "        }    #T_51242ff4_0f89_11ea_8201_08d40c109473row0_col11 {\n",
       "            background-color:  #a2c1ff;\n",
       "        }    #T_51242ff4_0f89_11ea_8201_08d40c109473row0_col12 {\n",
       "            background-color:  #f6bda2;\n",
       "        }    #T_51242ff4_0f89_11ea_8201_08d40c109473row0_col13 {\n",
       "            background-color:  #3b4cc0;\n",
       "        }    #T_51242ff4_0f89_11ea_8201_08d40c109473row0_col14 {\n",
       "            background-color:  #c0d4f5;\n",
       "        }    #T_51242ff4_0f89_11ea_8201_08d40c109473row0_col15 {\n",
       "            background-color:  #e7d7ce;\n",
       "        }    #T_51242ff4_0f89_11ea_8201_08d40c109473row1_col0 {\n",
       "            background-color:  #3b4cc0;\n",
       "        }    #T_51242ff4_0f89_11ea_8201_08d40c109473row1_col1 {\n",
       "            background-color:  #b40426;\n",
       "        }    #T_51242ff4_0f89_11ea_8201_08d40c109473row1_col2 {\n",
       "            background-color:  #5673e0;\n",
       "        }    #T_51242ff4_0f89_11ea_8201_08d40c109473row1_col3 {\n",
       "            background-color:  #4b64d5;\n",
       "        }    #T_51242ff4_0f89_11ea_8201_08d40c109473row1_col4 {\n",
       "            background-color:  #455cce;\n",
       "        }    #T_51242ff4_0f89_11ea_8201_08d40c109473row1_col5 {\n",
       "            background-color:  #3b4cc0;\n",
       "        }    #T_51242ff4_0f89_11ea_8201_08d40c109473row1_col6 {\n",
       "            background-color:  #4257c9;\n",
       "        }    #T_51242ff4_0f89_11ea_8201_08d40c109473row1_col7 {\n",
       "            background-color:  #455cce;\n",
       "        }    #T_51242ff4_0f89_11ea_8201_08d40c109473row1_col8 {\n",
       "            background-color:  #3b4cc0;\n",
       "        }    #T_51242ff4_0f89_11ea_8201_08d40c109473row1_col9 {\n",
       "            background-color:  #b40426;\n",
       "        }    #T_51242ff4_0f89_11ea_8201_08d40c109473row1_col10 {\n",
       "            background-color:  #5673e0;\n",
       "        }    #T_51242ff4_0f89_11ea_8201_08d40c109473row1_col11 {\n",
       "            background-color:  #4b64d5;\n",
       "        }    #T_51242ff4_0f89_11ea_8201_08d40c109473row1_col12 {\n",
       "            background-color:  #455cce;\n",
       "        }    #T_51242ff4_0f89_11ea_8201_08d40c109473row1_col13 {\n",
       "            background-color:  #3b4cc0;\n",
       "        }    #T_51242ff4_0f89_11ea_8201_08d40c109473row1_col14 {\n",
       "            background-color:  #4257c9;\n",
       "        }    #T_51242ff4_0f89_11ea_8201_08d40c109473row1_col15 {\n",
       "            background-color:  #455cce;\n",
       "        }    #T_51242ff4_0f89_11ea_8201_08d40c109473row2_col0 {\n",
       "            background-color:  #e9d5cb;\n",
       "        }    #T_51242ff4_0f89_11ea_8201_08d40c109473row2_col1 {\n",
       "            background-color:  #80a3fa;\n",
       "        }    #T_51242ff4_0f89_11ea_8201_08d40c109473row2_col2 {\n",
       "            background-color:  #b40426;\n",
       "        }    #T_51242ff4_0f89_11ea_8201_08d40c109473row2_col3 {\n",
       "            background-color:  #edd2c3;\n",
       "        }    #T_51242ff4_0f89_11ea_8201_08d40c109473row2_col4 {\n",
       "            background-color:  #e8765c;\n",
       "        }    #T_51242ff4_0f89_11ea_8201_08d40c109473row2_col5 {\n",
       "            background-color:  #3b4cc0;\n",
       "        }    #T_51242ff4_0f89_11ea_8201_08d40c109473row2_col6 {\n",
       "            background-color:  #f5c4ac;\n",
       "        }    #T_51242ff4_0f89_11ea_8201_08d40c109473row2_col7 {\n",
       "            background-color:  #d75445;\n",
       "        }    #T_51242ff4_0f89_11ea_8201_08d40c109473row2_col8 {\n",
       "            background-color:  #e8d6cc;\n",
       "        }    #T_51242ff4_0f89_11ea_8201_08d40c109473row2_col9 {\n",
       "            background-color:  #80a3fa;\n",
       "        }    #T_51242ff4_0f89_11ea_8201_08d40c109473row2_col10 {\n",
       "            background-color:  #b40426;\n",
       "        }    #T_51242ff4_0f89_11ea_8201_08d40c109473row2_col11 {\n",
       "            background-color:  #edd2c3;\n",
       "        }    #T_51242ff4_0f89_11ea_8201_08d40c109473row2_col12 {\n",
       "            background-color:  #e9785d;\n",
       "        }    #T_51242ff4_0f89_11ea_8201_08d40c109473row2_col13 {\n",
       "            background-color:  #3b4cc0;\n",
       "        }    #T_51242ff4_0f89_11ea_8201_08d40c109473row2_col14 {\n",
       "            background-color:  #f5c4ac;\n",
       "        }    #T_51242ff4_0f89_11ea_8201_08d40c109473row2_col15 {\n",
       "            background-color:  #d85646;\n",
       "        }    #T_51242ff4_0f89_11ea_8201_08d40c109473row3_col0 {\n",
       "            background-color:  #89acfd;\n",
       "        }    #T_51242ff4_0f89_11ea_8201_08d40c109473row3_col1 {\n",
       "            background-color:  #3b4cc0;\n",
       "        }    #T_51242ff4_0f89_11ea_8201_08d40c109473row3_col2 {\n",
       "            background-color:  #d6dce4;\n",
       "        }    #T_51242ff4_0f89_11ea_8201_08d40c109473row3_col3 {\n",
       "            background-color:  #b40426;\n",
       "        }    #T_51242ff4_0f89_11ea_8201_08d40c109473row3_col4 {\n",
       "            background-color:  #93b5fe;\n",
       "        }    #T_51242ff4_0f89_11ea_8201_08d40c109473row3_col5 {\n",
       "            background-color:  #d9dce1;\n",
       "        }    #T_51242ff4_0f89_11ea_8201_08d40c109473row3_col6 {\n",
       "            background-color:  #93b5fe;\n",
       "        }    #T_51242ff4_0f89_11ea_8201_08d40c109473row3_col7 {\n",
       "            background-color:  #c1d4f4;\n",
       "        }    #T_51242ff4_0f89_11ea_8201_08d40c109473row3_col8 {\n",
       "            background-color:  #89acfd;\n",
       "        }    #T_51242ff4_0f89_11ea_8201_08d40c109473row3_col9 {\n",
       "            background-color:  #3b4cc0;\n",
       "        }    #T_51242ff4_0f89_11ea_8201_08d40c109473row3_col10 {\n",
       "            background-color:  #d6dce4;\n",
       "        }    #T_51242ff4_0f89_11ea_8201_08d40c109473row3_col11 {\n",
       "            background-color:  #b40426;\n",
       "        }    #T_51242ff4_0f89_11ea_8201_08d40c109473row3_col12 {\n",
       "            background-color:  #93b5fe;\n",
       "        }    #T_51242ff4_0f89_11ea_8201_08d40c109473row3_col13 {\n",
       "            background-color:  #d9dce1;\n",
       "        }    #T_51242ff4_0f89_11ea_8201_08d40c109473row3_col14 {\n",
       "            background-color:  #93b5fe;\n",
       "        }    #T_51242ff4_0f89_11ea_8201_08d40c109473row3_col15 {\n",
       "            background-color:  #c1d4f4;\n",
       "        }    #T_51242ff4_0f89_11ea_8201_08d40c109473row4_col0 {\n",
       "            background-color:  #f7aa8c;\n",
       "        }    #T_51242ff4_0f89_11ea_8201_08d40c109473row4_col1 {\n",
       "            background-color:  #82a6fb;\n",
       "        }    #T_51242ff4_0f89_11ea_8201_08d40c109473row4_col2 {\n",
       "            background-color:  #e67259;\n",
       "        }    #T_51242ff4_0f89_11ea_8201_08d40c109473row4_col3 {\n",
       "            background-color:  #ccd9ed;\n",
       "        }    #T_51242ff4_0f89_11ea_8201_08d40c109473row4_col4 {\n",
       "            background-color:  #b40426;\n",
       "        }    #T_51242ff4_0f89_11ea_8201_08d40c109473row4_col5 {\n",
       "            background-color:  #3b4cc0;\n",
       "        }    #T_51242ff4_0f89_11ea_8201_08d40c109473row4_col6 {\n",
       "            background-color:  #f5c1a9;\n",
       "        }    #T_51242ff4_0f89_11ea_8201_08d40c109473row4_col7 {\n",
       "            background-color:  #d95847;\n",
       "        }    #T_51242ff4_0f89_11ea_8201_08d40c109473row4_col8 {\n",
       "            background-color:  #f7aa8c;\n",
       "        }    #T_51242ff4_0f89_11ea_8201_08d40c109473row4_col9 {\n",
       "            background-color:  #81a4fb;\n",
       "        }    #T_51242ff4_0f89_11ea_8201_08d40c109473row4_col10 {\n",
       "            background-color:  #e67259;\n",
       "        }    #T_51242ff4_0f89_11ea_8201_08d40c109473row4_col11 {\n",
       "            background-color:  #ccd9ed;\n",
       "        }    #T_51242ff4_0f89_11ea_8201_08d40c109473row4_col12 {\n",
       "            background-color:  #b40426;\n",
       "        }    #T_51242ff4_0f89_11ea_8201_08d40c109473row4_col13 {\n",
       "            background-color:  #3b4cc0;\n",
       "        }    #T_51242ff4_0f89_11ea_8201_08d40c109473row4_col14 {\n",
       "            background-color:  #f5c2aa;\n",
       "        }    #T_51242ff4_0f89_11ea_8201_08d40c109473row4_col15 {\n",
       "            background-color:  #da5a49;\n",
       "        }    #T_51242ff4_0f89_11ea_8201_08d40c109473row5_col0 {\n",
       "            background-color:  #6c8ff1;\n",
       "        }    #T_51242ff4_0f89_11ea_8201_08d40c109473row5_col1 {\n",
       "            background-color:  #779af7;\n",
       "        }    #T_51242ff4_0f89_11ea_8201_08d40c109473row5_col2 {\n",
       "            background-color:  #4e68d8;\n",
       "        }    #T_51242ff4_0f89_11ea_8201_08d40c109473row5_col3 {\n",
       "            background-color:  #f2c9b4;\n",
       "        }    #T_51242ff4_0f89_11ea_8201_08d40c109473row5_col4 {\n",
       "            background-color:  #3b4cc0;\n",
       "        }    #T_51242ff4_0f89_11ea_8201_08d40c109473row5_col5 {\n",
       "            background-color:  #b40426;\n",
       "        }    #T_51242ff4_0f89_11ea_8201_08d40c109473row5_col6 {\n",
       "            background-color:  #5b7ae5;\n",
       "        }    #T_51242ff4_0f89_11ea_8201_08d40c109473row5_col7 {\n",
       "            background-color:  #5a78e4;\n",
       "        }    #T_51242ff4_0f89_11ea_8201_08d40c109473row5_col8 {\n",
       "            background-color:  #6c8ff1;\n",
       "        }    #T_51242ff4_0f89_11ea_8201_08d40c109473row5_col9 {\n",
       "            background-color:  #779af7;\n",
       "        }    #T_51242ff4_0f89_11ea_8201_08d40c109473row5_col10 {\n",
       "            background-color:  #4f69d9;\n",
       "        }    #T_51242ff4_0f89_11ea_8201_08d40c109473row5_col11 {\n",
       "            background-color:  #f2c9b4;\n",
       "        }    #T_51242ff4_0f89_11ea_8201_08d40c109473row5_col12 {\n",
       "            background-color:  #3b4cc0;\n",
       "        }    #T_51242ff4_0f89_11ea_8201_08d40c109473row5_col13 {\n",
       "            background-color:  #b40426;\n",
       "        }    #T_51242ff4_0f89_11ea_8201_08d40c109473row5_col14 {\n",
       "            background-color:  #5b7ae5;\n",
       "        }    #T_51242ff4_0f89_11ea_8201_08d40c109473row5_col15 {\n",
       "            background-color:  #5a78e4;\n",
       "        }    #T_51242ff4_0f89_11ea_8201_08d40c109473row6_col0 {\n",
       "            background-color:  #cbd8ee;\n",
       "        }    #T_51242ff4_0f89_11ea_8201_08d40c109473row6_col1 {\n",
       "            background-color:  #5e7de7;\n",
       "        }    #T_51242ff4_0f89_11ea_8201_08d40c109473row6_col2 {\n",
       "            background-color:  #f2c9b4;\n",
       "        }    #T_51242ff4_0f89_11ea_8201_08d40c109473row6_col3 {\n",
       "            background-color:  #b6cefa;\n",
       "        }    #T_51242ff4_0f89_11ea_8201_08d40c109473row6_col4 {\n",
       "            background-color:  #f0cdbb;\n",
       "        }    #T_51242ff4_0f89_11ea_8201_08d40c109473row6_col5 {\n",
       "            background-color:  #3b4cc0;\n",
       "        }    #T_51242ff4_0f89_11ea_8201_08d40c109473row6_col6 {\n",
       "            background-color:  #b40426;\n",
       "        }    #T_51242ff4_0f89_11ea_8201_08d40c109473row6_col7 {\n",
       "            background-color:  #f4c5ad;\n",
       "        }    #T_51242ff4_0f89_11ea_8201_08d40c109473row6_col8 {\n",
       "            background-color:  #cad8ef;\n",
       "        }    #T_51242ff4_0f89_11ea_8201_08d40c109473row6_col9 {\n",
       "            background-color:  #5e7de7;\n",
       "        }    #T_51242ff4_0f89_11ea_8201_08d40c109473row6_col10 {\n",
       "            background-color:  #f2c9b4;\n",
       "        }    #T_51242ff4_0f89_11ea_8201_08d40c109473row6_col11 {\n",
       "            background-color:  #b6cefa;\n",
       "        }    #T_51242ff4_0f89_11ea_8201_08d40c109473row6_col12 {\n",
       "            background-color:  #f0cdbb;\n",
       "        }    #T_51242ff4_0f89_11ea_8201_08d40c109473row6_col13 {\n",
       "            background-color:  #3b4cc0;\n",
       "        }    #T_51242ff4_0f89_11ea_8201_08d40c109473row6_col14 {\n",
       "            background-color:  #b50927;\n",
       "        }    #T_51242ff4_0f89_11ea_8201_08d40c109473row6_col15 {\n",
       "            background-color:  #f4c6af;\n",
       "        }    #T_51242ff4_0f89_11ea_8201_08d40c109473row7_col0 {\n",
       "            background-color:  #edd2c3;\n",
       "        }    #T_51242ff4_0f89_11ea_8201_08d40c109473row7_col1 {\n",
       "            background-color:  #6282ea;\n",
       "        }    #T_51242ff4_0f89_11ea_8201_08d40c109473row7_col2 {\n",
       "            background-color:  #d85646;\n",
       "        }    #T_51242ff4_0f89_11ea_8201_08d40c109473row7_col3 {\n",
       "            background-color:  #dadce0;\n",
       "        }    #T_51242ff4_0f89_11ea_8201_08d40c109473row7_col4 {\n",
       "            background-color:  #de614d;\n",
       "        }    #T_51242ff4_0f89_11ea_8201_08d40c109473row7_col5 {\n",
       "            background-color:  #3b4cc0;\n",
       "        }    #T_51242ff4_0f89_11ea_8201_08d40c109473row7_col6 {\n",
       "            background-color:  #f4c5ad;\n",
       "        }    #T_51242ff4_0f89_11ea_8201_08d40c109473row7_col7 {\n",
       "            background-color:  #b40426;\n",
       "        }    #T_51242ff4_0f89_11ea_8201_08d40c109473row7_col8 {\n",
       "            background-color:  #edd2c3;\n",
       "        }    #T_51242ff4_0f89_11ea_8201_08d40c109473row7_col9 {\n",
       "            background-color:  #6282ea;\n",
       "        }    #T_51242ff4_0f89_11ea_8201_08d40c109473row7_col10 {\n",
       "            background-color:  #d95847;\n",
       "        }    #T_51242ff4_0f89_11ea_8201_08d40c109473row7_col11 {\n",
       "            background-color:  #dadce0;\n",
       "        }    #T_51242ff4_0f89_11ea_8201_08d40c109473row7_col12 {\n",
       "            background-color:  #de614d;\n",
       "        }    #T_51242ff4_0f89_11ea_8201_08d40c109473row7_col13 {\n",
       "            background-color:  #3b4cc0;\n",
       "        }    #T_51242ff4_0f89_11ea_8201_08d40c109473row7_col14 {\n",
       "            background-color:  #f4c5ad;\n",
       "        }    #T_51242ff4_0f89_11ea_8201_08d40c109473row7_col15 {\n",
       "            background-color:  #b40426;\n",
       "        }    #T_51242ff4_0f89_11ea_8201_08d40c109473row8_col0 {\n",
       "            background-color:  #b40426;\n",
       "        }    #T_51242ff4_0f89_11ea_8201_08d40c109473row8_col1 {\n",
       "            background-color:  #455cce;\n",
       "        }    #T_51242ff4_0f89_11ea_8201_08d40c109473row8_col2 {\n",
       "            background-color:  #dbdcde;\n",
       "        }    #T_51242ff4_0f89_11ea_8201_08d40c109473row8_col3 {\n",
       "            background-color:  #a2c1ff;\n",
       "        }    #T_51242ff4_0f89_11ea_8201_08d40c109473row8_col4 {\n",
       "            background-color:  #f6bda2;\n",
       "        }    #T_51242ff4_0f89_11ea_8201_08d40c109473row8_col5 {\n",
       "            background-color:  #3b4cc0;\n",
       "        }    #T_51242ff4_0f89_11ea_8201_08d40c109473row8_col6 {\n",
       "            background-color:  #c0d4f5;\n",
       "        }    #T_51242ff4_0f89_11ea_8201_08d40c109473row8_col7 {\n",
       "            background-color:  #e7d7ce;\n",
       "        }    #T_51242ff4_0f89_11ea_8201_08d40c109473row8_col8 {\n",
       "            background-color:  #b40426;\n",
       "        }    #T_51242ff4_0f89_11ea_8201_08d40c109473row8_col9 {\n",
       "            background-color:  #465ecf;\n",
       "        }    #T_51242ff4_0f89_11ea_8201_08d40c109473row8_col10 {\n",
       "            background-color:  #dcdddd;\n",
       "        }    #T_51242ff4_0f89_11ea_8201_08d40c109473row8_col11 {\n",
       "            background-color:  #a2c1ff;\n",
       "        }    #T_51242ff4_0f89_11ea_8201_08d40c109473row8_col12 {\n",
       "            background-color:  #f6bda2;\n",
       "        }    #T_51242ff4_0f89_11ea_8201_08d40c109473row8_col13 {\n",
       "            background-color:  #3b4cc0;\n",
       "        }    #T_51242ff4_0f89_11ea_8201_08d40c109473row8_col14 {\n",
       "            background-color:  #c0d4f5;\n",
       "        }    #T_51242ff4_0f89_11ea_8201_08d40c109473row8_col15 {\n",
       "            background-color:  #e7d7ce;\n",
       "        }    #T_51242ff4_0f89_11ea_8201_08d40c109473row9_col0 {\n",
       "            background-color:  #3b4cc0;\n",
       "        }    #T_51242ff4_0f89_11ea_8201_08d40c109473row9_col1 {\n",
       "            background-color:  #b40426;\n",
       "        }    #T_51242ff4_0f89_11ea_8201_08d40c109473row9_col2 {\n",
       "            background-color:  #5673e0;\n",
       "        }    #T_51242ff4_0f89_11ea_8201_08d40c109473row9_col3 {\n",
       "            background-color:  #4a63d3;\n",
       "        }    #T_51242ff4_0f89_11ea_8201_08d40c109473row9_col4 {\n",
       "            background-color:  #455cce;\n",
       "        }    #T_51242ff4_0f89_11ea_8201_08d40c109473row9_col5 {\n",
       "            background-color:  #3b4cc0;\n",
       "        }    #T_51242ff4_0f89_11ea_8201_08d40c109473row9_col6 {\n",
       "            background-color:  #4257c9;\n",
       "        }    #T_51242ff4_0f89_11ea_8201_08d40c109473row9_col7 {\n",
       "            background-color:  #445acc;\n",
       "        }    #T_51242ff4_0f89_11ea_8201_08d40c109473row9_col8 {\n",
       "            background-color:  #3b4cc0;\n",
       "        }    #T_51242ff4_0f89_11ea_8201_08d40c109473row9_col9 {\n",
       "            background-color:  #b40426;\n",
       "        }    #T_51242ff4_0f89_11ea_8201_08d40c109473row9_col10 {\n",
       "            background-color:  #5673e0;\n",
       "        }    #T_51242ff4_0f89_11ea_8201_08d40c109473row9_col11 {\n",
       "            background-color:  #4b64d5;\n",
       "        }    #T_51242ff4_0f89_11ea_8201_08d40c109473row9_col12 {\n",
       "            background-color:  #455cce;\n",
       "        }    #T_51242ff4_0f89_11ea_8201_08d40c109473row9_col13 {\n",
       "            background-color:  #3b4cc0;\n",
       "        }    #T_51242ff4_0f89_11ea_8201_08d40c109473row9_col14 {\n",
       "            background-color:  #4257c9;\n",
       "        }    #T_51242ff4_0f89_11ea_8201_08d40c109473row9_col15 {\n",
       "            background-color:  #445acc;\n",
       "        }    #T_51242ff4_0f89_11ea_8201_08d40c109473row10_col0 {\n",
       "            background-color:  #e8d6cc;\n",
       "        }    #T_51242ff4_0f89_11ea_8201_08d40c109473row10_col1 {\n",
       "            background-color:  #80a3fa;\n",
       "        }    #T_51242ff4_0f89_11ea_8201_08d40c109473row10_col2 {\n",
       "            background-color:  #b40426;\n",
       "        }    #T_51242ff4_0f89_11ea_8201_08d40c109473row10_col3 {\n",
       "            background-color:  #edd2c3;\n",
       "        }    #T_51242ff4_0f89_11ea_8201_08d40c109473row10_col4 {\n",
       "            background-color:  #e9785d;\n",
       "        }    #T_51242ff4_0f89_11ea_8201_08d40c109473row10_col5 {\n",
       "            background-color:  #3b4cc0;\n",
       "        }    #T_51242ff4_0f89_11ea_8201_08d40c109473row10_col6 {\n",
       "            background-color:  #f5c4ac;\n",
       "        }    #T_51242ff4_0f89_11ea_8201_08d40c109473row10_col7 {\n",
       "            background-color:  #d85646;\n",
       "        }    #T_51242ff4_0f89_11ea_8201_08d40c109473row10_col8 {\n",
       "            background-color:  #e8d6cc;\n",
       "        }    #T_51242ff4_0f89_11ea_8201_08d40c109473row10_col9 {\n",
       "            background-color:  #80a3fa;\n",
       "        }    #T_51242ff4_0f89_11ea_8201_08d40c109473row10_col10 {\n",
       "            background-color:  #b40426;\n",
       "        }    #T_51242ff4_0f89_11ea_8201_08d40c109473row10_col11 {\n",
       "            background-color:  #edd2c3;\n",
       "        }    #T_51242ff4_0f89_11ea_8201_08d40c109473row10_col12 {\n",
       "            background-color:  #e9785d;\n",
       "        }    #T_51242ff4_0f89_11ea_8201_08d40c109473row10_col13 {\n",
       "            background-color:  #3b4cc0;\n",
       "        }    #T_51242ff4_0f89_11ea_8201_08d40c109473row10_col14 {\n",
       "            background-color:  #f5c4ac;\n",
       "        }    #T_51242ff4_0f89_11ea_8201_08d40c109473row10_col15 {\n",
       "            background-color:  #d75445;\n",
       "        }    #T_51242ff4_0f89_11ea_8201_08d40c109473row11_col0 {\n",
       "            background-color:  #89acfd;\n",
       "        }    #T_51242ff4_0f89_11ea_8201_08d40c109473row11_col1 {\n",
       "            background-color:  #3b4cc0;\n",
       "        }    #T_51242ff4_0f89_11ea_8201_08d40c109473row11_col2 {\n",
       "            background-color:  #d5dbe5;\n",
       "        }    #T_51242ff4_0f89_11ea_8201_08d40c109473row11_col3 {\n",
       "            background-color:  #b40426;\n",
       "        }    #T_51242ff4_0f89_11ea_8201_08d40c109473row11_col4 {\n",
       "            background-color:  #93b5fe;\n",
       "        }    #T_51242ff4_0f89_11ea_8201_08d40c109473row11_col5 {\n",
       "            background-color:  #d9dce1;\n",
       "        }    #T_51242ff4_0f89_11ea_8201_08d40c109473row11_col6 {\n",
       "            background-color:  #92b4fe;\n",
       "        }    #T_51242ff4_0f89_11ea_8201_08d40c109473row11_col7 {\n",
       "            background-color:  #c1d4f4;\n",
       "        }    #T_51242ff4_0f89_11ea_8201_08d40c109473row11_col8 {\n",
       "            background-color:  #89acfd;\n",
       "        }    #T_51242ff4_0f89_11ea_8201_08d40c109473row11_col9 {\n",
       "            background-color:  #3b4cc0;\n",
       "        }    #T_51242ff4_0f89_11ea_8201_08d40c109473row11_col10 {\n",
       "            background-color:  #d6dce4;\n",
       "        }    #T_51242ff4_0f89_11ea_8201_08d40c109473row11_col11 {\n",
       "            background-color:  #b40426;\n",
       "        }    #T_51242ff4_0f89_11ea_8201_08d40c109473row11_col12 {\n",
       "            background-color:  #93b5fe;\n",
       "        }    #T_51242ff4_0f89_11ea_8201_08d40c109473row11_col13 {\n",
       "            background-color:  #d9dce1;\n",
       "        }    #T_51242ff4_0f89_11ea_8201_08d40c109473row11_col14 {\n",
       "            background-color:  #93b5fe;\n",
       "        }    #T_51242ff4_0f89_11ea_8201_08d40c109473row11_col15 {\n",
       "            background-color:  #c3d5f4;\n",
       "        }    #T_51242ff4_0f89_11ea_8201_08d40c109473row12_col0 {\n",
       "            background-color:  #f7aa8c;\n",
       "        }    #T_51242ff4_0f89_11ea_8201_08d40c109473row12_col1 {\n",
       "            background-color:  #81a4fb;\n",
       "        }    #T_51242ff4_0f89_11ea_8201_08d40c109473row12_col2 {\n",
       "            background-color:  #e67259;\n",
       "        }    #T_51242ff4_0f89_11ea_8201_08d40c109473row12_col3 {\n",
       "            background-color:  #ccd9ed;\n",
       "        }    #T_51242ff4_0f89_11ea_8201_08d40c109473row12_col4 {\n",
       "            background-color:  #b40426;\n",
       "        }    #T_51242ff4_0f89_11ea_8201_08d40c109473row12_col5 {\n",
       "            background-color:  #3b4cc0;\n",
       "        }    #T_51242ff4_0f89_11ea_8201_08d40c109473row12_col6 {\n",
       "            background-color:  #f5c2aa;\n",
       "        }    #T_51242ff4_0f89_11ea_8201_08d40c109473row12_col7 {\n",
       "            background-color:  #da5a49;\n",
       "        }    #T_51242ff4_0f89_11ea_8201_08d40c109473row12_col8 {\n",
       "            background-color:  #f7aa8c;\n",
       "        }    #T_51242ff4_0f89_11ea_8201_08d40c109473row12_col9 {\n",
       "            background-color:  #81a4fb;\n",
       "        }    #T_51242ff4_0f89_11ea_8201_08d40c109473row12_col10 {\n",
       "            background-color:  #e67259;\n",
       "        }    #T_51242ff4_0f89_11ea_8201_08d40c109473row12_col11 {\n",
       "            background-color:  #ccd9ed;\n",
       "        }    #T_51242ff4_0f89_11ea_8201_08d40c109473row12_col12 {\n",
       "            background-color:  #b40426;\n",
       "        }    #T_51242ff4_0f89_11ea_8201_08d40c109473row12_col13 {\n",
       "            background-color:  #3b4cc0;\n",
       "        }    #T_51242ff4_0f89_11ea_8201_08d40c109473row12_col14 {\n",
       "            background-color:  #f5c1a9;\n",
       "        }    #T_51242ff4_0f89_11ea_8201_08d40c109473row12_col15 {\n",
       "            background-color:  #d95847;\n",
       "        }    #T_51242ff4_0f89_11ea_8201_08d40c109473row13_col0 {\n",
       "            background-color:  #6c8ff1;\n",
       "        }    #T_51242ff4_0f89_11ea_8201_08d40c109473row13_col1 {\n",
       "            background-color:  #779af7;\n",
       "        }    #T_51242ff4_0f89_11ea_8201_08d40c109473row13_col2 {\n",
       "            background-color:  #4e68d8;\n",
       "        }    #T_51242ff4_0f89_11ea_8201_08d40c109473row13_col3 {\n",
       "            background-color:  #f2cab5;\n",
       "        }    #T_51242ff4_0f89_11ea_8201_08d40c109473row13_col4 {\n",
       "            background-color:  #3b4cc0;\n",
       "        }    #T_51242ff4_0f89_11ea_8201_08d40c109473row13_col5 {\n",
       "            background-color:  #b40426;\n",
       "        }    #T_51242ff4_0f89_11ea_8201_08d40c109473row13_col6 {\n",
       "            background-color:  #5b7ae5;\n",
       "        }    #T_51242ff4_0f89_11ea_8201_08d40c109473row13_col7 {\n",
       "            background-color:  #5a78e4;\n",
       "        }    #T_51242ff4_0f89_11ea_8201_08d40c109473row13_col8 {\n",
       "            background-color:  #6c8ff1;\n",
       "        }    #T_51242ff4_0f89_11ea_8201_08d40c109473row13_col9 {\n",
       "            background-color:  #779af7;\n",
       "        }    #T_51242ff4_0f89_11ea_8201_08d40c109473row13_col10 {\n",
       "            background-color:  #4e68d8;\n",
       "        }    #T_51242ff4_0f89_11ea_8201_08d40c109473row13_col11 {\n",
       "            background-color:  #f2c9b4;\n",
       "        }    #T_51242ff4_0f89_11ea_8201_08d40c109473row13_col12 {\n",
       "            background-color:  #3b4cc0;\n",
       "        }    #T_51242ff4_0f89_11ea_8201_08d40c109473row13_col13 {\n",
       "            background-color:  #b40426;\n",
       "        }    #T_51242ff4_0f89_11ea_8201_08d40c109473row13_col14 {\n",
       "            background-color:  #5b7ae5;\n",
       "        }    #T_51242ff4_0f89_11ea_8201_08d40c109473row13_col15 {\n",
       "            background-color:  #5a78e4;\n",
       "        }    #T_51242ff4_0f89_11ea_8201_08d40c109473row14_col0 {\n",
       "            background-color:  #cad8ef;\n",
       "        }    #T_51242ff4_0f89_11ea_8201_08d40c109473row14_col1 {\n",
       "            background-color:  #5e7de7;\n",
       "        }    #T_51242ff4_0f89_11ea_8201_08d40c109473row14_col2 {\n",
       "            background-color:  #f2c9b4;\n",
       "        }    #T_51242ff4_0f89_11ea_8201_08d40c109473row14_col3 {\n",
       "            background-color:  #b6cefa;\n",
       "        }    #T_51242ff4_0f89_11ea_8201_08d40c109473row14_col4 {\n",
       "            background-color:  #f0cdbb;\n",
       "        }    #T_51242ff4_0f89_11ea_8201_08d40c109473row14_col5 {\n",
       "            background-color:  #3b4cc0;\n",
       "        }    #T_51242ff4_0f89_11ea_8201_08d40c109473row14_col6 {\n",
       "            background-color:  #b50927;\n",
       "        }    #T_51242ff4_0f89_11ea_8201_08d40c109473row14_col7 {\n",
       "            background-color:  #f4c6af;\n",
       "        }    #T_51242ff4_0f89_11ea_8201_08d40c109473row14_col8 {\n",
       "            background-color:  #cad8ef;\n",
       "        }    #T_51242ff4_0f89_11ea_8201_08d40c109473row14_col9 {\n",
       "            background-color:  #5e7de7;\n",
       "        }    #T_51242ff4_0f89_11ea_8201_08d40c109473row14_col10 {\n",
       "            background-color:  #f2c9b4;\n",
       "        }    #T_51242ff4_0f89_11ea_8201_08d40c109473row14_col11 {\n",
       "            background-color:  #b6cefa;\n",
       "        }    #T_51242ff4_0f89_11ea_8201_08d40c109473row14_col12 {\n",
       "            background-color:  #f0cdbb;\n",
       "        }    #T_51242ff4_0f89_11ea_8201_08d40c109473row14_col13 {\n",
       "            background-color:  #3b4cc0;\n",
       "        }    #T_51242ff4_0f89_11ea_8201_08d40c109473row14_col14 {\n",
       "            background-color:  #b40426;\n",
       "        }    #T_51242ff4_0f89_11ea_8201_08d40c109473row14_col15 {\n",
       "            background-color:  #f4c5ad;\n",
       "        }    #T_51242ff4_0f89_11ea_8201_08d40c109473row15_col0 {\n",
       "            background-color:  #edd2c3;\n",
       "        }    #T_51242ff4_0f89_11ea_8201_08d40c109473row15_col1 {\n",
       "            background-color:  #6282ea;\n",
       "        }    #T_51242ff4_0f89_11ea_8201_08d40c109473row15_col2 {\n",
       "            background-color:  #d95847;\n",
       "        }    #T_51242ff4_0f89_11ea_8201_08d40c109473row15_col3 {\n",
       "            background-color:  #dadce0;\n",
       "        }    #T_51242ff4_0f89_11ea_8201_08d40c109473row15_col4 {\n",
       "            background-color:  #de614d;\n",
       "        }    #T_51242ff4_0f89_11ea_8201_08d40c109473row15_col5 {\n",
       "            background-color:  #3b4cc0;\n",
       "        }    #T_51242ff4_0f89_11ea_8201_08d40c109473row15_col6 {\n",
       "            background-color:  #f4c5ad;\n",
       "        }    #T_51242ff4_0f89_11ea_8201_08d40c109473row15_col7 {\n",
       "            background-color:  #b40426;\n",
       "        }    #T_51242ff4_0f89_11ea_8201_08d40c109473row15_col8 {\n",
       "            background-color:  #edd2c3;\n",
       "        }    #T_51242ff4_0f89_11ea_8201_08d40c109473row15_col9 {\n",
       "            background-color:  #6282ea;\n",
       "        }    #T_51242ff4_0f89_11ea_8201_08d40c109473row15_col10 {\n",
       "            background-color:  #d85646;\n",
       "        }    #T_51242ff4_0f89_11ea_8201_08d40c109473row15_col11 {\n",
       "            background-color:  #dbdcde;\n",
       "        }    #T_51242ff4_0f89_11ea_8201_08d40c109473row15_col12 {\n",
       "            background-color:  #de614d;\n",
       "        }    #T_51242ff4_0f89_11ea_8201_08d40c109473row15_col13 {\n",
       "            background-color:  #3b4cc0;\n",
       "        }    #T_51242ff4_0f89_11ea_8201_08d40c109473row15_col14 {\n",
       "            background-color:  #f4c5ad;\n",
       "        }    #T_51242ff4_0f89_11ea_8201_08d40c109473row15_col15 {\n",
       "            background-color:  #b40426;\n",
       "        }</style>  \n",
       "<table id=\"T_51242ff4_0f89_11ea_8201_08d40c109473\" > \n",
       "<thead>    <tr> \n",
       "        <th class=\"blank level0\" ></th> \n",
       "        <th class=\"col_heading level0 col0\" >0</th> \n",
       "        <th class=\"col_heading level0 col1\" >1</th> \n",
       "        <th class=\"col_heading level0 col2\" >2</th> \n",
       "        <th class=\"col_heading level0 col3\" >3</th> \n",
       "        <th class=\"col_heading level0 col4\" >4</th> \n",
       "        <th class=\"col_heading level0 col5\" >5</th> \n",
       "        <th class=\"col_heading level0 col6\" >6</th> \n",
       "        <th class=\"col_heading level0 col7\" >7</th> \n",
       "        <th class=\"col_heading level0 col8\" >8</th> \n",
       "        <th class=\"col_heading level0 col9\" >9</th> \n",
       "        <th class=\"col_heading level0 col10\" >10</th> \n",
       "        <th class=\"col_heading level0 col11\" >11</th> \n",
       "        <th class=\"col_heading level0 col12\" >12</th> \n",
       "        <th class=\"col_heading level0 col13\" >13</th> \n",
       "        <th class=\"col_heading level0 col14\" >14</th> \n",
       "        <th class=\"col_heading level0 col15\" >15</th> \n",
       "    </tr></thead> \n",
       "<tbody>    <tr> \n",
       "        <th id=\"T_51242ff4_0f89_11ea_8201_08d40c109473level0_row0\" class=\"row_heading level0 row0\" >0</th> \n",
       "        <td id=\"T_51242ff4_0f89_11ea_8201_08d40c109473row0_col0\" class=\"data row0 col0\" >1.0</td> \n",
       "        <td id=\"T_51242ff4_0f89_11ea_8201_08d40c109473row0_col1\" class=\"data row0 col1\" >-0.011</td> \n",
       "        <td id=\"T_51242ff4_0f89_11ea_8201_08d40c109473row0_col2\" class=\"data row0 col2\" >0.47</td> \n",
       "        <td id=\"T_51242ff4_0f89_11ea_8201_08d40c109473row0_col3\" class=\"data row0 col3\" >0.27</td> \n",
       "        <td id=\"T_51242ff4_0f89_11ea_8201_08d40c109473row0_col4\" class=\"data row0 col4\" >0.63</td> \n",
       "        <td id=\"T_51242ff4_0f89_11ea_8201_08d40c109473row0_col5\" class=\"data row0 col5\" >-0.053</td> \n",
       "        <td id=\"T_51242ff4_0f89_11ea_8201_08d40c109473row0_col6\" class=\"data row0 col6\" >0.37</td> \n",
       "        <td id=\"T_51242ff4_0f89_11ea_8201_08d40c109473row0_col7\" class=\"data row0 col7\" >0.52</td> \n",
       "        <td id=\"T_51242ff4_0f89_11ea_8201_08d40c109473row0_col8\" class=\"data row0 col8\" >1.0</td> \n",
       "        <td id=\"T_51242ff4_0f89_11ea_8201_08d40c109473row0_col9\" class=\"data row0 col9\" >-0.01</td> \n",
       "        <td id=\"T_51242ff4_0f89_11ea_8201_08d40c109473row0_col10\" class=\"data row0 col10\" >0.47</td> \n",
       "        <td id=\"T_51242ff4_0f89_11ea_8201_08d40c109473row0_col11\" class=\"data row0 col11\" >0.27</td> \n",
       "        <td id=\"T_51242ff4_0f89_11ea_8201_08d40c109473row0_col12\" class=\"data row0 col12\" >0.63</td> \n",
       "        <td id=\"T_51242ff4_0f89_11ea_8201_08d40c109473row0_col13\" class=\"data row0 col13\" >-0.052</td> \n",
       "        <td id=\"T_51242ff4_0f89_11ea_8201_08d40c109473row0_col14\" class=\"data row0 col14\" >0.37</td> \n",
       "        <td id=\"T_51242ff4_0f89_11ea_8201_08d40c109473row0_col15\" class=\"data row0 col15\" >0.52</td> \n",
       "    </tr>    <tr> \n",
       "        <th id=\"T_51242ff4_0f89_11ea_8201_08d40c109473level0_row1\" class=\"row_heading level0 row1\" >1</th> \n",
       "        <td id=\"T_51242ff4_0f89_11ea_8201_08d40c109473row1_col0\" class=\"data row1 col0\" >-0.011</td> \n",
       "        <td id=\"T_51242ff4_0f89_11ea_8201_08d40c109473row1_col1\" class=\"data row1 col1\" >1.0</td> \n",
       "        <td id=\"T_51242ff4_0f89_11ea_8201_08d40c109473row1_col2\" class=\"data row1 col2\" >0.082</td> \n",
       "        <td id=\"T_51242ff4_0f89_11ea_8201_08d40c109473row1_col3\" class=\"data row1 col3\" >0.044</td> \n",
       "        <td id=\"T_51242ff4_0f89_11ea_8201_08d40c109473row1_col4\" class=\"data row1 col4\" >0.025</td> \n",
       "        <td id=\"T_51242ff4_0f89_11ea_8201_08d40c109473row1_col5\" class=\"data row1 col5\" >-0.011</td> \n",
       "        <td id=\"T_51242ff4_0f89_11ea_8201_08d40c109473row1_col6\" class=\"data row1 col6\" >0.014</td> \n",
       "        <td id=\"T_51242ff4_0f89_11ea_8201_08d40c109473row1_col7\" class=\"data row1 col7\" >0.025</td> \n",
       "        <td id=\"T_51242ff4_0f89_11ea_8201_08d40c109473row1_col8\" class=\"data row1 col8\" >-0.011</td> \n",
       "        <td id=\"T_51242ff4_0f89_11ea_8201_08d40c109473row1_col9\" class=\"data row1 col9\" >1.0</td> \n",
       "        <td id=\"T_51242ff4_0f89_11ea_8201_08d40c109473row1_col10\" class=\"data row1 col10\" >0.082</td> \n",
       "        <td id=\"T_51242ff4_0f89_11ea_8201_08d40c109473row1_col11\" class=\"data row1 col11\" >0.044</td> \n",
       "        <td id=\"T_51242ff4_0f89_11ea_8201_08d40c109473row1_col12\" class=\"data row1 col12\" >0.025</td> \n",
       "        <td id=\"T_51242ff4_0f89_11ea_8201_08d40c109473row1_col13\" class=\"data row1 col13\" >-0.011</td> \n",
       "        <td id=\"T_51242ff4_0f89_11ea_8201_08d40c109473row1_col14\" class=\"data row1 col14\" >0.014</td> \n",
       "        <td id=\"T_51242ff4_0f89_11ea_8201_08d40c109473row1_col15\" class=\"data row1 col15\" >0.025</td> \n",
       "    </tr>    <tr> \n",
       "        <th id=\"T_51242ff4_0f89_11ea_8201_08d40c109473level0_row2\" class=\"row_heading level0 row2\" >2</th> \n",
       "        <td id=\"T_51242ff4_0f89_11ea_8201_08d40c109473row2_col0\" class=\"data row2 col0\" >0.47</td> \n",
       "        <td id=\"T_51242ff4_0f89_11ea_8201_08d40c109473row2_col1\" class=\"data row2 col1\" >0.082</td> \n",
       "        <td id=\"T_51242ff4_0f89_11ea_8201_08d40c109473row2_col2\" class=\"data row2 col2\" >1.0</td> \n",
       "        <td id=\"T_51242ff4_0f89_11ea_8201_08d40c109473row2_col3\" class=\"data row2 col3\" >0.5</td> \n",
       "        <td id=\"T_51242ff4_0f89_11ea_8201_08d40c109473row2_col4\" class=\"data row2 col4\" >0.8</td> \n",
       "        <td id=\"T_51242ff4_0f89_11ea_8201_08d40c109473row2_col5\" class=\"data row2 col5\" >-0.17</td> \n",
       "        <td id=\"T_51242ff4_0f89_11ea_8201_08d40c109473row2_col6\" class=\"data row2 col6\" >0.56</td> \n",
       "        <td id=\"T_51242ff4_0f89_11ea_8201_08d40c109473row2_col7\" class=\"data row2 col7\" >0.88</td> \n",
       "        <td id=\"T_51242ff4_0f89_11ea_8201_08d40c109473row2_col8\" class=\"data row2 col8\" >0.47</td> \n",
       "        <td id=\"T_51242ff4_0f89_11ea_8201_08d40c109473row2_col9\" class=\"data row2 col9\" >0.081</td> \n",
       "        <td id=\"T_51242ff4_0f89_11ea_8201_08d40c109473row2_col10\" class=\"data row2 col10\" >1.0</td> \n",
       "        <td id=\"T_51242ff4_0f89_11ea_8201_08d40c109473row2_col11\" class=\"data row2 col11\" >0.49</td> \n",
       "        <td id=\"T_51242ff4_0f89_11ea_8201_08d40c109473row2_col12\" class=\"data row2 col12\" >0.8</td> \n",
       "        <td id=\"T_51242ff4_0f89_11ea_8201_08d40c109473row2_col13\" class=\"data row2 col13\" >-0.17</td> \n",
       "        <td id=\"T_51242ff4_0f89_11ea_8201_08d40c109473row2_col14\" class=\"data row2 col14\" >0.56</td> \n",
       "        <td id=\"T_51242ff4_0f89_11ea_8201_08d40c109473row2_col15\" class=\"data row2 col15\" >0.88</td> \n",
       "    </tr>    <tr> \n",
       "        <th id=\"T_51242ff4_0f89_11ea_8201_08d40c109473level0_row3\" class=\"row_heading level0 row3\" >3</th> \n",
       "        <td id=\"T_51242ff4_0f89_11ea_8201_08d40c109473row3_col0\" class=\"data row3 col0\" >0.27</td> \n",
       "        <td id=\"T_51242ff4_0f89_11ea_8201_08d40c109473row3_col1\" class=\"data row3 col1\" >0.044</td> \n",
       "        <td id=\"T_51242ff4_0f89_11ea_8201_08d40c109473row3_col2\" class=\"data row3 col2\" >0.5</td> \n",
       "        <td id=\"T_51242ff4_0f89_11ea_8201_08d40c109473row3_col3\" class=\"data row3 col3\" >1.0</td> \n",
       "        <td id=\"T_51242ff4_0f89_11ea_8201_08d40c109473row3_col4\" class=\"data row3 col4\" >0.3</td> \n",
       "        <td id=\"T_51242ff4_0f89_11ea_8201_08d40c109473row3_col5\" class=\"data row3 col5\" >0.51</td> \n",
       "        <td id=\"T_51242ff4_0f89_11ea_8201_08d40c109473row3_col6\" class=\"data row3 col6\" >0.3</td> \n",
       "        <td id=\"T_51242ff4_0f89_11ea_8201_08d40c109473row3_col7\" class=\"data row3 col7\" >0.43</td> \n",
       "        <td id=\"T_51242ff4_0f89_11ea_8201_08d40c109473row3_col8\" class=\"data row3 col8\" >0.27</td> \n",
       "        <td id=\"T_51242ff4_0f89_11ea_8201_08d40c109473row3_col9\" class=\"data row3 col9\" >0.044</td> \n",
       "        <td id=\"T_51242ff4_0f89_11ea_8201_08d40c109473row3_col10\" class=\"data row3 col10\" >0.5</td> \n",
       "        <td id=\"T_51242ff4_0f89_11ea_8201_08d40c109473row3_col11\" class=\"data row3 col11\" >1.0</td> \n",
       "        <td id=\"T_51242ff4_0f89_11ea_8201_08d40c109473row3_col12\" class=\"data row3 col12\" >0.3</td> \n",
       "        <td id=\"T_51242ff4_0f89_11ea_8201_08d40c109473row3_col13\" class=\"data row3 col13\" >0.51</td> \n",
       "        <td id=\"T_51242ff4_0f89_11ea_8201_08d40c109473row3_col14\" class=\"data row3 col14\" >0.3</td> \n",
       "        <td id=\"T_51242ff4_0f89_11ea_8201_08d40c109473row3_col15\" class=\"data row3 col15\" >0.43</td> \n",
       "    </tr>    <tr> \n",
       "        <th id=\"T_51242ff4_0f89_11ea_8201_08d40c109473level0_row4\" class=\"row_heading level0 row4\" >4</th> \n",
       "        <td id=\"T_51242ff4_0f89_11ea_8201_08d40c109473row4_col0\" class=\"data row4 col0\" >0.63</td> \n",
       "        <td id=\"T_51242ff4_0f89_11ea_8201_08d40c109473row4_col1\" class=\"data row4 col1\" >0.025</td> \n",
       "        <td id=\"T_51242ff4_0f89_11ea_8201_08d40c109473row4_col2\" class=\"data row4 col2\" >0.8</td> \n",
       "        <td id=\"T_51242ff4_0f89_11ea_8201_08d40c109473row4_col3\" class=\"data row4 col3\" >0.3</td> \n",
       "        <td id=\"T_51242ff4_0f89_11ea_8201_08d40c109473row4_col4\" class=\"data row4 col4\" >1.0</td> \n",
       "        <td id=\"T_51242ff4_0f89_11ea_8201_08d40c109473row4_col5\" class=\"data row4 col5\" >-0.25</td> \n",
       "        <td id=\"T_51242ff4_0f89_11ea_8201_08d40c109473row4_col6\" class=\"data row4 col6\" >0.54</td> \n",
       "        <td id=\"T_51242ff4_0f89_11ea_8201_08d40c109473row4_col7\" class=\"data row4 col7\" >0.86</td> \n",
       "        <td id=\"T_51242ff4_0f89_11ea_8201_08d40c109473row4_col8\" class=\"data row4 col8\" >0.63</td> \n",
       "        <td id=\"T_51242ff4_0f89_11ea_8201_08d40c109473row4_col9\" class=\"data row4 col9\" >0.024</td> \n",
       "        <td id=\"T_51242ff4_0f89_11ea_8201_08d40c109473row4_col10\" class=\"data row4 col10\" >0.8</td> \n",
       "        <td id=\"T_51242ff4_0f89_11ea_8201_08d40c109473row4_col11\" class=\"data row4 col11\" >0.3</td> \n",
       "        <td id=\"T_51242ff4_0f89_11ea_8201_08d40c109473row4_col12\" class=\"data row4 col12\" >1.0</td> \n",
       "        <td id=\"T_51242ff4_0f89_11ea_8201_08d40c109473row4_col13\" class=\"data row4 col13\" >-0.25</td> \n",
       "        <td id=\"T_51242ff4_0f89_11ea_8201_08d40c109473row4_col14\" class=\"data row4 col14\" >0.54</td> \n",
       "        <td id=\"T_51242ff4_0f89_11ea_8201_08d40c109473row4_col15\" class=\"data row4 col15\" >0.86</td> \n",
       "    </tr>    <tr> \n",
       "        <th id=\"T_51242ff4_0f89_11ea_8201_08d40c109473level0_row5\" class=\"row_heading level0 row5\" >5</th> \n",
       "        <td id=\"T_51242ff4_0f89_11ea_8201_08d40c109473row5_col0\" class=\"data row5 col0\" >-0.053</td> \n",
       "        <td id=\"T_51242ff4_0f89_11ea_8201_08d40c109473row5_col1\" class=\"data row5 col1\" >-0.011</td> \n",
       "        <td id=\"T_51242ff4_0f89_11ea_8201_08d40c109473row5_col2\" class=\"data row5 col2\" >-0.17</td> \n",
       "        <td id=\"T_51242ff4_0f89_11ea_8201_08d40c109473row5_col3\" class=\"data row5 col3\" >0.51</td> \n",
       "        <td id=\"T_51242ff4_0f89_11ea_8201_08d40c109473row5_col4\" class=\"data row5 col4\" >-0.25</td> \n",
       "        <td id=\"T_51242ff4_0f89_11ea_8201_08d40c109473row5_col5\" class=\"data row5 col5\" >1.0</td> \n",
       "        <td id=\"T_51242ff4_0f89_11ea_8201_08d40c109473row5_col6\" class=\"data row5 col6\" >-0.11</td> \n",
       "        <td id=\"T_51242ff4_0f89_11ea_8201_08d40c109473row5_col7\" class=\"data row5 col7\" >-0.12</td> \n",
       "        <td id=\"T_51242ff4_0f89_11ea_8201_08d40c109473row5_col8\" class=\"data row5 col8\" >-0.052</td> \n",
       "        <td id=\"T_51242ff4_0f89_11ea_8201_08d40c109473row5_col9\" class=\"data row5 col9\" >-0.011</td> \n",
       "        <td id=\"T_51242ff4_0f89_11ea_8201_08d40c109473row5_col10\" class=\"data row5 col10\" >-0.17</td> \n",
       "        <td id=\"T_51242ff4_0f89_11ea_8201_08d40c109473row5_col11\" class=\"data row5 col11\" >0.51</td> \n",
       "        <td id=\"T_51242ff4_0f89_11ea_8201_08d40c109473row5_col12\" class=\"data row5 col12\" >-0.25</td> \n",
       "        <td id=\"T_51242ff4_0f89_11ea_8201_08d40c109473row5_col13\" class=\"data row5 col13\" >1.0</td> \n",
       "        <td id=\"T_51242ff4_0f89_11ea_8201_08d40c109473row5_col14\" class=\"data row5 col14\" >-0.11</td> \n",
       "        <td id=\"T_51242ff4_0f89_11ea_8201_08d40c109473row5_col15\" class=\"data row5 col15\" >-0.12</td> \n",
       "    </tr>    <tr> \n",
       "        <th id=\"T_51242ff4_0f89_11ea_8201_08d40c109473level0_row6\" class=\"row_heading level0 row6\" >6</th> \n",
       "        <td id=\"T_51242ff4_0f89_11ea_8201_08d40c109473row6_col0\" class=\"data row6 col0\" >0.37</td> \n",
       "        <td id=\"T_51242ff4_0f89_11ea_8201_08d40c109473row6_col1\" class=\"data row6 col1\" >0.014</td> \n",
       "        <td id=\"T_51242ff4_0f89_11ea_8201_08d40c109473row6_col2\" class=\"data row6 col2\" >0.56</td> \n",
       "        <td id=\"T_51242ff4_0f89_11ea_8201_08d40c109473row6_col3\" class=\"data row6 col3\" >0.3</td> \n",
       "        <td id=\"T_51242ff4_0f89_11ea_8201_08d40c109473row6_col4\" class=\"data row6 col4\" >0.54</td> \n",
       "        <td id=\"T_51242ff4_0f89_11ea_8201_08d40c109473row6_col5\" class=\"data row6 col5\" >-0.11</td> \n",
       "        <td id=\"T_51242ff4_0f89_11ea_8201_08d40c109473row6_col6\" class=\"data row6 col6\" >1.0</td> \n",
       "        <td id=\"T_51242ff4_0f89_11ea_8201_08d40c109473row6_col7\" class=\"data row6 col7\" >0.58</td> \n",
       "        <td id=\"T_51242ff4_0f89_11ea_8201_08d40c109473row6_col8\" class=\"data row6 col8\" >0.37</td> \n",
       "        <td id=\"T_51242ff4_0f89_11ea_8201_08d40c109473row6_col9\" class=\"data row6 col9\" >0.014</td> \n",
       "        <td id=\"T_51242ff4_0f89_11ea_8201_08d40c109473row6_col10\" class=\"data row6 col10\" >0.56</td> \n",
       "        <td id=\"T_51242ff4_0f89_11ea_8201_08d40c109473row6_col11\" class=\"data row6 col11\" >0.3</td> \n",
       "        <td id=\"T_51242ff4_0f89_11ea_8201_08d40c109473row6_col12\" class=\"data row6 col12\" >0.54</td> \n",
       "        <td id=\"T_51242ff4_0f89_11ea_8201_08d40c109473row6_col13\" class=\"data row6 col13\" >-0.11</td> \n",
       "        <td id=\"T_51242ff4_0f89_11ea_8201_08d40c109473row6_col14\" class=\"data row6 col14\" >0.99</td> \n",
       "        <td id=\"T_51242ff4_0f89_11ea_8201_08d40c109473row6_col15\" class=\"data row6 col15\" >0.58</td> \n",
       "    </tr>    <tr> \n",
       "        <th id=\"T_51242ff4_0f89_11ea_8201_08d40c109473level0_row7\" class=\"row_heading level0 row7\" >7</th> \n",
       "        <td id=\"T_51242ff4_0f89_11ea_8201_08d40c109473row7_col0\" class=\"data row7 col0\" >0.52</td> \n",
       "        <td id=\"T_51242ff4_0f89_11ea_8201_08d40c109473row7_col1\" class=\"data row7 col1\" >0.025</td> \n",
       "        <td id=\"T_51242ff4_0f89_11ea_8201_08d40c109473row7_col2\" class=\"data row7 col2\" >0.88</td> \n",
       "        <td id=\"T_51242ff4_0f89_11ea_8201_08d40c109473row7_col3\" class=\"data row7 col3\" >0.43</td> \n",
       "        <td id=\"T_51242ff4_0f89_11ea_8201_08d40c109473row7_col4\" class=\"data row7 col4\" >0.86</td> \n",
       "        <td id=\"T_51242ff4_0f89_11ea_8201_08d40c109473row7_col5\" class=\"data row7 col5\" >-0.12</td> \n",
       "        <td id=\"T_51242ff4_0f89_11ea_8201_08d40c109473row7_col6\" class=\"data row7 col6\" >0.58</td> \n",
       "        <td id=\"T_51242ff4_0f89_11ea_8201_08d40c109473row7_col7\" class=\"data row7 col7\" >1.0</td> \n",
       "        <td id=\"T_51242ff4_0f89_11ea_8201_08d40c109473row7_col8\" class=\"data row7 col8\" >0.52</td> \n",
       "        <td id=\"T_51242ff4_0f89_11ea_8201_08d40c109473row7_col9\" class=\"data row7 col9\" >0.024</td> \n",
       "        <td id=\"T_51242ff4_0f89_11ea_8201_08d40c109473row7_col10\" class=\"data row7 col10\" >0.88</td> \n",
       "        <td id=\"T_51242ff4_0f89_11ea_8201_08d40c109473row7_col11\" class=\"data row7 col11\" >0.43</td> \n",
       "        <td id=\"T_51242ff4_0f89_11ea_8201_08d40c109473row7_col12\" class=\"data row7 col12\" >0.86</td> \n",
       "        <td id=\"T_51242ff4_0f89_11ea_8201_08d40c109473row7_col13\" class=\"data row7 col13\" >-0.12</td> \n",
       "        <td id=\"T_51242ff4_0f89_11ea_8201_08d40c109473row7_col14\" class=\"data row7 col14\" >0.58</td> \n",
       "        <td id=\"T_51242ff4_0f89_11ea_8201_08d40c109473row7_col15\" class=\"data row7 col15\" >1.0</td> \n",
       "    </tr>    <tr> \n",
       "        <th id=\"T_51242ff4_0f89_11ea_8201_08d40c109473level0_row8\" class=\"row_heading level0 row8\" >8</th> \n",
       "        <td id=\"T_51242ff4_0f89_11ea_8201_08d40c109473row8_col0\" class=\"data row8 col0\" >1.0</td> \n",
       "        <td id=\"T_51242ff4_0f89_11ea_8201_08d40c109473row8_col1\" class=\"data row8 col1\" >-0.011</td> \n",
       "        <td id=\"T_51242ff4_0f89_11ea_8201_08d40c109473row8_col2\" class=\"data row8 col2\" >0.47</td> \n",
       "        <td id=\"T_51242ff4_0f89_11ea_8201_08d40c109473row8_col3\" class=\"data row8 col3\" >0.27</td> \n",
       "        <td id=\"T_51242ff4_0f89_11ea_8201_08d40c109473row8_col4\" class=\"data row8 col4\" >0.63</td> \n",
       "        <td id=\"T_51242ff4_0f89_11ea_8201_08d40c109473row8_col5\" class=\"data row8 col5\" >-0.052</td> \n",
       "        <td id=\"T_51242ff4_0f89_11ea_8201_08d40c109473row8_col6\" class=\"data row8 col6\" >0.37</td> \n",
       "        <td id=\"T_51242ff4_0f89_11ea_8201_08d40c109473row8_col7\" class=\"data row8 col7\" >0.52</td> \n",
       "        <td id=\"T_51242ff4_0f89_11ea_8201_08d40c109473row8_col8\" class=\"data row8 col8\" >1.0</td> \n",
       "        <td id=\"T_51242ff4_0f89_11ea_8201_08d40c109473row8_col9\" class=\"data row8 col9\" >-0.01</td> \n",
       "        <td id=\"T_51242ff4_0f89_11ea_8201_08d40c109473row8_col10\" class=\"data row8 col10\" >0.47</td> \n",
       "        <td id=\"T_51242ff4_0f89_11ea_8201_08d40c109473row8_col11\" class=\"data row8 col11\" >0.27</td> \n",
       "        <td id=\"T_51242ff4_0f89_11ea_8201_08d40c109473row8_col12\" class=\"data row8 col12\" >0.63</td> \n",
       "        <td id=\"T_51242ff4_0f89_11ea_8201_08d40c109473row8_col13\" class=\"data row8 col13\" >-0.051</td> \n",
       "        <td id=\"T_51242ff4_0f89_11ea_8201_08d40c109473row8_col14\" class=\"data row8 col14\" >0.37</td> \n",
       "        <td id=\"T_51242ff4_0f89_11ea_8201_08d40c109473row8_col15\" class=\"data row8 col15\" >0.52</td> \n",
       "    </tr>    <tr> \n",
       "        <th id=\"T_51242ff4_0f89_11ea_8201_08d40c109473level0_row9\" class=\"row_heading level0 row9\" >9</th> \n",
       "        <td id=\"T_51242ff4_0f89_11ea_8201_08d40c109473row9_col0\" class=\"data row9 col0\" >-0.01</td> \n",
       "        <td id=\"T_51242ff4_0f89_11ea_8201_08d40c109473row9_col1\" class=\"data row9 col1\" >1.0</td> \n",
       "        <td id=\"T_51242ff4_0f89_11ea_8201_08d40c109473row9_col2\" class=\"data row9 col2\" >0.081</td> \n",
       "        <td id=\"T_51242ff4_0f89_11ea_8201_08d40c109473row9_col3\" class=\"data row9 col3\" >0.044</td> \n",
       "        <td id=\"T_51242ff4_0f89_11ea_8201_08d40c109473row9_col4\" class=\"data row9 col4\" >0.024</td> \n",
       "        <td id=\"T_51242ff4_0f89_11ea_8201_08d40c109473row9_col5\" class=\"data row9 col5\" >-0.011</td> \n",
       "        <td id=\"T_51242ff4_0f89_11ea_8201_08d40c109473row9_col6\" class=\"data row9 col6\" >0.014</td> \n",
       "        <td id=\"T_51242ff4_0f89_11ea_8201_08d40c109473row9_col7\" class=\"data row9 col7\" >0.024</td> \n",
       "        <td id=\"T_51242ff4_0f89_11ea_8201_08d40c109473row9_col8\" class=\"data row9 col8\" >-0.01</td> \n",
       "        <td id=\"T_51242ff4_0f89_11ea_8201_08d40c109473row9_col9\" class=\"data row9 col9\" >1.0</td> \n",
       "        <td id=\"T_51242ff4_0f89_11ea_8201_08d40c109473row9_col10\" class=\"data row9 col10\" >0.081</td> \n",
       "        <td id=\"T_51242ff4_0f89_11ea_8201_08d40c109473row9_col11\" class=\"data row9 col11\" >0.044</td> \n",
       "        <td id=\"T_51242ff4_0f89_11ea_8201_08d40c109473row9_col12\" class=\"data row9 col12\" >0.025</td> \n",
       "        <td id=\"T_51242ff4_0f89_11ea_8201_08d40c109473row9_col13\" class=\"data row9 col13\" >-0.011</td> \n",
       "        <td id=\"T_51242ff4_0f89_11ea_8201_08d40c109473row9_col14\" class=\"data row9 col14\" >0.014</td> \n",
       "        <td id=\"T_51242ff4_0f89_11ea_8201_08d40c109473row9_col15\" class=\"data row9 col15\" >0.024</td> \n",
       "    </tr>    <tr> \n",
       "        <th id=\"T_51242ff4_0f89_11ea_8201_08d40c109473level0_row10\" class=\"row_heading level0 row10\" >10</th> \n",
       "        <td id=\"T_51242ff4_0f89_11ea_8201_08d40c109473row10_col0\" class=\"data row10 col0\" >0.47</td> \n",
       "        <td id=\"T_51242ff4_0f89_11ea_8201_08d40c109473row10_col1\" class=\"data row10 col1\" >0.082</td> \n",
       "        <td id=\"T_51242ff4_0f89_11ea_8201_08d40c109473row10_col2\" class=\"data row10 col2\" >1.0</td> \n",
       "        <td id=\"T_51242ff4_0f89_11ea_8201_08d40c109473row10_col3\" class=\"data row10 col3\" >0.5</td> \n",
       "        <td id=\"T_51242ff4_0f89_11ea_8201_08d40c109473row10_col4\" class=\"data row10 col4\" >0.8</td> \n",
       "        <td id=\"T_51242ff4_0f89_11ea_8201_08d40c109473row10_col5\" class=\"data row10 col5\" >-0.17</td> \n",
       "        <td id=\"T_51242ff4_0f89_11ea_8201_08d40c109473row10_col6\" class=\"data row10 col6\" >0.56</td> \n",
       "        <td id=\"T_51242ff4_0f89_11ea_8201_08d40c109473row10_col7\" class=\"data row10 col7\" >0.88</td> \n",
       "        <td id=\"T_51242ff4_0f89_11ea_8201_08d40c109473row10_col8\" class=\"data row10 col8\" >0.47</td> \n",
       "        <td id=\"T_51242ff4_0f89_11ea_8201_08d40c109473row10_col9\" class=\"data row10 col9\" >0.081</td> \n",
       "        <td id=\"T_51242ff4_0f89_11ea_8201_08d40c109473row10_col10\" class=\"data row10 col10\" >1.0</td> \n",
       "        <td id=\"T_51242ff4_0f89_11ea_8201_08d40c109473row10_col11\" class=\"data row10 col11\" >0.5</td> \n",
       "        <td id=\"T_51242ff4_0f89_11ea_8201_08d40c109473row10_col12\" class=\"data row10 col12\" >0.8</td> \n",
       "        <td id=\"T_51242ff4_0f89_11ea_8201_08d40c109473row10_col13\" class=\"data row10 col13\" >-0.16</td> \n",
       "        <td id=\"T_51242ff4_0f89_11ea_8201_08d40c109473row10_col14\" class=\"data row10 col14\" >0.56</td> \n",
       "        <td id=\"T_51242ff4_0f89_11ea_8201_08d40c109473row10_col15\" class=\"data row10 col15\" >0.88</td> \n",
       "    </tr>    <tr> \n",
       "        <th id=\"T_51242ff4_0f89_11ea_8201_08d40c109473level0_row11\" class=\"row_heading level0 row11\" >11</th> \n",
       "        <td id=\"T_51242ff4_0f89_11ea_8201_08d40c109473row11_col0\" class=\"data row11 col0\" >0.27</td> \n",
       "        <td id=\"T_51242ff4_0f89_11ea_8201_08d40c109473row11_col1\" class=\"data row11 col1\" >0.044</td> \n",
       "        <td id=\"T_51242ff4_0f89_11ea_8201_08d40c109473row11_col2\" class=\"data row11 col2\" >0.49</td> \n",
       "        <td id=\"T_51242ff4_0f89_11ea_8201_08d40c109473row11_col3\" class=\"data row11 col3\" >1.0</td> \n",
       "        <td id=\"T_51242ff4_0f89_11ea_8201_08d40c109473row11_col4\" class=\"data row11 col4\" >0.3</td> \n",
       "        <td id=\"T_51242ff4_0f89_11ea_8201_08d40c109473row11_col5\" class=\"data row11 col5\" >0.51</td> \n",
       "        <td id=\"T_51242ff4_0f89_11ea_8201_08d40c109473row11_col6\" class=\"data row11 col6\" >0.3</td> \n",
       "        <td id=\"T_51242ff4_0f89_11ea_8201_08d40c109473row11_col7\" class=\"data row11 col7\" >0.43</td> \n",
       "        <td id=\"T_51242ff4_0f89_11ea_8201_08d40c109473row11_col8\" class=\"data row11 col8\" >0.27</td> \n",
       "        <td id=\"T_51242ff4_0f89_11ea_8201_08d40c109473row11_col9\" class=\"data row11 col9\" >0.044</td> \n",
       "        <td id=\"T_51242ff4_0f89_11ea_8201_08d40c109473row11_col10\" class=\"data row11 col10\" >0.5</td> \n",
       "        <td id=\"T_51242ff4_0f89_11ea_8201_08d40c109473row11_col11\" class=\"data row11 col11\" >1.0</td> \n",
       "        <td id=\"T_51242ff4_0f89_11ea_8201_08d40c109473row11_col12\" class=\"data row11 col12\" >0.3</td> \n",
       "        <td id=\"T_51242ff4_0f89_11ea_8201_08d40c109473row11_col13\" class=\"data row11 col13\" >0.51</td> \n",
       "        <td id=\"T_51242ff4_0f89_11ea_8201_08d40c109473row11_col14\" class=\"data row11 col14\" >0.3</td> \n",
       "        <td id=\"T_51242ff4_0f89_11ea_8201_08d40c109473row11_col15\" class=\"data row11 col15\" >0.43</td> \n",
       "    </tr>    <tr> \n",
       "        <th id=\"T_51242ff4_0f89_11ea_8201_08d40c109473level0_row12\" class=\"row_heading level0 row12\" >12</th> \n",
       "        <td id=\"T_51242ff4_0f89_11ea_8201_08d40c109473row12_col0\" class=\"data row12 col0\" >0.63</td> \n",
       "        <td id=\"T_51242ff4_0f89_11ea_8201_08d40c109473row12_col1\" class=\"data row12 col1\" >0.025</td> \n",
       "        <td id=\"T_51242ff4_0f89_11ea_8201_08d40c109473row12_col2\" class=\"data row12 col2\" >0.8</td> \n",
       "        <td id=\"T_51242ff4_0f89_11ea_8201_08d40c109473row12_col3\" class=\"data row12 col3\" >0.3</td> \n",
       "        <td id=\"T_51242ff4_0f89_11ea_8201_08d40c109473row12_col4\" class=\"data row12 col4\" >1.0</td> \n",
       "        <td id=\"T_51242ff4_0f89_11ea_8201_08d40c109473row12_col5\" class=\"data row12 col5\" >-0.25</td> \n",
       "        <td id=\"T_51242ff4_0f89_11ea_8201_08d40c109473row12_col6\" class=\"data row12 col6\" >0.54</td> \n",
       "        <td id=\"T_51242ff4_0f89_11ea_8201_08d40c109473row12_col7\" class=\"data row12 col7\" >0.86</td> \n",
       "        <td id=\"T_51242ff4_0f89_11ea_8201_08d40c109473row12_col8\" class=\"data row12 col8\" >0.63</td> \n",
       "        <td id=\"T_51242ff4_0f89_11ea_8201_08d40c109473row12_col9\" class=\"data row12 col9\" >0.025</td> \n",
       "        <td id=\"T_51242ff4_0f89_11ea_8201_08d40c109473row12_col10\" class=\"data row12 col10\" >0.8</td> \n",
       "        <td id=\"T_51242ff4_0f89_11ea_8201_08d40c109473row12_col11\" class=\"data row12 col11\" >0.3</td> \n",
       "        <td id=\"T_51242ff4_0f89_11ea_8201_08d40c109473row12_col12\" class=\"data row12 col12\" >1.0</td> \n",
       "        <td id=\"T_51242ff4_0f89_11ea_8201_08d40c109473row12_col13\" class=\"data row12 col13\" >-0.25</td> \n",
       "        <td id=\"T_51242ff4_0f89_11ea_8201_08d40c109473row12_col14\" class=\"data row12 col14\" >0.54</td> \n",
       "        <td id=\"T_51242ff4_0f89_11ea_8201_08d40c109473row12_col15\" class=\"data row12 col15\" >0.86</td> \n",
       "    </tr>    <tr> \n",
       "        <th id=\"T_51242ff4_0f89_11ea_8201_08d40c109473level0_row13\" class=\"row_heading level0 row13\" >13</th> \n",
       "        <td id=\"T_51242ff4_0f89_11ea_8201_08d40c109473row13_col0\" class=\"data row13 col0\" >-0.052</td> \n",
       "        <td id=\"T_51242ff4_0f89_11ea_8201_08d40c109473row13_col1\" class=\"data row13 col1\" >-0.011</td> \n",
       "        <td id=\"T_51242ff4_0f89_11ea_8201_08d40c109473row13_col2\" class=\"data row13 col2\" >-0.17</td> \n",
       "        <td id=\"T_51242ff4_0f89_11ea_8201_08d40c109473row13_col3\" class=\"data row13 col3\" >0.51</td> \n",
       "        <td id=\"T_51242ff4_0f89_11ea_8201_08d40c109473row13_col4\" class=\"data row13 col4\" >-0.25</td> \n",
       "        <td id=\"T_51242ff4_0f89_11ea_8201_08d40c109473row13_col5\" class=\"data row13 col5\" >1.0</td> \n",
       "        <td id=\"T_51242ff4_0f89_11ea_8201_08d40c109473row13_col6\" class=\"data row13 col6\" >-0.11</td> \n",
       "        <td id=\"T_51242ff4_0f89_11ea_8201_08d40c109473row13_col7\" class=\"data row13 col7\" >-0.12</td> \n",
       "        <td id=\"T_51242ff4_0f89_11ea_8201_08d40c109473row13_col8\" class=\"data row13 col8\" >-0.051</td> \n",
       "        <td id=\"T_51242ff4_0f89_11ea_8201_08d40c109473row13_col9\" class=\"data row13 col9\" >-0.011</td> \n",
       "        <td id=\"T_51242ff4_0f89_11ea_8201_08d40c109473row13_col10\" class=\"data row13 col10\" >-0.16</td> \n",
       "        <td id=\"T_51242ff4_0f89_11ea_8201_08d40c109473row13_col11\" class=\"data row13 col11\" >0.51</td> \n",
       "        <td id=\"T_51242ff4_0f89_11ea_8201_08d40c109473row13_col12\" class=\"data row13 col12\" >-0.25</td> \n",
       "        <td id=\"T_51242ff4_0f89_11ea_8201_08d40c109473row13_col13\" class=\"data row13 col13\" >1.0</td> \n",
       "        <td id=\"T_51242ff4_0f89_11ea_8201_08d40c109473row13_col14\" class=\"data row13 col14\" >-0.11</td> \n",
       "        <td id=\"T_51242ff4_0f89_11ea_8201_08d40c109473row13_col15\" class=\"data row13 col15\" >-0.12</td> \n",
       "    </tr>    <tr> \n",
       "        <th id=\"T_51242ff4_0f89_11ea_8201_08d40c109473level0_row14\" class=\"row_heading level0 row14\" >14</th> \n",
       "        <td id=\"T_51242ff4_0f89_11ea_8201_08d40c109473row14_col0\" class=\"data row14 col0\" >0.37</td> \n",
       "        <td id=\"T_51242ff4_0f89_11ea_8201_08d40c109473row14_col1\" class=\"data row14 col1\" >0.014</td> \n",
       "        <td id=\"T_51242ff4_0f89_11ea_8201_08d40c109473row14_col2\" class=\"data row14 col2\" >0.56</td> \n",
       "        <td id=\"T_51242ff4_0f89_11ea_8201_08d40c109473row14_col3\" class=\"data row14 col3\" >0.3</td> \n",
       "        <td id=\"T_51242ff4_0f89_11ea_8201_08d40c109473row14_col4\" class=\"data row14 col4\" >0.54</td> \n",
       "        <td id=\"T_51242ff4_0f89_11ea_8201_08d40c109473row14_col5\" class=\"data row14 col5\" >-0.11</td> \n",
       "        <td id=\"T_51242ff4_0f89_11ea_8201_08d40c109473row14_col6\" class=\"data row14 col6\" >0.99</td> \n",
       "        <td id=\"T_51242ff4_0f89_11ea_8201_08d40c109473row14_col7\" class=\"data row14 col7\" >0.58</td> \n",
       "        <td id=\"T_51242ff4_0f89_11ea_8201_08d40c109473row14_col8\" class=\"data row14 col8\" >0.37</td> \n",
       "        <td id=\"T_51242ff4_0f89_11ea_8201_08d40c109473row14_col9\" class=\"data row14 col9\" >0.014</td> \n",
       "        <td id=\"T_51242ff4_0f89_11ea_8201_08d40c109473row14_col10\" class=\"data row14 col10\" >0.56</td> \n",
       "        <td id=\"T_51242ff4_0f89_11ea_8201_08d40c109473row14_col11\" class=\"data row14 col11\" >0.3</td> \n",
       "        <td id=\"T_51242ff4_0f89_11ea_8201_08d40c109473row14_col12\" class=\"data row14 col12\" >0.54</td> \n",
       "        <td id=\"T_51242ff4_0f89_11ea_8201_08d40c109473row14_col13\" class=\"data row14 col13\" >-0.11</td> \n",
       "        <td id=\"T_51242ff4_0f89_11ea_8201_08d40c109473row14_col14\" class=\"data row14 col14\" >1.0</td> \n",
       "        <td id=\"T_51242ff4_0f89_11ea_8201_08d40c109473row14_col15\" class=\"data row14 col15\" >0.58</td> \n",
       "    </tr>    <tr> \n",
       "        <th id=\"T_51242ff4_0f89_11ea_8201_08d40c109473level0_row15\" class=\"row_heading level0 row15\" >15</th> \n",
       "        <td id=\"T_51242ff4_0f89_11ea_8201_08d40c109473row15_col0\" class=\"data row15 col0\" >0.52</td> \n",
       "        <td id=\"T_51242ff4_0f89_11ea_8201_08d40c109473row15_col1\" class=\"data row15 col1\" >0.025</td> \n",
       "        <td id=\"T_51242ff4_0f89_11ea_8201_08d40c109473row15_col2\" class=\"data row15 col2\" >0.88</td> \n",
       "        <td id=\"T_51242ff4_0f89_11ea_8201_08d40c109473row15_col3\" class=\"data row15 col3\" >0.43</td> \n",
       "        <td id=\"T_51242ff4_0f89_11ea_8201_08d40c109473row15_col4\" class=\"data row15 col4\" >0.86</td> \n",
       "        <td id=\"T_51242ff4_0f89_11ea_8201_08d40c109473row15_col5\" class=\"data row15 col5\" >-0.12</td> \n",
       "        <td id=\"T_51242ff4_0f89_11ea_8201_08d40c109473row15_col6\" class=\"data row15 col6\" >0.58</td> \n",
       "        <td id=\"T_51242ff4_0f89_11ea_8201_08d40c109473row15_col7\" class=\"data row15 col7\" >1.0</td> \n",
       "        <td id=\"T_51242ff4_0f89_11ea_8201_08d40c109473row15_col8\" class=\"data row15 col8\" >0.52</td> \n",
       "        <td id=\"T_51242ff4_0f89_11ea_8201_08d40c109473row15_col9\" class=\"data row15 col9\" >0.024</td> \n",
       "        <td id=\"T_51242ff4_0f89_11ea_8201_08d40c109473row15_col10\" class=\"data row15 col10\" >0.88</td> \n",
       "        <td id=\"T_51242ff4_0f89_11ea_8201_08d40c109473row15_col11\" class=\"data row15 col11\" >0.43</td> \n",
       "        <td id=\"T_51242ff4_0f89_11ea_8201_08d40c109473row15_col12\" class=\"data row15 col12\" >0.86</td> \n",
       "        <td id=\"T_51242ff4_0f89_11ea_8201_08d40c109473row15_col13\" class=\"data row15 col13\" >-0.12</td> \n",
       "        <td id=\"T_51242ff4_0f89_11ea_8201_08d40c109473row15_col14\" class=\"data row15 col14\" >0.58</td> \n",
       "        <td id=\"T_51242ff4_0f89_11ea_8201_08d40c109473row15_col15\" class=\"data row15 col15\" >1.0</td> \n",
       "    </tr></tbody> \n",
       "</table> "
      ],
      "text/plain": [
       "<pandas.io.formats.style.Styler at 0x1f6d13e47b8>"
      ]
     },
     "execution_count": 9,
     "metadata": {},
     "output_type": "execute_result"
    }
   ],
   "source": [
    "X_train.corr(method='spearman').style.format(\"{:.2}\").background_gradient(cmap=plt.get_cmap('coolwarm'), axis=1)"
   ]
  },
  {
   "cell_type": "markdown",
   "metadata": {},
   "source": [
    "## Imbalanced baseline"
   ]
  },
  {
   "cell_type": "code",
   "execution_count": 10,
   "metadata": {},
   "outputs": [
    {
     "name": "stdout",
     "output_type": "stream",
     "text": [
      "\n",
      "LOGISTIC REGRESSION\n",
      "TRAIN AND VALIDATION SETS:\n",
      "1 of KFold 10\n"
     ]
    },
    {
     "name": "stderr",
     "output_type": "stream",
     "text": [
      "C:\\Users\\cristiano.melo\\AppData\\Local\\Continuum\\anaconda3\\lib\\site-packages\\sklearn\\linear_model\\logistic.py:947: ConvergenceWarning: lbfgs failed to converge. Increase the number of iterations.\n",
      "  \"of iterations.\", ConvergenceWarning)\n"
     ]
    },
    {
     "name": "stdout",
     "output_type": "stream",
     "text": [
      "ROC AUC score: 0.5899196482752047\n",
      "2 of KFold 10\n"
     ]
    },
    {
     "name": "stderr",
     "output_type": "stream",
     "text": [
      "C:\\Users\\cristiano.melo\\AppData\\Local\\Continuum\\anaconda3\\lib\\site-packages\\sklearn\\linear_model\\logistic.py:947: ConvergenceWarning: lbfgs failed to converge. Increase the number of iterations.\n",
      "  \"of iterations.\", ConvergenceWarning)\n"
     ]
    },
    {
     "name": "stdout",
     "output_type": "stream",
     "text": [
      "ROC AUC score: 0.5847476066144474\n",
      "3 of KFold 10\n"
     ]
    },
    {
     "name": "stderr",
     "output_type": "stream",
     "text": [
      "C:\\Users\\cristiano.melo\\AppData\\Local\\Continuum\\anaconda3\\lib\\site-packages\\sklearn\\linear_model\\logistic.py:947: ConvergenceWarning: lbfgs failed to converge. Increase the number of iterations.\n",
      "  \"of iterations.\", ConvergenceWarning)\n"
     ]
    },
    {
     "name": "stdout",
     "output_type": "stream",
     "text": [
      "ROC AUC score: 0.5773663438835126\n",
      "4 of KFold 10\n"
     ]
    },
    {
     "name": "stderr",
     "output_type": "stream",
     "text": [
      "C:\\Users\\cristiano.melo\\AppData\\Local\\Continuum\\anaconda3\\lib\\site-packages\\sklearn\\linear_model\\logistic.py:947: ConvergenceWarning: lbfgs failed to converge. Increase the number of iterations.\n",
      "  \"of iterations.\", ConvergenceWarning)\n"
     ]
    },
    {
     "name": "stdout",
     "output_type": "stream",
     "text": [
      "ROC AUC score: 0.5840782374240229\n",
      "5 of KFold 10\n"
     ]
    },
    {
     "name": "stderr",
     "output_type": "stream",
     "text": [
      "C:\\Users\\cristiano.melo\\AppData\\Local\\Continuum\\anaconda3\\lib\\site-packages\\sklearn\\linear_model\\logistic.py:947: ConvergenceWarning: lbfgs failed to converge. Increase the number of iterations.\n",
      "  \"of iterations.\", ConvergenceWarning)\n"
     ]
    },
    {
     "name": "stdout",
     "output_type": "stream",
     "text": [
      "ROC AUC score: 0.5850753643333405\n",
      "6 of KFold 10\n"
     ]
    },
    {
     "name": "stderr",
     "output_type": "stream",
     "text": [
      "C:\\Users\\cristiano.melo\\AppData\\Local\\Continuum\\anaconda3\\lib\\site-packages\\sklearn\\linear_model\\logistic.py:947: ConvergenceWarning: lbfgs failed to converge. Increase the number of iterations.\n",
      "  \"of iterations.\", ConvergenceWarning)\n"
     ]
    },
    {
     "name": "stdout",
     "output_type": "stream",
     "text": [
      "ROC AUC score: 0.592251479342735\n",
      "7 of KFold 10\n"
     ]
    },
    {
     "name": "stderr",
     "output_type": "stream",
     "text": [
      "C:\\Users\\cristiano.melo\\AppData\\Local\\Continuum\\anaconda3\\lib\\site-packages\\sklearn\\linear_model\\logistic.py:947: ConvergenceWarning: lbfgs failed to converge. Increase the number of iterations.\n",
      "  \"of iterations.\", ConvergenceWarning)\n"
     ]
    },
    {
     "name": "stdout",
     "output_type": "stream",
     "text": [
      "ROC AUC score: 0.5876698228047268\n",
      "8 of KFold 10\n"
     ]
    },
    {
     "name": "stderr",
     "output_type": "stream",
     "text": [
      "C:\\Users\\cristiano.melo\\AppData\\Local\\Continuum\\anaconda3\\lib\\site-packages\\sklearn\\linear_model\\logistic.py:947: ConvergenceWarning: lbfgs failed to converge. Increase the number of iterations.\n",
      "  \"of iterations.\", ConvergenceWarning)\n"
     ]
    },
    {
     "name": "stdout",
     "output_type": "stream",
     "text": [
      "ROC AUC score: 0.5892676758860346\n",
      "9 of KFold 10\n"
     ]
    },
    {
     "name": "stderr",
     "output_type": "stream",
     "text": [
      "C:\\Users\\cristiano.melo\\AppData\\Local\\Continuum\\anaconda3\\lib\\site-packages\\sklearn\\linear_model\\logistic.py:947: ConvergenceWarning: lbfgs failed to converge. Increase the number of iterations.\n",
      "  \"of iterations.\", ConvergenceWarning)\n"
     ]
    },
    {
     "name": "stdout",
     "output_type": "stream",
     "text": [
      "ROC AUC score: 0.5804001537725082\n",
      "10 of KFold 10\n",
      "ROC AUC score: 0.5975037570301267\n",
      "\n",
      "CROSS VALIDANTION SUMMARY:\n",
      "Mean: 0.586828008936666\n",
      "Std deviation: 0.005526354998563648\n",
      "\n",
      "TEST SET:\n",
      "F1-Score(micro): 0.685159902362335\n",
      "F1-Score(macro): 0.5767484132987657\n",
      "F1-Score(weighted): 0.7040541470025321\n",
      "F1-Score(None): [0.79095704 0.36253979]\n",
      "Accuracy: 0.685159902362335\n",
      "Sensitivity: 0.4413624311645931\n",
      "Specificity: 0.7471974257836828\n",
      "Confusion Matrix: [0.7471974257836828, 0.44]\n",
      "ROC AUC score: 0.594279928474138\n",
      "Wall time: 5.66 s\n"
     ]
    },
    {
     "name": "stderr",
     "output_type": "stream",
     "text": [
      "C:\\Users\\cristiano.melo\\AppData\\Local\\Continuum\\anaconda3\\lib\\site-packages\\sklearn\\linear_model\\logistic.py:947: ConvergenceWarning: lbfgs failed to converge. Increase the number of iterations.\n",
      "  \"of iterations.\", ConvergenceWarning)\n"
     ]
    }
   ],
   "source": [
    "%%time\n",
    "LogisticRegr_(X_train, y_train, X_test, y_test)"
   ]
  },
  {
   "cell_type": "code",
   "execution_count": 11,
   "metadata": {},
   "outputs": [
    {
     "name": "stdout",
     "output_type": "stream",
     "text": [
      "Wall time: 0 ns\n",
      "\n",
      "DECISION TREE\n",
      "TRAIN AND VALIDATION SETS:\n",
      "1 of KFold 10\n",
      "ROC AUC score: 0.6769268565255163\n",
      "2 of KFold 10\n",
      "ROC AUC score: 0.6773509738229146\n",
      "3 of KFold 10\n",
      "ROC AUC score: 0.6713770667791908\n",
      "4 of KFold 10\n",
      "ROC AUC score: 0.6813894465111805\n",
      "5 of KFold 10\n",
      "ROC AUC score: 0.6791729625412269\n",
      "6 of KFold 10\n",
      "ROC AUC score: 0.6744641043604824\n",
      "7 of KFold 10\n",
      "ROC AUC score: 0.6745326696753942\n",
      "8 of KFold 10\n",
      "ROC AUC score: 0.6675640285604115\n",
      "9 of KFold 10\n",
      "ROC AUC score: 0.6646755570762121\n",
      "10 of KFold 10\n",
      "ROC AUC score: 0.6671872587606494\n",
      "\n",
      "CROSS VALIDANTION SUMMARY:\n",
      "Mean: 0.6734640924613179\n",
      "Std deviation: 0.005295718297861406\n",
      "\n",
      "TEST SET:\n",
      "F1-Score(micro): 0.6534276612469488\n",
      "F1-Score(macro): 0.5749867585108479\n",
      "F1-Score(weighted): 0.6835001991699475\n",
      "F1-Score(None): [0.75757488 0.39239864]\n",
      "Accuracy: 0.6534276612469488\n",
      "Sensitivity: 0.5517030389557414\n",
      "Specificity: 0.679312850321777\n",
      "Confusion Matrix: [0.679312850321777, 0.55]\n",
      "ROC AUC score: 0.6155079446387592\n",
      "Wall time: 3.73 s\n"
     ]
    }
   ],
   "source": [
    "%%time\n",
    "DecisionTree_(X_train, y_train, X_test, y_test)"
   ]
  },
  {
   "cell_type": "code",
   "execution_count": 12,
   "metadata": {},
   "outputs": [
    {
     "name": "stdout",
     "output_type": "stream",
     "text": [
      "Wall time: 0 ns\n",
      "RANDOM FOREST\n",
      "TRAIN AND VALIDATION SETS:\n",
      "1 of KFold 10\n",
      "ROC AUC score: 0.6187150621509121\n",
      "2 of KFold 10\n",
      "ROC AUC score: 0.6249680313594926\n",
      "3 of KFold 10\n",
      "ROC AUC score: 0.6206663181311879\n",
      "4 of KFold 10\n",
      "ROC AUC score: 0.6326822597509781\n",
      "5 of KFold 10\n",
      "ROC AUC score: 0.6237922780258206\n",
      "6 of KFold 10\n",
      "ROC AUC score: 0.6176398480274525\n",
      "7 of KFold 10\n",
      "ROC AUC score: 0.6158745093749249\n",
      "8 of KFold 10\n",
      "ROC AUC score: 0.6225385342888642\n",
      "9 of KFold 10\n",
      "ROC AUC score: 0.6053102139237826\n",
      "10 of KFold 10\n",
      "ROC AUC score: 0.6146462495257646\n",
      "\n",
      "CROSS VALIDANTION SUMMARY:\n",
      "Mean: 0.6196833304559181\n",
      "Std deviation: 0.006888260124327689\n",
      "\n",
      "TEST SET:\n",
      "F1-Score(micro): 0.740432749989657\n",
      "F1-Score(macro): 0.6052998308291619\n",
      "F1-Score(weighted): 0.742553905900965\n",
      "F1-Score(None): [0.83624785 0.37435181]\n",
      "Accuracy: 0.740432749989657\n",
      "Sensitivity: 0.3828268407097695\n",
      "Specificity: 0.8314303508407722\n",
      "Confusion Matrix: [0.8314303508407722, 0.38]\n",
      "ROC AUC score: 0.607128595775271\n",
      "Wall time: 1min 18s\n"
     ]
    }
   ],
   "source": [
    "%%time\n",
    "RandomForest_(X_train, y_train, X_test, y_test)"
   ]
  },
  {
   "cell_type": "code",
   "execution_count": 13,
   "metadata": {},
   "outputs": [
    {
     "name": "stdout",
     "output_type": "stream",
     "text": [
      "Wall time: 0 ns\n",
      "NEURAL NETWORK\n",
      "TRAIN AND VALIDATION SETS:\n",
      "1 of KFold 10\n"
     ]
    },
    {
     "name": "stderr",
     "output_type": "stream",
     "text": [
      "C:\\Users\\cristiano.melo\\AppData\\Local\\Continuum\\anaconda3\\lib\\site-packages\\sklearn\\neural_network\\multilayer_perceptron.py:566: ConvergenceWarning: Stochastic Optimizer: Maximum iterations (200) reached and the optimization hasn't converged yet.\n",
      "  % self.max_iter, ConvergenceWarning)\n"
     ]
    },
    {
     "name": "stdout",
     "output_type": "stream",
     "text": [
      "ROC AUC score: 0.5907466673176645\n",
      "2 of KFold 10\n",
      "ROC AUC score: 0.5865768909741484\n",
      "3 of KFold 10\n",
      "ROC AUC score: 0.5851335397656229\n",
      "4 of KFold 10\n"
     ]
    },
    {
     "name": "stderr",
     "output_type": "stream",
     "text": [
      "C:\\Users\\cristiano.melo\\AppData\\Local\\Continuum\\anaconda3\\lib\\site-packages\\sklearn\\neural_network\\multilayer_perceptron.py:566: ConvergenceWarning: Stochastic Optimizer: Maximum iterations (200) reached and the optimization hasn't converged yet.\n",
      "  % self.max_iter, ConvergenceWarning)\n"
     ]
    },
    {
     "name": "stdout",
     "output_type": "stream",
     "text": [
      "ROC AUC score: 0.59547519244433\n",
      "5 of KFold 10\n",
      "ROC AUC score: 0.5798054458409996\n",
      "6 of KFold 10\n",
      "ROC AUC score: 0.6048965914795134\n",
      "7 of KFold 10\n",
      "ROC AUC score: 0.5860044711955851\n",
      "8 of KFold 10\n"
     ]
    },
    {
     "name": "stderr",
     "output_type": "stream",
     "text": [
      "C:\\Users\\cristiano.melo\\AppData\\Local\\Continuum\\anaconda3\\lib\\site-packages\\sklearn\\neural_network\\multilayer_perceptron.py:566: ConvergenceWarning: Stochastic Optimizer: Maximum iterations (200) reached and the optimization hasn't converged yet.\n",
      "  % self.max_iter, ConvergenceWarning)\n"
     ]
    },
    {
     "name": "stdout",
     "output_type": "stream",
     "text": [
      "ROC AUC score: 0.5886079165687161\n",
      "9 of KFold 10\n"
     ]
    },
    {
     "name": "stderr",
     "output_type": "stream",
     "text": [
      "C:\\Users\\cristiano.melo\\AppData\\Local\\Continuum\\anaconda3\\lib\\site-packages\\sklearn\\neural_network\\multilayer_perceptron.py:566: ConvergenceWarning: Stochastic Optimizer: Maximum iterations (200) reached and the optimization hasn't converged yet.\n",
      "  % self.max_iter, ConvergenceWarning)\n"
     ]
    },
    {
     "name": "stdout",
     "output_type": "stream",
     "text": [
      "ROC AUC score: 0.5955765576836988\n",
      "10 of KFold 10\n",
      "ROC AUC score: 0.5940472699173026\n",
      "\n",
      "CROSS VALIDANTION SUMMARY:\n",
      "Mean: 0.5906870543187581\n",
      "Std deviation: 0.006726312711509214\n",
      "\n",
      "TEST SET:\n",
      "F1-Score(micro): 0.8315336560340905\n",
      "F1-Score(macro): 0.6182451907517514\n",
      "F1-Score(weighted): 0.7878300030493549\n",
      "F1-Score(None): [0.90359392 0.33289646]\n",
      "Accuracy: 0.8315336560340905\n",
      "Sensitivity: 0.2072200693452988\n",
      "Specificity: 0.9903985883329873\n",
      "Confusion Matrix: [0.9903985883329873, 0.21]\n",
      "ROC AUC score: 0.5988093288391431\n",
      "Wall time: 12min\n"
     ]
    }
   ],
   "source": [
    "%%time\n",
    "NN_(X_train, y_train, X_test, y_test)"
   ]
  },
  {
   "cell_type": "markdown",
   "metadata": {},
   "source": [
    "## Undersampling"
   ]
  },
  {
   "cell_type": "code",
   "execution_count": 14,
   "metadata": {},
   "outputs": [
    {
     "name": "stdout",
     "output_type": "stream",
     "text": [
      "Resampling dataset using Random UnderSampling (RUS)...\n",
      "... DONE!\n",
      "X and Y RUS: 22964 22964\n"
     ]
    }
   ],
   "source": [
    "print(\"Resampling dataset using Random UnderSampling (RUS)...\")\n",
    "X_RUS, y_RUS = RandomUnderSampler(random_state=42).fit_sample(X_train, y_train.values.ravel())\n",
    "print(\"... DONE!\")\n",
    "print(\"X and Y RUS:\", len(X_RUS), len(y_RUS))"
   ]
  },
  {
   "cell_type": "code",
   "execution_count": 15,
   "metadata": {},
   "outputs": [
    {
     "name": "stdout",
     "output_type": "stream",
     "text": [
      "\n",
      "LOGISTIC REGRESSION\n",
      "TRAIN AND VALIDATION SETS:\n",
      "1 of KFold 10\n",
      "ROC AUC score: 0.5732800334315752\n",
      "2 of KFold 10\n",
      "ROC AUC score: 0.5873478418788466\n",
      "3 of KFold 10\n",
      "ROC AUC score: 0.5732023838748455\n",
      "4 of KFold 10\n",
      "ROC AUC score: 0.5845980970171035\n",
      "5 of KFold 10\n",
      "ROC AUC score: 0.5906362461615418\n",
      "6 of KFold 10\n",
      "ROC AUC score: 0.5852126013462393\n",
      "7 of KFold 10\n",
      "ROC AUC score: 0.5684614667567757\n",
      "8 of KFold 10\n",
      "ROC AUC score: 0.5842395773311292\n",
      "9 of KFold 10\n",
      "ROC AUC score: 0.5996422650728557\n",
      "10 of KFold 10\n",
      "ROC AUC score: 0.6008980001737221\n",
      "\n",
      "CROSS VALIDANTION SUMMARY:\n",
      "Mean: 0.5847518513044634\n",
      "Std deviation: 0.010269642656549382\n",
      "\n",
      "TEST SET:\n",
      "F1-Score(micro): 0.6846634396590956\n",
      "F1-Score(macro): 0.576367048346641\n",
      "F1-Score(weighted): 0.7036624956261935\n",
      "F1-Score(None): [0.79055836 0.36217573]\n",
      "Accuracy: 0.6846634396590956\n",
      "Sensitivity: 0.4413624311645931\n",
      "Specificity: 0.7465746315133901\n",
      "Confusion Matrix: [0.7465746315133901, 0.44]\n",
      "ROC AUC score: 0.5939685313389916\n",
      "Wall time: 3.3 s\n"
     ]
    }
   ],
   "source": [
    "%%time\n",
    "LogisticRegr_(X_RUS, y_RUS, X_test, y_test)"
   ]
  },
  {
   "cell_type": "code",
   "execution_count": 16,
   "metadata": {},
   "outputs": [
    {
     "name": "stdout",
     "output_type": "stream",
     "text": [
      "Wall time: 0 ns\n",
      "\n",
      "DECISION TREE\n",
      "TRAIN AND VALIDATION SETS:\n",
      "1 of KFold 10\n",
      "ROC AUC score: 0.6324033343597414\n",
      "2 of KFold 10\n",
      "ROC AUC score: 0.6082826000753085\n",
      "3 of KFold 10\n",
      "ROC AUC score: 0.6208441526260772\n",
      "4 of KFold 10\n",
      "ROC AUC score: 0.615876675811881\n",
      "5 of KFold 10\n",
      "ROC AUC score: 0.6198108444839676\n",
      "6 of KFold 10\n",
      "ROC AUC score: 0.6296511883319421\n",
      "7 of KFold 10\n",
      "ROC AUC score: 0.6097014751462329\n",
      "8 of KFold 10\n",
      "ROC AUC score: 0.6377188355409262\n",
      "9 of KFold 10\n",
      "ROC AUC score: 0.6369356949655354\n",
      "10 of KFold 10\n",
      "ROC AUC score: 0.6312904335078883\n",
      "\n",
      "CROSS VALIDANTION SUMMARY:\n",
      "Mean: 0.6242515234849499\n",
      "Std deviation: 0.010274189295024402\n",
      "\n",
      "TEST SET:\n",
      "F1-Score(micro): 0.6708865996442017\n",
      "F1-Score(macro): 0.572712185213374\n",
      "F1-Score(weighted): 0.6944345625048327\n",
      "F1-Score(None): [0.77752608 0.36789829]\n",
      "Accuracy: 0.6708865996442017\n",
      "Sensitivity: 0.47215990210075465\n",
      "Specificity: 0.721455262611584\n",
      "Confusion Matrix: [0.721455262611584, 0.47]\n",
      "ROC AUC score: 0.5968075823561693\n",
      "Wall time: 1.79 s\n"
     ]
    }
   ],
   "source": [
    "%%time\n",
    "DecisionTree_(X_RUS, y_RUS, X_test, y_test)"
   ]
  },
  {
   "cell_type": "code",
   "execution_count": 17,
   "metadata": {},
   "outputs": [
    {
     "name": "stdout",
     "output_type": "stream",
     "text": [
      "Wall time: 0 ns\n",
      "RANDOM FOREST\n",
      "TRAIN AND VALIDATION SETS:\n",
      "1 of KFold 10\n",
      "ROC AUC score: 0.5859191483746096\n",
      "2 of KFold 10\n",
      "ROC AUC score: 0.5832308671471748\n",
      "3 of KFold 10\n",
      "ROC AUC score: 0.5857648649302782\n",
      "4 of KFold 10\n",
      "ROC AUC score: 0.5799038779600334\n",
      "5 of KFold 10\n",
      "ROC AUC score: 0.5807546767821331\n",
      "6 of KFold 10\n",
      "ROC AUC score: 0.5705872590509941\n",
      "7 of KFold 10\n",
      "ROC AUC score: 0.5870208105147864\n",
      "8 of KFold 10\n",
      "ROC AUC score: 0.5962711922219961\n",
      "9 of KFold 10\n",
      "ROC AUC score: 0.5851601081930023\n",
      "10 of KFold 10\n",
      "ROC AUC score: 0.591493807285141\n",
      "\n",
      "CROSS VALIDANTION SUMMARY:\n",
      "Mean: 0.5846106612460149\n",
      "Std deviation: 0.006542803559323288\n",
      "\n",
      "TEST SET:\n",
      "F1-Score(micro): 0.7427495759381076\n",
      "F1-Score(macro): 0.5839493604566495\n",
      "F1-Score(weighted): 0.7367093614873296\n",
      "F1-Score(None): [0.84098813 0.32691059]\n",
      "Accuracy: 0.7427495759381076\n",
      "Sensitivity: 0.30797470936161536\n",
      "Specificity: 0.8533838488685904\n",
      "Confusion Matrix: [0.8533838488685904, 0.31]\n",
      "ROC AUC score: 0.580679279115103\n",
      "Wall time: 32 s\n"
     ]
    }
   ],
   "source": [
    "%%time\n",
    "RandomForest_(X_RUS, y_RUS, X_test, y_test)"
   ]
  },
  {
   "cell_type": "code",
   "execution_count": 18,
   "metadata": {},
   "outputs": [
    {
     "name": "stdout",
     "output_type": "stream",
     "text": [
      "Wall time: 0 ns\n",
      "NEURAL NETWORK\n",
      "TRAIN AND VALIDATION SETS:\n",
      "1 of KFold 10\n"
     ]
    },
    {
     "name": "stderr",
     "output_type": "stream",
     "text": [
      "C:\\Users\\cristiano.melo\\AppData\\Local\\Continuum\\anaconda3\\lib\\site-packages\\sklearn\\neural_network\\multilayer_perceptron.py:566: ConvergenceWarning: Stochastic Optimizer: Maximum iterations (200) reached and the optimization hasn't converged yet.\n",
      "  % self.max_iter, ConvergenceWarning)\n"
     ]
    },
    {
     "name": "stdout",
     "output_type": "stream",
     "text": [
      "ROC AUC score: 0.5582171292834206\n",
      "2 of KFold 10\n"
     ]
    },
    {
     "name": "stderr",
     "output_type": "stream",
     "text": [
      "C:\\Users\\cristiano.melo\\AppData\\Local\\Continuum\\anaconda3\\lib\\site-packages\\sklearn\\neural_network\\multilayer_perceptron.py:566: ConvergenceWarning: Stochastic Optimizer: Maximum iterations (200) reached and the optimization hasn't converged yet.\n",
      "  % self.max_iter, ConvergenceWarning)\n"
     ]
    },
    {
     "name": "stdout",
     "output_type": "stream",
     "text": [
      "ROC AUC score: 0.5626443273719672\n",
      "3 of KFold 10\n"
     ]
    },
    {
     "name": "stderr",
     "output_type": "stream",
     "text": [
      "C:\\Users\\cristiano.melo\\AppData\\Local\\Continuum\\anaconda3\\lib\\site-packages\\sklearn\\neural_network\\multilayer_perceptron.py:566: ConvergenceWarning: Stochastic Optimizer: Maximum iterations (200) reached and the optimization hasn't converged yet.\n",
      "  % self.max_iter, ConvergenceWarning)\n"
     ]
    },
    {
     "name": "stdout",
     "output_type": "stream",
     "text": [
      "ROC AUC score: 0.5617422893450568\n",
      "4 of KFold 10\n"
     ]
    },
    {
     "name": "stderr",
     "output_type": "stream",
     "text": [
      "C:\\Users\\cristiano.melo\\AppData\\Local\\Continuum\\anaconda3\\lib\\site-packages\\sklearn\\neural_network\\multilayer_perceptron.py:566: ConvergenceWarning: Stochastic Optimizer: Maximum iterations (200) reached and the optimization hasn't converged yet.\n",
      "  % self.max_iter, ConvergenceWarning)\n"
     ]
    },
    {
     "name": "stdout",
     "output_type": "stream",
     "text": [
      "ROC AUC score: 0.5583347926760454\n",
      "5 of KFold 10\n"
     ]
    },
    {
     "name": "stderr",
     "output_type": "stream",
     "text": [
      "C:\\Users\\cristiano.melo\\AppData\\Local\\Continuum\\anaconda3\\lib\\site-packages\\sklearn\\neural_network\\multilayer_perceptron.py:566: ConvergenceWarning: Stochastic Optimizer: Maximum iterations (200) reached and the optimization hasn't converged yet.\n",
      "  % self.max_iter, ConvergenceWarning)\n"
     ]
    },
    {
     "name": "stdout",
     "output_type": "stream",
     "text": [
      "ROC AUC score: 0.579619928950891\n",
      "6 of KFold 10\n"
     ]
    },
    {
     "name": "stderr",
     "output_type": "stream",
     "text": [
      "C:\\Users\\cristiano.melo\\AppData\\Local\\Continuum\\anaconda3\\lib\\site-packages\\sklearn\\neural_network\\multilayer_perceptron.py:566: ConvergenceWarning: Stochastic Optimizer: Maximum iterations (200) reached and the optimization hasn't converged yet.\n",
      "  % self.max_iter, ConvergenceWarning)\n"
     ]
    },
    {
     "name": "stdout",
     "output_type": "stream",
     "text": [
      "ROC AUC score: 0.5664723942850727\n",
      "7 of KFold 10\n"
     ]
    },
    {
     "name": "stderr",
     "output_type": "stream",
     "text": [
      "C:\\Users\\cristiano.melo\\AppData\\Local\\Continuum\\anaconda3\\lib\\site-packages\\sklearn\\neural_network\\multilayer_perceptron.py:566: ConvergenceWarning: Stochastic Optimizer: Maximum iterations (200) reached and the optimization hasn't converged yet.\n",
      "  % self.max_iter, ConvergenceWarning)\n"
     ]
    },
    {
     "name": "stdout",
     "output_type": "stream",
     "text": [
      "ROC AUC score: 0.5531914893617021\n",
      "8 of KFold 10\n"
     ]
    },
    {
     "name": "stderr",
     "output_type": "stream",
     "text": [
      "C:\\Users\\cristiano.melo\\AppData\\Local\\Continuum\\anaconda3\\lib\\site-packages\\sklearn\\neural_network\\multilayer_perceptron.py:566: ConvergenceWarning: Stochastic Optimizer: Maximum iterations (200) reached and the optimization hasn't converged yet.\n",
      "  % self.max_iter, ConvergenceWarning)\n"
     ]
    },
    {
     "name": "stdout",
     "output_type": "stream",
     "text": [
      "ROC AUC score: 0.5637944203713338\n",
      "9 of KFold 10\n"
     ]
    },
    {
     "name": "stderr",
     "output_type": "stream",
     "text": [
      "C:\\Users\\cristiano.melo\\AppData\\Local\\Continuum\\anaconda3\\lib\\site-packages\\sklearn\\neural_network\\multilayer_perceptron.py:566: ConvergenceWarning: Stochastic Optimizer: Maximum iterations (200) reached and the optimization hasn't converged yet.\n",
      "  % self.max_iter, ConvergenceWarning)\n"
     ]
    },
    {
     "name": "stdout",
     "output_type": "stream",
     "text": [
      "ROC AUC score: 0.5578384666841172\n",
      "10 of KFold 10\n"
     ]
    },
    {
     "name": "stderr",
     "output_type": "stream",
     "text": [
      "C:\\Users\\cristiano.melo\\AppData\\Local\\Continuum\\anaconda3\\lib\\site-packages\\sklearn\\neural_network\\multilayer_perceptron.py:566: ConvergenceWarning: Stochastic Optimizer: Maximum iterations (200) reached and the optimization hasn't converged yet.\n",
      "  % self.max_iter, ConvergenceWarning)\n"
     ]
    },
    {
     "name": "stdout",
     "output_type": "stream",
     "text": [
      "ROC AUC score: 0.5612691466083151\n",
      "\n",
      "CROSS VALIDANTION SUMMARY:\n",
      "Mean: 0.5623124384937922\n",
      "Std deviation: 0.006755558949745254\n",
      "\n",
      "TEST SET:\n",
      "F1-Score(micro): 0.8218940052128584\n",
      "F1-Score(macro): 0.562888450458962\n",
      "F1-Score(weighted): 0.762856997918906\n",
      "F1-Score(None): [0.89936181 0.22641509]\n",
      "Accuracy: 0.8218940052128584\n",
      "Sensitivity: 0.12849275953497857\n",
      "Specificity: 0.9983392152792194\n",
      "Confusion Matrix: [0.9983392152792194, 0.13]\n",
      "ROC AUC score: 0.563415987407099\n",
      "Wall time: 4min 12s\n"
     ]
    }
   ],
   "source": [
    "%%time\n",
    "NN_(X_RUS, y_RUS, X_test, y_test)"
   ]
  },
  {
   "cell_type": "code",
   "execution_count": 19,
   "metadata": {},
   "outputs": [
    {
     "name": "stdout",
     "output_type": "stream",
     "text": [
      "Resampling dataset using Edited Nearest Neighbour (ENN)...\n",
      "... DONE!\n",
      "X and Y ENN: 43283 43283\n"
     ]
    }
   ],
   "source": [
    "print(\"Resampling dataset using Edited Nearest Neighbour (ENN)...\")\n",
    "X_ENN, y_ENN = EditedNearestNeighbours(random_state=42).fit_sample(X_train, y_train.values.ravel())\n",
    "print(\"... DONE!\")\n",
    "print(\"X and Y ENN:\", len(X_ENN), len(y_ENN))"
   ]
  },
  {
   "cell_type": "code",
   "execution_count": 20,
   "metadata": {},
   "outputs": [
    {
     "name": "stdout",
     "output_type": "stream",
     "text": [
      "\n",
      "LOGISTIC REGRESSION\n",
      "TRAIN AND VALIDATION SETS:\n",
      "1 of KFold 10\n",
      "ROC AUC score: 0.5803856796894991\n",
      "2 of KFold 10\n"
     ]
    },
    {
     "name": "stderr",
     "output_type": "stream",
     "text": [
      "C:\\Users\\cristiano.melo\\AppData\\Local\\Continuum\\anaconda3\\lib\\site-packages\\sklearn\\linear_model\\logistic.py:947: ConvergenceWarning: lbfgs failed to converge. Increase the number of iterations.\n",
      "  \"of iterations.\", ConvergenceWarning)\n"
     ]
    },
    {
     "name": "stdout",
     "output_type": "stream",
     "text": [
      "ROC AUC score: 0.586048149524518\n",
      "3 of KFold 10\n",
      "ROC AUC score: 0.6036194493943821\n",
      "4 of KFold 10\n",
      "ROC AUC score: 0.568866864973114\n",
      "5 of KFold 10\n"
     ]
    },
    {
     "name": "stderr",
     "output_type": "stream",
     "text": [
      "C:\\Users\\cristiano.melo\\AppData\\Local\\Continuum\\anaconda3\\lib\\site-packages\\sklearn\\linear_model\\logistic.py:947: ConvergenceWarning: lbfgs failed to converge. Increase the number of iterations.\n",
      "  \"of iterations.\", ConvergenceWarning)\n"
     ]
    },
    {
     "name": "stdout",
     "output_type": "stream",
     "text": [
      "ROC AUC score: 0.5795589297123599\n",
      "6 of KFold 10\n"
     ]
    },
    {
     "name": "stderr",
     "output_type": "stream",
     "text": [
      "C:\\Users\\cristiano.melo\\AppData\\Local\\Continuum\\anaconda3\\lib\\site-packages\\sklearn\\linear_model\\logistic.py:947: ConvergenceWarning: lbfgs failed to converge. Increase the number of iterations.\n",
      "  \"of iterations.\", ConvergenceWarning)\n"
     ]
    },
    {
     "name": "stdout",
     "output_type": "stream",
     "text": [
      "ROC AUC score: 0.5793295136791657\n",
      "7 of KFold 10\n",
      "ROC AUC score: 0.5924162013027706\n",
      "8 of KFold 10\n"
     ]
    },
    {
     "name": "stderr",
     "output_type": "stream",
     "text": [
      "C:\\Users\\cristiano.melo\\AppData\\Local\\Continuum\\anaconda3\\lib\\site-packages\\sklearn\\linear_model\\logistic.py:947: ConvergenceWarning: lbfgs failed to converge. Increase the number of iterations.\n",
      "  \"of iterations.\", ConvergenceWarning)\n"
     ]
    },
    {
     "name": "stdout",
     "output_type": "stream",
     "text": [
      "ROC AUC score: 0.5918008618921123\n",
      "9 of KFold 10\n"
     ]
    },
    {
     "name": "stderr",
     "output_type": "stream",
     "text": [
      "C:\\Users\\cristiano.melo\\AppData\\Local\\Continuum\\anaconda3\\lib\\site-packages\\sklearn\\linear_model\\logistic.py:947: ConvergenceWarning: lbfgs failed to converge. Increase the number of iterations.\n",
      "  \"of iterations.\", ConvergenceWarning)\n"
     ]
    },
    {
     "name": "stdout",
     "output_type": "stream",
     "text": [
      "ROC AUC score: 0.5781027576138733\n",
      "10 of KFold 10\n",
      "ROC AUC score: 0.5943310390807302\n",
      "\n",
      "CROSS VALIDANTION SUMMARY:\n",
      "Mean: 0.5854459446862526\n",
      "Std deviation: 0.009617772675391519\n",
      "\n",
      "TEST SET:\n",
      "F1-Score(micro): 0.6805262504654338\n",
      "F1-Score(macro): 0.5743752351616156\n",
      "F1-Score(weighted): 0.7006994282557543\n",
      "F1-Score(None): [0.78693229 0.36181818]\n",
      "Accuracy: 0.6805262504654338\n",
      "Sensitivity: 0.44646135019375893\n",
      "Specificity: 0.7400871911978409\n",
      "Confusion Matrix: [0.7400871911978409, 0.45]\n",
      "ROC AUC score: 0.5932742706958001\n",
      "Wall time: 5.38 s\n"
     ]
    },
    {
     "name": "stderr",
     "output_type": "stream",
     "text": [
      "C:\\Users\\cristiano.melo\\AppData\\Local\\Continuum\\anaconda3\\lib\\site-packages\\sklearn\\linear_model\\logistic.py:947: ConvergenceWarning: lbfgs failed to converge. Increase the number of iterations.\n",
      "  \"of iterations.\", ConvergenceWarning)\n"
     ]
    }
   ],
   "source": [
    "%%time\n",
    "LogisticRegr_(X_ENN, y_ENN, X_test, y_test)"
   ]
  },
  {
   "cell_type": "code",
   "execution_count": 21,
   "metadata": {},
   "outputs": [
    {
     "name": "stdout",
     "output_type": "stream",
     "text": [
      "Wall time: 0 ns\n",
      "\n",
      "DECISION TREE\n",
      "TRAIN AND VALIDATION SETS:\n",
      "1 of KFold 10\n",
      "ROC AUC score: 0.6573695969671646\n",
      "2 of KFold 10\n",
      "ROC AUC score: 0.6692926483294598\n",
      "3 of KFold 10\n",
      "ROC AUC score: 0.6625311444419305\n",
      "4 of KFold 10\n",
      "ROC AUC score: 0.6612516758979491\n",
      "5 of KFold 10\n",
      "ROC AUC score: 0.6603467196803348\n",
      "6 of KFold 10\n",
      "ROC AUC score: 0.659687473095424\n",
      "7 of KFold 10\n",
      "ROC AUC score: 0.6722286329069895\n",
      "8 of KFold 10\n",
      "ROC AUC score: 0.6524612858176367\n",
      "9 of KFold 10\n",
      "ROC AUC score: 0.6588996485839803\n",
      "10 of KFold 10\n",
      "ROC AUC score: 0.6512448444679753\n",
      "\n",
      "CROSS VALIDANTION SUMMARY:\n",
      "Mean: 0.6605313670188844\n",
      "Std deviation: 0.006187691752752152\n",
      "\n",
      "TEST SET:\n",
      "F1-Score(micro): 0.6422158785321253\n",
      "F1-Score(macro): 0.5666937695352923\n",
      "F1-Score(weighted): 0.6742029456069905\n",
      "F1-Score(None): [0.74759208 0.38579545]\n",
      "Accuracy: 0.6422158785321253\n",
      "Sensitivity: 0.5539465633285744\n",
      "Specificity: 0.6646771849698982\n",
      "Confusion Matrix: [0.6646771849698982, 0.55]\n",
      "ROC AUC score: 0.6093118741492364\n",
      "Wall time: 2.76 s\n"
     ]
    }
   ],
   "source": [
    "%%time\n",
    "DecisionTree_(X_ENN, y_ENN, X_test, y_test)"
   ]
  },
  {
   "cell_type": "code",
   "execution_count": 22,
   "metadata": {},
   "outputs": [
    {
     "name": "stdout",
     "output_type": "stream",
     "text": [
      "Wall time: 0 ns\n",
      "RANDOM FOREST\n",
      "TRAIN AND VALIDATION SETS:\n",
      "1 of KFold 10\n",
      "ROC AUC score: 0.6033878285258752\n",
      "2 of KFold 10\n",
      "ROC AUC score: 0.6132466968407031\n",
      "3 of KFold 10\n",
      "ROC AUC score: 0.6076519935789901\n",
      "4 of KFold 10\n",
      "ROC AUC score: 0.608376688438682\n",
      "5 of KFold 10\n",
      "ROC AUC score: 0.6086359634670121\n",
      "6 of KFold 10\n",
      "ROC AUC score: 0.626911208953039\n",
      "7 of KFold 10\n",
      "ROC AUC score: 0.6055318362018404\n",
      "8 of KFold 10\n",
      "ROC AUC score: 0.5985284873223752\n",
      "9 of KFold 10\n",
      "ROC AUC score: 0.6077904233662187\n",
      "10 of KFold 10\n",
      "ROC AUC score: 0.6020481596956684\n",
      "\n",
      "CROSS VALIDANTION SUMMARY:\n",
      "Mean: 0.6082109286390405\n",
      "Std deviation: 0.007334344081741207\n",
      "\n",
      "TEST SET:\n",
      "F1-Score(micro): 0.7440321045881427\n",
      "F1-Score(macro): 0.6018563630302918\n",
      "F1-Score(weighted): 0.7432544887211343\n",
      "F1-Score(None): [0.83977729 0.36393544]\n",
      "Accuracy: 0.7440321045881428\n",
      "Sensitivity: 0.3610034672649398\n",
      "Specificity: 0.8414988582105044\n",
      "Confusion Matrix: [0.8414988582105044, 0.36]\n",
      "ROC AUC score: 0.6012511627377222\n",
      "Wall time: 56.1 s\n"
     ]
    }
   ],
   "source": [
    "%%time\n",
    "RandomForest_(X_ENN, y_ENN, X_test, y_test)"
   ]
  },
  {
   "cell_type": "code",
   "execution_count": 23,
   "metadata": {},
   "outputs": [
    {
     "name": "stdout",
     "output_type": "stream",
     "text": [
      "Wall time: 0 ns\n",
      "NEURAL NETWORK\n",
      "TRAIN AND VALIDATION SETS:\n",
      "1 of KFold 10\n"
     ]
    },
    {
     "name": "stderr",
     "output_type": "stream",
     "text": [
      "C:\\Users\\cristiano.melo\\AppData\\Local\\Continuum\\anaconda3\\lib\\site-packages\\sklearn\\neural_network\\multilayer_perceptron.py:566: ConvergenceWarning: Stochastic Optimizer: Maximum iterations (200) reached and the optimization hasn't converged yet.\n",
      "  % self.max_iter, ConvergenceWarning)\n"
     ]
    },
    {
     "name": "stdout",
     "output_type": "stream",
     "text": [
      "ROC AUC score: 0.5757048250735461\n",
      "2 of KFold 10\n",
      "ROC AUC score: 0.5826786531123328\n",
      "3 of KFold 10\n",
      "ROC AUC score: 0.5767133961599791\n",
      "4 of KFold 10\n"
     ]
    },
    {
     "name": "stderr",
     "output_type": "stream",
     "text": [
      "C:\\Users\\cristiano.melo\\AppData\\Local\\Continuum\\anaconda3\\lib\\site-packages\\sklearn\\neural_network\\multilayer_perceptron.py:566: ConvergenceWarning: Stochastic Optimizer: Maximum iterations (200) reached and the optimization hasn't converged yet.\n",
      "  % self.max_iter, ConvergenceWarning)\n"
     ]
    },
    {
     "name": "stdout",
     "output_type": "stream",
     "text": [
      "ROC AUC score: 0.5884893661099233\n",
      "5 of KFold 10\n"
     ]
    },
    {
     "name": "stderr",
     "output_type": "stream",
     "text": [
      "C:\\Users\\cristiano.melo\\AppData\\Local\\Continuum\\anaconda3\\lib\\site-packages\\sklearn\\neural_network\\multilayer_perceptron.py:566: ConvergenceWarning: Stochastic Optimizer: Maximum iterations (200) reached and the optimization hasn't converged yet.\n",
      "  % self.max_iter, ConvergenceWarning)\n"
     ]
    },
    {
     "name": "stdout",
     "output_type": "stream",
     "text": [
      "ROC AUC score: 0.5803386977016965\n",
      "6 of KFold 10\n"
     ]
    },
    {
     "name": "stderr",
     "output_type": "stream",
     "text": [
      "C:\\Users\\cristiano.melo\\AppData\\Local\\Continuum\\anaconda3\\lib\\site-packages\\sklearn\\neural_network\\multilayer_perceptron.py:566: ConvergenceWarning: Stochastic Optimizer: Maximum iterations (200) reached and the optimization hasn't converged yet.\n",
      "  % self.max_iter, ConvergenceWarning)\n"
     ]
    },
    {
     "name": "stdout",
     "output_type": "stream",
     "text": [
      "ROC AUC score: 0.5823180362917396\n",
      "7 of KFold 10\n"
     ]
    },
    {
     "name": "stderr",
     "output_type": "stream",
     "text": [
      "C:\\Users\\cristiano.melo\\AppData\\Local\\Continuum\\anaconda3\\lib\\site-packages\\sklearn\\neural_network\\multilayer_perceptron.py:566: ConvergenceWarning: Stochastic Optimizer: Maximum iterations (200) reached and the optimization hasn't converged yet.\n",
      "  % self.max_iter, ConvergenceWarning)\n"
     ]
    },
    {
     "name": "stdout",
     "output_type": "stream",
     "text": [
      "ROC AUC score: 0.5830662814426275\n",
      "8 of KFold 10\n"
     ]
    },
    {
     "name": "stderr",
     "output_type": "stream",
     "text": [
      "C:\\Users\\cristiano.melo\\AppData\\Local\\Continuum\\anaconda3\\lib\\site-packages\\sklearn\\neural_network\\multilayer_perceptron.py:566: ConvergenceWarning: Stochastic Optimizer: Maximum iterations (200) reached and the optimization hasn't converged yet.\n",
      "  % self.max_iter, ConvergenceWarning)\n"
     ]
    },
    {
     "name": "stdout",
     "output_type": "stream",
     "text": [
      "ROC AUC score: 0.5767498560165332\n",
      "9 of KFold 10\n"
     ]
    },
    {
     "name": "stderr",
     "output_type": "stream",
     "text": [
      "C:\\Users\\cristiano.melo\\AppData\\Local\\Continuum\\anaconda3\\lib\\site-packages\\sklearn\\neural_network\\multilayer_perceptron.py:566: ConvergenceWarning: Stochastic Optimizer: Maximum iterations (200) reached and the optimization hasn't converged yet.\n",
      "  % self.max_iter, ConvergenceWarning)\n"
     ]
    },
    {
     "name": "stdout",
     "output_type": "stream",
     "text": [
      "ROC AUC score: 0.58042274320026\n",
      "10 of KFold 10\n",
      "ROC AUC score: 0.5838134269336105\n",
      "\n",
      "CROSS VALIDANTION SUMMARY:\n",
      "Mean: 0.5810295282042248\n",
      "Std deviation: 0.0037157770605168697\n",
      "\n",
      "TEST SET:\n",
      "F1-Score(micro): 0.8295891771130693\n",
      "F1-Score(macro): 0.602465168098967\n",
      "F1-Score(weighted): 0.7810440618859172\n",
      "F1-Score(None): [0.90294762 0.30198271]\n",
      "Accuracy: 0.8295891771130693\n",
      "Sensitivity: 0.18172547419946972\n",
      "Specificity: 0.99444675108989\n",
      "Confusion Matrix: [0.99444675108989, 0.18]\n",
      "ROC AUC score: 0.5880861126446798\n",
      "Wall time: 9min 19s\n"
     ]
    },
    {
     "name": "stderr",
     "output_type": "stream",
     "text": [
      "C:\\Users\\cristiano.melo\\AppData\\Local\\Continuum\\anaconda3\\lib\\site-packages\\sklearn\\neural_network\\multilayer_perceptron.py:566: ConvergenceWarning: Stochastic Optimizer: Maximum iterations (200) reached and the optimization hasn't converged yet.\n",
      "  % self.max_iter, ConvergenceWarning)\n"
     ]
    }
   ],
   "source": [
    "%%time\n",
    "NN_(X_ENN, y_ENN, X_test, y_test)"
   ]
  },
  {
   "cell_type": "code",
   "execution_count": 24,
   "metadata": {},
   "outputs": [
    {
     "name": "stdout",
     "output_type": "stream",
     "text": [
      "Resampling dataset using Tomek's Link (TL)...\n",
      "... DONE!\n",
      "X and Y TL: 55655 55655\n"
     ]
    }
   ],
   "source": [
    "print(\"Resampling dataset using Tomek's Link (TL)...\")\n",
    "X_TL, y_TL = TomekLinks(random_state=42).fit_sample(X_train, y_train.values.ravel())\n",
    "print(\"... DONE!\")\n",
    "print(\"X and Y TL:\", len(X_TL), len(y_TL))"
   ]
  },
  {
   "cell_type": "code",
   "execution_count": 25,
   "metadata": {},
   "outputs": [
    {
     "name": "stdout",
     "output_type": "stream",
     "text": [
      "\n",
      "LOGISTIC REGRESSION\n",
      "TRAIN AND VALIDATION SETS:\n",
      "1 of KFold 10\n"
     ]
    },
    {
     "name": "stderr",
     "output_type": "stream",
     "text": [
      "C:\\Users\\cristiano.melo\\AppData\\Local\\Continuum\\anaconda3\\lib\\site-packages\\sklearn\\linear_model\\logistic.py:947: ConvergenceWarning: lbfgs failed to converge. Increase the number of iterations.\n",
      "  \"of iterations.\", ConvergenceWarning)\n"
     ]
    },
    {
     "name": "stdout",
     "output_type": "stream",
     "text": [
      "ROC AUC score: 0.5890099341401153\n",
      "2 of KFold 10\n"
     ]
    },
    {
     "name": "stderr",
     "output_type": "stream",
     "text": [
      "C:\\Users\\cristiano.melo\\AppData\\Local\\Continuum\\anaconda3\\lib\\site-packages\\sklearn\\linear_model\\logistic.py:947: ConvergenceWarning: lbfgs failed to converge. Increase the number of iterations.\n",
      "  \"of iterations.\", ConvergenceWarning)\n"
     ]
    },
    {
     "name": "stdout",
     "output_type": "stream",
     "text": [
      "ROC AUC score: 0.5870739366117484\n",
      "3 of KFold 10\n"
     ]
    },
    {
     "name": "stderr",
     "output_type": "stream",
     "text": [
      "C:\\Users\\cristiano.melo\\AppData\\Local\\Continuum\\anaconda3\\lib\\site-packages\\sklearn\\linear_model\\logistic.py:947: ConvergenceWarning: lbfgs failed to converge. Increase the number of iterations.\n",
      "  \"of iterations.\", ConvergenceWarning)\n"
     ]
    },
    {
     "name": "stdout",
     "output_type": "stream",
     "text": [
      "ROC AUC score: 0.5738387596009633\n",
      "4 of KFold 10\n"
     ]
    },
    {
     "name": "stderr",
     "output_type": "stream",
     "text": [
      "C:\\Users\\cristiano.melo\\AppData\\Local\\Continuum\\anaconda3\\lib\\site-packages\\sklearn\\linear_model\\logistic.py:947: ConvergenceWarning: lbfgs failed to converge. Increase the number of iterations.\n",
      "  \"of iterations.\", ConvergenceWarning)\n"
     ]
    },
    {
     "name": "stdout",
     "output_type": "stream",
     "text": [
      "ROC AUC score: 0.5859925788497217\n",
      "5 of KFold 10\n",
      "ROC AUC score: 0.5869923359018683\n",
      "6 of KFold 10\n"
     ]
    },
    {
     "name": "stderr",
     "output_type": "stream",
     "text": [
      "C:\\Users\\cristiano.melo\\AppData\\Local\\Continuum\\anaconda3\\lib\\site-packages\\sklearn\\linear_model\\logistic.py:947: ConvergenceWarning: lbfgs failed to converge. Increase the number of iterations.\n",
      "  \"of iterations.\", ConvergenceWarning)\n"
     ]
    },
    {
     "name": "stdout",
     "output_type": "stream",
     "text": [
      "ROC AUC score: 0.5905628215732366\n",
      "7 of KFold 10\n"
     ]
    },
    {
     "name": "stderr",
     "output_type": "stream",
     "text": [
      "C:\\Users\\cristiano.melo\\AppData\\Local\\Continuum\\anaconda3\\lib\\site-packages\\sklearn\\linear_model\\logistic.py:947: ConvergenceWarning: lbfgs failed to converge. Increase the number of iterations.\n",
      "  \"of iterations.\", ConvergenceWarning)\n"
     ]
    },
    {
     "name": "stdout",
     "output_type": "stream",
     "text": [
      "ROC AUC score: 0.5848753492904805\n",
      "8 of KFold 10\n"
     ]
    },
    {
     "name": "stderr",
     "output_type": "stream",
     "text": [
      "C:\\Users\\cristiano.melo\\AppData\\Local\\Continuum\\anaconda3\\lib\\site-packages\\sklearn\\linear_model\\logistic.py:947: ConvergenceWarning: lbfgs failed to converge. Increase the number of iterations.\n",
      "  \"of iterations.\", ConvergenceWarning)\n"
     ]
    },
    {
     "name": "stdout",
     "output_type": "stream",
     "text": [
      "ROC AUC score: 0.5895749239357913\n",
      "9 of KFold 10\n",
      "ROC AUC score: 0.5831536241333405\n",
      "10 of KFold 10\n",
      "ROC AUC score: 0.5946606820457785\n",
      "\n",
      "CROSS VALIDANTION SUMMARY:\n",
      "Mean: 0.5865734946083044\n",
      "Std deviation: 0.0052323815468846855\n",
      "\n",
      "TEST SET:\n",
      "F1-Score(micro): 0.6851185304703984\n",
      "F1-Score(macro): 0.5761913265448637\n",
      "F1-Score(weighted): 0.7038834502914205\n",
      "F1-Score(None): [0.7910501  0.36133255]\n",
      "Accuracy: 0.6851185304703984\n",
      "Sensitivity: 0.43911890679176013\n",
      "Specificity: 0.7477164210089268\n",
      "Confusion Matrix: [0.7477164210089268, 0.44]\n",
      "ROC AUC score: 0.5934176639003433\n",
      "Wall time: 5.31 s\n"
     ]
    },
    {
     "name": "stderr",
     "output_type": "stream",
     "text": [
      "C:\\Users\\cristiano.melo\\AppData\\Local\\Continuum\\anaconda3\\lib\\site-packages\\sklearn\\linear_model\\logistic.py:947: ConvergenceWarning: lbfgs failed to converge. Increase the number of iterations.\n",
      "  \"of iterations.\", ConvergenceWarning)\n"
     ]
    }
   ],
   "source": [
    "%%time\n",
    "LogisticRegr_(X_TL, y_TL, X_test, y_test)"
   ]
  },
  {
   "cell_type": "code",
   "execution_count": 26,
   "metadata": {},
   "outputs": [
    {
     "name": "stdout",
     "output_type": "stream",
     "text": [
      "Wall time: 0 ns\n",
      "\n",
      "DECISION TREE\n",
      "TRAIN AND VALIDATION SETS:\n",
      "1 of KFold 10\n",
      "ROC AUC score: 0.670532104516521\n",
      "2 of KFold 10\n",
      "ROC AUC score: 0.6803940645702368\n",
      "3 of KFold 10\n",
      "ROC AUC score: 0.6608871616850837\n",
      "4 of KFold 10\n",
      "ROC AUC score: 0.6718614718614718\n",
      "5 of KFold 10\n",
      "ROC AUC score: 0.6687651987928862\n",
      "6 of KFold 10\n",
      "ROC AUC score: 0.6696456314552701\n",
      "7 of KFold 10\n",
      "ROC AUC score: 0.6833260409104922\n",
      "8 of KFold 10\n",
      "ROC AUC score: 0.6671997603494261\n",
      "9 of KFold 10\n",
      "ROC AUC score: 0.6596919829042085\n",
      "10 of KFold 10\n",
      "ROC AUC score: 0.6712047848252412\n",
      "\n",
      "CROSS VALIDANTION SUMMARY:\n",
      "Mean: 0.6703508201870838\n",
      "Std deviation: 0.006988416183746933\n",
      "\n",
      "TEST SET:\n",
      "F1-Score(micro): 0.6582268007115966\n",
      "F1-Score(macro): 0.5792883351228736\n",
      "F1-Score(weighted): 0.6875931162290825\n",
      "F1-Score(None): [0.76152536 0.39705131]\n",
      "Accuracy: 0.6582268007115966\n",
      "Sensitivity: 0.5547623903732408\n",
      "Specificity: 0.6845547020967407\n",
      "Confusion Matrix: [0.6845547020967407, 0.55]\n",
      "ROC AUC score: 0.6196585462349907\n",
      "Wall time: 4.11 s\n"
     ]
    }
   ],
   "source": [
    "%%time\n",
    "DecisionTree_(X_TL, y_TL, X_test, y_test)"
   ]
  },
  {
   "cell_type": "code",
   "execution_count": 27,
   "metadata": {},
   "outputs": [
    {
     "name": "stdout",
     "output_type": "stream",
     "text": [
      "Wall time: 0 ns\n",
      "RANDOM FOREST\n",
      "TRAIN AND VALIDATION SETS:\n",
      "1 of KFold 10\n",
      "ROC AUC score: 0.6204873979829805\n",
      "2 of KFold 10\n",
      "ROC AUC score: 0.6243308929342866\n",
      "3 of KFold 10\n",
      "ROC AUC score: 0.6190844199416331\n",
      "4 of KFold 10\n",
      "ROC AUC score: 0.6311069882498455\n",
      "5 of KFold 10\n",
      "ROC AUC score: 0.6255026588731653\n",
      "6 of KFold 10\n",
      "ROC AUC score: 0.6214028802216999\n",
      "7 of KFold 10\n",
      "ROC AUC score: 0.6177424647726256\n",
      "8 of KFold 10\n",
      "ROC AUC score: 0.6264715870500339\n",
      "9 of KFold 10\n",
      "ROC AUC score: 0.6093225265745309\n",
      "10 of KFold 10\n",
      "ROC AUC score: 0.6192847289273027\n",
      "\n",
      "CROSS VALIDANTION SUMMARY:\n",
      "Mean: 0.6214736545528103\n",
      "Std deviation: 0.005614502392164987\n",
      "\n",
      "TEST SET:\n",
      "F1-Score(micro): 0.7427495759381076\n",
      "F1-Score(macro): 0.6072001918115053\n",
      "F1-Score(weighted): 0.7443342789288124\n",
      "F1-Score(None): [0.83794631 0.37645407]\n",
      "Accuracy: 0.7427495759381076\n",
      "Sensitivity: 0.3828268407097695\n",
      "Specificity: 0.8343367241021382\n",
      "Confusion Matrix: [0.8343367241021382, 0.38]\n",
      "ROC AUC score: 0.6085817824059538\n",
      "Wall time: 1min 11s\n"
     ]
    }
   ],
   "source": [
    "%%time\n",
    "RandomForest_(X_TL, y_TL, X_test, y_test)"
   ]
  },
  {
   "cell_type": "code",
   "execution_count": 28,
   "metadata": {},
   "outputs": [
    {
     "name": "stdout",
     "output_type": "stream",
     "text": [
      "Wall time: 0 ns\n",
      "NEURAL NETWORK\n",
      "TRAIN AND VALIDATION SETS:\n",
      "1 of KFold 10\n"
     ]
    },
    {
     "name": "stderr",
     "output_type": "stream",
     "text": [
      "C:\\Users\\cristiano.melo\\AppData\\Local\\Continuum\\anaconda3\\lib\\site-packages\\sklearn\\neural_network\\multilayer_perceptron.py:566: ConvergenceWarning: Stochastic Optimizer: Maximum iterations (200) reached and the optimization hasn't converged yet.\n",
      "  % self.max_iter, ConvergenceWarning)\n"
     ]
    },
    {
     "name": "stdout",
     "output_type": "stream",
     "text": [
      "ROC AUC score: 0.5929100469708904\n",
      "2 of KFold 10\n",
      "ROC AUC score: 0.5805604498410327\n",
      "3 of KFold 10\n",
      "ROC AUC score: 0.5873243376351387\n",
      "4 of KFold 10\n"
     ]
    },
    {
     "name": "stderr",
     "output_type": "stream",
     "text": [
      "C:\\Users\\cristiano.melo\\AppData\\Local\\Continuum\\anaconda3\\lib\\site-packages\\sklearn\\neural_network\\multilayer_perceptron.py:566: ConvergenceWarning: Stochastic Optimizer: Maximum iterations (200) reached and the optimization hasn't converged yet.\n",
      "  % self.max_iter, ConvergenceWarning)\n"
     ]
    },
    {
     "name": "stdout",
     "output_type": "stream",
     "text": [
      "ROC AUC score: 0.5971346114203256\n",
      "5 of KFold 10\n",
      "ROC AUC score: 0.587883815299874\n",
      "6 of KFold 10\n",
      "ROC AUC score: 0.5940373060036092\n",
      "7 of KFold 10\n",
      "ROC AUC score: 0.589947892324062\n",
      "8 of KFold 10\n"
     ]
    },
    {
     "name": "stderr",
     "output_type": "stream",
     "text": [
      "C:\\Users\\cristiano.melo\\AppData\\Local\\Continuum\\anaconda3\\lib\\site-packages\\sklearn\\neural_network\\multilayer_perceptron.py:566: ConvergenceWarning: Stochastic Optimizer: Maximum iterations (200) reached and the optimization hasn't converged yet.\n",
      "  % self.max_iter, ConvergenceWarning)\n"
     ]
    },
    {
     "name": "stdout",
     "output_type": "stream",
     "text": [
      "ROC AUC score: 0.5956538484900357\n",
      "9 of KFold 10\n"
     ]
    },
    {
     "name": "stderr",
     "output_type": "stream",
     "text": [
      "C:\\Users\\cristiano.melo\\AppData\\Local\\Continuum\\anaconda3\\lib\\site-packages\\sklearn\\neural_network\\multilayer_perceptron.py:566: ConvergenceWarning: Stochastic Optimizer: Maximum iterations (200) reached and the optimization hasn't converged yet.\n",
      "  % self.max_iter, ConvergenceWarning)\n"
     ]
    },
    {
     "name": "stdout",
     "output_type": "stream",
     "text": [
      "ROC AUC score: 0.6004208036948001\n",
      "10 of KFold 10\n",
      "ROC AUC score: 0.5923602162695065\n",
      "\n",
      "CROSS VALIDANTION SUMMARY:\n",
      "Mean: 0.5918233327949275\n",
      "Std deviation: 0.005378665920746911\n",
      "\n",
      "TEST SET:\n",
      "F1-Score(micro): 0.8302924992759919\n",
      "F1-Score(macro): 0.6205247619033039\n",
      "F1-Score(weighted): 0.7882012154873372\n",
      "F1-Score(None): [0.90266243 0.3383871 ]\n",
      "Accuracy: 0.8302924992759919\n",
      "Sensitivity: 0.21395064246379766\n",
      "Specificity: 0.9871289184139506\n",
      "Confusion Matrix: [0.9871289184139506, 0.21]\n",
      "ROC AUC score: 0.6005397804388741\n",
      "Wall time: 11min 44s\n"
     ]
    },
    {
     "name": "stderr",
     "output_type": "stream",
     "text": [
      "C:\\Users\\cristiano.melo\\AppData\\Local\\Continuum\\anaconda3\\lib\\site-packages\\sklearn\\neural_network\\multilayer_perceptron.py:566: ConvergenceWarning: Stochastic Optimizer: Maximum iterations (200) reached and the optimization hasn't converged yet.\n",
      "  % self.max_iter, ConvergenceWarning)\n"
     ]
    }
   ],
   "source": [
    "%%time\n",
    "NN_(X_TL, y_TL, X_test, y_test)"
   ]
  },
  {
   "cell_type": "markdown",
   "metadata": {},
   "source": [
    "## Oversampling"
   ]
  },
  {
   "cell_type": "code",
   "execution_count": 29,
   "metadata": {},
   "outputs": [
    {
     "name": "stderr",
     "output_type": "stream",
     "text": [
      "C:\\Users\\cristiano.melo\\AppData\\Local\\Continuum\\anaconda3\\lib\\site-packages\\sklearn\\utils\\validation.py:724: DataConversionWarning: A column-vector y was passed when a 1d array was expected. Please change the shape of y to (n_samples, ), for example using ravel().\n",
      "  y = column_or_1d(y, warn=True)\n"
     ]
    },
    {
     "name": "stdout",
     "output_type": "stream",
     "text": [
      "Resampling dataset using Random OverSampling (ROS)...\n",
      "X and Y ROS: 89830 89830\n"
     ]
    }
   ],
   "source": [
    "print(\"Resampling dataset using Random OverSampling (ROS)...\")\n",
    "ros = RandomOverSampler(random_state=42)\n",
    "X_ROS, y_ROS = ros.fit_resample(X_train, y_train)\n",
    "print(\"X and Y ROS:\", len(X_ROS), len(y_ROS))"
   ]
  },
  {
   "cell_type": "code",
   "execution_count": 30,
   "metadata": {},
   "outputs": [
    {
     "name": "stdout",
     "output_type": "stream",
     "text": [
      "Wall time: 0 ns\n",
      "\n",
      "LOGISTIC REGRESSION\n",
      "TRAIN AND VALIDATION SETS:\n",
      "1 of KFold 10\n"
     ]
    },
    {
     "name": "stderr",
     "output_type": "stream",
     "text": [
      "C:\\Users\\cristiano.melo\\AppData\\Local\\Continuum\\anaconda3\\lib\\site-packages\\sklearn\\linear_model\\logistic.py:947: ConvergenceWarning: lbfgs failed to converge. Increase the number of iterations.\n",
      "  \"of iterations.\", ConvergenceWarning)\n"
     ]
    },
    {
     "name": "stdout",
     "output_type": "stream",
     "text": [
      "ROC AUC score: 0.5818121104185219\n",
      "2 of KFold 10\n"
     ]
    },
    {
     "name": "stderr",
     "output_type": "stream",
     "text": [
      "C:\\Users\\cristiano.melo\\AppData\\Local\\Continuum\\anaconda3\\lib\\site-packages\\sklearn\\linear_model\\logistic.py:947: ConvergenceWarning: lbfgs failed to converge. Increase the number of iterations.\n",
      "  \"of iterations.\", ConvergenceWarning)\n"
     ]
    },
    {
     "name": "stdout",
     "output_type": "stream",
     "text": [
      "ROC AUC score: 0.5934995547640249\n",
      "3 of KFold 10\n"
     ]
    },
    {
     "name": "stderr",
     "output_type": "stream",
     "text": [
      "C:\\Users\\cristiano.melo\\AppData\\Local\\Continuum\\anaconda3\\lib\\site-packages\\sklearn\\linear_model\\logistic.py:947: ConvergenceWarning: lbfgs failed to converge. Increase the number of iterations.\n",
      "  \"of iterations.\", ConvergenceWarning)\n"
     ]
    },
    {
     "name": "stdout",
     "output_type": "stream",
     "text": [
      "ROC AUC score: 0.5831478183437222\n",
      "4 of KFold 10\n"
     ]
    },
    {
     "name": "stderr",
     "output_type": "stream",
     "text": [
      "C:\\Users\\cristiano.melo\\AppData\\Local\\Continuum\\anaconda3\\lib\\site-packages\\sklearn\\linear_model\\logistic.py:947: ConvergenceWarning: lbfgs failed to converge. Increase the number of iterations.\n",
      "  \"of iterations.\", ConvergenceWarning)\n"
     ]
    },
    {
     "name": "stdout",
     "output_type": "stream",
     "text": [
      "ROC AUC score: 0.5795859305431879\n",
      "5 of KFold 10\n"
     ]
    },
    {
     "name": "stderr",
     "output_type": "stream",
     "text": [
      "C:\\Users\\cristiano.melo\\AppData\\Local\\Continuum\\anaconda3\\lib\\site-packages\\sklearn\\linear_model\\logistic.py:947: ConvergenceWarning: lbfgs failed to converge. Increase the number of iterations.\n",
      "  \"of iterations.\", ConvergenceWarning)\n"
     ]
    },
    {
     "name": "stdout",
     "output_type": "stream",
     "text": [
      "ROC AUC score: 0.5880454140694568\n",
      "6 of KFold 10\n"
     ]
    },
    {
     "name": "stderr",
     "output_type": "stream",
     "text": [
      "C:\\Users\\cristiano.melo\\AppData\\Local\\Continuum\\anaconda3\\lib\\site-packages\\sklearn\\linear_model\\logistic.py:947: ConvergenceWarning: lbfgs failed to converge. Increase the number of iterations.\n",
      "  \"of iterations.\", ConvergenceWarning)\n"
     ]
    },
    {
     "name": "stdout",
     "output_type": "stream",
     "text": [
      "ROC AUC score: 0.5826096637719884\n",
      "7 of KFold 10\n"
     ]
    },
    {
     "name": "stderr",
     "output_type": "stream",
     "text": [
      "C:\\Users\\cristiano.melo\\AppData\\Local\\Continuum\\anaconda3\\lib\\site-packages\\sklearn\\linear_model\\logistic.py:947: ConvergenceWarning: lbfgs failed to converge. Increase the number of iterations.\n",
      "  \"of iterations.\", ConvergenceWarning)\n"
     ]
    },
    {
     "name": "stdout",
     "output_type": "stream",
     "text": [
      "ROC AUC score: 0.5927410376308172\n",
      "8 of KFold 10\n"
     ]
    },
    {
     "name": "stderr",
     "output_type": "stream",
     "text": [
      "C:\\Users\\cristiano.melo\\AppData\\Local\\Continuum\\anaconda3\\lib\\site-packages\\sklearn\\linear_model\\logistic.py:947: ConvergenceWarning: lbfgs failed to converge. Increase the number of iterations.\n",
      "  \"of iterations.\", ConvergenceWarning)\n"
     ]
    },
    {
     "name": "stdout",
     "output_type": "stream",
     "text": [
      "ROC AUC score: 0.5888443553774214\n",
      "9 of KFold 10\n"
     ]
    },
    {
     "name": "stderr",
     "output_type": "stream",
     "text": [
      "C:\\Users\\cristiano.melo\\AppData\\Local\\Continuum\\anaconda3\\lib\\site-packages\\sklearn\\linear_model\\logistic.py:947: ConvergenceWarning: lbfgs failed to converge. Increase the number of iterations.\n",
      "  \"of iterations.\", ConvergenceWarning)\n"
     ]
    },
    {
     "name": "stdout",
     "output_type": "stream",
     "text": [
      "ROC AUC score: 0.5833890002226676\n",
      "10 of KFold 10\n",
      "ROC AUC score: 0.5915163660654642\n",
      "\n",
      "CROSS VALIDANTION SUMMARY:\n",
      "Mean: 0.5865191251207273\n",
      "Std deviation: 0.004762559372919916\n",
      "\n",
      "TEST SET:\n",
      "F1-Score(micro): 0.685821852633321\n",
      "F1-Score(macro): 0.5775907340568881\n",
      "F1-Score(weighted): 0.7046638863536153\n",
      "F1-Score(None): [0.79140801 0.36377346]\n",
      "Accuracy: 0.685821852633321\n",
      "Sensitivity: 0.44279012849275956\n",
      "Specificity: 0.7476645214864023\n",
      "Confusion Matrix: [0.7476645214864023, 0.44]\n",
      "ROC AUC score: 0.595227324989581\n",
      "Wall time: 9.21 s\n"
     ]
    },
    {
     "name": "stderr",
     "output_type": "stream",
     "text": [
      "C:\\Users\\cristiano.melo\\AppData\\Local\\Continuum\\anaconda3\\lib\\site-packages\\sklearn\\linear_model\\logistic.py:947: ConvergenceWarning: lbfgs failed to converge. Increase the number of iterations.\n",
      "  \"of iterations.\", ConvergenceWarning)\n"
     ]
    }
   ],
   "source": [
    "%%time\n",
    "LogisticRegr_NoIloc(X_ROS, y_ROS, X_test, y_test)"
   ]
  },
  {
   "cell_type": "code",
   "execution_count": 31,
   "metadata": {},
   "outputs": [
    {
     "name": "stdout",
     "output_type": "stream",
     "text": [
      "Wall time: 0 ns\n",
      "\n",
      "DECISION TREE\n",
      "TRAIN AND VALIDATION SETS:\n",
      "1 of KFold 10\n",
      "ROC AUC score: 0.8105520926090828\n",
      "2 of KFold 10\n",
      "ROC AUC score: 0.8239091718610864\n",
      "3 of KFold 10\n",
      "ROC AUC score: 0.8215716829919857\n",
      "4 of KFold 10\n",
      "ROC AUC score: 0.8304764024933216\n",
      "5 of KFold 10\n",
      "ROC AUC score: 0.8270258236865539\n",
      "6 of KFold 10\n",
      "ROC AUC score: 0.8228679581384992\n",
      "7 of KFold 10\n",
      "ROC AUC score: 0.8371186818080606\n",
      "8 of KFold 10\n",
      "ROC AUC score: 0.8304386550879537\n",
      "9 of KFold 10\n",
      "ROC AUC score: 0.829547984858606\n",
      "10 of KFold 10\n",
      "ROC AUC score: 0.831774660431975\n",
      "\n",
      "CROSS VALIDANTION SUMMARY:\n",
      "Mean: 0.8265283113967123\n",
      "Std deviation: 0.006928131716486542\n",
      "\n",
      "TEST SET:\n",
      "F1-Score(micro): 0.6528070828678996\n",
      "F1-Score(macro): 0.576917698865816\n",
      "F1-Score(weighted): 0.6834089561863131\n",
      "F1-Score(None): [0.75610323 0.39773217]\n",
      "Accuracy: 0.6528070828678996\n",
      "Sensitivity: 0.5651641851927391\n",
      "Specificity: 0.6751089889973012\n",
      "Confusion Matrix: [0.6751089889973012, 0.57]\n",
      "ROC AUC score: 0.6201365870950202\n",
      "Wall time: 7.34 s\n"
     ]
    }
   ],
   "source": [
    "%%time\n",
    "DecisionTree_NoIloc(X_ROS, y_ROS, X_test, y_test)"
   ]
  },
  {
   "cell_type": "code",
   "execution_count": 32,
   "metadata": {},
   "outputs": [
    {
     "name": "stdout",
     "output_type": "stream",
     "text": [
      "Wall time: 0 ns\n",
      "RANDOM FOREST\n",
      "TRAIN AND VALIDATION SETS:\n",
      "1 of KFold 10\n",
      "ROC AUC score: 0.8102181656277827\n",
      "2 of KFold 10\n",
      "ROC AUC score: 0.8201246660730187\n",
      "3 of KFold 10\n",
      "ROC AUC score: 0.8210151380231523\n",
      "4 of KFold 10\n",
      "ROC AUC score: 0.8271371326803206\n",
      "5 of KFold 10\n",
      "ROC AUC score: 0.8258014247551203\n",
      "6 of KFold 10\n",
      "ROC AUC score: 0.8216432865731463\n",
      "7 of KFold 10\n",
      "ROC AUC score: 0.8346693386773547\n",
      "8 of KFold 10\n",
      "ROC AUC score: 0.8272099755065687\n",
      "9 of KFold 10\n",
      "ROC AUC score: 0.8273213092852372\n",
      "10 of KFold 10\n",
      "ROC AUC score: 0.8293253173012692\n",
      "\n",
      "CROSS VALIDANTION SUMMARY:\n",
      "Mean: 0.824446575450297\n",
      "Std deviation: 0.0062772759814466485\n",
      "\n",
      "TEST SET:\n",
      "F1-Score(micro): 0.7170576310454677\n",
      "F1-Score(macro): 0.6138058684833535\n",
      "F1-Score(weighted): 0.7324817821659244\n",
      "F1-Score(None): [0.81349369 0.41411805]\n",
      "Accuracy: 0.7170576310454677\n",
      "Sensitivity: 0.4929634917397512\n",
      "Specificity: 0.7740813784513183\n",
      "Confusion Matrix: [0.7740813784513183, 0.49]\n",
      "ROC AUC score: 0.6335224350955347\n",
      "Wall time: 2min 2s\n"
     ]
    }
   ],
   "source": [
    "%%time\n",
    "RandomForest_NoIloc(X_ROS, y_ROS, X_test, y_test)"
   ]
  },
  {
   "cell_type": "code",
   "execution_count": 33,
   "metadata": {},
   "outputs": [
    {
     "name": "stdout",
     "output_type": "stream",
     "text": [
      "Wall time: 0 ns\n",
      "NEURAL NETWORK\n",
      "TRAIN AND VALIDATION SETS:\n",
      "1 of KFold 10\n"
     ]
    },
    {
     "name": "stderr",
     "output_type": "stream",
     "text": [
      "C:\\Users\\cristiano.melo\\AppData\\Local\\Continuum\\anaconda3\\lib\\site-packages\\sklearn\\neural_network\\multilayer_perceptron.py:566: ConvergenceWarning: Stochastic Optimizer: Maximum iterations (200) reached and the optimization hasn't converged yet.\n",
      "  % self.max_iter, ConvergenceWarning)\n"
     ]
    },
    {
     "name": "stdout",
     "output_type": "stream",
     "text": [
      "ROC AUC score: 0.6470391807658059\n",
      "2 of KFold 10\n"
     ]
    },
    {
     "name": "stderr",
     "output_type": "stream",
     "text": [
      "C:\\Users\\cristiano.melo\\AppData\\Local\\Continuum\\anaconda3\\lib\\site-packages\\sklearn\\neural_network\\multilayer_perceptron.py:566: ConvergenceWarning: Stochastic Optimizer: Maximum iterations (200) reached and the optimization hasn't converged yet.\n",
      "  % self.max_iter, ConvergenceWarning)\n"
     ]
    },
    {
     "name": "stdout",
     "output_type": "stream",
     "text": [
      "ROC AUC score: 0.6585040071237755\n",
      "3 of KFold 10\n"
     ]
    },
    {
     "name": "stderr",
     "output_type": "stream",
     "text": [
      "C:\\Users\\cristiano.melo\\AppData\\Local\\Continuum\\anaconda3\\lib\\site-packages\\sklearn\\neural_network\\multilayer_perceptron.py:566: ConvergenceWarning: Stochastic Optimizer: Maximum iterations (200) reached and the optimization hasn't converged yet.\n",
      "  % self.max_iter, ConvergenceWarning)\n"
     ]
    },
    {
     "name": "stdout",
     "output_type": "stream",
     "text": [
      "ROC AUC score: 0.6592831700801425\n",
      "4 of KFold 10\n"
     ]
    },
    {
     "name": "stderr",
     "output_type": "stream",
     "text": [
      "C:\\Users\\cristiano.melo\\AppData\\Local\\Continuum\\anaconda3\\lib\\site-packages\\sklearn\\neural_network\\multilayer_perceptron.py:566: ConvergenceWarning: Stochastic Optimizer: Maximum iterations (200) reached and the optimization hasn't converged yet.\n",
      "  % self.max_iter, ConvergenceWarning)\n"
     ]
    },
    {
     "name": "stdout",
     "output_type": "stream",
     "text": [
      "ROC AUC score: 0.6552760463045414\n",
      "5 of KFold 10\n"
     ]
    },
    {
     "name": "stderr",
     "output_type": "stream",
     "text": [
      "C:\\Users\\cristiano.melo\\AppData\\Local\\Continuum\\anaconda3\\lib\\site-packages\\sklearn\\neural_network\\multilayer_perceptron.py:566: ConvergenceWarning: Stochastic Optimizer: Maximum iterations (200) reached and the optimization hasn't converged yet.\n",
      "  % self.max_iter, ConvergenceWarning)\n"
     ]
    },
    {
     "name": "stdout",
     "output_type": "stream",
     "text": [
      "ROC AUC score: 0.6516028495102405\n",
      "6 of KFold 10\n",
      "ROC AUC score: 0.641616566466266\n",
      "7 of KFold 10\n"
     ]
    },
    {
     "name": "stderr",
     "output_type": "stream",
     "text": [
      "C:\\Users\\cristiano.melo\\AppData\\Local\\Continuum\\anaconda3\\lib\\site-packages\\sklearn\\neural_network\\multilayer_perceptron.py:566: ConvergenceWarning: Stochastic Optimizer: Maximum iterations (200) reached and the optimization hasn't converged yet.\n",
      "  % self.max_iter, ConvergenceWarning)\n"
     ]
    },
    {
     "name": "stdout",
     "output_type": "stream",
     "text": [
      "ROC AUC score: 0.659318637274549\n",
      "8 of KFold 10\n",
      "ROC AUC score: 0.6562012914718325\n",
      "9 of KFold 10\n",
      "ROC AUC score: 0.6518592741037631\n",
      "10 of KFold 10\n",
      "ROC AUC score: 0.656089957693164\n",
      "\n",
      "CROSS VALIDANTION SUMMARY:\n",
      "Mean: 0.653679098079408\n",
      "Std deviation: 0.005462869741280487\n",
      "\n",
      "TEST SET:\n",
      "F1-Score(micro): 0.7112655661743411\n",
      "F1-Score(macro): 0.6161090155904003\n",
      "F1-Score(weighted): 0.7296975023062313\n",
      "F1-Score(None): [0.80723657 0.42498146]\n",
      "Accuracy: 0.7112655661743411\n",
      "Sensitivity: 0.5260044870487457\n",
      "Specificity: 0.7584077226489516\n",
      "Confusion Matrix: [0.7584077226489516, 0.53]\n",
      "ROC AUC score: 0.6422061048488487\n",
      "Wall time: 18min 39s\n"
     ]
    },
    {
     "name": "stderr",
     "output_type": "stream",
     "text": [
      "C:\\Users\\cristiano.melo\\AppData\\Local\\Continuum\\anaconda3\\lib\\site-packages\\sklearn\\neural_network\\multilayer_perceptron.py:566: ConvergenceWarning: Stochastic Optimizer: Maximum iterations (200) reached and the optimization hasn't converged yet.\n",
      "  % self.max_iter, ConvergenceWarning)\n"
     ]
    }
   ],
   "source": [
    "%%time\n",
    "NN_NoIloc(X_ROS, y_ROS, X_test, y_test)"
   ]
  },
  {
   "cell_type": "code",
   "execution_count": 34,
   "metadata": {},
   "outputs": [
    {
     "name": "stderr",
     "output_type": "stream",
     "text": [
      "C:\\Users\\cristiano.melo\\AppData\\Local\\Continuum\\anaconda3\\lib\\site-packages\\sklearn\\utils\\validation.py:724: DataConversionWarning: A column-vector y was passed when a 1d array was expected. Please change the shape of y to (n_samples, ), for example using ravel().\n",
      "  y = column_or_1d(y, warn=True)\n"
     ]
    },
    {
     "name": "stdout",
     "output_type": "stream",
     "text": [
      "Resampling dataset using SMOTE (SMO)...\n",
      "X and Y SMO: 89830 89830\n"
     ]
    }
   ],
   "source": [
    "print(\"Resampling dataset using SMOTE (SMO)...\")\n",
    "sm = SMOTE(random_state=42)\n",
    "X_SMO, y_SMO = sm.fit_resample(X_train, y_train)\n",
    "print(\"X and Y SMO:\", len(X_SMO), len(y_SMO))"
   ]
  },
  {
   "cell_type": "code",
   "execution_count": 35,
   "metadata": {},
   "outputs": [
    {
     "name": "stdout",
     "output_type": "stream",
     "text": [
      "Wall time: 0 ns\n",
      "\n",
      "LOGISTIC REGRESSION\n",
      "TRAIN AND VALIDATION SETS:\n",
      "1 of KFold 10\n"
     ]
    },
    {
     "name": "stderr",
     "output_type": "stream",
     "text": [
      "C:\\Users\\cristiano.melo\\AppData\\Local\\Continuum\\anaconda3\\lib\\site-packages\\sklearn\\linear_model\\logistic.py:947: ConvergenceWarning: lbfgs failed to converge. Increase the number of iterations.\n",
      "  \"of iterations.\", ConvergenceWarning)\n"
     ]
    },
    {
     "name": "stdout",
     "output_type": "stream",
     "text": [
      "ROC AUC score: 0.5838156723063224\n",
      "2 of KFold 10\n"
     ]
    },
    {
     "name": "stderr",
     "output_type": "stream",
     "text": [
      "C:\\Users\\cristiano.melo\\AppData\\Local\\Continuum\\anaconda3\\lib\\site-packages\\sklearn\\linear_model\\logistic.py:947: ConvergenceWarning: lbfgs failed to converge. Increase the number of iterations.\n",
      "  \"of iterations.\", ConvergenceWarning)\n"
     ]
    },
    {
     "name": "stdout",
     "output_type": "stream",
     "text": [
      "ROC AUC score: 0.5941674087266251\n",
      "3 of KFold 10\n"
     ]
    },
    {
     "name": "stderr",
     "output_type": "stream",
     "text": [
      "C:\\Users\\cristiano.melo\\AppData\\Local\\Continuum\\anaconda3\\lib\\site-packages\\sklearn\\linear_model\\logistic.py:947: ConvergenceWarning: lbfgs failed to converge. Increase the number of iterations.\n",
      "  \"of iterations.\", ConvergenceWarning)\n"
     ]
    },
    {
     "name": "stdout",
     "output_type": "stream",
     "text": [
      "ROC AUC score: 0.5914959928762245\n",
      "4 of KFold 10\n"
     ]
    },
    {
     "name": "stderr",
     "output_type": "stream",
     "text": [
      "C:\\Users\\cristiano.melo\\AppData\\Local\\Continuum\\anaconda3\\lib\\site-packages\\sklearn\\linear_model\\logistic.py:947: ConvergenceWarning: lbfgs failed to converge. Increase the number of iterations.\n",
      "  \"of iterations.\", ConvergenceWarning)\n"
     ]
    },
    {
     "name": "stdout",
     "output_type": "stream",
     "text": [
      "ROC AUC score: 0.5859305431878895\n",
      "5 of KFold 10\n"
     ]
    },
    {
     "name": "stderr",
     "output_type": "stream",
     "text": [
      "C:\\Users\\cristiano.melo\\AppData\\Local\\Continuum\\anaconda3\\lib\\site-packages\\sklearn\\linear_model\\logistic.py:947: ConvergenceWarning: lbfgs failed to converge. Increase the number of iterations.\n",
      "  \"of iterations.\", ConvergenceWarning)\n"
     ]
    },
    {
     "name": "stdout",
     "output_type": "stream",
     "text": [
      "ROC AUC score: 0.5821460373998218\n",
      "6 of KFold 10\n"
     ]
    },
    {
     "name": "stderr",
     "output_type": "stream",
     "text": [
      "C:\\Users\\cristiano.melo\\AppData\\Local\\Continuum\\anaconda3\\lib\\site-packages\\sklearn\\linear_model\\logistic.py:947: ConvergenceWarning: lbfgs failed to converge. Increase the number of iterations.\n",
      "  \"of iterations.\", ConvergenceWarning)\n"
     ]
    },
    {
     "name": "stdout",
     "output_type": "stream",
     "text": [
      "ROC AUC score: 0.5838343353373413\n",
      "7 of KFold 10\n"
     ]
    },
    {
     "name": "stderr",
     "output_type": "stream",
     "text": [
      "C:\\Users\\cristiano.melo\\AppData\\Local\\Continuum\\anaconda3\\lib\\site-packages\\sklearn\\linear_model\\logistic.py:947: ConvergenceWarning: lbfgs failed to converge. Increase the number of iterations.\n",
      "  \"of iterations.\", ConvergenceWarning)\n"
     ]
    },
    {
     "name": "stdout",
     "output_type": "stream",
     "text": [
      "ROC AUC score: 0.5881763527054109\n",
      "8 of KFold 10\n"
     ]
    },
    {
     "name": "stderr",
     "output_type": "stream",
     "text": [
      "C:\\Users\\cristiano.melo\\AppData\\Local\\Continuum\\anaconda3\\lib\\site-packages\\sklearn\\linear_model\\logistic.py:947: ConvergenceWarning: lbfgs failed to converge. Increase the number of iterations.\n",
      "  \"of iterations.\", ConvergenceWarning)\n"
     ]
    },
    {
     "name": "stdout",
     "output_type": "stream",
     "text": [
      "ROC AUC score: 0.5878423513694054\n",
      "9 of KFold 10\n"
     ]
    },
    {
     "name": "stderr",
     "output_type": "stream",
     "text": [
      "C:\\Users\\cristiano.melo\\AppData\\Local\\Continuum\\anaconda3\\lib\\site-packages\\sklearn\\linear_model\\logistic.py:947: ConvergenceWarning: lbfgs failed to converge. Increase the number of iterations.\n",
      "  \"of iterations.\", ConvergenceWarning)\n"
     ]
    },
    {
     "name": "stdout",
     "output_type": "stream",
     "text": [
      "ROC AUC score: 0.5840570028946782\n",
      "10 of KFold 10\n",
      "ROC AUC score: 0.5850590069026943\n",
      "\n",
      "CROSS VALIDANTION SUMMARY:\n",
      "Mean: 0.5866524703706413\n",
      "Std deviation: 0.003602305448758541\n",
      "\n",
      "TEST SET:\n",
      "F1-Score(micro): 0.684622067767159\n",
      "F1-Score(macro): 0.5771893833044295\n",
      "F1-Score(weighted): 0.7038530826073768\n",
      "F1-Score(None): [0.7903177  0.36406107]\n",
      "Accuracy: 0.684622067767159\n",
      "Sensitivity: 0.4450336528655925\n",
      "Specificity: 0.7455885405854266\n",
      "Confusion Matrix: [0.7455885405854266, 0.45]\n",
      "ROC AUC score: 0.5953110967255095\n",
      "Wall time: 9.15 s\n"
     ]
    },
    {
     "name": "stderr",
     "output_type": "stream",
     "text": [
      "C:\\Users\\cristiano.melo\\AppData\\Local\\Continuum\\anaconda3\\lib\\site-packages\\sklearn\\linear_model\\logistic.py:947: ConvergenceWarning: lbfgs failed to converge. Increase the number of iterations.\n",
      "  \"of iterations.\", ConvergenceWarning)\n"
     ]
    }
   ],
   "source": [
    "%%time\n",
    "LogisticRegr_NoIloc(X_SMO, y_SMO, X_test, y_test)"
   ]
  },
  {
   "cell_type": "code",
   "execution_count": 36,
   "metadata": {},
   "outputs": [
    {
     "name": "stdout",
     "output_type": "stream",
     "text": [
      "Wall time: 0 ns\n",
      "\n",
      "DECISION TREE\n",
      "TRAIN AND VALIDATION SETS:\n",
      "1 of KFold 10\n",
      "ROC AUC score: 0.690227070347284\n",
      "2 of KFold 10\n",
      "ROC AUC score: 0.7016918967052538\n",
      "3 of KFold 10\n",
      "ROC AUC score: 0.772373107747106\n",
      "4 of KFold 10\n",
      "ROC AUC score: 0.8673196794300979\n",
      "5 of KFold 10\n",
      "ROC AUC score: 0.8656500445235975\n",
      "6 of KFold 10\n",
      "ROC AUC score: 0.8617234468937877\n",
      "7 of KFold 10\n",
      "ROC AUC score: 0.8627254509018036\n",
      "8 of KFold 10\n",
      "ROC AUC score: 0.8603874415497663\n",
      "9 of KFold 10\n",
      "ROC AUC score: 0.8564907592963706\n",
      "10 of KFold 10\n",
      "ROC AUC score: 0.867512803384547\n",
      "\n",
      "CROSS VALIDANTION SUMMARY:\n",
      "Mean: 0.8206101700779614\n",
      "Std deviation: 0.0679794046771023\n",
      "\n",
      "TEST SET:\n",
      "F1-Score(micro): 0.5374208762566712\n",
      "F1-Score(macro): 0.4949139232385906\n",
      "F1-Score(weighted): 0.581994981439493\n",
      "F1-Score(None): [0.64143925 0.3483886 ]\n",
      "Accuracy: 0.5374208762566712\n",
      "Sensitivity: 0.6096267591270651\n",
      "Specificity: 0.5190471247664521\n",
      "Confusion Matrix: [0.5190471247664521, 0.61]\n",
      "ROC AUC score: 0.5643369419467585\n",
      "Wall time: 9.67 s\n"
     ]
    }
   ],
   "source": [
    "%%time\n",
    "DecisionTree_NoIloc(X_SMO, y_SMO, X_test, y_test)"
   ]
  },
  {
   "cell_type": "code",
   "execution_count": 37,
   "metadata": {},
   "outputs": [
    {
     "name": "stdout",
     "output_type": "stream",
     "text": [
      "Wall time: 0 ns\n",
      "RANDOM FOREST\n",
      "TRAIN AND VALIDATION SETS:\n",
      "1 of KFold 10\n",
      "ROC AUC score: 0.6980186999109529\n",
      "2 of KFold 10\n",
      "ROC AUC score: 0.710373998219056\n",
      "3 of KFold 10\n",
      "ROC AUC score: 0.7791629563668744\n",
      "4 of KFold 10\n",
      "ROC AUC score: 0.8778940338379341\n",
      "5 of KFold 10\n",
      "ROC AUC score: 0.8752226179875335\n",
      "6 of KFold 10\n",
      "ROC AUC score: 0.8715208194166111\n",
      "7 of KFold 10\n",
      "ROC AUC score: 0.8761968381206858\n",
      "8 of KFold 10\n",
      "ROC AUC score: 0.8748608327766644\n",
      "9 of KFold 10\n",
      "ROC AUC score: 0.8747494989979959\n",
      "10 of KFold 10\n",
      "ROC AUC score: 0.8793141839234022\n",
      "\n",
      "CROSS VALIDANTION SUMMARY:\n",
      "Mean: 0.831731447955771\n",
      "Std deviation: 0.06994842416146362\n",
      "\n",
      "TEST SET:\n",
      "F1-Score(micro): 0.4504985312978362\n",
      "F1-Score(macro): 0.4424111247656415\n",
      "F1-Score(weighted): 0.48232029509713475\n",
      "F1-Score(None): [0.50956355 0.3752587 ]\n",
      "Accuracy: 0.45049853129783624\n",
      "Sensitivity: 0.8135835202936977\n",
      "Specificity: 0.35810670541831013\n",
      "Confusion Matrix: [0.35810670541831013, 0.81]\n",
      "ROC AUC score: 0.5858451128560039\n",
      "Wall time: 2min 33s\n"
     ]
    }
   ],
   "source": [
    "%%time\n",
    "RandomForest_NoIloc(X_SMO, y_SMO, X_test, y_test)"
   ]
  },
  {
   "cell_type": "code",
   "execution_count": 38,
   "metadata": {},
   "outputs": [
    {
     "name": "stdout",
     "output_type": "stream",
     "text": [
      "Wall time: 0 ns\n",
      "NEURAL NETWORK\n",
      "TRAIN AND VALIDATION SETS:\n",
      "1 of KFold 10\n",
      "ROC AUC score: 0.6429207479964382\n",
      "2 of KFold 10\n",
      "ROC AUC score: 0.6277827248441674\n",
      "3 of KFold 10\n"
     ]
    },
    {
     "name": "stderr",
     "output_type": "stream",
     "text": [
      "C:\\Users\\cristiano.melo\\AppData\\Local\\Continuum\\anaconda3\\lib\\site-packages\\sklearn\\neural_network\\multilayer_perceptron.py:566: ConvergenceWarning: Stochastic Optimizer: Maximum iterations (200) reached and the optimization hasn't converged yet.\n",
      "  % self.max_iter, ConvergenceWarning)\n"
     ]
    },
    {
     "name": "stdout",
     "output_type": "stream",
     "text": [
      "ROC AUC score: 0.6634016028495102\n",
      "4 of KFold 10\n",
      "ROC AUC score: 0.6385796972395369\n",
      "5 of KFold 10\n"
     ]
    },
    {
     "name": "stderr",
     "output_type": "stream",
     "text": [
      "C:\\Users\\cristiano.melo\\AppData\\Local\\Continuum\\anaconda3\\lib\\site-packages\\sklearn\\neural_network\\multilayer_perceptron.py:566: ConvergenceWarning: Stochastic Optimizer: Maximum iterations (200) reached and the optimization hasn't converged yet.\n",
      "  % self.max_iter, ConvergenceWarning)\n"
     ]
    },
    {
     "name": "stdout",
     "output_type": "stream",
     "text": [
      "ROC AUC score: 0.6498219056099733\n",
      "6 of KFold 10\n"
     ]
    },
    {
     "name": "stderr",
     "output_type": "stream",
     "text": [
      "C:\\Users\\cristiano.melo\\AppData\\Local\\Continuum\\anaconda3\\lib\\site-packages\\sklearn\\neural_network\\multilayer_perceptron.py:566: ConvergenceWarning: Stochastic Optimizer: Maximum iterations (200) reached and the optimization hasn't converged yet.\n",
      "  % self.max_iter, ConvergenceWarning)\n"
     ]
    },
    {
     "name": "stdout",
     "output_type": "stream",
     "text": [
      "ROC AUC score: 0.6529726118904475\n",
      "7 of KFold 10\n",
      "ROC AUC score: 0.6384992206635492\n",
      "8 of KFold 10\n",
      "ROC AUC score: 0.6509686038744156\n",
      "9 of KFold 10\n",
      "ROC AUC score: 0.6582052994878647\n",
      "10 of KFold 10\n",
      "ROC AUC score: 0.6578712981518593\n",
      "\n",
      "CROSS VALIDANTION SUMMARY:\n",
      "Mean: 0.6481023712607762\n",
      "Std deviation: 0.010435985732993994\n",
      "\n",
      "TEST SET:\n",
      "F1-Score(micro): 0.6835463985768069\n",
      "F1-Score(macro): 0.6018679498100921\n",
      "F1-Score(weighted): 0.7090392063440579\n",
      "F1-Score(None): [0.78219767 0.42153823]\n",
      "Accuracy: 0.6835463985768069\n",
      "Sensitivity: 0.5684274933714053\n",
      "Specificity: 0.7128399418725347\n",
      "Confusion Matrix: [0.7128399418725347, 0.57]\n",
      "ROC AUC score: 0.6406337176219701\n",
      "Wall time: 19min 18s\n"
     ]
    },
    {
     "name": "stderr",
     "output_type": "stream",
     "text": [
      "C:\\Users\\cristiano.melo\\AppData\\Local\\Continuum\\anaconda3\\lib\\site-packages\\sklearn\\neural_network\\multilayer_perceptron.py:566: ConvergenceWarning: Stochastic Optimizer: Maximum iterations (200) reached and the optimization hasn't converged yet.\n",
      "  % self.max_iter, ConvergenceWarning)\n"
     ]
    }
   ],
   "source": [
    "%%time\n",
    "NN_NoIloc(X_SMO, y_SMO, X_test, y_test)"
   ]
  },
  {
   "cell_type": "code",
   "execution_count": 39,
   "metadata": {},
   "outputs": [
    {
     "name": "stdout",
     "output_type": "stream",
     "text": [
      "Resampling dataset using ADASYN (ADA)...\n"
     ]
    },
    {
     "name": "stderr",
     "output_type": "stream",
     "text": [
      "C:\\Users\\cristiano.melo\\AppData\\Local\\Continuum\\anaconda3\\lib\\site-packages\\sklearn\\utils\\validation.py:724: DataConversionWarning: A column-vector y was passed when a 1d array was expected. Please change the shape of y to (n_samples, ), for example using ravel().\n",
      "  y = column_or_1d(y, warn=True)\n"
     ]
    },
    {
     "name": "stdout",
     "output_type": "stream",
     "text": [
      "X and Y ADA: 89168 89168\n"
     ]
    }
   ],
   "source": [
    "print(\"Resampling dataset using ADASYN (ADA)...\")\n",
    "ada = ADASYN(random_state=42)\n",
    "X_ADA, y_ADA = ada.fit_resample(X_train, y_train)\n",
    "print(\"X and Y ADA:\", len(X_ADA), len(y_ADA))"
   ]
  },
  {
   "cell_type": "code",
   "execution_count": 40,
   "metadata": {},
   "outputs": [
    {
     "name": "stdout",
     "output_type": "stream",
     "text": [
      "Wall time: 0 ns\n",
      "\n",
      "LOGISTIC REGRESSION\n",
      "TRAIN AND VALIDATION SETS:\n",
      "1 of KFold 10\n"
     ]
    },
    {
     "name": "stderr",
     "output_type": "stream",
     "text": [
      "C:\\Users\\cristiano.melo\\AppData\\Local\\Continuum\\anaconda3\\lib\\site-packages\\sklearn\\linear_model\\logistic.py:947: ConvergenceWarning: lbfgs failed to converge. Increase the number of iterations.\n",
      "  \"of iterations.\", ConvergenceWarning)\n"
     ]
    },
    {
     "name": "stdout",
     "output_type": "stream",
     "text": [
      "ROC AUC score: 0.5813157215981497\n",
      "2 of KFold 10\n"
     ]
    },
    {
     "name": "stderr",
     "output_type": "stream",
     "text": [
      "C:\\Users\\cristiano.melo\\AppData\\Local\\Continuum\\anaconda3\\lib\\site-packages\\sklearn\\linear_model\\logistic.py:947: ConvergenceWarning: lbfgs failed to converge. Increase the number of iterations.\n",
      "  \"of iterations.\", ConvergenceWarning)\n"
     ]
    },
    {
     "name": "stdout",
     "output_type": "stream",
     "text": [
      "ROC AUC score: 0.5924365614182203\n",
      "3 of KFold 10\n"
     ]
    },
    {
     "name": "stderr",
     "output_type": "stream",
     "text": [
      "C:\\Users\\cristiano.melo\\AppData\\Local\\Continuum\\anaconda3\\lib\\site-packages\\sklearn\\linear_model\\logistic.py:947: ConvergenceWarning: lbfgs failed to converge. Increase the number of iterations.\n",
      "  \"of iterations.\", ConvergenceWarning)\n"
     ]
    },
    {
     "name": "stdout",
     "output_type": "stream",
     "text": [
      "ROC AUC score: 0.5839023856842048\n",
      "4 of KFold 10\n"
     ]
    },
    {
     "name": "stderr",
     "output_type": "stream",
     "text": [
      "C:\\Users\\cristiano.melo\\AppData\\Local\\Continuum\\anaconda3\\lib\\site-packages\\sklearn\\linear_model\\logistic.py:947: ConvergenceWarning: lbfgs failed to converge. Increase the number of iterations.\n",
      "  \"of iterations.\", ConvergenceWarning)\n"
     ]
    },
    {
     "name": "stdout",
     "output_type": "stream",
     "text": [
      "ROC AUC score: 0.5632500465359636\n",
      "5 of KFold 10\n"
     ]
    },
    {
     "name": "stderr",
     "output_type": "stream",
     "text": [
      "C:\\Users\\cristiano.melo\\AppData\\Local\\Continuum\\anaconda3\\lib\\site-packages\\sklearn\\linear_model\\logistic.py:947: ConvergenceWarning: lbfgs failed to converge. Increase the number of iterations.\n",
      "  \"of iterations.\", ConvergenceWarning)\n"
     ]
    },
    {
     "name": "stdout",
     "output_type": "stream",
     "text": [
      "ROC AUC score: 0.567532109814812\n",
      "6 of KFold 10\n"
     ]
    },
    {
     "name": "stderr",
     "output_type": "stream",
     "text": [
      "C:\\Users\\cristiano.melo\\AppData\\Local\\Continuum\\anaconda3\\lib\\site-packages\\sklearn\\linear_model\\logistic.py:947: ConvergenceWarning: lbfgs failed to converge. Increase the number of iterations.\n",
      "  \"of iterations.\", ConvergenceWarning)\n"
     ]
    },
    {
     "name": "stdout",
     "output_type": "stream",
     "text": [
      "ROC AUC score: 0.5698507372560564\n",
      "7 of KFold 10\n"
     ]
    },
    {
     "name": "stderr",
     "output_type": "stream",
     "text": [
      "C:\\Users\\cristiano.melo\\AppData\\Local\\Continuum\\anaconda3\\lib\\site-packages\\sklearn\\linear_model\\logistic.py:947: ConvergenceWarning: lbfgs failed to converge. Increase the number of iterations.\n",
      "  \"of iterations.\", ConvergenceWarning)\n"
     ]
    },
    {
     "name": "stdout",
     "output_type": "stream",
     "text": [
      "ROC AUC score: 0.5746579411176402\n",
      "8 of KFold 10\n"
     ]
    },
    {
     "name": "stderr",
     "output_type": "stream",
     "text": [
      "C:\\Users\\cristiano.melo\\AppData\\Local\\Continuum\\anaconda3\\lib\\site-packages\\sklearn\\linear_model\\logistic.py:947: ConvergenceWarning: lbfgs failed to converge. Increase the number of iterations.\n",
      "  \"of iterations.\", ConvergenceWarning)\n"
     ]
    },
    {
     "name": "stdout",
     "output_type": "stream",
     "text": [
      "ROC AUC score: 0.5775277107888094\n",
      "9 of KFold 10\n"
     ]
    },
    {
     "name": "stderr",
     "output_type": "stream",
     "text": [
      "C:\\Users\\cristiano.melo\\AppData\\Local\\Continuum\\anaconda3\\lib\\site-packages\\sklearn\\linear_model\\logistic.py:947: ConvergenceWarning: lbfgs failed to converge. Increase the number of iterations.\n",
      "  \"of iterations.\", ConvergenceWarning)\n"
     ]
    },
    {
     "name": "stdout",
     "output_type": "stream",
     "text": [
      "ROC AUC score: 0.572055749917915\n",
      "10 of KFold 10\n",
      "ROC AUC score: 0.5803276609716609\n",
      "\n",
      "CROSS VALIDANTION SUMMARY:\n",
      "Mean: 0.5762856625103432\n",
      "Std deviation: 0.00818871056075934\n",
      "\n",
      "TEST SET:\n",
      "F1-Score(micro): 0.6722105001861736\n",
      "F1-Score(macro): 0.5715018722003863\n",
      "F1-Score(weighted): 0.6949597524714082\n",
      "F1-Score(None): [0.77923598 0.36376777]\n",
      "Accuracy: 0.6722105001861736\n",
      "Sensitivity: 0.461962064042423\n",
      "Specificity: 0.7257110234585842\n",
      "Confusion Matrix: [0.7257110234585842, 0.46]\n",
      "ROC AUC score: 0.5938365437505037\n",
      "Wall time: 9.29 s\n"
     ]
    },
    {
     "name": "stderr",
     "output_type": "stream",
     "text": [
      "C:\\Users\\cristiano.melo\\AppData\\Local\\Continuum\\anaconda3\\lib\\site-packages\\sklearn\\linear_model\\logistic.py:947: ConvergenceWarning: lbfgs failed to converge. Increase the number of iterations.\n",
      "  \"of iterations.\", ConvergenceWarning)\n"
     ]
    }
   ],
   "source": [
    "%%time\n",
    "LogisticRegr_NoIloc(X_ADA, y_ADA, X_test, y_test)"
   ]
  },
  {
   "cell_type": "code",
   "execution_count": 41,
   "metadata": {},
   "outputs": [
    {
     "name": "stdout",
     "output_type": "stream",
     "text": [
      "Wall time: 0 ns\n",
      "\n",
      "DECISION TREE\n",
      "TRAIN AND VALIDATION SETS:\n",
      "1 of KFold 10\n",
      "ROC AUC score: 0.7041969274895088\n",
      "2 of KFold 10\n",
      "ROC AUC score: 0.7332981684766491\n",
      "3 of KFold 10\n",
      "ROC AUC score: 0.7563735841677064\n",
      "4 of KFold 10\n",
      "ROC AUC score: 0.8354711200326004\n",
      "5 of KFold 10\n",
      "ROC AUC score: 0.8471196502507911\n",
      "6 of KFold 10\n",
      "ROC AUC score: 0.8425467130117108\n",
      "7 of KFold 10\n",
      "ROC AUC score: 0.835919900063781\n",
      "8 of KFold 10\n",
      "ROC AUC score: 0.843149877910246\n",
      "9 of KFold 10\n",
      "ROC AUC score: 0.8234788975314093\n",
      "10 of KFold 10\n",
      "ROC AUC score: 0.846014665866573\n",
      "\n",
      "CROSS VALIDANTION SUMMARY:\n",
      "Mean: 0.8067569504800975\n",
      "Std deviation: 0.05116982241915252\n",
      "\n",
      "TEST SET:\n",
      "F1-Score(micro): 0.48744363079723635\n",
      "F1-Score(macro): 0.4653080214904971\n",
      "F1-Score(weighted): 0.5299639848274857\n",
      "F1-Score(None): [0.57410018 0.35651587]\n",
      "Accuracy: 0.48744363079723635\n",
      "Sensitivity: 0.6999796043238833\n",
      "Specificity: 0.4333610130786797\n",
      "Confusion Matrix: [0.4333610130786797, 0.7]\n",
      "ROC AUC score: 0.5666703087012814\n",
      "Wall time: 8.9 s\n"
     ]
    }
   ],
   "source": [
    "%%time\n",
    "DecisionTree_NoIloc(X_ADA, y_ADA, X_test, y_test)"
   ]
  },
  {
   "cell_type": "code",
   "execution_count": 42,
   "metadata": {},
   "outputs": [
    {
     "name": "stdout",
     "output_type": "stream",
     "text": [
      "Wall time: 0 ns\n",
      "RANDOM FOREST\n",
      "TRAIN AND VALIDATION SETS:\n",
      "1 of KFold 10\n",
      "ROC AUC score: 0.6965732422232586\n",
      "2 of KFold 10\n",
      "ROC AUC score: 0.7109303419967575\n",
      "3 of KFold 10\n",
      "ROC AUC score: 0.7662185704243403\n",
      "4 of KFold 10\n",
      "ROC AUC score: 0.8511537397306448\n",
      "5 of KFold 10\n",
      "ROC AUC score: 0.8512936997851799\n",
      "6 of KFold 10\n",
      "ROC AUC score: 0.8489741064049002\n",
      "7 of KFold 10\n",
      "ROC AUC score: 0.8558900097747283\n",
      "8 of KFold 10\n",
      "ROC AUC score: 0.856875408066604\n",
      "9 of KFold 10\n",
      "ROC AUC score: 0.8466909713966538\n",
      "10 of KFold 10\n",
      "ROC AUC score: 0.8611376425166718\n",
      "\n",
      "CROSS VALIDANTION SUMMARY:\n",
      "Mean: 0.814573773231974\n",
      "Std deviation: 0.06129462433614487\n",
      "\n",
      "TEST SET:\n",
      "F1-Score(micro): 0.44210003723470276\n",
      "F1-Score(macro): 0.4359495801682902\n",
      "F1-Score(weighted): 0.47095406343255963\n",
      "F1-Score(None): [0.49484922 0.37704994]\n",
      "Accuracy: 0.44210003723470276\n",
      "Sensitivity: 0.8323475423210279\n",
      "Specificity: 0.34279634627361427\n",
      "Confusion Matrix: [0.34279634627361427, 0.83]\n",
      "ROC AUC score: 0.5875719442973211\n",
      "Wall time: 2min 32s\n"
     ]
    }
   ],
   "source": [
    "%%time\n",
    "RandomForest_NoIloc(X_ADA, y_ADA, X_test, y_test)"
   ]
  },
  {
   "cell_type": "code",
   "execution_count": 43,
   "metadata": {},
   "outputs": [
    {
     "name": "stdout",
     "output_type": "stream",
     "text": [
      "Wall time: 0 ns\n",
      "NEURAL NETWORK\n",
      "TRAIN AND VALIDATION SETS:\n",
      "1 of KFold 10\n"
     ]
    },
    {
     "name": "stderr",
     "output_type": "stream",
     "text": [
      "C:\\Users\\cristiano.melo\\AppData\\Local\\Continuum\\anaconda3\\lib\\site-packages\\sklearn\\neural_network\\multilayer_perceptron.py:566: ConvergenceWarning: Stochastic Optimizer: Maximum iterations (200) reached and the optimization hasn't converged yet.\n",
      "  % self.max_iter, ConvergenceWarning)\n"
     ]
    },
    {
     "name": "stdout",
     "output_type": "stream",
     "text": [
      "ROC AUC score: 0.6481271721097586\n",
      "2 of KFold 10\n"
     ]
    },
    {
     "name": "stderr",
     "output_type": "stream",
     "text": [
      "C:\\Users\\cristiano.melo\\AppData\\Local\\Continuum\\anaconda3\\lib\\site-packages\\sklearn\\neural_network\\multilayer_perceptron.py:566: ConvergenceWarning: Stochastic Optimizer: Maximum iterations (200) reached and the optimization hasn't converged yet.\n",
      "  % self.max_iter, ConvergenceWarning)\n"
     ]
    },
    {
     "name": "stdout",
     "output_type": "stream",
     "text": [
      "ROC AUC score: 0.652221964921119\n",
      "3 of KFold 10\n"
     ]
    },
    {
     "name": "stderr",
     "output_type": "stream",
     "text": [
      "C:\\Users\\cristiano.melo\\AppData\\Local\\Continuum\\anaconda3\\lib\\site-packages\\sklearn\\neural_network\\multilayer_perceptron.py:566: ConvergenceWarning: Stochastic Optimizer: Maximum iterations (200) reached and the optimization hasn't converged yet.\n",
      "  % self.max_iter, ConvergenceWarning)\n"
     ]
    },
    {
     "name": "stdout",
     "output_type": "stream",
     "text": [
      "ROC AUC score: 0.62678149717588\n",
      "4 of KFold 10\n"
     ]
    },
    {
     "name": "stderr",
     "output_type": "stream",
     "text": [
      "C:\\Users\\cristiano.melo\\AppData\\Local\\Continuum\\anaconda3\\lib\\site-packages\\sklearn\\neural_network\\multilayer_perceptron.py:566: ConvergenceWarning: Stochastic Optimizer: Maximum iterations (200) reached and the optimization hasn't converged yet.\n",
      "  % self.max_iter, ConvergenceWarning)\n"
     ]
    },
    {
     "name": "stdout",
     "output_type": "stream",
     "text": [
      "ROC AUC score: 0.6198698753842361\n",
      "5 of KFold 10\n"
     ]
    },
    {
     "name": "stderr",
     "output_type": "stream",
     "text": [
      "C:\\Users\\cristiano.melo\\AppData\\Local\\Continuum\\anaconda3\\lib\\site-packages\\sklearn\\neural_network\\multilayer_perceptron.py:566: ConvergenceWarning: Stochastic Optimizer: Maximum iterations (200) reached and the optimization hasn't converged yet.\n",
      "  % self.max_iter, ConvergenceWarning)\n"
     ]
    },
    {
     "name": "stdout",
     "output_type": "stream",
     "text": [
      "ROC AUC score: 0.6257845711899623\n",
      "6 of KFold 10\n"
     ]
    },
    {
     "name": "stderr",
     "output_type": "stream",
     "text": [
      "C:\\Users\\cristiano.melo\\AppData\\Local\\Continuum\\anaconda3\\lib\\site-packages\\sklearn\\neural_network\\multilayer_perceptron.py:566: ConvergenceWarning: Stochastic Optimizer: Maximum iterations (200) reached and the optimization hasn't converged yet.\n",
      "  % self.max_iter, ConvergenceWarning)\n"
     ]
    },
    {
     "name": "stdout",
     "output_type": "stream",
     "text": [
      "ROC AUC score: 0.6146232955553291\n",
      "7 of KFold 10\n"
     ]
    },
    {
     "name": "stderr",
     "output_type": "stream",
     "text": [
      "C:\\Users\\cristiano.melo\\AppData\\Local\\Continuum\\anaconda3\\lib\\site-packages\\sklearn\\neural_network\\multilayer_perceptron.py:566: ConvergenceWarning: Stochastic Optimizer: Maximum iterations (200) reached and the optimization hasn't converged yet.\n",
      "  % self.max_iter, ConvergenceWarning)\n"
     ]
    },
    {
     "name": "stdout",
     "output_type": "stream",
     "text": [
      "ROC AUC score: 0.6389356490759296\n",
      "8 of KFold 10\n"
     ]
    },
    {
     "name": "stderr",
     "output_type": "stream",
     "text": [
      "C:\\Users\\cristiano.melo\\AppData\\Local\\Continuum\\anaconda3\\lib\\site-packages\\sklearn\\neural_network\\multilayer_perceptron.py:566: ConvergenceWarning: Stochastic Optimizer: Maximum iterations (200) reached and the optimization hasn't converged yet.\n",
      "  % self.max_iter, ConvergenceWarning)\n"
     ]
    },
    {
     "name": "stdout",
     "output_type": "stream",
     "text": [
      "ROC AUC score: 0.6505718027391882\n",
      "9 of KFold 10\n"
     ]
    },
    {
     "name": "stderr",
     "output_type": "stream",
     "text": [
      "C:\\Users\\cristiano.melo\\AppData\\Local\\Continuum\\anaconda3\\lib\\site-packages\\sklearn\\neural_network\\multilayer_perceptron.py:566: ConvergenceWarning: Stochastic Optimizer: Maximum iterations (200) reached and the optimization hasn't converged yet.\n",
      "  % self.max_iter, ConvergenceWarning)\n"
     ]
    },
    {
     "name": "stdout",
     "output_type": "stream",
     "text": [
      "ROC AUC score: 0.6414296766791587\n",
      "10 of KFold 10\n"
     ]
    },
    {
     "name": "stderr",
     "output_type": "stream",
     "text": [
      "C:\\Users\\cristiano.melo\\AppData\\Local\\Continuum\\anaconda3\\lib\\site-packages\\sklearn\\neural_network\\multilayer_perceptron.py:566: ConvergenceWarning: Stochastic Optimizer: Maximum iterations (200) reached and the optimization hasn't converged yet.\n",
      "  % self.max_iter, ConvergenceWarning)\n"
     ]
    },
    {
     "name": "stdout",
     "output_type": "stream",
     "text": [
      "ROC AUC score: 0.6484437047352709\n",
      "\n",
      "CROSS VALIDANTION SUMMARY:\n",
      "Mean: 0.6366789209565832\n",
      "Std deviation: 0.013104861512815019\n",
      "\n",
      "TEST SET:\n",
      "F1-Score(micro): 0.7086591369823342\n",
      "F1-Score(macro): 0.6147657697269174\n",
      "F1-Score(weighted): 0.7277950348424845\n",
      "F1-Score(None): [0.80495236 0.42457918]\n",
      "Accuracy: 0.7086591369823342\n",
      "Sensitivity: 0.5298796655109117\n",
      "Specificity: 0.7541519618019514\n",
      "Confusion Matrix: [0.7541519618019514, 0.53]\n",
      "ROC AUC score: 0.6420158136564316\n",
      "Wall time: 21min 3s\n"
     ]
    }
   ],
   "source": [
    "%%time\n",
    "NN_NoIloc(X_ADA, y_ADA, X_test, y_test)"
   ]
  }
 ],
 "metadata": {
  "kernelspec": {
   "display_name": "Python 3",
   "language": "python",
   "name": "python3"
  },
  "language_info": {
   "codemirror_mode": {
    "name": "ipython",
    "version": 3
   },
   "file_extension": ".py",
   "mimetype": "text/x-python",
   "name": "python",
   "nbconvert_exporter": "python",
   "pygments_lexer": "ipython3",
   "version": "3.6.8"
  }
 },
 "nbformat": 4,
 "nbformat_minor": 2
}
